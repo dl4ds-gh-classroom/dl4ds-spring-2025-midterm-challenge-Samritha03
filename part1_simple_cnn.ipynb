{
 "cells": [
  {
   "cell_type": "markdown",
   "id": "3786a02b-e590-4746-988a-470449746de4",
   "metadata": {},
   "source": [
    "# DS542 Midterm Part-1"
   ]
  },
  {
   "cell_type": "markdown",
   "id": "b4395e8b-ca4d-4252-b90a-24be0ca93a4e",
   "metadata": {},
   "source": [
    "### Baseline Model – Simple CNN \n",
    "#### (2-layer CNN)"
   ]
  },
  {
   "cell_type": "code",
   "execution_count": 1,
   "id": "3a543fe1-bd57-4fb3-a44e-1c7aea2ba733",
   "metadata": {},
   "outputs": [
    {
     "name": "stderr",
     "output_type": "stream",
     "text": [
      "Failed to detect the name of this notebook, you can set it manually with the WANDB_NOTEBOOK_NAME environment variable to enable code saving.\n",
      "\u001b[34m\u001b[1mwandb\u001b[0m: Using wandb-core as the SDK backend.  Please refer to https://wandb.me/wandb-core for more information.\n",
      "\u001b[34m\u001b[1mwandb\u001b[0m: Currently logged in as: \u001b[33msamritha\u001b[0m (\u001b[33msamritha-boston-university\u001b[0m) to \u001b[32mhttps://api.wandb.ai\u001b[0m. Use \u001b[1m`wandb login --relogin`\u001b[0m to force relogin\n"
     ]
    },
    {
     "data": {
      "text/html": [
       "Tracking run with wandb version 0.19.8"
      ],
      "text/plain": [
       "<IPython.core.display.HTML object>"
      ]
     },
     "metadata": {},
     "output_type": "display_data"
    },
    {
     "data": {
      "text/html": [
       "Run data is saved locally in <code>/usr4/dl4ds/samritha/wandb/run-20250329_130313-azk6unsy</code>"
      ],
      "text/plain": [
       "<IPython.core.display.HTML object>"
      ]
     },
     "metadata": {},
     "output_type": "display_data"
    },
    {
     "data": {
      "text/html": [
       "Syncing run <strong><a href='https://wandb.ai/samritha-boston-university/sp25-ds542-challenge/runs/azk6unsy' target=\"_blank\">Simple CNN</a></strong> to <a href='https://wandb.ai/samritha-boston-university/sp25-ds542-challenge' target=\"_blank\">Weights & Biases</a> (<a href='https://wandb.me/developer-guide' target=\"_blank\">docs</a>)<br>"
      ],
      "text/plain": [
       "<IPython.core.display.HTML object>"
      ]
     },
     "metadata": {},
     "output_type": "display_data"
    },
    {
     "data": {
      "text/html": [
       " View project at <a href='https://wandb.ai/samritha-boston-university/sp25-ds542-challenge' target=\"_blank\">https://wandb.ai/samritha-boston-university/sp25-ds542-challenge</a>"
      ],
      "text/plain": [
       "<IPython.core.display.HTML object>"
      ]
     },
     "metadata": {},
     "output_type": "display_data"
    },
    {
     "data": {
      "text/html": [
       " View run at <a href='https://wandb.ai/samritha-boston-university/sp25-ds542-challenge/runs/azk6unsy' target=\"_blank\">https://wandb.ai/samritha-boston-university/sp25-ds542-challenge/runs/azk6unsy</a>"
      ],
      "text/plain": [
       "<IPython.core.display.HTML object>"
      ]
     },
     "metadata": {},
     "output_type": "display_data"
    },
    {
     "data": {
      "application/vnd.jupyter.widget-view+json": {
       "model_id": "4f7fe6b4ae9b406ebb14233e8f0eca4f",
       "version_major": 2,
       "version_minor": 0
      },
      "text/plain": [
       "Epoch 1/20 [Train]:   0%|          | 0/625 [00:00<?, ?it/s]"
      ]
     },
     "metadata": {},
     "output_type": "display_data"
    },
    {
     "data": {
      "application/vnd.jupyter.widget-view+json": {
       "model_id": "36204537772543f0ae569fec6048d11f",
       "version_major": 2,
       "version_minor": 0
      },
      "text/plain": [
       "[Validate]:   0%|          | 0/157 [00:00<?, ?it/s]"
      ]
     },
     "metadata": {},
     "output_type": "display_data"
    },
    {
     "data": {
      "application/vnd.jupyter.widget-view+json": {
       "model_id": "5394bd67d5514629b270c6d09adf4f83",
       "version_major": 2,
       "version_minor": 0
      },
      "text/plain": [
       "Epoch 2/20 [Train]:   0%|          | 0/625 [00:00<?, ?it/s]"
      ]
     },
     "metadata": {},
     "output_type": "display_data"
    },
    {
     "data": {
      "application/vnd.jupyter.widget-view+json": {
       "model_id": "b71fb7453f5f4ce7b404860ebead854c",
       "version_major": 2,
       "version_minor": 0
      },
      "text/plain": [
       "[Validate]:   0%|          | 0/157 [00:00<?, ?it/s]"
      ]
     },
     "metadata": {},
     "output_type": "display_data"
    },
    {
     "data": {
      "application/vnd.jupyter.widget-view+json": {
       "model_id": "3b6080a3592147299a5a7f5f74f356b7",
       "version_major": 2,
       "version_minor": 0
      },
      "text/plain": [
       "Epoch 3/20 [Train]:   0%|          | 0/625 [00:00<?, ?it/s]"
      ]
     },
     "metadata": {},
     "output_type": "display_data"
    },
    {
     "data": {
      "application/vnd.jupyter.widget-view+json": {
       "model_id": "ebc3bc83e9f6458da19e3c2ff9544959",
       "version_major": 2,
       "version_minor": 0
      },
      "text/plain": [
       "[Validate]:   0%|          | 0/157 [00:00<?, ?it/s]"
      ]
     },
     "metadata": {},
     "output_type": "display_data"
    },
    {
     "data": {
      "application/vnd.jupyter.widget-view+json": {
       "model_id": "bc3c34aa4d864a8497a6a10570ed2434",
       "version_major": 2,
       "version_minor": 0
      },
      "text/plain": [
       "Epoch 4/20 [Train]:   0%|          | 0/625 [00:00<?, ?it/s]"
      ]
     },
     "metadata": {},
     "output_type": "display_data"
    },
    {
     "data": {
      "application/vnd.jupyter.widget-view+json": {
       "model_id": "39b03b315d2e4dd79c643184010c49da",
       "version_major": 2,
       "version_minor": 0
      },
      "text/plain": [
       "[Validate]:   0%|          | 0/157 [00:00<?, ?it/s]"
      ]
     },
     "metadata": {},
     "output_type": "display_data"
    },
    {
     "data": {
      "application/vnd.jupyter.widget-view+json": {
       "model_id": "e31fb4cf88104006a5f4c9c32526f2f5",
       "version_major": 2,
       "version_minor": 0
      },
      "text/plain": [
       "Epoch 5/20 [Train]:   0%|          | 0/625 [00:00<?, ?it/s]"
      ]
     },
     "metadata": {},
     "output_type": "display_data"
    },
    {
     "data": {
      "application/vnd.jupyter.widget-view+json": {
       "model_id": "66761fbee0294840855a9088b61c8b1f",
       "version_major": 2,
       "version_minor": 0
      },
      "text/plain": [
       "[Validate]:   0%|          | 0/157 [00:00<?, ?it/s]"
      ]
     },
     "metadata": {},
     "output_type": "display_data"
    },
    {
     "data": {
      "application/vnd.jupyter.widget-view+json": {
       "model_id": "d3abaf99363f422c9f09250523de4ada",
       "version_major": 2,
       "version_minor": 0
      },
      "text/plain": [
       "Epoch 6/20 [Train]:   0%|          | 0/625 [00:00<?, ?it/s]"
      ]
     },
     "metadata": {},
     "output_type": "display_data"
    },
    {
     "data": {
      "application/vnd.jupyter.widget-view+json": {
       "model_id": "5e387d779bec4bd2b6fea2f438846761",
       "version_major": 2,
       "version_minor": 0
      },
      "text/plain": [
       "[Validate]:   0%|          | 0/157 [00:00<?, ?it/s]"
      ]
     },
     "metadata": {},
     "output_type": "display_data"
    },
    {
     "data": {
      "application/vnd.jupyter.widget-view+json": {
       "model_id": "42e0a496cf21455c88c5e59c80f69e2e",
       "version_major": 2,
       "version_minor": 0
      },
      "text/plain": [
       "Epoch 7/20 [Train]:   0%|          | 0/625 [00:00<?, ?it/s]"
      ]
     },
     "metadata": {},
     "output_type": "display_data"
    },
    {
     "data": {
      "application/vnd.jupyter.widget-view+json": {
       "model_id": "cab6ae9414c34f87ac823649d7ba94c6",
       "version_major": 2,
       "version_minor": 0
      },
      "text/plain": [
       "[Validate]:   0%|          | 0/157 [00:00<?, ?it/s]"
      ]
     },
     "metadata": {},
     "output_type": "display_data"
    },
    {
     "data": {
      "application/vnd.jupyter.widget-view+json": {
       "model_id": "d2df332fe5ee4eaba4d519b37e8062f3",
       "version_major": 2,
       "version_minor": 0
      },
      "text/plain": [
       "Epoch 8/20 [Train]:   0%|          | 0/625 [00:00<?, ?it/s]"
      ]
     },
     "metadata": {},
     "output_type": "display_data"
    },
    {
     "data": {
      "application/vnd.jupyter.widget-view+json": {
       "model_id": "f0ac45bb08dc4ffd9f13de7cc8405e76",
       "version_major": 2,
       "version_minor": 0
      },
      "text/plain": [
       "[Validate]:   0%|          | 0/157 [00:00<?, ?it/s]"
      ]
     },
     "metadata": {},
     "output_type": "display_data"
    },
    {
     "data": {
      "application/vnd.jupyter.widget-view+json": {
       "model_id": "60cc557c0212483fa915fe05fc60cdeb",
       "version_major": 2,
       "version_minor": 0
      },
      "text/plain": [
       "Epoch 9/20 [Train]:   0%|          | 0/625 [00:00<?, ?it/s]"
      ]
     },
     "metadata": {},
     "output_type": "display_data"
    },
    {
     "data": {
      "application/vnd.jupyter.widget-view+json": {
       "model_id": "e950b0738a0e44c8a1167fe9012c31eb",
       "version_major": 2,
       "version_minor": 0
      },
      "text/plain": [
       "[Validate]:   0%|          | 0/157 [00:00<?, ?it/s]"
      ]
     },
     "metadata": {},
     "output_type": "display_data"
    },
    {
     "data": {
      "application/vnd.jupyter.widget-view+json": {
       "model_id": "b98280810b9f49149c234cefe3be4d46",
       "version_major": 2,
       "version_minor": 0
      },
      "text/plain": [
       "Epoch 10/20 [Train]:   0%|          | 0/625 [00:00<?, ?it/s]"
      ]
     },
     "metadata": {},
     "output_type": "display_data"
    },
    {
     "data": {
      "application/vnd.jupyter.widget-view+json": {
       "model_id": "bce9bf103d17493f971e4a0735e9b7cd",
       "version_major": 2,
       "version_minor": 0
      },
      "text/plain": [
       "[Validate]:   0%|          | 0/157 [00:00<?, ?it/s]"
      ]
     },
     "metadata": {},
     "output_type": "display_data"
    },
    {
     "data": {
      "application/vnd.jupyter.widget-view+json": {
       "model_id": "19026bde8dcd45ca98957429c936469e",
       "version_major": 2,
       "version_minor": 0
      },
      "text/plain": [
       "Epoch 11/20 [Train]:   0%|          | 0/625 [00:00<?, ?it/s]"
      ]
     },
     "metadata": {},
     "output_type": "display_data"
    },
    {
     "data": {
      "application/vnd.jupyter.widget-view+json": {
       "model_id": "54af29627b624ea88fd5929d38c05358",
       "version_major": 2,
       "version_minor": 0
      },
      "text/plain": [
       "[Validate]:   0%|          | 0/157 [00:00<?, ?it/s]"
      ]
     },
     "metadata": {},
     "output_type": "display_data"
    },
    {
     "data": {
      "application/vnd.jupyter.widget-view+json": {
       "model_id": "c9846a31026c499eb9d76293c5be2930",
       "version_major": 2,
       "version_minor": 0
      },
      "text/plain": [
       "Epoch 12/20 [Train]:   0%|          | 0/625 [00:00<?, ?it/s]"
      ]
     },
     "metadata": {},
     "output_type": "display_data"
    },
    {
     "data": {
      "application/vnd.jupyter.widget-view+json": {
       "model_id": "c74b2ee63c914d3cba9d076feb7bfd92",
       "version_major": 2,
       "version_minor": 0
      },
      "text/plain": [
       "[Validate]:   0%|          | 0/157 [00:00<?, ?it/s]"
      ]
     },
     "metadata": {},
     "output_type": "display_data"
    },
    {
     "data": {
      "application/vnd.jupyter.widget-view+json": {
       "model_id": "05ce9597d9264a7e9399679dc7897f10",
       "version_major": 2,
       "version_minor": 0
      },
      "text/plain": [
       "Epoch 13/20 [Train]:   0%|          | 0/625 [00:00<?, ?it/s]"
      ]
     },
     "metadata": {},
     "output_type": "display_data"
    },
    {
     "data": {
      "application/vnd.jupyter.widget-view+json": {
       "model_id": "cea3953bd8b9429ab9cfcc23d539014a",
       "version_major": 2,
       "version_minor": 0
      },
      "text/plain": [
       "[Validate]:   0%|          | 0/157 [00:00<?, ?it/s]"
      ]
     },
     "metadata": {},
     "output_type": "display_data"
    },
    {
     "data": {
      "application/vnd.jupyter.widget-view+json": {
       "model_id": "f2098236dd8043eea4cb8a64c148da71",
       "version_major": 2,
       "version_minor": 0
      },
      "text/plain": [
       "Epoch 14/20 [Train]:   0%|          | 0/625 [00:00<?, ?it/s]"
      ]
     },
     "metadata": {},
     "output_type": "display_data"
    },
    {
     "data": {
      "application/vnd.jupyter.widget-view+json": {
       "model_id": "df8031db59904c28b6aefb790779aebf",
       "version_major": 2,
       "version_minor": 0
      },
      "text/plain": [
       "[Validate]:   0%|          | 0/157 [00:00<?, ?it/s]"
      ]
     },
     "metadata": {},
     "output_type": "display_data"
    },
    {
     "data": {
      "application/vnd.jupyter.widget-view+json": {
       "model_id": "4e3340e3e8c54d99b1ff606f6c22e7e5",
       "version_major": 2,
       "version_minor": 0
      },
      "text/plain": [
       "Epoch 15/20 [Train]:   0%|          | 0/625 [00:00<?, ?it/s]"
      ]
     },
     "metadata": {},
     "output_type": "display_data"
    },
    {
     "data": {
      "application/vnd.jupyter.widget-view+json": {
       "model_id": "09a1d8d8a9ec4c5f9c785a67733b47fa",
       "version_major": 2,
       "version_minor": 0
      },
      "text/plain": [
       "[Validate]:   0%|          | 0/157 [00:00<?, ?it/s]"
      ]
     },
     "metadata": {},
     "output_type": "display_data"
    },
    {
     "data": {
      "application/vnd.jupyter.widget-view+json": {
       "model_id": "47e1bc1f128046f294c4fba0550866d0",
       "version_major": 2,
       "version_minor": 0
      },
      "text/plain": [
       "Epoch 16/20 [Train]:   0%|          | 0/625 [00:00<?, ?it/s]"
      ]
     },
     "metadata": {},
     "output_type": "display_data"
    },
    {
     "data": {
      "application/vnd.jupyter.widget-view+json": {
       "model_id": "ff45d71bb5aa4d1d9ccb69632182eb85",
       "version_major": 2,
       "version_minor": 0
      },
      "text/plain": [
       "[Validate]:   0%|          | 0/157 [00:00<?, ?it/s]"
      ]
     },
     "metadata": {},
     "output_type": "display_data"
    },
    {
     "data": {
      "application/vnd.jupyter.widget-view+json": {
       "model_id": "c9b940d5fc674027a8c1e158d1990fc6",
       "version_major": 2,
       "version_minor": 0
      },
      "text/plain": [
       "Epoch 17/20 [Train]:   0%|          | 0/625 [00:00<?, ?it/s]"
      ]
     },
     "metadata": {},
     "output_type": "display_data"
    },
    {
     "data": {
      "application/vnd.jupyter.widget-view+json": {
       "model_id": "be008ff786bc46509ddb7f286c3f6b79",
       "version_major": 2,
       "version_minor": 0
      },
      "text/plain": [
       "[Validate]:   0%|          | 0/157 [00:00<?, ?it/s]"
      ]
     },
     "metadata": {},
     "output_type": "display_data"
    },
    {
     "data": {
      "application/vnd.jupyter.widget-view+json": {
       "model_id": "a3babe8d145d4e8faf68cb3364fc6b4b",
       "version_major": 2,
       "version_minor": 0
      },
      "text/plain": [
       "Epoch 18/20 [Train]:   0%|          | 0/625 [00:00<?, ?it/s]"
      ]
     },
     "metadata": {},
     "output_type": "display_data"
    },
    {
     "data": {
      "application/vnd.jupyter.widget-view+json": {
       "model_id": "cfde02ff15a84058b3a25cd32c69f824",
       "version_major": 2,
       "version_minor": 0
      },
      "text/plain": [
       "[Validate]:   0%|          | 0/157 [00:00<?, ?it/s]"
      ]
     },
     "metadata": {},
     "output_type": "display_data"
    },
    {
     "data": {
      "application/vnd.jupyter.widget-view+json": {
       "model_id": "734897258cc64f9b8cfcd66fe738f5ec",
       "version_major": 2,
       "version_minor": 0
      },
      "text/plain": [
       "Epoch 19/20 [Train]:   0%|          | 0/625 [00:00<?, ?it/s]"
      ]
     },
     "metadata": {},
     "output_type": "display_data"
    },
    {
     "data": {
      "application/vnd.jupyter.widget-view+json": {
       "model_id": "6eb3b18321e14d1393d584a0e7a35147",
       "version_major": 2,
       "version_minor": 0
      },
      "text/plain": [
       "[Validate]:   0%|          | 0/157 [00:00<?, ?it/s]"
      ]
     },
     "metadata": {},
     "output_type": "display_data"
    },
    {
     "data": {
      "application/vnd.jupyter.widget-view+json": {
       "model_id": "c10bb9e5777f42338a5e0ee62dfcfcb8",
       "version_major": 2,
       "version_minor": 0
      },
      "text/plain": [
       "Epoch 20/20 [Train]:   0%|          | 0/625 [00:00<?, ?it/s]"
      ]
     },
     "metadata": {},
     "output_type": "display_data"
    },
    {
     "data": {
      "application/vnd.jupyter.widget-view+json": {
       "model_id": "82d33fddc711469eb8d2b0fcd793f019",
       "version_major": 2,
       "version_minor": 0
      },
      "text/plain": [
       "[Validate]:   0%|          | 0/157 [00:00<?, ?it/s]"
      ]
     },
     "metadata": {},
     "output_type": "display_data"
    },
    {
     "data": {
      "text/html": [],
      "text/plain": [
       "<IPython.core.display.HTML object>"
      ]
     },
     "metadata": {},
     "output_type": "display_data"
    },
    {
     "data": {
      "text/html": [
       "<br>    <style><br>        .wandb-row {<br>            display: flex;<br>            flex-direction: row;<br>            flex-wrap: wrap;<br>            justify-content: flex-start;<br>            width: 100%;<br>        }<br>        .wandb-col {<br>            display: flex;<br>            flex-direction: column;<br>            flex-basis: 100%;<br>            flex: 1;<br>            padding: 10px;<br>        }<br>    </style><br><div class=\"wandb-row\"><div class=\"wandb-col\"><h3>Run history:</h3><br/><table class=\"wandb\"><tr><td>epoch</td><td>▁▁▂▂▂▃▃▄▄▄▅▅▅▆▆▇▇▇██</td></tr><tr><td>lr</td><td>█████████▂▂▂▂▂▂▂▂▂▂▁</td></tr><tr><td>train_acc</td><td>▁▂▃▄▅▅▅▆▆▆▇▇████████</td></tr><tr><td>train_loss</td><td>█▆▅▅▄▄▃▃▃▂▂▁▁▁▁▁▁▁▁▁</td></tr><tr><td>val_acc</td><td>▁▂▄▄▅▅▆▆▆▆▇█████████</td></tr><tr><td>val_loss</td><td>█▆▅▄▄▃▃▃▃▂▁▁▁▁▁▁▁▁▁▁</td></tr></table><br/></div><div class=\"wandb-col\"><h3>Run summary:</h3><br/><table class=\"wandb\"><tr><td>epoch</td><td>20</td></tr><tr><td>lr</td><td>0.0001</td></tr><tr><td>train_acc</td><td>47.765</td></tr><tr><td>train_loss</td><td>1.9653</td></tr><tr><td>val_acc</td><td>41.29</td></tr><tr><td>val_loss</td><td>2.26856</td></tr></table><br/></div></div>"
      ],
      "text/plain": [
       "<IPython.core.display.HTML object>"
      ]
     },
     "metadata": {},
     "output_type": "display_data"
    },
    {
     "data": {
      "text/html": [
       " View run <strong style=\"color:#cdcd00\">Simple CNN</strong> at: <a href='https://wandb.ai/samritha-boston-university/sp25-ds542-challenge/runs/azk6unsy' target=\"_blank\">https://wandb.ai/samritha-boston-university/sp25-ds542-challenge/runs/azk6unsy</a><br> View project at: <a href='https://wandb.ai/samritha-boston-university/sp25-ds542-challenge' target=\"_blank\">https://wandb.ai/samritha-boston-university/sp25-ds542-challenge</a><br>Synced 5 W&B file(s), 0 media file(s), 0 artifact file(s) and 1 other file(s)"
      ],
      "text/plain": [
       "<IPython.core.display.HTML object>"
      ]
     },
     "metadata": {},
     "output_type": "display_data"
    },
    {
     "data": {
      "text/html": [
       "Find logs at: <code>./wandb/run-20250329_130313-azk6unsy/logs</code>"
      ],
      "text/plain": [
       "<IPython.core.display.HTML object>"
      ]
     },
     "metadata": {},
     "output_type": "display_data"
    },
    {
     "data": {
      "application/vnd.jupyter.widget-view+json": {
       "model_id": "87fb683b510349faa236cacf5aada478",
       "version_major": 2,
       "version_minor": 0
      },
      "text/plain": [
       "Evaluating on Clean Test Set:   0%|          | 0/157 [00:00<?, ?it/s]"
      ]
     },
     "metadata": {},
     "output_type": "display_data"
    },
    {
     "name": "stdout",
     "output_type": "stream",
     "text": [
      "Clean CIFAR-100 Test Accuracy: 45.67%\n",
      "All files are already downloaded.\n"
     ]
    },
    {
     "data": {
      "application/vnd.jupyter.widget-view+json": {
       "model_id": "1df4ec2d7a0d4f3e9208f2cfa23d0e3b",
       "version_major": 2,
       "version_minor": 0
      },
      "text/plain": [
       "Evaluating distortion00 (Severity 1):   0%|          | 0/157 [00:00<?, ?it/s]"
      ]
     },
     "metadata": {},
     "output_type": "display_data"
    },
    {
     "name": "stdout",
     "output_type": "stream",
     "text": [
      "distortion00 (Severity 1)\n"
     ]
    },
    {
     "data": {
      "application/vnd.jupyter.widget-view+json": {
       "model_id": "2ca7f2f0774a4bbdaf86e6b27dc5db8e",
       "version_major": 2,
       "version_minor": 0
      },
      "text/plain": [
       "Evaluating distortion00 (Severity 2):   0%|          | 0/157 [00:00<?, ?it/s]"
      ]
     },
     "metadata": {},
     "output_type": "display_data"
    },
    {
     "name": "stdout",
     "output_type": "stream",
     "text": [
      "distortion00 (Severity 2)\n"
     ]
    },
    {
     "data": {
      "application/vnd.jupyter.widget-view+json": {
       "model_id": "0c53b0b98aea4e318123f5caed7be384",
       "version_major": 2,
       "version_minor": 0
      },
      "text/plain": [
       "Evaluating distortion00 (Severity 3):   0%|          | 0/157 [00:00<?, ?it/s]"
      ]
     },
     "metadata": {},
     "output_type": "display_data"
    },
    {
     "name": "stdout",
     "output_type": "stream",
     "text": [
      "distortion00 (Severity 3)\n"
     ]
    },
    {
     "data": {
      "application/vnd.jupyter.widget-view+json": {
       "model_id": "801a2438f9df4c189557a9bf6066fdef",
       "version_major": 2,
       "version_minor": 0
      },
      "text/plain": [
       "Evaluating distortion00 (Severity 4):   0%|          | 0/157 [00:00<?, ?it/s]"
      ]
     },
     "metadata": {},
     "output_type": "display_data"
    },
    {
     "name": "stdout",
     "output_type": "stream",
     "text": [
      "distortion00 (Severity 4)\n"
     ]
    },
    {
     "data": {
      "application/vnd.jupyter.widget-view+json": {
       "model_id": "ebbc9316b8c04040b85a4b8b9b51b5e2",
       "version_major": 2,
       "version_minor": 0
      },
      "text/plain": [
       "Evaluating distortion00 (Severity 5):   0%|          | 0/157 [00:00<?, ?it/s]"
      ]
     },
     "metadata": {},
     "output_type": "display_data"
    },
    {
     "name": "stdout",
     "output_type": "stream",
     "text": [
      "distortion00 (Severity 5)\n"
     ]
    },
    {
     "data": {
      "application/vnd.jupyter.widget-view+json": {
       "model_id": "20b09e46f8f04a16b7821fc11e38fc07",
       "version_major": 2,
       "version_minor": 0
      },
      "text/plain": [
       "Evaluating distortion01 (Severity 1):   0%|          | 0/157 [00:00<?, ?it/s]"
      ]
     },
     "metadata": {},
     "output_type": "display_data"
    },
    {
     "name": "stdout",
     "output_type": "stream",
     "text": [
      "distortion01 (Severity 1)\n"
     ]
    },
    {
     "data": {
      "application/vnd.jupyter.widget-view+json": {
       "model_id": "0d8f8b1f77b940af9f57c2e4516e699c",
       "version_major": 2,
       "version_minor": 0
      },
      "text/plain": [
       "Evaluating distortion01 (Severity 2):   0%|          | 0/157 [00:00<?, ?it/s]"
      ]
     },
     "metadata": {},
     "output_type": "display_data"
    },
    {
     "name": "stdout",
     "output_type": "stream",
     "text": [
      "distortion01 (Severity 2)\n"
     ]
    },
    {
     "data": {
      "application/vnd.jupyter.widget-view+json": {
       "model_id": "23f999427eab49969c3a3fcb30dd9c5b",
       "version_major": 2,
       "version_minor": 0
      },
      "text/plain": [
       "Evaluating distortion01 (Severity 3):   0%|          | 0/157 [00:00<?, ?it/s]"
      ]
     },
     "metadata": {},
     "output_type": "display_data"
    },
    {
     "name": "stdout",
     "output_type": "stream",
     "text": [
      "distortion01 (Severity 3)\n"
     ]
    },
    {
     "data": {
      "application/vnd.jupyter.widget-view+json": {
       "model_id": "371e5302cb50489088ee69ab988944c5",
       "version_major": 2,
       "version_minor": 0
      },
      "text/plain": [
       "Evaluating distortion01 (Severity 4):   0%|          | 0/157 [00:00<?, ?it/s]"
      ]
     },
     "metadata": {},
     "output_type": "display_data"
    },
    {
     "name": "stdout",
     "output_type": "stream",
     "text": [
      "distortion01 (Severity 4)\n"
     ]
    },
    {
     "data": {
      "application/vnd.jupyter.widget-view+json": {
       "model_id": "428c6f3065634a48ba84ac9fe3a73224",
       "version_major": 2,
       "version_minor": 0
      },
      "text/plain": [
       "Evaluating distortion01 (Severity 5):   0%|          | 0/157 [00:00<?, ?it/s]"
      ]
     },
     "metadata": {},
     "output_type": "display_data"
    },
    {
     "name": "stdout",
     "output_type": "stream",
     "text": [
      "distortion01 (Severity 5)\n"
     ]
    },
    {
     "data": {
      "application/vnd.jupyter.widget-view+json": {
       "model_id": "5d12f482be1b4f568fc0a57848c2d850",
       "version_major": 2,
       "version_minor": 0
      },
      "text/plain": [
       "Evaluating distortion02 (Severity 1):   0%|          | 0/157 [00:00<?, ?it/s]"
      ]
     },
     "metadata": {},
     "output_type": "display_data"
    },
    {
     "name": "stdout",
     "output_type": "stream",
     "text": [
      "distortion02 (Severity 1)\n"
     ]
    },
    {
     "data": {
      "application/vnd.jupyter.widget-view+json": {
       "model_id": "98897258fe05417baedca360f7b7ffa8",
       "version_major": 2,
       "version_minor": 0
      },
      "text/plain": [
       "Evaluating distortion02 (Severity 2):   0%|          | 0/157 [00:00<?, ?it/s]"
      ]
     },
     "metadata": {},
     "output_type": "display_data"
    },
    {
     "name": "stdout",
     "output_type": "stream",
     "text": [
      "distortion02 (Severity 2)\n"
     ]
    },
    {
     "data": {
      "application/vnd.jupyter.widget-view+json": {
       "model_id": "d9efcdc69aaf4bc599f2c21b02cfa5e4",
       "version_major": 2,
       "version_minor": 0
      },
      "text/plain": [
       "Evaluating distortion02 (Severity 3):   0%|          | 0/157 [00:00<?, ?it/s]"
      ]
     },
     "metadata": {},
     "output_type": "display_data"
    },
    {
     "name": "stdout",
     "output_type": "stream",
     "text": [
      "distortion02 (Severity 3)\n"
     ]
    },
    {
     "data": {
      "application/vnd.jupyter.widget-view+json": {
       "model_id": "59a41724a7a54bbeaa6731df05441107",
       "version_major": 2,
       "version_minor": 0
      },
      "text/plain": [
       "Evaluating distortion02 (Severity 4):   0%|          | 0/157 [00:00<?, ?it/s]"
      ]
     },
     "metadata": {},
     "output_type": "display_data"
    },
    {
     "name": "stdout",
     "output_type": "stream",
     "text": [
      "distortion02 (Severity 4)\n"
     ]
    },
    {
     "data": {
      "application/vnd.jupyter.widget-view+json": {
       "model_id": "228b388332db43a7a61b1de2c9789666",
       "version_major": 2,
       "version_minor": 0
      },
      "text/plain": [
       "Evaluating distortion02 (Severity 5):   0%|          | 0/157 [00:00<?, ?it/s]"
      ]
     },
     "metadata": {},
     "output_type": "display_data"
    },
    {
     "name": "stdout",
     "output_type": "stream",
     "text": [
      "distortion02 (Severity 5)\n"
     ]
    },
    {
     "data": {
      "application/vnd.jupyter.widget-view+json": {
       "model_id": "12d00e3256f24a56b83f36669c0267ad",
       "version_major": 2,
       "version_minor": 0
      },
      "text/plain": [
       "Evaluating distortion03 (Severity 1):   0%|          | 0/157 [00:00<?, ?it/s]"
      ]
     },
     "metadata": {},
     "output_type": "display_data"
    },
    {
     "name": "stdout",
     "output_type": "stream",
     "text": [
      "distortion03 (Severity 1)\n"
     ]
    },
    {
     "data": {
      "application/vnd.jupyter.widget-view+json": {
       "model_id": "c4272b68c0084435a509d28e4d9b17d7",
       "version_major": 2,
       "version_minor": 0
      },
      "text/plain": [
       "Evaluating distortion03 (Severity 2):   0%|          | 0/157 [00:00<?, ?it/s]"
      ]
     },
     "metadata": {},
     "output_type": "display_data"
    },
    {
     "name": "stdout",
     "output_type": "stream",
     "text": [
      "distortion03 (Severity 2)\n"
     ]
    },
    {
     "data": {
      "application/vnd.jupyter.widget-view+json": {
       "model_id": "9a1775d4c59240a4a275be9292479a6e",
       "version_major": 2,
       "version_minor": 0
      },
      "text/plain": [
       "Evaluating distortion03 (Severity 3):   0%|          | 0/157 [00:00<?, ?it/s]"
      ]
     },
     "metadata": {},
     "output_type": "display_data"
    },
    {
     "name": "stdout",
     "output_type": "stream",
     "text": [
      "distortion03 (Severity 3)\n"
     ]
    },
    {
     "data": {
      "application/vnd.jupyter.widget-view+json": {
       "model_id": "9637654386114d8186cd0d62c7b587b1",
       "version_major": 2,
       "version_minor": 0
      },
      "text/plain": [
       "Evaluating distortion03 (Severity 4):   0%|          | 0/157 [00:00<?, ?it/s]"
      ]
     },
     "metadata": {},
     "output_type": "display_data"
    },
    {
     "name": "stdout",
     "output_type": "stream",
     "text": [
      "distortion03 (Severity 4)\n"
     ]
    },
    {
     "data": {
      "application/vnd.jupyter.widget-view+json": {
       "model_id": "b72e9647fd794ae685f43ced1d92c5af",
       "version_major": 2,
       "version_minor": 0
      },
      "text/plain": [
       "Evaluating distortion03 (Severity 5):   0%|          | 0/157 [00:00<?, ?it/s]"
      ]
     },
     "metadata": {},
     "output_type": "display_data"
    },
    {
     "name": "stdout",
     "output_type": "stream",
     "text": [
      "distortion03 (Severity 5)\n"
     ]
    },
    {
     "data": {
      "application/vnd.jupyter.widget-view+json": {
       "model_id": "b9f1238616234e1b981a2e22778e1630",
       "version_major": 2,
       "version_minor": 0
      },
      "text/plain": [
       "Evaluating distortion04 (Severity 1):   0%|          | 0/157 [00:00<?, ?it/s]"
      ]
     },
     "metadata": {},
     "output_type": "display_data"
    },
    {
     "name": "stdout",
     "output_type": "stream",
     "text": [
      "distortion04 (Severity 1)\n"
     ]
    },
    {
     "data": {
      "application/vnd.jupyter.widget-view+json": {
       "model_id": "36b74fab0c4a4ae08621ea8b2d0a2a06",
       "version_major": 2,
       "version_minor": 0
      },
      "text/plain": [
       "Evaluating distortion04 (Severity 2):   0%|          | 0/157 [00:00<?, ?it/s]"
      ]
     },
     "metadata": {},
     "output_type": "display_data"
    },
    {
     "name": "stdout",
     "output_type": "stream",
     "text": [
      "distortion04 (Severity 2)\n"
     ]
    },
    {
     "data": {
      "application/vnd.jupyter.widget-view+json": {
       "model_id": "c1777b2997c9488898090f0c1230794d",
       "version_major": 2,
       "version_minor": 0
      },
      "text/plain": [
       "Evaluating distortion04 (Severity 3):   0%|          | 0/157 [00:00<?, ?it/s]"
      ]
     },
     "metadata": {},
     "output_type": "display_data"
    },
    {
     "name": "stdout",
     "output_type": "stream",
     "text": [
      "distortion04 (Severity 3)\n"
     ]
    },
    {
     "data": {
      "application/vnd.jupyter.widget-view+json": {
       "model_id": "f6ae5e3a9b3f445bb87b446ec19d8849",
       "version_major": 2,
       "version_minor": 0
      },
      "text/plain": [
       "Evaluating distortion04 (Severity 4):   0%|          | 0/157 [00:00<?, ?it/s]"
      ]
     },
     "metadata": {},
     "output_type": "display_data"
    },
    {
     "name": "stdout",
     "output_type": "stream",
     "text": [
      "distortion04 (Severity 4)\n"
     ]
    },
    {
     "data": {
      "application/vnd.jupyter.widget-view+json": {
       "model_id": "b413a273f57943e88247830d3d02d2da",
       "version_major": 2,
       "version_minor": 0
      },
      "text/plain": [
       "Evaluating distortion04 (Severity 5):   0%|          | 0/157 [00:00<?, ?it/s]"
      ]
     },
     "metadata": {},
     "output_type": "display_data"
    },
    {
     "name": "stdout",
     "output_type": "stream",
     "text": [
      "distortion04 (Severity 5)\n"
     ]
    },
    {
     "data": {
      "application/vnd.jupyter.widget-view+json": {
       "model_id": "a8d1918c4028471ca48a8a6a3b5d883b",
       "version_major": 2,
       "version_minor": 0
      },
      "text/plain": [
       "Evaluating distortion05 (Severity 1):   0%|          | 0/157 [00:00<?, ?it/s]"
      ]
     },
     "metadata": {},
     "output_type": "display_data"
    },
    {
     "name": "stdout",
     "output_type": "stream",
     "text": [
      "distortion05 (Severity 1)\n"
     ]
    },
    {
     "data": {
      "application/vnd.jupyter.widget-view+json": {
       "model_id": "9353ffa5518b45b78fa7340c2a4e4b13",
       "version_major": 2,
       "version_minor": 0
      },
      "text/plain": [
       "Evaluating distortion05 (Severity 2):   0%|          | 0/157 [00:00<?, ?it/s]"
      ]
     },
     "metadata": {},
     "output_type": "display_data"
    },
    {
     "name": "stdout",
     "output_type": "stream",
     "text": [
      "distortion05 (Severity 2)\n"
     ]
    },
    {
     "data": {
      "application/vnd.jupyter.widget-view+json": {
       "model_id": "a6bb7151e8d54a559fb47a574ae6f363",
       "version_major": 2,
       "version_minor": 0
      },
      "text/plain": [
       "Evaluating distortion05 (Severity 3):   0%|          | 0/157 [00:00<?, ?it/s]"
      ]
     },
     "metadata": {},
     "output_type": "display_data"
    },
    {
     "name": "stdout",
     "output_type": "stream",
     "text": [
      "distortion05 (Severity 3)\n"
     ]
    },
    {
     "data": {
      "application/vnd.jupyter.widget-view+json": {
       "model_id": "7227ad7c135b4472a6d8bdee999c328e",
       "version_major": 2,
       "version_minor": 0
      },
      "text/plain": [
       "Evaluating distortion05 (Severity 4):   0%|          | 0/157 [00:00<?, ?it/s]"
      ]
     },
     "metadata": {},
     "output_type": "display_data"
    },
    {
     "name": "stdout",
     "output_type": "stream",
     "text": [
      "distortion05 (Severity 4)\n"
     ]
    },
    {
     "data": {
      "application/vnd.jupyter.widget-view+json": {
       "model_id": "017277d4ecdc422591dccda18a331e1c",
       "version_major": 2,
       "version_minor": 0
      },
      "text/plain": [
       "Evaluating distortion05 (Severity 5):   0%|          | 0/157 [00:00<?, ?it/s]"
      ]
     },
     "metadata": {},
     "output_type": "display_data"
    },
    {
     "name": "stdout",
     "output_type": "stream",
     "text": [
      "distortion05 (Severity 5)\n"
     ]
    },
    {
     "data": {
      "application/vnd.jupyter.widget-view+json": {
       "model_id": "c0baa0edecb742029285c743f8dc3a57",
       "version_major": 2,
       "version_minor": 0
      },
      "text/plain": [
       "Evaluating distortion06 (Severity 1):   0%|          | 0/157 [00:00<?, ?it/s]"
      ]
     },
     "metadata": {},
     "output_type": "display_data"
    },
    {
     "name": "stdout",
     "output_type": "stream",
     "text": [
      "distortion06 (Severity 1)\n"
     ]
    },
    {
     "data": {
      "application/vnd.jupyter.widget-view+json": {
       "model_id": "cc9909145bc34a3e860059a2a5b6f41a",
       "version_major": 2,
       "version_minor": 0
      },
      "text/plain": [
       "Evaluating distortion06 (Severity 2):   0%|          | 0/157 [00:00<?, ?it/s]"
      ]
     },
     "metadata": {},
     "output_type": "display_data"
    },
    {
     "name": "stdout",
     "output_type": "stream",
     "text": [
      "distortion06 (Severity 2)\n"
     ]
    },
    {
     "data": {
      "application/vnd.jupyter.widget-view+json": {
       "model_id": "f8ace163214e47469b154b8fe42cd3b9",
       "version_major": 2,
       "version_minor": 0
      },
      "text/plain": [
       "Evaluating distortion06 (Severity 3):   0%|          | 0/157 [00:00<?, ?it/s]"
      ]
     },
     "metadata": {},
     "output_type": "display_data"
    },
    {
     "name": "stdout",
     "output_type": "stream",
     "text": [
      "distortion06 (Severity 3)\n"
     ]
    },
    {
     "data": {
      "application/vnd.jupyter.widget-view+json": {
       "model_id": "e47bc897a25948c5812d7017c922fd35",
       "version_major": 2,
       "version_minor": 0
      },
      "text/plain": [
       "Evaluating distortion06 (Severity 4):   0%|          | 0/157 [00:00<?, ?it/s]"
      ]
     },
     "metadata": {},
     "output_type": "display_data"
    },
    {
     "name": "stdout",
     "output_type": "stream",
     "text": [
      "distortion06 (Severity 4)\n"
     ]
    },
    {
     "data": {
      "application/vnd.jupyter.widget-view+json": {
       "model_id": "d088562277554a40b3d728692ce788ab",
       "version_major": 2,
       "version_minor": 0
      },
      "text/plain": [
       "Evaluating distortion06 (Severity 5):   0%|          | 0/157 [00:00<?, ?it/s]"
      ]
     },
     "metadata": {},
     "output_type": "display_data"
    },
    {
     "name": "stdout",
     "output_type": "stream",
     "text": [
      "distortion06 (Severity 5)\n"
     ]
    },
    {
     "data": {
      "application/vnd.jupyter.widget-view+json": {
       "model_id": "878cb4f912164cd49d49d5e8b14d7c45",
       "version_major": 2,
       "version_minor": 0
      },
      "text/plain": [
       "Evaluating distortion07 (Severity 1):   0%|          | 0/157 [00:00<?, ?it/s]"
      ]
     },
     "metadata": {},
     "output_type": "display_data"
    },
    {
     "name": "stdout",
     "output_type": "stream",
     "text": [
      "distortion07 (Severity 1)\n"
     ]
    },
    {
     "data": {
      "application/vnd.jupyter.widget-view+json": {
       "model_id": "05e126bb42254c14846157e6eb864a5f",
       "version_major": 2,
       "version_minor": 0
      },
      "text/plain": [
       "Evaluating distortion07 (Severity 2):   0%|          | 0/157 [00:00<?, ?it/s]"
      ]
     },
     "metadata": {},
     "output_type": "display_data"
    },
    {
     "name": "stdout",
     "output_type": "stream",
     "text": [
      "distortion07 (Severity 2)\n"
     ]
    },
    {
     "data": {
      "application/vnd.jupyter.widget-view+json": {
       "model_id": "debf3dbb6a5a44e893ad9606f25f9c18",
       "version_major": 2,
       "version_minor": 0
      },
      "text/plain": [
       "Evaluating distortion07 (Severity 3):   0%|          | 0/157 [00:00<?, ?it/s]"
      ]
     },
     "metadata": {},
     "output_type": "display_data"
    },
    {
     "name": "stdout",
     "output_type": "stream",
     "text": [
      "distortion07 (Severity 3)\n"
     ]
    },
    {
     "data": {
      "application/vnd.jupyter.widget-view+json": {
       "model_id": "cdbadd7349f44435a85715aaad18f73f",
       "version_major": 2,
       "version_minor": 0
      },
      "text/plain": [
       "Evaluating distortion07 (Severity 4):   0%|          | 0/157 [00:00<?, ?it/s]"
      ]
     },
     "metadata": {},
     "output_type": "display_data"
    },
    {
     "name": "stdout",
     "output_type": "stream",
     "text": [
      "distortion07 (Severity 4)\n"
     ]
    },
    {
     "data": {
      "application/vnd.jupyter.widget-view+json": {
       "model_id": "9c946bd432a84b69aa448a079f734682",
       "version_major": 2,
       "version_minor": 0
      },
      "text/plain": [
       "Evaluating distortion07 (Severity 5):   0%|          | 0/157 [00:00<?, ?it/s]"
      ]
     },
     "metadata": {},
     "output_type": "display_data"
    },
    {
     "name": "stdout",
     "output_type": "stream",
     "text": [
      "distortion07 (Severity 5)\n"
     ]
    },
    {
     "data": {
      "application/vnd.jupyter.widget-view+json": {
       "model_id": "01f47fd93b1a468a98b5cfe0bed29353",
       "version_major": 2,
       "version_minor": 0
      },
      "text/plain": [
       "Evaluating distortion08 (Severity 1):   0%|          | 0/157 [00:00<?, ?it/s]"
      ]
     },
     "metadata": {},
     "output_type": "display_data"
    },
    {
     "name": "stdout",
     "output_type": "stream",
     "text": [
      "distortion08 (Severity 1)\n"
     ]
    },
    {
     "data": {
      "application/vnd.jupyter.widget-view+json": {
       "model_id": "fd3496a95d3647feb9f26cc6f357bbbc",
       "version_major": 2,
       "version_minor": 0
      },
      "text/plain": [
       "Evaluating distortion08 (Severity 2):   0%|          | 0/157 [00:00<?, ?it/s]"
      ]
     },
     "metadata": {},
     "output_type": "display_data"
    },
    {
     "name": "stdout",
     "output_type": "stream",
     "text": [
      "distortion08 (Severity 2)\n"
     ]
    },
    {
     "data": {
      "application/vnd.jupyter.widget-view+json": {
       "model_id": "d1fee54d15ac439e88d9d883befcc801",
       "version_major": 2,
       "version_minor": 0
      },
      "text/plain": [
       "Evaluating distortion08 (Severity 3):   0%|          | 0/157 [00:00<?, ?it/s]"
      ]
     },
     "metadata": {},
     "output_type": "display_data"
    },
    {
     "name": "stdout",
     "output_type": "stream",
     "text": [
      "distortion08 (Severity 3)\n"
     ]
    },
    {
     "data": {
      "application/vnd.jupyter.widget-view+json": {
       "model_id": "570df7a57f1347e7a5d9d36e5572bb6c",
       "version_major": 2,
       "version_minor": 0
      },
      "text/plain": [
       "Evaluating distortion08 (Severity 4):   0%|          | 0/157 [00:00<?, ?it/s]"
      ]
     },
     "metadata": {},
     "output_type": "display_data"
    },
    {
     "name": "stdout",
     "output_type": "stream",
     "text": [
      "distortion08 (Severity 4)\n"
     ]
    },
    {
     "data": {
      "application/vnd.jupyter.widget-view+json": {
       "model_id": "0a76d741316e40e386721ff97e979d33",
       "version_major": 2,
       "version_minor": 0
      },
      "text/plain": [
       "Evaluating distortion08 (Severity 5):   0%|          | 0/157 [00:00<?, ?it/s]"
      ]
     },
     "metadata": {},
     "output_type": "display_data"
    },
    {
     "name": "stdout",
     "output_type": "stream",
     "text": [
      "distortion08 (Severity 5)\n"
     ]
    },
    {
     "data": {
      "application/vnd.jupyter.widget-view+json": {
       "model_id": "399fa71072db44ebb5b219ab70824627",
       "version_major": 2,
       "version_minor": 0
      },
      "text/plain": [
       "Evaluating distortion09 (Severity 1):   0%|          | 0/157 [00:00<?, ?it/s]"
      ]
     },
     "metadata": {},
     "output_type": "display_data"
    },
    {
     "name": "stdout",
     "output_type": "stream",
     "text": [
      "distortion09 (Severity 1)\n"
     ]
    },
    {
     "data": {
      "application/vnd.jupyter.widget-view+json": {
       "model_id": "9e10d7d7f06e4b5482ba1a027e268403",
       "version_major": 2,
       "version_minor": 0
      },
      "text/plain": [
       "Evaluating distortion09 (Severity 2):   0%|          | 0/157 [00:00<?, ?it/s]"
      ]
     },
     "metadata": {},
     "output_type": "display_data"
    },
    {
     "name": "stdout",
     "output_type": "stream",
     "text": [
      "distortion09 (Severity 2)\n"
     ]
    },
    {
     "data": {
      "application/vnd.jupyter.widget-view+json": {
       "model_id": "cce342a28cb945ee91bc14198c85d99a",
       "version_major": 2,
       "version_minor": 0
      },
      "text/plain": [
       "Evaluating distortion09 (Severity 3):   0%|          | 0/157 [00:00<?, ?it/s]"
      ]
     },
     "metadata": {},
     "output_type": "display_data"
    },
    {
     "name": "stdout",
     "output_type": "stream",
     "text": [
      "distortion09 (Severity 3)\n"
     ]
    },
    {
     "data": {
      "application/vnd.jupyter.widget-view+json": {
       "model_id": "a44a9c58656f437babf67d536de7b3ce",
       "version_major": 2,
       "version_minor": 0
      },
      "text/plain": [
       "Evaluating distortion09 (Severity 4):   0%|          | 0/157 [00:00<?, ?it/s]"
      ]
     },
     "metadata": {},
     "output_type": "display_data"
    },
    {
     "name": "stdout",
     "output_type": "stream",
     "text": [
      "distortion09 (Severity 4)\n"
     ]
    },
    {
     "data": {
      "application/vnd.jupyter.widget-view+json": {
       "model_id": "3adb77c4f6014be3b435acf9389ad3ab",
       "version_major": 2,
       "version_minor": 0
      },
      "text/plain": [
       "Evaluating distortion09 (Severity 5):   0%|          | 0/157 [00:00<?, ?it/s]"
      ]
     },
     "metadata": {},
     "output_type": "display_data"
    },
    {
     "name": "stdout",
     "output_type": "stream",
     "text": [
      "distortion09 (Severity 5)\n"
     ]
    },
    {
     "data": {
      "application/vnd.jupyter.widget-view+json": {
       "model_id": "4a24b63afa6649fd9d48a31fbc616d23",
       "version_major": 2,
       "version_minor": 0
      },
      "text/plain": [
       "Evaluating distortion10 (Severity 1):   0%|          | 0/157 [00:00<?, ?it/s]"
      ]
     },
     "metadata": {},
     "output_type": "display_data"
    },
    {
     "name": "stdout",
     "output_type": "stream",
     "text": [
      "distortion10 (Severity 1)\n"
     ]
    },
    {
     "data": {
      "application/vnd.jupyter.widget-view+json": {
       "model_id": "f770be56c96e41dba7f521f8f7358de3",
       "version_major": 2,
       "version_minor": 0
      },
      "text/plain": [
       "Evaluating distortion10 (Severity 2):   0%|          | 0/157 [00:00<?, ?it/s]"
      ]
     },
     "metadata": {},
     "output_type": "display_data"
    },
    {
     "name": "stdout",
     "output_type": "stream",
     "text": [
      "distortion10 (Severity 2)\n"
     ]
    },
    {
     "data": {
      "application/vnd.jupyter.widget-view+json": {
       "model_id": "01be91c236fe48518d3ca30f6babbfc6",
       "version_major": 2,
       "version_minor": 0
      },
      "text/plain": [
       "Evaluating distortion10 (Severity 3):   0%|          | 0/157 [00:00<?, ?it/s]"
      ]
     },
     "metadata": {},
     "output_type": "display_data"
    },
    {
     "name": "stdout",
     "output_type": "stream",
     "text": [
      "distortion10 (Severity 3)\n"
     ]
    },
    {
     "data": {
      "application/vnd.jupyter.widget-view+json": {
       "model_id": "d13f149d167f4930ba6f2a9f38030741",
       "version_major": 2,
       "version_minor": 0
      },
      "text/plain": [
       "Evaluating distortion10 (Severity 4):   0%|          | 0/157 [00:00<?, ?it/s]"
      ]
     },
     "metadata": {},
     "output_type": "display_data"
    },
    {
     "name": "stdout",
     "output_type": "stream",
     "text": [
      "distortion10 (Severity 4)\n"
     ]
    },
    {
     "data": {
      "application/vnd.jupyter.widget-view+json": {
       "model_id": "eb3ff058794e480e98eadbe1f6769449",
       "version_major": 2,
       "version_minor": 0
      },
      "text/plain": [
       "Evaluating distortion10 (Severity 5):   0%|          | 0/157 [00:00<?, ?it/s]"
      ]
     },
     "metadata": {},
     "output_type": "display_data"
    },
    {
     "name": "stdout",
     "output_type": "stream",
     "text": [
      "distortion10 (Severity 5)\n"
     ]
    },
    {
     "data": {
      "application/vnd.jupyter.widget-view+json": {
       "model_id": "9d29450ff3e2433f827da0e5e88dda0e",
       "version_major": 2,
       "version_minor": 0
      },
      "text/plain": [
       "Evaluating distortion11 (Severity 1):   0%|          | 0/157 [00:00<?, ?it/s]"
      ]
     },
     "metadata": {},
     "output_type": "display_data"
    },
    {
     "name": "stdout",
     "output_type": "stream",
     "text": [
      "distortion11 (Severity 1)\n"
     ]
    },
    {
     "data": {
      "application/vnd.jupyter.widget-view+json": {
       "model_id": "e75c0c8ef1784bda8186106cd526a3e7",
       "version_major": 2,
       "version_minor": 0
      },
      "text/plain": [
       "Evaluating distortion11 (Severity 2):   0%|          | 0/157 [00:00<?, ?it/s]"
      ]
     },
     "metadata": {},
     "output_type": "display_data"
    },
    {
     "name": "stdout",
     "output_type": "stream",
     "text": [
      "distortion11 (Severity 2)\n"
     ]
    },
    {
     "data": {
      "application/vnd.jupyter.widget-view+json": {
       "model_id": "8cb49e0306ab4361aef3e0d26370e813",
       "version_major": 2,
       "version_minor": 0
      },
      "text/plain": [
       "Evaluating distortion11 (Severity 3):   0%|          | 0/157 [00:00<?, ?it/s]"
      ]
     },
     "metadata": {},
     "output_type": "display_data"
    },
    {
     "name": "stdout",
     "output_type": "stream",
     "text": [
      "distortion11 (Severity 3)\n"
     ]
    },
    {
     "data": {
      "application/vnd.jupyter.widget-view+json": {
       "model_id": "2ce21bfeac134afabcdc765347b51d13",
       "version_major": 2,
       "version_minor": 0
      },
      "text/plain": [
       "Evaluating distortion11 (Severity 4):   0%|          | 0/157 [00:00<?, ?it/s]"
      ]
     },
     "metadata": {},
     "output_type": "display_data"
    },
    {
     "name": "stdout",
     "output_type": "stream",
     "text": [
      "distortion11 (Severity 4)\n"
     ]
    },
    {
     "data": {
      "application/vnd.jupyter.widget-view+json": {
       "model_id": "394f128d5f2d447bbc01566a26bba3b8",
       "version_major": 2,
       "version_minor": 0
      },
      "text/plain": [
       "Evaluating distortion11 (Severity 5):   0%|          | 0/157 [00:00<?, ?it/s]"
      ]
     },
     "metadata": {},
     "output_type": "display_data"
    },
    {
     "name": "stdout",
     "output_type": "stream",
     "text": [
      "distortion11 (Severity 5)\n"
     ]
    },
    {
     "data": {
      "application/vnd.jupyter.widget-view+json": {
       "model_id": "a38be83498374513816e8ee8883f9410",
       "version_major": 2,
       "version_minor": 0
      },
      "text/plain": [
       "Evaluating distortion12 (Severity 1):   0%|          | 0/157 [00:00<?, ?it/s]"
      ]
     },
     "metadata": {},
     "output_type": "display_data"
    },
    {
     "name": "stdout",
     "output_type": "stream",
     "text": [
      "distortion12 (Severity 1)\n"
     ]
    },
    {
     "data": {
      "application/vnd.jupyter.widget-view+json": {
       "model_id": "c1a95275ca724f91aa2cd2eacfccafee",
       "version_major": 2,
       "version_minor": 0
      },
      "text/plain": [
       "Evaluating distortion12 (Severity 2):   0%|          | 0/157 [00:00<?, ?it/s]"
      ]
     },
     "metadata": {},
     "output_type": "display_data"
    },
    {
     "name": "stdout",
     "output_type": "stream",
     "text": [
      "distortion12 (Severity 2)\n"
     ]
    },
    {
     "data": {
      "application/vnd.jupyter.widget-view+json": {
       "model_id": "c942792773704787b880d37424ae14a3",
       "version_major": 2,
       "version_minor": 0
      },
      "text/plain": [
       "Evaluating distortion12 (Severity 3):   0%|          | 0/157 [00:00<?, ?it/s]"
      ]
     },
     "metadata": {},
     "output_type": "display_data"
    },
    {
     "name": "stdout",
     "output_type": "stream",
     "text": [
      "distortion12 (Severity 3)\n"
     ]
    },
    {
     "data": {
      "application/vnd.jupyter.widget-view+json": {
       "model_id": "9368a194cbec4b11b9e40deda58a1428",
       "version_major": 2,
       "version_minor": 0
      },
      "text/plain": [
       "Evaluating distortion12 (Severity 4):   0%|          | 0/157 [00:00<?, ?it/s]"
      ]
     },
     "metadata": {},
     "output_type": "display_data"
    },
    {
     "name": "stdout",
     "output_type": "stream",
     "text": [
      "distortion12 (Severity 4)\n"
     ]
    },
    {
     "data": {
      "application/vnd.jupyter.widget-view+json": {
       "model_id": "d09bccb3f2334e9a82fba2df9a715eb4",
       "version_major": 2,
       "version_minor": 0
      },
      "text/plain": [
       "Evaluating distortion12 (Severity 5):   0%|          | 0/157 [00:00<?, ?it/s]"
      ]
     },
     "metadata": {},
     "output_type": "display_data"
    },
    {
     "name": "stdout",
     "output_type": "stream",
     "text": [
      "distortion12 (Severity 5)\n"
     ]
    },
    {
     "data": {
      "application/vnd.jupyter.widget-view+json": {
       "model_id": "c7f00477835f45bd8be7e6d37b803bda",
       "version_major": 2,
       "version_minor": 0
      },
      "text/plain": [
       "Evaluating distortion13 (Severity 1):   0%|          | 0/157 [00:00<?, ?it/s]"
      ]
     },
     "metadata": {},
     "output_type": "display_data"
    },
    {
     "name": "stdout",
     "output_type": "stream",
     "text": [
      "distortion13 (Severity 1)\n"
     ]
    },
    {
     "data": {
      "application/vnd.jupyter.widget-view+json": {
       "model_id": "d332938651a441cb84ba0a72a6c6bdde",
       "version_major": 2,
       "version_minor": 0
      },
      "text/plain": [
       "Evaluating distortion13 (Severity 2):   0%|          | 0/157 [00:00<?, ?it/s]"
      ]
     },
     "metadata": {},
     "output_type": "display_data"
    },
    {
     "name": "stdout",
     "output_type": "stream",
     "text": [
      "distortion13 (Severity 2)\n"
     ]
    },
    {
     "data": {
      "application/vnd.jupyter.widget-view+json": {
       "model_id": "dca722c2ef154ceaa1a2feb818018521",
       "version_major": 2,
       "version_minor": 0
      },
      "text/plain": [
       "Evaluating distortion13 (Severity 3):   0%|          | 0/157 [00:00<?, ?it/s]"
      ]
     },
     "metadata": {},
     "output_type": "display_data"
    },
    {
     "name": "stdout",
     "output_type": "stream",
     "text": [
      "distortion13 (Severity 3)\n"
     ]
    },
    {
     "data": {
      "application/vnd.jupyter.widget-view+json": {
       "model_id": "c29947c651cb4d088d52c73c90c6537c",
       "version_major": 2,
       "version_minor": 0
      },
      "text/plain": [
       "Evaluating distortion13 (Severity 4):   0%|          | 0/157 [00:00<?, ?it/s]"
      ]
     },
     "metadata": {},
     "output_type": "display_data"
    },
    {
     "name": "stdout",
     "output_type": "stream",
     "text": [
      "distortion13 (Severity 4)\n"
     ]
    },
    {
     "data": {
      "application/vnd.jupyter.widget-view+json": {
       "model_id": "12e55460319d4cd9be96c9cac10be9e0",
       "version_major": 2,
       "version_minor": 0
      },
      "text/plain": [
       "Evaluating distortion13 (Severity 5):   0%|          | 0/157 [00:00<?, ?it/s]"
      ]
     },
     "metadata": {},
     "output_type": "display_data"
    },
    {
     "name": "stdout",
     "output_type": "stream",
     "text": [
      "distortion13 (Severity 5)\n"
     ]
    },
    {
     "data": {
      "application/vnd.jupyter.widget-view+json": {
       "model_id": "ada4b276126f4c6c86cfce1e108d8243",
       "version_major": 2,
       "version_minor": 0
      },
      "text/plain": [
       "Evaluating distortion14 (Severity 1):   0%|          | 0/157 [00:00<?, ?it/s]"
      ]
     },
     "metadata": {},
     "output_type": "display_data"
    },
    {
     "name": "stdout",
     "output_type": "stream",
     "text": [
      "distortion14 (Severity 1)\n"
     ]
    },
    {
     "data": {
      "application/vnd.jupyter.widget-view+json": {
       "model_id": "f0927f1e68cd4ad6918b96b9cc0c6878",
       "version_major": 2,
       "version_minor": 0
      },
      "text/plain": [
       "Evaluating distortion14 (Severity 2):   0%|          | 0/157 [00:00<?, ?it/s]"
      ]
     },
     "metadata": {},
     "output_type": "display_data"
    },
    {
     "name": "stdout",
     "output_type": "stream",
     "text": [
      "distortion14 (Severity 2)\n"
     ]
    },
    {
     "data": {
      "application/vnd.jupyter.widget-view+json": {
       "model_id": "fd170395a38049a28a4909c67680d0cd",
       "version_major": 2,
       "version_minor": 0
      },
      "text/plain": [
       "Evaluating distortion14 (Severity 3):   0%|          | 0/157 [00:00<?, ?it/s]"
      ]
     },
     "metadata": {},
     "output_type": "display_data"
    },
    {
     "name": "stdout",
     "output_type": "stream",
     "text": [
      "distortion14 (Severity 3)\n"
     ]
    },
    {
     "data": {
      "application/vnd.jupyter.widget-view+json": {
       "model_id": "17bc0ba69e0946dfb01f255be0fa2359",
       "version_major": 2,
       "version_minor": 0
      },
      "text/plain": [
       "Evaluating distortion14 (Severity 4):   0%|          | 0/157 [00:00<?, ?it/s]"
      ]
     },
     "metadata": {},
     "output_type": "display_data"
    },
    {
     "name": "stdout",
     "output_type": "stream",
     "text": [
      "distortion14 (Severity 4)\n"
     ]
    },
    {
     "data": {
      "application/vnd.jupyter.widget-view+json": {
       "model_id": "7292063f227343faa9bcf3733e44d5f6",
       "version_major": 2,
       "version_minor": 0
      },
      "text/plain": [
       "Evaluating distortion14 (Severity 5):   0%|          | 0/157 [00:00<?, ?it/s]"
      ]
     },
     "metadata": {},
     "output_type": "display_data"
    },
    {
     "name": "stdout",
     "output_type": "stream",
     "text": [
      "distortion14 (Severity 5)\n"
     ]
    },
    {
     "data": {
      "application/vnd.jupyter.widget-view+json": {
       "model_id": "f0e5451857e44791a9ddc0bf49604881",
       "version_major": 2,
       "version_minor": 0
      },
      "text/plain": [
       "Evaluating distortion15 (Severity 1):   0%|          | 0/157 [00:00<?, ?it/s]"
      ]
     },
     "metadata": {},
     "output_type": "display_data"
    },
    {
     "name": "stdout",
     "output_type": "stream",
     "text": [
      "distortion15 (Severity 1)\n"
     ]
    },
    {
     "data": {
      "application/vnd.jupyter.widget-view+json": {
       "model_id": "b4f7809efdd944569501f9a1c84f923f",
       "version_major": 2,
       "version_minor": 0
      },
      "text/plain": [
       "Evaluating distortion15 (Severity 2):   0%|          | 0/157 [00:00<?, ?it/s]"
      ]
     },
     "metadata": {},
     "output_type": "display_data"
    },
    {
     "name": "stdout",
     "output_type": "stream",
     "text": [
      "distortion15 (Severity 2)\n"
     ]
    },
    {
     "data": {
      "application/vnd.jupyter.widget-view+json": {
       "model_id": "98f7972b73cf4a2ebd643eeab76f3e65",
       "version_major": 2,
       "version_minor": 0
      },
      "text/plain": [
       "Evaluating distortion15 (Severity 3):   0%|          | 0/157 [00:00<?, ?it/s]"
      ]
     },
     "metadata": {},
     "output_type": "display_data"
    },
    {
     "name": "stdout",
     "output_type": "stream",
     "text": [
      "distortion15 (Severity 3)\n"
     ]
    },
    {
     "data": {
      "application/vnd.jupyter.widget-view+json": {
       "model_id": "aa33c35dc64647149144f7e6e6460bd5",
       "version_major": 2,
       "version_minor": 0
      },
      "text/plain": [
       "Evaluating distortion15 (Severity 4):   0%|          | 0/157 [00:00<?, ?it/s]"
      ]
     },
     "metadata": {},
     "output_type": "display_data"
    },
    {
     "name": "stdout",
     "output_type": "stream",
     "text": [
      "distortion15 (Severity 4)\n"
     ]
    },
    {
     "data": {
      "application/vnd.jupyter.widget-view+json": {
       "model_id": "d8848ad7a966464baec4f9785bfa98fd",
       "version_major": 2,
       "version_minor": 0
      },
      "text/plain": [
       "Evaluating distortion15 (Severity 5):   0%|          | 0/157 [00:00<?, ?it/s]"
      ]
     },
     "metadata": {},
     "output_type": "display_data"
    },
    {
     "name": "stdout",
     "output_type": "stream",
     "text": [
      "distortion15 (Severity 5)\n"
     ]
    },
    {
     "data": {
      "application/vnd.jupyter.widget-view+json": {
       "model_id": "df3461d7885d4ed89685333715bb0f8c",
       "version_major": 2,
       "version_minor": 0
      },
      "text/plain": [
       "Evaluating distortion16 (Severity 1):   0%|          | 0/157 [00:00<?, ?it/s]"
      ]
     },
     "metadata": {},
     "output_type": "display_data"
    },
    {
     "name": "stdout",
     "output_type": "stream",
     "text": [
      "distortion16 (Severity 1)\n"
     ]
    },
    {
     "data": {
      "application/vnd.jupyter.widget-view+json": {
       "model_id": "2b26fa8bdf5e4e1aa711e59cdc6ebfa6",
       "version_major": 2,
       "version_minor": 0
      },
      "text/plain": [
       "Evaluating distortion16 (Severity 2):   0%|          | 0/157 [00:00<?, ?it/s]"
      ]
     },
     "metadata": {},
     "output_type": "display_data"
    },
    {
     "name": "stdout",
     "output_type": "stream",
     "text": [
      "distortion16 (Severity 2)\n"
     ]
    },
    {
     "data": {
      "application/vnd.jupyter.widget-view+json": {
       "model_id": "eaa915804c834bdfa2d9a8c0c8bbc927",
       "version_major": 2,
       "version_minor": 0
      },
      "text/plain": [
       "Evaluating distortion16 (Severity 3):   0%|          | 0/157 [00:00<?, ?it/s]"
      ]
     },
     "metadata": {},
     "output_type": "display_data"
    },
    {
     "name": "stdout",
     "output_type": "stream",
     "text": [
      "distortion16 (Severity 3)\n"
     ]
    },
    {
     "data": {
      "application/vnd.jupyter.widget-view+json": {
       "model_id": "e9ee5d18747847b78c0adac52e8e5d76",
       "version_major": 2,
       "version_minor": 0
      },
      "text/plain": [
       "Evaluating distortion16 (Severity 4):   0%|          | 0/157 [00:00<?, ?it/s]"
      ]
     },
     "metadata": {},
     "output_type": "display_data"
    },
    {
     "name": "stdout",
     "output_type": "stream",
     "text": [
      "distortion16 (Severity 4)\n"
     ]
    },
    {
     "data": {
      "application/vnd.jupyter.widget-view+json": {
       "model_id": "c0ba2faa27614301b19a1f8d0047ad27",
       "version_major": 2,
       "version_minor": 0
      },
      "text/plain": [
       "Evaluating distortion16 (Severity 5):   0%|          | 0/157 [00:00<?, ?it/s]"
      ]
     },
     "metadata": {},
     "output_type": "display_data"
    },
    {
     "name": "stdout",
     "output_type": "stream",
     "text": [
      "distortion16 (Severity 5)\n"
     ]
    },
    {
     "data": {
      "application/vnd.jupyter.widget-view+json": {
       "model_id": "9af4d392a63a48ec9daf0615ddf984b7",
       "version_major": 2,
       "version_minor": 0
      },
      "text/plain": [
       "Evaluating distortion17 (Severity 1):   0%|          | 0/157 [00:00<?, ?it/s]"
      ]
     },
     "metadata": {},
     "output_type": "display_data"
    },
    {
     "name": "stdout",
     "output_type": "stream",
     "text": [
      "distortion17 (Severity 1)\n"
     ]
    },
    {
     "data": {
      "application/vnd.jupyter.widget-view+json": {
       "model_id": "61a54ae39b5e433fa3b2bb442466c212",
       "version_major": 2,
       "version_minor": 0
      },
      "text/plain": [
       "Evaluating distortion17 (Severity 2):   0%|          | 0/157 [00:00<?, ?it/s]"
      ]
     },
     "metadata": {},
     "output_type": "display_data"
    },
    {
     "name": "stdout",
     "output_type": "stream",
     "text": [
      "distortion17 (Severity 2)\n"
     ]
    },
    {
     "data": {
      "application/vnd.jupyter.widget-view+json": {
       "model_id": "4faed706b3de4846b12207d64dd2b995",
       "version_major": 2,
       "version_minor": 0
      },
      "text/plain": [
       "Evaluating distortion17 (Severity 3):   0%|          | 0/157 [00:00<?, ?it/s]"
      ]
     },
     "metadata": {},
     "output_type": "display_data"
    },
    {
     "name": "stdout",
     "output_type": "stream",
     "text": [
      "distortion17 (Severity 3)\n"
     ]
    },
    {
     "data": {
      "application/vnd.jupyter.widget-view+json": {
       "model_id": "e63a12ed3a004be089945e884eade430",
       "version_major": 2,
       "version_minor": 0
      },
      "text/plain": [
       "Evaluating distortion17 (Severity 4):   0%|          | 0/157 [00:00<?, ?it/s]"
      ]
     },
     "metadata": {},
     "output_type": "display_data"
    },
    {
     "name": "stdout",
     "output_type": "stream",
     "text": [
      "distortion17 (Severity 4)\n"
     ]
    },
    {
     "data": {
      "application/vnd.jupyter.widget-view+json": {
       "model_id": "708951848c3a4ecfa5ec7914f26a3bd4",
       "version_major": 2,
       "version_minor": 0
      },
      "text/plain": [
       "Evaluating distortion17 (Severity 5):   0%|          | 0/157 [00:00<?, ?it/s]"
      ]
     },
     "metadata": {},
     "output_type": "display_data"
    },
    {
     "name": "stdout",
     "output_type": "stream",
     "text": [
      "distortion17 (Severity 5)\n"
     ]
    },
    {
     "data": {
      "application/vnd.jupyter.widget-view+json": {
       "model_id": "c11e93d226004a19a79ce1e18a842e82",
       "version_major": 2,
       "version_minor": 0
      },
      "text/plain": [
       "Evaluating distortion18 (Severity 1):   0%|          | 0/157 [00:00<?, ?it/s]"
      ]
     },
     "metadata": {},
     "output_type": "display_data"
    },
    {
     "name": "stdout",
     "output_type": "stream",
     "text": [
      "distortion18 (Severity 1)\n"
     ]
    },
    {
     "data": {
      "application/vnd.jupyter.widget-view+json": {
       "model_id": "411e4162a67049f8b958bd0ec7714e86",
       "version_major": 2,
       "version_minor": 0
      },
      "text/plain": [
       "Evaluating distortion18 (Severity 2):   0%|          | 0/157 [00:00<?, ?it/s]"
      ]
     },
     "metadata": {},
     "output_type": "display_data"
    },
    {
     "name": "stdout",
     "output_type": "stream",
     "text": [
      "distortion18 (Severity 2)\n"
     ]
    },
    {
     "data": {
      "application/vnd.jupyter.widget-view+json": {
       "model_id": "24ced80cf30c445182ff0eb751f62932",
       "version_major": 2,
       "version_minor": 0
      },
      "text/plain": [
       "Evaluating distortion18 (Severity 3):   0%|          | 0/157 [00:00<?, ?it/s]"
      ]
     },
     "metadata": {},
     "output_type": "display_data"
    },
    {
     "name": "stdout",
     "output_type": "stream",
     "text": [
      "distortion18 (Severity 3)\n"
     ]
    },
    {
     "data": {
      "application/vnd.jupyter.widget-view+json": {
       "model_id": "f10acebe92034422a9850a7df2db0cee",
       "version_major": 2,
       "version_minor": 0
      },
      "text/plain": [
       "Evaluating distortion18 (Severity 4):   0%|          | 0/157 [00:00<?, ?it/s]"
      ]
     },
     "metadata": {},
     "output_type": "display_data"
    },
    {
     "name": "stdout",
     "output_type": "stream",
     "text": [
      "distortion18 (Severity 4)\n"
     ]
    },
    {
     "data": {
      "application/vnd.jupyter.widget-view+json": {
       "model_id": "b6326af256f44b9994c79bda06228a37",
       "version_major": 2,
       "version_minor": 0
      },
      "text/plain": [
       "Evaluating distortion18 (Severity 5):   0%|          | 0/157 [00:00<?, ?it/s]"
      ]
     },
     "metadata": {},
     "output_type": "display_data"
    },
    {
     "name": "stdout",
     "output_type": "stream",
     "text": [
      "distortion18 (Severity 5)\n",
      "submission_ood_part1cnn.csv created successfully.\n"
     ]
    }
   ],
   "source": [
    "import torch\n",
    "import torch.nn as nn\n",
    "import torch.optim as optim\n",
    "import torchvision\n",
    "import torchvision.transforms as transforms\n",
    "import numpy as np\n",
    "import random\n",
    "from tqdm.auto import tqdm\n",
    "import wandb\n",
    "import shutil\n",
    "\n",
    "# -----------------------------\n",
    "# Reproducibility\n",
    "# -----------------------------\n",
    "def set_seed(seed):\n",
    "    torch.manual_seed(seed)\n",
    "    np.random.seed(seed)\n",
    "    random.seed(seed)\n",
    "    if torch.cuda.is_available():\n",
    "        torch.cuda.manual_seed_all(seed)\n",
    "\n",
    "# -----------------------------\n",
    "# Model Definition: Simple CNN\n",
    "# -----------------------------\n",
    "class SimpleCNN(nn.Module):\n",
    "    def __init__(self):\n",
    "        super(SimpleCNN, self).__init__()\n",
    "        self.conv_layers = nn.Sequential(\n",
    "            nn.Conv2d(3, 32, kernel_size=3, padding=1),\n",
    "            nn.ReLU(),\n",
    "            nn.MaxPool2d(2),\n",
    "\n",
    "            nn.Conv2d(32, 64, kernel_size=3, padding=1),\n",
    "            nn.ReLU(),\n",
    "            nn.MaxPool2d(2)\n",
    "        )\n",
    "        self.fc_layers = nn.Sequential(\n",
    "            nn.Flatten(),\n",
    "            nn.Linear(64 * 8 * 8, 256),\n",
    "            nn.ReLU(),\n",
    "            nn.Linear(256, 100)\n",
    "        )\n",
    "\n",
    "    def forward(self, x):\n",
    "        x = self.conv_layers(x)\n",
    "        x = self.fc_layers(x)\n",
    "        return x\n",
    "\n",
    "# -----------------------------\n",
    "# Training Function\n",
    "# -----------------------------\n",
    "def train(epoch, model, trainloader, optimizer, criterion, CONFIG):\n",
    "    device = CONFIG[\"device\"]\n",
    "    model.train()\n",
    "    running_loss, correct, total = 0.0, 0, 0\n",
    "    progress = tqdm(trainloader, desc=f\"Epoch {epoch+1}/{CONFIG['epochs']} [Train]\", leave=False)\n",
    "\n",
    "    for inputs, labels in progress:\n",
    "        inputs, labels = inputs.to(device), labels.to(device)\n",
    "\n",
    "        optimizer.zero_grad()\n",
    "        outputs = model(inputs)\n",
    "        loss = criterion(outputs, labels)\n",
    "        loss.backward()\n",
    "        optimizer.step()\n",
    "\n",
    "        running_loss += loss.item()\n",
    "        _, predicted = outputs.max(1)\n",
    "        total += labels.size(0)\n",
    "        correct += predicted.eq(labels).sum().item()\n",
    "\n",
    "        progress.set_postfix({\n",
    "            \"loss\": running_loss / (total / CONFIG[\"batch_size\"]),\n",
    "            \"acc\": 100. * correct / total\n",
    "        })\n",
    "\n",
    "    return running_loss / len(trainloader), 100. * correct / total\n",
    "\n",
    "# -----------------------------\n",
    "# Validation Function\n",
    "# -----------------------------\n",
    "def validate(model, valloader, criterion, CONFIG):\n",
    "    device = CONFIG[\"device\"]\n",
    "    model.eval()\n",
    "    running_loss, correct, total = 0.0, 0, 0\n",
    "\n",
    "    with torch.no_grad():\n",
    "        progress = tqdm(valloader, desc=\"[Validate]\", leave=False)\n",
    "        for inputs, labels in progress:\n",
    "            inputs, labels = inputs.to(device), labels.to(device)\n",
    "            outputs = model(inputs)\n",
    "            loss = criterion(outputs, labels)\n",
    "\n",
    "            running_loss += loss.item()\n",
    "            _, predicted = outputs.max(1)\n",
    "            total += labels.size(0)\n",
    "            correct += predicted.eq(labels).sum().item()\n",
    "\n",
    "            progress.set_postfix({\n",
    "                \"loss\": running_loss / (total / CONFIG[\"batch_size\"]),\n",
    "                \"acc\": 100. * correct / total\n",
    "            })\n",
    "\n",
    "    return running_loss / len(valloader), 100. * correct / total\n",
    "\n",
    "# -----------------------------\n",
    "# Main Training + Eval Pipeline\n",
    "# -----------------------------\n",
    "def main():\n",
    "    CONFIG = {\n",
    "        \"model\": \"SimpleCNN\",\n",
    "        \"batch_size\": 64,\n",
    "        \"learning_rate\": 0.01,\n",
    "        \"epochs\": 20,\n",
    "        \"num_workers\": 0,\n",
    "        \"device\": \"cuda\" if torch.cuda.is_available() else \"cpu\",\n",
    "        \"data_dir\": \"./data\",\n",
    "        \"ood_dir\": \"./data/ood-test\",\n",
    "        \"wandb_project\": \"sp25-ds542-challenge\",\n",
    "        \"seed\": 42,\n",
    "    }\n",
    "\n",
    "    set_seed(CONFIG[\"seed\"])\n",
    "\n",
    "    transform_train = transforms.Compose([\n",
    "        transforms.RandomCrop(32, padding=4),\n",
    "        transforms.RandomHorizontalFlip(),\n",
    "        transforms.ToTensor(),\n",
    "        transforms.Normalize((0.5, 0.5, 0.5), (0.5, 0.5, 0.5)),\n",
    "    ])\n",
    "    transform_test = transforms.Compose([\n",
    "        transforms.ToTensor(),\n",
    "        transforms.Normalize((0.5, 0.5, 0.5), (0.5, 0.5, 0.5)),\n",
    "    ])\n",
    "\n",
    "    # Load CIFAR-100 Dataset\n",
    "    trainset_full = torchvision.datasets.CIFAR100(root=CONFIG[\"data_dir\"], train=True, download=True, transform=transform_train)\n",
    "    train_size = int(0.8 * len(trainset_full))\n",
    "    val_size = len(trainset_full) - train_size\n",
    "    trainset, valset = torch.utils.data.random_split(trainset_full, [train_size, val_size])\n",
    "    trainloader = torch.utils.data.DataLoader(trainset, batch_size=CONFIG[\"batch_size\"], shuffle=True, num_workers=CONFIG[\"num_workers\"])\n",
    "    valloader = torch.utils.data.DataLoader(valset, batch_size=CONFIG[\"batch_size\"], shuffle=False, num_workers=CONFIG[\"num_workers\"])\n",
    "    testset = torchvision.datasets.CIFAR100(root=CONFIG[\"data_dir\"], train=False, download=True, transform=transform_test)\n",
    "    testloader = torch.utils.data.DataLoader(testset, batch_size=CONFIG[\"batch_size\"], shuffle=False, num_workers=CONFIG[\"num_workers\"])\n",
    "\n",
    "    # Model, Loss, Optimizer, Scheduler\n",
    "    model = SimpleCNN().to(CONFIG[\"device\"])\n",
    "    criterion = nn.CrossEntropyLoss()\n",
    "    optimizer = optim.SGD(model.parameters(), lr=CONFIG[\"learning_rate\"], momentum=0.9, weight_decay=5e-4)\n",
    "    scheduler = optim.lr_scheduler.StepLR(optimizer, step_size=10, gamma=0.1)\n",
    "\n",
    "    wandb.init(project=CONFIG[\"wandb_project\"], config=CONFIG, name=\"Simple CNN\")\n",
    "    wandb.watch(model)\n",
    "\n",
    "    best_val_acc = 0.0\n",
    "    for epoch in range(CONFIG[\"epochs\"]):\n",
    "        train_loss, train_acc = train(epoch, model, trainloader, optimizer, criterion, CONFIG)\n",
    "        val_loss, val_acc = validate(model, valloader, criterion, CONFIG)\n",
    "        scheduler.step()\n",
    "\n",
    "        wandb.log({\n",
    "            \"epoch\": epoch + 1,\n",
    "            \"train_loss\": train_loss,\n",
    "            \"train_acc\": train_acc,\n",
    "            \"val_loss\": val_loss,\n",
    "            \"val_acc\": val_acc,\n",
    "            \"lr\": optimizer.param_groups[0][\"lr\"]\n",
    "        })\n",
    "\n",
    "        if val_acc > best_val_acc:\n",
    "            best_val_acc = val_acc\n",
    "            torch.save(model.state_dict(), \"best_model_part1cnn.pth\")\n",
    "            wandb.save(\"best_model_part1cnn.pth\")\n",
    "\n",
    "    wandb.finish()\n",
    "\n",
    "    # -----------------------------\n",
    "    # Evaluation & Submission\n",
    "    # -----------------------------\n",
    "    shutil.copy(\"best_model_part1cnn.pth\", \"best_model.pth\")  # for eval_cifar100 compatibility\n",
    "\n",
    "    import eval_cifar100\n",
    "    import eval_ood\n",
    "\n",
    "    predictions, clean_accuracy = eval_cifar100.evaluate_cifar100_test(model, testloader, CONFIG[\"device\"])\n",
    "    print(f\"Clean CIFAR-100 Test Accuracy: {clean_accuracy:.2f}%\")\n",
    "\n",
    "    all_predictions = eval_ood.evaluate_ood_test(model, CONFIG)\n",
    "    submission_df_ood = eval_ood.create_ood_df(all_predictions)\n",
    "    submission_df_ood.to_csv(\"submission_ood_part1cnn.csv\", index=False)\n",
    "    print(\"submission_ood_part1cnn.csv created successfully.\")\n",
    "\n",
    "if __name__ == '__main__':\n",
    "    main()\n"
   ]
  },
  {
   "cell_type": "markdown",
   "id": "5c4af419-5631-49e6-8d2a-614201064dd4",
   "metadata": {},
   "source": [
    "### Enhanced Baseline Model – SimpleCNN++\n",
    "#### (3-layer CNN)"
   ]
  },
  {
   "cell_type": "code",
   "execution_count": 2,
   "id": "8fa2db66-d1b9-4b92-a150-7b3324517e6f",
   "metadata": {},
   "outputs": [
    {
     "data": {
      "text/html": [
       "Tracking run with wandb version 0.19.8"
      ],
      "text/plain": [
       "<IPython.core.display.HTML object>"
      ]
     },
     "metadata": {},
     "output_type": "display_data"
    },
    {
     "data": {
      "text/html": [
       "Run data is saved locally in <code>/usr4/dl4ds/samritha/wandb/run-20250329_130954-1oml3t10</code>"
      ],
      "text/plain": [
       "<IPython.core.display.HTML object>"
      ]
     },
     "metadata": {},
     "output_type": "display_data"
    },
    {
     "data": {
      "text/html": [
       "Syncing run <strong><a href='https://wandb.ai/samritha-boston-university/sp25-ds542-challenge/runs/1oml3t10' target=\"_blank\">Simple CNN++</a></strong> to <a href='https://wandb.ai/samritha-boston-university/sp25-ds542-challenge' target=\"_blank\">Weights & Biases</a> (<a href='https://wandb.me/developer-guide' target=\"_blank\">docs</a>)<br>"
      ],
      "text/plain": [
       "<IPython.core.display.HTML object>"
      ]
     },
     "metadata": {},
     "output_type": "display_data"
    },
    {
     "data": {
      "text/html": [
       " View project at <a href='https://wandb.ai/samritha-boston-university/sp25-ds542-challenge' target=\"_blank\">https://wandb.ai/samritha-boston-university/sp25-ds542-challenge</a>"
      ],
      "text/plain": [
       "<IPython.core.display.HTML object>"
      ]
     },
     "metadata": {},
     "output_type": "display_data"
    },
    {
     "data": {
      "text/html": [
       " View run at <a href='https://wandb.ai/samritha-boston-university/sp25-ds542-challenge/runs/1oml3t10' target=\"_blank\">https://wandb.ai/samritha-boston-university/sp25-ds542-challenge/runs/1oml3t10</a>"
      ],
      "text/plain": [
       "<IPython.core.display.HTML object>"
      ]
     },
     "metadata": {},
     "output_type": "display_data"
    },
    {
     "data": {
      "application/vnd.jupyter.widget-view+json": {
       "model_id": "2ddd4035679140d7a676940df22a02fd",
       "version_major": 2,
       "version_minor": 0
      },
      "text/plain": [
       "Epoch 1/20 [Train]:   0%|          | 0/625 [00:00<?, ?it/s]"
      ]
     },
     "metadata": {},
     "output_type": "display_data"
    },
    {
     "data": {
      "application/vnd.jupyter.widget-view+json": {
       "model_id": "76a6ef6c572d48afbf7139b7e2fd61f6",
       "version_major": 2,
       "version_minor": 0
      },
      "text/plain": [
       "[Validate]:   0%|          | 0/157 [00:00<?, ?it/s]"
      ]
     },
     "metadata": {},
     "output_type": "display_data"
    },
    {
     "data": {
      "application/vnd.jupyter.widget-view+json": {
       "model_id": "783349361afe476197cedb245687e77d",
       "version_major": 2,
       "version_minor": 0
      },
      "text/plain": [
       "Epoch 2/20 [Train]:   0%|          | 0/625 [00:00<?, ?it/s]"
      ]
     },
     "metadata": {},
     "output_type": "display_data"
    },
    {
     "data": {
      "application/vnd.jupyter.widget-view+json": {
       "model_id": "732794c904324807b6a05085da09445d",
       "version_major": 2,
       "version_minor": 0
      },
      "text/plain": [
       "[Validate]:   0%|          | 0/157 [00:00<?, ?it/s]"
      ]
     },
     "metadata": {},
     "output_type": "display_data"
    },
    {
     "data": {
      "application/vnd.jupyter.widget-view+json": {
       "model_id": "a812de45e9e6444dbf1a7f065d4a3958",
       "version_major": 2,
       "version_minor": 0
      },
      "text/plain": [
       "Epoch 3/20 [Train]:   0%|          | 0/625 [00:00<?, ?it/s]"
      ]
     },
     "metadata": {},
     "output_type": "display_data"
    },
    {
     "data": {
      "application/vnd.jupyter.widget-view+json": {
       "model_id": "29657996fae34012b09d6a05eec3a42e",
       "version_major": 2,
       "version_minor": 0
      },
      "text/plain": [
       "[Validate]:   0%|          | 0/157 [00:00<?, ?it/s]"
      ]
     },
     "metadata": {},
     "output_type": "display_data"
    },
    {
     "data": {
      "application/vnd.jupyter.widget-view+json": {
       "model_id": "c415c49904094dcfbb4ca900746e6237",
       "version_major": 2,
       "version_minor": 0
      },
      "text/plain": [
       "Epoch 4/20 [Train]:   0%|          | 0/625 [00:00<?, ?it/s]"
      ]
     },
     "metadata": {},
     "output_type": "display_data"
    },
    {
     "data": {
      "application/vnd.jupyter.widget-view+json": {
       "model_id": "90e783dd05ef468c87cce60b1fb16ade",
       "version_major": 2,
       "version_minor": 0
      },
      "text/plain": [
       "[Validate]:   0%|          | 0/157 [00:00<?, ?it/s]"
      ]
     },
     "metadata": {},
     "output_type": "display_data"
    },
    {
     "data": {
      "application/vnd.jupyter.widget-view+json": {
       "model_id": "206de99ce58f476dbf6dfc059ea1fd82",
       "version_major": 2,
       "version_minor": 0
      },
      "text/plain": [
       "Epoch 5/20 [Train]:   0%|          | 0/625 [00:00<?, ?it/s]"
      ]
     },
     "metadata": {},
     "output_type": "display_data"
    },
    {
     "data": {
      "application/vnd.jupyter.widget-view+json": {
       "model_id": "e37b75fc2f1f45bf9e66e5b21efb15b5",
       "version_major": 2,
       "version_minor": 0
      },
      "text/plain": [
       "[Validate]:   0%|          | 0/157 [00:00<?, ?it/s]"
      ]
     },
     "metadata": {},
     "output_type": "display_data"
    },
    {
     "data": {
      "application/vnd.jupyter.widget-view+json": {
       "model_id": "e95a2f40e4be4fe6a744c14843537b82",
       "version_major": 2,
       "version_minor": 0
      },
      "text/plain": [
       "Epoch 6/20 [Train]:   0%|          | 0/625 [00:00<?, ?it/s]"
      ]
     },
     "metadata": {},
     "output_type": "display_data"
    },
    {
     "data": {
      "application/vnd.jupyter.widget-view+json": {
       "model_id": "02205f4445cc4ff788c5ff3889e451bd",
       "version_major": 2,
       "version_minor": 0
      },
      "text/plain": [
       "[Validate]:   0%|          | 0/157 [00:00<?, ?it/s]"
      ]
     },
     "metadata": {},
     "output_type": "display_data"
    },
    {
     "data": {
      "application/vnd.jupyter.widget-view+json": {
       "model_id": "1e7a5bbbe1124d2881acc4fb60beef53",
       "version_major": 2,
       "version_minor": 0
      },
      "text/plain": [
       "Epoch 7/20 [Train]:   0%|          | 0/625 [00:00<?, ?it/s]"
      ]
     },
     "metadata": {},
     "output_type": "display_data"
    },
    {
     "data": {
      "application/vnd.jupyter.widget-view+json": {
       "model_id": "7131f0d9bec749b2a95eb22841427ee2",
       "version_major": 2,
       "version_minor": 0
      },
      "text/plain": [
       "[Validate]:   0%|          | 0/157 [00:00<?, ?it/s]"
      ]
     },
     "metadata": {},
     "output_type": "display_data"
    },
    {
     "data": {
      "application/vnd.jupyter.widget-view+json": {
       "model_id": "42a1174f9d95477ba02e1d1a98c2a3ce",
       "version_major": 2,
       "version_minor": 0
      },
      "text/plain": [
       "Epoch 8/20 [Train]:   0%|          | 0/625 [00:00<?, ?it/s]"
      ]
     },
     "metadata": {},
     "output_type": "display_data"
    },
    {
     "data": {
      "application/vnd.jupyter.widget-view+json": {
       "model_id": "0671794bc38d4cc8b8b924e23cbd9c28",
       "version_major": 2,
       "version_minor": 0
      },
      "text/plain": [
       "[Validate]:   0%|          | 0/157 [00:00<?, ?it/s]"
      ]
     },
     "metadata": {},
     "output_type": "display_data"
    },
    {
     "data": {
      "application/vnd.jupyter.widget-view+json": {
       "model_id": "d70ee90a1586479280332b0151b1ff95",
       "version_major": 2,
       "version_minor": 0
      },
      "text/plain": [
       "Epoch 9/20 [Train]:   0%|          | 0/625 [00:00<?, ?it/s]"
      ]
     },
     "metadata": {},
     "output_type": "display_data"
    },
    {
     "data": {
      "application/vnd.jupyter.widget-view+json": {
       "model_id": "beeec405a82540acb04d33c27890fb72",
       "version_major": 2,
       "version_minor": 0
      },
      "text/plain": [
       "[Validate]:   0%|          | 0/157 [00:00<?, ?it/s]"
      ]
     },
     "metadata": {},
     "output_type": "display_data"
    },
    {
     "data": {
      "application/vnd.jupyter.widget-view+json": {
       "model_id": "4adccdc060d44ea48a2d8d172407307f",
       "version_major": 2,
       "version_minor": 0
      },
      "text/plain": [
       "Epoch 10/20 [Train]:   0%|          | 0/625 [00:00<?, ?it/s]"
      ]
     },
     "metadata": {},
     "output_type": "display_data"
    },
    {
     "data": {
      "application/vnd.jupyter.widget-view+json": {
       "model_id": "ec8dccf48bbf401ebc884071d78ebf20",
       "version_major": 2,
       "version_minor": 0
      },
      "text/plain": [
       "[Validate]:   0%|          | 0/157 [00:00<?, ?it/s]"
      ]
     },
     "metadata": {},
     "output_type": "display_data"
    },
    {
     "data": {
      "application/vnd.jupyter.widget-view+json": {
       "model_id": "3e8df9fc3f4b4e1fa846413212b2e331",
       "version_major": 2,
       "version_minor": 0
      },
      "text/plain": [
       "Epoch 11/20 [Train]:   0%|          | 0/625 [00:00<?, ?it/s]"
      ]
     },
     "metadata": {},
     "output_type": "display_data"
    },
    {
     "data": {
      "application/vnd.jupyter.widget-view+json": {
       "model_id": "261df0a1508847d5ae35b1db0f0b89e1",
       "version_major": 2,
       "version_minor": 0
      },
      "text/plain": [
       "[Validate]:   0%|          | 0/157 [00:00<?, ?it/s]"
      ]
     },
     "metadata": {},
     "output_type": "display_data"
    },
    {
     "data": {
      "application/vnd.jupyter.widget-view+json": {
       "model_id": "7565b1f634f145aba52a7c1fc67e9f28",
       "version_major": 2,
       "version_minor": 0
      },
      "text/plain": [
       "Epoch 12/20 [Train]:   0%|          | 0/625 [00:00<?, ?it/s]"
      ]
     },
     "metadata": {},
     "output_type": "display_data"
    },
    {
     "data": {
      "application/vnd.jupyter.widget-view+json": {
       "model_id": "58f3fe48a09d4b4b82d4175699c975b2",
       "version_major": 2,
       "version_minor": 0
      },
      "text/plain": [
       "[Validate]:   0%|          | 0/157 [00:00<?, ?it/s]"
      ]
     },
     "metadata": {},
     "output_type": "display_data"
    },
    {
     "data": {
      "application/vnd.jupyter.widget-view+json": {
       "model_id": "885b0d3869554bb7a5de915599786df7",
       "version_major": 2,
       "version_minor": 0
      },
      "text/plain": [
       "Epoch 13/20 [Train]:   0%|          | 0/625 [00:00<?, ?it/s]"
      ]
     },
     "metadata": {},
     "output_type": "display_data"
    },
    {
     "data": {
      "application/vnd.jupyter.widget-view+json": {
       "model_id": "1fe89e9d87954847acee479e368cc280",
       "version_major": 2,
       "version_minor": 0
      },
      "text/plain": [
       "[Validate]:   0%|          | 0/157 [00:00<?, ?it/s]"
      ]
     },
     "metadata": {},
     "output_type": "display_data"
    },
    {
     "data": {
      "application/vnd.jupyter.widget-view+json": {
       "model_id": "babbd943ba014a30a8ec0dde0ae8d461",
       "version_major": 2,
       "version_minor": 0
      },
      "text/plain": [
       "Epoch 14/20 [Train]:   0%|          | 0/625 [00:00<?, ?it/s]"
      ]
     },
     "metadata": {},
     "output_type": "display_data"
    },
    {
     "data": {
      "application/vnd.jupyter.widget-view+json": {
       "model_id": "f906a65159074bf6bbf8d30f9c7dc8b5",
       "version_major": 2,
       "version_minor": 0
      },
      "text/plain": [
       "[Validate]:   0%|          | 0/157 [00:00<?, ?it/s]"
      ]
     },
     "metadata": {},
     "output_type": "display_data"
    },
    {
     "data": {
      "application/vnd.jupyter.widget-view+json": {
       "model_id": "81657ebb1e3241878c912b725a53d771",
       "version_major": 2,
       "version_minor": 0
      },
      "text/plain": [
       "Epoch 15/20 [Train]:   0%|          | 0/625 [00:00<?, ?it/s]"
      ]
     },
     "metadata": {},
     "output_type": "display_data"
    },
    {
     "data": {
      "application/vnd.jupyter.widget-view+json": {
       "model_id": "f80784e65d2044f9996bea58c709b366",
       "version_major": 2,
       "version_minor": 0
      },
      "text/plain": [
       "[Validate]:   0%|          | 0/157 [00:00<?, ?it/s]"
      ]
     },
     "metadata": {},
     "output_type": "display_data"
    },
    {
     "data": {
      "application/vnd.jupyter.widget-view+json": {
       "model_id": "2a90f5debeda45848eab28e4f891ee06",
       "version_major": 2,
       "version_minor": 0
      },
      "text/plain": [
       "Epoch 16/20 [Train]:   0%|          | 0/625 [00:00<?, ?it/s]"
      ]
     },
     "metadata": {},
     "output_type": "display_data"
    },
    {
     "data": {
      "application/vnd.jupyter.widget-view+json": {
       "model_id": "fff0caf1c3064ef3b0814d2388d4a4d3",
       "version_major": 2,
       "version_minor": 0
      },
      "text/plain": [
       "[Validate]:   0%|          | 0/157 [00:00<?, ?it/s]"
      ]
     },
     "metadata": {},
     "output_type": "display_data"
    },
    {
     "data": {
      "application/vnd.jupyter.widget-view+json": {
       "model_id": "3f3f33995f00499eaa6702bbbdd1766d",
       "version_major": 2,
       "version_minor": 0
      },
      "text/plain": [
       "Epoch 17/20 [Train]:   0%|          | 0/625 [00:00<?, ?it/s]"
      ]
     },
     "metadata": {},
     "output_type": "display_data"
    },
    {
     "data": {
      "application/vnd.jupyter.widget-view+json": {
       "model_id": "b91d124ffc484ccf9d3c2e38e1281656",
       "version_major": 2,
       "version_minor": 0
      },
      "text/plain": [
       "[Validate]:   0%|          | 0/157 [00:00<?, ?it/s]"
      ]
     },
     "metadata": {},
     "output_type": "display_data"
    },
    {
     "data": {
      "application/vnd.jupyter.widget-view+json": {
       "model_id": "af2f870604104ccbac8d9b43b1711798",
       "version_major": 2,
       "version_minor": 0
      },
      "text/plain": [
       "Epoch 18/20 [Train]:   0%|          | 0/625 [00:00<?, ?it/s]"
      ]
     },
     "metadata": {},
     "output_type": "display_data"
    },
    {
     "data": {
      "application/vnd.jupyter.widget-view+json": {
       "model_id": "dab8bc2042994a2b9021f7f47c464d8f",
       "version_major": 2,
       "version_minor": 0
      },
      "text/plain": [
       "[Validate]:   0%|          | 0/157 [00:00<?, ?it/s]"
      ]
     },
     "metadata": {},
     "output_type": "display_data"
    },
    {
     "data": {
      "application/vnd.jupyter.widget-view+json": {
       "model_id": "f611e5ecd91c46f18bdf578285a466ae",
       "version_major": 2,
       "version_minor": 0
      },
      "text/plain": [
       "Epoch 19/20 [Train]:   0%|          | 0/625 [00:00<?, ?it/s]"
      ]
     },
     "metadata": {},
     "output_type": "display_data"
    },
    {
     "data": {
      "application/vnd.jupyter.widget-view+json": {
       "model_id": "33079b1560874aeaa5b81f6e5631d49a",
       "version_major": 2,
       "version_minor": 0
      },
      "text/plain": [
       "[Validate]:   0%|          | 0/157 [00:00<?, ?it/s]"
      ]
     },
     "metadata": {},
     "output_type": "display_data"
    },
    {
     "data": {
      "application/vnd.jupyter.widget-view+json": {
       "model_id": "0e51b0096e5b46dcac6e8ef484999eab",
       "version_major": 2,
       "version_minor": 0
      },
      "text/plain": [
       "Epoch 20/20 [Train]:   0%|          | 0/625 [00:00<?, ?it/s]"
      ]
     },
     "metadata": {},
     "output_type": "display_data"
    },
    {
     "data": {
      "application/vnd.jupyter.widget-view+json": {
       "model_id": "e408db04bce54b8191e95d17dc977b5b",
       "version_major": 2,
       "version_minor": 0
      },
      "text/plain": [
       "[Validate]:   0%|          | 0/157 [00:00<?, ?it/s]"
      ]
     },
     "metadata": {},
     "output_type": "display_data"
    },
    {
     "data": {
      "text/html": [],
      "text/plain": [
       "<IPython.core.display.HTML object>"
      ]
     },
     "metadata": {},
     "output_type": "display_data"
    },
    {
     "data": {
      "text/html": [
       "<br>    <style><br>        .wandb-row {<br>            display: flex;<br>            flex-direction: row;<br>            flex-wrap: wrap;<br>            justify-content: flex-start;<br>            width: 100%;<br>        }<br>        .wandb-col {<br>            display: flex;<br>            flex-direction: column;<br>            flex-basis: 100%;<br>            flex: 1;<br>            padding: 10px;<br>        }<br>    </style><br><div class=\"wandb-row\"><div class=\"wandb-col\"><h3>Run history:</h3><br/><table class=\"wandb\"><tr><td>epoch</td><td>▁▁▂▂▂▃▃▄▄▄▅▅▅▆▆▇▇▇██</td></tr><tr><td>lr</td><td>█████████▂▂▂▂▂▂▂▂▂▂▁</td></tr><tr><td>train_acc</td><td>▁▃▄▅▅▅▆▆▆▆▇█████████</td></tr><tr><td>train_loss</td><td>█▆▅▄▄▃▃▃▂▂▂▁▁▁▁▁▁▁▁▁</td></tr><tr><td>val_acc</td><td>▁▃▃▄▄▅▅▆▆▆▇█████████</td></tr><tr><td>val_loss</td><td>█▆▅▅▄▄▄▃▃▃▂▁▁▁▁▁▁▁▁▁</td></tr></table><br/></div><div class=\"wandb-col\"><h3>Run summary:</h3><br/><table class=\"wandb\"><tr><td>epoch</td><td>20</td></tr><tr><td>lr</td><td>1e-05</td></tr><tr><td>train_acc</td><td>50.315</td></tr><tr><td>train_loss</td><td>1.82828</td></tr><tr><td>val_acc</td><td>48.43</td></tr><tr><td>val_loss</td><td>1.92571</td></tr></table><br/></div></div>"
      ],
      "text/plain": [
       "<IPython.core.display.HTML object>"
      ]
     },
     "metadata": {},
     "output_type": "display_data"
    },
    {
     "data": {
      "text/html": [
       " View run <strong style=\"color:#cdcd00\">Simple CNN++</strong> at: <a href='https://wandb.ai/samritha-boston-university/sp25-ds542-challenge/runs/1oml3t10' target=\"_blank\">https://wandb.ai/samritha-boston-university/sp25-ds542-challenge/runs/1oml3t10</a><br> View project at: <a href='https://wandb.ai/samritha-boston-university/sp25-ds542-challenge' target=\"_blank\">https://wandb.ai/samritha-boston-university/sp25-ds542-challenge</a><br>Synced 5 W&B file(s), 0 media file(s), 0 artifact file(s) and 1 other file(s)"
      ],
      "text/plain": [
       "<IPython.core.display.HTML object>"
      ]
     },
     "metadata": {},
     "output_type": "display_data"
    },
    {
     "data": {
      "text/html": [
       "Find logs at: <code>./wandb/run-20250329_130954-1oml3t10/logs</code>"
      ],
      "text/plain": [
       "<IPython.core.display.HTML object>"
      ]
     },
     "metadata": {},
     "output_type": "display_data"
    },
    {
     "data": {
      "application/vnd.jupyter.widget-view+json": {
       "model_id": "e9c3fd766382487595c7e806577588df",
       "version_major": 2,
       "version_minor": 0
      },
      "text/plain": [
       "Evaluating on Clean Test Set:   0%|          | 0/157 [00:00<?, ?it/s]"
      ]
     },
     "metadata": {},
     "output_type": "display_data"
    },
    {
     "name": "stdout",
     "output_type": "stream",
     "text": [
      "Clean CIFAR-100 Test Accuracy: 52.16%\n",
      "All files are already downloaded.\n"
     ]
    },
    {
     "data": {
      "application/vnd.jupyter.widget-view+json": {
       "model_id": "b223ad963bd94c6da0fd4933c8fededa",
       "version_major": 2,
       "version_minor": 0
      },
      "text/plain": [
       "Evaluating distortion00 (Severity 1):   0%|          | 0/157 [00:00<?, ?it/s]"
      ]
     },
     "metadata": {},
     "output_type": "display_data"
    },
    {
     "name": "stdout",
     "output_type": "stream",
     "text": [
      "distortion00 (Severity 1)\n"
     ]
    },
    {
     "data": {
      "application/vnd.jupyter.widget-view+json": {
       "model_id": "963c4035e0ca4e538f04b04f76eef041",
       "version_major": 2,
       "version_minor": 0
      },
      "text/plain": [
       "Evaluating distortion00 (Severity 2):   0%|          | 0/157 [00:00<?, ?it/s]"
      ]
     },
     "metadata": {},
     "output_type": "display_data"
    },
    {
     "name": "stdout",
     "output_type": "stream",
     "text": [
      "distortion00 (Severity 2)\n"
     ]
    },
    {
     "data": {
      "application/vnd.jupyter.widget-view+json": {
       "model_id": "ae52c7e2e5db495a988949e59612069f",
       "version_major": 2,
       "version_minor": 0
      },
      "text/plain": [
       "Evaluating distortion00 (Severity 3):   0%|          | 0/157 [00:00<?, ?it/s]"
      ]
     },
     "metadata": {},
     "output_type": "display_data"
    },
    {
     "name": "stdout",
     "output_type": "stream",
     "text": [
      "distortion00 (Severity 3)\n"
     ]
    },
    {
     "data": {
      "application/vnd.jupyter.widget-view+json": {
       "model_id": "6a3f5304a3b34099bd383e600c559293",
       "version_major": 2,
       "version_minor": 0
      },
      "text/plain": [
       "Evaluating distortion00 (Severity 4):   0%|          | 0/157 [00:00<?, ?it/s]"
      ]
     },
     "metadata": {},
     "output_type": "display_data"
    },
    {
     "name": "stdout",
     "output_type": "stream",
     "text": [
      "distortion00 (Severity 4)\n"
     ]
    },
    {
     "data": {
      "application/vnd.jupyter.widget-view+json": {
       "model_id": "40a4e59b05624a9bb2c3ae08f63456c4",
       "version_major": 2,
       "version_minor": 0
      },
      "text/plain": [
       "Evaluating distortion00 (Severity 5):   0%|          | 0/157 [00:00<?, ?it/s]"
      ]
     },
     "metadata": {},
     "output_type": "display_data"
    },
    {
     "name": "stdout",
     "output_type": "stream",
     "text": [
      "distortion00 (Severity 5)\n"
     ]
    },
    {
     "data": {
      "application/vnd.jupyter.widget-view+json": {
       "model_id": "2d7ae33cec7e45ae8f4dcefbf4a6974f",
       "version_major": 2,
       "version_minor": 0
      },
      "text/plain": [
       "Evaluating distortion01 (Severity 1):   0%|          | 0/157 [00:00<?, ?it/s]"
      ]
     },
     "metadata": {},
     "output_type": "display_data"
    },
    {
     "name": "stdout",
     "output_type": "stream",
     "text": [
      "distortion01 (Severity 1)\n"
     ]
    },
    {
     "data": {
      "application/vnd.jupyter.widget-view+json": {
       "model_id": "4b8815622d5a417893f9b34e287b3567",
       "version_major": 2,
       "version_minor": 0
      },
      "text/plain": [
       "Evaluating distortion01 (Severity 2):   0%|          | 0/157 [00:00<?, ?it/s]"
      ]
     },
     "metadata": {},
     "output_type": "display_data"
    },
    {
     "name": "stdout",
     "output_type": "stream",
     "text": [
      "distortion01 (Severity 2)\n"
     ]
    },
    {
     "data": {
      "application/vnd.jupyter.widget-view+json": {
       "model_id": "1821a427938d47ec8db00e5d363e910f",
       "version_major": 2,
       "version_minor": 0
      },
      "text/plain": [
       "Evaluating distortion01 (Severity 3):   0%|          | 0/157 [00:00<?, ?it/s]"
      ]
     },
     "metadata": {},
     "output_type": "display_data"
    },
    {
     "name": "stdout",
     "output_type": "stream",
     "text": [
      "distortion01 (Severity 3)\n"
     ]
    },
    {
     "data": {
      "application/vnd.jupyter.widget-view+json": {
       "model_id": "ac17577fa0104c26becc84161d308586",
       "version_major": 2,
       "version_minor": 0
      },
      "text/plain": [
       "Evaluating distortion01 (Severity 4):   0%|          | 0/157 [00:00<?, ?it/s]"
      ]
     },
     "metadata": {},
     "output_type": "display_data"
    },
    {
     "name": "stdout",
     "output_type": "stream",
     "text": [
      "distortion01 (Severity 4)\n"
     ]
    },
    {
     "data": {
      "application/vnd.jupyter.widget-view+json": {
       "model_id": "71da09c4f59f48e89b5a7e98e66134ad",
       "version_major": 2,
       "version_minor": 0
      },
      "text/plain": [
       "Evaluating distortion01 (Severity 5):   0%|          | 0/157 [00:00<?, ?it/s]"
      ]
     },
     "metadata": {},
     "output_type": "display_data"
    },
    {
     "name": "stdout",
     "output_type": "stream",
     "text": [
      "distortion01 (Severity 5)\n"
     ]
    },
    {
     "data": {
      "application/vnd.jupyter.widget-view+json": {
       "model_id": "6c4f58a130424958b81ce632c588baa0",
       "version_major": 2,
       "version_minor": 0
      },
      "text/plain": [
       "Evaluating distortion02 (Severity 1):   0%|          | 0/157 [00:00<?, ?it/s]"
      ]
     },
     "metadata": {},
     "output_type": "display_data"
    },
    {
     "name": "stdout",
     "output_type": "stream",
     "text": [
      "distortion02 (Severity 1)\n"
     ]
    },
    {
     "data": {
      "application/vnd.jupyter.widget-view+json": {
       "model_id": "c5de80dd89b443df842b2f2bc99c8905",
       "version_major": 2,
       "version_minor": 0
      },
      "text/plain": [
       "Evaluating distortion02 (Severity 2):   0%|          | 0/157 [00:00<?, ?it/s]"
      ]
     },
     "metadata": {},
     "output_type": "display_data"
    },
    {
     "name": "stdout",
     "output_type": "stream",
     "text": [
      "distortion02 (Severity 2)\n"
     ]
    },
    {
     "data": {
      "application/vnd.jupyter.widget-view+json": {
       "model_id": "11bfcc8320db49c29a8b3a1fd82e7b8c",
       "version_major": 2,
       "version_minor": 0
      },
      "text/plain": [
       "Evaluating distortion02 (Severity 3):   0%|          | 0/157 [00:00<?, ?it/s]"
      ]
     },
     "metadata": {},
     "output_type": "display_data"
    },
    {
     "name": "stdout",
     "output_type": "stream",
     "text": [
      "distortion02 (Severity 3)\n"
     ]
    },
    {
     "data": {
      "application/vnd.jupyter.widget-view+json": {
       "model_id": "877774a9263c417d8f27ceb57d35421b",
       "version_major": 2,
       "version_minor": 0
      },
      "text/plain": [
       "Evaluating distortion02 (Severity 4):   0%|          | 0/157 [00:00<?, ?it/s]"
      ]
     },
     "metadata": {},
     "output_type": "display_data"
    },
    {
     "name": "stdout",
     "output_type": "stream",
     "text": [
      "distortion02 (Severity 4)\n"
     ]
    },
    {
     "data": {
      "application/vnd.jupyter.widget-view+json": {
       "model_id": "3426ce42a873470fb2d2a83e4df8515d",
       "version_major": 2,
       "version_minor": 0
      },
      "text/plain": [
       "Evaluating distortion02 (Severity 5):   0%|          | 0/157 [00:00<?, ?it/s]"
      ]
     },
     "metadata": {},
     "output_type": "display_data"
    },
    {
     "name": "stdout",
     "output_type": "stream",
     "text": [
      "distortion02 (Severity 5)\n"
     ]
    },
    {
     "data": {
      "application/vnd.jupyter.widget-view+json": {
       "model_id": "f11a8dc5b6974befb7ce64b2e566decc",
       "version_major": 2,
       "version_minor": 0
      },
      "text/plain": [
       "Evaluating distortion03 (Severity 1):   0%|          | 0/157 [00:00<?, ?it/s]"
      ]
     },
     "metadata": {},
     "output_type": "display_data"
    },
    {
     "name": "stdout",
     "output_type": "stream",
     "text": [
      "distortion03 (Severity 1)\n"
     ]
    },
    {
     "data": {
      "application/vnd.jupyter.widget-view+json": {
       "model_id": "67efe1ebd0a64336b206da0583300e76",
       "version_major": 2,
       "version_minor": 0
      },
      "text/plain": [
       "Evaluating distortion03 (Severity 2):   0%|          | 0/157 [00:00<?, ?it/s]"
      ]
     },
     "metadata": {},
     "output_type": "display_data"
    },
    {
     "name": "stdout",
     "output_type": "stream",
     "text": [
      "distortion03 (Severity 2)\n"
     ]
    },
    {
     "data": {
      "application/vnd.jupyter.widget-view+json": {
       "model_id": "136dda4d356a4303be4c9117e9a35a0b",
       "version_major": 2,
       "version_minor": 0
      },
      "text/plain": [
       "Evaluating distortion03 (Severity 3):   0%|          | 0/157 [00:00<?, ?it/s]"
      ]
     },
     "metadata": {},
     "output_type": "display_data"
    },
    {
     "name": "stdout",
     "output_type": "stream",
     "text": [
      "distortion03 (Severity 3)\n"
     ]
    },
    {
     "data": {
      "application/vnd.jupyter.widget-view+json": {
       "model_id": "1ac4884333174d458cb9e970a47e9791",
       "version_major": 2,
       "version_minor": 0
      },
      "text/plain": [
       "Evaluating distortion03 (Severity 4):   0%|          | 0/157 [00:00<?, ?it/s]"
      ]
     },
     "metadata": {},
     "output_type": "display_data"
    },
    {
     "name": "stdout",
     "output_type": "stream",
     "text": [
      "distortion03 (Severity 4)\n"
     ]
    },
    {
     "data": {
      "application/vnd.jupyter.widget-view+json": {
       "model_id": "365a547aa6404f20b679ec1a4b2adbfa",
       "version_major": 2,
       "version_minor": 0
      },
      "text/plain": [
       "Evaluating distortion03 (Severity 5):   0%|          | 0/157 [00:00<?, ?it/s]"
      ]
     },
     "metadata": {},
     "output_type": "display_data"
    },
    {
     "name": "stdout",
     "output_type": "stream",
     "text": [
      "distortion03 (Severity 5)\n"
     ]
    },
    {
     "data": {
      "application/vnd.jupyter.widget-view+json": {
       "model_id": "e852478a93e14ec9b82f3c3c2f3adfd2",
       "version_major": 2,
       "version_minor": 0
      },
      "text/plain": [
       "Evaluating distortion04 (Severity 1):   0%|          | 0/157 [00:00<?, ?it/s]"
      ]
     },
     "metadata": {},
     "output_type": "display_data"
    },
    {
     "name": "stdout",
     "output_type": "stream",
     "text": [
      "distortion04 (Severity 1)\n"
     ]
    },
    {
     "data": {
      "application/vnd.jupyter.widget-view+json": {
       "model_id": "3f47ce4784384e808fbfe030b5750758",
       "version_major": 2,
       "version_minor": 0
      },
      "text/plain": [
       "Evaluating distortion04 (Severity 2):   0%|          | 0/157 [00:00<?, ?it/s]"
      ]
     },
     "metadata": {},
     "output_type": "display_data"
    },
    {
     "name": "stdout",
     "output_type": "stream",
     "text": [
      "distortion04 (Severity 2)\n"
     ]
    },
    {
     "data": {
      "application/vnd.jupyter.widget-view+json": {
       "model_id": "f7fbf450efac4114b6cd8978f0052e88",
       "version_major": 2,
       "version_minor": 0
      },
      "text/plain": [
       "Evaluating distortion04 (Severity 3):   0%|          | 0/157 [00:00<?, ?it/s]"
      ]
     },
     "metadata": {},
     "output_type": "display_data"
    },
    {
     "name": "stdout",
     "output_type": "stream",
     "text": [
      "distortion04 (Severity 3)\n"
     ]
    },
    {
     "data": {
      "application/vnd.jupyter.widget-view+json": {
       "model_id": "29bae56cac7b44f8b263d3c2d9daf394",
       "version_major": 2,
       "version_minor": 0
      },
      "text/plain": [
       "Evaluating distortion04 (Severity 4):   0%|          | 0/157 [00:00<?, ?it/s]"
      ]
     },
     "metadata": {},
     "output_type": "display_data"
    },
    {
     "name": "stdout",
     "output_type": "stream",
     "text": [
      "distortion04 (Severity 4)\n"
     ]
    },
    {
     "data": {
      "application/vnd.jupyter.widget-view+json": {
       "model_id": "a3ca815524884e68b9d3cf72be150ebe",
       "version_major": 2,
       "version_minor": 0
      },
      "text/plain": [
       "Evaluating distortion04 (Severity 5):   0%|          | 0/157 [00:00<?, ?it/s]"
      ]
     },
     "metadata": {},
     "output_type": "display_data"
    },
    {
     "name": "stdout",
     "output_type": "stream",
     "text": [
      "distortion04 (Severity 5)\n"
     ]
    },
    {
     "data": {
      "application/vnd.jupyter.widget-view+json": {
       "model_id": "074402ba2ea64db48f631d5718c384bf",
       "version_major": 2,
       "version_minor": 0
      },
      "text/plain": [
       "Evaluating distortion05 (Severity 1):   0%|          | 0/157 [00:00<?, ?it/s]"
      ]
     },
     "metadata": {},
     "output_type": "display_data"
    },
    {
     "name": "stdout",
     "output_type": "stream",
     "text": [
      "distortion05 (Severity 1)\n"
     ]
    },
    {
     "data": {
      "application/vnd.jupyter.widget-view+json": {
       "model_id": "d9d2804010114773a1ccd36967e97c88",
       "version_major": 2,
       "version_minor": 0
      },
      "text/plain": [
       "Evaluating distortion05 (Severity 2):   0%|          | 0/157 [00:00<?, ?it/s]"
      ]
     },
     "metadata": {},
     "output_type": "display_data"
    },
    {
     "name": "stdout",
     "output_type": "stream",
     "text": [
      "distortion05 (Severity 2)\n"
     ]
    },
    {
     "data": {
      "application/vnd.jupyter.widget-view+json": {
       "model_id": "359b23b823c444a58ed8f21a8280ce78",
       "version_major": 2,
       "version_minor": 0
      },
      "text/plain": [
       "Evaluating distortion05 (Severity 3):   0%|          | 0/157 [00:00<?, ?it/s]"
      ]
     },
     "metadata": {},
     "output_type": "display_data"
    },
    {
     "name": "stdout",
     "output_type": "stream",
     "text": [
      "distortion05 (Severity 3)\n"
     ]
    },
    {
     "data": {
      "application/vnd.jupyter.widget-view+json": {
       "model_id": "75ab516d62544c87ba48399cae0bebca",
       "version_major": 2,
       "version_minor": 0
      },
      "text/plain": [
       "Evaluating distortion05 (Severity 4):   0%|          | 0/157 [00:00<?, ?it/s]"
      ]
     },
     "metadata": {},
     "output_type": "display_data"
    },
    {
     "name": "stdout",
     "output_type": "stream",
     "text": [
      "distortion05 (Severity 4)\n"
     ]
    },
    {
     "data": {
      "application/vnd.jupyter.widget-view+json": {
       "model_id": "af6e9eb1259146a6b351d62bf0d33b07",
       "version_major": 2,
       "version_minor": 0
      },
      "text/plain": [
       "Evaluating distortion05 (Severity 5):   0%|          | 0/157 [00:00<?, ?it/s]"
      ]
     },
     "metadata": {},
     "output_type": "display_data"
    },
    {
     "name": "stdout",
     "output_type": "stream",
     "text": [
      "distortion05 (Severity 5)\n"
     ]
    },
    {
     "data": {
      "application/vnd.jupyter.widget-view+json": {
       "model_id": "b7e38655f65f4b1790add1f10778d383",
       "version_major": 2,
       "version_minor": 0
      },
      "text/plain": [
       "Evaluating distortion06 (Severity 1):   0%|          | 0/157 [00:00<?, ?it/s]"
      ]
     },
     "metadata": {},
     "output_type": "display_data"
    },
    {
     "name": "stdout",
     "output_type": "stream",
     "text": [
      "distortion06 (Severity 1)\n"
     ]
    },
    {
     "data": {
      "application/vnd.jupyter.widget-view+json": {
       "model_id": "4cf09ab56fd64ed4b10dd9cdc50abc5d",
       "version_major": 2,
       "version_minor": 0
      },
      "text/plain": [
       "Evaluating distortion06 (Severity 2):   0%|          | 0/157 [00:00<?, ?it/s]"
      ]
     },
     "metadata": {},
     "output_type": "display_data"
    },
    {
     "name": "stdout",
     "output_type": "stream",
     "text": [
      "distortion06 (Severity 2)\n"
     ]
    },
    {
     "data": {
      "application/vnd.jupyter.widget-view+json": {
       "model_id": "8cf82a28deb14163b95b4a58952072f8",
       "version_major": 2,
       "version_minor": 0
      },
      "text/plain": [
       "Evaluating distortion06 (Severity 3):   0%|          | 0/157 [00:00<?, ?it/s]"
      ]
     },
     "metadata": {},
     "output_type": "display_data"
    },
    {
     "name": "stdout",
     "output_type": "stream",
     "text": [
      "distortion06 (Severity 3)\n"
     ]
    },
    {
     "data": {
      "application/vnd.jupyter.widget-view+json": {
       "model_id": "f5e8312a305c43ad90ec4578ca64e209",
       "version_major": 2,
       "version_minor": 0
      },
      "text/plain": [
       "Evaluating distortion06 (Severity 4):   0%|          | 0/157 [00:00<?, ?it/s]"
      ]
     },
     "metadata": {},
     "output_type": "display_data"
    },
    {
     "name": "stdout",
     "output_type": "stream",
     "text": [
      "distortion06 (Severity 4)\n"
     ]
    },
    {
     "data": {
      "application/vnd.jupyter.widget-view+json": {
       "model_id": "68d04286a6324b98bf70fb6afcaa3e2f",
       "version_major": 2,
       "version_minor": 0
      },
      "text/plain": [
       "Evaluating distortion06 (Severity 5):   0%|          | 0/157 [00:00<?, ?it/s]"
      ]
     },
     "metadata": {},
     "output_type": "display_data"
    },
    {
     "name": "stdout",
     "output_type": "stream",
     "text": [
      "distortion06 (Severity 5)\n"
     ]
    },
    {
     "data": {
      "application/vnd.jupyter.widget-view+json": {
       "model_id": "ea32ae854c634b6a85e54deeafd1a9a9",
       "version_major": 2,
       "version_minor": 0
      },
      "text/plain": [
       "Evaluating distortion07 (Severity 1):   0%|          | 0/157 [00:00<?, ?it/s]"
      ]
     },
     "metadata": {},
     "output_type": "display_data"
    },
    {
     "name": "stdout",
     "output_type": "stream",
     "text": [
      "distortion07 (Severity 1)\n"
     ]
    },
    {
     "data": {
      "application/vnd.jupyter.widget-view+json": {
       "model_id": "d210222c8ac6495fb5475b06af8c8cbc",
       "version_major": 2,
       "version_minor": 0
      },
      "text/plain": [
       "Evaluating distortion07 (Severity 2):   0%|          | 0/157 [00:00<?, ?it/s]"
      ]
     },
     "metadata": {},
     "output_type": "display_data"
    },
    {
     "name": "stdout",
     "output_type": "stream",
     "text": [
      "distortion07 (Severity 2)\n"
     ]
    },
    {
     "data": {
      "application/vnd.jupyter.widget-view+json": {
       "model_id": "4419a848095b4d6ebbdd628a9cc05097",
       "version_major": 2,
       "version_minor": 0
      },
      "text/plain": [
       "Evaluating distortion07 (Severity 3):   0%|          | 0/157 [00:00<?, ?it/s]"
      ]
     },
     "metadata": {},
     "output_type": "display_data"
    },
    {
     "name": "stdout",
     "output_type": "stream",
     "text": [
      "distortion07 (Severity 3)\n"
     ]
    },
    {
     "data": {
      "application/vnd.jupyter.widget-view+json": {
       "model_id": "55a8946ed2f54395826a9959861d98c7",
       "version_major": 2,
       "version_minor": 0
      },
      "text/plain": [
       "Evaluating distortion07 (Severity 4):   0%|          | 0/157 [00:00<?, ?it/s]"
      ]
     },
     "metadata": {},
     "output_type": "display_data"
    },
    {
     "name": "stdout",
     "output_type": "stream",
     "text": [
      "distortion07 (Severity 4)\n"
     ]
    },
    {
     "data": {
      "application/vnd.jupyter.widget-view+json": {
       "model_id": "92c836ec229440639fa915993247a81f",
       "version_major": 2,
       "version_minor": 0
      },
      "text/plain": [
       "Evaluating distortion07 (Severity 5):   0%|          | 0/157 [00:00<?, ?it/s]"
      ]
     },
     "metadata": {},
     "output_type": "display_data"
    },
    {
     "name": "stdout",
     "output_type": "stream",
     "text": [
      "distortion07 (Severity 5)\n"
     ]
    },
    {
     "data": {
      "application/vnd.jupyter.widget-view+json": {
       "model_id": "fc5246176bf54a2dbf0c18cada00dc65",
       "version_major": 2,
       "version_minor": 0
      },
      "text/plain": [
       "Evaluating distortion08 (Severity 1):   0%|          | 0/157 [00:00<?, ?it/s]"
      ]
     },
     "metadata": {},
     "output_type": "display_data"
    },
    {
     "name": "stdout",
     "output_type": "stream",
     "text": [
      "distortion08 (Severity 1)\n"
     ]
    },
    {
     "data": {
      "application/vnd.jupyter.widget-view+json": {
       "model_id": "c4a7f3d5f0e9458288cae230b1802600",
       "version_major": 2,
       "version_minor": 0
      },
      "text/plain": [
       "Evaluating distortion08 (Severity 2):   0%|          | 0/157 [00:00<?, ?it/s]"
      ]
     },
     "metadata": {},
     "output_type": "display_data"
    },
    {
     "name": "stdout",
     "output_type": "stream",
     "text": [
      "distortion08 (Severity 2)\n"
     ]
    },
    {
     "data": {
      "application/vnd.jupyter.widget-view+json": {
       "model_id": "d6e8bf8d6aaa401da534c6c0c7d4dc4d",
       "version_major": 2,
       "version_minor": 0
      },
      "text/plain": [
       "Evaluating distortion08 (Severity 3):   0%|          | 0/157 [00:00<?, ?it/s]"
      ]
     },
     "metadata": {},
     "output_type": "display_data"
    },
    {
     "name": "stdout",
     "output_type": "stream",
     "text": [
      "distortion08 (Severity 3)\n"
     ]
    },
    {
     "data": {
      "application/vnd.jupyter.widget-view+json": {
       "model_id": "d6630ea59d54448e9e6eb721bcf442cc",
       "version_major": 2,
       "version_minor": 0
      },
      "text/plain": [
       "Evaluating distortion08 (Severity 4):   0%|          | 0/157 [00:00<?, ?it/s]"
      ]
     },
     "metadata": {},
     "output_type": "display_data"
    },
    {
     "name": "stdout",
     "output_type": "stream",
     "text": [
      "distortion08 (Severity 4)\n"
     ]
    },
    {
     "data": {
      "application/vnd.jupyter.widget-view+json": {
       "model_id": "a5192004d7074575bae4fbc885ac5001",
       "version_major": 2,
       "version_minor": 0
      },
      "text/plain": [
       "Evaluating distortion08 (Severity 5):   0%|          | 0/157 [00:00<?, ?it/s]"
      ]
     },
     "metadata": {},
     "output_type": "display_data"
    },
    {
     "name": "stdout",
     "output_type": "stream",
     "text": [
      "distortion08 (Severity 5)\n"
     ]
    },
    {
     "data": {
      "application/vnd.jupyter.widget-view+json": {
       "model_id": "da47394fc4b5478a90280b1b39e5bf5e",
       "version_major": 2,
       "version_minor": 0
      },
      "text/plain": [
       "Evaluating distortion09 (Severity 1):   0%|          | 0/157 [00:00<?, ?it/s]"
      ]
     },
     "metadata": {},
     "output_type": "display_data"
    },
    {
     "name": "stdout",
     "output_type": "stream",
     "text": [
      "distortion09 (Severity 1)\n"
     ]
    },
    {
     "data": {
      "application/vnd.jupyter.widget-view+json": {
       "model_id": "432462d873bb4ed98598b7ea035537ae",
       "version_major": 2,
       "version_minor": 0
      },
      "text/plain": [
       "Evaluating distortion09 (Severity 2):   0%|          | 0/157 [00:00<?, ?it/s]"
      ]
     },
     "metadata": {},
     "output_type": "display_data"
    },
    {
     "name": "stdout",
     "output_type": "stream",
     "text": [
      "distortion09 (Severity 2)\n"
     ]
    },
    {
     "data": {
      "application/vnd.jupyter.widget-view+json": {
       "model_id": "ea9b9c0f22a0407a9a28fa84d58edc14",
       "version_major": 2,
       "version_minor": 0
      },
      "text/plain": [
       "Evaluating distortion09 (Severity 3):   0%|          | 0/157 [00:00<?, ?it/s]"
      ]
     },
     "metadata": {},
     "output_type": "display_data"
    },
    {
     "name": "stdout",
     "output_type": "stream",
     "text": [
      "distortion09 (Severity 3)\n"
     ]
    },
    {
     "data": {
      "application/vnd.jupyter.widget-view+json": {
       "model_id": "c0788d9f44474d6b87a730c2b0385b5c",
       "version_major": 2,
       "version_minor": 0
      },
      "text/plain": [
       "Evaluating distortion09 (Severity 4):   0%|          | 0/157 [00:00<?, ?it/s]"
      ]
     },
     "metadata": {},
     "output_type": "display_data"
    },
    {
     "name": "stdout",
     "output_type": "stream",
     "text": [
      "distortion09 (Severity 4)\n"
     ]
    },
    {
     "data": {
      "application/vnd.jupyter.widget-view+json": {
       "model_id": "169cfbca7eb4401eb0517b9a7381980e",
       "version_major": 2,
       "version_minor": 0
      },
      "text/plain": [
       "Evaluating distortion09 (Severity 5):   0%|          | 0/157 [00:00<?, ?it/s]"
      ]
     },
     "metadata": {},
     "output_type": "display_data"
    },
    {
     "name": "stdout",
     "output_type": "stream",
     "text": [
      "distortion09 (Severity 5)\n"
     ]
    },
    {
     "data": {
      "application/vnd.jupyter.widget-view+json": {
       "model_id": "3cb55da85e6f454480114f212ff3e2d4",
       "version_major": 2,
       "version_minor": 0
      },
      "text/plain": [
       "Evaluating distortion10 (Severity 1):   0%|          | 0/157 [00:00<?, ?it/s]"
      ]
     },
     "metadata": {},
     "output_type": "display_data"
    },
    {
     "name": "stdout",
     "output_type": "stream",
     "text": [
      "distortion10 (Severity 1)\n"
     ]
    },
    {
     "data": {
      "application/vnd.jupyter.widget-view+json": {
       "model_id": "24e306d5131144f8a1918ecd8db93942",
       "version_major": 2,
       "version_minor": 0
      },
      "text/plain": [
       "Evaluating distortion10 (Severity 2):   0%|          | 0/157 [00:00<?, ?it/s]"
      ]
     },
     "metadata": {},
     "output_type": "display_data"
    },
    {
     "name": "stdout",
     "output_type": "stream",
     "text": [
      "distortion10 (Severity 2)\n"
     ]
    },
    {
     "data": {
      "application/vnd.jupyter.widget-view+json": {
       "model_id": "b988dac89cca4805a4998c3e1a2951b7",
       "version_major": 2,
       "version_minor": 0
      },
      "text/plain": [
       "Evaluating distortion10 (Severity 3):   0%|          | 0/157 [00:00<?, ?it/s]"
      ]
     },
     "metadata": {},
     "output_type": "display_data"
    },
    {
     "name": "stdout",
     "output_type": "stream",
     "text": [
      "distortion10 (Severity 3)\n"
     ]
    },
    {
     "data": {
      "application/vnd.jupyter.widget-view+json": {
       "model_id": "4539002844db41859b6fee2043d92af3",
       "version_major": 2,
       "version_minor": 0
      },
      "text/plain": [
       "Evaluating distortion10 (Severity 4):   0%|          | 0/157 [00:00<?, ?it/s]"
      ]
     },
     "metadata": {},
     "output_type": "display_data"
    },
    {
     "name": "stdout",
     "output_type": "stream",
     "text": [
      "distortion10 (Severity 4)\n"
     ]
    },
    {
     "data": {
      "application/vnd.jupyter.widget-view+json": {
       "model_id": "e3bb46cbfa48407ea95c7082d93f53b9",
       "version_major": 2,
       "version_minor": 0
      },
      "text/plain": [
       "Evaluating distortion10 (Severity 5):   0%|          | 0/157 [00:00<?, ?it/s]"
      ]
     },
     "metadata": {},
     "output_type": "display_data"
    },
    {
     "name": "stdout",
     "output_type": "stream",
     "text": [
      "distortion10 (Severity 5)\n"
     ]
    },
    {
     "data": {
      "application/vnd.jupyter.widget-view+json": {
       "model_id": "dd8d1d3c38b24c2fbbd3a31728f678ba",
       "version_major": 2,
       "version_minor": 0
      },
      "text/plain": [
       "Evaluating distortion11 (Severity 1):   0%|          | 0/157 [00:00<?, ?it/s]"
      ]
     },
     "metadata": {},
     "output_type": "display_data"
    },
    {
     "name": "stdout",
     "output_type": "stream",
     "text": [
      "distortion11 (Severity 1)\n"
     ]
    },
    {
     "data": {
      "application/vnd.jupyter.widget-view+json": {
       "model_id": "097c7f329e6642b096954fcc8f07201e",
       "version_major": 2,
       "version_minor": 0
      },
      "text/plain": [
       "Evaluating distortion11 (Severity 2):   0%|          | 0/157 [00:00<?, ?it/s]"
      ]
     },
     "metadata": {},
     "output_type": "display_data"
    },
    {
     "name": "stdout",
     "output_type": "stream",
     "text": [
      "distortion11 (Severity 2)\n"
     ]
    },
    {
     "data": {
      "application/vnd.jupyter.widget-view+json": {
       "model_id": "612e8a0221684b0c845995c8d62681a9",
       "version_major": 2,
       "version_minor": 0
      },
      "text/plain": [
       "Evaluating distortion11 (Severity 3):   0%|          | 0/157 [00:00<?, ?it/s]"
      ]
     },
     "metadata": {},
     "output_type": "display_data"
    },
    {
     "name": "stdout",
     "output_type": "stream",
     "text": [
      "distortion11 (Severity 3)\n"
     ]
    },
    {
     "data": {
      "application/vnd.jupyter.widget-view+json": {
       "model_id": "50921b43e01c49959c966a5fcf1f3b20",
       "version_major": 2,
       "version_minor": 0
      },
      "text/plain": [
       "Evaluating distortion11 (Severity 4):   0%|          | 0/157 [00:00<?, ?it/s]"
      ]
     },
     "metadata": {},
     "output_type": "display_data"
    },
    {
     "name": "stdout",
     "output_type": "stream",
     "text": [
      "distortion11 (Severity 4)\n"
     ]
    },
    {
     "data": {
      "application/vnd.jupyter.widget-view+json": {
       "model_id": "0c4fc49888ca4baabb62e9a9923c8ef1",
       "version_major": 2,
       "version_minor": 0
      },
      "text/plain": [
       "Evaluating distortion11 (Severity 5):   0%|          | 0/157 [00:00<?, ?it/s]"
      ]
     },
     "metadata": {},
     "output_type": "display_data"
    },
    {
     "name": "stdout",
     "output_type": "stream",
     "text": [
      "distortion11 (Severity 5)\n"
     ]
    },
    {
     "data": {
      "application/vnd.jupyter.widget-view+json": {
       "model_id": "2f1fd76b2ce146099d2856383b63f218",
       "version_major": 2,
       "version_minor": 0
      },
      "text/plain": [
       "Evaluating distortion12 (Severity 1):   0%|          | 0/157 [00:00<?, ?it/s]"
      ]
     },
     "metadata": {},
     "output_type": "display_data"
    },
    {
     "name": "stdout",
     "output_type": "stream",
     "text": [
      "distortion12 (Severity 1)\n"
     ]
    },
    {
     "data": {
      "application/vnd.jupyter.widget-view+json": {
       "model_id": "cbcfce8e7ded498ca331360db246db29",
       "version_major": 2,
       "version_minor": 0
      },
      "text/plain": [
       "Evaluating distortion12 (Severity 2):   0%|          | 0/157 [00:00<?, ?it/s]"
      ]
     },
     "metadata": {},
     "output_type": "display_data"
    },
    {
     "name": "stdout",
     "output_type": "stream",
     "text": [
      "distortion12 (Severity 2)\n"
     ]
    },
    {
     "data": {
      "application/vnd.jupyter.widget-view+json": {
       "model_id": "bf1f71cdffb849d3bb9c6c885010d6fe",
       "version_major": 2,
       "version_minor": 0
      },
      "text/plain": [
       "Evaluating distortion12 (Severity 3):   0%|          | 0/157 [00:00<?, ?it/s]"
      ]
     },
     "metadata": {},
     "output_type": "display_data"
    },
    {
     "name": "stdout",
     "output_type": "stream",
     "text": [
      "distortion12 (Severity 3)\n"
     ]
    },
    {
     "data": {
      "application/vnd.jupyter.widget-view+json": {
       "model_id": "9a11afe118254b90abf27935b8c8ff39",
       "version_major": 2,
       "version_minor": 0
      },
      "text/plain": [
       "Evaluating distortion12 (Severity 4):   0%|          | 0/157 [00:00<?, ?it/s]"
      ]
     },
     "metadata": {},
     "output_type": "display_data"
    },
    {
     "name": "stdout",
     "output_type": "stream",
     "text": [
      "distortion12 (Severity 4)\n"
     ]
    },
    {
     "data": {
      "application/vnd.jupyter.widget-view+json": {
       "model_id": "8a3be80004d84eec9968736b47fe3a55",
       "version_major": 2,
       "version_minor": 0
      },
      "text/plain": [
       "Evaluating distortion12 (Severity 5):   0%|          | 0/157 [00:00<?, ?it/s]"
      ]
     },
     "metadata": {},
     "output_type": "display_data"
    },
    {
     "name": "stdout",
     "output_type": "stream",
     "text": [
      "distortion12 (Severity 5)\n"
     ]
    },
    {
     "data": {
      "application/vnd.jupyter.widget-view+json": {
       "model_id": "8076b91769a74903a1d1ae221fa75a02",
       "version_major": 2,
       "version_minor": 0
      },
      "text/plain": [
       "Evaluating distortion13 (Severity 1):   0%|          | 0/157 [00:00<?, ?it/s]"
      ]
     },
     "metadata": {},
     "output_type": "display_data"
    },
    {
     "name": "stdout",
     "output_type": "stream",
     "text": [
      "distortion13 (Severity 1)\n"
     ]
    },
    {
     "data": {
      "application/vnd.jupyter.widget-view+json": {
       "model_id": "3e65dba48b7f4acfad9efe617e9ef970",
       "version_major": 2,
       "version_minor": 0
      },
      "text/plain": [
       "Evaluating distortion13 (Severity 2):   0%|          | 0/157 [00:00<?, ?it/s]"
      ]
     },
     "metadata": {},
     "output_type": "display_data"
    },
    {
     "name": "stdout",
     "output_type": "stream",
     "text": [
      "distortion13 (Severity 2)\n"
     ]
    },
    {
     "data": {
      "application/vnd.jupyter.widget-view+json": {
       "model_id": "d6d529b7bce540498fb29d6b5b24202c",
       "version_major": 2,
       "version_minor": 0
      },
      "text/plain": [
       "Evaluating distortion13 (Severity 3):   0%|          | 0/157 [00:00<?, ?it/s]"
      ]
     },
     "metadata": {},
     "output_type": "display_data"
    },
    {
     "name": "stdout",
     "output_type": "stream",
     "text": [
      "distortion13 (Severity 3)\n"
     ]
    },
    {
     "data": {
      "application/vnd.jupyter.widget-view+json": {
       "model_id": "595c3cdd475947069f3bb54592eb02be",
       "version_major": 2,
       "version_minor": 0
      },
      "text/plain": [
       "Evaluating distortion13 (Severity 4):   0%|          | 0/157 [00:00<?, ?it/s]"
      ]
     },
     "metadata": {},
     "output_type": "display_data"
    },
    {
     "name": "stdout",
     "output_type": "stream",
     "text": [
      "distortion13 (Severity 4)\n"
     ]
    },
    {
     "data": {
      "application/vnd.jupyter.widget-view+json": {
       "model_id": "0fd9658c38a84718987969d5b185c808",
       "version_major": 2,
       "version_minor": 0
      },
      "text/plain": [
       "Evaluating distortion13 (Severity 5):   0%|          | 0/157 [00:00<?, ?it/s]"
      ]
     },
     "metadata": {},
     "output_type": "display_data"
    },
    {
     "name": "stdout",
     "output_type": "stream",
     "text": [
      "distortion13 (Severity 5)\n"
     ]
    },
    {
     "data": {
      "application/vnd.jupyter.widget-view+json": {
       "model_id": "2518907d8b354b788f56dcd1c3e2189b",
       "version_major": 2,
       "version_minor": 0
      },
      "text/plain": [
       "Evaluating distortion14 (Severity 1):   0%|          | 0/157 [00:00<?, ?it/s]"
      ]
     },
     "metadata": {},
     "output_type": "display_data"
    },
    {
     "name": "stdout",
     "output_type": "stream",
     "text": [
      "distortion14 (Severity 1)\n"
     ]
    },
    {
     "data": {
      "application/vnd.jupyter.widget-view+json": {
       "model_id": "18f63685b24d4ac0a8ee5122e02d5b97",
       "version_major": 2,
       "version_minor": 0
      },
      "text/plain": [
       "Evaluating distortion14 (Severity 2):   0%|          | 0/157 [00:00<?, ?it/s]"
      ]
     },
     "metadata": {},
     "output_type": "display_data"
    },
    {
     "name": "stdout",
     "output_type": "stream",
     "text": [
      "distortion14 (Severity 2)\n"
     ]
    },
    {
     "data": {
      "application/vnd.jupyter.widget-view+json": {
       "model_id": "e3e64c61d3314e94b132fafb7256ad77",
       "version_major": 2,
       "version_minor": 0
      },
      "text/plain": [
       "Evaluating distortion14 (Severity 3):   0%|          | 0/157 [00:00<?, ?it/s]"
      ]
     },
     "metadata": {},
     "output_type": "display_data"
    },
    {
     "name": "stdout",
     "output_type": "stream",
     "text": [
      "distortion14 (Severity 3)\n"
     ]
    },
    {
     "data": {
      "application/vnd.jupyter.widget-view+json": {
       "model_id": "e4e5d3081a084d75a4287a2a086f78d3",
       "version_major": 2,
       "version_minor": 0
      },
      "text/plain": [
       "Evaluating distortion14 (Severity 4):   0%|          | 0/157 [00:00<?, ?it/s]"
      ]
     },
     "metadata": {},
     "output_type": "display_data"
    },
    {
     "name": "stdout",
     "output_type": "stream",
     "text": [
      "distortion14 (Severity 4)\n"
     ]
    },
    {
     "data": {
      "application/vnd.jupyter.widget-view+json": {
       "model_id": "81ff712b70f2442594d47116d790f20f",
       "version_major": 2,
       "version_minor": 0
      },
      "text/plain": [
       "Evaluating distortion14 (Severity 5):   0%|          | 0/157 [00:00<?, ?it/s]"
      ]
     },
     "metadata": {},
     "output_type": "display_data"
    },
    {
     "name": "stdout",
     "output_type": "stream",
     "text": [
      "distortion14 (Severity 5)\n"
     ]
    },
    {
     "data": {
      "application/vnd.jupyter.widget-view+json": {
       "model_id": "22c8142ba45d4ef6951908934e519ff4",
       "version_major": 2,
       "version_minor": 0
      },
      "text/plain": [
       "Evaluating distortion15 (Severity 1):   0%|          | 0/157 [00:00<?, ?it/s]"
      ]
     },
     "metadata": {},
     "output_type": "display_data"
    },
    {
     "name": "stdout",
     "output_type": "stream",
     "text": [
      "distortion15 (Severity 1)\n"
     ]
    },
    {
     "data": {
      "application/vnd.jupyter.widget-view+json": {
       "model_id": "e7757b4a504c40fea52d700de49a7bd5",
       "version_major": 2,
       "version_minor": 0
      },
      "text/plain": [
       "Evaluating distortion15 (Severity 2):   0%|          | 0/157 [00:00<?, ?it/s]"
      ]
     },
     "metadata": {},
     "output_type": "display_data"
    },
    {
     "name": "stdout",
     "output_type": "stream",
     "text": [
      "distortion15 (Severity 2)\n"
     ]
    },
    {
     "data": {
      "application/vnd.jupyter.widget-view+json": {
       "model_id": "021565f12c7f4069a956f4c2f8994320",
       "version_major": 2,
       "version_minor": 0
      },
      "text/plain": [
       "Evaluating distortion15 (Severity 3):   0%|          | 0/157 [00:00<?, ?it/s]"
      ]
     },
     "metadata": {},
     "output_type": "display_data"
    },
    {
     "name": "stdout",
     "output_type": "stream",
     "text": [
      "distortion15 (Severity 3)\n"
     ]
    },
    {
     "data": {
      "application/vnd.jupyter.widget-view+json": {
       "model_id": "152ffc310c1141749c0df067a8bab055",
       "version_major": 2,
       "version_minor": 0
      },
      "text/plain": [
       "Evaluating distortion15 (Severity 4):   0%|          | 0/157 [00:00<?, ?it/s]"
      ]
     },
     "metadata": {},
     "output_type": "display_data"
    },
    {
     "name": "stdout",
     "output_type": "stream",
     "text": [
      "distortion15 (Severity 4)\n"
     ]
    },
    {
     "data": {
      "application/vnd.jupyter.widget-view+json": {
       "model_id": "702a8f9ba27d476fa4c52e495bde0e11",
       "version_major": 2,
       "version_minor": 0
      },
      "text/plain": [
       "Evaluating distortion15 (Severity 5):   0%|          | 0/157 [00:00<?, ?it/s]"
      ]
     },
     "metadata": {},
     "output_type": "display_data"
    },
    {
     "name": "stdout",
     "output_type": "stream",
     "text": [
      "distortion15 (Severity 5)\n"
     ]
    },
    {
     "data": {
      "application/vnd.jupyter.widget-view+json": {
       "model_id": "7e84f635821a48bea23afee3fc2c5ddd",
       "version_major": 2,
       "version_minor": 0
      },
      "text/plain": [
       "Evaluating distortion16 (Severity 1):   0%|          | 0/157 [00:00<?, ?it/s]"
      ]
     },
     "metadata": {},
     "output_type": "display_data"
    },
    {
     "name": "stdout",
     "output_type": "stream",
     "text": [
      "distortion16 (Severity 1)\n"
     ]
    },
    {
     "data": {
      "application/vnd.jupyter.widget-view+json": {
       "model_id": "d232ad9b743e40d09fe8741e1f2b5b54",
       "version_major": 2,
       "version_minor": 0
      },
      "text/plain": [
       "Evaluating distortion16 (Severity 2):   0%|          | 0/157 [00:00<?, ?it/s]"
      ]
     },
     "metadata": {},
     "output_type": "display_data"
    },
    {
     "name": "stdout",
     "output_type": "stream",
     "text": [
      "distortion16 (Severity 2)\n"
     ]
    },
    {
     "data": {
      "application/vnd.jupyter.widget-view+json": {
       "model_id": "534021c07a624deca933ee4a1f2ca671",
       "version_major": 2,
       "version_minor": 0
      },
      "text/plain": [
       "Evaluating distortion16 (Severity 3):   0%|          | 0/157 [00:00<?, ?it/s]"
      ]
     },
     "metadata": {},
     "output_type": "display_data"
    },
    {
     "name": "stdout",
     "output_type": "stream",
     "text": [
      "distortion16 (Severity 3)\n"
     ]
    },
    {
     "data": {
      "application/vnd.jupyter.widget-view+json": {
       "model_id": "15e232b8a8df4ebeafb77c563803b183",
       "version_major": 2,
       "version_minor": 0
      },
      "text/plain": [
       "Evaluating distortion16 (Severity 4):   0%|          | 0/157 [00:00<?, ?it/s]"
      ]
     },
     "metadata": {},
     "output_type": "display_data"
    },
    {
     "name": "stdout",
     "output_type": "stream",
     "text": [
      "distortion16 (Severity 4)\n"
     ]
    },
    {
     "data": {
      "application/vnd.jupyter.widget-view+json": {
       "model_id": "ecdc1768e61a40008915ef66cb7148d9",
       "version_major": 2,
       "version_minor": 0
      },
      "text/plain": [
       "Evaluating distortion16 (Severity 5):   0%|          | 0/157 [00:00<?, ?it/s]"
      ]
     },
     "metadata": {},
     "output_type": "display_data"
    },
    {
     "name": "stdout",
     "output_type": "stream",
     "text": [
      "distortion16 (Severity 5)\n"
     ]
    },
    {
     "data": {
      "application/vnd.jupyter.widget-view+json": {
       "model_id": "9198bb8352cb4f21aec3149c0de919b5",
       "version_major": 2,
       "version_minor": 0
      },
      "text/plain": [
       "Evaluating distortion17 (Severity 1):   0%|          | 0/157 [00:00<?, ?it/s]"
      ]
     },
     "metadata": {},
     "output_type": "display_data"
    },
    {
     "name": "stdout",
     "output_type": "stream",
     "text": [
      "distortion17 (Severity 1)\n"
     ]
    },
    {
     "data": {
      "application/vnd.jupyter.widget-view+json": {
       "model_id": "3e9624433d9b4ef1b403876b59c721eb",
       "version_major": 2,
       "version_minor": 0
      },
      "text/plain": [
       "Evaluating distortion17 (Severity 2):   0%|          | 0/157 [00:00<?, ?it/s]"
      ]
     },
     "metadata": {},
     "output_type": "display_data"
    },
    {
     "name": "stdout",
     "output_type": "stream",
     "text": [
      "distortion17 (Severity 2)\n"
     ]
    },
    {
     "data": {
      "application/vnd.jupyter.widget-view+json": {
       "model_id": "3acfeba78a434e8f985d98f7ccc58787",
       "version_major": 2,
       "version_minor": 0
      },
      "text/plain": [
       "Evaluating distortion17 (Severity 3):   0%|          | 0/157 [00:00<?, ?it/s]"
      ]
     },
     "metadata": {},
     "output_type": "display_data"
    },
    {
     "name": "stdout",
     "output_type": "stream",
     "text": [
      "distortion17 (Severity 3)\n"
     ]
    },
    {
     "data": {
      "application/vnd.jupyter.widget-view+json": {
       "model_id": "5d061723d27d4d73a944887316f8b088",
       "version_major": 2,
       "version_minor": 0
      },
      "text/plain": [
       "Evaluating distortion17 (Severity 4):   0%|          | 0/157 [00:00<?, ?it/s]"
      ]
     },
     "metadata": {},
     "output_type": "display_data"
    },
    {
     "name": "stdout",
     "output_type": "stream",
     "text": [
      "distortion17 (Severity 4)\n"
     ]
    },
    {
     "data": {
      "application/vnd.jupyter.widget-view+json": {
       "model_id": "0aab9f84885f4d9e8a58d0962ec209f8",
       "version_major": 2,
       "version_minor": 0
      },
      "text/plain": [
       "Evaluating distortion17 (Severity 5):   0%|          | 0/157 [00:00<?, ?it/s]"
      ]
     },
     "metadata": {},
     "output_type": "display_data"
    },
    {
     "name": "stdout",
     "output_type": "stream",
     "text": [
      "distortion17 (Severity 5)\n"
     ]
    },
    {
     "data": {
      "application/vnd.jupyter.widget-view+json": {
       "model_id": "c10a46ef3026411d863fa62e647786b7",
       "version_major": 2,
       "version_minor": 0
      },
      "text/plain": [
       "Evaluating distortion18 (Severity 1):   0%|          | 0/157 [00:00<?, ?it/s]"
      ]
     },
     "metadata": {},
     "output_type": "display_data"
    },
    {
     "name": "stdout",
     "output_type": "stream",
     "text": [
      "distortion18 (Severity 1)\n"
     ]
    },
    {
     "data": {
      "application/vnd.jupyter.widget-view+json": {
       "model_id": "8e36d2c994724925bb3d5d111b9e94f5",
       "version_major": 2,
       "version_minor": 0
      },
      "text/plain": [
       "Evaluating distortion18 (Severity 2):   0%|          | 0/157 [00:00<?, ?it/s]"
      ]
     },
     "metadata": {},
     "output_type": "display_data"
    },
    {
     "name": "stdout",
     "output_type": "stream",
     "text": [
      "distortion18 (Severity 2)\n"
     ]
    },
    {
     "data": {
      "application/vnd.jupyter.widget-view+json": {
       "model_id": "3b0cdcf687b34f5fb6e4c83a67c76227",
       "version_major": 2,
       "version_minor": 0
      },
      "text/plain": [
       "Evaluating distortion18 (Severity 3):   0%|          | 0/157 [00:00<?, ?it/s]"
      ]
     },
     "metadata": {},
     "output_type": "display_data"
    },
    {
     "name": "stdout",
     "output_type": "stream",
     "text": [
      "distortion18 (Severity 3)\n"
     ]
    },
    {
     "data": {
      "application/vnd.jupyter.widget-view+json": {
       "model_id": "3375bd933a0445359883e267fe65d987",
       "version_major": 2,
       "version_minor": 0
      },
      "text/plain": [
       "Evaluating distortion18 (Severity 4):   0%|          | 0/157 [00:00<?, ?it/s]"
      ]
     },
     "metadata": {},
     "output_type": "display_data"
    },
    {
     "name": "stdout",
     "output_type": "stream",
     "text": [
      "distortion18 (Severity 4)\n"
     ]
    },
    {
     "data": {
      "application/vnd.jupyter.widget-view+json": {
       "model_id": "5927dcf299514d5a98f2688e46bc9e4c",
       "version_major": 2,
       "version_minor": 0
      },
      "text/plain": [
       "Evaluating distortion18 (Severity 5):   0%|          | 0/157 [00:00<?, ?it/s]"
      ]
     },
     "metadata": {},
     "output_type": "display_data"
    },
    {
     "name": "stdout",
     "output_type": "stream",
     "text": [
      "distortion18 (Severity 5)\n",
      "submission_ood_part1cnnpp.csv created successfully.\n"
     ]
    }
   ],
   "source": [
    "import torch\n",
    "import torch.nn as nn\n",
    "import torch.optim as optim\n",
    "import torchvision\n",
    "import torchvision.transforms as transforms\n",
    "import numpy as np\n",
    "import random\n",
    "from tqdm.auto import tqdm\n",
    "import wandb\n",
    "import shutil\n",
    "\n",
    "# -----------------------------\n",
    "# Reproducibility\n",
    "# -----------------------------\n",
    "def set_seed(seed):\n",
    "    torch.manual_seed(seed)\n",
    "    np.random.seed(seed)\n",
    "    random.seed(seed)\n",
    "    if torch.cuda.is_available():\n",
    "        torch.cuda.manual_seed_all(seed)\n",
    "\n",
    "# -----------------------------\n",
    "# Improved SimpleCNN++\n",
    "# -----------------------------\n",
    "class SimpleCNNPlusPlus(nn.Module):\n",
    "    def __init__(self):\n",
    "        super(SimpleCNNPlusPlus, self).__init__()\n",
    "        self.conv_layers = nn.Sequential(\n",
    "            nn.Conv2d(3, 32, kernel_size=3, padding=1),\n",
    "            nn.BatchNorm2d(32),\n",
    "            nn.ReLU(),\n",
    "            nn.MaxPool2d(2),\n",
    "\n",
    "            nn.Conv2d(32, 64, kernel_size=3, padding=1),\n",
    "            nn.BatchNorm2d(64),\n",
    "            nn.ReLU(),\n",
    "            nn.MaxPool2d(2),\n",
    "\n",
    "            nn.Conv2d(64, 128, kernel_size=3, padding=1),\n",
    "            nn.BatchNorm2d(128),\n",
    "            nn.ReLU(),\n",
    "            nn.MaxPool2d(2),\n",
    "        )\n",
    "        self.fc_layers = nn.Sequential(\n",
    "            nn.Flatten(),\n",
    "            nn.Dropout(0.3),\n",
    "            nn.Linear(128 * 4 * 4, 256),\n",
    "            nn.ReLU(),\n",
    "            nn.Linear(256, 100)\n",
    "        )\n",
    "\n",
    "    def forward(self, x):\n",
    "        x = self.conv_layers(x)\n",
    "        x = self.fc_layers(x)\n",
    "        return x\n",
    "\n",
    "# -----------------------------\n",
    "# Training Function\n",
    "# -----------------------------\n",
    "def train(epoch, model, trainloader, optimizer, criterion, CONFIG):\n",
    "    device = CONFIG[\"device\"]\n",
    "    model.train()\n",
    "    running_loss, correct, total = 0.0, 0, 0\n",
    "    progress = tqdm(trainloader, desc=f\"Epoch {epoch+1}/{CONFIG['epochs']} [Train]\", leave=False)\n",
    "\n",
    "    for i, (inputs, labels) in enumerate(progress):\n",
    "        inputs, labels = inputs.to(device), labels.to(device)\n",
    "\n",
    "        optimizer.zero_grad()\n",
    "        outputs = model(inputs)\n",
    "        loss = criterion(outputs, labels)\n",
    "        loss.backward()\n",
    "        optimizer.step()\n",
    "\n",
    "        running_loss += loss.item()\n",
    "        _, predicted = outputs.max(1)\n",
    "        total += labels.size(0)\n",
    "        correct += predicted.eq(labels).sum().item()\n",
    "\n",
    "        progress.set_postfix({\"loss\": running_loss / (i + 1), \"acc\": 100. * correct / total})\n",
    "\n",
    "    return running_loss / len(trainloader), 100. * correct / total\n",
    "\n",
    "# -----------------------------\n",
    "# Validation Function\n",
    "# -----------------------------\n",
    "def validate(model, valloader, criterion, device):\n",
    "    model.eval()\n",
    "    running_loss, correct, total = 0.0, 0, 0\n",
    "\n",
    "    with torch.no_grad():\n",
    "        progress = tqdm(valloader, desc=\"[Validate]\", leave=False)\n",
    "        for i, (inputs, labels) in enumerate(progress):\n",
    "            inputs, labels = inputs.to(device), labels.to(device)\n",
    "            outputs = model(inputs)\n",
    "            loss = criterion(outputs, labels)\n",
    "\n",
    "            running_loss += loss.item()\n",
    "            _, predicted = outputs.max(1)\n",
    "            total += labels.size(0)\n",
    "            correct += predicted.eq(labels).sum().item()\n",
    "\n",
    "            progress.set_postfix({\"loss\": running_loss / (i+1), \"acc\": 100. * correct / total})\n",
    "\n",
    "    return running_loss / len(valloader), 100. * correct / total\n",
    "\n",
    "# -----------------------------\n",
    "# Main Training + Eval Pipeline\n",
    "# -----------------------------\n",
    "def main():\n",
    "    CONFIG = {\n",
    "        \"model\": \"SimpleCNN++\",\n",
    "        \"batch_size\": 64,\n",
    "        \"learning_rate\": 0.001,\n",
    "        \"epochs\": 20,\n",
    "        \"num_workers\": 0,\n",
    "        \"device\": \"cuda\" if torch.cuda.is_available() else \"cpu\",\n",
    "        \"data_dir\": \"./data\",\n",
    "        \"ood_dir\": \"./data/ood-test\",\n",
    "        \"wandb_project\": \"sp25-ds542-challenge\",\n",
    "        \"seed\": 42,\n",
    "    }\n",
    "\n",
    "    set_seed(CONFIG[\"seed\"])\n",
    "\n",
    "    transform_train = transforms.Compose([\n",
    "        transforms.RandomCrop(32, padding=4),\n",
    "        transforms.RandomHorizontalFlip(),\n",
    "        transforms.ToTensor(),\n",
    "        transforms.Normalize((0.5, 0.5, 0.5), (0.5, 0.5, 0.5)),\n",
    "    ])\n",
    "\n",
    "    transform_test = transforms.Compose([\n",
    "        transforms.ToTensor(),\n",
    "        transforms.Normalize((0.5, 0.5, 0.5), (0.5, 0.5, 0.5)),\n",
    "    ])\n",
    "\n",
    "    trainset_full = torchvision.datasets.CIFAR100(root=CONFIG[\"data_dir\"], train=True, download=True, transform=transform_train)\n",
    "    train_size = int(0.8 * len(trainset_full))\n",
    "    val_size = len(trainset_full) - train_size\n",
    "    trainset, valset = torch.utils.data.random_split(trainset_full, [train_size, val_size])\n",
    "\n",
    "    trainloader = torch.utils.data.DataLoader(trainset, batch_size=CONFIG[\"batch_size\"], shuffle=True, num_workers=CONFIG[\"num_workers\"])\n",
    "    valloader = torch.utils.data.DataLoader(valset, batch_size=CONFIG[\"batch_size\"], shuffle=False, num_workers=CONFIG[\"num_workers\"])\n",
    "    testset = torchvision.datasets.CIFAR100(root=CONFIG[\"data_dir\"], train=False, download=True, transform=transform_test)\n",
    "    testloader = torch.utils.data.DataLoader(testset, batch_size=CONFIG[\"batch_size\"], shuffle=False, num_workers=CONFIG[\"num_workers\"])\n",
    "\n",
    "    model = SimpleCNNPlusPlus().to(CONFIG[\"device\"])\n",
    "    criterion = nn.CrossEntropyLoss()\n",
    "    optimizer = optim.Adam(model.parameters(), lr=CONFIG[\"learning_rate\"], weight_decay=5e-4)  \n",
    "    scheduler = optim.lr_scheduler.StepLR(optimizer, step_size=10, gamma=0.1)\n",
    "\n",
    "    wandb.init(project=CONFIG[\"wandb_project\"], config=CONFIG, name=\"Simple CNN++\")\n",
    "    wandb.watch(model)\n",
    "\n",
    "    best_val_acc = 0.0\n",
    "    for epoch in range(CONFIG[\"epochs\"]):\n",
    "        train_loss, train_acc = train(epoch, model, trainloader, optimizer, criterion, CONFIG)\n",
    "        val_loss, val_acc = validate(model, valloader, criterion, CONFIG[\"device\"])\n",
    "        scheduler.step()\n",
    "\n",
    "        wandb.log({\n",
    "            \"epoch\": epoch + 1,\n",
    "            \"train_loss\": train_loss,\n",
    "            \"train_acc\": train_acc,\n",
    "            \"val_loss\": val_loss,\n",
    "            \"val_acc\": val_acc,\n",
    "            \"lr\": optimizer.param_groups[0][\"lr\"]\n",
    "        })\n",
    "\n",
    "        if val_acc > best_val_acc:\n",
    "            best_val_acc = val_acc\n",
    "            torch.save(model.state_dict(), \"best_model_part1cnnpp.pth\")\n",
    "            wandb.save(\"best_model_part1cnnpp.pth\")\n",
    "\n",
    "    wandb.finish()\n",
    "\n",
    "    # -----------------------------\n",
    "    # Evaluation & Submission\n",
    "    # -----------------------------\n",
    "    shutil.copy(\"best_model_part1cnnpp.pth\", \"best_model.pth\")\n",
    "\n",
    "    import eval_cifar100\n",
    "    import eval_ood\n",
    "\n",
    "    predictions, clean_accuracy = eval_cifar100.evaluate_cifar100_test(\n",
    "        model, testloader, CONFIG[\"device\"]\n",
    "    )\n",
    "    print(f\"Clean CIFAR-100 Test Accuracy: {clean_accuracy:.2f}%\")\n",
    "\n",
    "    all_predictions = eval_ood.evaluate_ood_test(model, CONFIG)\n",
    "    submission_df_ood = eval_ood.create_ood_df(all_predictions)\n",
    "    submission_df_ood.to_csv(\"submission_ood_part1cnnpp.csv\", index=False)\n",
    "    print(\"submission_ood_part1cnnpp.csv created successfully.\")\n",
    "\n",
    "if __name__ == '__main__':\n",
    "    main()\n"
   ]
  },
  {
   "cell_type": "code",
   "execution_count": null,
   "id": "8825b346-0898-43bb-863c-35df1fd7b2aa",
   "metadata": {},
   "outputs": [],
   "source": []
  }
 ],
 "metadata": {
  "kernelspec": {
   "display_name": "Python 3 (ipykernel)",
   "language": "python",
   "name": "python3"
  },
  "language_info": {
   "codemirror_mode": {
    "name": "ipython",
    "version": 3
   },
   "file_extension": ".py",
   "mimetype": "text/x-python",
   "name": "python",
   "nbconvert_exporter": "python",
   "pygments_lexer": "ipython3",
   "version": "3.10.12"
  }
 },
 "nbformat": 4,
 "nbformat_minor": 5
}
