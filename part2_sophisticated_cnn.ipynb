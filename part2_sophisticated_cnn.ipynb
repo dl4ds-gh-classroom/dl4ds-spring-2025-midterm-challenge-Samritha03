{
 "cells": [
  {
   "cell_type": "markdown",
   "id": "e2a641af-a546-42b8-86be-be3632201227",
   "metadata": {},
   "source": [
    "# DS542 Midterm Part-2"
   ]
  },
  {
   "cell_type": "markdown",
   "id": "02ed2e84-2ed1-4c07-84b8-0d40a02d00a9",
   "metadata": {},
   "source": [
    "### Sophisticated CNN – ResNet18"
   ]
  },
  {
   "cell_type": "code",
   "execution_count": 1,
   "id": "03b19d87-154b-4b89-b6a5-bf31eb952ed4",
   "metadata": {},
   "outputs": [
    {
     "name": "stderr",
     "output_type": "stream",
     "text": [
      "Failed to detect the name of this notebook, you can set it manually with the WANDB_NOTEBOOK_NAME environment variable to enable code saving.\n",
      "\u001b[34m\u001b[1mwandb\u001b[0m: Using wandb-core as the SDK backend.  Please refer to https://wandb.me/wandb-core for more information.\n",
      "\u001b[34m\u001b[1mwandb\u001b[0m: Currently logged in as: \u001b[33msamritha\u001b[0m (\u001b[33msamritha-boston-university\u001b[0m) to \u001b[32mhttps://api.wandb.ai\u001b[0m. Use \u001b[1m`wandb login --relogin`\u001b[0m to force relogin\n"
     ]
    },
    {
     "data": {
      "text/html": [
       "Tracking run with wandb version 0.19.8"
      ],
      "text/plain": [
       "<IPython.core.display.HTML object>"
      ]
     },
     "metadata": {},
     "output_type": "display_data"
    },
    {
     "data": {
      "text/html": [
       "Run data is saved locally in <code>/usr4/dl4ds/samritha/wandb/run-20250329_132732-xbprjknt</code>"
      ],
      "text/plain": [
       "<IPython.core.display.HTML object>"
      ]
     },
     "metadata": {},
     "output_type": "display_data"
    },
    {
     "data": {
      "text/html": [
       "Syncing run <strong><a href='https://wandb.ai/samritha-boston-university/sp25-ds542-challenge/runs/xbprjknt' target=\"_blank\">ResNet18</a></strong> to <a href='https://wandb.ai/samritha-boston-university/sp25-ds542-challenge' target=\"_blank\">Weights & Biases</a> (<a href='https://wandb.me/developer-guide' target=\"_blank\">docs</a>)<br>"
      ],
      "text/plain": [
       "<IPython.core.display.HTML object>"
      ]
     },
     "metadata": {},
     "output_type": "display_data"
    },
    {
     "data": {
      "text/html": [
       " View project at <a href='https://wandb.ai/samritha-boston-university/sp25-ds542-challenge' target=\"_blank\">https://wandb.ai/samritha-boston-university/sp25-ds542-challenge</a>"
      ],
      "text/plain": [
       "<IPython.core.display.HTML object>"
      ]
     },
     "metadata": {},
     "output_type": "display_data"
    },
    {
     "data": {
      "text/html": [
       " View run at <a href='https://wandb.ai/samritha-boston-university/sp25-ds542-challenge/runs/xbprjknt' target=\"_blank\">https://wandb.ai/samritha-boston-university/sp25-ds542-challenge/runs/xbprjknt</a>"
      ],
      "text/plain": [
       "<IPython.core.display.HTML object>"
      ]
     },
     "metadata": {},
     "output_type": "display_data"
    },
    {
     "data": {
      "application/vnd.jupyter.widget-view+json": {
       "model_id": "b6c6fc60605f462e850c70f57e9e46f8",
       "version_major": 2,
       "version_minor": 0
      },
      "text/plain": [
       "Epoch 1/30 [Train]:   0%|          | 0/625 [00:00<?, ?it/s]"
      ]
     },
     "metadata": {},
     "output_type": "display_data"
    },
    {
     "data": {
      "application/vnd.jupyter.widget-view+json": {
       "model_id": "c9b9093f127d49ee9ba229edcdfc761c",
       "version_major": 2,
       "version_minor": 0
      },
      "text/plain": [
       "[Validate]:   0%|          | 0/157 [00:00<?, ?it/s]"
      ]
     },
     "metadata": {},
     "output_type": "display_data"
    },
    {
     "data": {
      "application/vnd.jupyter.widget-view+json": {
       "model_id": "0147fd9894e94533a7a847b7c5276776",
       "version_major": 2,
       "version_minor": 0
      },
      "text/plain": [
       "Epoch 2/30 [Train]:   0%|          | 0/625 [00:00<?, ?it/s]"
      ]
     },
     "metadata": {},
     "output_type": "display_data"
    },
    {
     "data": {
      "application/vnd.jupyter.widget-view+json": {
       "model_id": "4b45ca040f5b4b25a00cd03043fc96b9",
       "version_major": 2,
       "version_minor": 0
      },
      "text/plain": [
       "[Validate]:   0%|          | 0/157 [00:00<?, ?it/s]"
      ]
     },
     "metadata": {},
     "output_type": "display_data"
    },
    {
     "data": {
      "application/vnd.jupyter.widget-view+json": {
       "model_id": "250f1a90c54c4bc983eb233be173d83b",
       "version_major": 2,
       "version_minor": 0
      },
      "text/plain": [
       "Epoch 3/30 [Train]:   0%|          | 0/625 [00:00<?, ?it/s]"
      ]
     },
     "metadata": {},
     "output_type": "display_data"
    },
    {
     "data": {
      "application/vnd.jupyter.widget-view+json": {
       "model_id": "b3d29b0b6b674c2e90e03a802d09c905",
       "version_major": 2,
       "version_minor": 0
      },
      "text/plain": [
       "[Validate]:   0%|          | 0/157 [00:00<?, ?it/s]"
      ]
     },
     "metadata": {},
     "output_type": "display_data"
    },
    {
     "data": {
      "application/vnd.jupyter.widget-view+json": {
       "model_id": "f072a2e2022644008be3430af95c481d",
       "version_major": 2,
       "version_minor": 0
      },
      "text/plain": [
       "Epoch 4/30 [Train]:   0%|          | 0/625 [00:00<?, ?it/s]"
      ]
     },
     "metadata": {},
     "output_type": "display_data"
    },
    {
     "data": {
      "application/vnd.jupyter.widget-view+json": {
       "model_id": "7b554ab0e9b54ec397de5f3ad543155f",
       "version_major": 2,
       "version_minor": 0
      },
      "text/plain": [
       "[Validate]:   0%|          | 0/157 [00:00<?, ?it/s]"
      ]
     },
     "metadata": {},
     "output_type": "display_data"
    },
    {
     "data": {
      "application/vnd.jupyter.widget-view+json": {
       "model_id": "92e6b53ccd494795be0bf69016bf9605",
       "version_major": 2,
       "version_minor": 0
      },
      "text/plain": [
       "Epoch 5/30 [Train]:   0%|          | 0/625 [00:00<?, ?it/s]"
      ]
     },
     "metadata": {},
     "output_type": "display_data"
    },
    {
     "data": {
      "application/vnd.jupyter.widget-view+json": {
       "model_id": "7b01f87dd74b4491ba97a2d9884ce5f7",
       "version_major": 2,
       "version_minor": 0
      },
      "text/plain": [
       "[Validate]:   0%|          | 0/157 [00:00<?, ?it/s]"
      ]
     },
     "metadata": {},
     "output_type": "display_data"
    },
    {
     "data": {
      "application/vnd.jupyter.widget-view+json": {
       "model_id": "6f3fdc2fa73a431a8fe7fc20c374973e",
       "version_major": 2,
       "version_minor": 0
      },
      "text/plain": [
       "Epoch 6/30 [Train]:   0%|          | 0/625 [00:00<?, ?it/s]"
      ]
     },
     "metadata": {},
     "output_type": "display_data"
    },
    {
     "data": {
      "application/vnd.jupyter.widget-view+json": {
       "model_id": "049c0d7ad98b4061a334f507777f1b82",
       "version_major": 2,
       "version_minor": 0
      },
      "text/plain": [
       "[Validate]:   0%|          | 0/157 [00:00<?, ?it/s]"
      ]
     },
     "metadata": {},
     "output_type": "display_data"
    },
    {
     "data": {
      "application/vnd.jupyter.widget-view+json": {
       "model_id": "41371e0159174596904834fe2d70543f",
       "version_major": 2,
       "version_minor": 0
      },
      "text/plain": [
       "Epoch 7/30 [Train]:   0%|          | 0/625 [00:00<?, ?it/s]"
      ]
     },
     "metadata": {},
     "output_type": "display_data"
    },
    {
     "data": {
      "application/vnd.jupyter.widget-view+json": {
       "model_id": "1c3e604bdded4db98efc01b727e05c53",
       "version_major": 2,
       "version_minor": 0
      },
      "text/plain": [
       "[Validate]:   0%|          | 0/157 [00:00<?, ?it/s]"
      ]
     },
     "metadata": {},
     "output_type": "display_data"
    },
    {
     "data": {
      "application/vnd.jupyter.widget-view+json": {
       "model_id": "dd17a6fb9fec4e308d4c9934740e13b5",
       "version_major": 2,
       "version_minor": 0
      },
      "text/plain": [
       "Epoch 8/30 [Train]:   0%|          | 0/625 [00:00<?, ?it/s]"
      ]
     },
     "metadata": {},
     "output_type": "display_data"
    },
    {
     "data": {
      "application/vnd.jupyter.widget-view+json": {
       "model_id": "a2f8475c5165408286d52f40d614b46f",
       "version_major": 2,
       "version_minor": 0
      },
      "text/plain": [
       "[Validate]:   0%|          | 0/157 [00:00<?, ?it/s]"
      ]
     },
     "metadata": {},
     "output_type": "display_data"
    },
    {
     "data": {
      "application/vnd.jupyter.widget-view+json": {
       "model_id": "47ff00357ae64d6c992076f3398c78c7",
       "version_major": 2,
       "version_minor": 0
      },
      "text/plain": [
       "Epoch 9/30 [Train]:   0%|          | 0/625 [00:00<?, ?it/s]"
      ]
     },
     "metadata": {},
     "output_type": "display_data"
    },
    {
     "data": {
      "application/vnd.jupyter.widget-view+json": {
       "model_id": "90dc439c41974c69961da79825318031",
       "version_major": 2,
       "version_minor": 0
      },
      "text/plain": [
       "[Validate]:   0%|          | 0/157 [00:00<?, ?it/s]"
      ]
     },
     "metadata": {},
     "output_type": "display_data"
    },
    {
     "data": {
      "application/vnd.jupyter.widget-view+json": {
       "model_id": "e1555b92a59f4258b3657bc64a3b8993",
       "version_major": 2,
       "version_minor": 0
      },
      "text/plain": [
       "Epoch 10/30 [Train]:   0%|          | 0/625 [00:00<?, ?it/s]"
      ]
     },
     "metadata": {},
     "output_type": "display_data"
    },
    {
     "data": {
      "application/vnd.jupyter.widget-view+json": {
       "model_id": "7149cb4b1801410080e24002901733c8",
       "version_major": 2,
       "version_minor": 0
      },
      "text/plain": [
       "[Validate]:   0%|          | 0/157 [00:00<?, ?it/s]"
      ]
     },
     "metadata": {},
     "output_type": "display_data"
    },
    {
     "data": {
      "application/vnd.jupyter.widget-view+json": {
       "model_id": "77b5f7be95884d92b8b6bfc8acbc5d3f",
       "version_major": 2,
       "version_minor": 0
      },
      "text/plain": [
       "Epoch 11/30 [Train]:   0%|          | 0/625 [00:00<?, ?it/s]"
      ]
     },
     "metadata": {},
     "output_type": "display_data"
    },
    {
     "data": {
      "application/vnd.jupyter.widget-view+json": {
       "model_id": "b57f1712c8a34d2a91dd515f70648ed9",
       "version_major": 2,
       "version_minor": 0
      },
      "text/plain": [
       "[Validate]:   0%|          | 0/157 [00:00<?, ?it/s]"
      ]
     },
     "metadata": {},
     "output_type": "display_data"
    },
    {
     "data": {
      "application/vnd.jupyter.widget-view+json": {
       "model_id": "3b8ce2f6401e44c29522f9a99e07e7fc",
       "version_major": 2,
       "version_minor": 0
      },
      "text/plain": [
       "Epoch 12/30 [Train]:   0%|          | 0/625 [00:00<?, ?it/s]"
      ]
     },
     "metadata": {},
     "output_type": "display_data"
    },
    {
     "data": {
      "application/vnd.jupyter.widget-view+json": {
       "model_id": "b6cb152ed700453592b631df7f43bb7c",
       "version_major": 2,
       "version_minor": 0
      },
      "text/plain": [
       "[Validate]:   0%|          | 0/157 [00:00<?, ?it/s]"
      ]
     },
     "metadata": {},
     "output_type": "display_data"
    },
    {
     "data": {
      "application/vnd.jupyter.widget-view+json": {
       "model_id": "c9a76c0d92ec4f909480158a0a959597",
       "version_major": 2,
       "version_minor": 0
      },
      "text/plain": [
       "Epoch 13/30 [Train]:   0%|          | 0/625 [00:00<?, ?it/s]"
      ]
     },
     "metadata": {},
     "output_type": "display_data"
    },
    {
     "data": {
      "application/vnd.jupyter.widget-view+json": {
       "model_id": "2a686613b2f74480ba1bcce868fb5936",
       "version_major": 2,
       "version_minor": 0
      },
      "text/plain": [
       "[Validate]:   0%|          | 0/157 [00:00<?, ?it/s]"
      ]
     },
     "metadata": {},
     "output_type": "display_data"
    },
    {
     "data": {
      "application/vnd.jupyter.widget-view+json": {
       "model_id": "dbda5cfe55a0476e8623d4aa81b5725d",
       "version_major": 2,
       "version_minor": 0
      },
      "text/plain": [
       "Epoch 14/30 [Train]:   0%|          | 0/625 [00:00<?, ?it/s]"
      ]
     },
     "metadata": {},
     "output_type": "display_data"
    },
    {
     "data": {
      "application/vnd.jupyter.widget-view+json": {
       "model_id": "7ce88b87c35245ecb659a70fcc37792f",
       "version_major": 2,
       "version_minor": 0
      },
      "text/plain": [
       "[Validate]:   0%|          | 0/157 [00:00<?, ?it/s]"
      ]
     },
     "metadata": {},
     "output_type": "display_data"
    },
    {
     "data": {
      "application/vnd.jupyter.widget-view+json": {
       "model_id": "0289d2eb8bca4f6eb583037282a896a2",
       "version_major": 2,
       "version_minor": 0
      },
      "text/plain": [
       "Epoch 15/30 [Train]:   0%|          | 0/625 [00:00<?, ?it/s]"
      ]
     },
     "metadata": {},
     "output_type": "display_data"
    },
    {
     "data": {
      "application/vnd.jupyter.widget-view+json": {
       "model_id": "3930bf02c8e143fe8f8bbfb62a6aefd9",
       "version_major": 2,
       "version_minor": 0
      },
      "text/plain": [
       "[Validate]:   0%|          | 0/157 [00:00<?, ?it/s]"
      ]
     },
     "metadata": {},
     "output_type": "display_data"
    },
    {
     "data": {
      "application/vnd.jupyter.widget-view+json": {
       "model_id": "94dc56f490e04c65b90efc105e048609",
       "version_major": 2,
       "version_minor": 0
      },
      "text/plain": [
       "Epoch 16/30 [Train]:   0%|          | 0/625 [00:00<?, ?it/s]"
      ]
     },
     "metadata": {},
     "output_type": "display_data"
    },
    {
     "data": {
      "application/vnd.jupyter.widget-view+json": {
       "model_id": "dfaee948bd4d43dcb558b4ffca178149",
       "version_major": 2,
       "version_minor": 0
      },
      "text/plain": [
       "[Validate]:   0%|          | 0/157 [00:00<?, ?it/s]"
      ]
     },
     "metadata": {},
     "output_type": "display_data"
    },
    {
     "data": {
      "application/vnd.jupyter.widget-view+json": {
       "model_id": "ba163df12a9947e7a7edd4eca7dda071",
       "version_major": 2,
       "version_minor": 0
      },
      "text/plain": [
       "Epoch 17/30 [Train]:   0%|          | 0/625 [00:00<?, ?it/s]"
      ]
     },
     "metadata": {},
     "output_type": "display_data"
    },
    {
     "data": {
      "application/vnd.jupyter.widget-view+json": {
       "model_id": "45b86483bd394c04861b67f9d2cb1f9b",
       "version_major": 2,
       "version_minor": 0
      },
      "text/plain": [
       "[Validate]:   0%|          | 0/157 [00:00<?, ?it/s]"
      ]
     },
     "metadata": {},
     "output_type": "display_data"
    },
    {
     "data": {
      "application/vnd.jupyter.widget-view+json": {
       "model_id": "9d370abb248145c4aad1a09f9f0f902e",
       "version_major": 2,
       "version_minor": 0
      },
      "text/plain": [
       "Epoch 18/30 [Train]:   0%|          | 0/625 [00:00<?, ?it/s]"
      ]
     },
     "metadata": {},
     "output_type": "display_data"
    },
    {
     "data": {
      "application/vnd.jupyter.widget-view+json": {
       "model_id": "9276468c7c94488897dc886d27a8d7a0",
       "version_major": 2,
       "version_minor": 0
      },
      "text/plain": [
       "[Validate]:   0%|          | 0/157 [00:00<?, ?it/s]"
      ]
     },
     "metadata": {},
     "output_type": "display_data"
    },
    {
     "data": {
      "application/vnd.jupyter.widget-view+json": {
       "model_id": "3326cd7daae444f1a32aad03f7eca886",
       "version_major": 2,
       "version_minor": 0
      },
      "text/plain": [
       "Epoch 19/30 [Train]:   0%|          | 0/625 [00:00<?, ?it/s]"
      ]
     },
     "metadata": {},
     "output_type": "display_data"
    },
    {
     "data": {
      "application/vnd.jupyter.widget-view+json": {
       "model_id": "02501cc0465441f192257114f6652ee6",
       "version_major": 2,
       "version_minor": 0
      },
      "text/plain": [
       "[Validate]:   0%|          | 0/157 [00:00<?, ?it/s]"
      ]
     },
     "metadata": {},
     "output_type": "display_data"
    },
    {
     "data": {
      "application/vnd.jupyter.widget-view+json": {
       "model_id": "240c94e063b14cfba05ace96d0d9971c",
       "version_major": 2,
       "version_minor": 0
      },
      "text/plain": [
       "Epoch 20/30 [Train]:   0%|          | 0/625 [00:00<?, ?it/s]"
      ]
     },
     "metadata": {},
     "output_type": "display_data"
    },
    {
     "data": {
      "application/vnd.jupyter.widget-view+json": {
       "model_id": "96897b286fed4516b7b50bc0b1c71192",
       "version_major": 2,
       "version_minor": 0
      },
      "text/plain": [
       "[Validate]:   0%|          | 0/157 [00:00<?, ?it/s]"
      ]
     },
     "metadata": {},
     "output_type": "display_data"
    },
    {
     "data": {
      "application/vnd.jupyter.widget-view+json": {
       "model_id": "4badd95a9930486caca7070c0cdf867d",
       "version_major": 2,
       "version_minor": 0
      },
      "text/plain": [
       "Epoch 21/30 [Train]:   0%|          | 0/625 [00:00<?, ?it/s]"
      ]
     },
     "metadata": {},
     "output_type": "display_data"
    },
    {
     "data": {
      "application/vnd.jupyter.widget-view+json": {
       "model_id": "210b73a600da42a3a94601a7898311cf",
       "version_major": 2,
       "version_minor": 0
      },
      "text/plain": [
       "[Validate]:   0%|          | 0/157 [00:00<?, ?it/s]"
      ]
     },
     "metadata": {},
     "output_type": "display_data"
    },
    {
     "data": {
      "application/vnd.jupyter.widget-view+json": {
       "model_id": "f20b8108c9de40e19c1303a1aea89209",
       "version_major": 2,
       "version_minor": 0
      },
      "text/plain": [
       "Epoch 22/30 [Train]:   0%|          | 0/625 [00:00<?, ?it/s]"
      ]
     },
     "metadata": {},
     "output_type": "display_data"
    },
    {
     "data": {
      "application/vnd.jupyter.widget-view+json": {
       "model_id": "6ad015651c6b4349b74b1a2f19ef4bca",
       "version_major": 2,
       "version_minor": 0
      },
      "text/plain": [
       "[Validate]:   0%|          | 0/157 [00:00<?, ?it/s]"
      ]
     },
     "metadata": {},
     "output_type": "display_data"
    },
    {
     "data": {
      "application/vnd.jupyter.widget-view+json": {
       "model_id": "0c38744b16004198945555623b22eae2",
       "version_major": 2,
       "version_minor": 0
      },
      "text/plain": [
       "Epoch 23/30 [Train]:   0%|          | 0/625 [00:00<?, ?it/s]"
      ]
     },
     "metadata": {},
     "output_type": "display_data"
    },
    {
     "data": {
      "application/vnd.jupyter.widget-view+json": {
       "model_id": "e02dcc99f8614603bdf28a86c9ebbd37",
       "version_major": 2,
       "version_minor": 0
      },
      "text/plain": [
       "[Validate]:   0%|          | 0/157 [00:00<?, ?it/s]"
      ]
     },
     "metadata": {},
     "output_type": "display_data"
    },
    {
     "data": {
      "application/vnd.jupyter.widget-view+json": {
       "model_id": "d6f124cab2c4435a94b217414e8dfe78",
       "version_major": 2,
       "version_minor": 0
      },
      "text/plain": [
       "Epoch 24/30 [Train]:   0%|          | 0/625 [00:00<?, ?it/s]"
      ]
     },
     "metadata": {},
     "output_type": "display_data"
    },
    {
     "data": {
      "application/vnd.jupyter.widget-view+json": {
       "model_id": "9a44f5c096814b2b88d8d7a6c0cfe156",
       "version_major": 2,
       "version_minor": 0
      },
      "text/plain": [
       "[Validate]:   0%|          | 0/157 [00:00<?, ?it/s]"
      ]
     },
     "metadata": {},
     "output_type": "display_data"
    },
    {
     "data": {
      "application/vnd.jupyter.widget-view+json": {
       "model_id": "e0d5744ffa1644cbb0e4cc41551afe5b",
       "version_major": 2,
       "version_minor": 0
      },
      "text/plain": [
       "Epoch 25/30 [Train]:   0%|          | 0/625 [00:00<?, ?it/s]"
      ]
     },
     "metadata": {},
     "output_type": "display_data"
    },
    {
     "data": {
      "application/vnd.jupyter.widget-view+json": {
       "model_id": "7bc9ebca4cb348da9d7d6cdebec928d1",
       "version_major": 2,
       "version_minor": 0
      },
      "text/plain": [
       "[Validate]:   0%|          | 0/157 [00:00<?, ?it/s]"
      ]
     },
     "metadata": {},
     "output_type": "display_data"
    },
    {
     "data": {
      "application/vnd.jupyter.widget-view+json": {
       "model_id": "6b9cfd8e91ad466d9ca831a5d6c56251",
       "version_major": 2,
       "version_minor": 0
      },
      "text/plain": [
       "Epoch 26/30 [Train]:   0%|          | 0/625 [00:00<?, ?it/s]"
      ]
     },
     "metadata": {},
     "output_type": "display_data"
    },
    {
     "data": {
      "application/vnd.jupyter.widget-view+json": {
       "model_id": "6a86b93145a8471a80d06c4a575690d1",
       "version_major": 2,
       "version_minor": 0
      },
      "text/plain": [
       "[Validate]:   0%|          | 0/157 [00:00<?, ?it/s]"
      ]
     },
     "metadata": {},
     "output_type": "display_data"
    },
    {
     "data": {
      "application/vnd.jupyter.widget-view+json": {
       "model_id": "b00beb5fde604a55bf9e2fe7a54134f8",
       "version_major": 2,
       "version_minor": 0
      },
      "text/plain": [
       "Epoch 27/30 [Train]:   0%|          | 0/625 [00:00<?, ?it/s]"
      ]
     },
     "metadata": {},
     "output_type": "display_data"
    },
    {
     "data": {
      "application/vnd.jupyter.widget-view+json": {
       "model_id": "0a1b39260b8c4e309bbf7aad47f54dda",
       "version_major": 2,
       "version_minor": 0
      },
      "text/plain": [
       "[Validate]:   0%|          | 0/157 [00:00<?, ?it/s]"
      ]
     },
     "metadata": {},
     "output_type": "display_data"
    },
    {
     "data": {
      "application/vnd.jupyter.widget-view+json": {
       "model_id": "c95f6fff0e754ba0ba95698bd2472b93",
       "version_major": 2,
       "version_minor": 0
      },
      "text/plain": [
       "Epoch 28/30 [Train]:   0%|          | 0/625 [00:00<?, ?it/s]"
      ]
     },
     "metadata": {},
     "output_type": "display_data"
    },
    {
     "data": {
      "application/vnd.jupyter.widget-view+json": {
       "model_id": "cac80e5752eb43a4b760941dc8cab595",
       "version_major": 2,
       "version_minor": 0
      },
      "text/plain": [
       "[Validate]:   0%|          | 0/157 [00:00<?, ?it/s]"
      ]
     },
     "metadata": {},
     "output_type": "display_data"
    },
    {
     "data": {
      "application/vnd.jupyter.widget-view+json": {
       "model_id": "fd2602eee78f4452abdbbf6c40435328",
       "version_major": 2,
       "version_minor": 0
      },
      "text/plain": [
       "Epoch 29/30 [Train]:   0%|          | 0/625 [00:00<?, ?it/s]"
      ]
     },
     "metadata": {},
     "output_type": "display_data"
    },
    {
     "data": {
      "application/vnd.jupyter.widget-view+json": {
       "model_id": "7ad4cf1a9d6f4a3b981b65d164b03589",
       "version_major": 2,
       "version_minor": 0
      },
      "text/plain": [
       "[Validate]:   0%|          | 0/157 [00:00<?, ?it/s]"
      ]
     },
     "metadata": {},
     "output_type": "display_data"
    },
    {
     "data": {
      "application/vnd.jupyter.widget-view+json": {
       "model_id": "4237c1628c8f41d3a63f60d59be2cc32",
       "version_major": 2,
       "version_minor": 0
      },
      "text/plain": [
       "Epoch 30/30 [Train]:   0%|          | 0/625 [00:00<?, ?it/s]"
      ]
     },
     "metadata": {},
     "output_type": "display_data"
    },
    {
     "data": {
      "application/vnd.jupyter.widget-view+json": {
       "model_id": "040f8a6ca3f54875acb2b6ff9204e7d6",
       "version_major": 2,
       "version_minor": 0
      },
      "text/plain": [
       "[Validate]:   0%|          | 0/157 [00:00<?, ?it/s]"
      ]
     },
     "metadata": {},
     "output_type": "display_data"
    },
    {
     "data": {
      "text/html": [],
      "text/plain": [
       "<IPython.core.display.HTML object>"
      ]
     },
     "metadata": {},
     "output_type": "display_data"
    },
    {
     "data": {
      "text/html": [
       "<br>    <style><br>        .wandb-row {<br>            display: flex;<br>            flex-direction: row;<br>            flex-wrap: wrap;<br>            justify-content: flex-start;<br>            width: 100%;<br>        }<br>        .wandb-col {<br>            display: flex;<br>            flex-direction: column;<br>            flex-basis: 100%;<br>            flex: 1;<br>            padding: 10px;<br>        }<br>    </style><br><div class=\"wandb-row\"><div class=\"wandb-col\"><h3>Run history:</h3><br/><table class=\"wandb\"><tr><td>epoch</td><td>▁▁▁▂▂▂▂▃▃▃▃▄▄▄▄▅▅▅▅▆▆▆▆▇▇▇▇███</td></tr><tr><td>lr</td><td>█████▇▇▇▇▆▆▆▅▅▅▄▄▃▃▃▂▂▂▂▁▁▁▁▁▁</td></tr><tr><td>train_acc</td><td>▁▂▂▃▃▄▄▄▄▅▅▅▅▅▆▆▆▆▇▇▇▇▇███████</td></tr><tr><td>train_loss</td><td>█▇▆▆▅▅▅▄▄▄▄▃▃▃▃▃▂▂▂▂▂▂▁▁▁▁▁▁▁▁</td></tr><tr><td>val_acc</td><td>▁▂▃▄▄▅▅▅▆▆▆▇▇▇▇▇▇▇▇███████████</td></tr><tr><td>val_loss</td><td>█▆▆▅▄▄▃▃▃▃▂▂▂▂▁▁▁▁▁▁▁▁▁▁▁▁▁▁▁▁</td></tr></table><br/></div><div class=\"wandb-col\"><h3>Run summary:</h3><br/><table class=\"wandb\"><tr><td>epoch</td><td>30</td></tr><tr><td>lr</td><td>0</td></tr><tr><td>train_acc</td><td>73.78</td></tr><tr><td>train_loss</td><td>1.63408</td></tr><tr><td>val_acc</td><td>49.05</td></tr><tr><td>val_loss</td><td>2.5379</td></tr></table><br/></div></div>"
      ],
      "text/plain": [
       "<IPython.core.display.HTML object>"
      ]
     },
     "metadata": {},
     "output_type": "display_data"
    },
    {
     "data": {
      "text/html": [
       " View run <strong style=\"color:#cdcd00\">ResNet18</strong> at: <a href='https://wandb.ai/samritha-boston-university/sp25-ds542-challenge/runs/xbprjknt' target=\"_blank\">https://wandb.ai/samritha-boston-university/sp25-ds542-challenge/runs/xbprjknt</a><br> View project at: <a href='https://wandb.ai/samritha-boston-university/sp25-ds542-challenge' target=\"_blank\">https://wandb.ai/samritha-boston-university/sp25-ds542-challenge</a><br>Synced 5 W&B file(s), 0 media file(s), 0 artifact file(s) and 1 other file(s)"
      ],
      "text/plain": [
       "<IPython.core.display.HTML object>"
      ]
     },
     "metadata": {},
     "output_type": "display_data"
    },
    {
     "data": {
      "text/html": [
       "Find logs at: <code>./wandb/run-20250329_132732-xbprjknt/logs</code>"
      ],
      "text/plain": [
       "<IPython.core.display.HTML object>"
      ]
     },
     "metadata": {},
     "output_type": "display_data"
    },
    {
     "data": {
      "application/vnd.jupyter.widget-view+json": {
       "model_id": "65ec76b644554f2c9a08e00260da691e",
       "version_major": 2,
       "version_minor": 0
      },
      "text/plain": [
       "Evaluating on Clean Test Set:   0%|          | 0/157 [00:00<?, ?it/s]"
      ]
     },
     "metadata": {},
     "output_type": "display_data"
    },
    {
     "name": "stdout",
     "output_type": "stream",
     "text": [
      "Clean CIFAR-100 Test Accuracy: 52.87%\n",
      "All files are already downloaded.\n"
     ]
    },
    {
     "data": {
      "application/vnd.jupyter.widget-view+json": {
       "model_id": "7f6e4ea9fbe64e27bc514dd86166b5ad",
       "version_major": 2,
       "version_minor": 0
      },
      "text/plain": [
       "Evaluating distortion00 (Severity 1):   0%|          | 0/157 [00:00<?, ?it/s]"
      ]
     },
     "metadata": {},
     "output_type": "display_data"
    },
    {
     "name": "stdout",
     "output_type": "stream",
     "text": [
      "distortion00 (Severity 1)\n"
     ]
    },
    {
     "data": {
      "application/vnd.jupyter.widget-view+json": {
       "model_id": "8688d61000f443449690b4a3e67931a8",
       "version_major": 2,
       "version_minor": 0
      },
      "text/plain": [
       "Evaluating distortion00 (Severity 2):   0%|          | 0/157 [00:00<?, ?it/s]"
      ]
     },
     "metadata": {},
     "output_type": "display_data"
    },
    {
     "name": "stdout",
     "output_type": "stream",
     "text": [
      "distortion00 (Severity 2)\n"
     ]
    },
    {
     "data": {
      "application/vnd.jupyter.widget-view+json": {
       "model_id": "eb152ba67499490b984851be37c36e62",
       "version_major": 2,
       "version_minor": 0
      },
      "text/plain": [
       "Evaluating distortion00 (Severity 3):   0%|          | 0/157 [00:00<?, ?it/s]"
      ]
     },
     "metadata": {},
     "output_type": "display_data"
    },
    {
     "name": "stdout",
     "output_type": "stream",
     "text": [
      "distortion00 (Severity 3)\n"
     ]
    },
    {
     "data": {
      "application/vnd.jupyter.widget-view+json": {
       "model_id": "83d125732bd941b797a96919d5943f2d",
       "version_major": 2,
       "version_minor": 0
      },
      "text/plain": [
       "Evaluating distortion00 (Severity 4):   0%|          | 0/157 [00:00<?, ?it/s]"
      ]
     },
     "metadata": {},
     "output_type": "display_data"
    },
    {
     "name": "stdout",
     "output_type": "stream",
     "text": [
      "distortion00 (Severity 4)\n"
     ]
    },
    {
     "data": {
      "application/vnd.jupyter.widget-view+json": {
       "model_id": "38e8e44cbb2042d7a392057168405fd3",
       "version_major": 2,
       "version_minor": 0
      },
      "text/plain": [
       "Evaluating distortion00 (Severity 5):   0%|          | 0/157 [00:00<?, ?it/s]"
      ]
     },
     "metadata": {},
     "output_type": "display_data"
    },
    {
     "name": "stdout",
     "output_type": "stream",
     "text": [
      "distortion00 (Severity 5)\n"
     ]
    },
    {
     "data": {
      "application/vnd.jupyter.widget-view+json": {
       "model_id": "a82b7bb518894918b50ec6100e85956e",
       "version_major": 2,
       "version_minor": 0
      },
      "text/plain": [
       "Evaluating distortion01 (Severity 1):   0%|          | 0/157 [00:00<?, ?it/s]"
      ]
     },
     "metadata": {},
     "output_type": "display_data"
    },
    {
     "name": "stdout",
     "output_type": "stream",
     "text": [
      "distortion01 (Severity 1)\n"
     ]
    },
    {
     "data": {
      "application/vnd.jupyter.widget-view+json": {
       "model_id": "66ebd871dbbf4b1c82916ccc79d75586",
       "version_major": 2,
       "version_minor": 0
      },
      "text/plain": [
       "Evaluating distortion01 (Severity 2):   0%|          | 0/157 [00:00<?, ?it/s]"
      ]
     },
     "metadata": {},
     "output_type": "display_data"
    },
    {
     "name": "stdout",
     "output_type": "stream",
     "text": [
      "distortion01 (Severity 2)\n"
     ]
    },
    {
     "data": {
      "application/vnd.jupyter.widget-view+json": {
       "model_id": "56af2561ed3a4513bdb7ad683a29ad3c",
       "version_major": 2,
       "version_minor": 0
      },
      "text/plain": [
       "Evaluating distortion01 (Severity 3):   0%|          | 0/157 [00:00<?, ?it/s]"
      ]
     },
     "metadata": {},
     "output_type": "display_data"
    },
    {
     "name": "stdout",
     "output_type": "stream",
     "text": [
      "distortion01 (Severity 3)\n"
     ]
    },
    {
     "data": {
      "application/vnd.jupyter.widget-view+json": {
       "model_id": "6ad66e10ff31421191c4476f4e1fc56e",
       "version_major": 2,
       "version_minor": 0
      },
      "text/plain": [
       "Evaluating distortion01 (Severity 4):   0%|          | 0/157 [00:00<?, ?it/s]"
      ]
     },
     "metadata": {},
     "output_type": "display_data"
    },
    {
     "name": "stdout",
     "output_type": "stream",
     "text": [
      "distortion01 (Severity 4)\n"
     ]
    },
    {
     "data": {
      "application/vnd.jupyter.widget-view+json": {
       "model_id": "a7c2c03e187c442998960d5335dcc479",
       "version_major": 2,
       "version_minor": 0
      },
      "text/plain": [
       "Evaluating distortion01 (Severity 5):   0%|          | 0/157 [00:00<?, ?it/s]"
      ]
     },
     "metadata": {},
     "output_type": "display_data"
    },
    {
     "name": "stdout",
     "output_type": "stream",
     "text": [
      "distortion01 (Severity 5)\n"
     ]
    },
    {
     "data": {
      "application/vnd.jupyter.widget-view+json": {
       "model_id": "28d569b5d13740edb48d6f867d456add",
       "version_major": 2,
       "version_minor": 0
      },
      "text/plain": [
       "Evaluating distortion02 (Severity 1):   0%|          | 0/157 [00:00<?, ?it/s]"
      ]
     },
     "metadata": {},
     "output_type": "display_data"
    },
    {
     "name": "stdout",
     "output_type": "stream",
     "text": [
      "distortion02 (Severity 1)\n"
     ]
    },
    {
     "data": {
      "application/vnd.jupyter.widget-view+json": {
       "model_id": "eb6741ca156a43e1b398c130b1224ed2",
       "version_major": 2,
       "version_minor": 0
      },
      "text/plain": [
       "Evaluating distortion02 (Severity 2):   0%|          | 0/157 [00:00<?, ?it/s]"
      ]
     },
     "metadata": {},
     "output_type": "display_data"
    },
    {
     "name": "stdout",
     "output_type": "stream",
     "text": [
      "distortion02 (Severity 2)\n"
     ]
    },
    {
     "data": {
      "application/vnd.jupyter.widget-view+json": {
       "model_id": "a34915c6f2ca470599ce4406386f80e7",
       "version_major": 2,
       "version_minor": 0
      },
      "text/plain": [
       "Evaluating distortion02 (Severity 3):   0%|          | 0/157 [00:00<?, ?it/s]"
      ]
     },
     "metadata": {},
     "output_type": "display_data"
    },
    {
     "name": "stdout",
     "output_type": "stream",
     "text": [
      "distortion02 (Severity 3)\n"
     ]
    },
    {
     "data": {
      "application/vnd.jupyter.widget-view+json": {
       "model_id": "883556e915b241949bc5e62c1b67e009",
       "version_major": 2,
       "version_minor": 0
      },
      "text/plain": [
       "Evaluating distortion02 (Severity 4):   0%|          | 0/157 [00:00<?, ?it/s]"
      ]
     },
     "metadata": {},
     "output_type": "display_data"
    },
    {
     "name": "stdout",
     "output_type": "stream",
     "text": [
      "distortion02 (Severity 4)\n"
     ]
    },
    {
     "data": {
      "application/vnd.jupyter.widget-view+json": {
       "model_id": "d5b1ddf328724882bfe4d0a0d638cda1",
       "version_major": 2,
       "version_minor": 0
      },
      "text/plain": [
       "Evaluating distortion02 (Severity 5):   0%|          | 0/157 [00:00<?, ?it/s]"
      ]
     },
     "metadata": {},
     "output_type": "display_data"
    },
    {
     "name": "stdout",
     "output_type": "stream",
     "text": [
      "distortion02 (Severity 5)\n"
     ]
    },
    {
     "data": {
      "application/vnd.jupyter.widget-view+json": {
       "model_id": "9dae84822f664098a278d104895fd4f8",
       "version_major": 2,
       "version_minor": 0
      },
      "text/plain": [
       "Evaluating distortion03 (Severity 1):   0%|          | 0/157 [00:00<?, ?it/s]"
      ]
     },
     "metadata": {},
     "output_type": "display_data"
    },
    {
     "name": "stdout",
     "output_type": "stream",
     "text": [
      "distortion03 (Severity 1)\n"
     ]
    },
    {
     "data": {
      "application/vnd.jupyter.widget-view+json": {
       "model_id": "8ea53ec7966245668de28b72e86ea41a",
       "version_major": 2,
       "version_minor": 0
      },
      "text/plain": [
       "Evaluating distortion03 (Severity 2):   0%|          | 0/157 [00:00<?, ?it/s]"
      ]
     },
     "metadata": {},
     "output_type": "display_data"
    },
    {
     "name": "stdout",
     "output_type": "stream",
     "text": [
      "distortion03 (Severity 2)\n"
     ]
    },
    {
     "data": {
      "application/vnd.jupyter.widget-view+json": {
       "model_id": "a3fe29976eb74bdfab9dc6bdb54617e4",
       "version_major": 2,
       "version_minor": 0
      },
      "text/plain": [
       "Evaluating distortion03 (Severity 3):   0%|          | 0/157 [00:00<?, ?it/s]"
      ]
     },
     "metadata": {},
     "output_type": "display_data"
    },
    {
     "name": "stdout",
     "output_type": "stream",
     "text": [
      "distortion03 (Severity 3)\n"
     ]
    },
    {
     "data": {
      "application/vnd.jupyter.widget-view+json": {
       "model_id": "fa8c4068fba448188e5ef71566ea2ce4",
       "version_major": 2,
       "version_minor": 0
      },
      "text/plain": [
       "Evaluating distortion03 (Severity 4):   0%|          | 0/157 [00:00<?, ?it/s]"
      ]
     },
     "metadata": {},
     "output_type": "display_data"
    },
    {
     "name": "stdout",
     "output_type": "stream",
     "text": [
      "distortion03 (Severity 4)\n"
     ]
    },
    {
     "data": {
      "application/vnd.jupyter.widget-view+json": {
       "model_id": "705b9edc8f974196b96c61fee7133b14",
       "version_major": 2,
       "version_minor": 0
      },
      "text/plain": [
       "Evaluating distortion03 (Severity 5):   0%|          | 0/157 [00:00<?, ?it/s]"
      ]
     },
     "metadata": {},
     "output_type": "display_data"
    },
    {
     "name": "stdout",
     "output_type": "stream",
     "text": [
      "distortion03 (Severity 5)\n"
     ]
    },
    {
     "data": {
      "application/vnd.jupyter.widget-view+json": {
       "model_id": "9a253d37064742e1a36f629bf71fc99d",
       "version_major": 2,
       "version_minor": 0
      },
      "text/plain": [
       "Evaluating distortion04 (Severity 1):   0%|          | 0/157 [00:00<?, ?it/s]"
      ]
     },
     "metadata": {},
     "output_type": "display_data"
    },
    {
     "name": "stdout",
     "output_type": "stream",
     "text": [
      "distortion04 (Severity 1)\n"
     ]
    },
    {
     "data": {
      "application/vnd.jupyter.widget-view+json": {
       "model_id": "0101486850ea42a38f960f031bba2927",
       "version_major": 2,
       "version_minor": 0
      },
      "text/plain": [
       "Evaluating distortion04 (Severity 2):   0%|          | 0/157 [00:00<?, ?it/s]"
      ]
     },
     "metadata": {},
     "output_type": "display_data"
    },
    {
     "name": "stdout",
     "output_type": "stream",
     "text": [
      "distortion04 (Severity 2)\n"
     ]
    },
    {
     "data": {
      "application/vnd.jupyter.widget-view+json": {
       "model_id": "596468c7e6a54f188e186a41629e1cf5",
       "version_major": 2,
       "version_minor": 0
      },
      "text/plain": [
       "Evaluating distortion04 (Severity 3):   0%|          | 0/157 [00:00<?, ?it/s]"
      ]
     },
     "metadata": {},
     "output_type": "display_data"
    },
    {
     "name": "stdout",
     "output_type": "stream",
     "text": [
      "distortion04 (Severity 3)\n"
     ]
    },
    {
     "data": {
      "application/vnd.jupyter.widget-view+json": {
       "model_id": "a46db672b1b84868a6f43dfbcd745e27",
       "version_major": 2,
       "version_minor": 0
      },
      "text/plain": [
       "Evaluating distortion04 (Severity 4):   0%|          | 0/157 [00:00<?, ?it/s]"
      ]
     },
     "metadata": {},
     "output_type": "display_data"
    },
    {
     "name": "stdout",
     "output_type": "stream",
     "text": [
      "distortion04 (Severity 4)\n"
     ]
    },
    {
     "data": {
      "application/vnd.jupyter.widget-view+json": {
       "model_id": "fc677e8ac6bc4851b512ada77d87a12f",
       "version_major": 2,
       "version_minor": 0
      },
      "text/plain": [
       "Evaluating distortion04 (Severity 5):   0%|          | 0/157 [00:00<?, ?it/s]"
      ]
     },
     "metadata": {},
     "output_type": "display_data"
    },
    {
     "name": "stdout",
     "output_type": "stream",
     "text": [
      "distortion04 (Severity 5)\n"
     ]
    },
    {
     "data": {
      "application/vnd.jupyter.widget-view+json": {
       "model_id": "6af7d8640cbf4fa1b2f7617f437faebc",
       "version_major": 2,
       "version_minor": 0
      },
      "text/plain": [
       "Evaluating distortion05 (Severity 1):   0%|          | 0/157 [00:00<?, ?it/s]"
      ]
     },
     "metadata": {},
     "output_type": "display_data"
    },
    {
     "name": "stdout",
     "output_type": "stream",
     "text": [
      "distortion05 (Severity 1)\n"
     ]
    },
    {
     "data": {
      "application/vnd.jupyter.widget-view+json": {
       "model_id": "e86b70d01459496a87785b8bbf4693bf",
       "version_major": 2,
       "version_minor": 0
      },
      "text/plain": [
       "Evaluating distortion05 (Severity 2):   0%|          | 0/157 [00:00<?, ?it/s]"
      ]
     },
     "metadata": {},
     "output_type": "display_data"
    },
    {
     "name": "stdout",
     "output_type": "stream",
     "text": [
      "distortion05 (Severity 2)\n"
     ]
    },
    {
     "data": {
      "application/vnd.jupyter.widget-view+json": {
       "model_id": "0af8e5d55c7740ea9c28ff9b3ac8bcca",
       "version_major": 2,
       "version_minor": 0
      },
      "text/plain": [
       "Evaluating distortion05 (Severity 3):   0%|          | 0/157 [00:00<?, ?it/s]"
      ]
     },
     "metadata": {},
     "output_type": "display_data"
    },
    {
     "name": "stdout",
     "output_type": "stream",
     "text": [
      "distortion05 (Severity 3)\n"
     ]
    },
    {
     "data": {
      "application/vnd.jupyter.widget-view+json": {
       "model_id": "c6f86944c7224c3e806de3b7e03d03c6",
       "version_major": 2,
       "version_minor": 0
      },
      "text/plain": [
       "Evaluating distortion05 (Severity 4):   0%|          | 0/157 [00:00<?, ?it/s]"
      ]
     },
     "metadata": {},
     "output_type": "display_data"
    },
    {
     "name": "stdout",
     "output_type": "stream",
     "text": [
      "distortion05 (Severity 4)\n"
     ]
    },
    {
     "data": {
      "application/vnd.jupyter.widget-view+json": {
       "model_id": "18c57738dcf84ebbbb967793b1f7f881",
       "version_major": 2,
       "version_minor": 0
      },
      "text/plain": [
       "Evaluating distortion05 (Severity 5):   0%|          | 0/157 [00:00<?, ?it/s]"
      ]
     },
     "metadata": {},
     "output_type": "display_data"
    },
    {
     "name": "stdout",
     "output_type": "stream",
     "text": [
      "distortion05 (Severity 5)\n"
     ]
    },
    {
     "data": {
      "application/vnd.jupyter.widget-view+json": {
       "model_id": "df96b3a6e23f4a9b921462f2b769e6ce",
       "version_major": 2,
       "version_minor": 0
      },
      "text/plain": [
       "Evaluating distortion06 (Severity 1):   0%|          | 0/157 [00:00<?, ?it/s]"
      ]
     },
     "metadata": {},
     "output_type": "display_data"
    },
    {
     "name": "stdout",
     "output_type": "stream",
     "text": [
      "distortion06 (Severity 1)\n"
     ]
    },
    {
     "data": {
      "application/vnd.jupyter.widget-view+json": {
       "model_id": "5ac1772a129745528d4ff4dfa475dfa1",
       "version_major": 2,
       "version_minor": 0
      },
      "text/plain": [
       "Evaluating distortion06 (Severity 2):   0%|          | 0/157 [00:00<?, ?it/s]"
      ]
     },
     "metadata": {},
     "output_type": "display_data"
    },
    {
     "name": "stdout",
     "output_type": "stream",
     "text": [
      "distortion06 (Severity 2)\n"
     ]
    },
    {
     "data": {
      "application/vnd.jupyter.widget-view+json": {
       "model_id": "a9ebbfed6a4c4cc18c9fe1f06a376c0d",
       "version_major": 2,
       "version_minor": 0
      },
      "text/plain": [
       "Evaluating distortion06 (Severity 3):   0%|          | 0/157 [00:00<?, ?it/s]"
      ]
     },
     "metadata": {},
     "output_type": "display_data"
    },
    {
     "name": "stdout",
     "output_type": "stream",
     "text": [
      "distortion06 (Severity 3)\n"
     ]
    },
    {
     "data": {
      "application/vnd.jupyter.widget-view+json": {
       "model_id": "0e8e0b755ac940ca9ec9afac3d903d80",
       "version_major": 2,
       "version_minor": 0
      },
      "text/plain": [
       "Evaluating distortion06 (Severity 4):   0%|          | 0/157 [00:00<?, ?it/s]"
      ]
     },
     "metadata": {},
     "output_type": "display_data"
    },
    {
     "name": "stdout",
     "output_type": "stream",
     "text": [
      "distortion06 (Severity 4)\n"
     ]
    },
    {
     "data": {
      "application/vnd.jupyter.widget-view+json": {
       "model_id": "95fe16df609a4d00a2ee0d552f0a3a06",
       "version_major": 2,
       "version_minor": 0
      },
      "text/plain": [
       "Evaluating distortion06 (Severity 5):   0%|          | 0/157 [00:00<?, ?it/s]"
      ]
     },
     "metadata": {},
     "output_type": "display_data"
    },
    {
     "name": "stdout",
     "output_type": "stream",
     "text": [
      "distortion06 (Severity 5)\n"
     ]
    },
    {
     "data": {
      "application/vnd.jupyter.widget-view+json": {
       "model_id": "e7787de4aba44230af6f7163f78d9234",
       "version_major": 2,
       "version_minor": 0
      },
      "text/plain": [
       "Evaluating distortion07 (Severity 1):   0%|          | 0/157 [00:00<?, ?it/s]"
      ]
     },
     "metadata": {},
     "output_type": "display_data"
    },
    {
     "name": "stdout",
     "output_type": "stream",
     "text": [
      "distortion07 (Severity 1)\n"
     ]
    },
    {
     "data": {
      "application/vnd.jupyter.widget-view+json": {
       "model_id": "fee1a22fc91c4b8aaae24fcc5ae88af5",
       "version_major": 2,
       "version_minor": 0
      },
      "text/plain": [
       "Evaluating distortion07 (Severity 2):   0%|          | 0/157 [00:00<?, ?it/s]"
      ]
     },
     "metadata": {},
     "output_type": "display_data"
    },
    {
     "name": "stdout",
     "output_type": "stream",
     "text": [
      "distortion07 (Severity 2)\n"
     ]
    },
    {
     "data": {
      "application/vnd.jupyter.widget-view+json": {
       "model_id": "3df04caae4454b16833e52050f86819d",
       "version_major": 2,
       "version_minor": 0
      },
      "text/plain": [
       "Evaluating distortion07 (Severity 3):   0%|          | 0/157 [00:00<?, ?it/s]"
      ]
     },
     "metadata": {},
     "output_type": "display_data"
    },
    {
     "name": "stdout",
     "output_type": "stream",
     "text": [
      "distortion07 (Severity 3)\n"
     ]
    },
    {
     "data": {
      "application/vnd.jupyter.widget-view+json": {
       "model_id": "950ecb35c45c456793b12c49b1205294",
       "version_major": 2,
       "version_minor": 0
      },
      "text/plain": [
       "Evaluating distortion07 (Severity 4):   0%|          | 0/157 [00:00<?, ?it/s]"
      ]
     },
     "metadata": {},
     "output_type": "display_data"
    },
    {
     "name": "stdout",
     "output_type": "stream",
     "text": [
      "distortion07 (Severity 4)\n"
     ]
    },
    {
     "data": {
      "application/vnd.jupyter.widget-view+json": {
       "model_id": "5c4fc87031364b169622652209a6b82f",
       "version_major": 2,
       "version_minor": 0
      },
      "text/plain": [
       "Evaluating distortion07 (Severity 5):   0%|          | 0/157 [00:00<?, ?it/s]"
      ]
     },
     "metadata": {},
     "output_type": "display_data"
    },
    {
     "name": "stdout",
     "output_type": "stream",
     "text": [
      "distortion07 (Severity 5)\n"
     ]
    },
    {
     "data": {
      "application/vnd.jupyter.widget-view+json": {
       "model_id": "53eec4d133a8420caa31efa4ec67b669",
       "version_major": 2,
       "version_minor": 0
      },
      "text/plain": [
       "Evaluating distortion08 (Severity 1):   0%|          | 0/157 [00:00<?, ?it/s]"
      ]
     },
     "metadata": {},
     "output_type": "display_data"
    },
    {
     "name": "stdout",
     "output_type": "stream",
     "text": [
      "distortion08 (Severity 1)\n"
     ]
    },
    {
     "data": {
      "application/vnd.jupyter.widget-view+json": {
       "model_id": "436bd102a0f94053b7d6d74e4f58c6c4",
       "version_major": 2,
       "version_minor": 0
      },
      "text/plain": [
       "Evaluating distortion08 (Severity 2):   0%|          | 0/157 [00:00<?, ?it/s]"
      ]
     },
     "metadata": {},
     "output_type": "display_data"
    },
    {
     "name": "stdout",
     "output_type": "stream",
     "text": [
      "distortion08 (Severity 2)\n"
     ]
    },
    {
     "data": {
      "application/vnd.jupyter.widget-view+json": {
       "model_id": "9f40f48bccaa40debc649fc330dc9caa",
       "version_major": 2,
       "version_minor": 0
      },
      "text/plain": [
       "Evaluating distortion08 (Severity 3):   0%|          | 0/157 [00:00<?, ?it/s]"
      ]
     },
     "metadata": {},
     "output_type": "display_data"
    },
    {
     "name": "stdout",
     "output_type": "stream",
     "text": [
      "distortion08 (Severity 3)\n"
     ]
    },
    {
     "data": {
      "application/vnd.jupyter.widget-view+json": {
       "model_id": "0ebcf389922d46c898053671cced7b22",
       "version_major": 2,
       "version_minor": 0
      },
      "text/plain": [
       "Evaluating distortion08 (Severity 4):   0%|          | 0/157 [00:00<?, ?it/s]"
      ]
     },
     "metadata": {},
     "output_type": "display_data"
    },
    {
     "name": "stdout",
     "output_type": "stream",
     "text": [
      "distortion08 (Severity 4)\n"
     ]
    },
    {
     "data": {
      "application/vnd.jupyter.widget-view+json": {
       "model_id": "b530c14e23fe48609f81ba02a9c8be0c",
       "version_major": 2,
       "version_minor": 0
      },
      "text/plain": [
       "Evaluating distortion08 (Severity 5):   0%|          | 0/157 [00:00<?, ?it/s]"
      ]
     },
     "metadata": {},
     "output_type": "display_data"
    },
    {
     "name": "stdout",
     "output_type": "stream",
     "text": [
      "distortion08 (Severity 5)\n"
     ]
    },
    {
     "data": {
      "application/vnd.jupyter.widget-view+json": {
       "model_id": "9f04ffc6195943068a1b578128e25492",
       "version_major": 2,
       "version_minor": 0
      },
      "text/plain": [
       "Evaluating distortion09 (Severity 1):   0%|          | 0/157 [00:00<?, ?it/s]"
      ]
     },
     "metadata": {},
     "output_type": "display_data"
    },
    {
     "name": "stdout",
     "output_type": "stream",
     "text": [
      "distortion09 (Severity 1)\n"
     ]
    },
    {
     "data": {
      "application/vnd.jupyter.widget-view+json": {
       "model_id": "3b97350f022f4e339b12c633e3d92950",
       "version_major": 2,
       "version_minor": 0
      },
      "text/plain": [
       "Evaluating distortion09 (Severity 2):   0%|          | 0/157 [00:00<?, ?it/s]"
      ]
     },
     "metadata": {},
     "output_type": "display_data"
    },
    {
     "name": "stdout",
     "output_type": "stream",
     "text": [
      "distortion09 (Severity 2)\n"
     ]
    },
    {
     "data": {
      "application/vnd.jupyter.widget-view+json": {
       "model_id": "6b0766942c654945a3fb0a9dc4aae347",
       "version_major": 2,
       "version_minor": 0
      },
      "text/plain": [
       "Evaluating distortion09 (Severity 3):   0%|          | 0/157 [00:00<?, ?it/s]"
      ]
     },
     "metadata": {},
     "output_type": "display_data"
    },
    {
     "name": "stdout",
     "output_type": "stream",
     "text": [
      "distortion09 (Severity 3)\n"
     ]
    },
    {
     "data": {
      "application/vnd.jupyter.widget-view+json": {
       "model_id": "f4448164f9114514b125a3dc765b6076",
       "version_major": 2,
       "version_minor": 0
      },
      "text/plain": [
       "Evaluating distortion09 (Severity 4):   0%|          | 0/157 [00:00<?, ?it/s]"
      ]
     },
     "metadata": {},
     "output_type": "display_data"
    },
    {
     "name": "stdout",
     "output_type": "stream",
     "text": [
      "distortion09 (Severity 4)\n"
     ]
    },
    {
     "data": {
      "application/vnd.jupyter.widget-view+json": {
       "model_id": "9035f386b629449eaf9bc8744c787f64",
       "version_major": 2,
       "version_minor": 0
      },
      "text/plain": [
       "Evaluating distortion09 (Severity 5):   0%|          | 0/157 [00:00<?, ?it/s]"
      ]
     },
     "metadata": {},
     "output_type": "display_data"
    },
    {
     "name": "stdout",
     "output_type": "stream",
     "text": [
      "distortion09 (Severity 5)\n"
     ]
    },
    {
     "data": {
      "application/vnd.jupyter.widget-view+json": {
       "model_id": "252b043ad3dd439fac24c7a5a0f540e9",
       "version_major": 2,
       "version_minor": 0
      },
      "text/plain": [
       "Evaluating distortion10 (Severity 1):   0%|          | 0/157 [00:00<?, ?it/s]"
      ]
     },
     "metadata": {},
     "output_type": "display_data"
    },
    {
     "name": "stdout",
     "output_type": "stream",
     "text": [
      "distortion10 (Severity 1)\n"
     ]
    },
    {
     "data": {
      "application/vnd.jupyter.widget-view+json": {
       "model_id": "666c170f75dd4274b89dbf4f52e35032",
       "version_major": 2,
       "version_minor": 0
      },
      "text/plain": [
       "Evaluating distortion10 (Severity 2):   0%|          | 0/157 [00:00<?, ?it/s]"
      ]
     },
     "metadata": {},
     "output_type": "display_data"
    },
    {
     "name": "stdout",
     "output_type": "stream",
     "text": [
      "distortion10 (Severity 2)\n"
     ]
    },
    {
     "data": {
      "application/vnd.jupyter.widget-view+json": {
       "model_id": "33e65f2681de4642b830d996968b0afd",
       "version_major": 2,
       "version_minor": 0
      },
      "text/plain": [
       "Evaluating distortion10 (Severity 3):   0%|          | 0/157 [00:00<?, ?it/s]"
      ]
     },
     "metadata": {},
     "output_type": "display_data"
    },
    {
     "name": "stdout",
     "output_type": "stream",
     "text": [
      "distortion10 (Severity 3)\n"
     ]
    },
    {
     "data": {
      "application/vnd.jupyter.widget-view+json": {
       "model_id": "31799041d2734d5eb2baeee4576e9557",
       "version_major": 2,
       "version_minor": 0
      },
      "text/plain": [
       "Evaluating distortion10 (Severity 4):   0%|          | 0/157 [00:00<?, ?it/s]"
      ]
     },
     "metadata": {},
     "output_type": "display_data"
    },
    {
     "name": "stdout",
     "output_type": "stream",
     "text": [
      "distortion10 (Severity 4)\n"
     ]
    },
    {
     "data": {
      "application/vnd.jupyter.widget-view+json": {
       "model_id": "99330b6a6fce4316b72c28c1a96c9f09",
       "version_major": 2,
       "version_minor": 0
      },
      "text/plain": [
       "Evaluating distortion10 (Severity 5):   0%|          | 0/157 [00:00<?, ?it/s]"
      ]
     },
     "metadata": {},
     "output_type": "display_data"
    },
    {
     "name": "stdout",
     "output_type": "stream",
     "text": [
      "distortion10 (Severity 5)\n"
     ]
    },
    {
     "data": {
      "application/vnd.jupyter.widget-view+json": {
       "model_id": "599ab4338c7341cfaf5899175ec56e12",
       "version_major": 2,
       "version_minor": 0
      },
      "text/plain": [
       "Evaluating distortion11 (Severity 1):   0%|          | 0/157 [00:00<?, ?it/s]"
      ]
     },
     "metadata": {},
     "output_type": "display_data"
    },
    {
     "name": "stdout",
     "output_type": "stream",
     "text": [
      "distortion11 (Severity 1)\n"
     ]
    },
    {
     "data": {
      "application/vnd.jupyter.widget-view+json": {
       "model_id": "4926ce00d4a04bd3adf04abf9b4fd66e",
       "version_major": 2,
       "version_minor": 0
      },
      "text/plain": [
       "Evaluating distortion11 (Severity 2):   0%|          | 0/157 [00:00<?, ?it/s]"
      ]
     },
     "metadata": {},
     "output_type": "display_data"
    },
    {
     "name": "stdout",
     "output_type": "stream",
     "text": [
      "distortion11 (Severity 2)\n"
     ]
    },
    {
     "data": {
      "application/vnd.jupyter.widget-view+json": {
       "model_id": "336c51c4204c4d21bbfd9ffc9187f764",
       "version_major": 2,
       "version_minor": 0
      },
      "text/plain": [
       "Evaluating distortion11 (Severity 3):   0%|          | 0/157 [00:00<?, ?it/s]"
      ]
     },
     "metadata": {},
     "output_type": "display_data"
    },
    {
     "name": "stdout",
     "output_type": "stream",
     "text": [
      "distortion11 (Severity 3)\n"
     ]
    },
    {
     "data": {
      "application/vnd.jupyter.widget-view+json": {
       "model_id": "5f372c7408574009af2a2eb31e3324a8",
       "version_major": 2,
       "version_minor": 0
      },
      "text/plain": [
       "Evaluating distortion11 (Severity 4):   0%|          | 0/157 [00:00<?, ?it/s]"
      ]
     },
     "metadata": {},
     "output_type": "display_data"
    },
    {
     "name": "stdout",
     "output_type": "stream",
     "text": [
      "distortion11 (Severity 4)\n"
     ]
    },
    {
     "data": {
      "application/vnd.jupyter.widget-view+json": {
       "model_id": "c9b5c160631b49b0961e378b72de1908",
       "version_major": 2,
       "version_minor": 0
      },
      "text/plain": [
       "Evaluating distortion11 (Severity 5):   0%|          | 0/157 [00:00<?, ?it/s]"
      ]
     },
     "metadata": {},
     "output_type": "display_data"
    },
    {
     "name": "stdout",
     "output_type": "stream",
     "text": [
      "distortion11 (Severity 5)\n"
     ]
    },
    {
     "data": {
      "application/vnd.jupyter.widget-view+json": {
       "model_id": "68455a34a5ab4c399ede08542e23c3be",
       "version_major": 2,
       "version_minor": 0
      },
      "text/plain": [
       "Evaluating distortion12 (Severity 1):   0%|          | 0/157 [00:00<?, ?it/s]"
      ]
     },
     "metadata": {},
     "output_type": "display_data"
    },
    {
     "name": "stdout",
     "output_type": "stream",
     "text": [
      "distortion12 (Severity 1)\n"
     ]
    },
    {
     "data": {
      "application/vnd.jupyter.widget-view+json": {
       "model_id": "6041033035a04c93bd50e958be81d159",
       "version_major": 2,
       "version_minor": 0
      },
      "text/plain": [
       "Evaluating distortion12 (Severity 2):   0%|          | 0/157 [00:00<?, ?it/s]"
      ]
     },
     "metadata": {},
     "output_type": "display_data"
    },
    {
     "name": "stdout",
     "output_type": "stream",
     "text": [
      "distortion12 (Severity 2)\n"
     ]
    },
    {
     "data": {
      "application/vnd.jupyter.widget-view+json": {
       "model_id": "4a30061a8b884309bf220cfcdc4a4b14",
       "version_major": 2,
       "version_minor": 0
      },
      "text/plain": [
       "Evaluating distortion12 (Severity 3):   0%|          | 0/157 [00:00<?, ?it/s]"
      ]
     },
     "metadata": {},
     "output_type": "display_data"
    },
    {
     "name": "stdout",
     "output_type": "stream",
     "text": [
      "distortion12 (Severity 3)\n"
     ]
    },
    {
     "data": {
      "application/vnd.jupyter.widget-view+json": {
       "model_id": "3b95d574529f4801970c3234c9ba8228",
       "version_major": 2,
       "version_minor": 0
      },
      "text/plain": [
       "Evaluating distortion12 (Severity 4):   0%|          | 0/157 [00:00<?, ?it/s]"
      ]
     },
     "metadata": {},
     "output_type": "display_data"
    },
    {
     "name": "stdout",
     "output_type": "stream",
     "text": [
      "distortion12 (Severity 4)\n"
     ]
    },
    {
     "data": {
      "application/vnd.jupyter.widget-view+json": {
       "model_id": "9d2f883155d8410ea4404e7820948e4b",
       "version_major": 2,
       "version_minor": 0
      },
      "text/plain": [
       "Evaluating distortion12 (Severity 5):   0%|          | 0/157 [00:00<?, ?it/s]"
      ]
     },
     "metadata": {},
     "output_type": "display_data"
    },
    {
     "name": "stdout",
     "output_type": "stream",
     "text": [
      "distortion12 (Severity 5)\n"
     ]
    },
    {
     "data": {
      "application/vnd.jupyter.widget-view+json": {
       "model_id": "e340c74483874ec8bd9db0166f6a0f8f",
       "version_major": 2,
       "version_minor": 0
      },
      "text/plain": [
       "Evaluating distortion13 (Severity 1):   0%|          | 0/157 [00:00<?, ?it/s]"
      ]
     },
     "metadata": {},
     "output_type": "display_data"
    },
    {
     "name": "stdout",
     "output_type": "stream",
     "text": [
      "distortion13 (Severity 1)\n"
     ]
    },
    {
     "data": {
      "application/vnd.jupyter.widget-view+json": {
       "model_id": "9ed61eb410384b48bf849b44bdf44b20",
       "version_major": 2,
       "version_minor": 0
      },
      "text/plain": [
       "Evaluating distortion13 (Severity 2):   0%|          | 0/157 [00:00<?, ?it/s]"
      ]
     },
     "metadata": {},
     "output_type": "display_data"
    },
    {
     "name": "stdout",
     "output_type": "stream",
     "text": [
      "distortion13 (Severity 2)\n"
     ]
    },
    {
     "data": {
      "application/vnd.jupyter.widget-view+json": {
       "model_id": "d8b12a5d968d4988b4e7dca89b35c87c",
       "version_major": 2,
       "version_minor": 0
      },
      "text/plain": [
       "Evaluating distortion13 (Severity 3):   0%|          | 0/157 [00:00<?, ?it/s]"
      ]
     },
     "metadata": {},
     "output_type": "display_data"
    },
    {
     "name": "stdout",
     "output_type": "stream",
     "text": [
      "distortion13 (Severity 3)\n"
     ]
    },
    {
     "data": {
      "application/vnd.jupyter.widget-view+json": {
       "model_id": "871ea0def2ab4b1f8c2cc44beb671f6f",
       "version_major": 2,
       "version_minor": 0
      },
      "text/plain": [
       "Evaluating distortion13 (Severity 4):   0%|          | 0/157 [00:00<?, ?it/s]"
      ]
     },
     "metadata": {},
     "output_type": "display_data"
    },
    {
     "name": "stdout",
     "output_type": "stream",
     "text": [
      "distortion13 (Severity 4)\n"
     ]
    },
    {
     "data": {
      "application/vnd.jupyter.widget-view+json": {
       "model_id": "e62f72ed052946ac85bf9efe06718563",
       "version_major": 2,
       "version_minor": 0
      },
      "text/plain": [
       "Evaluating distortion13 (Severity 5):   0%|          | 0/157 [00:00<?, ?it/s]"
      ]
     },
     "metadata": {},
     "output_type": "display_data"
    },
    {
     "name": "stdout",
     "output_type": "stream",
     "text": [
      "distortion13 (Severity 5)\n"
     ]
    },
    {
     "data": {
      "application/vnd.jupyter.widget-view+json": {
       "model_id": "2bdc65b7142d48c9b593cc916a36e487",
       "version_major": 2,
       "version_minor": 0
      },
      "text/plain": [
       "Evaluating distortion14 (Severity 1):   0%|          | 0/157 [00:00<?, ?it/s]"
      ]
     },
     "metadata": {},
     "output_type": "display_data"
    },
    {
     "name": "stdout",
     "output_type": "stream",
     "text": [
      "distortion14 (Severity 1)\n"
     ]
    },
    {
     "data": {
      "application/vnd.jupyter.widget-view+json": {
       "model_id": "0a12b36cd68f4cee9b47a4eef064385f",
       "version_major": 2,
       "version_minor": 0
      },
      "text/plain": [
       "Evaluating distortion14 (Severity 2):   0%|          | 0/157 [00:00<?, ?it/s]"
      ]
     },
     "metadata": {},
     "output_type": "display_data"
    },
    {
     "name": "stdout",
     "output_type": "stream",
     "text": [
      "distortion14 (Severity 2)\n"
     ]
    },
    {
     "data": {
      "application/vnd.jupyter.widget-view+json": {
       "model_id": "ab8fc707c57e416894dd052de8aba24a",
       "version_major": 2,
       "version_minor": 0
      },
      "text/plain": [
       "Evaluating distortion14 (Severity 3):   0%|          | 0/157 [00:00<?, ?it/s]"
      ]
     },
     "metadata": {},
     "output_type": "display_data"
    },
    {
     "name": "stdout",
     "output_type": "stream",
     "text": [
      "distortion14 (Severity 3)\n"
     ]
    },
    {
     "data": {
      "application/vnd.jupyter.widget-view+json": {
       "model_id": "6ec832256c8740cab0f0cc40cb160547",
       "version_major": 2,
       "version_minor": 0
      },
      "text/plain": [
       "Evaluating distortion14 (Severity 4):   0%|          | 0/157 [00:00<?, ?it/s]"
      ]
     },
     "metadata": {},
     "output_type": "display_data"
    },
    {
     "name": "stdout",
     "output_type": "stream",
     "text": [
      "distortion14 (Severity 4)\n"
     ]
    },
    {
     "data": {
      "application/vnd.jupyter.widget-view+json": {
       "model_id": "73c13559804647ea9f191c4dc1a57bad",
       "version_major": 2,
       "version_minor": 0
      },
      "text/plain": [
       "Evaluating distortion14 (Severity 5):   0%|          | 0/157 [00:00<?, ?it/s]"
      ]
     },
     "metadata": {},
     "output_type": "display_data"
    },
    {
     "name": "stdout",
     "output_type": "stream",
     "text": [
      "distortion14 (Severity 5)\n"
     ]
    },
    {
     "data": {
      "application/vnd.jupyter.widget-view+json": {
       "model_id": "631950ebac2845c4a6f85f443366b719",
       "version_major": 2,
       "version_minor": 0
      },
      "text/plain": [
       "Evaluating distortion15 (Severity 1):   0%|          | 0/157 [00:00<?, ?it/s]"
      ]
     },
     "metadata": {},
     "output_type": "display_data"
    },
    {
     "name": "stdout",
     "output_type": "stream",
     "text": [
      "distortion15 (Severity 1)\n"
     ]
    },
    {
     "data": {
      "application/vnd.jupyter.widget-view+json": {
       "model_id": "8230849dc5254c5e84bf20641bdeb072",
       "version_major": 2,
       "version_minor": 0
      },
      "text/plain": [
       "Evaluating distortion15 (Severity 2):   0%|          | 0/157 [00:00<?, ?it/s]"
      ]
     },
     "metadata": {},
     "output_type": "display_data"
    },
    {
     "name": "stdout",
     "output_type": "stream",
     "text": [
      "distortion15 (Severity 2)\n"
     ]
    },
    {
     "data": {
      "application/vnd.jupyter.widget-view+json": {
       "model_id": "e6a1a5f694bd48aca089005c4d5e08ec",
       "version_major": 2,
       "version_minor": 0
      },
      "text/plain": [
       "Evaluating distortion15 (Severity 3):   0%|          | 0/157 [00:00<?, ?it/s]"
      ]
     },
     "metadata": {},
     "output_type": "display_data"
    },
    {
     "name": "stdout",
     "output_type": "stream",
     "text": [
      "distortion15 (Severity 3)\n"
     ]
    },
    {
     "data": {
      "application/vnd.jupyter.widget-view+json": {
       "model_id": "c16ba9734a694d23905b8afa2af9fb79",
       "version_major": 2,
       "version_minor": 0
      },
      "text/plain": [
       "Evaluating distortion15 (Severity 4):   0%|          | 0/157 [00:00<?, ?it/s]"
      ]
     },
     "metadata": {},
     "output_type": "display_data"
    },
    {
     "name": "stdout",
     "output_type": "stream",
     "text": [
      "distortion15 (Severity 4)\n"
     ]
    },
    {
     "data": {
      "application/vnd.jupyter.widget-view+json": {
       "model_id": "0e81ef5d21274a8d9615cdf22e690313",
       "version_major": 2,
       "version_minor": 0
      },
      "text/plain": [
       "Evaluating distortion15 (Severity 5):   0%|          | 0/157 [00:00<?, ?it/s]"
      ]
     },
     "metadata": {},
     "output_type": "display_data"
    },
    {
     "name": "stdout",
     "output_type": "stream",
     "text": [
      "distortion15 (Severity 5)\n"
     ]
    },
    {
     "data": {
      "application/vnd.jupyter.widget-view+json": {
       "model_id": "e531a093e21149c08df8a8e25f7b6d89",
       "version_major": 2,
       "version_minor": 0
      },
      "text/plain": [
       "Evaluating distortion16 (Severity 1):   0%|          | 0/157 [00:00<?, ?it/s]"
      ]
     },
     "metadata": {},
     "output_type": "display_data"
    },
    {
     "name": "stdout",
     "output_type": "stream",
     "text": [
      "distortion16 (Severity 1)\n"
     ]
    },
    {
     "data": {
      "application/vnd.jupyter.widget-view+json": {
       "model_id": "073657025cd2440cac47cfe01a595c89",
       "version_major": 2,
       "version_minor": 0
      },
      "text/plain": [
       "Evaluating distortion16 (Severity 2):   0%|          | 0/157 [00:00<?, ?it/s]"
      ]
     },
     "metadata": {},
     "output_type": "display_data"
    },
    {
     "name": "stdout",
     "output_type": "stream",
     "text": [
      "distortion16 (Severity 2)\n"
     ]
    },
    {
     "data": {
      "application/vnd.jupyter.widget-view+json": {
       "model_id": "0a145338b4164f8babfd3a50e4cbd8dd",
       "version_major": 2,
       "version_minor": 0
      },
      "text/plain": [
       "Evaluating distortion16 (Severity 3):   0%|          | 0/157 [00:00<?, ?it/s]"
      ]
     },
     "metadata": {},
     "output_type": "display_data"
    },
    {
     "name": "stdout",
     "output_type": "stream",
     "text": [
      "distortion16 (Severity 3)\n"
     ]
    },
    {
     "data": {
      "application/vnd.jupyter.widget-view+json": {
       "model_id": "d12ce298023243bd9e989b4c4df7c0bd",
       "version_major": 2,
       "version_minor": 0
      },
      "text/plain": [
       "Evaluating distortion16 (Severity 4):   0%|          | 0/157 [00:00<?, ?it/s]"
      ]
     },
     "metadata": {},
     "output_type": "display_data"
    },
    {
     "name": "stdout",
     "output_type": "stream",
     "text": [
      "distortion16 (Severity 4)\n"
     ]
    },
    {
     "data": {
      "application/vnd.jupyter.widget-view+json": {
       "model_id": "e0dd98a6524d4526980e2952cec0b346",
       "version_major": 2,
       "version_minor": 0
      },
      "text/plain": [
       "Evaluating distortion16 (Severity 5):   0%|          | 0/157 [00:00<?, ?it/s]"
      ]
     },
     "metadata": {},
     "output_type": "display_data"
    },
    {
     "name": "stdout",
     "output_type": "stream",
     "text": [
      "distortion16 (Severity 5)\n"
     ]
    },
    {
     "data": {
      "application/vnd.jupyter.widget-view+json": {
       "model_id": "3ab81e8f002647ff9bf7b6d07cd32b13",
       "version_major": 2,
       "version_minor": 0
      },
      "text/plain": [
       "Evaluating distortion17 (Severity 1):   0%|          | 0/157 [00:00<?, ?it/s]"
      ]
     },
     "metadata": {},
     "output_type": "display_data"
    },
    {
     "name": "stdout",
     "output_type": "stream",
     "text": [
      "distortion17 (Severity 1)\n"
     ]
    },
    {
     "data": {
      "application/vnd.jupyter.widget-view+json": {
       "model_id": "bb3f74cc549444ac92811ca702efeea7",
       "version_major": 2,
       "version_minor": 0
      },
      "text/plain": [
       "Evaluating distortion17 (Severity 2):   0%|          | 0/157 [00:00<?, ?it/s]"
      ]
     },
     "metadata": {},
     "output_type": "display_data"
    },
    {
     "name": "stdout",
     "output_type": "stream",
     "text": [
      "distortion17 (Severity 2)\n"
     ]
    },
    {
     "data": {
      "application/vnd.jupyter.widget-view+json": {
       "model_id": "fc2239c7e3b746a5b8804afac33b078f",
       "version_major": 2,
       "version_minor": 0
      },
      "text/plain": [
       "Evaluating distortion17 (Severity 3):   0%|          | 0/157 [00:00<?, ?it/s]"
      ]
     },
     "metadata": {},
     "output_type": "display_data"
    },
    {
     "name": "stdout",
     "output_type": "stream",
     "text": [
      "distortion17 (Severity 3)\n"
     ]
    },
    {
     "data": {
      "application/vnd.jupyter.widget-view+json": {
       "model_id": "92b67d7aeb6b43ff9d42455b9258dc94",
       "version_major": 2,
       "version_minor": 0
      },
      "text/plain": [
       "Evaluating distortion17 (Severity 4):   0%|          | 0/157 [00:00<?, ?it/s]"
      ]
     },
     "metadata": {},
     "output_type": "display_data"
    },
    {
     "name": "stdout",
     "output_type": "stream",
     "text": [
      "distortion17 (Severity 4)\n"
     ]
    },
    {
     "data": {
      "application/vnd.jupyter.widget-view+json": {
       "model_id": "aaa101f659ef416b81919047bb61349e",
       "version_major": 2,
       "version_minor": 0
      },
      "text/plain": [
       "Evaluating distortion17 (Severity 5):   0%|          | 0/157 [00:00<?, ?it/s]"
      ]
     },
     "metadata": {},
     "output_type": "display_data"
    },
    {
     "name": "stdout",
     "output_type": "stream",
     "text": [
      "distortion17 (Severity 5)\n"
     ]
    },
    {
     "data": {
      "application/vnd.jupyter.widget-view+json": {
       "model_id": "16de5cf5c9b54b589aede6ae39319374",
       "version_major": 2,
       "version_minor": 0
      },
      "text/plain": [
       "Evaluating distortion18 (Severity 1):   0%|          | 0/157 [00:00<?, ?it/s]"
      ]
     },
     "metadata": {},
     "output_type": "display_data"
    },
    {
     "name": "stdout",
     "output_type": "stream",
     "text": [
      "distortion18 (Severity 1)\n"
     ]
    },
    {
     "data": {
      "application/vnd.jupyter.widget-view+json": {
       "model_id": "abf34ec7495149d98914c13817983e4c",
       "version_major": 2,
       "version_minor": 0
      },
      "text/plain": [
       "Evaluating distortion18 (Severity 2):   0%|          | 0/157 [00:00<?, ?it/s]"
      ]
     },
     "metadata": {},
     "output_type": "display_data"
    },
    {
     "name": "stdout",
     "output_type": "stream",
     "text": [
      "distortion18 (Severity 2)\n"
     ]
    },
    {
     "data": {
      "application/vnd.jupyter.widget-view+json": {
       "model_id": "b32f0e36c23b4fedb18e3b3a498485ca",
       "version_major": 2,
       "version_minor": 0
      },
      "text/plain": [
       "Evaluating distortion18 (Severity 3):   0%|          | 0/157 [00:00<?, ?it/s]"
      ]
     },
     "metadata": {},
     "output_type": "display_data"
    },
    {
     "name": "stdout",
     "output_type": "stream",
     "text": [
      "distortion18 (Severity 3)\n"
     ]
    },
    {
     "data": {
      "application/vnd.jupyter.widget-view+json": {
       "model_id": "a740b40682fb439dafba2d6110d2b15b",
       "version_major": 2,
       "version_minor": 0
      },
      "text/plain": [
       "Evaluating distortion18 (Severity 4):   0%|          | 0/157 [00:00<?, ?it/s]"
      ]
     },
     "metadata": {},
     "output_type": "display_data"
    },
    {
     "name": "stdout",
     "output_type": "stream",
     "text": [
      "distortion18 (Severity 4)\n"
     ]
    },
    {
     "data": {
      "application/vnd.jupyter.widget-view+json": {
       "model_id": "d8cdf6659b4040d190d8075a4229f488",
       "version_major": 2,
       "version_minor": 0
      },
      "text/plain": [
       "Evaluating distortion18 (Severity 5):   0%|          | 0/157 [00:00<?, ?it/s]"
      ]
     },
     "metadata": {},
     "output_type": "display_data"
    },
    {
     "name": "stdout",
     "output_type": "stream",
     "text": [
      "distortion18 (Severity 5)\n",
      "submission_ood_part2resnet18.csv created successfully.\n"
     ]
    }
   ],
   "source": [
    "import torch\n",
    "import torch.nn as nn\n",
    "import torch.optim as optim\n",
    "import torchvision\n",
    "import torchvision.transforms as transforms\n",
    "from torchvision import models\n",
    "from tqdm.auto import tqdm\n",
    "import wandb\n",
    "import numpy as np\n",
    "import random\n",
    "import shutil\n",
    "\n",
    "# -----------------------------\n",
    "# Reproducibility\n",
    "# -----------------------------\n",
    "def set_seed(seed):\n",
    "    torch.manual_seed(seed)\n",
    "    np.random.seed(seed)\n",
    "    random.seed(seed)\n",
    "    if torch.cuda.is_available():\n",
    "        torch.cuda.manual_seed_all(seed)\n",
    "\n",
    "# -----------------------------\n",
    "# Training Function\n",
    "# -----------------------------\n",
    "def train(epoch, model, trainloader, optimizer, criterion, CONFIG):\n",
    "    device = CONFIG[\"device\"]\n",
    "    model.train()\n",
    "    running_loss, correct, total = 0.0, 0, 0\n",
    "    progress = tqdm(trainloader, desc=f\"Epoch {epoch+1}/{CONFIG['epochs']} [Train]\", leave=False)\n",
    "\n",
    "    for inputs, labels in progress:\n",
    "        inputs, labels = inputs.to(device), labels.to(device)\n",
    "\n",
    "        optimizer.zero_grad()\n",
    "        outputs = model(inputs)\n",
    "        loss = criterion(outputs, labels)\n",
    "        loss.backward()\n",
    "        optimizer.step()\n",
    "\n",
    "        running_loss += loss.item()\n",
    "        _, predicted = outputs.max(1)\n",
    "        total += labels.size(0)\n",
    "        correct += predicted.eq(labels).sum().item()\n",
    "\n",
    "        progress.set_postfix({\n",
    "            \"loss\": running_loss / (total / CONFIG[\"batch_size\"]),\n",
    "            \"acc\": 100. * correct / total\n",
    "        })\n",
    "\n",
    "    return running_loss / len(trainloader), 100. * correct / total\n",
    "\n",
    "# -----------------------------\n",
    "# Validation Function\n",
    "# -----------------------------\n",
    "def validate(model, valloader, criterion, CONFIG):\n",
    "    device = CONFIG[\"device\"]\n",
    "    model.eval()\n",
    "    running_loss, correct, total = 0.0, 0, 0\n",
    "\n",
    "    with torch.no_grad():\n",
    "        progress = tqdm(valloader, desc=\"[Validate]\", leave=False)\n",
    "        for inputs, labels in progress:\n",
    "            inputs, labels = inputs.to(device), labels.to(device)\n",
    "            outputs = model(inputs)\n",
    "            loss = criterion(outputs, labels)\n",
    "\n",
    "            running_loss += loss.item()\n",
    "            _, predicted = outputs.max(1)\n",
    "            total += labels.size(0)\n",
    "            correct += predicted.eq(labels).sum().item()\n",
    "\n",
    "            progress.set_postfix({\n",
    "                \"loss\": running_loss / (total / CONFIG[\"batch_size\"]),\n",
    "                \"acc\": 100. * correct / total\n",
    "            })\n",
    "\n",
    "    return running_loss / len(valloader), 100. * correct / total\n",
    "\n",
    "# -----------------------------\n",
    "# Main Training + Evaluation\n",
    "# -----------------------------\n",
    "def main():\n",
    "    CONFIG = {\n",
    "        \"model\": \"ResNet18_Efficient\",\n",
    "        \"batch_size\": 64,\n",
    "        \"learning_rate\": 0.001,\n",
    "        \"epochs\": 30,\n",
    "        \"num_workers\": 0,\n",
    "        \"device\": \"cuda\" if torch.cuda.is_available() else \"cpu\",\n",
    "        \"data_dir\": \"./data\",\n",
    "        \"ood_dir\": \"./data/ood-test\",\n",
    "        \"wandb_project\": \"sp25-ds542-challenge\",\n",
    "        \"seed\": 42,\n",
    "    }\n",
    "\n",
    "    set_seed(CONFIG[\"seed\"])\n",
    "\n",
    "    # -----------------------------\n",
    "    # Data Augmentation\n",
    "    # -----------------------------\n",
    "    transform_train = transforms.Compose([\n",
    "        transforms.RandomCrop(32, padding=4),\n",
    "        transforms.RandomHorizontalFlip(),\n",
    "        transforms.ColorJitter(brightness=0.2, contrast=0.2, saturation=0.2),\n",
    "        transforms.RandomRotation(10),\n",
    "        transforms.ToTensor(),\n",
    "        transforms.Normalize((0.5, 0.5, 0.5), (0.5, 0.5, 0.5)),\n",
    "    ])\n",
    "    transform_test = transforms.Compose([\n",
    "        transforms.ToTensor(),\n",
    "        transforms.Normalize((0.5, 0.5, 0.5), (0.5, 0.5, 0.5)),\n",
    "    ])\n",
    "\n",
    "    # -----------------------------\n",
    "    # Load CIFAR-100\n",
    "    # -----------------------------\n",
    "    trainset_full = torchvision.datasets.CIFAR100(root=CONFIG[\"data_dir\"], train=True, download=True, transform=transform_train)\n",
    "    train_size = int(0.8 * len(trainset_full))\n",
    "    val_size = len(trainset_full) - train_size\n",
    "    trainset, valset = torch.utils.data.random_split(trainset_full, [train_size, val_size])\n",
    "\n",
    "    trainloader = torch.utils.data.DataLoader(trainset, batch_size=CONFIG[\"batch_size\"], shuffle=True, num_workers=CONFIG[\"num_workers\"])\n",
    "    valloader = torch.utils.data.DataLoader(valset, batch_size=CONFIG[\"batch_size\"], shuffle=False, num_workers=CONFIG[\"num_workers\"])\n",
    "    testset = torchvision.datasets.CIFAR100(root=CONFIG[\"data_dir\"], train=False, download=True, transform=transform_test)\n",
    "    testloader = torch.utils.data.DataLoader(testset, batch_size=CONFIG[\"batch_size\"], shuffle=False, num_workers=CONFIG[\"num_workers\"])\n",
    "\n",
    "    # -----------------------------\n",
    "    # Define ResNet18 \n",
    "    # -----------------------------\n",
    "    model = models.resnet18(weights=None)\n",
    "    model.fc = nn.Linear(model.fc.in_features, 100)\n",
    "    model = model.to(CONFIG[\"device\"])\n",
    "\n",
    "    # -----------------------------\n",
    "    # Loss, Optimizer, Scheduler\n",
    "    # -----------------------------\n",
    "    criterion = nn.CrossEntropyLoss(label_smoothing=0.1)\n",
    "    optimizer = optim.AdamW(model.parameters(), lr=CONFIG[\"learning_rate\"], weight_decay=1e-4)\n",
    "    scheduler = torch.optim.lr_scheduler.CosineAnnealingLR(optimizer, T_max=CONFIG[\"epochs\"])\n",
    "\n",
    "    # -----------------------------\n",
    "    # WandB Tracking\n",
    "    # -----------------------------\n",
    "    wandb.init(project=CONFIG[\"wandb_project\"], config=CONFIG, name=\"ResNet18\")\n",
    "    wandb.watch(model)\n",
    "\n",
    "    best_val_acc = 0.0\n",
    "    for epoch in range(CONFIG[\"epochs\"]):\n",
    "        train_loss, train_acc = train(epoch, model, trainloader, optimizer, criterion, CONFIG)\n",
    "        val_loss, val_acc = validate(model, valloader, criterion, CONFIG)\n",
    "        scheduler.step()\n",
    "\n",
    "        wandb.log({\n",
    "            \"epoch\": epoch+1,\n",
    "            \"train_loss\": train_loss,\n",
    "            \"train_acc\": train_acc,\n",
    "            \"val_loss\": val_loss,\n",
    "            \"val_acc\": val_acc,\n",
    "            \"lr\": optimizer.param_groups[0][\"lr\"]\n",
    "        })\n",
    "\n",
    "        if val_acc > best_val_acc:\n",
    "            best_val_acc = val_acc\n",
    "            torch.save(model.state_dict(), \"best_model_part2resnet18.pth\")\n",
    "            wandb.save(\"best_model_part2resnet18.pth\")\n",
    "\n",
    "    wandb.finish()\n",
    "\n",
    "    # -----------------------------\n",
    "    # Evaluation & Submission\n",
    "    # -----------------------------\n",
    "    import eval_cifar100\n",
    "    import eval_ood\n",
    "\n",
    "    shutil.copy(\"best_model_part2resnet18.pth\", \"best_model.pth\")\n",
    "\n",
    "    predictions, clean_accuracy = eval_cifar100.evaluate_cifar100_test(model, testloader, CONFIG[\"device\"])\n",
    "    print(f\"Clean CIFAR-100 Test Accuracy: {clean_accuracy:.2f}%\")\n",
    "\n",
    "    all_predictions = eval_ood.evaluate_ood_test(model, CONFIG)\n",
    "    submission_df_ood = eval_ood.create_ood_df(all_predictions)\n",
    "    submission_df_ood.to_csv(\"submission_ood_part2resnet18.csv\", index=False)\n",
    "    print(\"submission_ood_part2resnet18.csv created successfully.\")\n",
    "\n",
    "if __name__ == '__main__':\n",
    "    main()\n"
   ]
  },
  {
   "cell_type": "markdown",
   "id": "7498ae51-7f99-4a01-848b-4afe6793b7f7",
   "metadata": {},
   "source": [
    "### Sophisticated CNN – DenseNet121"
   ]
  },
  {
   "cell_type": "code",
   "execution_count": 2,
   "id": "bb402c95-b380-48fe-8908-7a55cc40d450",
   "metadata": {},
   "outputs": [
    {
     "data": {
      "text/html": [
       "Tracking run with wandb version 0.19.8"
      ],
      "text/plain": [
       "<IPython.core.display.HTML object>"
      ]
     },
     "metadata": {},
     "output_type": "display_data"
    },
    {
     "data": {
      "text/html": [
       "Run data is saved locally in <code>/usr4/dl4ds/samritha/wandb/run-20250329_134639-54v4w0gr</code>"
      ],
      "text/plain": [
       "<IPython.core.display.HTML object>"
      ]
     },
     "metadata": {},
     "output_type": "display_data"
    },
    {
     "data": {
      "text/html": [
       "Syncing run <strong><a href='https://wandb.ai/samritha-boston-university/sp25-ds542-challenge/runs/54v4w0gr' target=\"_blank\">DenseNet121</a></strong> to <a href='https://wandb.ai/samritha-boston-university/sp25-ds542-challenge' target=\"_blank\">Weights & Biases</a> (<a href='https://wandb.me/developer-guide' target=\"_blank\">docs</a>)<br>"
      ],
      "text/plain": [
       "<IPython.core.display.HTML object>"
      ]
     },
     "metadata": {},
     "output_type": "display_data"
    },
    {
     "data": {
      "text/html": [
       " View project at <a href='https://wandb.ai/samritha-boston-university/sp25-ds542-challenge' target=\"_blank\">https://wandb.ai/samritha-boston-university/sp25-ds542-challenge</a>"
      ],
      "text/plain": [
       "<IPython.core.display.HTML object>"
      ]
     },
     "metadata": {},
     "output_type": "display_data"
    },
    {
     "data": {
      "text/html": [
       " View run at <a href='https://wandb.ai/samritha-boston-university/sp25-ds542-challenge/runs/54v4w0gr' target=\"_blank\">https://wandb.ai/samritha-boston-university/sp25-ds542-challenge/runs/54v4w0gr</a>"
      ],
      "text/plain": [
       "<IPython.core.display.HTML object>"
      ]
     },
     "metadata": {},
     "output_type": "display_data"
    },
    {
     "data": {
      "application/vnd.jupyter.widget-view+json": {
       "model_id": "de4a3bba9f5346619259d1514b8c201e",
       "version_major": 2,
       "version_minor": 0
      },
      "text/plain": [
       "Epoch 1/30 [Train]:   0%|          | 0/625 [00:00<?, ?it/s]"
      ]
     },
     "metadata": {},
     "output_type": "display_data"
    },
    {
     "data": {
      "application/vnd.jupyter.widget-view+json": {
       "model_id": "b3fa3c31153a47f6889ca48cf459b429",
       "version_major": 2,
       "version_minor": 0
      },
      "text/plain": [
       "[Validate]:   0%|          | 0/157 [00:00<?, ?it/s]"
      ]
     },
     "metadata": {},
     "output_type": "display_data"
    },
    {
     "data": {
      "application/vnd.jupyter.widget-view+json": {
       "model_id": "fa1efe4e81aa47b0bccb8f37f767b787",
       "version_major": 2,
       "version_minor": 0
      },
      "text/plain": [
       "Epoch 2/30 [Train]:   0%|          | 0/625 [00:00<?, ?it/s]"
      ]
     },
     "metadata": {},
     "output_type": "display_data"
    },
    {
     "data": {
      "application/vnd.jupyter.widget-view+json": {
       "model_id": "22fcd6b3b3304b5ab9742186f4513a94",
       "version_major": 2,
       "version_minor": 0
      },
      "text/plain": [
       "[Validate]:   0%|          | 0/157 [00:00<?, ?it/s]"
      ]
     },
     "metadata": {},
     "output_type": "display_data"
    },
    {
     "data": {
      "application/vnd.jupyter.widget-view+json": {
       "model_id": "872a426d5c3048a4af79376f8a6a7cec",
       "version_major": 2,
       "version_minor": 0
      },
      "text/plain": [
       "Epoch 3/30 [Train]:   0%|          | 0/625 [00:00<?, ?it/s]"
      ]
     },
     "metadata": {},
     "output_type": "display_data"
    },
    {
     "data": {
      "application/vnd.jupyter.widget-view+json": {
       "model_id": "67f47e67e0b5424296bdcf93dfedd220",
       "version_major": 2,
       "version_minor": 0
      },
      "text/plain": [
       "[Validate]:   0%|          | 0/157 [00:00<?, ?it/s]"
      ]
     },
     "metadata": {},
     "output_type": "display_data"
    },
    {
     "data": {
      "application/vnd.jupyter.widget-view+json": {
       "model_id": "175470296c8f4284a730260f4faa4dcb",
       "version_major": 2,
       "version_minor": 0
      },
      "text/plain": [
       "Epoch 4/30 [Train]:   0%|          | 0/625 [00:00<?, ?it/s]"
      ]
     },
     "metadata": {},
     "output_type": "display_data"
    },
    {
     "data": {
      "application/vnd.jupyter.widget-view+json": {
       "model_id": "95fdfee831134f508265201f5840134d",
       "version_major": 2,
       "version_minor": 0
      },
      "text/plain": [
       "[Validate]:   0%|          | 0/157 [00:00<?, ?it/s]"
      ]
     },
     "metadata": {},
     "output_type": "display_data"
    },
    {
     "data": {
      "application/vnd.jupyter.widget-view+json": {
       "model_id": "6eefa9be4b544165aaa8b2d27b17161d",
       "version_major": 2,
       "version_minor": 0
      },
      "text/plain": [
       "Epoch 5/30 [Train]:   0%|          | 0/625 [00:00<?, ?it/s]"
      ]
     },
     "metadata": {},
     "output_type": "display_data"
    },
    {
     "data": {
      "application/vnd.jupyter.widget-view+json": {
       "model_id": "05dab9ecc78f44b39e3c7de02d17b919",
       "version_major": 2,
       "version_minor": 0
      },
      "text/plain": [
       "[Validate]:   0%|          | 0/157 [00:00<?, ?it/s]"
      ]
     },
     "metadata": {},
     "output_type": "display_data"
    },
    {
     "data": {
      "application/vnd.jupyter.widget-view+json": {
       "model_id": "2c33f8cc3d0042a9a4c8ec9fcfeb4696",
       "version_major": 2,
       "version_minor": 0
      },
      "text/plain": [
       "Epoch 6/30 [Train]:   0%|          | 0/625 [00:00<?, ?it/s]"
      ]
     },
     "metadata": {},
     "output_type": "display_data"
    },
    {
     "data": {
      "application/vnd.jupyter.widget-view+json": {
       "model_id": "af74eb19193d4fa18e5d522441d38718",
       "version_major": 2,
       "version_minor": 0
      },
      "text/plain": [
       "[Validate]:   0%|          | 0/157 [00:00<?, ?it/s]"
      ]
     },
     "metadata": {},
     "output_type": "display_data"
    },
    {
     "data": {
      "application/vnd.jupyter.widget-view+json": {
       "model_id": "000afbf7cc684c65aecf28a98c6911b4",
       "version_major": 2,
       "version_minor": 0
      },
      "text/plain": [
       "Epoch 7/30 [Train]:   0%|          | 0/625 [00:00<?, ?it/s]"
      ]
     },
     "metadata": {},
     "output_type": "display_data"
    },
    {
     "data": {
      "application/vnd.jupyter.widget-view+json": {
       "model_id": "e90c3c6abab54606a80a822919c5bde8",
       "version_major": 2,
       "version_minor": 0
      },
      "text/plain": [
       "[Validate]:   0%|          | 0/157 [00:00<?, ?it/s]"
      ]
     },
     "metadata": {},
     "output_type": "display_data"
    },
    {
     "data": {
      "application/vnd.jupyter.widget-view+json": {
       "model_id": "9ec98a75f62f4e31bcf812df24fe6775",
       "version_major": 2,
       "version_minor": 0
      },
      "text/plain": [
       "Epoch 8/30 [Train]:   0%|          | 0/625 [00:00<?, ?it/s]"
      ]
     },
     "metadata": {},
     "output_type": "display_data"
    },
    {
     "data": {
      "application/vnd.jupyter.widget-view+json": {
       "model_id": "2b68bd1423564e918a3f447b7d1fea0a",
       "version_major": 2,
       "version_minor": 0
      },
      "text/plain": [
       "[Validate]:   0%|          | 0/157 [00:00<?, ?it/s]"
      ]
     },
     "metadata": {},
     "output_type": "display_data"
    },
    {
     "data": {
      "application/vnd.jupyter.widget-view+json": {
       "model_id": "41d6066c33b847a8953df500ac875365",
       "version_major": 2,
       "version_minor": 0
      },
      "text/plain": [
       "Epoch 9/30 [Train]:   0%|          | 0/625 [00:00<?, ?it/s]"
      ]
     },
     "metadata": {},
     "output_type": "display_data"
    },
    {
     "data": {
      "application/vnd.jupyter.widget-view+json": {
       "model_id": "51eba785a4174d1980440ecebbf8b330",
       "version_major": 2,
       "version_minor": 0
      },
      "text/plain": [
       "[Validate]:   0%|          | 0/157 [00:00<?, ?it/s]"
      ]
     },
     "metadata": {},
     "output_type": "display_data"
    },
    {
     "data": {
      "application/vnd.jupyter.widget-view+json": {
       "model_id": "30f5c88643a343d5bd787e86d85f2827",
       "version_major": 2,
       "version_minor": 0
      },
      "text/plain": [
       "Epoch 10/30 [Train]:   0%|          | 0/625 [00:00<?, ?it/s]"
      ]
     },
     "metadata": {},
     "output_type": "display_data"
    },
    {
     "data": {
      "application/vnd.jupyter.widget-view+json": {
       "model_id": "24a5041a71ac4ef58f7e607324d25af9",
       "version_major": 2,
       "version_minor": 0
      },
      "text/plain": [
       "[Validate]:   0%|          | 0/157 [00:00<?, ?it/s]"
      ]
     },
     "metadata": {},
     "output_type": "display_data"
    },
    {
     "data": {
      "application/vnd.jupyter.widget-view+json": {
       "model_id": "7e3d177445f64c73b303cbf41fdf91d3",
       "version_major": 2,
       "version_minor": 0
      },
      "text/plain": [
       "Epoch 11/30 [Train]:   0%|          | 0/625 [00:00<?, ?it/s]"
      ]
     },
     "metadata": {},
     "output_type": "display_data"
    },
    {
     "data": {
      "application/vnd.jupyter.widget-view+json": {
       "model_id": "3a05d4e9d0bc495f92210cec14d0910c",
       "version_major": 2,
       "version_minor": 0
      },
      "text/plain": [
       "[Validate]:   0%|          | 0/157 [00:00<?, ?it/s]"
      ]
     },
     "metadata": {},
     "output_type": "display_data"
    },
    {
     "data": {
      "application/vnd.jupyter.widget-view+json": {
       "model_id": "ba6d5ec926ec41a79e28487bac73760b",
       "version_major": 2,
       "version_minor": 0
      },
      "text/plain": [
       "Epoch 12/30 [Train]:   0%|          | 0/625 [00:00<?, ?it/s]"
      ]
     },
     "metadata": {},
     "output_type": "display_data"
    },
    {
     "data": {
      "application/vnd.jupyter.widget-view+json": {
       "model_id": "dce63f8d8e324de497dbce95a361706f",
       "version_major": 2,
       "version_minor": 0
      },
      "text/plain": [
       "[Validate]:   0%|          | 0/157 [00:00<?, ?it/s]"
      ]
     },
     "metadata": {},
     "output_type": "display_data"
    },
    {
     "data": {
      "application/vnd.jupyter.widget-view+json": {
       "model_id": "bf994ada644e4b508ee9db7aef715500",
       "version_major": 2,
       "version_minor": 0
      },
      "text/plain": [
       "Epoch 13/30 [Train]:   0%|          | 0/625 [00:00<?, ?it/s]"
      ]
     },
     "metadata": {},
     "output_type": "display_data"
    },
    {
     "data": {
      "application/vnd.jupyter.widget-view+json": {
       "model_id": "43d7208852d1479d8df8d917545ab00c",
       "version_major": 2,
       "version_minor": 0
      },
      "text/plain": [
       "[Validate]:   0%|          | 0/157 [00:00<?, ?it/s]"
      ]
     },
     "metadata": {},
     "output_type": "display_data"
    },
    {
     "data": {
      "application/vnd.jupyter.widget-view+json": {
       "model_id": "39b3590ba8f74645a8de6e2c7af453e2",
       "version_major": 2,
       "version_minor": 0
      },
      "text/plain": [
       "Epoch 14/30 [Train]:   0%|          | 0/625 [00:00<?, ?it/s]"
      ]
     },
     "metadata": {},
     "output_type": "display_data"
    },
    {
     "data": {
      "application/vnd.jupyter.widget-view+json": {
       "model_id": "d5179674f1bd4ad991d24c6032dc9063",
       "version_major": 2,
       "version_minor": 0
      },
      "text/plain": [
       "[Validate]:   0%|          | 0/157 [00:00<?, ?it/s]"
      ]
     },
     "metadata": {},
     "output_type": "display_data"
    },
    {
     "data": {
      "application/vnd.jupyter.widget-view+json": {
       "model_id": "4a83f644d10e4c588dc0193b82b699c8",
       "version_major": 2,
       "version_minor": 0
      },
      "text/plain": [
       "Epoch 15/30 [Train]:   0%|          | 0/625 [00:00<?, ?it/s]"
      ]
     },
     "metadata": {},
     "output_type": "display_data"
    },
    {
     "data": {
      "application/vnd.jupyter.widget-view+json": {
       "model_id": "22794d86e1f7452cb33e40b118acd0bd",
       "version_major": 2,
       "version_minor": 0
      },
      "text/plain": [
       "[Validate]:   0%|          | 0/157 [00:00<?, ?it/s]"
      ]
     },
     "metadata": {},
     "output_type": "display_data"
    },
    {
     "data": {
      "application/vnd.jupyter.widget-view+json": {
       "model_id": "5d15233754a2451db661c1d9de40bfc4",
       "version_major": 2,
       "version_minor": 0
      },
      "text/plain": [
       "Epoch 16/30 [Train]:   0%|          | 0/625 [00:00<?, ?it/s]"
      ]
     },
     "metadata": {},
     "output_type": "display_data"
    },
    {
     "data": {
      "application/vnd.jupyter.widget-view+json": {
       "model_id": "d238622e4e6a4a51bece4aa5989783da",
       "version_major": 2,
       "version_minor": 0
      },
      "text/plain": [
       "[Validate]:   0%|          | 0/157 [00:00<?, ?it/s]"
      ]
     },
     "metadata": {},
     "output_type": "display_data"
    },
    {
     "data": {
      "application/vnd.jupyter.widget-view+json": {
       "model_id": "8401f442e40b4d8da741848af9e87c11",
       "version_major": 2,
       "version_minor": 0
      },
      "text/plain": [
       "Epoch 17/30 [Train]:   0%|          | 0/625 [00:00<?, ?it/s]"
      ]
     },
     "metadata": {},
     "output_type": "display_data"
    },
    {
     "data": {
      "application/vnd.jupyter.widget-view+json": {
       "model_id": "723f9161acd240339595b041d2497110",
       "version_major": 2,
       "version_minor": 0
      },
      "text/plain": [
       "[Validate]:   0%|          | 0/157 [00:00<?, ?it/s]"
      ]
     },
     "metadata": {},
     "output_type": "display_data"
    },
    {
     "data": {
      "application/vnd.jupyter.widget-view+json": {
       "model_id": "2ed0f91e0d7d47f0bf6c64fd382d24a4",
       "version_major": 2,
       "version_minor": 0
      },
      "text/plain": [
       "Epoch 18/30 [Train]:   0%|          | 0/625 [00:00<?, ?it/s]"
      ]
     },
     "metadata": {},
     "output_type": "display_data"
    },
    {
     "data": {
      "application/vnd.jupyter.widget-view+json": {
       "model_id": "1a769bc60b884c308480fb9210673988",
       "version_major": 2,
       "version_minor": 0
      },
      "text/plain": [
       "[Validate]:   0%|          | 0/157 [00:00<?, ?it/s]"
      ]
     },
     "metadata": {},
     "output_type": "display_data"
    },
    {
     "data": {
      "application/vnd.jupyter.widget-view+json": {
       "model_id": "255b69bd9ae242d393b1c0ebac65bc13",
       "version_major": 2,
       "version_minor": 0
      },
      "text/plain": [
       "Epoch 19/30 [Train]:   0%|          | 0/625 [00:00<?, ?it/s]"
      ]
     },
     "metadata": {},
     "output_type": "display_data"
    },
    {
     "data": {
      "application/vnd.jupyter.widget-view+json": {
       "model_id": "bb6bbbc4ed5148309a70b0a8de3022c6",
       "version_major": 2,
       "version_minor": 0
      },
      "text/plain": [
       "[Validate]:   0%|          | 0/157 [00:00<?, ?it/s]"
      ]
     },
     "metadata": {},
     "output_type": "display_data"
    },
    {
     "data": {
      "application/vnd.jupyter.widget-view+json": {
       "model_id": "af0e605068ea46da858bf08da623bf8e",
       "version_major": 2,
       "version_minor": 0
      },
      "text/plain": [
       "Epoch 20/30 [Train]:   0%|          | 0/625 [00:00<?, ?it/s]"
      ]
     },
     "metadata": {},
     "output_type": "display_data"
    },
    {
     "data": {
      "application/vnd.jupyter.widget-view+json": {
       "model_id": "0a848fae56c443c4ad3dee94fdc36e7d",
       "version_major": 2,
       "version_minor": 0
      },
      "text/plain": [
       "[Validate]:   0%|          | 0/157 [00:00<?, ?it/s]"
      ]
     },
     "metadata": {},
     "output_type": "display_data"
    },
    {
     "data": {
      "application/vnd.jupyter.widget-view+json": {
       "model_id": "bb12fb007f694a6bad84979ef142f71a",
       "version_major": 2,
       "version_minor": 0
      },
      "text/plain": [
       "Epoch 21/30 [Train]:   0%|          | 0/625 [00:00<?, ?it/s]"
      ]
     },
     "metadata": {},
     "output_type": "display_data"
    },
    {
     "data": {
      "application/vnd.jupyter.widget-view+json": {
       "model_id": "16a3253dfe0046dcbd164b037d6b08d7",
       "version_major": 2,
       "version_minor": 0
      },
      "text/plain": [
       "[Validate]:   0%|          | 0/157 [00:00<?, ?it/s]"
      ]
     },
     "metadata": {},
     "output_type": "display_data"
    },
    {
     "data": {
      "application/vnd.jupyter.widget-view+json": {
       "model_id": "5b7d0a754656489980eff7ce2c5c1949",
       "version_major": 2,
       "version_minor": 0
      },
      "text/plain": [
       "Epoch 22/30 [Train]:   0%|          | 0/625 [00:00<?, ?it/s]"
      ]
     },
     "metadata": {},
     "output_type": "display_data"
    },
    {
     "data": {
      "application/vnd.jupyter.widget-view+json": {
       "model_id": "92e0e4e6a5744b64b63b43f8225c28b0",
       "version_major": 2,
       "version_minor": 0
      },
      "text/plain": [
       "[Validate]:   0%|          | 0/157 [00:00<?, ?it/s]"
      ]
     },
     "metadata": {},
     "output_type": "display_data"
    },
    {
     "data": {
      "application/vnd.jupyter.widget-view+json": {
       "model_id": "7985cc5e21d04178ac30d2ffb50e1f4c",
       "version_major": 2,
       "version_minor": 0
      },
      "text/plain": [
       "Epoch 23/30 [Train]:   0%|          | 0/625 [00:00<?, ?it/s]"
      ]
     },
     "metadata": {},
     "output_type": "display_data"
    },
    {
     "data": {
      "application/vnd.jupyter.widget-view+json": {
       "model_id": "ecf0e154e3ca48f1b4b57b609554b21c",
       "version_major": 2,
       "version_minor": 0
      },
      "text/plain": [
       "[Validate]:   0%|          | 0/157 [00:00<?, ?it/s]"
      ]
     },
     "metadata": {},
     "output_type": "display_data"
    },
    {
     "data": {
      "application/vnd.jupyter.widget-view+json": {
       "model_id": "0ce4bb1e85d240cdb2b53fabbdc6dff4",
       "version_major": 2,
       "version_minor": 0
      },
      "text/plain": [
       "Epoch 24/30 [Train]:   0%|          | 0/625 [00:00<?, ?it/s]"
      ]
     },
     "metadata": {},
     "output_type": "display_data"
    },
    {
     "data": {
      "application/vnd.jupyter.widget-view+json": {
       "model_id": "65a69215eea340d2a4f3141e410e9df4",
       "version_major": 2,
       "version_minor": 0
      },
      "text/plain": [
       "[Validate]:   0%|          | 0/157 [00:00<?, ?it/s]"
      ]
     },
     "metadata": {},
     "output_type": "display_data"
    },
    {
     "data": {
      "application/vnd.jupyter.widget-view+json": {
       "model_id": "1cb0835551364b96993499268539f59a",
       "version_major": 2,
       "version_minor": 0
      },
      "text/plain": [
       "Epoch 25/30 [Train]:   0%|          | 0/625 [00:00<?, ?it/s]"
      ]
     },
     "metadata": {},
     "output_type": "display_data"
    },
    {
     "data": {
      "application/vnd.jupyter.widget-view+json": {
       "model_id": "fd63c49cd6b8467aac6a0b282e78bdd1",
       "version_major": 2,
       "version_minor": 0
      },
      "text/plain": [
       "[Validate]:   0%|          | 0/157 [00:00<?, ?it/s]"
      ]
     },
     "metadata": {},
     "output_type": "display_data"
    },
    {
     "data": {
      "application/vnd.jupyter.widget-view+json": {
       "model_id": "16698e092f6044269406de9a902860ac",
       "version_major": 2,
       "version_minor": 0
      },
      "text/plain": [
       "Epoch 26/30 [Train]:   0%|          | 0/625 [00:00<?, ?it/s]"
      ]
     },
     "metadata": {},
     "output_type": "display_data"
    },
    {
     "data": {
      "application/vnd.jupyter.widget-view+json": {
       "model_id": "5178bb8fb22a4059b5b1c8759d5f1165",
       "version_major": 2,
       "version_minor": 0
      },
      "text/plain": [
       "[Validate]:   0%|          | 0/157 [00:00<?, ?it/s]"
      ]
     },
     "metadata": {},
     "output_type": "display_data"
    },
    {
     "data": {
      "application/vnd.jupyter.widget-view+json": {
       "model_id": "0bdf84a6dc44420d98503a2c9ad0743d",
       "version_major": 2,
       "version_minor": 0
      },
      "text/plain": [
       "Epoch 27/30 [Train]:   0%|          | 0/625 [00:00<?, ?it/s]"
      ]
     },
     "metadata": {},
     "output_type": "display_data"
    },
    {
     "data": {
      "application/vnd.jupyter.widget-view+json": {
       "model_id": "76b35417cdf94cb09e2f3cf7c1729042",
       "version_major": 2,
       "version_minor": 0
      },
      "text/plain": [
       "[Validate]:   0%|          | 0/157 [00:00<?, ?it/s]"
      ]
     },
     "metadata": {},
     "output_type": "display_data"
    },
    {
     "data": {
      "application/vnd.jupyter.widget-view+json": {
       "model_id": "5e336a8908f449108b05a05b186613d8",
       "version_major": 2,
       "version_minor": 0
      },
      "text/plain": [
       "Epoch 28/30 [Train]:   0%|          | 0/625 [00:00<?, ?it/s]"
      ]
     },
     "metadata": {},
     "output_type": "display_data"
    },
    {
     "data": {
      "application/vnd.jupyter.widget-view+json": {
       "model_id": "ba516c0c6d7642b594c4f552d26d2b1c",
       "version_major": 2,
       "version_minor": 0
      },
      "text/plain": [
       "[Validate]:   0%|          | 0/157 [00:00<?, ?it/s]"
      ]
     },
     "metadata": {},
     "output_type": "display_data"
    },
    {
     "data": {
      "application/vnd.jupyter.widget-view+json": {
       "model_id": "670e331552f8442f9b51596641c9c8e1",
       "version_major": 2,
       "version_minor": 0
      },
      "text/plain": [
       "Epoch 29/30 [Train]:   0%|          | 0/625 [00:00<?, ?it/s]"
      ]
     },
     "metadata": {},
     "output_type": "display_data"
    },
    {
     "data": {
      "application/vnd.jupyter.widget-view+json": {
       "model_id": "f5fc9ce22bdf49d5b7237e90336e0883",
       "version_major": 2,
       "version_minor": 0
      },
      "text/plain": [
       "[Validate]:   0%|          | 0/157 [00:00<?, ?it/s]"
      ]
     },
     "metadata": {},
     "output_type": "display_data"
    },
    {
     "data": {
      "application/vnd.jupyter.widget-view+json": {
       "model_id": "126a94c99aab437db15df0ea63e18438",
       "version_major": 2,
       "version_minor": 0
      },
      "text/plain": [
       "Epoch 30/30 [Train]:   0%|          | 0/625 [00:00<?, ?it/s]"
      ]
     },
     "metadata": {},
     "output_type": "display_data"
    },
    {
     "data": {
      "application/vnd.jupyter.widget-view+json": {
       "model_id": "15df6f7bcdf04d5485d17a0b23304a22",
       "version_major": 2,
       "version_minor": 0
      },
      "text/plain": [
       "[Validate]:   0%|          | 0/157 [00:00<?, ?it/s]"
      ]
     },
     "metadata": {},
     "output_type": "display_data"
    },
    {
     "data": {
      "text/html": [],
      "text/plain": [
       "<IPython.core.display.HTML object>"
      ]
     },
     "metadata": {},
     "output_type": "display_data"
    },
    {
     "data": {
      "text/html": [
       "<br>    <style><br>        .wandb-row {<br>            display: flex;<br>            flex-direction: row;<br>            flex-wrap: wrap;<br>            justify-content: flex-start;<br>            width: 100%;<br>        }<br>        .wandb-col {<br>            display: flex;<br>            flex-direction: column;<br>            flex-basis: 100%;<br>            flex: 1;<br>            padding: 10px;<br>        }<br>    </style><br><div class=\"wandb-row\"><div class=\"wandb-col\"><h3>Run history:</h3><br/><table class=\"wandb\"><tr><td>epoch</td><td>▁▁▁▂▂▂▂▃▃▃▃▄▄▄▄▅▅▅▅▆▆▆▆▇▇▇▇███</td></tr><tr><td>lr</td><td>█████▇▇▇▇▆▆▆▅▅▅▄▄▃▃▃▂▂▂▂▁▁▁▁▁▁</td></tr><tr><td>train_acc</td><td>▁▂▂▃▃▄▄▄▄▅▅▅▅▅▆▆▆▆▇▇▇▇▇███████</td></tr><tr><td>train_loss</td><td>█▇▆▆▅▅▅▄▄▄▄▃▃▃▃▃▂▂▂▂▂▂▁▁▁▁▁▁▁▁</td></tr><tr><td>val_acc</td><td>▁▂▃▄▄▅▅▆▆▆▆▇▇▇▇▇▇▇▇███████████</td></tr><tr><td>val_loss</td><td>█▆▅▆▄▃▃▂▂▂▂▂▂▁▁▁▁▁▁▁▁▁▁▁▁▁▁▁▁▁</td></tr></table><br/></div><div class=\"wandb-col\"><h3>Run summary:</h3><br/><table class=\"wandb\"><tr><td>epoch</td><td>30</td></tr><tr><td>lr</td><td>0</td></tr><tr><td>train_acc</td><td>82.165</td></tr><tr><td>train_loss</td><td>1.41228</td></tr><tr><td>val_acc</td><td>52.42</td></tr><tr><td>val_loss</td><td>2.42652</td></tr></table><br/></div></div>"
      ],
      "text/plain": [
       "<IPython.core.display.HTML object>"
      ]
     },
     "metadata": {},
     "output_type": "display_data"
    },
    {
     "data": {
      "text/html": [
       " View run <strong style=\"color:#cdcd00\">DenseNet121</strong> at: <a href='https://wandb.ai/samritha-boston-university/sp25-ds542-challenge/runs/54v4w0gr' target=\"_blank\">https://wandb.ai/samritha-boston-university/sp25-ds542-challenge/runs/54v4w0gr</a><br> View project at: <a href='https://wandb.ai/samritha-boston-university/sp25-ds542-challenge' target=\"_blank\">https://wandb.ai/samritha-boston-university/sp25-ds542-challenge</a><br>Synced 5 W&B file(s), 0 media file(s), 0 artifact file(s) and 1 other file(s)"
      ],
      "text/plain": [
       "<IPython.core.display.HTML object>"
      ]
     },
     "metadata": {},
     "output_type": "display_data"
    },
    {
     "data": {
      "text/html": [
       "Find logs at: <code>./wandb/run-20250329_134639-54v4w0gr/logs</code>"
      ],
      "text/plain": [
       "<IPython.core.display.HTML object>"
      ]
     },
     "metadata": {},
     "output_type": "display_data"
    },
    {
     "data": {
      "application/vnd.jupyter.widget-view+json": {
       "model_id": "a329bc5ad70d4d5badb26ecde2e34f81",
       "version_major": 2,
       "version_minor": 0
      },
      "text/plain": [
       "Evaluating on Clean Test Set:   0%|          | 0/157 [00:00<?, ?it/s]"
      ]
     },
     "metadata": {},
     "output_type": "display_data"
    },
    {
     "name": "stdout",
     "output_type": "stream",
     "text": [
      "Clean CIFAR-100 Test Accuracy: 56.00%\n",
      "All files are already downloaded.\n"
     ]
    },
    {
     "data": {
      "application/vnd.jupyter.widget-view+json": {
       "model_id": "a1c1e67ccf2a4a00bea31cda58d61b7c",
       "version_major": 2,
       "version_minor": 0
      },
      "text/plain": [
       "Evaluating distortion00 (Severity 1):   0%|          | 0/157 [00:00<?, ?it/s]"
      ]
     },
     "metadata": {},
     "output_type": "display_data"
    },
    {
     "name": "stdout",
     "output_type": "stream",
     "text": [
      "distortion00 (Severity 1)\n"
     ]
    },
    {
     "data": {
      "application/vnd.jupyter.widget-view+json": {
       "model_id": "ba977e2f61914f4a80a28388f710d9b4",
       "version_major": 2,
       "version_minor": 0
      },
      "text/plain": [
       "Evaluating distortion00 (Severity 2):   0%|          | 0/157 [00:00<?, ?it/s]"
      ]
     },
     "metadata": {},
     "output_type": "display_data"
    },
    {
     "name": "stdout",
     "output_type": "stream",
     "text": [
      "distortion00 (Severity 2)\n"
     ]
    },
    {
     "data": {
      "application/vnd.jupyter.widget-view+json": {
       "model_id": "262edc0f52d34700a319b23c8354e684",
       "version_major": 2,
       "version_minor": 0
      },
      "text/plain": [
       "Evaluating distortion00 (Severity 3):   0%|          | 0/157 [00:00<?, ?it/s]"
      ]
     },
     "metadata": {},
     "output_type": "display_data"
    },
    {
     "name": "stdout",
     "output_type": "stream",
     "text": [
      "distortion00 (Severity 3)\n"
     ]
    },
    {
     "data": {
      "application/vnd.jupyter.widget-view+json": {
       "model_id": "e2eaad9796cf491ca3689dcc3d1f9c75",
       "version_major": 2,
       "version_minor": 0
      },
      "text/plain": [
       "Evaluating distortion00 (Severity 4):   0%|          | 0/157 [00:00<?, ?it/s]"
      ]
     },
     "metadata": {},
     "output_type": "display_data"
    },
    {
     "name": "stdout",
     "output_type": "stream",
     "text": [
      "distortion00 (Severity 4)\n"
     ]
    },
    {
     "data": {
      "application/vnd.jupyter.widget-view+json": {
       "model_id": "c54901a3ea3346959ab1ec99df518d7b",
       "version_major": 2,
       "version_minor": 0
      },
      "text/plain": [
       "Evaluating distortion00 (Severity 5):   0%|          | 0/157 [00:00<?, ?it/s]"
      ]
     },
     "metadata": {},
     "output_type": "display_data"
    },
    {
     "name": "stdout",
     "output_type": "stream",
     "text": [
      "distortion00 (Severity 5)\n"
     ]
    },
    {
     "data": {
      "application/vnd.jupyter.widget-view+json": {
       "model_id": "0d658e9b86b54b59a5576b0a53b7695f",
       "version_major": 2,
       "version_minor": 0
      },
      "text/plain": [
       "Evaluating distortion01 (Severity 1):   0%|          | 0/157 [00:00<?, ?it/s]"
      ]
     },
     "metadata": {},
     "output_type": "display_data"
    },
    {
     "name": "stdout",
     "output_type": "stream",
     "text": [
      "distortion01 (Severity 1)\n"
     ]
    },
    {
     "data": {
      "application/vnd.jupyter.widget-view+json": {
       "model_id": "cb24c8c643e7492b8f7e157afd224488",
       "version_major": 2,
       "version_minor": 0
      },
      "text/plain": [
       "Evaluating distortion01 (Severity 2):   0%|          | 0/157 [00:00<?, ?it/s]"
      ]
     },
     "metadata": {},
     "output_type": "display_data"
    },
    {
     "name": "stdout",
     "output_type": "stream",
     "text": [
      "distortion01 (Severity 2)\n"
     ]
    },
    {
     "data": {
      "application/vnd.jupyter.widget-view+json": {
       "model_id": "74fb7b216abd4403933fad8605e78b14",
       "version_major": 2,
       "version_minor": 0
      },
      "text/plain": [
       "Evaluating distortion01 (Severity 3):   0%|          | 0/157 [00:00<?, ?it/s]"
      ]
     },
     "metadata": {},
     "output_type": "display_data"
    },
    {
     "name": "stdout",
     "output_type": "stream",
     "text": [
      "distortion01 (Severity 3)\n"
     ]
    },
    {
     "data": {
      "application/vnd.jupyter.widget-view+json": {
       "model_id": "6a03c0521c2341e3b536fcc591ed3841",
       "version_major": 2,
       "version_minor": 0
      },
      "text/plain": [
       "Evaluating distortion01 (Severity 4):   0%|          | 0/157 [00:00<?, ?it/s]"
      ]
     },
     "metadata": {},
     "output_type": "display_data"
    },
    {
     "name": "stdout",
     "output_type": "stream",
     "text": [
      "distortion01 (Severity 4)\n"
     ]
    },
    {
     "data": {
      "application/vnd.jupyter.widget-view+json": {
       "model_id": "a02d1434f2eb4366b77409ee1edf4163",
       "version_major": 2,
       "version_minor": 0
      },
      "text/plain": [
       "Evaluating distortion01 (Severity 5):   0%|          | 0/157 [00:00<?, ?it/s]"
      ]
     },
     "metadata": {},
     "output_type": "display_data"
    },
    {
     "name": "stdout",
     "output_type": "stream",
     "text": [
      "distortion01 (Severity 5)\n"
     ]
    },
    {
     "data": {
      "application/vnd.jupyter.widget-view+json": {
       "model_id": "7dc56fce892647cea7c6647dd67ee3df",
       "version_major": 2,
       "version_minor": 0
      },
      "text/plain": [
       "Evaluating distortion02 (Severity 1):   0%|          | 0/157 [00:00<?, ?it/s]"
      ]
     },
     "metadata": {},
     "output_type": "display_data"
    },
    {
     "name": "stdout",
     "output_type": "stream",
     "text": [
      "distortion02 (Severity 1)\n"
     ]
    },
    {
     "data": {
      "application/vnd.jupyter.widget-view+json": {
       "model_id": "c04310e8367240648dcd415d253b5238",
       "version_major": 2,
       "version_minor": 0
      },
      "text/plain": [
       "Evaluating distortion02 (Severity 2):   0%|          | 0/157 [00:00<?, ?it/s]"
      ]
     },
     "metadata": {},
     "output_type": "display_data"
    },
    {
     "name": "stdout",
     "output_type": "stream",
     "text": [
      "distortion02 (Severity 2)\n"
     ]
    },
    {
     "data": {
      "application/vnd.jupyter.widget-view+json": {
       "model_id": "a0602ced924b4002a83227cf1badebf1",
       "version_major": 2,
       "version_minor": 0
      },
      "text/plain": [
       "Evaluating distortion02 (Severity 3):   0%|          | 0/157 [00:00<?, ?it/s]"
      ]
     },
     "metadata": {},
     "output_type": "display_data"
    },
    {
     "name": "stdout",
     "output_type": "stream",
     "text": [
      "distortion02 (Severity 3)\n"
     ]
    },
    {
     "data": {
      "application/vnd.jupyter.widget-view+json": {
       "model_id": "1a3cca7c9d4c4702bffaf28fcb85b425",
       "version_major": 2,
       "version_minor": 0
      },
      "text/plain": [
       "Evaluating distortion02 (Severity 4):   0%|          | 0/157 [00:00<?, ?it/s]"
      ]
     },
     "metadata": {},
     "output_type": "display_data"
    },
    {
     "name": "stdout",
     "output_type": "stream",
     "text": [
      "distortion02 (Severity 4)\n"
     ]
    },
    {
     "data": {
      "application/vnd.jupyter.widget-view+json": {
       "model_id": "56d6596dd99e41b1baf70f59390445f2",
       "version_major": 2,
       "version_minor": 0
      },
      "text/plain": [
       "Evaluating distortion02 (Severity 5):   0%|          | 0/157 [00:00<?, ?it/s]"
      ]
     },
     "metadata": {},
     "output_type": "display_data"
    },
    {
     "name": "stdout",
     "output_type": "stream",
     "text": [
      "distortion02 (Severity 5)\n"
     ]
    },
    {
     "data": {
      "application/vnd.jupyter.widget-view+json": {
       "model_id": "64b1062b9f3e42fbafcd4cd6541507ad",
       "version_major": 2,
       "version_minor": 0
      },
      "text/plain": [
       "Evaluating distortion03 (Severity 1):   0%|          | 0/157 [00:00<?, ?it/s]"
      ]
     },
     "metadata": {},
     "output_type": "display_data"
    },
    {
     "name": "stdout",
     "output_type": "stream",
     "text": [
      "distortion03 (Severity 1)\n"
     ]
    },
    {
     "data": {
      "application/vnd.jupyter.widget-view+json": {
       "model_id": "7b46e84da78a4a11a4978c628962d4dd",
       "version_major": 2,
       "version_minor": 0
      },
      "text/plain": [
       "Evaluating distortion03 (Severity 2):   0%|          | 0/157 [00:00<?, ?it/s]"
      ]
     },
     "metadata": {},
     "output_type": "display_data"
    },
    {
     "name": "stdout",
     "output_type": "stream",
     "text": [
      "distortion03 (Severity 2)\n"
     ]
    },
    {
     "data": {
      "application/vnd.jupyter.widget-view+json": {
       "model_id": "60906fceb2d14556a0b226bfec27cd54",
       "version_major": 2,
       "version_minor": 0
      },
      "text/plain": [
       "Evaluating distortion03 (Severity 3):   0%|          | 0/157 [00:00<?, ?it/s]"
      ]
     },
     "metadata": {},
     "output_type": "display_data"
    },
    {
     "name": "stdout",
     "output_type": "stream",
     "text": [
      "distortion03 (Severity 3)\n"
     ]
    },
    {
     "data": {
      "application/vnd.jupyter.widget-view+json": {
       "model_id": "e1c6fdc7df8b46da9714e3fff2b0469f",
       "version_major": 2,
       "version_minor": 0
      },
      "text/plain": [
       "Evaluating distortion03 (Severity 4):   0%|          | 0/157 [00:00<?, ?it/s]"
      ]
     },
     "metadata": {},
     "output_type": "display_data"
    },
    {
     "name": "stdout",
     "output_type": "stream",
     "text": [
      "distortion03 (Severity 4)\n"
     ]
    },
    {
     "data": {
      "application/vnd.jupyter.widget-view+json": {
       "model_id": "defcdfef2d0b4f408851c86ab7e24463",
       "version_major": 2,
       "version_minor": 0
      },
      "text/plain": [
       "Evaluating distortion03 (Severity 5):   0%|          | 0/157 [00:00<?, ?it/s]"
      ]
     },
     "metadata": {},
     "output_type": "display_data"
    },
    {
     "name": "stdout",
     "output_type": "stream",
     "text": [
      "distortion03 (Severity 5)\n"
     ]
    },
    {
     "data": {
      "application/vnd.jupyter.widget-view+json": {
       "model_id": "798f6e1a842b495e8fc64bb2b6360358",
       "version_major": 2,
       "version_minor": 0
      },
      "text/plain": [
       "Evaluating distortion04 (Severity 1):   0%|          | 0/157 [00:00<?, ?it/s]"
      ]
     },
     "metadata": {},
     "output_type": "display_data"
    },
    {
     "name": "stdout",
     "output_type": "stream",
     "text": [
      "distortion04 (Severity 1)\n"
     ]
    },
    {
     "data": {
      "application/vnd.jupyter.widget-view+json": {
       "model_id": "2c09a66b8b724e7a864e05279d7ec272",
       "version_major": 2,
       "version_minor": 0
      },
      "text/plain": [
       "Evaluating distortion04 (Severity 2):   0%|          | 0/157 [00:00<?, ?it/s]"
      ]
     },
     "metadata": {},
     "output_type": "display_data"
    },
    {
     "name": "stdout",
     "output_type": "stream",
     "text": [
      "distortion04 (Severity 2)\n"
     ]
    },
    {
     "data": {
      "application/vnd.jupyter.widget-view+json": {
       "model_id": "4dbea7b0945a4da295644ca17500e1c9",
       "version_major": 2,
       "version_minor": 0
      },
      "text/plain": [
       "Evaluating distortion04 (Severity 3):   0%|          | 0/157 [00:00<?, ?it/s]"
      ]
     },
     "metadata": {},
     "output_type": "display_data"
    },
    {
     "name": "stdout",
     "output_type": "stream",
     "text": [
      "distortion04 (Severity 3)\n"
     ]
    },
    {
     "data": {
      "application/vnd.jupyter.widget-view+json": {
       "model_id": "1d96c3e9734c4c818ed4c189f8e8039b",
       "version_major": 2,
       "version_minor": 0
      },
      "text/plain": [
       "Evaluating distortion04 (Severity 4):   0%|          | 0/157 [00:00<?, ?it/s]"
      ]
     },
     "metadata": {},
     "output_type": "display_data"
    },
    {
     "name": "stdout",
     "output_type": "stream",
     "text": [
      "distortion04 (Severity 4)\n"
     ]
    },
    {
     "data": {
      "application/vnd.jupyter.widget-view+json": {
       "model_id": "448631e0287047378ec85d7e25e393e0",
       "version_major": 2,
       "version_minor": 0
      },
      "text/plain": [
       "Evaluating distortion04 (Severity 5):   0%|          | 0/157 [00:00<?, ?it/s]"
      ]
     },
     "metadata": {},
     "output_type": "display_data"
    },
    {
     "name": "stdout",
     "output_type": "stream",
     "text": [
      "distortion04 (Severity 5)\n"
     ]
    },
    {
     "data": {
      "application/vnd.jupyter.widget-view+json": {
       "model_id": "2b0383614a66426187a832f22da40f3f",
       "version_major": 2,
       "version_minor": 0
      },
      "text/plain": [
       "Evaluating distortion05 (Severity 1):   0%|          | 0/157 [00:00<?, ?it/s]"
      ]
     },
     "metadata": {},
     "output_type": "display_data"
    },
    {
     "name": "stdout",
     "output_type": "stream",
     "text": [
      "distortion05 (Severity 1)\n"
     ]
    },
    {
     "data": {
      "application/vnd.jupyter.widget-view+json": {
       "model_id": "5271c8e21d7a48eaa7be7fecc60da17e",
       "version_major": 2,
       "version_minor": 0
      },
      "text/plain": [
       "Evaluating distortion05 (Severity 2):   0%|          | 0/157 [00:00<?, ?it/s]"
      ]
     },
     "metadata": {},
     "output_type": "display_data"
    },
    {
     "name": "stdout",
     "output_type": "stream",
     "text": [
      "distortion05 (Severity 2)\n"
     ]
    },
    {
     "data": {
      "application/vnd.jupyter.widget-view+json": {
       "model_id": "1b3b0aded8884ed885e7e90d070aaafd",
       "version_major": 2,
       "version_minor": 0
      },
      "text/plain": [
       "Evaluating distortion05 (Severity 3):   0%|          | 0/157 [00:00<?, ?it/s]"
      ]
     },
     "metadata": {},
     "output_type": "display_data"
    },
    {
     "name": "stdout",
     "output_type": "stream",
     "text": [
      "distortion05 (Severity 3)\n"
     ]
    },
    {
     "data": {
      "application/vnd.jupyter.widget-view+json": {
       "model_id": "fa4d1b52861d430583f940aab31c6a7c",
       "version_major": 2,
       "version_minor": 0
      },
      "text/plain": [
       "Evaluating distortion05 (Severity 4):   0%|          | 0/157 [00:00<?, ?it/s]"
      ]
     },
     "metadata": {},
     "output_type": "display_data"
    },
    {
     "name": "stdout",
     "output_type": "stream",
     "text": [
      "distortion05 (Severity 4)\n"
     ]
    },
    {
     "data": {
      "application/vnd.jupyter.widget-view+json": {
       "model_id": "14daa81aacde4677b12060057aed0376",
       "version_major": 2,
       "version_minor": 0
      },
      "text/plain": [
       "Evaluating distortion05 (Severity 5):   0%|          | 0/157 [00:00<?, ?it/s]"
      ]
     },
     "metadata": {},
     "output_type": "display_data"
    },
    {
     "name": "stdout",
     "output_type": "stream",
     "text": [
      "distortion05 (Severity 5)\n"
     ]
    },
    {
     "data": {
      "application/vnd.jupyter.widget-view+json": {
       "model_id": "22d579d0daa746f587f0a2d8b1adbecc",
       "version_major": 2,
       "version_minor": 0
      },
      "text/plain": [
       "Evaluating distortion06 (Severity 1):   0%|          | 0/157 [00:00<?, ?it/s]"
      ]
     },
     "metadata": {},
     "output_type": "display_data"
    },
    {
     "name": "stdout",
     "output_type": "stream",
     "text": [
      "distortion06 (Severity 1)\n"
     ]
    },
    {
     "data": {
      "application/vnd.jupyter.widget-view+json": {
       "model_id": "f5e8db119a39426dacc86a4425d37e60",
       "version_major": 2,
       "version_minor": 0
      },
      "text/plain": [
       "Evaluating distortion06 (Severity 2):   0%|          | 0/157 [00:00<?, ?it/s]"
      ]
     },
     "metadata": {},
     "output_type": "display_data"
    },
    {
     "name": "stdout",
     "output_type": "stream",
     "text": [
      "distortion06 (Severity 2)\n"
     ]
    },
    {
     "data": {
      "application/vnd.jupyter.widget-view+json": {
       "model_id": "71a94a64b9544ab4b3f8cafc7d1d55e5",
       "version_major": 2,
       "version_minor": 0
      },
      "text/plain": [
       "Evaluating distortion06 (Severity 3):   0%|          | 0/157 [00:00<?, ?it/s]"
      ]
     },
     "metadata": {},
     "output_type": "display_data"
    },
    {
     "name": "stdout",
     "output_type": "stream",
     "text": [
      "distortion06 (Severity 3)\n"
     ]
    },
    {
     "data": {
      "application/vnd.jupyter.widget-view+json": {
       "model_id": "09fd11b84a6044798e7736161e853668",
       "version_major": 2,
       "version_minor": 0
      },
      "text/plain": [
       "Evaluating distortion06 (Severity 4):   0%|          | 0/157 [00:00<?, ?it/s]"
      ]
     },
     "metadata": {},
     "output_type": "display_data"
    },
    {
     "name": "stdout",
     "output_type": "stream",
     "text": [
      "distortion06 (Severity 4)\n"
     ]
    },
    {
     "data": {
      "application/vnd.jupyter.widget-view+json": {
       "model_id": "a0869d9017884964adfba6b582449b2d",
       "version_major": 2,
       "version_minor": 0
      },
      "text/plain": [
       "Evaluating distortion06 (Severity 5):   0%|          | 0/157 [00:00<?, ?it/s]"
      ]
     },
     "metadata": {},
     "output_type": "display_data"
    },
    {
     "name": "stdout",
     "output_type": "stream",
     "text": [
      "distortion06 (Severity 5)\n"
     ]
    },
    {
     "data": {
      "application/vnd.jupyter.widget-view+json": {
       "model_id": "911f31eccd3447c289df482325970873",
       "version_major": 2,
       "version_minor": 0
      },
      "text/plain": [
       "Evaluating distortion07 (Severity 1):   0%|          | 0/157 [00:00<?, ?it/s]"
      ]
     },
     "metadata": {},
     "output_type": "display_data"
    },
    {
     "name": "stdout",
     "output_type": "stream",
     "text": [
      "distortion07 (Severity 1)\n"
     ]
    },
    {
     "data": {
      "application/vnd.jupyter.widget-view+json": {
       "model_id": "3681189e270f4f48ba95753e86bfba65",
       "version_major": 2,
       "version_minor": 0
      },
      "text/plain": [
       "Evaluating distortion07 (Severity 2):   0%|          | 0/157 [00:00<?, ?it/s]"
      ]
     },
     "metadata": {},
     "output_type": "display_data"
    },
    {
     "name": "stdout",
     "output_type": "stream",
     "text": [
      "distortion07 (Severity 2)\n"
     ]
    },
    {
     "data": {
      "application/vnd.jupyter.widget-view+json": {
       "model_id": "3089aa98b5624362b305b1e2bf84ccd1",
       "version_major": 2,
       "version_minor": 0
      },
      "text/plain": [
       "Evaluating distortion07 (Severity 3):   0%|          | 0/157 [00:00<?, ?it/s]"
      ]
     },
     "metadata": {},
     "output_type": "display_data"
    },
    {
     "name": "stdout",
     "output_type": "stream",
     "text": [
      "distortion07 (Severity 3)\n"
     ]
    },
    {
     "data": {
      "application/vnd.jupyter.widget-view+json": {
       "model_id": "6d29cfbcd20b436980b5d8310ff04e37",
       "version_major": 2,
       "version_minor": 0
      },
      "text/plain": [
       "Evaluating distortion07 (Severity 4):   0%|          | 0/157 [00:00<?, ?it/s]"
      ]
     },
     "metadata": {},
     "output_type": "display_data"
    },
    {
     "name": "stdout",
     "output_type": "stream",
     "text": [
      "distortion07 (Severity 4)\n"
     ]
    },
    {
     "data": {
      "application/vnd.jupyter.widget-view+json": {
       "model_id": "b3c5ca6794ca4067b7874ad72d5a04b3",
       "version_major": 2,
       "version_minor": 0
      },
      "text/plain": [
       "Evaluating distortion07 (Severity 5):   0%|          | 0/157 [00:00<?, ?it/s]"
      ]
     },
     "metadata": {},
     "output_type": "display_data"
    },
    {
     "name": "stdout",
     "output_type": "stream",
     "text": [
      "distortion07 (Severity 5)\n"
     ]
    },
    {
     "data": {
      "application/vnd.jupyter.widget-view+json": {
       "model_id": "e9dff4bca3084827958c651ad6065e70",
       "version_major": 2,
       "version_minor": 0
      },
      "text/plain": [
       "Evaluating distortion08 (Severity 1):   0%|          | 0/157 [00:00<?, ?it/s]"
      ]
     },
     "metadata": {},
     "output_type": "display_data"
    },
    {
     "name": "stdout",
     "output_type": "stream",
     "text": [
      "distortion08 (Severity 1)\n"
     ]
    },
    {
     "data": {
      "application/vnd.jupyter.widget-view+json": {
       "model_id": "d65d23ba325b448e9e66aefb0e3b181e",
       "version_major": 2,
       "version_minor": 0
      },
      "text/plain": [
       "Evaluating distortion08 (Severity 2):   0%|          | 0/157 [00:00<?, ?it/s]"
      ]
     },
     "metadata": {},
     "output_type": "display_data"
    },
    {
     "name": "stdout",
     "output_type": "stream",
     "text": [
      "distortion08 (Severity 2)\n"
     ]
    },
    {
     "data": {
      "application/vnd.jupyter.widget-view+json": {
       "model_id": "5fa280005d0640cd83adb42f874e697a",
       "version_major": 2,
       "version_minor": 0
      },
      "text/plain": [
       "Evaluating distortion08 (Severity 3):   0%|          | 0/157 [00:00<?, ?it/s]"
      ]
     },
     "metadata": {},
     "output_type": "display_data"
    },
    {
     "name": "stdout",
     "output_type": "stream",
     "text": [
      "distortion08 (Severity 3)\n"
     ]
    },
    {
     "data": {
      "application/vnd.jupyter.widget-view+json": {
       "model_id": "248c8a2fd6614d28a7fffbb753560f61",
       "version_major": 2,
       "version_minor": 0
      },
      "text/plain": [
       "Evaluating distortion08 (Severity 4):   0%|          | 0/157 [00:00<?, ?it/s]"
      ]
     },
     "metadata": {},
     "output_type": "display_data"
    },
    {
     "name": "stdout",
     "output_type": "stream",
     "text": [
      "distortion08 (Severity 4)\n"
     ]
    },
    {
     "data": {
      "application/vnd.jupyter.widget-view+json": {
       "model_id": "ada602eaa7034d30b5e9a2a425e067b4",
       "version_major": 2,
       "version_minor": 0
      },
      "text/plain": [
       "Evaluating distortion08 (Severity 5):   0%|          | 0/157 [00:00<?, ?it/s]"
      ]
     },
     "metadata": {},
     "output_type": "display_data"
    },
    {
     "name": "stdout",
     "output_type": "stream",
     "text": [
      "distortion08 (Severity 5)\n"
     ]
    },
    {
     "data": {
      "application/vnd.jupyter.widget-view+json": {
       "model_id": "06faad5f051040a580a9bdeaef9c61fe",
       "version_major": 2,
       "version_minor": 0
      },
      "text/plain": [
       "Evaluating distortion09 (Severity 1):   0%|          | 0/157 [00:00<?, ?it/s]"
      ]
     },
     "metadata": {},
     "output_type": "display_data"
    },
    {
     "name": "stdout",
     "output_type": "stream",
     "text": [
      "distortion09 (Severity 1)\n"
     ]
    },
    {
     "data": {
      "application/vnd.jupyter.widget-view+json": {
       "model_id": "072c51233994460fb3c71d43e4afd08f",
       "version_major": 2,
       "version_minor": 0
      },
      "text/plain": [
       "Evaluating distortion09 (Severity 2):   0%|          | 0/157 [00:00<?, ?it/s]"
      ]
     },
     "metadata": {},
     "output_type": "display_data"
    },
    {
     "name": "stdout",
     "output_type": "stream",
     "text": [
      "distortion09 (Severity 2)\n"
     ]
    },
    {
     "data": {
      "application/vnd.jupyter.widget-view+json": {
       "model_id": "696502fb586e4b74ac787752c601d117",
       "version_major": 2,
       "version_minor": 0
      },
      "text/plain": [
       "Evaluating distortion09 (Severity 3):   0%|          | 0/157 [00:00<?, ?it/s]"
      ]
     },
     "metadata": {},
     "output_type": "display_data"
    },
    {
     "name": "stdout",
     "output_type": "stream",
     "text": [
      "distortion09 (Severity 3)\n"
     ]
    },
    {
     "data": {
      "application/vnd.jupyter.widget-view+json": {
       "model_id": "5491c11983ce46969eab7ede8806b70f",
       "version_major": 2,
       "version_minor": 0
      },
      "text/plain": [
       "Evaluating distortion09 (Severity 4):   0%|          | 0/157 [00:00<?, ?it/s]"
      ]
     },
     "metadata": {},
     "output_type": "display_data"
    },
    {
     "name": "stdout",
     "output_type": "stream",
     "text": [
      "distortion09 (Severity 4)\n"
     ]
    },
    {
     "data": {
      "application/vnd.jupyter.widget-view+json": {
       "model_id": "a1706016609843c9a0b38bf81c855802",
       "version_major": 2,
       "version_minor": 0
      },
      "text/plain": [
       "Evaluating distortion09 (Severity 5):   0%|          | 0/157 [00:00<?, ?it/s]"
      ]
     },
     "metadata": {},
     "output_type": "display_data"
    },
    {
     "name": "stdout",
     "output_type": "stream",
     "text": [
      "distortion09 (Severity 5)\n"
     ]
    },
    {
     "data": {
      "application/vnd.jupyter.widget-view+json": {
       "model_id": "7bac5eb4316e48dda50dedd4700d53f7",
       "version_major": 2,
       "version_minor": 0
      },
      "text/plain": [
       "Evaluating distortion10 (Severity 1):   0%|          | 0/157 [00:00<?, ?it/s]"
      ]
     },
     "metadata": {},
     "output_type": "display_data"
    },
    {
     "name": "stdout",
     "output_type": "stream",
     "text": [
      "distortion10 (Severity 1)\n"
     ]
    },
    {
     "data": {
      "application/vnd.jupyter.widget-view+json": {
       "model_id": "c2df5487fd144578b521358ca26dd93a",
       "version_major": 2,
       "version_minor": 0
      },
      "text/plain": [
       "Evaluating distortion10 (Severity 2):   0%|          | 0/157 [00:00<?, ?it/s]"
      ]
     },
     "metadata": {},
     "output_type": "display_data"
    },
    {
     "name": "stdout",
     "output_type": "stream",
     "text": [
      "distortion10 (Severity 2)\n"
     ]
    },
    {
     "data": {
      "application/vnd.jupyter.widget-view+json": {
       "model_id": "dfc5c57b12c04b718d000b22e9213642",
       "version_major": 2,
       "version_minor": 0
      },
      "text/plain": [
       "Evaluating distortion10 (Severity 3):   0%|          | 0/157 [00:00<?, ?it/s]"
      ]
     },
     "metadata": {},
     "output_type": "display_data"
    },
    {
     "name": "stdout",
     "output_type": "stream",
     "text": [
      "distortion10 (Severity 3)\n"
     ]
    },
    {
     "data": {
      "application/vnd.jupyter.widget-view+json": {
       "model_id": "65466954c1c246219074ba40835af74c",
       "version_major": 2,
       "version_minor": 0
      },
      "text/plain": [
       "Evaluating distortion10 (Severity 4):   0%|          | 0/157 [00:00<?, ?it/s]"
      ]
     },
     "metadata": {},
     "output_type": "display_data"
    },
    {
     "name": "stdout",
     "output_type": "stream",
     "text": [
      "distortion10 (Severity 4)\n"
     ]
    },
    {
     "data": {
      "application/vnd.jupyter.widget-view+json": {
       "model_id": "22b436740a434152b531cc541d0574b2",
       "version_major": 2,
       "version_minor": 0
      },
      "text/plain": [
       "Evaluating distortion10 (Severity 5):   0%|          | 0/157 [00:00<?, ?it/s]"
      ]
     },
     "metadata": {},
     "output_type": "display_data"
    },
    {
     "name": "stdout",
     "output_type": "stream",
     "text": [
      "distortion10 (Severity 5)\n"
     ]
    },
    {
     "data": {
      "application/vnd.jupyter.widget-view+json": {
       "model_id": "80146f4235954e8a9c6cc62c0526565f",
       "version_major": 2,
       "version_minor": 0
      },
      "text/plain": [
       "Evaluating distortion11 (Severity 1):   0%|          | 0/157 [00:00<?, ?it/s]"
      ]
     },
     "metadata": {},
     "output_type": "display_data"
    },
    {
     "name": "stdout",
     "output_type": "stream",
     "text": [
      "distortion11 (Severity 1)\n"
     ]
    },
    {
     "data": {
      "application/vnd.jupyter.widget-view+json": {
       "model_id": "6ae71db539c443e2b3ae40666f2e43fd",
       "version_major": 2,
       "version_minor": 0
      },
      "text/plain": [
       "Evaluating distortion11 (Severity 2):   0%|          | 0/157 [00:00<?, ?it/s]"
      ]
     },
     "metadata": {},
     "output_type": "display_data"
    },
    {
     "name": "stdout",
     "output_type": "stream",
     "text": [
      "distortion11 (Severity 2)\n"
     ]
    },
    {
     "data": {
      "application/vnd.jupyter.widget-view+json": {
       "model_id": "2153ef3a63c54c648660579c050b7fb6",
       "version_major": 2,
       "version_minor": 0
      },
      "text/plain": [
       "Evaluating distortion11 (Severity 3):   0%|          | 0/157 [00:00<?, ?it/s]"
      ]
     },
     "metadata": {},
     "output_type": "display_data"
    },
    {
     "name": "stdout",
     "output_type": "stream",
     "text": [
      "distortion11 (Severity 3)\n"
     ]
    },
    {
     "data": {
      "application/vnd.jupyter.widget-view+json": {
       "model_id": "a493a76514b948b59eaae98a0c19b021",
       "version_major": 2,
       "version_minor": 0
      },
      "text/plain": [
       "Evaluating distortion11 (Severity 4):   0%|          | 0/157 [00:00<?, ?it/s]"
      ]
     },
     "metadata": {},
     "output_type": "display_data"
    },
    {
     "name": "stdout",
     "output_type": "stream",
     "text": [
      "distortion11 (Severity 4)\n"
     ]
    },
    {
     "data": {
      "application/vnd.jupyter.widget-view+json": {
       "model_id": "899e6bac9d094a00b33ad5a557f6d5b9",
       "version_major": 2,
       "version_minor": 0
      },
      "text/plain": [
       "Evaluating distortion11 (Severity 5):   0%|          | 0/157 [00:00<?, ?it/s]"
      ]
     },
     "metadata": {},
     "output_type": "display_data"
    },
    {
     "name": "stdout",
     "output_type": "stream",
     "text": [
      "distortion11 (Severity 5)\n"
     ]
    },
    {
     "data": {
      "application/vnd.jupyter.widget-view+json": {
       "model_id": "1a64ab10428141d0b4e780a7e6a5d36c",
       "version_major": 2,
       "version_minor": 0
      },
      "text/plain": [
       "Evaluating distortion12 (Severity 1):   0%|          | 0/157 [00:00<?, ?it/s]"
      ]
     },
     "metadata": {},
     "output_type": "display_data"
    },
    {
     "name": "stdout",
     "output_type": "stream",
     "text": [
      "distortion12 (Severity 1)\n"
     ]
    },
    {
     "data": {
      "application/vnd.jupyter.widget-view+json": {
       "model_id": "6535cbed4e994278a2506c25ce00d962",
       "version_major": 2,
       "version_minor": 0
      },
      "text/plain": [
       "Evaluating distortion12 (Severity 2):   0%|          | 0/157 [00:00<?, ?it/s]"
      ]
     },
     "metadata": {},
     "output_type": "display_data"
    },
    {
     "name": "stdout",
     "output_type": "stream",
     "text": [
      "distortion12 (Severity 2)\n"
     ]
    },
    {
     "data": {
      "application/vnd.jupyter.widget-view+json": {
       "model_id": "8cfb7b89d2494c748e2e80dfced4315a",
       "version_major": 2,
       "version_minor": 0
      },
      "text/plain": [
       "Evaluating distortion12 (Severity 3):   0%|          | 0/157 [00:00<?, ?it/s]"
      ]
     },
     "metadata": {},
     "output_type": "display_data"
    },
    {
     "name": "stdout",
     "output_type": "stream",
     "text": [
      "distortion12 (Severity 3)\n"
     ]
    },
    {
     "data": {
      "application/vnd.jupyter.widget-view+json": {
       "model_id": "4921a57866ff49508542478fb99d6c32",
       "version_major": 2,
       "version_minor": 0
      },
      "text/plain": [
       "Evaluating distortion12 (Severity 4):   0%|          | 0/157 [00:00<?, ?it/s]"
      ]
     },
     "metadata": {},
     "output_type": "display_data"
    },
    {
     "name": "stdout",
     "output_type": "stream",
     "text": [
      "distortion12 (Severity 4)\n"
     ]
    },
    {
     "data": {
      "application/vnd.jupyter.widget-view+json": {
       "model_id": "b8b59548717047f99b82e3d5259c37b0",
       "version_major": 2,
       "version_minor": 0
      },
      "text/plain": [
       "Evaluating distortion12 (Severity 5):   0%|          | 0/157 [00:00<?, ?it/s]"
      ]
     },
     "metadata": {},
     "output_type": "display_data"
    },
    {
     "name": "stdout",
     "output_type": "stream",
     "text": [
      "distortion12 (Severity 5)\n"
     ]
    },
    {
     "data": {
      "application/vnd.jupyter.widget-view+json": {
       "model_id": "993445453391441b85398d1935d27855",
       "version_major": 2,
       "version_minor": 0
      },
      "text/plain": [
       "Evaluating distortion13 (Severity 1):   0%|          | 0/157 [00:00<?, ?it/s]"
      ]
     },
     "metadata": {},
     "output_type": "display_data"
    },
    {
     "name": "stdout",
     "output_type": "stream",
     "text": [
      "distortion13 (Severity 1)\n"
     ]
    },
    {
     "data": {
      "application/vnd.jupyter.widget-view+json": {
       "model_id": "1ed915ddf4fe4d4aa3a7ec5cb99f23e0",
       "version_major": 2,
       "version_minor": 0
      },
      "text/plain": [
       "Evaluating distortion13 (Severity 2):   0%|          | 0/157 [00:00<?, ?it/s]"
      ]
     },
     "metadata": {},
     "output_type": "display_data"
    },
    {
     "name": "stdout",
     "output_type": "stream",
     "text": [
      "distortion13 (Severity 2)\n"
     ]
    },
    {
     "data": {
      "application/vnd.jupyter.widget-view+json": {
       "model_id": "3f95ef70b6974265a1771cef42fa7755",
       "version_major": 2,
       "version_minor": 0
      },
      "text/plain": [
       "Evaluating distortion13 (Severity 3):   0%|          | 0/157 [00:00<?, ?it/s]"
      ]
     },
     "metadata": {},
     "output_type": "display_data"
    },
    {
     "name": "stdout",
     "output_type": "stream",
     "text": [
      "distortion13 (Severity 3)\n"
     ]
    },
    {
     "data": {
      "application/vnd.jupyter.widget-view+json": {
       "model_id": "d7ee74e968c042bc8274f1f219c70d69",
       "version_major": 2,
       "version_minor": 0
      },
      "text/plain": [
       "Evaluating distortion13 (Severity 4):   0%|          | 0/157 [00:00<?, ?it/s]"
      ]
     },
     "metadata": {},
     "output_type": "display_data"
    },
    {
     "name": "stdout",
     "output_type": "stream",
     "text": [
      "distortion13 (Severity 4)\n"
     ]
    },
    {
     "data": {
      "application/vnd.jupyter.widget-view+json": {
       "model_id": "f30d6b84485e436aaa6f3fc40a2c840b",
       "version_major": 2,
       "version_minor": 0
      },
      "text/plain": [
       "Evaluating distortion13 (Severity 5):   0%|          | 0/157 [00:00<?, ?it/s]"
      ]
     },
     "metadata": {},
     "output_type": "display_data"
    },
    {
     "name": "stdout",
     "output_type": "stream",
     "text": [
      "distortion13 (Severity 5)\n"
     ]
    },
    {
     "data": {
      "application/vnd.jupyter.widget-view+json": {
       "model_id": "eca6e899a6e64a2fbfdc5c02425fbccc",
       "version_major": 2,
       "version_minor": 0
      },
      "text/plain": [
       "Evaluating distortion14 (Severity 1):   0%|          | 0/157 [00:00<?, ?it/s]"
      ]
     },
     "metadata": {},
     "output_type": "display_data"
    },
    {
     "name": "stdout",
     "output_type": "stream",
     "text": [
      "distortion14 (Severity 1)\n"
     ]
    },
    {
     "data": {
      "application/vnd.jupyter.widget-view+json": {
       "model_id": "92845358085f4814a03c9bef8eacba07",
       "version_major": 2,
       "version_minor": 0
      },
      "text/plain": [
       "Evaluating distortion14 (Severity 2):   0%|          | 0/157 [00:00<?, ?it/s]"
      ]
     },
     "metadata": {},
     "output_type": "display_data"
    },
    {
     "name": "stdout",
     "output_type": "stream",
     "text": [
      "distortion14 (Severity 2)\n"
     ]
    },
    {
     "data": {
      "application/vnd.jupyter.widget-view+json": {
       "model_id": "b5e209f5379b498c884f910da406c86c",
       "version_major": 2,
       "version_minor": 0
      },
      "text/plain": [
       "Evaluating distortion14 (Severity 3):   0%|          | 0/157 [00:00<?, ?it/s]"
      ]
     },
     "metadata": {},
     "output_type": "display_data"
    },
    {
     "name": "stdout",
     "output_type": "stream",
     "text": [
      "distortion14 (Severity 3)\n"
     ]
    },
    {
     "data": {
      "application/vnd.jupyter.widget-view+json": {
       "model_id": "e1de7a83a2974424a99364613465eaf6",
       "version_major": 2,
       "version_minor": 0
      },
      "text/plain": [
       "Evaluating distortion14 (Severity 4):   0%|          | 0/157 [00:00<?, ?it/s]"
      ]
     },
     "metadata": {},
     "output_type": "display_data"
    },
    {
     "name": "stdout",
     "output_type": "stream",
     "text": [
      "distortion14 (Severity 4)\n"
     ]
    },
    {
     "data": {
      "application/vnd.jupyter.widget-view+json": {
       "model_id": "6c1b0ae7c45643fc94f013533040c1a5",
       "version_major": 2,
       "version_minor": 0
      },
      "text/plain": [
       "Evaluating distortion14 (Severity 5):   0%|          | 0/157 [00:00<?, ?it/s]"
      ]
     },
     "metadata": {},
     "output_type": "display_data"
    },
    {
     "name": "stdout",
     "output_type": "stream",
     "text": [
      "distortion14 (Severity 5)\n"
     ]
    },
    {
     "data": {
      "application/vnd.jupyter.widget-view+json": {
       "model_id": "bcb1bc9408fd496e8c8e20a7b215460c",
       "version_major": 2,
       "version_minor": 0
      },
      "text/plain": [
       "Evaluating distortion15 (Severity 1):   0%|          | 0/157 [00:00<?, ?it/s]"
      ]
     },
     "metadata": {},
     "output_type": "display_data"
    },
    {
     "name": "stdout",
     "output_type": "stream",
     "text": [
      "distortion15 (Severity 1)\n"
     ]
    },
    {
     "data": {
      "application/vnd.jupyter.widget-view+json": {
       "model_id": "5d2558bd84ee45a18f917fee6b9af3b0",
       "version_major": 2,
       "version_minor": 0
      },
      "text/plain": [
       "Evaluating distortion15 (Severity 2):   0%|          | 0/157 [00:00<?, ?it/s]"
      ]
     },
     "metadata": {},
     "output_type": "display_data"
    },
    {
     "name": "stdout",
     "output_type": "stream",
     "text": [
      "distortion15 (Severity 2)\n"
     ]
    },
    {
     "data": {
      "application/vnd.jupyter.widget-view+json": {
       "model_id": "77fb610fb8c64afeafc40af04e36e982",
       "version_major": 2,
       "version_minor": 0
      },
      "text/plain": [
       "Evaluating distortion15 (Severity 3):   0%|          | 0/157 [00:00<?, ?it/s]"
      ]
     },
     "metadata": {},
     "output_type": "display_data"
    },
    {
     "name": "stdout",
     "output_type": "stream",
     "text": [
      "distortion15 (Severity 3)\n"
     ]
    },
    {
     "data": {
      "application/vnd.jupyter.widget-view+json": {
       "model_id": "13e6ca1c9ca043e2908c82db3202038f",
       "version_major": 2,
       "version_minor": 0
      },
      "text/plain": [
       "Evaluating distortion15 (Severity 4):   0%|          | 0/157 [00:00<?, ?it/s]"
      ]
     },
     "metadata": {},
     "output_type": "display_data"
    },
    {
     "name": "stdout",
     "output_type": "stream",
     "text": [
      "distortion15 (Severity 4)\n"
     ]
    },
    {
     "data": {
      "application/vnd.jupyter.widget-view+json": {
       "model_id": "bb5dc435dc014cd6b61c9362ac6ddfab",
       "version_major": 2,
       "version_minor": 0
      },
      "text/plain": [
       "Evaluating distortion15 (Severity 5):   0%|          | 0/157 [00:00<?, ?it/s]"
      ]
     },
     "metadata": {},
     "output_type": "display_data"
    },
    {
     "name": "stdout",
     "output_type": "stream",
     "text": [
      "distortion15 (Severity 5)\n"
     ]
    },
    {
     "data": {
      "application/vnd.jupyter.widget-view+json": {
       "model_id": "00ef25aa7249456fafbf88145f7f8d9c",
       "version_major": 2,
       "version_minor": 0
      },
      "text/plain": [
       "Evaluating distortion16 (Severity 1):   0%|          | 0/157 [00:00<?, ?it/s]"
      ]
     },
     "metadata": {},
     "output_type": "display_data"
    },
    {
     "name": "stdout",
     "output_type": "stream",
     "text": [
      "distortion16 (Severity 1)\n"
     ]
    },
    {
     "data": {
      "application/vnd.jupyter.widget-view+json": {
       "model_id": "de982938d92b4a82b9d5746955ddfc4c",
       "version_major": 2,
       "version_minor": 0
      },
      "text/plain": [
       "Evaluating distortion16 (Severity 2):   0%|          | 0/157 [00:00<?, ?it/s]"
      ]
     },
     "metadata": {},
     "output_type": "display_data"
    },
    {
     "name": "stdout",
     "output_type": "stream",
     "text": [
      "distortion16 (Severity 2)\n"
     ]
    },
    {
     "data": {
      "application/vnd.jupyter.widget-view+json": {
       "model_id": "95b788b9dbef44eb9662a49eec8ceeff",
       "version_major": 2,
       "version_minor": 0
      },
      "text/plain": [
       "Evaluating distortion16 (Severity 3):   0%|          | 0/157 [00:00<?, ?it/s]"
      ]
     },
     "metadata": {},
     "output_type": "display_data"
    },
    {
     "name": "stdout",
     "output_type": "stream",
     "text": [
      "distortion16 (Severity 3)\n"
     ]
    },
    {
     "data": {
      "application/vnd.jupyter.widget-view+json": {
       "model_id": "7e445f4533c44f7cb39155e825952ab0",
       "version_major": 2,
       "version_minor": 0
      },
      "text/plain": [
       "Evaluating distortion16 (Severity 4):   0%|          | 0/157 [00:00<?, ?it/s]"
      ]
     },
     "metadata": {},
     "output_type": "display_data"
    },
    {
     "name": "stdout",
     "output_type": "stream",
     "text": [
      "distortion16 (Severity 4)\n"
     ]
    },
    {
     "data": {
      "application/vnd.jupyter.widget-view+json": {
       "model_id": "4099afd6d4b14153ba7e3a48ba85a23a",
       "version_major": 2,
       "version_minor": 0
      },
      "text/plain": [
       "Evaluating distortion16 (Severity 5):   0%|          | 0/157 [00:00<?, ?it/s]"
      ]
     },
     "metadata": {},
     "output_type": "display_data"
    },
    {
     "name": "stdout",
     "output_type": "stream",
     "text": [
      "distortion16 (Severity 5)\n"
     ]
    },
    {
     "data": {
      "application/vnd.jupyter.widget-view+json": {
       "model_id": "11f712cca33840f9a379d52273c2296a",
       "version_major": 2,
       "version_minor": 0
      },
      "text/plain": [
       "Evaluating distortion17 (Severity 1):   0%|          | 0/157 [00:00<?, ?it/s]"
      ]
     },
     "metadata": {},
     "output_type": "display_data"
    },
    {
     "name": "stdout",
     "output_type": "stream",
     "text": [
      "distortion17 (Severity 1)\n"
     ]
    },
    {
     "data": {
      "application/vnd.jupyter.widget-view+json": {
       "model_id": "02e94ee1bd434cf890999384f0974b1d",
       "version_major": 2,
       "version_minor": 0
      },
      "text/plain": [
       "Evaluating distortion17 (Severity 2):   0%|          | 0/157 [00:00<?, ?it/s]"
      ]
     },
     "metadata": {},
     "output_type": "display_data"
    },
    {
     "name": "stdout",
     "output_type": "stream",
     "text": [
      "distortion17 (Severity 2)\n"
     ]
    },
    {
     "data": {
      "application/vnd.jupyter.widget-view+json": {
       "model_id": "336de146cac343e2aa1b406e771c43d7",
       "version_major": 2,
       "version_minor": 0
      },
      "text/plain": [
       "Evaluating distortion17 (Severity 3):   0%|          | 0/157 [00:00<?, ?it/s]"
      ]
     },
     "metadata": {},
     "output_type": "display_data"
    },
    {
     "name": "stdout",
     "output_type": "stream",
     "text": [
      "distortion17 (Severity 3)\n"
     ]
    },
    {
     "data": {
      "application/vnd.jupyter.widget-view+json": {
       "model_id": "781ac029d1054d63ad0470f99bc503a2",
       "version_major": 2,
       "version_minor": 0
      },
      "text/plain": [
       "Evaluating distortion17 (Severity 4):   0%|          | 0/157 [00:00<?, ?it/s]"
      ]
     },
     "metadata": {},
     "output_type": "display_data"
    },
    {
     "name": "stdout",
     "output_type": "stream",
     "text": [
      "distortion17 (Severity 4)\n"
     ]
    },
    {
     "data": {
      "application/vnd.jupyter.widget-view+json": {
       "model_id": "bfc948e6eb6c4e4f8d358cbff5414d59",
       "version_major": 2,
       "version_minor": 0
      },
      "text/plain": [
       "Evaluating distortion17 (Severity 5):   0%|          | 0/157 [00:00<?, ?it/s]"
      ]
     },
     "metadata": {},
     "output_type": "display_data"
    },
    {
     "name": "stdout",
     "output_type": "stream",
     "text": [
      "distortion17 (Severity 5)\n"
     ]
    },
    {
     "data": {
      "application/vnd.jupyter.widget-view+json": {
       "model_id": "cec403d5aa6c4474a317bf10ae068258",
       "version_major": 2,
       "version_minor": 0
      },
      "text/plain": [
       "Evaluating distortion18 (Severity 1):   0%|          | 0/157 [00:00<?, ?it/s]"
      ]
     },
     "metadata": {},
     "output_type": "display_data"
    },
    {
     "name": "stdout",
     "output_type": "stream",
     "text": [
      "distortion18 (Severity 1)\n"
     ]
    },
    {
     "data": {
      "application/vnd.jupyter.widget-view+json": {
       "model_id": "9f1075edae584b25b569bf1642781c66",
       "version_major": 2,
       "version_minor": 0
      },
      "text/plain": [
       "Evaluating distortion18 (Severity 2):   0%|          | 0/157 [00:00<?, ?it/s]"
      ]
     },
     "metadata": {},
     "output_type": "display_data"
    },
    {
     "name": "stdout",
     "output_type": "stream",
     "text": [
      "distortion18 (Severity 2)\n"
     ]
    },
    {
     "data": {
      "application/vnd.jupyter.widget-view+json": {
       "model_id": "93bd7bfe84324e8b8e33a7f0c2540e6b",
       "version_major": 2,
       "version_minor": 0
      },
      "text/plain": [
       "Evaluating distortion18 (Severity 3):   0%|          | 0/157 [00:00<?, ?it/s]"
      ]
     },
     "metadata": {},
     "output_type": "display_data"
    },
    {
     "name": "stdout",
     "output_type": "stream",
     "text": [
      "distortion18 (Severity 3)\n"
     ]
    },
    {
     "data": {
      "application/vnd.jupyter.widget-view+json": {
       "model_id": "5056eb21f8a44850ac558c5648386bc5",
       "version_major": 2,
       "version_minor": 0
      },
      "text/plain": [
       "Evaluating distortion18 (Severity 4):   0%|          | 0/157 [00:00<?, ?it/s]"
      ]
     },
     "metadata": {},
     "output_type": "display_data"
    },
    {
     "name": "stdout",
     "output_type": "stream",
     "text": [
      "distortion18 (Severity 4)\n"
     ]
    },
    {
     "data": {
      "application/vnd.jupyter.widget-view+json": {
       "model_id": "2c1d51b05e124c3f8e9c71d8ac798286",
       "version_major": 2,
       "version_minor": 0
      },
      "text/plain": [
       "Evaluating distortion18 (Severity 5):   0%|          | 0/157 [00:00<?, ?it/s]"
      ]
     },
     "metadata": {},
     "output_type": "display_data"
    },
    {
     "name": "stdout",
     "output_type": "stream",
     "text": [
      "distortion18 (Severity 5)\n",
      "submission_ood_part2densenet121.csv created successfully.\n"
     ]
    }
   ],
   "source": [
    "import torch\n",
    "import torch.nn as nn\n",
    "import torch.optim as optim\n",
    "import torchvision\n",
    "import torchvision.transforms as transforms\n",
    "from torchvision import models\n",
    "from tqdm.auto import tqdm\n",
    "import wandb\n",
    "import numpy as np\n",
    "import random\n",
    "import shutil\n",
    "\n",
    "# -----------------------------\n",
    "# Reproducibility\n",
    "# -----------------------------\n",
    "def set_seed(seed):\n",
    "    torch.manual_seed(seed)\n",
    "    np.random.seed(seed)\n",
    "    random.seed(seed)\n",
    "    if torch.cuda.is_available():\n",
    "        torch.cuda.manual_seed_all(seed)\n",
    "\n",
    "# -----------------------------\n",
    "# Training Function\n",
    "# -----------------------------\n",
    "def train(epoch, model, trainloader, optimizer, criterion, CONFIG):\n",
    "    device = CONFIG[\"device\"]\n",
    "    model.train()\n",
    "    running_loss, correct, total = 0.0, 0, 0\n",
    "    progress = tqdm(trainloader, desc=f\"Epoch {epoch+1}/{CONFIG['epochs']} [Train]\", leave=False)\n",
    "\n",
    "    for inputs, labels in progress:\n",
    "        inputs, labels = inputs.to(device), labels.to(device)\n",
    "\n",
    "        optimizer.zero_grad()\n",
    "        outputs = model(inputs)\n",
    "        loss = criterion(outputs, labels)\n",
    "        loss.backward()\n",
    "        optimizer.step()\n",
    "\n",
    "        running_loss += loss.item()\n",
    "        _, predicted = outputs.max(1)\n",
    "        total += labels.size(0)\n",
    "        correct += predicted.eq(labels).sum().item()\n",
    "\n",
    "        progress.set_postfix({\n",
    "            \"loss\": running_loss / (total / CONFIG[\"batch_size\"]),\n",
    "            \"acc\": 100. * correct / total\n",
    "        })\n",
    "\n",
    "    return running_loss / len(trainloader), 100. * correct / total\n",
    "\n",
    "# -----------------------------\n",
    "# Validation Function\n",
    "# -----------------------------\n",
    "def validate(model, valloader, criterion, CONFIG):\n",
    "    device = CONFIG[\"device\"]\n",
    "    model.eval()\n",
    "    running_loss, correct, total = 0.0, 0, 0\n",
    "\n",
    "    with torch.no_grad():\n",
    "        progress = tqdm(valloader, desc=\"[Validate]\", leave=False)\n",
    "        for inputs, labels in progress:\n",
    "            inputs, labels = inputs.to(device), labels.to(device)\n",
    "            outputs = model(inputs)\n",
    "            loss = criterion(outputs, labels)\n",
    "\n",
    "            running_loss += loss.item()\n",
    "            _, predicted = outputs.max(1)\n",
    "            total += labels.size(0)\n",
    "            correct += predicted.eq(labels).sum().item()\n",
    "\n",
    "            progress.set_postfix({\n",
    "                \"loss\": running_loss / (total / CONFIG[\"batch_size\"]),\n",
    "                \"acc\": 100. * correct / total\n",
    "            })\n",
    "        \n",
    "    return running_loss / len(valloader), 100. * correct / total\n",
    "\n",
    "# -----------------------------\n",
    "# Main Function\n",
    "# -----------------------------\n",
    "def main():\n",
    "    CONFIG = {\n",
    "        \"model\": \"DenseNet121_Efficient\",\n",
    "        \"batch_size\": 64,\n",
    "        \"learning_rate\": 0.001,\n",
    "        \"epochs\": 30,\n",
    "        \"num_workers\": 0,\n",
    "        \"device\": \"cuda\" if torch.cuda.is_available() else \"cpu\",\n",
    "        \"data_dir\": \"./data\",\n",
    "        \"ood_dir\": \"./data/ood-test\",\n",
    "        \"wandb_project\": \"sp25-ds542-challenge\",\n",
    "        \"seed\": 42,\n",
    "    }\n",
    "\n",
    "    set_seed(CONFIG[\"seed\"])\n",
    "\n",
    "    # -----------------------------\n",
    "    # Data Transforms (Augmentation)\n",
    "    # -----------------------------\n",
    "    transform_train = transforms.Compose([\n",
    "        transforms.RandomCrop(32, padding=4),\n",
    "        transforms.RandomHorizontalFlip(),\n",
    "        transforms.ColorJitter(brightness=0.2, contrast=0.2, saturation=0.2),\n",
    "        transforms.RandomRotation(10),\n",
    "        transforms.ToTensor(),\n",
    "        transforms.Normalize((0.5, 0.5, 0.5), (0.5, 0.5, 0.5)),\n",
    "    ])\n",
    "    transform_test = transforms.Compose([\n",
    "        transforms.ToTensor(),\n",
    "        transforms.Normalize((0.5, 0.5, 0.5), (0.5, 0.5, 0.5)),\n",
    "    ])\n",
    "\n",
    "    # -----------------------------\n",
    "    # Load CIFAR-100 Dataset\n",
    "    # -----------------------------\n",
    "    trainset_full = torchvision.datasets.CIFAR100(root=CONFIG[\"data_dir\"], train=True, download=True, transform=transform_train)\n",
    "    train_size = int(0.8 * len(trainset_full))\n",
    "    val_size = len(trainset_full) - train_size\n",
    "    trainset, valset = torch.utils.data.random_split(trainset_full, [train_size, val_size])\n",
    "\n",
    "    trainloader = torch.utils.data.DataLoader(trainset, batch_size=CONFIG[\"batch_size\"], shuffle=True, num_workers=CONFIG[\"num_workers\"])\n",
    "    valloader = torch.utils.data.DataLoader(valset, batch_size=CONFIG[\"batch_size\"], shuffle=False, num_workers=CONFIG[\"num_workers\"])\n",
    "    testset = torchvision.datasets.CIFAR100(root=CONFIG[\"data_dir\"], train=False, download=True, transform=transform_test)\n",
    "    testloader = torch.utils.data.DataLoader(testset, batch_size=CONFIG[\"batch_size\"], shuffle=False, num_workers=CONFIG[\"num_workers\"])\n",
    "\n",
    "    # -----------------------------\n",
    "    # Define Model: DenseNet121 \n",
    "    # -----------------------------\n",
    "    model = models.densenet121(weights=None)\n",
    "    model.classifier = nn.Linear(model.classifier.in_features, 100)\n",
    "    model = model.to(CONFIG[\"device\"])\n",
    "\n",
    "    # -----------------------------\n",
    "    # Loss, Optimizer, Scheduler\n",
    "    # -----------------------------\n",
    "    criterion = nn.CrossEntropyLoss(label_smoothing=0.1)\n",
    "    optimizer = optim.AdamW(model.parameters(), lr=CONFIG[\"learning_rate\"], weight_decay=1e-4)\n",
    "    scheduler = optim.lr_scheduler.CosineAnnealingLR(optimizer, T_max=CONFIG[\"epochs\"])\n",
    "\n",
    "    # -----------------------------\n",
    "    # W&B Setup\n",
    "    # -----------------------------\n",
    "    wandb.init(project=CONFIG[\"wandb_project\"], config=CONFIG, name=\"DenseNet121\")\n",
    "    wandb.watch(model)\n",
    "\n",
    "    best_val_acc = 0.0\n",
    "    for epoch in range(CONFIG[\"epochs\"]):\n",
    "        train_loss, train_acc = train(epoch, model, trainloader, optimizer, criterion, CONFIG)\n",
    "        val_loss, val_acc = validate(model, valloader, criterion, CONFIG)\n",
    "        scheduler.step()\n",
    "\n",
    "        wandb.log({\n",
    "            \"epoch\": epoch+1,\n",
    "            \"train_loss\": train_loss,\n",
    "            \"train_acc\": train_acc,\n",
    "            \"val_loss\": val_loss,\n",
    "            \"val_acc\": val_acc,\n",
    "            \"lr\": optimizer.param_groups[0][\"lr\"]\n",
    "        })\n",
    "\n",
    "        if val_acc > best_val_acc:\n",
    "            best_val_acc = val_acc\n",
    "            torch.save(model.state_dict(), \"best_model_part2densenet121.pth\")\n",
    "            wandb.save(\"best_model_part2densenet121.pth\")\n",
    "\n",
    "    wandb.finish()\n",
    "\n",
    "    # -----------------------------\n",
    "    # Evaluation & Submission\n",
    "    # -----------------------------\n",
    "    import eval_cifar100\n",
    "    import eval_ood\n",
    "\n",
    "    shutil.copy(\"best_model_part2densenet121.pth\", \"best_model.pth\")\n",
    "\n",
    "    predictions, clean_accuracy = eval_cifar100.evaluate_cifar100_test(model, testloader, CONFIG[\"device\"])\n",
    "    print(f\"Clean CIFAR-100 Test Accuracy: {clean_accuracy:.2f}%\")\n",
    "\n",
    "    all_predictions = eval_ood.evaluate_ood_test(model, CONFIG)\n",
    "    submission_df_ood = eval_ood.create_ood_df(all_predictions)\n",
    "    submission_df_ood.to_csv(\"submission_ood_part2densenet121.csv\", index=False)\n",
    "    print(\"submission_ood_part2densenet121.csv created successfully.\")\n",
    "\n",
    "if __name__ == '__main__':\n",
    "    main()\n"
   ]
  },
  {
   "cell_type": "code",
   "execution_count": null,
   "id": "1608e0f4-1de4-41d4-8cd7-cd32b03fdd03",
   "metadata": {},
   "outputs": [],
   "source": []
  }
 ],
 "metadata": {
  "kernelspec": {
   "display_name": "Python 3 (ipykernel)",
   "language": "python",
   "name": "python3"
  },
  "language_info": {
   "codemirror_mode": {
    "name": "ipython",
    "version": 3
   },
   "file_extension": ".py",
   "mimetype": "text/x-python",
   "name": "python",
   "nbconvert_exporter": "python",
   "pygments_lexer": "ipython3",
   "version": "3.10.12"
  }
 },
 "nbformat": 4,
 "nbformat_minor": 5
}
