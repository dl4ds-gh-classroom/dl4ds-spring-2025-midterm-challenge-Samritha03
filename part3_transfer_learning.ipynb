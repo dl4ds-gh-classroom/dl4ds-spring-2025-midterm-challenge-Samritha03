{
 "cells": [
  {
   "cell_type": "markdown",
   "id": "aaaf7c85-4e2c-4797-ad6b-861a3867a7c1",
   "metadata": {},
   "source": [
    "# DS542 Midterm Part-3"
   ]
  },
  {
   "cell_type": "markdown",
   "id": "30178ebf-76eb-4788-aed3-082cf825a31d",
   "metadata": {},
   "source": [
    "### Transfer Learning – DenseNet121 (Pretrained)"
   ]
  },
  {
   "cell_type": "markdown",
   "id": "bb2aaa09-e638-4c71-a4f6-558b23dc2d62",
   "metadata": {},
   "source": [
    "#### 10 Epochs"
   ]
  },
  {
   "cell_type": "code",
   "execution_count": 1,
   "id": "077dc540-d539-48b5-9955-d06e5f7b87e5",
   "metadata": {},
   "outputs": [
    {
     "name": "stderr",
     "output_type": "stream",
     "text": [
      "Failed to detect the name of this notebook, you can set it manually with the WANDB_NOTEBOOK_NAME environment variable to enable code saving.\n",
      "\u001b[34m\u001b[1mwandb\u001b[0m: Using wandb-core as the SDK backend.  Please refer to https://wandb.me/wandb-core for more information.\n",
      "\u001b[34m\u001b[1mwandb\u001b[0m: Currently logged in as: \u001b[33msamritha\u001b[0m (\u001b[33msamritha-boston-university\u001b[0m) to \u001b[32mhttps://api.wandb.ai\u001b[0m. Use \u001b[1m`wandb login --relogin`\u001b[0m to force relogin\n"
     ]
    },
    {
     "data": {
      "text/html": [
       "Tracking run with wandb version 0.19.8"
      ],
      "text/plain": [
       "<IPython.core.display.HTML object>"
      ]
     },
     "metadata": {},
     "output_type": "display_data"
    },
    {
     "data": {
      "text/html": [
       "Run data is saved locally in <code>/usr4/dl4ds/samritha/wandb/run-20250329_203125-15uj6bir</code>"
      ],
      "text/plain": [
       "<IPython.core.display.HTML object>"
      ]
     },
     "metadata": {},
     "output_type": "display_data"
    },
    {
     "data": {
      "text/html": [
       "Syncing run <strong><a href='https://wandb.ai/samritha-boston-university/sp25-ds542-challenge/runs/15uj6bir' target=\"_blank\">DenseNet121 Ep10</a></strong> to <a href='https://wandb.ai/samritha-boston-university/sp25-ds542-challenge' target=\"_blank\">Weights & Biases</a> (<a href='https://wandb.me/developer-guide' target=\"_blank\">docs</a>)<br>"
      ],
      "text/plain": [
       "<IPython.core.display.HTML object>"
      ]
     },
     "metadata": {},
     "output_type": "display_data"
    },
    {
     "data": {
      "text/html": [
       " View project at <a href='https://wandb.ai/samritha-boston-university/sp25-ds542-challenge' target=\"_blank\">https://wandb.ai/samritha-boston-university/sp25-ds542-challenge</a>"
      ],
      "text/plain": [
       "<IPython.core.display.HTML object>"
      ]
     },
     "metadata": {},
     "output_type": "display_data"
    },
    {
     "data": {
      "text/html": [
       " View run at <a href='https://wandb.ai/samritha-boston-university/sp25-ds542-challenge/runs/15uj6bir' target=\"_blank\">https://wandb.ai/samritha-boston-university/sp25-ds542-challenge/runs/15uj6bir</a>"
      ],
      "text/plain": [
       "<IPython.core.display.HTML object>"
      ]
     },
     "metadata": {},
     "output_type": "display_data"
    },
    {
     "data": {
      "application/vnd.jupyter.widget-view+json": {
       "model_id": "70fbbca5ba154b358e3431716e5174e9",
       "version_major": 2,
       "version_minor": 0
      },
      "text/plain": [
       "Epoch 1/10 [Train]:   0%|          | 0/625 [00:00<?, ?it/s]"
      ]
     },
     "metadata": {},
     "output_type": "display_data"
    },
    {
     "data": {
      "application/vnd.jupyter.widget-view+json": {
       "model_id": "3d7d2e61b17c477a992e95b10a99045d",
       "version_major": 2,
       "version_minor": 0
      },
      "text/plain": [
       "[Validate]:   0%|          | 0/157 [00:00<?, ?it/s]"
      ]
     },
     "metadata": {},
     "output_type": "display_data"
    },
    {
     "data": {
      "application/vnd.jupyter.widget-view+json": {
       "model_id": "c7a9b0c8318844cda5ab95459b83a48b",
       "version_major": 2,
       "version_minor": 0
      },
      "text/plain": [
       "Epoch 2/10 [Train]:   0%|          | 0/625 [00:00<?, ?it/s]"
      ]
     },
     "metadata": {},
     "output_type": "display_data"
    },
    {
     "data": {
      "application/vnd.jupyter.widget-view+json": {
       "model_id": "e8b42e8b8cef4a0bbc8d49dead05e308",
       "version_major": 2,
       "version_minor": 0
      },
      "text/plain": [
       "[Validate]:   0%|          | 0/157 [00:00<?, ?it/s]"
      ]
     },
     "metadata": {},
     "output_type": "display_data"
    },
    {
     "data": {
      "application/vnd.jupyter.widget-view+json": {
       "model_id": "a7e0bcef7cab4a17a3e17b29a074c82f",
       "version_major": 2,
       "version_minor": 0
      },
      "text/plain": [
       "Epoch 3/10 [Train]:   0%|          | 0/625 [00:00<?, ?it/s]"
      ]
     },
     "metadata": {},
     "output_type": "display_data"
    },
    {
     "data": {
      "application/vnd.jupyter.widget-view+json": {
       "model_id": "519f5c06399f4d97ba4323c22b31b403",
       "version_major": 2,
       "version_minor": 0
      },
      "text/plain": [
       "[Validate]:   0%|          | 0/157 [00:00<?, ?it/s]"
      ]
     },
     "metadata": {},
     "output_type": "display_data"
    },
    {
     "data": {
      "application/vnd.jupyter.widget-view+json": {
       "model_id": "544393da9ff5419f9d3fbf92cd215ad1",
       "version_major": 2,
       "version_minor": 0
      },
      "text/plain": [
       "Epoch 4/10 [Train]:   0%|          | 0/625 [00:00<?, ?it/s]"
      ]
     },
     "metadata": {},
     "output_type": "display_data"
    },
    {
     "data": {
      "application/vnd.jupyter.widget-view+json": {
       "model_id": "e558b29d025e4c85ad68a42534574a75",
       "version_major": 2,
       "version_minor": 0
      },
      "text/plain": [
       "[Validate]:   0%|          | 0/157 [00:00<?, ?it/s]"
      ]
     },
     "metadata": {},
     "output_type": "display_data"
    },
    {
     "data": {
      "application/vnd.jupyter.widget-view+json": {
       "model_id": "fe66b80a49564179aaf73151c39f5c58",
       "version_major": 2,
       "version_minor": 0
      },
      "text/plain": [
       "Epoch 5/10 [Train]:   0%|          | 0/625 [00:00<?, ?it/s]"
      ]
     },
     "metadata": {},
     "output_type": "display_data"
    },
    {
     "data": {
      "application/vnd.jupyter.widget-view+json": {
       "model_id": "e7b58b1e0dc64ebb893fd44d4f700c72",
       "version_major": 2,
       "version_minor": 0
      },
      "text/plain": [
       "[Validate]:   0%|          | 0/157 [00:00<?, ?it/s]"
      ]
     },
     "metadata": {},
     "output_type": "display_data"
    },
    {
     "data": {
      "application/vnd.jupyter.widget-view+json": {
       "model_id": "2483c0dc0a3d4645b6bb7e367c7fd22e",
       "version_major": 2,
       "version_minor": 0
      },
      "text/plain": [
       "Epoch 6/10 [Train]:   0%|          | 0/625 [00:00<?, ?it/s]"
      ]
     },
     "metadata": {},
     "output_type": "display_data"
    },
    {
     "data": {
      "application/vnd.jupyter.widget-view+json": {
       "model_id": "3d0eb01e34314c3ca44a0b41a497761d",
       "version_major": 2,
       "version_minor": 0
      },
      "text/plain": [
       "[Validate]:   0%|          | 0/157 [00:00<?, ?it/s]"
      ]
     },
     "metadata": {},
     "output_type": "display_data"
    },
    {
     "data": {
      "application/vnd.jupyter.widget-view+json": {
       "model_id": "d1da3624342a4114816bb6fa0c8129eb",
       "version_major": 2,
       "version_minor": 0
      },
      "text/plain": [
       "Epoch 7/10 [Train]:   0%|          | 0/625 [00:00<?, ?it/s]"
      ]
     },
     "metadata": {},
     "output_type": "display_data"
    },
    {
     "data": {
      "application/vnd.jupyter.widget-view+json": {
       "model_id": "628b5d1fb08c46af972dd6257f87d834",
       "version_major": 2,
       "version_minor": 0
      },
      "text/plain": [
       "[Validate]:   0%|          | 0/157 [00:00<?, ?it/s]"
      ]
     },
     "metadata": {},
     "output_type": "display_data"
    },
    {
     "data": {
      "application/vnd.jupyter.widget-view+json": {
       "model_id": "0676494c94454889ba44ea0f4cd67183",
       "version_major": 2,
       "version_minor": 0
      },
      "text/plain": [
       "Epoch 8/10 [Train]:   0%|          | 0/625 [00:00<?, ?it/s]"
      ]
     },
     "metadata": {},
     "output_type": "display_data"
    },
    {
     "data": {
      "application/vnd.jupyter.widget-view+json": {
       "model_id": "53b05795b1244a46aa3ce61c38d764cc",
       "version_major": 2,
       "version_minor": 0
      },
      "text/plain": [
       "[Validate]:   0%|          | 0/157 [00:00<?, ?it/s]"
      ]
     },
     "metadata": {},
     "output_type": "display_data"
    },
    {
     "data": {
      "application/vnd.jupyter.widget-view+json": {
       "model_id": "808b9c37b370408cb6045b277acdd3d5",
       "version_major": 2,
       "version_minor": 0
      },
      "text/plain": [
       "Epoch 9/10 [Train]:   0%|          | 0/625 [00:00<?, ?it/s]"
      ]
     },
     "metadata": {},
     "output_type": "display_data"
    },
    {
     "data": {
      "application/vnd.jupyter.widget-view+json": {
       "model_id": "9753ab4622cb47188def729e45f755c7",
       "version_major": 2,
       "version_minor": 0
      },
      "text/plain": [
       "[Validate]:   0%|          | 0/157 [00:00<?, ?it/s]"
      ]
     },
     "metadata": {},
     "output_type": "display_data"
    },
    {
     "data": {
      "application/vnd.jupyter.widget-view+json": {
       "model_id": "0c79a1d06ede4f76a9a1063e19a37530",
       "version_major": 2,
       "version_minor": 0
      },
      "text/plain": [
       "Epoch 10/10 [Train]:   0%|          | 0/625 [00:00<?, ?it/s]"
      ]
     },
     "metadata": {},
     "output_type": "display_data"
    },
    {
     "data": {
      "application/vnd.jupyter.widget-view+json": {
       "model_id": "c88635b3370742d3aa4bafdda766d197",
       "version_major": 2,
       "version_minor": 0
      },
      "text/plain": [
       "[Validate]:   0%|          | 0/157 [00:00<?, ?it/s]"
      ]
     },
     "metadata": {},
     "output_type": "display_data"
    },
    {
     "data": {
      "text/html": [],
      "text/plain": [
       "<IPython.core.display.HTML object>"
      ]
     },
     "metadata": {},
     "output_type": "display_data"
    },
    {
     "data": {
      "text/html": [
       "<br>    <style><br>        .wandb-row {<br>            display: flex;<br>            flex-direction: row;<br>            flex-wrap: wrap;<br>            justify-content: flex-start;<br>            width: 100%;<br>        }<br>        .wandb-col {<br>            display: flex;<br>            flex-direction: column;<br>            flex-basis: 100%;<br>            flex: 1;<br>            padding: 10px;<br>        }<br>    </style><br><div class=\"wandb-row\"><div class=\"wandb-col\"><h3>Run history:</h3><br/><table class=\"wandb\"><tr><td>epoch</td><td>▁▂▃▃▄▅▆▆▇█</td></tr><tr><td>lr</td><td>█▇▇▆▅▃▂▂▁▁</td></tr><tr><td>train_acc</td><td>▁▃▄▅▅▆▆▇██</td></tr><tr><td>train_loss</td><td>█▆▄▄▃▂▂▂▁▁</td></tr><tr><td>val_acc</td><td>▁▄▆▆▇▆▇███</td></tr><tr><td>val_loss</td><td>█▄▃▃▂▃▂▁▁▁</td></tr></table><br/></div><div class=\"wandb-col\"><h3>Run summary:</h3><br/><table class=\"wandb\"><tr><td>epoch</td><td>10</td></tr><tr><td>lr</td><td>0</td></tr><tr><td>train_acc</td><td>46.97</td></tr><tr><td>train_loss</td><td>2.47943</td></tr><tr><td>val_acc</td><td>45.58</td></tr><tr><td>val_loss</td><td>2.49784</td></tr></table><br/></div></div>"
      ],
      "text/plain": [
       "<IPython.core.display.HTML object>"
      ]
     },
     "metadata": {},
     "output_type": "display_data"
    },
    {
     "data": {
      "text/html": [
       " View run <strong style=\"color:#cdcd00\">DenseNet121 Ep10</strong> at: <a href='https://wandb.ai/samritha-boston-university/sp25-ds542-challenge/runs/15uj6bir' target=\"_blank\">https://wandb.ai/samritha-boston-university/sp25-ds542-challenge/runs/15uj6bir</a><br> View project at: <a href='https://wandb.ai/samritha-boston-university/sp25-ds542-challenge' target=\"_blank\">https://wandb.ai/samritha-boston-university/sp25-ds542-challenge</a><br>Synced 5 W&B file(s), 0 media file(s), 0 artifact file(s) and 1 other file(s)"
      ],
      "text/plain": [
       "<IPython.core.display.HTML object>"
      ]
     },
     "metadata": {},
     "output_type": "display_data"
    },
    {
     "data": {
      "text/html": [
       "Find logs at: <code>./wandb/run-20250329_203125-15uj6bir/logs</code>"
      ],
      "text/plain": [
       "<IPython.core.display.HTML object>"
      ]
     },
     "metadata": {},
     "output_type": "display_data"
    },
    {
     "data": {
      "application/vnd.jupyter.widget-view+json": {
       "model_id": "f7af6aed5a334d8d881280ac998aae46",
       "version_major": 2,
       "version_minor": 0
      },
      "text/plain": [
       "Evaluating on Clean Test Set:   0%|          | 0/157 [00:00<?, ?it/s]"
      ]
     },
     "metadata": {},
     "output_type": "display_data"
    },
    {
     "name": "stdout",
     "output_type": "stream",
     "text": [
      "Clean CIFAR-100 Test Accuracy: 49.44%\n",
      "All files are already downloaded.\n"
     ]
    },
    {
     "data": {
      "application/vnd.jupyter.widget-view+json": {
       "model_id": "28b833641e8d40108362960cfc4bc717",
       "version_major": 2,
       "version_minor": 0
      },
      "text/plain": [
       "Evaluating distortion00 (Severity 1):   0%|          | 0/157 [00:00<?, ?it/s]"
      ]
     },
     "metadata": {},
     "output_type": "display_data"
    },
    {
     "name": "stdout",
     "output_type": "stream",
     "text": [
      "distortion00 (Severity 1)\n"
     ]
    },
    {
     "data": {
      "application/vnd.jupyter.widget-view+json": {
       "model_id": "703f92059934496e8f47af7faa612176",
       "version_major": 2,
       "version_minor": 0
      },
      "text/plain": [
       "Evaluating distortion00 (Severity 2):   0%|          | 0/157 [00:00<?, ?it/s]"
      ]
     },
     "metadata": {},
     "output_type": "display_data"
    },
    {
     "name": "stdout",
     "output_type": "stream",
     "text": [
      "distortion00 (Severity 2)\n"
     ]
    },
    {
     "data": {
      "application/vnd.jupyter.widget-view+json": {
       "model_id": "4ad0cd6ace144e7b8218aa3e9dc7c06b",
       "version_major": 2,
       "version_minor": 0
      },
      "text/plain": [
       "Evaluating distortion00 (Severity 3):   0%|          | 0/157 [00:00<?, ?it/s]"
      ]
     },
     "metadata": {},
     "output_type": "display_data"
    },
    {
     "name": "stdout",
     "output_type": "stream",
     "text": [
      "distortion00 (Severity 3)\n"
     ]
    },
    {
     "data": {
      "application/vnd.jupyter.widget-view+json": {
       "model_id": "5430a05cbeb340b4931ff5c8aaea795e",
       "version_major": 2,
       "version_minor": 0
      },
      "text/plain": [
       "Evaluating distortion00 (Severity 4):   0%|          | 0/157 [00:00<?, ?it/s]"
      ]
     },
     "metadata": {},
     "output_type": "display_data"
    },
    {
     "name": "stdout",
     "output_type": "stream",
     "text": [
      "distortion00 (Severity 4)\n"
     ]
    },
    {
     "data": {
      "application/vnd.jupyter.widget-view+json": {
       "model_id": "e8194e0d6c8b4b5c8435736757707e9d",
       "version_major": 2,
       "version_minor": 0
      },
      "text/plain": [
       "Evaluating distortion00 (Severity 5):   0%|          | 0/157 [00:00<?, ?it/s]"
      ]
     },
     "metadata": {},
     "output_type": "display_data"
    },
    {
     "name": "stdout",
     "output_type": "stream",
     "text": [
      "distortion00 (Severity 5)\n"
     ]
    },
    {
     "data": {
      "application/vnd.jupyter.widget-view+json": {
       "model_id": "da471236a55b4f308f91ae515fde8018",
       "version_major": 2,
       "version_minor": 0
      },
      "text/plain": [
       "Evaluating distortion01 (Severity 1):   0%|          | 0/157 [00:00<?, ?it/s]"
      ]
     },
     "metadata": {},
     "output_type": "display_data"
    },
    {
     "name": "stdout",
     "output_type": "stream",
     "text": [
      "distortion01 (Severity 1)\n"
     ]
    },
    {
     "data": {
      "application/vnd.jupyter.widget-view+json": {
       "model_id": "535dfae711cb45c78c6743a91217c5a1",
       "version_major": 2,
       "version_minor": 0
      },
      "text/plain": [
       "Evaluating distortion01 (Severity 2):   0%|          | 0/157 [00:00<?, ?it/s]"
      ]
     },
     "metadata": {},
     "output_type": "display_data"
    },
    {
     "name": "stdout",
     "output_type": "stream",
     "text": [
      "distortion01 (Severity 2)\n"
     ]
    },
    {
     "data": {
      "application/vnd.jupyter.widget-view+json": {
       "model_id": "2dcaddaa3e6d4b989e349f5eef407e02",
       "version_major": 2,
       "version_minor": 0
      },
      "text/plain": [
       "Evaluating distortion01 (Severity 3):   0%|          | 0/157 [00:00<?, ?it/s]"
      ]
     },
     "metadata": {},
     "output_type": "display_data"
    },
    {
     "name": "stdout",
     "output_type": "stream",
     "text": [
      "distortion01 (Severity 3)\n"
     ]
    },
    {
     "data": {
      "application/vnd.jupyter.widget-view+json": {
       "model_id": "2413886c3502467dbd2417377bd9fbfe",
       "version_major": 2,
       "version_minor": 0
      },
      "text/plain": [
       "Evaluating distortion01 (Severity 4):   0%|          | 0/157 [00:00<?, ?it/s]"
      ]
     },
     "metadata": {},
     "output_type": "display_data"
    },
    {
     "name": "stdout",
     "output_type": "stream",
     "text": [
      "distortion01 (Severity 4)\n"
     ]
    },
    {
     "data": {
      "application/vnd.jupyter.widget-view+json": {
       "model_id": "474e3766ca16475f82d781cda3c64f48",
       "version_major": 2,
       "version_minor": 0
      },
      "text/plain": [
       "Evaluating distortion01 (Severity 5):   0%|          | 0/157 [00:00<?, ?it/s]"
      ]
     },
     "metadata": {},
     "output_type": "display_data"
    },
    {
     "name": "stdout",
     "output_type": "stream",
     "text": [
      "distortion01 (Severity 5)\n"
     ]
    },
    {
     "data": {
      "application/vnd.jupyter.widget-view+json": {
       "model_id": "2a6264bdc98e456d9ac744c59db2d419",
       "version_major": 2,
       "version_minor": 0
      },
      "text/plain": [
       "Evaluating distortion02 (Severity 1):   0%|          | 0/157 [00:00<?, ?it/s]"
      ]
     },
     "metadata": {},
     "output_type": "display_data"
    },
    {
     "name": "stdout",
     "output_type": "stream",
     "text": [
      "distortion02 (Severity 1)\n"
     ]
    },
    {
     "data": {
      "application/vnd.jupyter.widget-view+json": {
       "model_id": "626e0de1bc2147fcb02321b3c84a7293",
       "version_major": 2,
       "version_minor": 0
      },
      "text/plain": [
       "Evaluating distortion02 (Severity 2):   0%|          | 0/157 [00:00<?, ?it/s]"
      ]
     },
     "metadata": {},
     "output_type": "display_data"
    },
    {
     "name": "stdout",
     "output_type": "stream",
     "text": [
      "distortion02 (Severity 2)\n"
     ]
    },
    {
     "data": {
      "application/vnd.jupyter.widget-view+json": {
       "model_id": "ba0d39e40e4a48efa410d43d1358f91a",
       "version_major": 2,
       "version_minor": 0
      },
      "text/plain": [
       "Evaluating distortion02 (Severity 3):   0%|          | 0/157 [00:00<?, ?it/s]"
      ]
     },
     "metadata": {},
     "output_type": "display_data"
    },
    {
     "name": "stdout",
     "output_type": "stream",
     "text": [
      "distortion02 (Severity 3)\n"
     ]
    },
    {
     "data": {
      "application/vnd.jupyter.widget-view+json": {
       "model_id": "580fdd6cc47043d7b1cfc724952e596e",
       "version_major": 2,
       "version_minor": 0
      },
      "text/plain": [
       "Evaluating distortion02 (Severity 4):   0%|          | 0/157 [00:00<?, ?it/s]"
      ]
     },
     "metadata": {},
     "output_type": "display_data"
    },
    {
     "name": "stdout",
     "output_type": "stream",
     "text": [
      "distortion02 (Severity 4)\n"
     ]
    },
    {
     "data": {
      "application/vnd.jupyter.widget-view+json": {
       "model_id": "cbadc7b867194ae28833a23b58ff1abb",
       "version_major": 2,
       "version_minor": 0
      },
      "text/plain": [
       "Evaluating distortion02 (Severity 5):   0%|          | 0/157 [00:00<?, ?it/s]"
      ]
     },
     "metadata": {},
     "output_type": "display_data"
    },
    {
     "name": "stdout",
     "output_type": "stream",
     "text": [
      "distortion02 (Severity 5)\n"
     ]
    },
    {
     "data": {
      "application/vnd.jupyter.widget-view+json": {
       "model_id": "3a6c9ee8e7fd4d7bb3cf2a2f47f2adbc",
       "version_major": 2,
       "version_minor": 0
      },
      "text/plain": [
       "Evaluating distortion03 (Severity 1):   0%|          | 0/157 [00:00<?, ?it/s]"
      ]
     },
     "metadata": {},
     "output_type": "display_data"
    },
    {
     "name": "stdout",
     "output_type": "stream",
     "text": [
      "distortion03 (Severity 1)\n"
     ]
    },
    {
     "data": {
      "application/vnd.jupyter.widget-view+json": {
       "model_id": "bda9d054c7604627a996a5521f76043c",
       "version_major": 2,
       "version_minor": 0
      },
      "text/plain": [
       "Evaluating distortion03 (Severity 2):   0%|          | 0/157 [00:00<?, ?it/s]"
      ]
     },
     "metadata": {},
     "output_type": "display_data"
    },
    {
     "name": "stdout",
     "output_type": "stream",
     "text": [
      "distortion03 (Severity 2)\n"
     ]
    },
    {
     "data": {
      "application/vnd.jupyter.widget-view+json": {
       "model_id": "56224c30123940238ffa28d951e1c67e",
       "version_major": 2,
       "version_minor": 0
      },
      "text/plain": [
       "Evaluating distortion03 (Severity 3):   0%|          | 0/157 [00:00<?, ?it/s]"
      ]
     },
     "metadata": {},
     "output_type": "display_data"
    },
    {
     "name": "stdout",
     "output_type": "stream",
     "text": [
      "distortion03 (Severity 3)\n"
     ]
    },
    {
     "data": {
      "application/vnd.jupyter.widget-view+json": {
       "model_id": "8aa9d1c3f2ed43b7b83013d816fc43a5",
       "version_major": 2,
       "version_minor": 0
      },
      "text/plain": [
       "Evaluating distortion03 (Severity 4):   0%|          | 0/157 [00:00<?, ?it/s]"
      ]
     },
     "metadata": {},
     "output_type": "display_data"
    },
    {
     "name": "stdout",
     "output_type": "stream",
     "text": [
      "distortion03 (Severity 4)\n"
     ]
    },
    {
     "data": {
      "application/vnd.jupyter.widget-view+json": {
       "model_id": "9a0884a0229142e5a0d28d269160441a",
       "version_major": 2,
       "version_minor": 0
      },
      "text/plain": [
       "Evaluating distortion03 (Severity 5):   0%|          | 0/157 [00:00<?, ?it/s]"
      ]
     },
     "metadata": {},
     "output_type": "display_data"
    },
    {
     "name": "stdout",
     "output_type": "stream",
     "text": [
      "distortion03 (Severity 5)\n"
     ]
    },
    {
     "data": {
      "application/vnd.jupyter.widget-view+json": {
       "model_id": "4bf1c13246cf407698008a66e74549ff",
       "version_major": 2,
       "version_minor": 0
      },
      "text/plain": [
       "Evaluating distortion04 (Severity 1):   0%|          | 0/157 [00:00<?, ?it/s]"
      ]
     },
     "metadata": {},
     "output_type": "display_data"
    },
    {
     "name": "stdout",
     "output_type": "stream",
     "text": [
      "distortion04 (Severity 1)\n"
     ]
    },
    {
     "data": {
      "application/vnd.jupyter.widget-view+json": {
       "model_id": "b091ec0978bf4d6e81a15673d52adc8b",
       "version_major": 2,
       "version_minor": 0
      },
      "text/plain": [
       "Evaluating distortion04 (Severity 2):   0%|          | 0/157 [00:00<?, ?it/s]"
      ]
     },
     "metadata": {},
     "output_type": "display_data"
    },
    {
     "name": "stdout",
     "output_type": "stream",
     "text": [
      "distortion04 (Severity 2)\n"
     ]
    },
    {
     "data": {
      "application/vnd.jupyter.widget-view+json": {
       "model_id": "876467be0dc74c1385d4ca65d2344b1e",
       "version_major": 2,
       "version_minor": 0
      },
      "text/plain": [
       "Evaluating distortion04 (Severity 3):   0%|          | 0/157 [00:00<?, ?it/s]"
      ]
     },
     "metadata": {},
     "output_type": "display_data"
    },
    {
     "name": "stdout",
     "output_type": "stream",
     "text": [
      "distortion04 (Severity 3)\n"
     ]
    },
    {
     "data": {
      "application/vnd.jupyter.widget-view+json": {
       "model_id": "f28ddf126dd942b3aab6a392bc0ec00c",
       "version_major": 2,
       "version_minor": 0
      },
      "text/plain": [
       "Evaluating distortion04 (Severity 4):   0%|          | 0/157 [00:00<?, ?it/s]"
      ]
     },
     "metadata": {},
     "output_type": "display_data"
    },
    {
     "name": "stdout",
     "output_type": "stream",
     "text": [
      "distortion04 (Severity 4)\n"
     ]
    },
    {
     "data": {
      "application/vnd.jupyter.widget-view+json": {
       "model_id": "9ba7c85473514089b657bb711c59c085",
       "version_major": 2,
       "version_minor": 0
      },
      "text/plain": [
       "Evaluating distortion04 (Severity 5):   0%|          | 0/157 [00:00<?, ?it/s]"
      ]
     },
     "metadata": {},
     "output_type": "display_data"
    },
    {
     "name": "stdout",
     "output_type": "stream",
     "text": [
      "distortion04 (Severity 5)\n"
     ]
    },
    {
     "data": {
      "application/vnd.jupyter.widget-view+json": {
       "model_id": "6e27d144bea8493b93cce2db0702a808",
       "version_major": 2,
       "version_minor": 0
      },
      "text/plain": [
       "Evaluating distortion05 (Severity 1):   0%|          | 0/157 [00:00<?, ?it/s]"
      ]
     },
     "metadata": {},
     "output_type": "display_data"
    },
    {
     "name": "stdout",
     "output_type": "stream",
     "text": [
      "distortion05 (Severity 1)\n"
     ]
    },
    {
     "data": {
      "application/vnd.jupyter.widget-view+json": {
       "model_id": "d31c847145b84e009a8ad78ff29e8ca6",
       "version_major": 2,
       "version_minor": 0
      },
      "text/plain": [
       "Evaluating distortion05 (Severity 2):   0%|          | 0/157 [00:00<?, ?it/s]"
      ]
     },
     "metadata": {},
     "output_type": "display_data"
    },
    {
     "name": "stdout",
     "output_type": "stream",
     "text": [
      "distortion05 (Severity 2)\n"
     ]
    },
    {
     "data": {
      "application/vnd.jupyter.widget-view+json": {
       "model_id": "607b46e786714091842e0828a1e094a9",
       "version_major": 2,
       "version_minor": 0
      },
      "text/plain": [
       "Evaluating distortion05 (Severity 3):   0%|          | 0/157 [00:00<?, ?it/s]"
      ]
     },
     "metadata": {},
     "output_type": "display_data"
    },
    {
     "name": "stdout",
     "output_type": "stream",
     "text": [
      "distortion05 (Severity 3)\n"
     ]
    },
    {
     "data": {
      "application/vnd.jupyter.widget-view+json": {
       "model_id": "048580e1b0f04ef0b1d46d91b2cc4895",
       "version_major": 2,
       "version_minor": 0
      },
      "text/plain": [
       "Evaluating distortion05 (Severity 4):   0%|          | 0/157 [00:00<?, ?it/s]"
      ]
     },
     "metadata": {},
     "output_type": "display_data"
    },
    {
     "name": "stdout",
     "output_type": "stream",
     "text": [
      "distortion05 (Severity 4)\n"
     ]
    },
    {
     "data": {
      "application/vnd.jupyter.widget-view+json": {
       "model_id": "6958fbdc1c844f1f96a9ec983f9e30e7",
       "version_major": 2,
       "version_minor": 0
      },
      "text/plain": [
       "Evaluating distortion05 (Severity 5):   0%|          | 0/157 [00:00<?, ?it/s]"
      ]
     },
     "metadata": {},
     "output_type": "display_data"
    },
    {
     "name": "stdout",
     "output_type": "stream",
     "text": [
      "distortion05 (Severity 5)\n"
     ]
    },
    {
     "data": {
      "application/vnd.jupyter.widget-view+json": {
       "model_id": "da84ff04aee7482cbc346f68693561b3",
       "version_major": 2,
       "version_minor": 0
      },
      "text/plain": [
       "Evaluating distortion06 (Severity 1):   0%|          | 0/157 [00:00<?, ?it/s]"
      ]
     },
     "metadata": {},
     "output_type": "display_data"
    },
    {
     "name": "stdout",
     "output_type": "stream",
     "text": [
      "distortion06 (Severity 1)\n"
     ]
    },
    {
     "data": {
      "application/vnd.jupyter.widget-view+json": {
       "model_id": "71fe244df3014b4da46b2bb23fdfac9a",
       "version_major": 2,
       "version_minor": 0
      },
      "text/plain": [
       "Evaluating distortion06 (Severity 2):   0%|          | 0/157 [00:00<?, ?it/s]"
      ]
     },
     "metadata": {},
     "output_type": "display_data"
    },
    {
     "name": "stdout",
     "output_type": "stream",
     "text": [
      "distortion06 (Severity 2)\n"
     ]
    },
    {
     "data": {
      "application/vnd.jupyter.widget-view+json": {
       "model_id": "0aaf882fc2844ad0878fa4989e509f29",
       "version_major": 2,
       "version_minor": 0
      },
      "text/plain": [
       "Evaluating distortion06 (Severity 3):   0%|          | 0/157 [00:00<?, ?it/s]"
      ]
     },
     "metadata": {},
     "output_type": "display_data"
    },
    {
     "name": "stdout",
     "output_type": "stream",
     "text": [
      "distortion06 (Severity 3)\n"
     ]
    },
    {
     "data": {
      "application/vnd.jupyter.widget-view+json": {
       "model_id": "f751eeea257e4e55976753b7296783b3",
       "version_major": 2,
       "version_minor": 0
      },
      "text/plain": [
       "Evaluating distortion06 (Severity 4):   0%|          | 0/157 [00:00<?, ?it/s]"
      ]
     },
     "metadata": {},
     "output_type": "display_data"
    },
    {
     "name": "stdout",
     "output_type": "stream",
     "text": [
      "distortion06 (Severity 4)\n"
     ]
    },
    {
     "data": {
      "application/vnd.jupyter.widget-view+json": {
       "model_id": "6ff01377f74043c3b25d72b6a5dc4a96",
       "version_major": 2,
       "version_minor": 0
      },
      "text/plain": [
       "Evaluating distortion06 (Severity 5):   0%|          | 0/157 [00:00<?, ?it/s]"
      ]
     },
     "metadata": {},
     "output_type": "display_data"
    },
    {
     "name": "stdout",
     "output_type": "stream",
     "text": [
      "distortion06 (Severity 5)\n"
     ]
    },
    {
     "data": {
      "application/vnd.jupyter.widget-view+json": {
       "model_id": "7c9c65974d0046a9af4a6861cdbed1b4",
       "version_major": 2,
       "version_minor": 0
      },
      "text/plain": [
       "Evaluating distortion07 (Severity 1):   0%|          | 0/157 [00:00<?, ?it/s]"
      ]
     },
     "metadata": {},
     "output_type": "display_data"
    },
    {
     "name": "stdout",
     "output_type": "stream",
     "text": [
      "distortion07 (Severity 1)\n"
     ]
    },
    {
     "data": {
      "application/vnd.jupyter.widget-view+json": {
       "model_id": "f61e535313754bf8ad787adc83d71739",
       "version_major": 2,
       "version_minor": 0
      },
      "text/plain": [
       "Evaluating distortion07 (Severity 2):   0%|          | 0/157 [00:00<?, ?it/s]"
      ]
     },
     "metadata": {},
     "output_type": "display_data"
    },
    {
     "name": "stdout",
     "output_type": "stream",
     "text": [
      "distortion07 (Severity 2)\n"
     ]
    },
    {
     "data": {
      "application/vnd.jupyter.widget-view+json": {
       "model_id": "fa9e5d4875ef41eaaec98436676bd520",
       "version_major": 2,
       "version_minor": 0
      },
      "text/plain": [
       "Evaluating distortion07 (Severity 3):   0%|          | 0/157 [00:00<?, ?it/s]"
      ]
     },
     "metadata": {},
     "output_type": "display_data"
    },
    {
     "name": "stdout",
     "output_type": "stream",
     "text": [
      "distortion07 (Severity 3)\n"
     ]
    },
    {
     "data": {
      "application/vnd.jupyter.widget-view+json": {
       "model_id": "8c2744d99a83482e9a3b72b790e6dc16",
       "version_major": 2,
       "version_minor": 0
      },
      "text/plain": [
       "Evaluating distortion07 (Severity 4):   0%|          | 0/157 [00:00<?, ?it/s]"
      ]
     },
     "metadata": {},
     "output_type": "display_data"
    },
    {
     "name": "stdout",
     "output_type": "stream",
     "text": [
      "distortion07 (Severity 4)\n"
     ]
    },
    {
     "data": {
      "application/vnd.jupyter.widget-view+json": {
       "model_id": "9c4372cbef5944a3b02b3cef4df6211b",
       "version_major": 2,
       "version_minor": 0
      },
      "text/plain": [
       "Evaluating distortion07 (Severity 5):   0%|          | 0/157 [00:00<?, ?it/s]"
      ]
     },
     "metadata": {},
     "output_type": "display_data"
    },
    {
     "name": "stdout",
     "output_type": "stream",
     "text": [
      "distortion07 (Severity 5)\n"
     ]
    },
    {
     "data": {
      "application/vnd.jupyter.widget-view+json": {
       "model_id": "1551a8a323a44b6b84f12b9d8852d417",
       "version_major": 2,
       "version_minor": 0
      },
      "text/plain": [
       "Evaluating distortion08 (Severity 1):   0%|          | 0/157 [00:00<?, ?it/s]"
      ]
     },
     "metadata": {},
     "output_type": "display_data"
    },
    {
     "name": "stdout",
     "output_type": "stream",
     "text": [
      "distortion08 (Severity 1)\n"
     ]
    },
    {
     "data": {
      "application/vnd.jupyter.widget-view+json": {
       "model_id": "ef564747522f49839a32b3ed18231a92",
       "version_major": 2,
       "version_minor": 0
      },
      "text/plain": [
       "Evaluating distortion08 (Severity 2):   0%|          | 0/157 [00:00<?, ?it/s]"
      ]
     },
     "metadata": {},
     "output_type": "display_data"
    },
    {
     "name": "stdout",
     "output_type": "stream",
     "text": [
      "distortion08 (Severity 2)\n"
     ]
    },
    {
     "data": {
      "application/vnd.jupyter.widget-view+json": {
       "model_id": "c7449ba8830e4e86b8e5f4306c9543e1",
       "version_major": 2,
       "version_minor": 0
      },
      "text/plain": [
       "Evaluating distortion08 (Severity 3):   0%|          | 0/157 [00:00<?, ?it/s]"
      ]
     },
     "metadata": {},
     "output_type": "display_data"
    },
    {
     "name": "stdout",
     "output_type": "stream",
     "text": [
      "distortion08 (Severity 3)\n"
     ]
    },
    {
     "data": {
      "application/vnd.jupyter.widget-view+json": {
       "model_id": "8c03dea8defd4cc989ca3cab7649e761",
       "version_major": 2,
       "version_minor": 0
      },
      "text/plain": [
       "Evaluating distortion08 (Severity 4):   0%|          | 0/157 [00:00<?, ?it/s]"
      ]
     },
     "metadata": {},
     "output_type": "display_data"
    },
    {
     "name": "stdout",
     "output_type": "stream",
     "text": [
      "distortion08 (Severity 4)\n"
     ]
    },
    {
     "data": {
      "application/vnd.jupyter.widget-view+json": {
       "model_id": "726a87eb07fa468f95cfe14f0e690f4c",
       "version_major": 2,
       "version_minor": 0
      },
      "text/plain": [
       "Evaluating distortion08 (Severity 5):   0%|          | 0/157 [00:00<?, ?it/s]"
      ]
     },
     "metadata": {},
     "output_type": "display_data"
    },
    {
     "name": "stdout",
     "output_type": "stream",
     "text": [
      "distortion08 (Severity 5)\n"
     ]
    },
    {
     "data": {
      "application/vnd.jupyter.widget-view+json": {
       "model_id": "f4ca836b20fd49d0a93ab42cff17d128",
       "version_major": 2,
       "version_minor": 0
      },
      "text/plain": [
       "Evaluating distortion09 (Severity 1):   0%|          | 0/157 [00:00<?, ?it/s]"
      ]
     },
     "metadata": {},
     "output_type": "display_data"
    },
    {
     "name": "stdout",
     "output_type": "stream",
     "text": [
      "distortion09 (Severity 1)\n"
     ]
    },
    {
     "data": {
      "application/vnd.jupyter.widget-view+json": {
       "model_id": "826e37bebbaa414dbf5d047583f1f6f4",
       "version_major": 2,
       "version_minor": 0
      },
      "text/plain": [
       "Evaluating distortion09 (Severity 2):   0%|          | 0/157 [00:00<?, ?it/s]"
      ]
     },
     "metadata": {},
     "output_type": "display_data"
    },
    {
     "name": "stdout",
     "output_type": "stream",
     "text": [
      "distortion09 (Severity 2)\n"
     ]
    },
    {
     "data": {
      "application/vnd.jupyter.widget-view+json": {
       "model_id": "7fdd6e4a3553488fab97344b830c849d",
       "version_major": 2,
       "version_minor": 0
      },
      "text/plain": [
       "Evaluating distortion09 (Severity 3):   0%|          | 0/157 [00:00<?, ?it/s]"
      ]
     },
     "metadata": {},
     "output_type": "display_data"
    },
    {
     "name": "stdout",
     "output_type": "stream",
     "text": [
      "distortion09 (Severity 3)\n"
     ]
    },
    {
     "data": {
      "application/vnd.jupyter.widget-view+json": {
       "model_id": "41f46bcef18b4443806f718a62e55429",
       "version_major": 2,
       "version_minor": 0
      },
      "text/plain": [
       "Evaluating distortion09 (Severity 4):   0%|          | 0/157 [00:00<?, ?it/s]"
      ]
     },
     "metadata": {},
     "output_type": "display_data"
    },
    {
     "name": "stdout",
     "output_type": "stream",
     "text": [
      "distortion09 (Severity 4)\n"
     ]
    },
    {
     "data": {
      "application/vnd.jupyter.widget-view+json": {
       "model_id": "91f04791b4fe48b7a9540dfe58c3240d",
       "version_major": 2,
       "version_minor": 0
      },
      "text/plain": [
       "Evaluating distortion09 (Severity 5):   0%|          | 0/157 [00:00<?, ?it/s]"
      ]
     },
     "metadata": {},
     "output_type": "display_data"
    },
    {
     "name": "stdout",
     "output_type": "stream",
     "text": [
      "distortion09 (Severity 5)\n"
     ]
    },
    {
     "data": {
      "application/vnd.jupyter.widget-view+json": {
       "model_id": "053c9f1649d746bbb69481fc2a45bb4e",
       "version_major": 2,
       "version_minor": 0
      },
      "text/plain": [
       "Evaluating distortion10 (Severity 1):   0%|          | 0/157 [00:00<?, ?it/s]"
      ]
     },
     "metadata": {},
     "output_type": "display_data"
    },
    {
     "name": "stdout",
     "output_type": "stream",
     "text": [
      "distortion10 (Severity 1)\n"
     ]
    },
    {
     "data": {
      "application/vnd.jupyter.widget-view+json": {
       "model_id": "31f440f437b543ab98210bbaf0c195e7",
       "version_major": 2,
       "version_minor": 0
      },
      "text/plain": [
       "Evaluating distortion10 (Severity 2):   0%|          | 0/157 [00:00<?, ?it/s]"
      ]
     },
     "metadata": {},
     "output_type": "display_data"
    },
    {
     "name": "stdout",
     "output_type": "stream",
     "text": [
      "distortion10 (Severity 2)\n"
     ]
    },
    {
     "data": {
      "application/vnd.jupyter.widget-view+json": {
       "model_id": "3eec950572744fb1a771ec1af36f7b41",
       "version_major": 2,
       "version_minor": 0
      },
      "text/plain": [
       "Evaluating distortion10 (Severity 3):   0%|          | 0/157 [00:00<?, ?it/s]"
      ]
     },
     "metadata": {},
     "output_type": "display_data"
    },
    {
     "name": "stdout",
     "output_type": "stream",
     "text": [
      "distortion10 (Severity 3)\n"
     ]
    },
    {
     "data": {
      "application/vnd.jupyter.widget-view+json": {
       "model_id": "128685a30f894e5a9340a52ed81469e4",
       "version_major": 2,
       "version_minor": 0
      },
      "text/plain": [
       "Evaluating distortion10 (Severity 4):   0%|          | 0/157 [00:00<?, ?it/s]"
      ]
     },
     "metadata": {},
     "output_type": "display_data"
    },
    {
     "name": "stdout",
     "output_type": "stream",
     "text": [
      "distortion10 (Severity 4)\n"
     ]
    },
    {
     "data": {
      "application/vnd.jupyter.widget-view+json": {
       "model_id": "c978fa766357415ebd65253fa03badb2",
       "version_major": 2,
       "version_minor": 0
      },
      "text/plain": [
       "Evaluating distortion10 (Severity 5):   0%|          | 0/157 [00:00<?, ?it/s]"
      ]
     },
     "metadata": {},
     "output_type": "display_data"
    },
    {
     "name": "stdout",
     "output_type": "stream",
     "text": [
      "distortion10 (Severity 5)\n"
     ]
    },
    {
     "data": {
      "application/vnd.jupyter.widget-view+json": {
       "model_id": "9e1f2c07eb114709aebcc645444aeb97",
       "version_major": 2,
       "version_minor": 0
      },
      "text/plain": [
       "Evaluating distortion11 (Severity 1):   0%|          | 0/157 [00:00<?, ?it/s]"
      ]
     },
     "metadata": {},
     "output_type": "display_data"
    },
    {
     "name": "stdout",
     "output_type": "stream",
     "text": [
      "distortion11 (Severity 1)\n"
     ]
    },
    {
     "data": {
      "application/vnd.jupyter.widget-view+json": {
       "model_id": "e114b84143254d5cad991c7d4d3d1d5f",
       "version_major": 2,
       "version_minor": 0
      },
      "text/plain": [
       "Evaluating distortion11 (Severity 2):   0%|          | 0/157 [00:00<?, ?it/s]"
      ]
     },
     "metadata": {},
     "output_type": "display_data"
    },
    {
     "name": "stdout",
     "output_type": "stream",
     "text": [
      "distortion11 (Severity 2)\n"
     ]
    },
    {
     "data": {
      "application/vnd.jupyter.widget-view+json": {
       "model_id": "2ba17032b4f1449294d46dd179d0c4a4",
       "version_major": 2,
       "version_minor": 0
      },
      "text/plain": [
       "Evaluating distortion11 (Severity 3):   0%|          | 0/157 [00:00<?, ?it/s]"
      ]
     },
     "metadata": {},
     "output_type": "display_data"
    },
    {
     "name": "stdout",
     "output_type": "stream",
     "text": [
      "distortion11 (Severity 3)\n"
     ]
    },
    {
     "data": {
      "application/vnd.jupyter.widget-view+json": {
       "model_id": "018c580babe7475a910648fda4fe55f7",
       "version_major": 2,
       "version_minor": 0
      },
      "text/plain": [
       "Evaluating distortion11 (Severity 4):   0%|          | 0/157 [00:00<?, ?it/s]"
      ]
     },
     "metadata": {},
     "output_type": "display_data"
    },
    {
     "name": "stdout",
     "output_type": "stream",
     "text": [
      "distortion11 (Severity 4)\n"
     ]
    },
    {
     "data": {
      "application/vnd.jupyter.widget-view+json": {
       "model_id": "2bd30b9395c94861a2e6eb8a8196500b",
       "version_major": 2,
       "version_minor": 0
      },
      "text/plain": [
       "Evaluating distortion11 (Severity 5):   0%|          | 0/157 [00:00<?, ?it/s]"
      ]
     },
     "metadata": {},
     "output_type": "display_data"
    },
    {
     "name": "stdout",
     "output_type": "stream",
     "text": [
      "distortion11 (Severity 5)\n"
     ]
    },
    {
     "data": {
      "application/vnd.jupyter.widget-view+json": {
       "model_id": "f8cb20599b1244f4a4299589887f2542",
       "version_major": 2,
       "version_minor": 0
      },
      "text/plain": [
       "Evaluating distortion12 (Severity 1):   0%|          | 0/157 [00:00<?, ?it/s]"
      ]
     },
     "metadata": {},
     "output_type": "display_data"
    },
    {
     "name": "stdout",
     "output_type": "stream",
     "text": [
      "distortion12 (Severity 1)\n"
     ]
    },
    {
     "data": {
      "application/vnd.jupyter.widget-view+json": {
       "model_id": "94bb936cd5f744058a9fc72416451b75",
       "version_major": 2,
       "version_minor": 0
      },
      "text/plain": [
       "Evaluating distortion12 (Severity 2):   0%|          | 0/157 [00:00<?, ?it/s]"
      ]
     },
     "metadata": {},
     "output_type": "display_data"
    },
    {
     "name": "stdout",
     "output_type": "stream",
     "text": [
      "distortion12 (Severity 2)\n"
     ]
    },
    {
     "data": {
      "application/vnd.jupyter.widget-view+json": {
       "model_id": "0743b35a3b5343eaa5836eb8d2b5ce14",
       "version_major": 2,
       "version_minor": 0
      },
      "text/plain": [
       "Evaluating distortion12 (Severity 3):   0%|          | 0/157 [00:00<?, ?it/s]"
      ]
     },
     "metadata": {},
     "output_type": "display_data"
    },
    {
     "name": "stdout",
     "output_type": "stream",
     "text": [
      "distortion12 (Severity 3)\n"
     ]
    },
    {
     "data": {
      "application/vnd.jupyter.widget-view+json": {
       "model_id": "76552dcfd3bc4690aea5850a14024502",
       "version_major": 2,
       "version_minor": 0
      },
      "text/plain": [
       "Evaluating distortion12 (Severity 4):   0%|          | 0/157 [00:00<?, ?it/s]"
      ]
     },
     "metadata": {},
     "output_type": "display_data"
    },
    {
     "name": "stdout",
     "output_type": "stream",
     "text": [
      "distortion12 (Severity 4)\n"
     ]
    },
    {
     "data": {
      "application/vnd.jupyter.widget-view+json": {
       "model_id": "ec22466c2a554522bb149eb0df336915",
       "version_major": 2,
       "version_minor": 0
      },
      "text/plain": [
       "Evaluating distortion12 (Severity 5):   0%|          | 0/157 [00:00<?, ?it/s]"
      ]
     },
     "metadata": {},
     "output_type": "display_data"
    },
    {
     "name": "stdout",
     "output_type": "stream",
     "text": [
      "distortion12 (Severity 5)\n"
     ]
    },
    {
     "data": {
      "application/vnd.jupyter.widget-view+json": {
       "model_id": "a9d80d280afb4ea2b95073108e9701a7",
       "version_major": 2,
       "version_minor": 0
      },
      "text/plain": [
       "Evaluating distortion13 (Severity 1):   0%|          | 0/157 [00:00<?, ?it/s]"
      ]
     },
     "metadata": {},
     "output_type": "display_data"
    },
    {
     "name": "stdout",
     "output_type": "stream",
     "text": [
      "distortion13 (Severity 1)\n"
     ]
    },
    {
     "data": {
      "application/vnd.jupyter.widget-view+json": {
       "model_id": "64995c6bb50447e8859afd3762d84500",
       "version_major": 2,
       "version_minor": 0
      },
      "text/plain": [
       "Evaluating distortion13 (Severity 2):   0%|          | 0/157 [00:00<?, ?it/s]"
      ]
     },
     "metadata": {},
     "output_type": "display_data"
    },
    {
     "name": "stdout",
     "output_type": "stream",
     "text": [
      "distortion13 (Severity 2)\n"
     ]
    },
    {
     "data": {
      "application/vnd.jupyter.widget-view+json": {
       "model_id": "5ac33f78f502495fb2d7ddef0438b135",
       "version_major": 2,
       "version_minor": 0
      },
      "text/plain": [
       "Evaluating distortion13 (Severity 3):   0%|          | 0/157 [00:00<?, ?it/s]"
      ]
     },
     "metadata": {},
     "output_type": "display_data"
    },
    {
     "name": "stdout",
     "output_type": "stream",
     "text": [
      "distortion13 (Severity 3)\n"
     ]
    },
    {
     "data": {
      "application/vnd.jupyter.widget-view+json": {
       "model_id": "e5661860ba3b4bcb97a0c760b3ef1aee",
       "version_major": 2,
       "version_minor": 0
      },
      "text/plain": [
       "Evaluating distortion13 (Severity 4):   0%|          | 0/157 [00:00<?, ?it/s]"
      ]
     },
     "metadata": {},
     "output_type": "display_data"
    },
    {
     "name": "stdout",
     "output_type": "stream",
     "text": [
      "distortion13 (Severity 4)\n"
     ]
    },
    {
     "data": {
      "application/vnd.jupyter.widget-view+json": {
       "model_id": "8acee41a9fd44e8781c167c0bdb92e0c",
       "version_major": 2,
       "version_minor": 0
      },
      "text/plain": [
       "Evaluating distortion13 (Severity 5):   0%|          | 0/157 [00:00<?, ?it/s]"
      ]
     },
     "metadata": {},
     "output_type": "display_data"
    },
    {
     "name": "stdout",
     "output_type": "stream",
     "text": [
      "distortion13 (Severity 5)\n"
     ]
    },
    {
     "data": {
      "application/vnd.jupyter.widget-view+json": {
       "model_id": "6db40ff9c8374c54a450c94e10e20ece",
       "version_major": 2,
       "version_minor": 0
      },
      "text/plain": [
       "Evaluating distortion14 (Severity 1):   0%|          | 0/157 [00:00<?, ?it/s]"
      ]
     },
     "metadata": {},
     "output_type": "display_data"
    },
    {
     "name": "stdout",
     "output_type": "stream",
     "text": [
      "distortion14 (Severity 1)\n"
     ]
    },
    {
     "data": {
      "application/vnd.jupyter.widget-view+json": {
       "model_id": "58a491ba7f75426c9850a46cf3cdd0dc",
       "version_major": 2,
       "version_minor": 0
      },
      "text/plain": [
       "Evaluating distortion14 (Severity 2):   0%|          | 0/157 [00:00<?, ?it/s]"
      ]
     },
     "metadata": {},
     "output_type": "display_data"
    },
    {
     "name": "stdout",
     "output_type": "stream",
     "text": [
      "distortion14 (Severity 2)\n"
     ]
    },
    {
     "data": {
      "application/vnd.jupyter.widget-view+json": {
       "model_id": "a0e89b08d511487a8af9b386aca9ac51",
       "version_major": 2,
       "version_minor": 0
      },
      "text/plain": [
       "Evaluating distortion14 (Severity 3):   0%|          | 0/157 [00:00<?, ?it/s]"
      ]
     },
     "metadata": {},
     "output_type": "display_data"
    },
    {
     "name": "stdout",
     "output_type": "stream",
     "text": [
      "distortion14 (Severity 3)\n"
     ]
    },
    {
     "data": {
      "application/vnd.jupyter.widget-view+json": {
       "model_id": "5f6ce34ec381454591262e874fa9b906",
       "version_major": 2,
       "version_minor": 0
      },
      "text/plain": [
       "Evaluating distortion14 (Severity 4):   0%|          | 0/157 [00:00<?, ?it/s]"
      ]
     },
     "metadata": {},
     "output_type": "display_data"
    },
    {
     "name": "stdout",
     "output_type": "stream",
     "text": [
      "distortion14 (Severity 4)\n"
     ]
    },
    {
     "data": {
      "application/vnd.jupyter.widget-view+json": {
       "model_id": "b4a3a4e084f644b38ac6dbfa4ca6f31b",
       "version_major": 2,
       "version_minor": 0
      },
      "text/plain": [
       "Evaluating distortion14 (Severity 5):   0%|          | 0/157 [00:00<?, ?it/s]"
      ]
     },
     "metadata": {},
     "output_type": "display_data"
    },
    {
     "name": "stdout",
     "output_type": "stream",
     "text": [
      "distortion14 (Severity 5)\n"
     ]
    },
    {
     "data": {
      "application/vnd.jupyter.widget-view+json": {
       "model_id": "1d08210223a14de699daf49906bd45b6",
       "version_major": 2,
       "version_minor": 0
      },
      "text/plain": [
       "Evaluating distortion15 (Severity 1):   0%|          | 0/157 [00:00<?, ?it/s]"
      ]
     },
     "metadata": {},
     "output_type": "display_data"
    },
    {
     "name": "stdout",
     "output_type": "stream",
     "text": [
      "distortion15 (Severity 1)\n"
     ]
    },
    {
     "data": {
      "application/vnd.jupyter.widget-view+json": {
       "model_id": "673c535332f74c9c923c3804853b7ceb",
       "version_major": 2,
       "version_minor": 0
      },
      "text/plain": [
       "Evaluating distortion15 (Severity 2):   0%|          | 0/157 [00:00<?, ?it/s]"
      ]
     },
     "metadata": {},
     "output_type": "display_data"
    },
    {
     "name": "stdout",
     "output_type": "stream",
     "text": [
      "distortion15 (Severity 2)\n"
     ]
    },
    {
     "data": {
      "application/vnd.jupyter.widget-view+json": {
       "model_id": "8c68214a513e4feba51e69dfc96fd5fd",
       "version_major": 2,
       "version_minor": 0
      },
      "text/plain": [
       "Evaluating distortion15 (Severity 3):   0%|          | 0/157 [00:00<?, ?it/s]"
      ]
     },
     "metadata": {},
     "output_type": "display_data"
    },
    {
     "name": "stdout",
     "output_type": "stream",
     "text": [
      "distortion15 (Severity 3)\n"
     ]
    },
    {
     "data": {
      "application/vnd.jupyter.widget-view+json": {
       "model_id": "526d1939f7204b60916dc2af6149fc50",
       "version_major": 2,
       "version_minor": 0
      },
      "text/plain": [
       "Evaluating distortion15 (Severity 4):   0%|          | 0/157 [00:00<?, ?it/s]"
      ]
     },
     "metadata": {},
     "output_type": "display_data"
    },
    {
     "name": "stdout",
     "output_type": "stream",
     "text": [
      "distortion15 (Severity 4)\n"
     ]
    },
    {
     "data": {
      "application/vnd.jupyter.widget-view+json": {
       "model_id": "2e61eab193e74f37b838d8325c4ab29a",
       "version_major": 2,
       "version_minor": 0
      },
      "text/plain": [
       "Evaluating distortion15 (Severity 5):   0%|          | 0/157 [00:00<?, ?it/s]"
      ]
     },
     "metadata": {},
     "output_type": "display_data"
    },
    {
     "name": "stdout",
     "output_type": "stream",
     "text": [
      "distortion15 (Severity 5)\n"
     ]
    },
    {
     "data": {
      "application/vnd.jupyter.widget-view+json": {
       "model_id": "715b33d68ae2463ba4ed0b666558b121",
       "version_major": 2,
       "version_minor": 0
      },
      "text/plain": [
       "Evaluating distortion16 (Severity 1):   0%|          | 0/157 [00:00<?, ?it/s]"
      ]
     },
     "metadata": {},
     "output_type": "display_data"
    },
    {
     "name": "stdout",
     "output_type": "stream",
     "text": [
      "distortion16 (Severity 1)\n"
     ]
    },
    {
     "data": {
      "application/vnd.jupyter.widget-view+json": {
       "model_id": "ed659dbc33e34208b53c2c48c817f0e7",
       "version_major": 2,
       "version_minor": 0
      },
      "text/plain": [
       "Evaluating distortion16 (Severity 2):   0%|          | 0/157 [00:00<?, ?it/s]"
      ]
     },
     "metadata": {},
     "output_type": "display_data"
    },
    {
     "name": "stdout",
     "output_type": "stream",
     "text": [
      "distortion16 (Severity 2)\n"
     ]
    },
    {
     "data": {
      "application/vnd.jupyter.widget-view+json": {
       "model_id": "20efe15500304f1eb4a59c2e093dc3d6",
       "version_major": 2,
       "version_minor": 0
      },
      "text/plain": [
       "Evaluating distortion16 (Severity 3):   0%|          | 0/157 [00:00<?, ?it/s]"
      ]
     },
     "metadata": {},
     "output_type": "display_data"
    },
    {
     "name": "stdout",
     "output_type": "stream",
     "text": [
      "distortion16 (Severity 3)\n"
     ]
    },
    {
     "data": {
      "application/vnd.jupyter.widget-view+json": {
       "model_id": "4937d29a699a4582bf290a1177aec6c1",
       "version_major": 2,
       "version_minor": 0
      },
      "text/plain": [
       "Evaluating distortion16 (Severity 4):   0%|          | 0/157 [00:00<?, ?it/s]"
      ]
     },
     "metadata": {},
     "output_type": "display_data"
    },
    {
     "name": "stdout",
     "output_type": "stream",
     "text": [
      "distortion16 (Severity 4)\n"
     ]
    },
    {
     "data": {
      "application/vnd.jupyter.widget-view+json": {
       "model_id": "1d2c6e0591f94d5f907fbfcff1836a56",
       "version_major": 2,
       "version_minor": 0
      },
      "text/plain": [
       "Evaluating distortion16 (Severity 5):   0%|          | 0/157 [00:00<?, ?it/s]"
      ]
     },
     "metadata": {},
     "output_type": "display_data"
    },
    {
     "name": "stdout",
     "output_type": "stream",
     "text": [
      "distortion16 (Severity 5)\n"
     ]
    },
    {
     "data": {
      "application/vnd.jupyter.widget-view+json": {
       "model_id": "f9d018fcb8294408b1d954ee8c7e5f51",
       "version_major": 2,
       "version_minor": 0
      },
      "text/plain": [
       "Evaluating distortion17 (Severity 1):   0%|          | 0/157 [00:00<?, ?it/s]"
      ]
     },
     "metadata": {},
     "output_type": "display_data"
    },
    {
     "name": "stdout",
     "output_type": "stream",
     "text": [
      "distortion17 (Severity 1)\n"
     ]
    },
    {
     "data": {
      "application/vnd.jupyter.widget-view+json": {
       "model_id": "0f68005128c4458989839e89d79fbac5",
       "version_major": 2,
       "version_minor": 0
      },
      "text/plain": [
       "Evaluating distortion17 (Severity 2):   0%|          | 0/157 [00:00<?, ?it/s]"
      ]
     },
     "metadata": {},
     "output_type": "display_data"
    },
    {
     "name": "stdout",
     "output_type": "stream",
     "text": [
      "distortion17 (Severity 2)\n"
     ]
    },
    {
     "data": {
      "application/vnd.jupyter.widget-view+json": {
       "model_id": "5fe39b9544c3483da71495b75ff991bf",
       "version_major": 2,
       "version_minor": 0
      },
      "text/plain": [
       "Evaluating distortion17 (Severity 3):   0%|          | 0/157 [00:00<?, ?it/s]"
      ]
     },
     "metadata": {},
     "output_type": "display_data"
    },
    {
     "name": "stdout",
     "output_type": "stream",
     "text": [
      "distortion17 (Severity 3)\n"
     ]
    },
    {
     "data": {
      "application/vnd.jupyter.widget-view+json": {
       "model_id": "36d455b3fb05441fbaea958cbf161e5c",
       "version_major": 2,
       "version_minor": 0
      },
      "text/plain": [
       "Evaluating distortion17 (Severity 4):   0%|          | 0/157 [00:00<?, ?it/s]"
      ]
     },
     "metadata": {},
     "output_type": "display_data"
    },
    {
     "name": "stdout",
     "output_type": "stream",
     "text": [
      "distortion17 (Severity 4)\n"
     ]
    },
    {
     "data": {
      "application/vnd.jupyter.widget-view+json": {
       "model_id": "174b2647f3ba4e86a690a765ebb9f93c",
       "version_major": 2,
       "version_minor": 0
      },
      "text/plain": [
       "Evaluating distortion17 (Severity 5):   0%|          | 0/157 [00:00<?, ?it/s]"
      ]
     },
     "metadata": {},
     "output_type": "display_data"
    },
    {
     "name": "stdout",
     "output_type": "stream",
     "text": [
      "distortion17 (Severity 5)\n"
     ]
    },
    {
     "data": {
      "application/vnd.jupyter.widget-view+json": {
       "model_id": "2829eb885e5547f1a1c3a844936fa63a",
       "version_major": 2,
       "version_minor": 0
      },
      "text/plain": [
       "Evaluating distortion18 (Severity 1):   0%|          | 0/157 [00:00<?, ?it/s]"
      ]
     },
     "metadata": {},
     "output_type": "display_data"
    },
    {
     "name": "stdout",
     "output_type": "stream",
     "text": [
      "distortion18 (Severity 1)\n"
     ]
    },
    {
     "data": {
      "application/vnd.jupyter.widget-view+json": {
       "model_id": "a98a18c174d14feb8fa7e4334024784b",
       "version_major": 2,
       "version_minor": 0
      },
      "text/plain": [
       "Evaluating distortion18 (Severity 2):   0%|          | 0/157 [00:00<?, ?it/s]"
      ]
     },
     "metadata": {},
     "output_type": "display_data"
    },
    {
     "name": "stdout",
     "output_type": "stream",
     "text": [
      "distortion18 (Severity 2)\n"
     ]
    },
    {
     "data": {
      "application/vnd.jupyter.widget-view+json": {
       "model_id": "92bd985bc2464bd3a00e69ff6d4000d4",
       "version_major": 2,
       "version_minor": 0
      },
      "text/plain": [
       "Evaluating distortion18 (Severity 3):   0%|          | 0/157 [00:00<?, ?it/s]"
      ]
     },
     "metadata": {},
     "output_type": "display_data"
    },
    {
     "name": "stdout",
     "output_type": "stream",
     "text": [
      "distortion18 (Severity 3)\n"
     ]
    },
    {
     "data": {
      "application/vnd.jupyter.widget-view+json": {
       "model_id": "10509e32855548bcb831fa357e24d028",
       "version_major": 2,
       "version_minor": 0
      },
      "text/plain": [
       "Evaluating distortion18 (Severity 4):   0%|          | 0/157 [00:00<?, ?it/s]"
      ]
     },
     "metadata": {},
     "output_type": "display_data"
    },
    {
     "name": "stdout",
     "output_type": "stream",
     "text": [
      "distortion18 (Severity 4)\n"
     ]
    },
    {
     "data": {
      "application/vnd.jupyter.widget-view+json": {
       "model_id": "4f84a9ba24e64da5bbd1b6d7bae82ba9",
       "version_major": 2,
       "version_minor": 0
      },
      "text/plain": [
       "Evaluating distortion18 (Severity 5):   0%|          | 0/157 [00:00<?, ?it/s]"
      ]
     },
     "metadata": {},
     "output_type": "display_data"
    },
    {
     "name": "stdout",
     "output_type": "stream",
     "text": [
      "distortion18 (Severity 5)\n",
      "submission_ood_part3densenet_ep10.csv created successfully.\n"
     ]
    }
   ],
   "source": [
    "import torch\n",
    "import torch.nn as nn\n",
    "import torch.optim as optim\n",
    "import torchvision\n",
    "import torchvision.transforms as transforms\n",
    "from torchvision import models\n",
    "from tqdm.auto import tqdm\n",
    "import wandb\n",
    "import numpy as np\n",
    "import random\n",
    "import shutil\n",
    "\n",
    "# -----------------------------\n",
    "# Reproducibility\n",
    "# -----------------------------\n",
    "def set_seed(seed):\n",
    "    torch.manual_seed(seed)\n",
    "    np.random.seed(seed)\n",
    "    random.seed(seed)\n",
    "    if torch.cuda.is_available():\n",
    "        torch.cuda.manual_seed_all(seed)\n",
    "\n",
    "# -----------------------------\n",
    "# Training Function\n",
    "# -----------------------------\n",
    "def train(epoch, model, trainloader, optimizer, criterion, CONFIG):\n",
    "    device = CONFIG[\"device\"]\n",
    "    model.train()\n",
    "    running_loss, correct, total = 0.0, 0, 0\n",
    "    progress = tqdm(trainloader, desc=f\"Epoch {epoch+1}/{CONFIG['epochs']} [Train]\", leave=False)\n",
    "\n",
    "    for inputs, labels in progress:\n",
    "        inputs, labels = inputs.to(device), labels.to(device)\n",
    "\n",
    "        optimizer.zero_grad()\n",
    "        outputs = model(inputs)\n",
    "        loss = criterion(outputs, labels)\n",
    "        loss.backward()\n",
    "        optimizer.step()\n",
    "\n",
    "        running_loss += loss.item()\n",
    "        _, predicted = outputs.max(1)\n",
    "        total += labels.size(0)\n",
    "        correct += predicted.eq(labels).sum().item()\n",
    "\n",
    "        progress.set_postfix({\n",
    "            \"loss\": running_loss / (total / CONFIG[\"batch_size\"]),\n",
    "            \"acc\": 100. * correct / total\n",
    "        })\n",
    "\n",
    "    return running_loss / len(trainloader), 100. * correct / total\n",
    "\n",
    "# -----------------------------\n",
    "# Validation Function\n",
    "# -----------------------------\n",
    "def validate(model, valloader, criterion, CONFIG):\n",
    "    device = CONFIG[\"device\"]\n",
    "    model.eval()\n",
    "    running_loss, correct, total = 0.0, 0, 0\n",
    "\n",
    "    with torch.no_grad():\n",
    "        progress = tqdm(valloader, desc=\"[Validate]\", leave=False)\n",
    "        for inputs, labels in progress:\n",
    "            inputs, labels = inputs.to(device), labels.to(device)\n",
    "            outputs = model(inputs)\n",
    "            loss = criterion(outputs, labels)\n",
    "\n",
    "            running_loss += loss.item()\n",
    "            _, predicted = outputs.max(1)\n",
    "            total += labels.size(0)\n",
    "            correct += predicted.eq(labels).sum().item()\n",
    "\n",
    "            progress.set_postfix({\n",
    "                \"loss\": running_loss / (total / CONFIG[\"batch_size\"]),\n",
    "                \"acc\": 100. * correct / total\n",
    "            })\n",
    "\n",
    "    return running_loss / len(valloader), 100. * correct / total\n",
    "\n",
    "# -----------------------------\n",
    "# Main Function\n",
    "# -----------------------------\n",
    "def main():\n",
    "    CONFIG = {\n",
    "        \"model\": \"DenseNet121_Pretrained_FT\",\n",
    "        \"batch_size\": 64,\n",
    "        \"learning_rate\": 0.001,\n",
    "        \"epochs\": 10,\n",
    "        \"num_workers\": 0,\n",
    "        \"device\": \"cuda\" if torch.cuda.is_available() else \"cpu\",\n",
    "        \"data_dir\": \"./data\",\n",
    "        \"ood_dir\": \"./data/ood-test\",\n",
    "        \"wandb_project\": \"sp25-ds542-challenge\",\n",
    "        \"seed\": 42,\n",
    "    }\n",
    "\n",
    "    set_seed(CONFIG[\"seed\"])\n",
    "\n",
    "    # -----------------------------\n",
    "    # Data Transforms (Augmentation)\n",
    "    # -----------------------------\n",
    "    transform_train = transforms.Compose([\n",
    "        transforms.RandomCrop(32, padding=4),\n",
    "        transforms.RandomHorizontalFlip(),\n",
    "        transforms.ColorJitter(brightness=0.2, contrast=0.2, saturation=0.2),\n",
    "        transforms.RandomRotation(10),\n",
    "        transforms.ToTensor(),\n",
    "        transforms.Normalize((0.5071, 0.4865, 0.4409), (0.2673, 0.2564, 0.2762)),\n",
    "    ])\n",
    "    transform_test = transforms.Compose([\n",
    "        transforms.ToTensor(),\n",
    "        transforms.Normalize((0.5071, 0.4865, 0.4409), (0.2673, 0.2564, 0.2762)),\n",
    "    ])\n",
    "\n",
    "    # -----------------------------\n",
    "    # Load CIFAR-100 Dataset\n",
    "    # -----------------------------\n",
    "    trainset_full = torchvision.datasets.CIFAR100(root=CONFIG[\"data_dir\"], train=True, download=True, transform=transform_train)\n",
    "    train_size = int(0.8 * len(trainset_full))\n",
    "    val_size = len(trainset_full) - train_size\n",
    "    trainset, valset = torch.utils.data.random_split(trainset_full, [train_size, val_size])\n",
    "\n",
    "    trainloader = torch.utils.data.DataLoader(trainset, batch_size=CONFIG[\"batch_size\"], shuffle=True, num_workers=CONFIG[\"num_workers\"])\n",
    "    valloader = torch.utils.data.DataLoader(valset, batch_size=CONFIG[\"batch_size\"], shuffle=False, num_workers=CONFIG[\"num_workers\"])\n",
    "    testset = torchvision.datasets.CIFAR100(root=CONFIG[\"data_dir\"], train=False, download=True, transform=transform_test)\n",
    "    testloader = torch.utils.data.DataLoader(testset, batch_size=CONFIG[\"batch_size\"], shuffle=False, num_workers=CONFIG[\"num_workers\"])\n",
    "\n",
    "    # -----------------------------\n",
    "    # Define Model: Pretrained DenseNet121\n",
    "    # -----------------------------\n",
    "    model = models.densenet121(weights=models.DenseNet121_Weights.IMAGENET1K_V1)\n",
    "    model.classifier = nn.Sequential(\n",
    "        nn.Dropout(0.5),\n",
    "        nn.Linear(model.classifier.in_features, 100)\n",
    "    )\n",
    "    model = model.to(CONFIG[\"device\"])\n",
    "\n",
    "    # -----------------------------\n",
    "    # Loss, Optimizer, Scheduler\n",
    "    # -----------------------------\n",
    "    criterion = nn.CrossEntropyLoss(label_smoothing=0.1)\n",
    "    optimizer = optim.AdamW(model.parameters(), lr=CONFIG[\"learning_rate\"], weight_decay=1e-4)\n",
    "    scheduler = optim.lr_scheduler.CosineAnnealingLR(optimizer, T_max=CONFIG[\"epochs\"])\n",
    "\n",
    "    # -----------------------------\n",
    "    # W&B Setup\n",
    "    # -----------------------------\n",
    "    wandb.init(project=CONFIG[\"wandb_project\"], config=CONFIG, name=\"DenseNet121 Ep10\")\n",
    "    wandb.watch(model)\n",
    "\n",
    "    best_val_acc = 0.0\n",
    "    for epoch in range(CONFIG[\"epochs\"]):\n",
    "        train_loss, train_acc = train(epoch, model, trainloader, optimizer, criterion, CONFIG)\n",
    "        val_loss, val_acc = validate(model, valloader, criterion, CONFIG)\n",
    "        scheduler.step()\n",
    "\n",
    "        wandb.log({\n",
    "            \"epoch\": epoch+1,\n",
    "            \"train_loss\": train_loss,\n",
    "            \"train_acc\": train_acc,\n",
    "            \"val_loss\": val_loss,\n",
    "            \"val_acc\": val_acc,\n",
    "            \"lr\": optimizer.param_groups[0][\"lr\"]\n",
    "        })\n",
    "\n",
    "        if val_acc > best_val_acc:\n",
    "            best_val_acc = val_acc\n",
    "            torch.save(model.state_dict(), \"best_model_part3_densenet121_ep10.pth\")\n",
    "            wandb.save(\"best_model_part3_densenet121_ep10.pth\")\n",
    "\n",
    "    wandb.finish()\n",
    "\n",
    "    # -----------------------------\n",
    "    # Evaluation & Submission\n",
    "    # -----------------------------\n",
    "    import eval_cifar100\n",
    "    import eval_ood\n",
    "\n",
    "    shutil.copy(\"best_model_part3_densenet121_ep10.pth\", \"best_model.pth\")\n",
    "\n",
    "    predictions, clean_accuracy = eval_cifar100.evaluate_cifar100_test(model, testloader, CONFIG[\"device\"])\n",
    "    print(f\"Clean CIFAR-100 Test Accuracy: {clean_accuracy:.2f}%\")\n",
    "\n",
    "    all_predictions = eval_ood.evaluate_ood_test(model, CONFIG)\n",
    "    submission_df_ood = eval_ood.create_ood_df(all_predictions)\n",
    "    submission_df_ood.to_csv(\"submission_ood_part3densenet_ep10.csv\", index=False)\n",
    "    print(\"submission_ood_part3densenet_ep10.csv created successfully.\")\n",
    "\n",
    "if __name__ == '__main__':\n",
    "    main()\n"
   ]
  },
  {
   "cell_type": "markdown",
   "id": "fe99c3a5-d2f4-46b3-a8d6-5e564aa3c45d",
   "metadata": {},
   "source": [
    "#### 20 Epochs (continued from pretrained DenseNet121 at Epoch 10)"
   ]
  },
  {
   "cell_type": "code",
   "execution_count": 2,
   "id": "9b08240d-8ee6-4f6c-b96a-230e9f74367c",
   "metadata": {},
   "outputs": [
    {
     "name": "stdout",
     "output_type": "stream",
     "text": [
      "Loaded model weights from: best_model_part3_densenet121_ep10.pth\n"
     ]
    },
    {
     "data": {
      "text/html": [
       "Tracking run with wandb version 0.19.8"
      ],
      "text/plain": [
       "<IPython.core.display.HTML object>"
      ]
     },
     "metadata": {},
     "output_type": "display_data"
    },
    {
     "data": {
      "text/html": [
       "Run data is saved locally in <code>/usr4/dl4ds/samritha/wandb/run-20250329_204527-yvdvqp3c</code>"
      ],
      "text/plain": [
       "<IPython.core.display.HTML object>"
      ]
     },
     "metadata": {},
     "output_type": "display_data"
    },
    {
     "data": {
      "text/html": [
       "Syncing run <strong><a href='https://wandb.ai/samritha-boston-university/sp25-ds542-challenge/runs/yvdvqp3c' target=\"_blank\">DenseNet121 Ep20</a></strong> to <a href='https://wandb.ai/samritha-boston-university/sp25-ds542-challenge' target=\"_blank\">Weights & Biases</a> (<a href='https://wandb.me/developer-guide' target=\"_blank\">docs</a>)<br>"
      ],
      "text/plain": [
       "<IPython.core.display.HTML object>"
      ]
     },
     "metadata": {},
     "output_type": "display_data"
    },
    {
     "data": {
      "text/html": [
       " View project at <a href='https://wandb.ai/samritha-boston-university/sp25-ds542-challenge' target=\"_blank\">https://wandb.ai/samritha-boston-university/sp25-ds542-challenge</a>"
      ],
      "text/plain": [
       "<IPython.core.display.HTML object>"
      ]
     },
     "metadata": {},
     "output_type": "display_data"
    },
    {
     "data": {
      "text/html": [
       " View run at <a href='https://wandb.ai/samritha-boston-university/sp25-ds542-challenge/runs/yvdvqp3c' target=\"_blank\">https://wandb.ai/samritha-boston-university/sp25-ds542-challenge/runs/yvdvqp3c</a>"
      ],
      "text/plain": [
       "<IPython.core.display.HTML object>"
      ]
     },
     "metadata": {},
     "output_type": "display_data"
    },
    {
     "data": {
      "application/vnd.jupyter.widget-view+json": {
       "model_id": "b79ff8a3d5394f7ea28c60c4da7916cb",
       "version_major": 2,
       "version_minor": 0
      },
      "text/plain": [
       "Epoch 11/20 [Train]:   0%|          | 0/625 [00:00<?, ?it/s]"
      ]
     },
     "metadata": {},
     "output_type": "display_data"
    },
    {
     "data": {
      "application/vnd.jupyter.widget-view+json": {
       "model_id": "8853874b703a4a138493823323fb2f11",
       "version_major": 2,
       "version_minor": 0
      },
      "text/plain": [
       "[Validate]:   0%|          | 0/157 [00:00<?, ?it/s]"
      ]
     },
     "metadata": {},
     "output_type": "display_data"
    },
    {
     "data": {
      "application/vnd.jupyter.widget-view+json": {
       "model_id": "24042b7a1a3c4438a1c07f6c193fad5a",
       "version_major": 2,
       "version_minor": 0
      },
      "text/plain": [
       "Epoch 12/20 [Train]:   0%|          | 0/625 [00:00<?, ?it/s]"
      ]
     },
     "metadata": {},
     "output_type": "display_data"
    },
    {
     "data": {
      "application/vnd.jupyter.widget-view+json": {
       "model_id": "41ad655afc4c4911867510f8db642386",
       "version_major": 2,
       "version_minor": 0
      },
      "text/plain": [
       "[Validate]:   0%|          | 0/157 [00:00<?, ?it/s]"
      ]
     },
     "metadata": {},
     "output_type": "display_data"
    },
    {
     "data": {
      "application/vnd.jupyter.widget-view+json": {
       "model_id": "963fc9c7595e4fb393fa340cef661d8f",
       "version_major": 2,
       "version_minor": 0
      },
      "text/plain": [
       "Epoch 13/20 [Train]:   0%|          | 0/625 [00:00<?, ?it/s]"
      ]
     },
     "metadata": {},
     "output_type": "display_data"
    },
    {
     "data": {
      "application/vnd.jupyter.widget-view+json": {
       "model_id": "a9a9b0268b93494bb06535c4b032e014",
       "version_major": 2,
       "version_minor": 0
      },
      "text/plain": [
       "[Validate]:   0%|          | 0/157 [00:00<?, ?it/s]"
      ]
     },
     "metadata": {},
     "output_type": "display_data"
    },
    {
     "data": {
      "application/vnd.jupyter.widget-view+json": {
       "model_id": "3540db986f2f4e77bd9490621c0e15ad",
       "version_major": 2,
       "version_minor": 0
      },
      "text/plain": [
       "Epoch 14/20 [Train]:   0%|          | 0/625 [00:00<?, ?it/s]"
      ]
     },
     "metadata": {},
     "output_type": "display_data"
    },
    {
     "data": {
      "application/vnd.jupyter.widget-view+json": {
       "model_id": "9153f28916074f608eb3c3afab50ba7e",
       "version_major": 2,
       "version_minor": 0
      },
      "text/plain": [
       "[Validate]:   0%|          | 0/157 [00:00<?, ?it/s]"
      ]
     },
     "metadata": {},
     "output_type": "display_data"
    },
    {
     "data": {
      "application/vnd.jupyter.widget-view+json": {
       "model_id": "cceb43916f20413a9e1d2f632306e9ca",
       "version_major": 2,
       "version_minor": 0
      },
      "text/plain": [
       "Epoch 15/20 [Train]:   0%|          | 0/625 [00:00<?, ?it/s]"
      ]
     },
     "metadata": {},
     "output_type": "display_data"
    },
    {
     "data": {
      "application/vnd.jupyter.widget-view+json": {
       "model_id": "33f7f20ac154483eb048c100bea99db8",
       "version_major": 2,
       "version_minor": 0
      },
      "text/plain": [
       "[Validate]:   0%|          | 0/157 [00:00<?, ?it/s]"
      ]
     },
     "metadata": {},
     "output_type": "display_data"
    },
    {
     "data": {
      "application/vnd.jupyter.widget-view+json": {
       "model_id": "dd8a4d8c526f4f658aaf78615001aba8",
       "version_major": 2,
       "version_minor": 0
      },
      "text/plain": [
       "Epoch 16/20 [Train]:   0%|          | 0/625 [00:00<?, ?it/s]"
      ]
     },
     "metadata": {},
     "output_type": "display_data"
    },
    {
     "data": {
      "application/vnd.jupyter.widget-view+json": {
       "model_id": "2d17fefdc56e43ffb6fffc7564b16c6d",
       "version_major": 2,
       "version_minor": 0
      },
      "text/plain": [
       "[Validate]:   0%|          | 0/157 [00:00<?, ?it/s]"
      ]
     },
     "metadata": {},
     "output_type": "display_data"
    },
    {
     "data": {
      "application/vnd.jupyter.widget-view+json": {
       "model_id": "25ee2fe82ecb4f8b9d05013c6bfa8e6f",
       "version_major": 2,
       "version_minor": 0
      },
      "text/plain": [
       "Epoch 17/20 [Train]:   0%|          | 0/625 [00:00<?, ?it/s]"
      ]
     },
     "metadata": {},
     "output_type": "display_data"
    },
    {
     "data": {
      "application/vnd.jupyter.widget-view+json": {
       "model_id": "ad929a2962b842b191bf819298cb1e88",
       "version_major": 2,
       "version_minor": 0
      },
      "text/plain": [
       "[Validate]:   0%|          | 0/157 [00:00<?, ?it/s]"
      ]
     },
     "metadata": {},
     "output_type": "display_data"
    },
    {
     "data": {
      "application/vnd.jupyter.widget-view+json": {
       "model_id": "b1167b8ec46841e9ac4c60a8404e9bbb",
       "version_major": 2,
       "version_minor": 0
      },
      "text/plain": [
       "Epoch 18/20 [Train]:   0%|          | 0/625 [00:00<?, ?it/s]"
      ]
     },
     "metadata": {},
     "output_type": "display_data"
    },
    {
     "data": {
      "application/vnd.jupyter.widget-view+json": {
       "model_id": "d9f0b0fa66a9430394f504d3a7b55b0f",
       "version_major": 2,
       "version_minor": 0
      },
      "text/plain": [
       "[Validate]:   0%|          | 0/157 [00:00<?, ?it/s]"
      ]
     },
     "metadata": {},
     "output_type": "display_data"
    },
    {
     "data": {
      "application/vnd.jupyter.widget-view+json": {
       "model_id": "1e4cde7423e6439a9f3f84ec3d9c4198",
       "version_major": 2,
       "version_minor": 0
      },
      "text/plain": [
       "Epoch 19/20 [Train]:   0%|          | 0/625 [00:00<?, ?it/s]"
      ]
     },
     "metadata": {},
     "output_type": "display_data"
    },
    {
     "data": {
      "application/vnd.jupyter.widget-view+json": {
       "model_id": "31d1072adc7f46988aa0561675b717e2",
       "version_major": 2,
       "version_minor": 0
      },
      "text/plain": [
       "[Validate]:   0%|          | 0/157 [00:00<?, ?it/s]"
      ]
     },
     "metadata": {},
     "output_type": "display_data"
    },
    {
     "data": {
      "application/vnd.jupyter.widget-view+json": {
       "model_id": "1cdd078484e44a6c91b32f1ccc88abd5",
       "version_major": 2,
       "version_minor": 0
      },
      "text/plain": [
       "Epoch 20/20 [Train]:   0%|          | 0/625 [00:00<?, ?it/s]"
      ]
     },
     "metadata": {},
     "output_type": "display_data"
    },
    {
     "data": {
      "application/vnd.jupyter.widget-view+json": {
       "model_id": "6bf91bc63751437ba1eb1f49c404de87",
       "version_major": 2,
       "version_minor": 0
      },
      "text/plain": [
       "[Validate]:   0%|          | 0/157 [00:00<?, ?it/s]"
      ]
     },
     "metadata": {},
     "output_type": "display_data"
    },
    {
     "data": {
      "text/html": [],
      "text/plain": [
       "<IPython.core.display.HTML object>"
      ]
     },
     "metadata": {},
     "output_type": "display_data"
    },
    {
     "data": {
      "text/html": [
       "<br>    <style><br>        .wandb-row {<br>            display: flex;<br>            flex-direction: row;<br>            flex-wrap: wrap;<br>            justify-content: flex-start;<br>            width: 100%;<br>        }<br>        .wandb-col {<br>            display: flex;<br>            flex-direction: column;<br>            flex-basis: 100%;<br>            flex: 1;<br>            padding: 10px;<br>        }<br>    </style><br><div class=\"wandb-row\"><div class=\"wandb-col\"><h3>Run history:</h3><br/><table class=\"wandb\"><tr><td>epoch</td><td>▁▂▃▃▄▅▆▆▇█</td></tr><tr><td>lr</td><td>█▇▇▆▅▃▂▂▁▁</td></tr><tr><td>train_acc</td><td>▂▂▁▃▅▅▆▇██</td></tr><tr><td>train_loss</td><td>▆██▅▄▄▃▂▁▁</td></tr><tr><td>val_acc</td><td>▅▁▅▆▇▇▇███</td></tr><tr><td>val_loss</td><td>▃█▄▃▂▂▁▁▁▁</td></tr></table><br/></div><div class=\"wandb-col\"><h3>Run summary:</h3><br/><table class=\"wandb\"><tr><td>epoch</td><td>20</td></tr><tr><td>lr</td><td>0</td></tr><tr><td>train_acc</td><td>52.975</td></tr><tr><td>train_loss</td><td>2.27871</td></tr><tr><td>val_acc</td><td>49.95</td></tr><tr><td>val_loss</td><td>2.36479</td></tr></table><br/></div></div>"
      ],
      "text/plain": [
       "<IPython.core.display.HTML object>"
      ]
     },
     "metadata": {},
     "output_type": "display_data"
    },
    {
     "data": {
      "text/html": [
       " View run <strong style=\"color:#cdcd00\">DenseNet121 Ep20</strong> at: <a href='https://wandb.ai/samritha-boston-university/sp25-ds542-challenge/runs/yvdvqp3c' target=\"_blank\">https://wandb.ai/samritha-boston-university/sp25-ds542-challenge/runs/yvdvqp3c</a><br> View project at: <a href='https://wandb.ai/samritha-boston-university/sp25-ds542-challenge' target=\"_blank\">https://wandb.ai/samritha-boston-university/sp25-ds542-challenge</a><br>Synced 5 W&B file(s), 0 media file(s), 0 artifact file(s) and 1 other file(s)"
      ],
      "text/plain": [
       "<IPython.core.display.HTML object>"
      ]
     },
     "metadata": {},
     "output_type": "display_data"
    },
    {
     "data": {
      "text/html": [
       "Find logs at: <code>./wandb/run-20250329_204527-yvdvqp3c/logs</code>"
      ],
      "text/plain": [
       "<IPython.core.display.HTML object>"
      ]
     },
     "metadata": {},
     "output_type": "display_data"
    },
    {
     "data": {
      "application/vnd.jupyter.widget-view+json": {
       "model_id": "ed3c4c7e6df64f889380e1a81f765cd5",
       "version_major": 2,
       "version_minor": 0
      },
      "text/plain": [
       "Evaluating on Clean Test Set:   0%|          | 0/157 [00:00<?, ?it/s]"
      ]
     },
     "metadata": {},
     "output_type": "display_data"
    },
    {
     "name": "stdout",
     "output_type": "stream",
     "text": [
      "Clean CIFAR-100 Test Accuracy: 53.37%\n",
      "All files are already downloaded.\n"
     ]
    },
    {
     "data": {
      "application/vnd.jupyter.widget-view+json": {
       "model_id": "252c2c078abd4c609e2c098206bc50fa",
       "version_major": 2,
       "version_minor": 0
      },
      "text/plain": [
       "Evaluating distortion00 (Severity 1):   0%|          | 0/157 [00:00<?, ?it/s]"
      ]
     },
     "metadata": {},
     "output_type": "display_data"
    },
    {
     "name": "stdout",
     "output_type": "stream",
     "text": [
      "distortion00 (Severity 1)\n"
     ]
    },
    {
     "data": {
      "application/vnd.jupyter.widget-view+json": {
       "model_id": "7ab121f2748849e8b4e07484870cac0b",
       "version_major": 2,
       "version_minor": 0
      },
      "text/plain": [
       "Evaluating distortion00 (Severity 2):   0%|          | 0/157 [00:00<?, ?it/s]"
      ]
     },
     "metadata": {},
     "output_type": "display_data"
    },
    {
     "name": "stdout",
     "output_type": "stream",
     "text": [
      "distortion00 (Severity 2)\n"
     ]
    },
    {
     "data": {
      "application/vnd.jupyter.widget-view+json": {
       "model_id": "a8a0347319a04e138eed0a0688c1cb41",
       "version_major": 2,
       "version_minor": 0
      },
      "text/plain": [
       "Evaluating distortion00 (Severity 3):   0%|          | 0/157 [00:00<?, ?it/s]"
      ]
     },
     "metadata": {},
     "output_type": "display_data"
    },
    {
     "name": "stdout",
     "output_type": "stream",
     "text": [
      "distortion00 (Severity 3)\n"
     ]
    },
    {
     "data": {
      "application/vnd.jupyter.widget-view+json": {
       "model_id": "20b4edb17825465288e1b6d1a13ac582",
       "version_major": 2,
       "version_minor": 0
      },
      "text/plain": [
       "Evaluating distortion00 (Severity 4):   0%|          | 0/157 [00:00<?, ?it/s]"
      ]
     },
     "metadata": {},
     "output_type": "display_data"
    },
    {
     "name": "stdout",
     "output_type": "stream",
     "text": [
      "distortion00 (Severity 4)\n"
     ]
    },
    {
     "data": {
      "application/vnd.jupyter.widget-view+json": {
       "model_id": "0d13879aa6344c329a52d5b69cdacaf2",
       "version_major": 2,
       "version_minor": 0
      },
      "text/plain": [
       "Evaluating distortion00 (Severity 5):   0%|          | 0/157 [00:00<?, ?it/s]"
      ]
     },
     "metadata": {},
     "output_type": "display_data"
    },
    {
     "name": "stdout",
     "output_type": "stream",
     "text": [
      "distortion00 (Severity 5)\n"
     ]
    },
    {
     "data": {
      "application/vnd.jupyter.widget-view+json": {
       "model_id": "16441f50379247248bdf797bd646c4b1",
       "version_major": 2,
       "version_minor": 0
      },
      "text/plain": [
       "Evaluating distortion01 (Severity 1):   0%|          | 0/157 [00:00<?, ?it/s]"
      ]
     },
     "metadata": {},
     "output_type": "display_data"
    },
    {
     "name": "stdout",
     "output_type": "stream",
     "text": [
      "distortion01 (Severity 1)\n"
     ]
    },
    {
     "data": {
      "application/vnd.jupyter.widget-view+json": {
       "model_id": "9fbf4d0fcd874f018ac0fa2dcc9e7ea9",
       "version_major": 2,
       "version_minor": 0
      },
      "text/plain": [
       "Evaluating distortion01 (Severity 2):   0%|          | 0/157 [00:00<?, ?it/s]"
      ]
     },
     "metadata": {},
     "output_type": "display_data"
    },
    {
     "name": "stdout",
     "output_type": "stream",
     "text": [
      "distortion01 (Severity 2)\n"
     ]
    },
    {
     "data": {
      "application/vnd.jupyter.widget-view+json": {
       "model_id": "5f823b33dbce4cd2b272d8877db50d3d",
       "version_major": 2,
       "version_minor": 0
      },
      "text/plain": [
       "Evaluating distortion01 (Severity 3):   0%|          | 0/157 [00:00<?, ?it/s]"
      ]
     },
     "metadata": {},
     "output_type": "display_data"
    },
    {
     "name": "stdout",
     "output_type": "stream",
     "text": [
      "distortion01 (Severity 3)\n"
     ]
    },
    {
     "data": {
      "application/vnd.jupyter.widget-view+json": {
       "model_id": "a1ab0f8c8a9b43ca9462a5dec419a020",
       "version_major": 2,
       "version_minor": 0
      },
      "text/plain": [
       "Evaluating distortion01 (Severity 4):   0%|          | 0/157 [00:00<?, ?it/s]"
      ]
     },
     "metadata": {},
     "output_type": "display_data"
    },
    {
     "name": "stdout",
     "output_type": "stream",
     "text": [
      "distortion01 (Severity 4)\n"
     ]
    },
    {
     "data": {
      "application/vnd.jupyter.widget-view+json": {
       "model_id": "612a263db0f24ffca4add809c44f1d72",
       "version_major": 2,
       "version_minor": 0
      },
      "text/plain": [
       "Evaluating distortion01 (Severity 5):   0%|          | 0/157 [00:00<?, ?it/s]"
      ]
     },
     "metadata": {},
     "output_type": "display_data"
    },
    {
     "name": "stdout",
     "output_type": "stream",
     "text": [
      "distortion01 (Severity 5)\n"
     ]
    },
    {
     "data": {
      "application/vnd.jupyter.widget-view+json": {
       "model_id": "3bdc8d5c03db44eaa647056b71310bdc",
       "version_major": 2,
       "version_minor": 0
      },
      "text/plain": [
       "Evaluating distortion02 (Severity 1):   0%|          | 0/157 [00:00<?, ?it/s]"
      ]
     },
     "metadata": {},
     "output_type": "display_data"
    },
    {
     "name": "stdout",
     "output_type": "stream",
     "text": [
      "distortion02 (Severity 1)\n"
     ]
    },
    {
     "data": {
      "application/vnd.jupyter.widget-view+json": {
       "model_id": "5681ecafb0fd477da29ee71b68d84b14",
       "version_major": 2,
       "version_minor": 0
      },
      "text/plain": [
       "Evaluating distortion02 (Severity 2):   0%|          | 0/157 [00:00<?, ?it/s]"
      ]
     },
     "metadata": {},
     "output_type": "display_data"
    },
    {
     "name": "stdout",
     "output_type": "stream",
     "text": [
      "distortion02 (Severity 2)\n"
     ]
    },
    {
     "data": {
      "application/vnd.jupyter.widget-view+json": {
       "model_id": "be81512b3d854d0db0a6c457839314cf",
       "version_major": 2,
       "version_minor": 0
      },
      "text/plain": [
       "Evaluating distortion02 (Severity 3):   0%|          | 0/157 [00:00<?, ?it/s]"
      ]
     },
     "metadata": {},
     "output_type": "display_data"
    },
    {
     "name": "stdout",
     "output_type": "stream",
     "text": [
      "distortion02 (Severity 3)\n"
     ]
    },
    {
     "data": {
      "application/vnd.jupyter.widget-view+json": {
       "model_id": "cfc2ea357d3b43daa28686ac8346993c",
       "version_major": 2,
       "version_minor": 0
      },
      "text/plain": [
       "Evaluating distortion02 (Severity 4):   0%|          | 0/157 [00:00<?, ?it/s]"
      ]
     },
     "metadata": {},
     "output_type": "display_data"
    },
    {
     "name": "stdout",
     "output_type": "stream",
     "text": [
      "distortion02 (Severity 4)\n"
     ]
    },
    {
     "data": {
      "application/vnd.jupyter.widget-view+json": {
       "model_id": "74e1fff22af64187a6b6faee1abe9d46",
       "version_major": 2,
       "version_minor": 0
      },
      "text/plain": [
       "Evaluating distortion02 (Severity 5):   0%|          | 0/157 [00:00<?, ?it/s]"
      ]
     },
     "metadata": {},
     "output_type": "display_data"
    },
    {
     "name": "stdout",
     "output_type": "stream",
     "text": [
      "distortion02 (Severity 5)\n"
     ]
    },
    {
     "data": {
      "application/vnd.jupyter.widget-view+json": {
       "model_id": "21949e64ae554f5594ea887dec460b9b",
       "version_major": 2,
       "version_minor": 0
      },
      "text/plain": [
       "Evaluating distortion03 (Severity 1):   0%|          | 0/157 [00:00<?, ?it/s]"
      ]
     },
     "metadata": {},
     "output_type": "display_data"
    },
    {
     "name": "stdout",
     "output_type": "stream",
     "text": [
      "distortion03 (Severity 1)\n"
     ]
    },
    {
     "data": {
      "application/vnd.jupyter.widget-view+json": {
       "model_id": "01be45d52f95438090b71fd6508fafbf",
       "version_major": 2,
       "version_minor": 0
      },
      "text/plain": [
       "Evaluating distortion03 (Severity 2):   0%|          | 0/157 [00:00<?, ?it/s]"
      ]
     },
     "metadata": {},
     "output_type": "display_data"
    },
    {
     "name": "stdout",
     "output_type": "stream",
     "text": [
      "distortion03 (Severity 2)\n"
     ]
    },
    {
     "data": {
      "application/vnd.jupyter.widget-view+json": {
       "model_id": "fe5f70dceccb4cce9b738f85838ead5f",
       "version_major": 2,
       "version_minor": 0
      },
      "text/plain": [
       "Evaluating distortion03 (Severity 3):   0%|          | 0/157 [00:00<?, ?it/s]"
      ]
     },
     "metadata": {},
     "output_type": "display_data"
    },
    {
     "name": "stdout",
     "output_type": "stream",
     "text": [
      "distortion03 (Severity 3)\n"
     ]
    },
    {
     "data": {
      "application/vnd.jupyter.widget-view+json": {
       "model_id": "bd475508e05b4146907cdc1b68e68896",
       "version_major": 2,
       "version_minor": 0
      },
      "text/plain": [
       "Evaluating distortion03 (Severity 4):   0%|          | 0/157 [00:00<?, ?it/s]"
      ]
     },
     "metadata": {},
     "output_type": "display_data"
    },
    {
     "name": "stdout",
     "output_type": "stream",
     "text": [
      "distortion03 (Severity 4)\n"
     ]
    },
    {
     "data": {
      "application/vnd.jupyter.widget-view+json": {
       "model_id": "d9df88c2aba94e9394a011412fb29670",
       "version_major": 2,
       "version_minor": 0
      },
      "text/plain": [
       "Evaluating distortion03 (Severity 5):   0%|          | 0/157 [00:00<?, ?it/s]"
      ]
     },
     "metadata": {},
     "output_type": "display_data"
    },
    {
     "name": "stdout",
     "output_type": "stream",
     "text": [
      "distortion03 (Severity 5)\n"
     ]
    },
    {
     "data": {
      "application/vnd.jupyter.widget-view+json": {
       "model_id": "3f21de490eb64bbc93de46b96b82eccb",
       "version_major": 2,
       "version_minor": 0
      },
      "text/plain": [
       "Evaluating distortion04 (Severity 1):   0%|          | 0/157 [00:00<?, ?it/s]"
      ]
     },
     "metadata": {},
     "output_type": "display_data"
    },
    {
     "name": "stdout",
     "output_type": "stream",
     "text": [
      "distortion04 (Severity 1)\n"
     ]
    },
    {
     "data": {
      "application/vnd.jupyter.widget-view+json": {
       "model_id": "cdf9c289587c4fda83942074f6062f62",
       "version_major": 2,
       "version_minor": 0
      },
      "text/plain": [
       "Evaluating distortion04 (Severity 2):   0%|          | 0/157 [00:00<?, ?it/s]"
      ]
     },
     "metadata": {},
     "output_type": "display_data"
    },
    {
     "name": "stdout",
     "output_type": "stream",
     "text": [
      "distortion04 (Severity 2)\n"
     ]
    },
    {
     "data": {
      "application/vnd.jupyter.widget-view+json": {
       "model_id": "5b9536b6579f47778513a5c48aaa9a13",
       "version_major": 2,
       "version_minor": 0
      },
      "text/plain": [
       "Evaluating distortion04 (Severity 3):   0%|          | 0/157 [00:00<?, ?it/s]"
      ]
     },
     "metadata": {},
     "output_type": "display_data"
    },
    {
     "name": "stdout",
     "output_type": "stream",
     "text": [
      "distortion04 (Severity 3)\n"
     ]
    },
    {
     "data": {
      "application/vnd.jupyter.widget-view+json": {
       "model_id": "a190b9e766054b58b66f84b50bc56541",
       "version_major": 2,
       "version_minor": 0
      },
      "text/plain": [
       "Evaluating distortion04 (Severity 4):   0%|          | 0/157 [00:00<?, ?it/s]"
      ]
     },
     "metadata": {},
     "output_type": "display_data"
    },
    {
     "name": "stdout",
     "output_type": "stream",
     "text": [
      "distortion04 (Severity 4)\n"
     ]
    },
    {
     "data": {
      "application/vnd.jupyter.widget-view+json": {
       "model_id": "0327641670784feeb0e8e2444aa9f1de",
       "version_major": 2,
       "version_minor": 0
      },
      "text/plain": [
       "Evaluating distortion04 (Severity 5):   0%|          | 0/157 [00:00<?, ?it/s]"
      ]
     },
     "metadata": {},
     "output_type": "display_data"
    },
    {
     "name": "stdout",
     "output_type": "stream",
     "text": [
      "distortion04 (Severity 5)\n"
     ]
    },
    {
     "data": {
      "application/vnd.jupyter.widget-view+json": {
       "model_id": "569e15a769a9455ba095efb01b4da539",
       "version_major": 2,
       "version_minor": 0
      },
      "text/plain": [
       "Evaluating distortion05 (Severity 1):   0%|          | 0/157 [00:00<?, ?it/s]"
      ]
     },
     "metadata": {},
     "output_type": "display_data"
    },
    {
     "name": "stdout",
     "output_type": "stream",
     "text": [
      "distortion05 (Severity 1)\n"
     ]
    },
    {
     "data": {
      "application/vnd.jupyter.widget-view+json": {
       "model_id": "e183ffb563ea4b1ea6ce69f902bd8f62",
       "version_major": 2,
       "version_minor": 0
      },
      "text/plain": [
       "Evaluating distortion05 (Severity 2):   0%|          | 0/157 [00:00<?, ?it/s]"
      ]
     },
     "metadata": {},
     "output_type": "display_data"
    },
    {
     "name": "stdout",
     "output_type": "stream",
     "text": [
      "distortion05 (Severity 2)\n"
     ]
    },
    {
     "data": {
      "application/vnd.jupyter.widget-view+json": {
       "model_id": "e8743ae1393549a3853132fb0067a764",
       "version_major": 2,
       "version_minor": 0
      },
      "text/plain": [
       "Evaluating distortion05 (Severity 3):   0%|          | 0/157 [00:00<?, ?it/s]"
      ]
     },
     "metadata": {},
     "output_type": "display_data"
    },
    {
     "name": "stdout",
     "output_type": "stream",
     "text": [
      "distortion05 (Severity 3)\n"
     ]
    },
    {
     "data": {
      "application/vnd.jupyter.widget-view+json": {
       "model_id": "daf71ebbcc764ace9a5327ba4b6960b3",
       "version_major": 2,
       "version_minor": 0
      },
      "text/plain": [
       "Evaluating distortion05 (Severity 4):   0%|          | 0/157 [00:00<?, ?it/s]"
      ]
     },
     "metadata": {},
     "output_type": "display_data"
    },
    {
     "name": "stdout",
     "output_type": "stream",
     "text": [
      "distortion05 (Severity 4)\n"
     ]
    },
    {
     "data": {
      "application/vnd.jupyter.widget-view+json": {
       "model_id": "1952ac04e5d8466aa9de1142e6970273",
       "version_major": 2,
       "version_minor": 0
      },
      "text/plain": [
       "Evaluating distortion05 (Severity 5):   0%|          | 0/157 [00:00<?, ?it/s]"
      ]
     },
     "metadata": {},
     "output_type": "display_data"
    },
    {
     "name": "stdout",
     "output_type": "stream",
     "text": [
      "distortion05 (Severity 5)\n"
     ]
    },
    {
     "data": {
      "application/vnd.jupyter.widget-view+json": {
       "model_id": "8d679beb715e4b478077f5497cc4b87d",
       "version_major": 2,
       "version_minor": 0
      },
      "text/plain": [
       "Evaluating distortion06 (Severity 1):   0%|          | 0/157 [00:00<?, ?it/s]"
      ]
     },
     "metadata": {},
     "output_type": "display_data"
    },
    {
     "name": "stdout",
     "output_type": "stream",
     "text": [
      "distortion06 (Severity 1)\n"
     ]
    },
    {
     "data": {
      "application/vnd.jupyter.widget-view+json": {
       "model_id": "5a6cc4e638a54469bcdc33fb5d299f89",
       "version_major": 2,
       "version_minor": 0
      },
      "text/plain": [
       "Evaluating distortion06 (Severity 2):   0%|          | 0/157 [00:00<?, ?it/s]"
      ]
     },
     "metadata": {},
     "output_type": "display_data"
    },
    {
     "name": "stdout",
     "output_type": "stream",
     "text": [
      "distortion06 (Severity 2)\n"
     ]
    },
    {
     "data": {
      "application/vnd.jupyter.widget-view+json": {
       "model_id": "68fa7f83220240c9a973e045002b112c",
       "version_major": 2,
       "version_minor": 0
      },
      "text/plain": [
       "Evaluating distortion06 (Severity 3):   0%|          | 0/157 [00:00<?, ?it/s]"
      ]
     },
     "metadata": {},
     "output_type": "display_data"
    },
    {
     "name": "stdout",
     "output_type": "stream",
     "text": [
      "distortion06 (Severity 3)\n"
     ]
    },
    {
     "data": {
      "application/vnd.jupyter.widget-view+json": {
       "model_id": "02725d4d8dbb44f0bc9597e595835875",
       "version_major": 2,
       "version_minor": 0
      },
      "text/plain": [
       "Evaluating distortion06 (Severity 4):   0%|          | 0/157 [00:00<?, ?it/s]"
      ]
     },
     "metadata": {},
     "output_type": "display_data"
    },
    {
     "name": "stdout",
     "output_type": "stream",
     "text": [
      "distortion06 (Severity 4)\n"
     ]
    },
    {
     "data": {
      "application/vnd.jupyter.widget-view+json": {
       "model_id": "2516c3a27e8446f9a031aefc003859bb",
       "version_major": 2,
       "version_minor": 0
      },
      "text/plain": [
       "Evaluating distortion06 (Severity 5):   0%|          | 0/157 [00:00<?, ?it/s]"
      ]
     },
     "metadata": {},
     "output_type": "display_data"
    },
    {
     "name": "stdout",
     "output_type": "stream",
     "text": [
      "distortion06 (Severity 5)\n"
     ]
    },
    {
     "data": {
      "application/vnd.jupyter.widget-view+json": {
       "model_id": "e4529b98e59b4163bcd10ef3723fde98",
       "version_major": 2,
       "version_minor": 0
      },
      "text/plain": [
       "Evaluating distortion07 (Severity 1):   0%|          | 0/157 [00:00<?, ?it/s]"
      ]
     },
     "metadata": {},
     "output_type": "display_data"
    },
    {
     "name": "stdout",
     "output_type": "stream",
     "text": [
      "distortion07 (Severity 1)\n"
     ]
    },
    {
     "data": {
      "application/vnd.jupyter.widget-view+json": {
       "model_id": "ece644b813634802885be2f48abe039f",
       "version_major": 2,
       "version_minor": 0
      },
      "text/plain": [
       "Evaluating distortion07 (Severity 2):   0%|          | 0/157 [00:00<?, ?it/s]"
      ]
     },
     "metadata": {},
     "output_type": "display_data"
    },
    {
     "name": "stdout",
     "output_type": "stream",
     "text": [
      "distortion07 (Severity 2)\n"
     ]
    },
    {
     "data": {
      "application/vnd.jupyter.widget-view+json": {
       "model_id": "c1a358d9a3e6478888629f9a49b30ec2",
       "version_major": 2,
       "version_minor": 0
      },
      "text/plain": [
       "Evaluating distortion07 (Severity 3):   0%|          | 0/157 [00:00<?, ?it/s]"
      ]
     },
     "metadata": {},
     "output_type": "display_data"
    },
    {
     "name": "stdout",
     "output_type": "stream",
     "text": [
      "distortion07 (Severity 3)\n"
     ]
    },
    {
     "data": {
      "application/vnd.jupyter.widget-view+json": {
       "model_id": "642c4abd1a3949cc87b7f785de9a76ae",
       "version_major": 2,
       "version_minor": 0
      },
      "text/plain": [
       "Evaluating distortion07 (Severity 4):   0%|          | 0/157 [00:00<?, ?it/s]"
      ]
     },
     "metadata": {},
     "output_type": "display_data"
    },
    {
     "name": "stdout",
     "output_type": "stream",
     "text": [
      "distortion07 (Severity 4)\n"
     ]
    },
    {
     "data": {
      "application/vnd.jupyter.widget-view+json": {
       "model_id": "818e4b9e8c394ccea23a92457fa7262a",
       "version_major": 2,
       "version_minor": 0
      },
      "text/plain": [
       "Evaluating distortion07 (Severity 5):   0%|          | 0/157 [00:00<?, ?it/s]"
      ]
     },
     "metadata": {},
     "output_type": "display_data"
    },
    {
     "name": "stdout",
     "output_type": "stream",
     "text": [
      "distortion07 (Severity 5)\n"
     ]
    },
    {
     "data": {
      "application/vnd.jupyter.widget-view+json": {
       "model_id": "42b20cdf5f024431acd157d9b1a74327",
       "version_major": 2,
       "version_minor": 0
      },
      "text/plain": [
       "Evaluating distortion08 (Severity 1):   0%|          | 0/157 [00:00<?, ?it/s]"
      ]
     },
     "metadata": {},
     "output_type": "display_data"
    },
    {
     "name": "stdout",
     "output_type": "stream",
     "text": [
      "distortion08 (Severity 1)\n"
     ]
    },
    {
     "data": {
      "application/vnd.jupyter.widget-view+json": {
       "model_id": "99d432d8c44545ed9ebe3ba8db08936b",
       "version_major": 2,
       "version_minor": 0
      },
      "text/plain": [
       "Evaluating distortion08 (Severity 2):   0%|          | 0/157 [00:00<?, ?it/s]"
      ]
     },
     "metadata": {},
     "output_type": "display_data"
    },
    {
     "name": "stdout",
     "output_type": "stream",
     "text": [
      "distortion08 (Severity 2)\n"
     ]
    },
    {
     "data": {
      "application/vnd.jupyter.widget-view+json": {
       "model_id": "0d09d200d1eb4faca7e48527e1810b95",
       "version_major": 2,
       "version_minor": 0
      },
      "text/plain": [
       "Evaluating distortion08 (Severity 3):   0%|          | 0/157 [00:00<?, ?it/s]"
      ]
     },
     "metadata": {},
     "output_type": "display_data"
    },
    {
     "name": "stdout",
     "output_type": "stream",
     "text": [
      "distortion08 (Severity 3)\n"
     ]
    },
    {
     "data": {
      "application/vnd.jupyter.widget-view+json": {
       "model_id": "ac608353ca3a44c08437e09443fb178e",
       "version_major": 2,
       "version_minor": 0
      },
      "text/plain": [
       "Evaluating distortion08 (Severity 4):   0%|          | 0/157 [00:00<?, ?it/s]"
      ]
     },
     "metadata": {},
     "output_type": "display_data"
    },
    {
     "name": "stdout",
     "output_type": "stream",
     "text": [
      "distortion08 (Severity 4)\n"
     ]
    },
    {
     "data": {
      "application/vnd.jupyter.widget-view+json": {
       "model_id": "3266ace225ab4bde8beaa5580d1a3aee",
       "version_major": 2,
       "version_minor": 0
      },
      "text/plain": [
       "Evaluating distortion08 (Severity 5):   0%|          | 0/157 [00:00<?, ?it/s]"
      ]
     },
     "metadata": {},
     "output_type": "display_data"
    },
    {
     "name": "stdout",
     "output_type": "stream",
     "text": [
      "distortion08 (Severity 5)\n"
     ]
    },
    {
     "data": {
      "application/vnd.jupyter.widget-view+json": {
       "model_id": "13dc44d5b85740ce865d30805b990559",
       "version_major": 2,
       "version_minor": 0
      },
      "text/plain": [
       "Evaluating distortion09 (Severity 1):   0%|          | 0/157 [00:00<?, ?it/s]"
      ]
     },
     "metadata": {},
     "output_type": "display_data"
    },
    {
     "name": "stdout",
     "output_type": "stream",
     "text": [
      "distortion09 (Severity 1)\n"
     ]
    },
    {
     "data": {
      "application/vnd.jupyter.widget-view+json": {
       "model_id": "8a18ee802ded4b90aad67425b18ec9e9",
       "version_major": 2,
       "version_minor": 0
      },
      "text/plain": [
       "Evaluating distortion09 (Severity 2):   0%|          | 0/157 [00:00<?, ?it/s]"
      ]
     },
     "metadata": {},
     "output_type": "display_data"
    },
    {
     "name": "stdout",
     "output_type": "stream",
     "text": [
      "distortion09 (Severity 2)\n"
     ]
    },
    {
     "data": {
      "application/vnd.jupyter.widget-view+json": {
       "model_id": "55b2b37ce3f245c9b57d433d2fc14e7c",
       "version_major": 2,
       "version_minor": 0
      },
      "text/plain": [
       "Evaluating distortion09 (Severity 3):   0%|          | 0/157 [00:00<?, ?it/s]"
      ]
     },
     "metadata": {},
     "output_type": "display_data"
    },
    {
     "name": "stdout",
     "output_type": "stream",
     "text": [
      "distortion09 (Severity 3)\n"
     ]
    },
    {
     "data": {
      "application/vnd.jupyter.widget-view+json": {
       "model_id": "b5ebe3dd72864ae5813f4d2ecf99dbd7",
       "version_major": 2,
       "version_minor": 0
      },
      "text/plain": [
       "Evaluating distortion09 (Severity 4):   0%|          | 0/157 [00:00<?, ?it/s]"
      ]
     },
     "metadata": {},
     "output_type": "display_data"
    },
    {
     "name": "stdout",
     "output_type": "stream",
     "text": [
      "distortion09 (Severity 4)\n"
     ]
    },
    {
     "data": {
      "application/vnd.jupyter.widget-view+json": {
       "model_id": "7ca3608caca141b1853bf1ae252fa9e9",
       "version_major": 2,
       "version_minor": 0
      },
      "text/plain": [
       "Evaluating distortion09 (Severity 5):   0%|          | 0/157 [00:00<?, ?it/s]"
      ]
     },
     "metadata": {},
     "output_type": "display_data"
    },
    {
     "name": "stdout",
     "output_type": "stream",
     "text": [
      "distortion09 (Severity 5)\n"
     ]
    },
    {
     "data": {
      "application/vnd.jupyter.widget-view+json": {
       "model_id": "1a80a1921e2a41babc9a58a10d1ea0af",
       "version_major": 2,
       "version_minor": 0
      },
      "text/plain": [
       "Evaluating distortion10 (Severity 1):   0%|          | 0/157 [00:00<?, ?it/s]"
      ]
     },
     "metadata": {},
     "output_type": "display_data"
    },
    {
     "name": "stdout",
     "output_type": "stream",
     "text": [
      "distortion10 (Severity 1)\n"
     ]
    },
    {
     "data": {
      "application/vnd.jupyter.widget-view+json": {
       "model_id": "ace70eca7f294d4296b58ca785012071",
       "version_major": 2,
       "version_minor": 0
      },
      "text/plain": [
       "Evaluating distortion10 (Severity 2):   0%|          | 0/157 [00:00<?, ?it/s]"
      ]
     },
     "metadata": {},
     "output_type": "display_data"
    },
    {
     "name": "stdout",
     "output_type": "stream",
     "text": [
      "distortion10 (Severity 2)\n"
     ]
    },
    {
     "data": {
      "application/vnd.jupyter.widget-view+json": {
       "model_id": "6cf53844aff8445c93c79c5b1a4795b1",
       "version_major": 2,
       "version_minor": 0
      },
      "text/plain": [
       "Evaluating distortion10 (Severity 3):   0%|          | 0/157 [00:00<?, ?it/s]"
      ]
     },
     "metadata": {},
     "output_type": "display_data"
    },
    {
     "name": "stdout",
     "output_type": "stream",
     "text": [
      "distortion10 (Severity 3)\n"
     ]
    },
    {
     "data": {
      "application/vnd.jupyter.widget-view+json": {
       "model_id": "67e76b4720c54a79bd3ab953e0d6187f",
       "version_major": 2,
       "version_minor": 0
      },
      "text/plain": [
       "Evaluating distortion10 (Severity 4):   0%|          | 0/157 [00:00<?, ?it/s]"
      ]
     },
     "metadata": {},
     "output_type": "display_data"
    },
    {
     "name": "stdout",
     "output_type": "stream",
     "text": [
      "distortion10 (Severity 4)\n"
     ]
    },
    {
     "data": {
      "application/vnd.jupyter.widget-view+json": {
       "model_id": "c03032bcbe274f09b4a7225f26dd1389",
       "version_major": 2,
       "version_minor": 0
      },
      "text/plain": [
       "Evaluating distortion10 (Severity 5):   0%|          | 0/157 [00:00<?, ?it/s]"
      ]
     },
     "metadata": {},
     "output_type": "display_data"
    },
    {
     "name": "stdout",
     "output_type": "stream",
     "text": [
      "distortion10 (Severity 5)\n"
     ]
    },
    {
     "data": {
      "application/vnd.jupyter.widget-view+json": {
       "model_id": "6e40f90ef90d4dc48a6c5f000986d68c",
       "version_major": 2,
       "version_minor": 0
      },
      "text/plain": [
       "Evaluating distortion11 (Severity 1):   0%|          | 0/157 [00:00<?, ?it/s]"
      ]
     },
     "metadata": {},
     "output_type": "display_data"
    },
    {
     "name": "stdout",
     "output_type": "stream",
     "text": [
      "distortion11 (Severity 1)\n"
     ]
    },
    {
     "data": {
      "application/vnd.jupyter.widget-view+json": {
       "model_id": "d4994fd8ea744b3bb3c4e9d7f6be92b2",
       "version_major": 2,
       "version_minor": 0
      },
      "text/plain": [
       "Evaluating distortion11 (Severity 2):   0%|          | 0/157 [00:00<?, ?it/s]"
      ]
     },
     "metadata": {},
     "output_type": "display_data"
    },
    {
     "name": "stdout",
     "output_type": "stream",
     "text": [
      "distortion11 (Severity 2)\n"
     ]
    },
    {
     "data": {
      "application/vnd.jupyter.widget-view+json": {
       "model_id": "d63c695a832d4b718fd9e0577385b9d6",
       "version_major": 2,
       "version_minor": 0
      },
      "text/plain": [
       "Evaluating distortion11 (Severity 3):   0%|          | 0/157 [00:00<?, ?it/s]"
      ]
     },
     "metadata": {},
     "output_type": "display_data"
    },
    {
     "name": "stdout",
     "output_type": "stream",
     "text": [
      "distortion11 (Severity 3)\n"
     ]
    },
    {
     "data": {
      "application/vnd.jupyter.widget-view+json": {
       "model_id": "c5a8fb7fecc3458c8360d45bc8fc91f6",
       "version_major": 2,
       "version_minor": 0
      },
      "text/plain": [
       "Evaluating distortion11 (Severity 4):   0%|          | 0/157 [00:00<?, ?it/s]"
      ]
     },
     "metadata": {},
     "output_type": "display_data"
    },
    {
     "name": "stdout",
     "output_type": "stream",
     "text": [
      "distortion11 (Severity 4)\n"
     ]
    },
    {
     "data": {
      "application/vnd.jupyter.widget-view+json": {
       "model_id": "960ff6d03e7a4c09b5444dae5a83caf0",
       "version_major": 2,
       "version_minor": 0
      },
      "text/plain": [
       "Evaluating distortion11 (Severity 5):   0%|          | 0/157 [00:00<?, ?it/s]"
      ]
     },
     "metadata": {},
     "output_type": "display_data"
    },
    {
     "name": "stdout",
     "output_type": "stream",
     "text": [
      "distortion11 (Severity 5)\n"
     ]
    },
    {
     "data": {
      "application/vnd.jupyter.widget-view+json": {
       "model_id": "71eb3b212ee547f09a08beeaa4233195",
       "version_major": 2,
       "version_minor": 0
      },
      "text/plain": [
       "Evaluating distortion12 (Severity 1):   0%|          | 0/157 [00:00<?, ?it/s]"
      ]
     },
     "metadata": {},
     "output_type": "display_data"
    },
    {
     "name": "stdout",
     "output_type": "stream",
     "text": [
      "distortion12 (Severity 1)\n"
     ]
    },
    {
     "data": {
      "application/vnd.jupyter.widget-view+json": {
       "model_id": "93e7a748ad7540f7a05bdfb2853ef10c",
       "version_major": 2,
       "version_minor": 0
      },
      "text/plain": [
       "Evaluating distortion12 (Severity 2):   0%|          | 0/157 [00:00<?, ?it/s]"
      ]
     },
     "metadata": {},
     "output_type": "display_data"
    },
    {
     "name": "stdout",
     "output_type": "stream",
     "text": [
      "distortion12 (Severity 2)\n"
     ]
    },
    {
     "data": {
      "application/vnd.jupyter.widget-view+json": {
       "model_id": "6ee122b24dd641198fa5494aca79ff12",
       "version_major": 2,
       "version_minor": 0
      },
      "text/plain": [
       "Evaluating distortion12 (Severity 3):   0%|          | 0/157 [00:00<?, ?it/s]"
      ]
     },
     "metadata": {},
     "output_type": "display_data"
    },
    {
     "name": "stdout",
     "output_type": "stream",
     "text": [
      "distortion12 (Severity 3)\n"
     ]
    },
    {
     "data": {
      "application/vnd.jupyter.widget-view+json": {
       "model_id": "cd6ee21b343047c0a6a8832949400b5b",
       "version_major": 2,
       "version_minor": 0
      },
      "text/plain": [
       "Evaluating distortion12 (Severity 4):   0%|          | 0/157 [00:00<?, ?it/s]"
      ]
     },
     "metadata": {},
     "output_type": "display_data"
    },
    {
     "name": "stdout",
     "output_type": "stream",
     "text": [
      "distortion12 (Severity 4)\n"
     ]
    },
    {
     "data": {
      "application/vnd.jupyter.widget-view+json": {
       "model_id": "f243bf33d548449fa6844ed126be9c27",
       "version_major": 2,
       "version_minor": 0
      },
      "text/plain": [
       "Evaluating distortion12 (Severity 5):   0%|          | 0/157 [00:00<?, ?it/s]"
      ]
     },
     "metadata": {},
     "output_type": "display_data"
    },
    {
     "name": "stdout",
     "output_type": "stream",
     "text": [
      "distortion12 (Severity 5)\n"
     ]
    },
    {
     "data": {
      "application/vnd.jupyter.widget-view+json": {
       "model_id": "828a5d2535134f278789d2282bfb1f17",
       "version_major": 2,
       "version_minor": 0
      },
      "text/plain": [
       "Evaluating distortion13 (Severity 1):   0%|          | 0/157 [00:00<?, ?it/s]"
      ]
     },
     "metadata": {},
     "output_type": "display_data"
    },
    {
     "name": "stdout",
     "output_type": "stream",
     "text": [
      "distortion13 (Severity 1)\n"
     ]
    },
    {
     "data": {
      "application/vnd.jupyter.widget-view+json": {
       "model_id": "3dbdaa36d73e4dc49afce429045a8228",
       "version_major": 2,
       "version_minor": 0
      },
      "text/plain": [
       "Evaluating distortion13 (Severity 2):   0%|          | 0/157 [00:00<?, ?it/s]"
      ]
     },
     "metadata": {},
     "output_type": "display_data"
    },
    {
     "name": "stdout",
     "output_type": "stream",
     "text": [
      "distortion13 (Severity 2)\n"
     ]
    },
    {
     "data": {
      "application/vnd.jupyter.widget-view+json": {
       "model_id": "bc3dc1287e9c434b8a7e7aff82d0a9a9",
       "version_major": 2,
       "version_minor": 0
      },
      "text/plain": [
       "Evaluating distortion13 (Severity 3):   0%|          | 0/157 [00:00<?, ?it/s]"
      ]
     },
     "metadata": {},
     "output_type": "display_data"
    },
    {
     "name": "stdout",
     "output_type": "stream",
     "text": [
      "distortion13 (Severity 3)\n"
     ]
    },
    {
     "data": {
      "application/vnd.jupyter.widget-view+json": {
       "model_id": "d83ca1fca8454d3ea78bb8ec641016a9",
       "version_major": 2,
       "version_minor": 0
      },
      "text/plain": [
       "Evaluating distortion13 (Severity 4):   0%|          | 0/157 [00:00<?, ?it/s]"
      ]
     },
     "metadata": {},
     "output_type": "display_data"
    },
    {
     "name": "stdout",
     "output_type": "stream",
     "text": [
      "distortion13 (Severity 4)\n"
     ]
    },
    {
     "data": {
      "application/vnd.jupyter.widget-view+json": {
       "model_id": "d250e5f5a0db4b2792f346b8d0ebd394",
       "version_major": 2,
       "version_minor": 0
      },
      "text/plain": [
       "Evaluating distortion13 (Severity 5):   0%|          | 0/157 [00:00<?, ?it/s]"
      ]
     },
     "metadata": {},
     "output_type": "display_data"
    },
    {
     "name": "stdout",
     "output_type": "stream",
     "text": [
      "distortion13 (Severity 5)\n"
     ]
    },
    {
     "data": {
      "application/vnd.jupyter.widget-view+json": {
       "model_id": "4590434b726e4132ab566ee2a4e5e83a",
       "version_major": 2,
       "version_minor": 0
      },
      "text/plain": [
       "Evaluating distortion14 (Severity 1):   0%|          | 0/157 [00:00<?, ?it/s]"
      ]
     },
     "metadata": {},
     "output_type": "display_data"
    },
    {
     "name": "stdout",
     "output_type": "stream",
     "text": [
      "distortion14 (Severity 1)\n"
     ]
    },
    {
     "data": {
      "application/vnd.jupyter.widget-view+json": {
       "model_id": "39a7d625bab44306ac597279dde89d5b",
       "version_major": 2,
       "version_minor": 0
      },
      "text/plain": [
       "Evaluating distortion14 (Severity 2):   0%|          | 0/157 [00:00<?, ?it/s]"
      ]
     },
     "metadata": {},
     "output_type": "display_data"
    },
    {
     "name": "stdout",
     "output_type": "stream",
     "text": [
      "distortion14 (Severity 2)\n"
     ]
    },
    {
     "data": {
      "application/vnd.jupyter.widget-view+json": {
       "model_id": "2230fe48c5c448eea8b94e8ecf1bd543",
       "version_major": 2,
       "version_minor": 0
      },
      "text/plain": [
       "Evaluating distortion14 (Severity 3):   0%|          | 0/157 [00:00<?, ?it/s]"
      ]
     },
     "metadata": {},
     "output_type": "display_data"
    },
    {
     "name": "stdout",
     "output_type": "stream",
     "text": [
      "distortion14 (Severity 3)\n"
     ]
    },
    {
     "data": {
      "application/vnd.jupyter.widget-view+json": {
       "model_id": "2c499edf6c2644e785e8943f650b7075",
       "version_major": 2,
       "version_minor": 0
      },
      "text/plain": [
       "Evaluating distortion14 (Severity 4):   0%|          | 0/157 [00:00<?, ?it/s]"
      ]
     },
     "metadata": {},
     "output_type": "display_data"
    },
    {
     "name": "stdout",
     "output_type": "stream",
     "text": [
      "distortion14 (Severity 4)\n"
     ]
    },
    {
     "data": {
      "application/vnd.jupyter.widget-view+json": {
       "model_id": "707ec5f8b92b40d79778dca2e1e64e90",
       "version_major": 2,
       "version_minor": 0
      },
      "text/plain": [
       "Evaluating distortion14 (Severity 5):   0%|          | 0/157 [00:00<?, ?it/s]"
      ]
     },
     "metadata": {},
     "output_type": "display_data"
    },
    {
     "name": "stdout",
     "output_type": "stream",
     "text": [
      "distortion14 (Severity 5)\n"
     ]
    },
    {
     "data": {
      "application/vnd.jupyter.widget-view+json": {
       "model_id": "cb759c40e26d4105b04d6d5e9879f304",
       "version_major": 2,
       "version_minor": 0
      },
      "text/plain": [
       "Evaluating distortion15 (Severity 1):   0%|          | 0/157 [00:00<?, ?it/s]"
      ]
     },
     "metadata": {},
     "output_type": "display_data"
    },
    {
     "name": "stdout",
     "output_type": "stream",
     "text": [
      "distortion15 (Severity 1)\n"
     ]
    },
    {
     "data": {
      "application/vnd.jupyter.widget-view+json": {
       "model_id": "62010caee4974877a457a5c44dc58525",
       "version_major": 2,
       "version_minor": 0
      },
      "text/plain": [
       "Evaluating distortion15 (Severity 2):   0%|          | 0/157 [00:00<?, ?it/s]"
      ]
     },
     "metadata": {},
     "output_type": "display_data"
    },
    {
     "name": "stdout",
     "output_type": "stream",
     "text": [
      "distortion15 (Severity 2)\n"
     ]
    },
    {
     "data": {
      "application/vnd.jupyter.widget-view+json": {
       "model_id": "67bd619fce6a43b988042ef756d6e9bd",
       "version_major": 2,
       "version_minor": 0
      },
      "text/plain": [
       "Evaluating distortion15 (Severity 3):   0%|          | 0/157 [00:00<?, ?it/s]"
      ]
     },
     "metadata": {},
     "output_type": "display_data"
    },
    {
     "name": "stdout",
     "output_type": "stream",
     "text": [
      "distortion15 (Severity 3)\n"
     ]
    },
    {
     "data": {
      "application/vnd.jupyter.widget-view+json": {
       "model_id": "5e61932b547b4733bef32a3aeb3598ca",
       "version_major": 2,
       "version_minor": 0
      },
      "text/plain": [
       "Evaluating distortion15 (Severity 4):   0%|          | 0/157 [00:00<?, ?it/s]"
      ]
     },
     "metadata": {},
     "output_type": "display_data"
    },
    {
     "name": "stdout",
     "output_type": "stream",
     "text": [
      "distortion15 (Severity 4)\n"
     ]
    },
    {
     "data": {
      "application/vnd.jupyter.widget-view+json": {
       "model_id": "c8a1df8334d74499b8e70f1dba2b6fd0",
       "version_major": 2,
       "version_minor": 0
      },
      "text/plain": [
       "Evaluating distortion15 (Severity 5):   0%|          | 0/157 [00:00<?, ?it/s]"
      ]
     },
     "metadata": {},
     "output_type": "display_data"
    },
    {
     "name": "stdout",
     "output_type": "stream",
     "text": [
      "distortion15 (Severity 5)\n"
     ]
    },
    {
     "data": {
      "application/vnd.jupyter.widget-view+json": {
       "model_id": "2494a42b0658413daeafb32e8bf218e3",
       "version_major": 2,
       "version_minor": 0
      },
      "text/plain": [
       "Evaluating distortion16 (Severity 1):   0%|          | 0/157 [00:00<?, ?it/s]"
      ]
     },
     "metadata": {},
     "output_type": "display_data"
    },
    {
     "name": "stdout",
     "output_type": "stream",
     "text": [
      "distortion16 (Severity 1)\n"
     ]
    },
    {
     "data": {
      "application/vnd.jupyter.widget-view+json": {
       "model_id": "260967abe1d14cfe9dd55b81bd1a1b1e",
       "version_major": 2,
       "version_minor": 0
      },
      "text/plain": [
       "Evaluating distortion16 (Severity 2):   0%|          | 0/157 [00:00<?, ?it/s]"
      ]
     },
     "metadata": {},
     "output_type": "display_data"
    },
    {
     "name": "stdout",
     "output_type": "stream",
     "text": [
      "distortion16 (Severity 2)\n"
     ]
    },
    {
     "data": {
      "application/vnd.jupyter.widget-view+json": {
       "model_id": "83e6675066114fa98fac951f3a9606ef",
       "version_major": 2,
       "version_minor": 0
      },
      "text/plain": [
       "Evaluating distortion16 (Severity 3):   0%|          | 0/157 [00:00<?, ?it/s]"
      ]
     },
     "metadata": {},
     "output_type": "display_data"
    },
    {
     "name": "stdout",
     "output_type": "stream",
     "text": [
      "distortion16 (Severity 3)\n"
     ]
    },
    {
     "data": {
      "application/vnd.jupyter.widget-view+json": {
       "model_id": "abd9e901758d48a39b344414d67aa16f",
       "version_major": 2,
       "version_minor": 0
      },
      "text/plain": [
       "Evaluating distortion16 (Severity 4):   0%|          | 0/157 [00:00<?, ?it/s]"
      ]
     },
     "metadata": {},
     "output_type": "display_data"
    },
    {
     "name": "stdout",
     "output_type": "stream",
     "text": [
      "distortion16 (Severity 4)\n"
     ]
    },
    {
     "data": {
      "application/vnd.jupyter.widget-view+json": {
       "model_id": "013838b575d2406084129ef69ec02f5b",
       "version_major": 2,
       "version_minor": 0
      },
      "text/plain": [
       "Evaluating distortion16 (Severity 5):   0%|          | 0/157 [00:00<?, ?it/s]"
      ]
     },
     "metadata": {},
     "output_type": "display_data"
    },
    {
     "name": "stdout",
     "output_type": "stream",
     "text": [
      "distortion16 (Severity 5)\n"
     ]
    },
    {
     "data": {
      "application/vnd.jupyter.widget-view+json": {
       "model_id": "eea527bdc4ed403594c49bf579d2de7f",
       "version_major": 2,
       "version_minor": 0
      },
      "text/plain": [
       "Evaluating distortion17 (Severity 1):   0%|          | 0/157 [00:00<?, ?it/s]"
      ]
     },
     "metadata": {},
     "output_type": "display_data"
    },
    {
     "name": "stdout",
     "output_type": "stream",
     "text": [
      "distortion17 (Severity 1)\n"
     ]
    },
    {
     "data": {
      "application/vnd.jupyter.widget-view+json": {
       "model_id": "7bb3069c922f4d6da485c0fde9dd4a31",
       "version_major": 2,
       "version_minor": 0
      },
      "text/plain": [
       "Evaluating distortion17 (Severity 2):   0%|          | 0/157 [00:00<?, ?it/s]"
      ]
     },
     "metadata": {},
     "output_type": "display_data"
    },
    {
     "name": "stdout",
     "output_type": "stream",
     "text": [
      "distortion17 (Severity 2)\n"
     ]
    },
    {
     "data": {
      "application/vnd.jupyter.widget-view+json": {
       "model_id": "1e109bcdfac3491a997b10dd85bf6439",
       "version_major": 2,
       "version_minor": 0
      },
      "text/plain": [
       "Evaluating distortion17 (Severity 3):   0%|          | 0/157 [00:00<?, ?it/s]"
      ]
     },
     "metadata": {},
     "output_type": "display_data"
    },
    {
     "name": "stdout",
     "output_type": "stream",
     "text": [
      "distortion17 (Severity 3)\n"
     ]
    },
    {
     "data": {
      "application/vnd.jupyter.widget-view+json": {
       "model_id": "9e1224d3b8b049efbf8e8c4ea03f5e38",
       "version_major": 2,
       "version_minor": 0
      },
      "text/plain": [
       "Evaluating distortion17 (Severity 4):   0%|          | 0/157 [00:00<?, ?it/s]"
      ]
     },
     "metadata": {},
     "output_type": "display_data"
    },
    {
     "name": "stdout",
     "output_type": "stream",
     "text": [
      "distortion17 (Severity 4)\n"
     ]
    },
    {
     "data": {
      "application/vnd.jupyter.widget-view+json": {
       "model_id": "f957ef281709429eab61aa2699920e13",
       "version_major": 2,
       "version_minor": 0
      },
      "text/plain": [
       "Evaluating distortion17 (Severity 5):   0%|          | 0/157 [00:00<?, ?it/s]"
      ]
     },
     "metadata": {},
     "output_type": "display_data"
    },
    {
     "name": "stdout",
     "output_type": "stream",
     "text": [
      "distortion17 (Severity 5)\n"
     ]
    },
    {
     "data": {
      "application/vnd.jupyter.widget-view+json": {
       "model_id": "f1c2a2ca27e04392a4b89577f507fcdf",
       "version_major": 2,
       "version_minor": 0
      },
      "text/plain": [
       "Evaluating distortion18 (Severity 1):   0%|          | 0/157 [00:00<?, ?it/s]"
      ]
     },
     "metadata": {},
     "output_type": "display_data"
    },
    {
     "name": "stdout",
     "output_type": "stream",
     "text": [
      "distortion18 (Severity 1)\n"
     ]
    },
    {
     "data": {
      "application/vnd.jupyter.widget-view+json": {
       "model_id": "f4889a48cde24bb2be1b8050a5b1f080",
       "version_major": 2,
       "version_minor": 0
      },
      "text/plain": [
       "Evaluating distortion18 (Severity 2):   0%|          | 0/157 [00:00<?, ?it/s]"
      ]
     },
     "metadata": {},
     "output_type": "display_data"
    },
    {
     "name": "stdout",
     "output_type": "stream",
     "text": [
      "distortion18 (Severity 2)\n"
     ]
    },
    {
     "data": {
      "application/vnd.jupyter.widget-view+json": {
       "model_id": "d4ad711d98984aaeb18d59a9f2edca55",
       "version_major": 2,
       "version_minor": 0
      },
      "text/plain": [
       "Evaluating distortion18 (Severity 3):   0%|          | 0/157 [00:00<?, ?it/s]"
      ]
     },
     "metadata": {},
     "output_type": "display_data"
    },
    {
     "name": "stdout",
     "output_type": "stream",
     "text": [
      "distortion18 (Severity 3)\n"
     ]
    },
    {
     "data": {
      "application/vnd.jupyter.widget-view+json": {
       "model_id": "ce7c82d344d444ca8bb6f53abec1a944",
       "version_major": 2,
       "version_minor": 0
      },
      "text/plain": [
       "Evaluating distortion18 (Severity 4):   0%|          | 0/157 [00:00<?, ?it/s]"
      ]
     },
     "metadata": {},
     "output_type": "display_data"
    },
    {
     "name": "stdout",
     "output_type": "stream",
     "text": [
      "distortion18 (Severity 4)\n"
     ]
    },
    {
     "data": {
      "application/vnd.jupyter.widget-view+json": {
       "model_id": "c2351b8165ab46dea6256b8741ea1ea2",
       "version_major": 2,
       "version_minor": 0
      },
      "text/plain": [
       "Evaluating distortion18 (Severity 5):   0%|          | 0/157 [00:00<?, ?it/s]"
      ]
     },
     "metadata": {},
     "output_type": "display_data"
    },
    {
     "name": "stdout",
     "output_type": "stream",
     "text": [
      "distortion18 (Severity 5)\n",
      "submission_ood_part3densenet_ep20.csv created successfully.\n"
     ]
    }
   ],
   "source": [
    "import torch\n",
    "import torch.nn as nn\n",
    "import torch.optim as optim\n",
    "import torchvision\n",
    "import torchvision.transforms as transforms\n",
    "from torchvision import models\n",
    "from tqdm.auto import tqdm\n",
    "import wandb\n",
    "import numpy as np\n",
    "import random\n",
    "import shutil\n",
    "\n",
    "# -----------------------------\n",
    "# Reproducibility\n",
    "# -----------------------------\n",
    "def set_seed(seed):\n",
    "    torch.manual_seed(seed)\n",
    "    np.random.seed(seed)\n",
    "    random.seed(seed)\n",
    "    if torch.cuda.is_available():\n",
    "        torch.cuda.manual_seed_all(seed)\n",
    "\n",
    "# -----------------------------\n",
    "# Training Function\n",
    "# -----------------------------\n",
    "def train(epoch, model, trainloader, optimizer, criterion, CONFIG):\n",
    "    device = CONFIG[\"device\"]\n",
    "    model.train()\n",
    "    running_loss, correct, total = 0.0, 0, 0\n",
    "    progress = tqdm(trainloader, desc=f\"Epoch {epoch+11}/20 [Train]\", leave=False)\n",
    "\n",
    "    for inputs, labels in progress:\n",
    "        inputs, labels = inputs.to(device), labels.to(device)\n",
    "\n",
    "        optimizer.zero_grad()\n",
    "        outputs = model(inputs)\n",
    "        loss = criterion(outputs, labels)\n",
    "        loss.backward()\n",
    "        optimizer.step()\n",
    "\n",
    "        running_loss += loss.item()\n",
    "        _, predicted = outputs.max(1)\n",
    "        total += labels.size(0)\n",
    "        correct += predicted.eq(labels).sum().item()\n",
    "\n",
    "        progress.set_postfix({\n",
    "            \"loss\": running_loss / (total / CONFIG[\"batch_size\"]),\n",
    "            \"acc\": 100. * correct / total\n",
    "        })\n",
    "\n",
    "    return running_loss / len(trainloader), 100. * correct / total\n",
    "\n",
    "# -----------------------------\n",
    "# Validation Function\n",
    "# -----------------------------\n",
    "def validate(model, valloader, criterion, CONFIG):\n",
    "    device = CONFIG[\"device\"]\n",
    "    model.eval()\n",
    "    running_loss, correct, total = 0.0, 0, 0\n",
    "\n",
    "    with torch.no_grad():\n",
    "        progress = tqdm(valloader, desc=\"[Validate]\", leave=False)\n",
    "        for inputs, labels in progress:\n",
    "            inputs, labels = inputs.to(device), labels.to(device)\n",
    "            outputs = model(inputs)\n",
    "            loss = criterion(outputs, labels)\n",
    "\n",
    "            running_loss += loss.item()\n",
    "            _, predicted = outputs.max(1)\n",
    "            total += labels.size(0)\n",
    "            correct += predicted.eq(labels).sum().item()\n",
    "\n",
    "            progress.set_postfix({\n",
    "                \"loss\": running_loss / (total / CONFIG[\"batch_size\"]),\n",
    "                \"acc\": 100. * correct / total\n",
    "            })\n",
    "\n",
    "    return running_loss / len(valloader), 100. * correct / total\n",
    "\n",
    "# -----------------------------\n",
    "# Main Function\n",
    "# -----------------------------\n",
    "def main():\n",
    "    CONFIG = {\n",
    "        \"model\": \"DenseNet121_Pretrained_FT\",\n",
    "        \"batch_size\": 64,\n",
    "        \"learning_rate\": 0.001,\n",
    "        \"epochs\": 10,\n",
    "        \"num_workers\": 0,\n",
    "        \"device\": \"cuda\" if torch.cuda.is_available() else \"cpu\",\n",
    "        \"data_dir\": \"./data\",\n",
    "        \"ood_dir\": \"./data/ood-test\",\n",
    "        \"wandb_project\": \"sp25-ds542-challenge\",\n",
    "        \"seed\": 42,\n",
    "    }\n",
    "\n",
    "    set_seed(CONFIG[\"seed\"])\n",
    "\n",
    "    # -----------------------------\n",
    "    # Data Transforms (Augmentation)\n",
    "    # -----------------------------\n",
    "    transform_train = transforms.Compose([\n",
    "        transforms.RandomCrop(32, padding=4),\n",
    "        transforms.RandomHorizontalFlip(),\n",
    "        transforms.ColorJitter(brightness=0.2, contrast=0.2, saturation=0.2),\n",
    "        transforms.RandomRotation(10),\n",
    "        transforms.ToTensor(),\n",
    "        transforms.Normalize((0.5071, 0.4865, 0.4409), (0.2673, 0.2564, 0.2762)),\n",
    "    ])\n",
    "    transform_test = transforms.Compose([\n",
    "        transforms.ToTensor(),\n",
    "        transforms.Normalize((0.5071, 0.4865, 0.4409), (0.2673, 0.2564, 0.2762)),\n",
    "    ])\n",
    "\n",
    "    # -----------------------------\n",
    "    # Load CIFAR-100 Dataset\n",
    "    # -----------------------------\n",
    "    trainset_full = torchvision.datasets.CIFAR100(root=CONFIG[\"data_dir\"], train=True, download=True, transform=transform_train)\n",
    "    train_size = int(0.8 * len(trainset_full))\n",
    "    val_size = len(trainset_full) - train_size\n",
    "    trainset, valset = torch.utils.data.random_split(trainset_full, [train_size, val_size])\n",
    "\n",
    "    trainloader = torch.utils.data.DataLoader(trainset, batch_size=CONFIG[\"batch_size\"], shuffle=True, num_workers=CONFIG[\"num_workers\"])\n",
    "    valloader = torch.utils.data.DataLoader(valset, batch_size=CONFIG[\"batch_size\"], shuffle=False, num_workers=CONFIG[\"num_workers\"])\n",
    "    testset = torchvision.datasets.CIFAR100(root=CONFIG[\"data_dir\"], train=False, download=True, transform=transform_test)\n",
    "    testloader = torch.utils.data.DataLoader(testset, batch_size=CONFIG[\"batch_size\"], shuffle=False, num_workers=CONFIG[\"num_workers\"])\n",
    "\n",
    "    # -----------------------------\n",
    "    # Define Model & Load Checkpoint\n",
    "    # -----------------------------\n",
    "    model = models.densenet121(weights=models.DenseNet121_Weights.IMAGENET1K_V1)\n",
    "    model.classifier = nn.Sequential(\n",
    "        nn.Dropout(0.5),\n",
    "        nn.Linear(model.classifier.in_features, 100)\n",
    "    )\n",
    "    model = model.to(CONFIG[\"device\"])\n",
    "\n",
    "    checkpoint_path = \"best_model_part3_densenet121_ep10.pth\"\n",
    "    model.load_state_dict(torch.load(checkpoint_path, map_location=CONFIG[\"device\"]))\n",
    "    print(f\"Loaded model weights from: {checkpoint_path}\")\n",
    "\n",
    "    # -----------------------------\n",
    "    # Re-Init Optimizer & Scheduler for Fine-tune Phase 2\n",
    "    # -----------------------------\n",
    "    criterion = nn.CrossEntropyLoss(label_smoothing=0.1)\n",
    "    optimizer = optim.AdamW(model.parameters(), lr=CONFIG[\"learning_rate\"], weight_decay=1e-4)\n",
    "    scheduler = optim.lr_scheduler.CosineAnnealingLR(optimizer, T_max=CONFIG[\"epochs\"])\n",
    "\n",
    "    # -----------------------------\n",
    "    # W&B New Fine-Tuning Run\n",
    "    # -----------------------------\n",
    "    wandb.init(project=CONFIG[\"wandb_project\"], config=CONFIG, name=\"DenseNet121 Ep20\")\n",
    "    wandb.watch(model)\n",
    "\n",
    "    best_val_acc = 0.0\n",
    "    for epoch in range(CONFIG[\"epochs\"]):\n",
    "        train_loss, train_acc = train(epoch, model, trainloader, optimizer, criterion, CONFIG)\n",
    "        val_loss, val_acc = validate(model, valloader, criterion, CONFIG)\n",
    "        scheduler.step()\n",
    "\n",
    "        wandb.log({\n",
    "            \"epoch\": epoch + 11,\n",
    "            \"train_loss\": train_loss,\n",
    "            \"train_acc\": train_acc,\n",
    "            \"val_loss\": val_loss,\n",
    "            \"val_acc\": val_acc,\n",
    "            \"lr\": optimizer.param_groups[0][\"lr\"]\n",
    "        })\n",
    "\n",
    "        if val_acc > best_val_acc:\n",
    "            best_val_acc = val_acc\n",
    "            torch.save(model.state_dict(), \"best_model_part3_densenet121_ep20.pth\")\n",
    "            wandb.save(\"best_model_part3_densenet121_ep20.pth\")\n",
    "\n",
    "    wandb.finish()\n",
    "\n",
    "    # -----------------------------\n",
    "    # Evaluation & Submission\n",
    "    # -----------------------------\n",
    "    import eval_cifar100\n",
    "    import eval_ood\n",
    "\n",
    "    shutil.copy(\"best_model_part3_densenet121_ep20.pth\", \"best_model.pth\")\n",
    "\n",
    "    predictions, clean_accuracy = eval_cifar100.evaluate_cifar100_test(model, testloader, CONFIG[\"device\"])\n",
    "    print(f\"Clean CIFAR-100 Test Accuracy: {clean_accuracy:.2f}%\")\n",
    "\n",
    "    all_predictions = eval_ood.evaluate_ood_test(model, CONFIG)\n",
    "    submission_df_ood = eval_ood.create_ood_df(all_predictions)\n",
    "    submission_df_ood.to_csv(\"submission_ood_part3densenet_ep20.csv\", index=False)\n",
    "    print(\"submission_ood_part3densenet_ep20.csv created successfully.\")\n",
    "\n",
    "if __name__ == '__main__':\n",
    "    main()\n"
   ]
  },
  {
   "cell_type": "markdown",
   "id": "55979d3b-ca29-487a-8646-06667a45e007",
   "metadata": {},
   "source": [
    "#### 30 Epochs (continued from pretrained DenseNet121 at Epoch 20)"
   ]
  },
  {
   "cell_type": "code",
   "execution_count": 3,
   "id": "29ecdd17-710b-498c-b263-1993958a899c",
   "metadata": {},
   "outputs": [
    {
     "name": "stdout",
     "output_type": "stream",
     "text": [
      "Loaded model weights from: best_model_part3_densenet121_ep20.pth\n"
     ]
    },
    {
     "data": {
      "text/html": [
       "Tracking run with wandb version 0.19.8"
      ],
      "text/plain": [
       "<IPython.core.display.HTML object>"
      ]
     },
     "metadata": {},
     "output_type": "display_data"
    },
    {
     "data": {
      "text/html": [
       "Run data is saved locally in <code>/usr4/dl4ds/samritha/wandb/run-20250329_205853-0wy7a72r</code>"
      ],
      "text/plain": [
       "<IPython.core.display.HTML object>"
      ]
     },
     "metadata": {},
     "output_type": "display_data"
    },
    {
     "data": {
      "text/html": [
       "Syncing run <strong><a href='https://wandb.ai/samritha-boston-university/sp25-ds542-challenge/runs/0wy7a72r' target=\"_blank\">DenseNet121 Ep30</a></strong> to <a href='https://wandb.ai/samritha-boston-university/sp25-ds542-challenge' target=\"_blank\">Weights & Biases</a> (<a href='https://wandb.me/developer-guide' target=\"_blank\">docs</a>)<br>"
      ],
      "text/plain": [
       "<IPython.core.display.HTML object>"
      ]
     },
     "metadata": {},
     "output_type": "display_data"
    },
    {
     "data": {
      "text/html": [
       " View project at <a href='https://wandb.ai/samritha-boston-university/sp25-ds542-challenge' target=\"_blank\">https://wandb.ai/samritha-boston-university/sp25-ds542-challenge</a>"
      ],
      "text/plain": [
       "<IPython.core.display.HTML object>"
      ]
     },
     "metadata": {},
     "output_type": "display_data"
    },
    {
     "data": {
      "text/html": [
       " View run at <a href='https://wandb.ai/samritha-boston-university/sp25-ds542-challenge/runs/0wy7a72r' target=\"_blank\">https://wandb.ai/samritha-boston-university/sp25-ds542-challenge/runs/0wy7a72r</a>"
      ],
      "text/plain": [
       "<IPython.core.display.HTML object>"
      ]
     },
     "metadata": {},
     "output_type": "display_data"
    },
    {
     "data": {
      "application/vnd.jupyter.widget-view+json": {
       "model_id": "5b00ee878bd84b0aa0b88f2f05f9148f",
       "version_major": 2,
       "version_minor": 0
      },
      "text/plain": [
       "Epoch 21/30 [Train]:   0%|          | 0/625 [00:00<?, ?it/s]"
      ]
     },
     "metadata": {},
     "output_type": "display_data"
    },
    {
     "data": {
      "application/vnd.jupyter.widget-view+json": {
       "model_id": "ff61ed8ae3264615a3dea62211c06e3a",
       "version_major": 2,
       "version_minor": 0
      },
      "text/plain": [
       "[Validate]:   0%|          | 0/157 [00:00<?, ?it/s]"
      ]
     },
     "metadata": {},
     "output_type": "display_data"
    },
    {
     "data": {
      "application/vnd.jupyter.widget-view+json": {
       "model_id": "3633f6a5c3a3472dacf4fcca1d8de21d",
       "version_major": 2,
       "version_minor": 0
      },
      "text/plain": [
       "Epoch 22/30 [Train]:   0%|          | 0/625 [00:00<?, ?it/s]"
      ]
     },
     "metadata": {},
     "output_type": "display_data"
    },
    {
     "data": {
      "application/vnd.jupyter.widget-view+json": {
       "model_id": "757cb2f7d2594827b68f9e7711bc339e",
       "version_major": 2,
       "version_minor": 0
      },
      "text/plain": [
       "[Validate]:   0%|          | 0/157 [00:00<?, ?it/s]"
      ]
     },
     "metadata": {},
     "output_type": "display_data"
    },
    {
     "data": {
      "application/vnd.jupyter.widget-view+json": {
       "model_id": "38642ed0e8b448859adae2fd84194d18",
       "version_major": 2,
       "version_minor": 0
      },
      "text/plain": [
       "Epoch 23/30 [Train]:   0%|          | 0/625 [00:00<?, ?it/s]"
      ]
     },
     "metadata": {},
     "output_type": "display_data"
    },
    {
     "data": {
      "application/vnd.jupyter.widget-view+json": {
       "model_id": "60831af4901a482087a254d295e0d25f",
       "version_major": 2,
       "version_minor": 0
      },
      "text/plain": [
       "[Validate]:   0%|          | 0/157 [00:00<?, ?it/s]"
      ]
     },
     "metadata": {},
     "output_type": "display_data"
    },
    {
     "data": {
      "application/vnd.jupyter.widget-view+json": {
       "model_id": "3571d296ea3e475489cc3a204c27505d",
       "version_major": 2,
       "version_minor": 0
      },
      "text/plain": [
       "Epoch 24/30 [Train]:   0%|          | 0/625 [00:00<?, ?it/s]"
      ]
     },
     "metadata": {},
     "output_type": "display_data"
    },
    {
     "data": {
      "application/vnd.jupyter.widget-view+json": {
       "model_id": "2e5d91923cf94739a932030638348497",
       "version_major": 2,
       "version_minor": 0
      },
      "text/plain": [
       "[Validate]:   0%|          | 0/157 [00:00<?, ?it/s]"
      ]
     },
     "metadata": {},
     "output_type": "display_data"
    },
    {
     "data": {
      "application/vnd.jupyter.widget-view+json": {
       "model_id": "691fb5566ef24a4f99814bdabf64be0a",
       "version_major": 2,
       "version_minor": 0
      },
      "text/plain": [
       "Epoch 25/30 [Train]:   0%|          | 0/625 [00:00<?, ?it/s]"
      ]
     },
     "metadata": {},
     "output_type": "display_data"
    },
    {
     "data": {
      "application/vnd.jupyter.widget-view+json": {
       "model_id": "be80235c46d049f9bcc03ad38137f281",
       "version_major": 2,
       "version_minor": 0
      },
      "text/plain": [
       "[Validate]:   0%|          | 0/157 [00:00<?, ?it/s]"
      ]
     },
     "metadata": {},
     "output_type": "display_data"
    },
    {
     "data": {
      "application/vnd.jupyter.widget-view+json": {
       "model_id": "18808afc16344f7b953642956be825ae",
       "version_major": 2,
       "version_minor": 0
      },
      "text/plain": [
       "Epoch 26/30 [Train]:   0%|          | 0/625 [00:00<?, ?it/s]"
      ]
     },
     "metadata": {},
     "output_type": "display_data"
    },
    {
     "data": {
      "application/vnd.jupyter.widget-view+json": {
       "model_id": "f2e39dec06404f2a8d37fcace7d95c7c",
       "version_major": 2,
       "version_minor": 0
      },
      "text/plain": [
       "[Validate]:   0%|          | 0/157 [00:00<?, ?it/s]"
      ]
     },
     "metadata": {},
     "output_type": "display_data"
    },
    {
     "data": {
      "application/vnd.jupyter.widget-view+json": {
       "model_id": "626fa2e2e416464ea9567fe0033963f0",
       "version_major": 2,
       "version_minor": 0
      },
      "text/plain": [
       "Epoch 27/30 [Train]:   0%|          | 0/625 [00:00<?, ?it/s]"
      ]
     },
     "metadata": {},
     "output_type": "display_data"
    },
    {
     "data": {
      "application/vnd.jupyter.widget-view+json": {
       "model_id": "2075143baadd4095aea86bddea1bca2b",
       "version_major": 2,
       "version_minor": 0
      },
      "text/plain": [
       "[Validate]:   0%|          | 0/157 [00:00<?, ?it/s]"
      ]
     },
     "metadata": {},
     "output_type": "display_data"
    },
    {
     "data": {
      "application/vnd.jupyter.widget-view+json": {
       "model_id": "0a01b52c3ffd4ccc8754a3d2859709b0",
       "version_major": 2,
       "version_minor": 0
      },
      "text/plain": [
       "Epoch 28/30 [Train]:   0%|          | 0/625 [00:00<?, ?it/s]"
      ]
     },
     "metadata": {},
     "output_type": "display_data"
    },
    {
     "data": {
      "application/vnd.jupyter.widget-view+json": {
       "model_id": "584a7a53a903400cb51142e7c1735bec",
       "version_major": 2,
       "version_minor": 0
      },
      "text/plain": [
       "[Validate]:   0%|          | 0/157 [00:00<?, ?it/s]"
      ]
     },
     "metadata": {},
     "output_type": "display_data"
    },
    {
     "data": {
      "application/vnd.jupyter.widget-view+json": {
       "model_id": "cff81c4108934a39b866917d3823bd7a",
       "version_major": 2,
       "version_minor": 0
      },
      "text/plain": [
       "Epoch 29/30 [Train]:   0%|          | 0/625 [00:00<?, ?it/s]"
      ]
     },
     "metadata": {},
     "output_type": "display_data"
    },
    {
     "data": {
      "application/vnd.jupyter.widget-view+json": {
       "model_id": "fa5c641efee9448d8928abb060b00e2a",
       "version_major": 2,
       "version_minor": 0
      },
      "text/plain": [
       "[Validate]:   0%|          | 0/157 [00:00<?, ?it/s]"
      ]
     },
     "metadata": {},
     "output_type": "display_data"
    },
    {
     "data": {
      "application/vnd.jupyter.widget-view+json": {
       "model_id": "27e5dcd0932b4cb2902de172f38395f5",
       "version_major": 2,
       "version_minor": 0
      },
      "text/plain": [
       "Epoch 30/30 [Train]:   0%|          | 0/625 [00:00<?, ?it/s]"
      ]
     },
     "metadata": {},
     "output_type": "display_data"
    },
    {
     "data": {
      "application/vnd.jupyter.widget-view+json": {
       "model_id": "0a74489685824b9985c576170c14b0fe",
       "version_major": 2,
       "version_minor": 0
      },
      "text/plain": [
       "[Validate]:   0%|          | 0/157 [00:00<?, ?it/s]"
      ]
     },
     "metadata": {},
     "output_type": "display_data"
    },
    {
     "data": {
      "text/html": [],
      "text/plain": [
       "<IPython.core.display.HTML object>"
      ]
     },
     "metadata": {},
     "output_type": "display_data"
    },
    {
     "data": {
      "text/html": [
       "<br>    <style><br>        .wandb-row {<br>            display: flex;<br>            flex-direction: row;<br>            flex-wrap: wrap;<br>            justify-content: flex-start;<br>            width: 100%;<br>        }<br>        .wandb-col {<br>            display: flex;<br>            flex-direction: column;<br>            flex-basis: 100%;<br>            flex: 1;<br>            padding: 10px;<br>        }<br>    </style><br><div class=\"wandb-row\"><div class=\"wandb-col\"><h3>Run history:</h3><br/><table class=\"wandb\"><tr><td>epoch</td><td>▁▂▃▃▄▅▆▆▇█</td></tr><tr><td>lr</td><td>█▇▇▆▅▃▂▂▁▁</td></tr><tr><td>train_acc</td><td>▁▁▁▂▅▄▆▇██</td></tr><tr><td>train_loss</td><td>▇██▇▄▅▃▂▁▁</td></tr><tr><td>val_acc</td><td>▁▅▅▅▆▆▇███</td></tr><tr><td>val_loss</td><td>█▄▄▃▃▃▁▁▁▁</td></tr></table><br/></div><div class=\"wandb-col\"><h3>Run summary:</h3><br/><table class=\"wandb\"><tr><td>epoch</td><td>30</td></tr><tr><td>lr</td><td>0</td></tr><tr><td>train_acc</td><td>57.295</td></tr><tr><td>train_loss</td><td>2.14188</td></tr><tr><td>val_acc</td><td>52.3</td></tr><tr><td>val_loss</td><td>2.29802</td></tr></table><br/></div></div>"
      ],
      "text/plain": [
       "<IPython.core.display.HTML object>"
      ]
     },
     "metadata": {},
     "output_type": "display_data"
    },
    {
     "data": {
      "text/html": [
       " View run <strong style=\"color:#cdcd00\">DenseNet121 Ep30</strong> at: <a href='https://wandb.ai/samritha-boston-university/sp25-ds542-challenge/runs/0wy7a72r' target=\"_blank\">https://wandb.ai/samritha-boston-university/sp25-ds542-challenge/runs/0wy7a72r</a><br> View project at: <a href='https://wandb.ai/samritha-boston-university/sp25-ds542-challenge' target=\"_blank\">https://wandb.ai/samritha-boston-university/sp25-ds542-challenge</a><br>Synced 5 W&B file(s), 0 media file(s), 0 artifact file(s) and 1 other file(s)"
      ],
      "text/plain": [
       "<IPython.core.display.HTML object>"
      ]
     },
     "metadata": {},
     "output_type": "display_data"
    },
    {
     "data": {
      "text/html": [
       "Find logs at: <code>./wandb/run-20250329_205853-0wy7a72r/logs</code>"
      ],
      "text/plain": [
       "<IPython.core.display.HTML object>"
      ]
     },
     "metadata": {},
     "output_type": "display_data"
    },
    {
     "data": {
      "application/vnd.jupyter.widget-view+json": {
       "model_id": "54f8aa5726a64749aa7cac0477ad90c4",
       "version_major": 2,
       "version_minor": 0
      },
      "text/plain": [
       "Evaluating on Clean Test Set:   0%|          | 0/157 [00:00<?, ?it/s]"
      ]
     },
     "metadata": {},
     "output_type": "display_data"
    },
    {
     "name": "stdout",
     "output_type": "stream",
     "text": [
      "Clean CIFAR-100 Test Accuracy: 55.57%\n",
      "All files are already downloaded.\n"
     ]
    },
    {
     "data": {
      "application/vnd.jupyter.widget-view+json": {
       "model_id": "a45b06ff842b4e15934e12d048bdb663",
       "version_major": 2,
       "version_minor": 0
      },
      "text/plain": [
       "Evaluating distortion00 (Severity 1):   0%|          | 0/157 [00:00<?, ?it/s]"
      ]
     },
     "metadata": {},
     "output_type": "display_data"
    },
    {
     "name": "stdout",
     "output_type": "stream",
     "text": [
      "distortion00 (Severity 1)\n"
     ]
    },
    {
     "data": {
      "application/vnd.jupyter.widget-view+json": {
       "model_id": "87c74d37f01e40ef804a8781a0b59947",
       "version_major": 2,
       "version_minor": 0
      },
      "text/plain": [
       "Evaluating distortion00 (Severity 2):   0%|          | 0/157 [00:00<?, ?it/s]"
      ]
     },
     "metadata": {},
     "output_type": "display_data"
    },
    {
     "name": "stdout",
     "output_type": "stream",
     "text": [
      "distortion00 (Severity 2)\n"
     ]
    },
    {
     "data": {
      "application/vnd.jupyter.widget-view+json": {
       "model_id": "255fa127f5cc4be991d21ca5622d2eae",
       "version_major": 2,
       "version_minor": 0
      },
      "text/plain": [
       "Evaluating distortion00 (Severity 3):   0%|          | 0/157 [00:00<?, ?it/s]"
      ]
     },
     "metadata": {},
     "output_type": "display_data"
    },
    {
     "name": "stdout",
     "output_type": "stream",
     "text": [
      "distortion00 (Severity 3)\n"
     ]
    },
    {
     "data": {
      "application/vnd.jupyter.widget-view+json": {
       "model_id": "9fa8f55a0ee84b6a8d7ce88eaec06605",
       "version_major": 2,
       "version_minor": 0
      },
      "text/plain": [
       "Evaluating distortion00 (Severity 4):   0%|          | 0/157 [00:00<?, ?it/s]"
      ]
     },
     "metadata": {},
     "output_type": "display_data"
    },
    {
     "name": "stdout",
     "output_type": "stream",
     "text": [
      "distortion00 (Severity 4)\n"
     ]
    },
    {
     "data": {
      "application/vnd.jupyter.widget-view+json": {
       "model_id": "4fd21ccb0c0643d9b0aee0fa1a8f965d",
       "version_major": 2,
       "version_minor": 0
      },
      "text/plain": [
       "Evaluating distortion00 (Severity 5):   0%|          | 0/157 [00:00<?, ?it/s]"
      ]
     },
     "metadata": {},
     "output_type": "display_data"
    },
    {
     "name": "stdout",
     "output_type": "stream",
     "text": [
      "distortion00 (Severity 5)\n"
     ]
    },
    {
     "data": {
      "application/vnd.jupyter.widget-view+json": {
       "model_id": "c0200c282b60424d8aa0655df7262400",
       "version_major": 2,
       "version_minor": 0
      },
      "text/plain": [
       "Evaluating distortion01 (Severity 1):   0%|          | 0/157 [00:00<?, ?it/s]"
      ]
     },
     "metadata": {},
     "output_type": "display_data"
    },
    {
     "name": "stdout",
     "output_type": "stream",
     "text": [
      "distortion01 (Severity 1)\n"
     ]
    },
    {
     "data": {
      "application/vnd.jupyter.widget-view+json": {
       "model_id": "594f9f92283044c5a1d922bc2aa50411",
       "version_major": 2,
       "version_minor": 0
      },
      "text/plain": [
       "Evaluating distortion01 (Severity 2):   0%|          | 0/157 [00:00<?, ?it/s]"
      ]
     },
     "metadata": {},
     "output_type": "display_data"
    },
    {
     "name": "stdout",
     "output_type": "stream",
     "text": [
      "distortion01 (Severity 2)\n"
     ]
    },
    {
     "data": {
      "application/vnd.jupyter.widget-view+json": {
       "model_id": "a70e7950dbb64fed85b0da8930e06186",
       "version_major": 2,
       "version_minor": 0
      },
      "text/plain": [
       "Evaluating distortion01 (Severity 3):   0%|          | 0/157 [00:00<?, ?it/s]"
      ]
     },
     "metadata": {},
     "output_type": "display_data"
    },
    {
     "name": "stdout",
     "output_type": "stream",
     "text": [
      "distortion01 (Severity 3)\n"
     ]
    },
    {
     "data": {
      "application/vnd.jupyter.widget-view+json": {
       "model_id": "85ae9dac45a645d9a92606e612b7d456",
       "version_major": 2,
       "version_minor": 0
      },
      "text/plain": [
       "Evaluating distortion01 (Severity 4):   0%|          | 0/157 [00:00<?, ?it/s]"
      ]
     },
     "metadata": {},
     "output_type": "display_data"
    },
    {
     "name": "stdout",
     "output_type": "stream",
     "text": [
      "distortion01 (Severity 4)\n"
     ]
    },
    {
     "data": {
      "application/vnd.jupyter.widget-view+json": {
       "model_id": "709c072a6e2946b2929149da185ef3b5",
       "version_major": 2,
       "version_minor": 0
      },
      "text/plain": [
       "Evaluating distortion01 (Severity 5):   0%|          | 0/157 [00:00<?, ?it/s]"
      ]
     },
     "metadata": {},
     "output_type": "display_data"
    },
    {
     "name": "stdout",
     "output_type": "stream",
     "text": [
      "distortion01 (Severity 5)\n"
     ]
    },
    {
     "data": {
      "application/vnd.jupyter.widget-view+json": {
       "model_id": "411fa40a76dd4c1b895b68ef611df1a9",
       "version_major": 2,
       "version_minor": 0
      },
      "text/plain": [
       "Evaluating distortion02 (Severity 1):   0%|          | 0/157 [00:00<?, ?it/s]"
      ]
     },
     "metadata": {},
     "output_type": "display_data"
    },
    {
     "name": "stdout",
     "output_type": "stream",
     "text": [
      "distortion02 (Severity 1)\n"
     ]
    },
    {
     "data": {
      "application/vnd.jupyter.widget-view+json": {
       "model_id": "fe77260c76d84dbb810f250c7d110d77",
       "version_major": 2,
       "version_minor": 0
      },
      "text/plain": [
       "Evaluating distortion02 (Severity 2):   0%|          | 0/157 [00:00<?, ?it/s]"
      ]
     },
     "metadata": {},
     "output_type": "display_data"
    },
    {
     "name": "stdout",
     "output_type": "stream",
     "text": [
      "distortion02 (Severity 2)\n"
     ]
    },
    {
     "data": {
      "application/vnd.jupyter.widget-view+json": {
       "model_id": "e42e25f5e318479da000e759603cca4e",
       "version_major": 2,
       "version_minor": 0
      },
      "text/plain": [
       "Evaluating distortion02 (Severity 3):   0%|          | 0/157 [00:00<?, ?it/s]"
      ]
     },
     "metadata": {},
     "output_type": "display_data"
    },
    {
     "name": "stdout",
     "output_type": "stream",
     "text": [
      "distortion02 (Severity 3)\n"
     ]
    },
    {
     "data": {
      "application/vnd.jupyter.widget-view+json": {
       "model_id": "ae98a3ce6a3f4b7cb157d05583dad782",
       "version_major": 2,
       "version_minor": 0
      },
      "text/plain": [
       "Evaluating distortion02 (Severity 4):   0%|          | 0/157 [00:00<?, ?it/s]"
      ]
     },
     "metadata": {},
     "output_type": "display_data"
    },
    {
     "name": "stdout",
     "output_type": "stream",
     "text": [
      "distortion02 (Severity 4)\n"
     ]
    },
    {
     "data": {
      "application/vnd.jupyter.widget-view+json": {
       "model_id": "ff21620faac445249d2d88fe911bc23f",
       "version_major": 2,
       "version_minor": 0
      },
      "text/plain": [
       "Evaluating distortion02 (Severity 5):   0%|          | 0/157 [00:00<?, ?it/s]"
      ]
     },
     "metadata": {},
     "output_type": "display_data"
    },
    {
     "name": "stdout",
     "output_type": "stream",
     "text": [
      "distortion02 (Severity 5)\n"
     ]
    },
    {
     "data": {
      "application/vnd.jupyter.widget-view+json": {
       "model_id": "01da74c87d75495b9eda299991122db4",
       "version_major": 2,
       "version_minor": 0
      },
      "text/plain": [
       "Evaluating distortion03 (Severity 1):   0%|          | 0/157 [00:00<?, ?it/s]"
      ]
     },
     "metadata": {},
     "output_type": "display_data"
    },
    {
     "name": "stdout",
     "output_type": "stream",
     "text": [
      "distortion03 (Severity 1)\n"
     ]
    },
    {
     "data": {
      "application/vnd.jupyter.widget-view+json": {
       "model_id": "416af42534074bdbb2d128817c1d6190",
       "version_major": 2,
       "version_minor": 0
      },
      "text/plain": [
       "Evaluating distortion03 (Severity 2):   0%|          | 0/157 [00:00<?, ?it/s]"
      ]
     },
     "metadata": {},
     "output_type": "display_data"
    },
    {
     "name": "stdout",
     "output_type": "stream",
     "text": [
      "distortion03 (Severity 2)\n"
     ]
    },
    {
     "data": {
      "application/vnd.jupyter.widget-view+json": {
       "model_id": "2697f9254c274c4389a3b90f167855f9",
       "version_major": 2,
       "version_minor": 0
      },
      "text/plain": [
       "Evaluating distortion03 (Severity 3):   0%|          | 0/157 [00:00<?, ?it/s]"
      ]
     },
     "metadata": {},
     "output_type": "display_data"
    },
    {
     "name": "stdout",
     "output_type": "stream",
     "text": [
      "distortion03 (Severity 3)\n"
     ]
    },
    {
     "data": {
      "application/vnd.jupyter.widget-view+json": {
       "model_id": "542c09121b584efe85d5ba9cd118d32f",
       "version_major": 2,
       "version_minor": 0
      },
      "text/plain": [
       "Evaluating distortion03 (Severity 4):   0%|          | 0/157 [00:00<?, ?it/s]"
      ]
     },
     "metadata": {},
     "output_type": "display_data"
    },
    {
     "name": "stdout",
     "output_type": "stream",
     "text": [
      "distortion03 (Severity 4)\n"
     ]
    },
    {
     "data": {
      "application/vnd.jupyter.widget-view+json": {
       "model_id": "ad2e19dfc27e464088de080ab8bc0e25",
       "version_major": 2,
       "version_minor": 0
      },
      "text/plain": [
       "Evaluating distortion03 (Severity 5):   0%|          | 0/157 [00:00<?, ?it/s]"
      ]
     },
     "metadata": {},
     "output_type": "display_data"
    },
    {
     "name": "stdout",
     "output_type": "stream",
     "text": [
      "distortion03 (Severity 5)\n"
     ]
    },
    {
     "data": {
      "application/vnd.jupyter.widget-view+json": {
       "model_id": "35e0708db37e4c74b810058ec0230f7b",
       "version_major": 2,
       "version_minor": 0
      },
      "text/plain": [
       "Evaluating distortion04 (Severity 1):   0%|          | 0/157 [00:00<?, ?it/s]"
      ]
     },
     "metadata": {},
     "output_type": "display_data"
    },
    {
     "name": "stdout",
     "output_type": "stream",
     "text": [
      "distortion04 (Severity 1)\n"
     ]
    },
    {
     "data": {
      "application/vnd.jupyter.widget-view+json": {
       "model_id": "84b43bc77217420281100e83ad0ddba8",
       "version_major": 2,
       "version_minor": 0
      },
      "text/plain": [
       "Evaluating distortion04 (Severity 2):   0%|          | 0/157 [00:00<?, ?it/s]"
      ]
     },
     "metadata": {},
     "output_type": "display_data"
    },
    {
     "name": "stdout",
     "output_type": "stream",
     "text": [
      "distortion04 (Severity 2)\n"
     ]
    },
    {
     "data": {
      "application/vnd.jupyter.widget-view+json": {
       "model_id": "80a5d21d1d434a3287e917da61fcd5cc",
       "version_major": 2,
       "version_minor": 0
      },
      "text/plain": [
       "Evaluating distortion04 (Severity 3):   0%|          | 0/157 [00:00<?, ?it/s]"
      ]
     },
     "metadata": {},
     "output_type": "display_data"
    },
    {
     "name": "stdout",
     "output_type": "stream",
     "text": [
      "distortion04 (Severity 3)\n"
     ]
    },
    {
     "data": {
      "application/vnd.jupyter.widget-view+json": {
       "model_id": "d0b8e8522db04c8c8c3bcd508e808178",
       "version_major": 2,
       "version_minor": 0
      },
      "text/plain": [
       "Evaluating distortion04 (Severity 4):   0%|          | 0/157 [00:00<?, ?it/s]"
      ]
     },
     "metadata": {},
     "output_type": "display_data"
    },
    {
     "name": "stdout",
     "output_type": "stream",
     "text": [
      "distortion04 (Severity 4)\n"
     ]
    },
    {
     "data": {
      "application/vnd.jupyter.widget-view+json": {
       "model_id": "6dd9744f21a7435db85cd846400c4ae1",
       "version_major": 2,
       "version_minor": 0
      },
      "text/plain": [
       "Evaluating distortion04 (Severity 5):   0%|          | 0/157 [00:00<?, ?it/s]"
      ]
     },
     "metadata": {},
     "output_type": "display_data"
    },
    {
     "name": "stdout",
     "output_type": "stream",
     "text": [
      "distortion04 (Severity 5)\n"
     ]
    },
    {
     "data": {
      "application/vnd.jupyter.widget-view+json": {
       "model_id": "30494637fbc44e2fa881104c6060f2a9",
       "version_major": 2,
       "version_minor": 0
      },
      "text/plain": [
       "Evaluating distortion05 (Severity 1):   0%|          | 0/157 [00:00<?, ?it/s]"
      ]
     },
     "metadata": {},
     "output_type": "display_data"
    },
    {
     "name": "stdout",
     "output_type": "stream",
     "text": [
      "distortion05 (Severity 1)\n"
     ]
    },
    {
     "data": {
      "application/vnd.jupyter.widget-view+json": {
       "model_id": "0132ecbd8658476aa551d289ad2639a3",
       "version_major": 2,
       "version_minor": 0
      },
      "text/plain": [
       "Evaluating distortion05 (Severity 2):   0%|          | 0/157 [00:00<?, ?it/s]"
      ]
     },
     "metadata": {},
     "output_type": "display_data"
    },
    {
     "name": "stdout",
     "output_type": "stream",
     "text": [
      "distortion05 (Severity 2)\n"
     ]
    },
    {
     "data": {
      "application/vnd.jupyter.widget-view+json": {
       "model_id": "56831483b71c41ff965c2e10f6891b06",
       "version_major": 2,
       "version_minor": 0
      },
      "text/plain": [
       "Evaluating distortion05 (Severity 3):   0%|          | 0/157 [00:00<?, ?it/s]"
      ]
     },
     "metadata": {},
     "output_type": "display_data"
    },
    {
     "name": "stdout",
     "output_type": "stream",
     "text": [
      "distortion05 (Severity 3)\n"
     ]
    },
    {
     "data": {
      "application/vnd.jupyter.widget-view+json": {
       "model_id": "a885982e234f405ca69d3b7af00834ca",
       "version_major": 2,
       "version_minor": 0
      },
      "text/plain": [
       "Evaluating distortion05 (Severity 4):   0%|          | 0/157 [00:00<?, ?it/s]"
      ]
     },
     "metadata": {},
     "output_type": "display_data"
    },
    {
     "name": "stdout",
     "output_type": "stream",
     "text": [
      "distortion05 (Severity 4)\n"
     ]
    },
    {
     "data": {
      "application/vnd.jupyter.widget-view+json": {
       "model_id": "2783131a111446e2a8242be60f7ec777",
       "version_major": 2,
       "version_minor": 0
      },
      "text/plain": [
       "Evaluating distortion05 (Severity 5):   0%|          | 0/157 [00:00<?, ?it/s]"
      ]
     },
     "metadata": {},
     "output_type": "display_data"
    },
    {
     "name": "stdout",
     "output_type": "stream",
     "text": [
      "distortion05 (Severity 5)\n"
     ]
    },
    {
     "data": {
      "application/vnd.jupyter.widget-view+json": {
       "model_id": "b3f661c8421b48a29005939cb5ca7358",
       "version_major": 2,
       "version_minor": 0
      },
      "text/plain": [
       "Evaluating distortion06 (Severity 1):   0%|          | 0/157 [00:00<?, ?it/s]"
      ]
     },
     "metadata": {},
     "output_type": "display_data"
    },
    {
     "name": "stdout",
     "output_type": "stream",
     "text": [
      "distortion06 (Severity 1)\n"
     ]
    },
    {
     "data": {
      "application/vnd.jupyter.widget-view+json": {
       "model_id": "95fe48fb343f42aa856260e94a108412",
       "version_major": 2,
       "version_minor": 0
      },
      "text/plain": [
       "Evaluating distortion06 (Severity 2):   0%|          | 0/157 [00:00<?, ?it/s]"
      ]
     },
     "metadata": {},
     "output_type": "display_data"
    },
    {
     "name": "stdout",
     "output_type": "stream",
     "text": [
      "distortion06 (Severity 2)\n"
     ]
    },
    {
     "data": {
      "application/vnd.jupyter.widget-view+json": {
       "model_id": "016a52bc68d74b4192f088b7849111e9",
       "version_major": 2,
       "version_minor": 0
      },
      "text/plain": [
       "Evaluating distortion06 (Severity 3):   0%|          | 0/157 [00:00<?, ?it/s]"
      ]
     },
     "metadata": {},
     "output_type": "display_data"
    },
    {
     "name": "stdout",
     "output_type": "stream",
     "text": [
      "distortion06 (Severity 3)\n"
     ]
    },
    {
     "data": {
      "application/vnd.jupyter.widget-view+json": {
       "model_id": "358936874697494ab99a8bf948aee063",
       "version_major": 2,
       "version_minor": 0
      },
      "text/plain": [
       "Evaluating distortion06 (Severity 4):   0%|          | 0/157 [00:00<?, ?it/s]"
      ]
     },
     "metadata": {},
     "output_type": "display_data"
    },
    {
     "name": "stdout",
     "output_type": "stream",
     "text": [
      "distortion06 (Severity 4)\n"
     ]
    },
    {
     "data": {
      "application/vnd.jupyter.widget-view+json": {
       "model_id": "fd8cb7dccb6343349e6ab3a74f483f88",
       "version_major": 2,
       "version_minor": 0
      },
      "text/plain": [
       "Evaluating distortion06 (Severity 5):   0%|          | 0/157 [00:00<?, ?it/s]"
      ]
     },
     "metadata": {},
     "output_type": "display_data"
    },
    {
     "name": "stdout",
     "output_type": "stream",
     "text": [
      "distortion06 (Severity 5)\n"
     ]
    },
    {
     "data": {
      "application/vnd.jupyter.widget-view+json": {
       "model_id": "de14b004b1b34c37ab4b8f4429402638",
       "version_major": 2,
       "version_minor": 0
      },
      "text/plain": [
       "Evaluating distortion07 (Severity 1):   0%|          | 0/157 [00:00<?, ?it/s]"
      ]
     },
     "metadata": {},
     "output_type": "display_data"
    },
    {
     "name": "stdout",
     "output_type": "stream",
     "text": [
      "distortion07 (Severity 1)\n"
     ]
    },
    {
     "data": {
      "application/vnd.jupyter.widget-view+json": {
       "model_id": "8a19649958e44cd18b031105a3fb99b1",
       "version_major": 2,
       "version_minor": 0
      },
      "text/plain": [
       "Evaluating distortion07 (Severity 2):   0%|          | 0/157 [00:00<?, ?it/s]"
      ]
     },
     "metadata": {},
     "output_type": "display_data"
    },
    {
     "name": "stdout",
     "output_type": "stream",
     "text": [
      "distortion07 (Severity 2)\n"
     ]
    },
    {
     "data": {
      "application/vnd.jupyter.widget-view+json": {
       "model_id": "0197f04fe8094831ad0978da914cdd9b",
       "version_major": 2,
       "version_minor": 0
      },
      "text/plain": [
       "Evaluating distortion07 (Severity 3):   0%|          | 0/157 [00:00<?, ?it/s]"
      ]
     },
     "metadata": {},
     "output_type": "display_data"
    },
    {
     "name": "stdout",
     "output_type": "stream",
     "text": [
      "distortion07 (Severity 3)\n"
     ]
    },
    {
     "data": {
      "application/vnd.jupyter.widget-view+json": {
       "model_id": "9b7428246b814e5ca0cb293aa73560d8",
       "version_major": 2,
       "version_minor": 0
      },
      "text/plain": [
       "Evaluating distortion07 (Severity 4):   0%|          | 0/157 [00:00<?, ?it/s]"
      ]
     },
     "metadata": {},
     "output_type": "display_data"
    },
    {
     "name": "stdout",
     "output_type": "stream",
     "text": [
      "distortion07 (Severity 4)\n"
     ]
    },
    {
     "data": {
      "application/vnd.jupyter.widget-view+json": {
       "model_id": "acdec4f8f553484ba5d23205ef484b75",
       "version_major": 2,
       "version_minor": 0
      },
      "text/plain": [
       "Evaluating distortion07 (Severity 5):   0%|          | 0/157 [00:00<?, ?it/s]"
      ]
     },
     "metadata": {},
     "output_type": "display_data"
    },
    {
     "name": "stdout",
     "output_type": "stream",
     "text": [
      "distortion07 (Severity 5)\n"
     ]
    },
    {
     "data": {
      "application/vnd.jupyter.widget-view+json": {
       "model_id": "eebcfe12a9a34c5899263d0703c58a22",
       "version_major": 2,
       "version_minor": 0
      },
      "text/plain": [
       "Evaluating distortion08 (Severity 1):   0%|          | 0/157 [00:00<?, ?it/s]"
      ]
     },
     "metadata": {},
     "output_type": "display_data"
    },
    {
     "name": "stdout",
     "output_type": "stream",
     "text": [
      "distortion08 (Severity 1)\n"
     ]
    },
    {
     "data": {
      "application/vnd.jupyter.widget-view+json": {
       "model_id": "d4ebd016220a4eeb80b819e74e77f2cf",
       "version_major": 2,
       "version_minor": 0
      },
      "text/plain": [
       "Evaluating distortion08 (Severity 2):   0%|          | 0/157 [00:00<?, ?it/s]"
      ]
     },
     "metadata": {},
     "output_type": "display_data"
    },
    {
     "name": "stdout",
     "output_type": "stream",
     "text": [
      "distortion08 (Severity 2)\n"
     ]
    },
    {
     "data": {
      "application/vnd.jupyter.widget-view+json": {
       "model_id": "63e6693d36be43eeb54239029cd3b61c",
       "version_major": 2,
       "version_minor": 0
      },
      "text/plain": [
       "Evaluating distortion08 (Severity 3):   0%|          | 0/157 [00:00<?, ?it/s]"
      ]
     },
     "metadata": {},
     "output_type": "display_data"
    },
    {
     "name": "stdout",
     "output_type": "stream",
     "text": [
      "distortion08 (Severity 3)\n"
     ]
    },
    {
     "data": {
      "application/vnd.jupyter.widget-view+json": {
       "model_id": "0b25bb3a207148239d7df2e61ea1e708",
       "version_major": 2,
       "version_minor": 0
      },
      "text/plain": [
       "Evaluating distortion08 (Severity 4):   0%|          | 0/157 [00:00<?, ?it/s]"
      ]
     },
     "metadata": {},
     "output_type": "display_data"
    },
    {
     "name": "stdout",
     "output_type": "stream",
     "text": [
      "distortion08 (Severity 4)\n"
     ]
    },
    {
     "data": {
      "application/vnd.jupyter.widget-view+json": {
       "model_id": "64004c75eef94981b2e91e9386237a89",
       "version_major": 2,
       "version_minor": 0
      },
      "text/plain": [
       "Evaluating distortion08 (Severity 5):   0%|          | 0/157 [00:00<?, ?it/s]"
      ]
     },
     "metadata": {},
     "output_type": "display_data"
    },
    {
     "name": "stdout",
     "output_type": "stream",
     "text": [
      "distortion08 (Severity 5)\n"
     ]
    },
    {
     "data": {
      "application/vnd.jupyter.widget-view+json": {
       "model_id": "883ad95f2ae7407b8be521839de4e32b",
       "version_major": 2,
       "version_minor": 0
      },
      "text/plain": [
       "Evaluating distortion09 (Severity 1):   0%|          | 0/157 [00:00<?, ?it/s]"
      ]
     },
     "metadata": {},
     "output_type": "display_data"
    },
    {
     "name": "stdout",
     "output_type": "stream",
     "text": [
      "distortion09 (Severity 1)\n"
     ]
    },
    {
     "data": {
      "application/vnd.jupyter.widget-view+json": {
       "model_id": "312a1177a5964c9ebe111c28f98f26a2",
       "version_major": 2,
       "version_minor": 0
      },
      "text/plain": [
       "Evaluating distortion09 (Severity 2):   0%|          | 0/157 [00:00<?, ?it/s]"
      ]
     },
     "metadata": {},
     "output_type": "display_data"
    },
    {
     "name": "stdout",
     "output_type": "stream",
     "text": [
      "distortion09 (Severity 2)\n"
     ]
    },
    {
     "data": {
      "application/vnd.jupyter.widget-view+json": {
       "model_id": "7aadafe1f61441a48e36d8f15fa89b65",
       "version_major": 2,
       "version_minor": 0
      },
      "text/plain": [
       "Evaluating distortion09 (Severity 3):   0%|          | 0/157 [00:00<?, ?it/s]"
      ]
     },
     "metadata": {},
     "output_type": "display_data"
    },
    {
     "name": "stdout",
     "output_type": "stream",
     "text": [
      "distortion09 (Severity 3)\n"
     ]
    },
    {
     "data": {
      "application/vnd.jupyter.widget-view+json": {
       "model_id": "5ea32b8d3508456b9a276b12564f3be0",
       "version_major": 2,
       "version_minor": 0
      },
      "text/plain": [
       "Evaluating distortion09 (Severity 4):   0%|          | 0/157 [00:00<?, ?it/s]"
      ]
     },
     "metadata": {},
     "output_type": "display_data"
    },
    {
     "name": "stdout",
     "output_type": "stream",
     "text": [
      "distortion09 (Severity 4)\n"
     ]
    },
    {
     "data": {
      "application/vnd.jupyter.widget-view+json": {
       "model_id": "c5bdbe9ebe614b57861a08be8ee737f1",
       "version_major": 2,
       "version_minor": 0
      },
      "text/plain": [
       "Evaluating distortion09 (Severity 5):   0%|          | 0/157 [00:00<?, ?it/s]"
      ]
     },
     "metadata": {},
     "output_type": "display_data"
    },
    {
     "name": "stdout",
     "output_type": "stream",
     "text": [
      "distortion09 (Severity 5)\n"
     ]
    },
    {
     "data": {
      "application/vnd.jupyter.widget-view+json": {
       "model_id": "021e3c6f17e9433aa51d89a29c30c1cd",
       "version_major": 2,
       "version_minor": 0
      },
      "text/plain": [
       "Evaluating distortion10 (Severity 1):   0%|          | 0/157 [00:00<?, ?it/s]"
      ]
     },
     "metadata": {},
     "output_type": "display_data"
    },
    {
     "name": "stdout",
     "output_type": "stream",
     "text": [
      "distortion10 (Severity 1)\n"
     ]
    },
    {
     "data": {
      "application/vnd.jupyter.widget-view+json": {
       "model_id": "1763555c5c084c8cb16b005ea5b19c53",
       "version_major": 2,
       "version_minor": 0
      },
      "text/plain": [
       "Evaluating distortion10 (Severity 2):   0%|          | 0/157 [00:00<?, ?it/s]"
      ]
     },
     "metadata": {},
     "output_type": "display_data"
    },
    {
     "name": "stdout",
     "output_type": "stream",
     "text": [
      "distortion10 (Severity 2)\n"
     ]
    },
    {
     "data": {
      "application/vnd.jupyter.widget-view+json": {
       "model_id": "bee8ccdd96ab498e9d260c17e194e03d",
       "version_major": 2,
       "version_minor": 0
      },
      "text/plain": [
       "Evaluating distortion10 (Severity 3):   0%|          | 0/157 [00:00<?, ?it/s]"
      ]
     },
     "metadata": {},
     "output_type": "display_data"
    },
    {
     "name": "stdout",
     "output_type": "stream",
     "text": [
      "distortion10 (Severity 3)\n"
     ]
    },
    {
     "data": {
      "application/vnd.jupyter.widget-view+json": {
       "model_id": "6c980bc0bb57467db40a2282e0ac6fd8",
       "version_major": 2,
       "version_minor": 0
      },
      "text/plain": [
       "Evaluating distortion10 (Severity 4):   0%|          | 0/157 [00:00<?, ?it/s]"
      ]
     },
     "metadata": {},
     "output_type": "display_data"
    },
    {
     "name": "stdout",
     "output_type": "stream",
     "text": [
      "distortion10 (Severity 4)\n"
     ]
    },
    {
     "data": {
      "application/vnd.jupyter.widget-view+json": {
       "model_id": "8306e73ddc4b46cbb3b8bcebed08a806",
       "version_major": 2,
       "version_minor": 0
      },
      "text/plain": [
       "Evaluating distortion10 (Severity 5):   0%|          | 0/157 [00:00<?, ?it/s]"
      ]
     },
     "metadata": {},
     "output_type": "display_data"
    },
    {
     "name": "stdout",
     "output_type": "stream",
     "text": [
      "distortion10 (Severity 5)\n"
     ]
    },
    {
     "data": {
      "application/vnd.jupyter.widget-view+json": {
       "model_id": "d8a018bd3ec5496a95b11e4b2d56e53e",
       "version_major": 2,
       "version_minor": 0
      },
      "text/plain": [
       "Evaluating distortion11 (Severity 1):   0%|          | 0/157 [00:00<?, ?it/s]"
      ]
     },
     "metadata": {},
     "output_type": "display_data"
    },
    {
     "name": "stdout",
     "output_type": "stream",
     "text": [
      "distortion11 (Severity 1)\n"
     ]
    },
    {
     "data": {
      "application/vnd.jupyter.widget-view+json": {
       "model_id": "0a71ebac29524f6592a996744e19deaf",
       "version_major": 2,
       "version_minor": 0
      },
      "text/plain": [
       "Evaluating distortion11 (Severity 2):   0%|          | 0/157 [00:00<?, ?it/s]"
      ]
     },
     "metadata": {},
     "output_type": "display_data"
    },
    {
     "name": "stdout",
     "output_type": "stream",
     "text": [
      "distortion11 (Severity 2)\n"
     ]
    },
    {
     "data": {
      "application/vnd.jupyter.widget-view+json": {
       "model_id": "4baeb6bed0324eeb83fbb04d11a1dd07",
       "version_major": 2,
       "version_minor": 0
      },
      "text/plain": [
       "Evaluating distortion11 (Severity 3):   0%|          | 0/157 [00:00<?, ?it/s]"
      ]
     },
     "metadata": {},
     "output_type": "display_data"
    },
    {
     "name": "stdout",
     "output_type": "stream",
     "text": [
      "distortion11 (Severity 3)\n"
     ]
    },
    {
     "data": {
      "application/vnd.jupyter.widget-view+json": {
       "model_id": "fd1dd39af0ef446f910b54caddbb74b9",
       "version_major": 2,
       "version_minor": 0
      },
      "text/plain": [
       "Evaluating distortion11 (Severity 4):   0%|          | 0/157 [00:00<?, ?it/s]"
      ]
     },
     "metadata": {},
     "output_type": "display_data"
    },
    {
     "name": "stdout",
     "output_type": "stream",
     "text": [
      "distortion11 (Severity 4)\n"
     ]
    },
    {
     "data": {
      "application/vnd.jupyter.widget-view+json": {
       "model_id": "dcae7394d7844e3fa5ca9e00810366f0",
       "version_major": 2,
       "version_minor": 0
      },
      "text/plain": [
       "Evaluating distortion11 (Severity 5):   0%|          | 0/157 [00:00<?, ?it/s]"
      ]
     },
     "metadata": {},
     "output_type": "display_data"
    },
    {
     "name": "stdout",
     "output_type": "stream",
     "text": [
      "distortion11 (Severity 5)\n"
     ]
    },
    {
     "data": {
      "application/vnd.jupyter.widget-view+json": {
       "model_id": "4dd98ce81f024f3a82ae55436cabc71a",
       "version_major": 2,
       "version_minor": 0
      },
      "text/plain": [
       "Evaluating distortion12 (Severity 1):   0%|          | 0/157 [00:00<?, ?it/s]"
      ]
     },
     "metadata": {},
     "output_type": "display_data"
    },
    {
     "name": "stdout",
     "output_type": "stream",
     "text": [
      "distortion12 (Severity 1)\n"
     ]
    },
    {
     "data": {
      "application/vnd.jupyter.widget-view+json": {
       "model_id": "43454c82e3d843b0985a07af7f3bcb9f",
       "version_major": 2,
       "version_minor": 0
      },
      "text/plain": [
       "Evaluating distortion12 (Severity 2):   0%|          | 0/157 [00:00<?, ?it/s]"
      ]
     },
     "metadata": {},
     "output_type": "display_data"
    },
    {
     "name": "stdout",
     "output_type": "stream",
     "text": [
      "distortion12 (Severity 2)\n"
     ]
    },
    {
     "data": {
      "application/vnd.jupyter.widget-view+json": {
       "model_id": "fde20e5b89984c36b8b11f369402772f",
       "version_major": 2,
       "version_minor": 0
      },
      "text/plain": [
       "Evaluating distortion12 (Severity 3):   0%|          | 0/157 [00:00<?, ?it/s]"
      ]
     },
     "metadata": {},
     "output_type": "display_data"
    },
    {
     "name": "stdout",
     "output_type": "stream",
     "text": [
      "distortion12 (Severity 3)\n"
     ]
    },
    {
     "data": {
      "application/vnd.jupyter.widget-view+json": {
       "model_id": "a8e0b5ba53ce40358f2e4ff7dd592819",
       "version_major": 2,
       "version_minor": 0
      },
      "text/plain": [
       "Evaluating distortion12 (Severity 4):   0%|          | 0/157 [00:00<?, ?it/s]"
      ]
     },
     "metadata": {},
     "output_type": "display_data"
    },
    {
     "name": "stdout",
     "output_type": "stream",
     "text": [
      "distortion12 (Severity 4)\n"
     ]
    },
    {
     "data": {
      "application/vnd.jupyter.widget-view+json": {
       "model_id": "c3a0203678864eea85db4972b3dbc99e",
       "version_major": 2,
       "version_minor": 0
      },
      "text/plain": [
       "Evaluating distortion12 (Severity 5):   0%|          | 0/157 [00:00<?, ?it/s]"
      ]
     },
     "metadata": {},
     "output_type": "display_data"
    },
    {
     "name": "stdout",
     "output_type": "stream",
     "text": [
      "distortion12 (Severity 5)\n"
     ]
    },
    {
     "data": {
      "application/vnd.jupyter.widget-view+json": {
       "model_id": "376172ea43da48aabebd6e486666d7ef",
       "version_major": 2,
       "version_minor": 0
      },
      "text/plain": [
       "Evaluating distortion13 (Severity 1):   0%|          | 0/157 [00:00<?, ?it/s]"
      ]
     },
     "metadata": {},
     "output_type": "display_data"
    },
    {
     "name": "stdout",
     "output_type": "stream",
     "text": [
      "distortion13 (Severity 1)\n"
     ]
    },
    {
     "data": {
      "application/vnd.jupyter.widget-view+json": {
       "model_id": "b13b80a071a14532bced623718ed8190",
       "version_major": 2,
       "version_minor": 0
      },
      "text/plain": [
       "Evaluating distortion13 (Severity 2):   0%|          | 0/157 [00:00<?, ?it/s]"
      ]
     },
     "metadata": {},
     "output_type": "display_data"
    },
    {
     "name": "stdout",
     "output_type": "stream",
     "text": [
      "distortion13 (Severity 2)\n"
     ]
    },
    {
     "data": {
      "application/vnd.jupyter.widget-view+json": {
       "model_id": "6f564174f80d439cae4fc05794d6defc",
       "version_major": 2,
       "version_minor": 0
      },
      "text/plain": [
       "Evaluating distortion13 (Severity 3):   0%|          | 0/157 [00:00<?, ?it/s]"
      ]
     },
     "metadata": {},
     "output_type": "display_data"
    },
    {
     "name": "stdout",
     "output_type": "stream",
     "text": [
      "distortion13 (Severity 3)\n"
     ]
    },
    {
     "data": {
      "application/vnd.jupyter.widget-view+json": {
       "model_id": "49c643ecefca4c68ad721908bad54197",
       "version_major": 2,
       "version_minor": 0
      },
      "text/plain": [
       "Evaluating distortion13 (Severity 4):   0%|          | 0/157 [00:00<?, ?it/s]"
      ]
     },
     "metadata": {},
     "output_type": "display_data"
    },
    {
     "name": "stdout",
     "output_type": "stream",
     "text": [
      "distortion13 (Severity 4)\n"
     ]
    },
    {
     "data": {
      "application/vnd.jupyter.widget-view+json": {
       "model_id": "50b905570e9f41158ddcd654a7c1a217",
       "version_major": 2,
       "version_minor": 0
      },
      "text/plain": [
       "Evaluating distortion13 (Severity 5):   0%|          | 0/157 [00:00<?, ?it/s]"
      ]
     },
     "metadata": {},
     "output_type": "display_data"
    },
    {
     "name": "stdout",
     "output_type": "stream",
     "text": [
      "distortion13 (Severity 5)\n"
     ]
    },
    {
     "data": {
      "application/vnd.jupyter.widget-view+json": {
       "model_id": "17af15f2ac224cbab9e15eddd4be4d41",
       "version_major": 2,
       "version_minor": 0
      },
      "text/plain": [
       "Evaluating distortion14 (Severity 1):   0%|          | 0/157 [00:00<?, ?it/s]"
      ]
     },
     "metadata": {},
     "output_type": "display_data"
    },
    {
     "name": "stdout",
     "output_type": "stream",
     "text": [
      "distortion14 (Severity 1)\n"
     ]
    },
    {
     "data": {
      "application/vnd.jupyter.widget-view+json": {
       "model_id": "a03fda838e114185af7b8989198ef606",
       "version_major": 2,
       "version_minor": 0
      },
      "text/plain": [
       "Evaluating distortion14 (Severity 2):   0%|          | 0/157 [00:00<?, ?it/s]"
      ]
     },
     "metadata": {},
     "output_type": "display_data"
    },
    {
     "name": "stdout",
     "output_type": "stream",
     "text": [
      "distortion14 (Severity 2)\n"
     ]
    },
    {
     "data": {
      "application/vnd.jupyter.widget-view+json": {
       "model_id": "add48716451845c3a7c609841bbe7e32",
       "version_major": 2,
       "version_minor": 0
      },
      "text/plain": [
       "Evaluating distortion14 (Severity 3):   0%|          | 0/157 [00:00<?, ?it/s]"
      ]
     },
     "metadata": {},
     "output_type": "display_data"
    },
    {
     "name": "stdout",
     "output_type": "stream",
     "text": [
      "distortion14 (Severity 3)\n"
     ]
    },
    {
     "data": {
      "application/vnd.jupyter.widget-view+json": {
       "model_id": "0464ffba0fb848feaf3b28a6dffd7cce",
       "version_major": 2,
       "version_minor": 0
      },
      "text/plain": [
       "Evaluating distortion14 (Severity 4):   0%|          | 0/157 [00:00<?, ?it/s]"
      ]
     },
     "metadata": {},
     "output_type": "display_data"
    },
    {
     "name": "stdout",
     "output_type": "stream",
     "text": [
      "distortion14 (Severity 4)\n"
     ]
    },
    {
     "data": {
      "application/vnd.jupyter.widget-view+json": {
       "model_id": "c0f1c1fbe64240b2b83d338e25a20b11",
       "version_major": 2,
       "version_minor": 0
      },
      "text/plain": [
       "Evaluating distortion14 (Severity 5):   0%|          | 0/157 [00:00<?, ?it/s]"
      ]
     },
     "metadata": {},
     "output_type": "display_data"
    },
    {
     "name": "stdout",
     "output_type": "stream",
     "text": [
      "distortion14 (Severity 5)\n"
     ]
    },
    {
     "data": {
      "application/vnd.jupyter.widget-view+json": {
       "model_id": "0a5978f98cba46db9604881ef2825f6f",
       "version_major": 2,
       "version_minor": 0
      },
      "text/plain": [
       "Evaluating distortion15 (Severity 1):   0%|          | 0/157 [00:00<?, ?it/s]"
      ]
     },
     "metadata": {},
     "output_type": "display_data"
    },
    {
     "name": "stdout",
     "output_type": "stream",
     "text": [
      "distortion15 (Severity 1)\n"
     ]
    },
    {
     "data": {
      "application/vnd.jupyter.widget-view+json": {
       "model_id": "bfae11d738484ff18e339ecaadd64470",
       "version_major": 2,
       "version_minor": 0
      },
      "text/plain": [
       "Evaluating distortion15 (Severity 2):   0%|          | 0/157 [00:00<?, ?it/s]"
      ]
     },
     "metadata": {},
     "output_type": "display_data"
    },
    {
     "name": "stdout",
     "output_type": "stream",
     "text": [
      "distortion15 (Severity 2)\n"
     ]
    },
    {
     "data": {
      "application/vnd.jupyter.widget-view+json": {
       "model_id": "a39eafc5816c4e329620dd428a815e27",
       "version_major": 2,
       "version_minor": 0
      },
      "text/plain": [
       "Evaluating distortion15 (Severity 3):   0%|          | 0/157 [00:00<?, ?it/s]"
      ]
     },
     "metadata": {},
     "output_type": "display_data"
    },
    {
     "name": "stdout",
     "output_type": "stream",
     "text": [
      "distortion15 (Severity 3)\n"
     ]
    },
    {
     "data": {
      "application/vnd.jupyter.widget-view+json": {
       "model_id": "b27bdb8547c24c1fa27d9a9b4d97aad6",
       "version_major": 2,
       "version_minor": 0
      },
      "text/plain": [
       "Evaluating distortion15 (Severity 4):   0%|          | 0/157 [00:00<?, ?it/s]"
      ]
     },
     "metadata": {},
     "output_type": "display_data"
    },
    {
     "name": "stdout",
     "output_type": "stream",
     "text": [
      "distortion15 (Severity 4)\n"
     ]
    },
    {
     "data": {
      "application/vnd.jupyter.widget-view+json": {
       "model_id": "d3a822f29d56493985bd958454daa0ee",
       "version_major": 2,
       "version_minor": 0
      },
      "text/plain": [
       "Evaluating distortion15 (Severity 5):   0%|          | 0/157 [00:00<?, ?it/s]"
      ]
     },
     "metadata": {},
     "output_type": "display_data"
    },
    {
     "name": "stdout",
     "output_type": "stream",
     "text": [
      "distortion15 (Severity 5)\n"
     ]
    },
    {
     "data": {
      "application/vnd.jupyter.widget-view+json": {
       "model_id": "4c2b708cbbfe418c9ea8e91d59e46048",
       "version_major": 2,
       "version_minor": 0
      },
      "text/plain": [
       "Evaluating distortion16 (Severity 1):   0%|          | 0/157 [00:00<?, ?it/s]"
      ]
     },
     "metadata": {},
     "output_type": "display_data"
    },
    {
     "name": "stdout",
     "output_type": "stream",
     "text": [
      "distortion16 (Severity 1)\n"
     ]
    },
    {
     "data": {
      "application/vnd.jupyter.widget-view+json": {
       "model_id": "41172703efe848609dfaf8c384ebc0a6",
       "version_major": 2,
       "version_minor": 0
      },
      "text/plain": [
       "Evaluating distortion16 (Severity 2):   0%|          | 0/157 [00:00<?, ?it/s]"
      ]
     },
     "metadata": {},
     "output_type": "display_data"
    },
    {
     "name": "stdout",
     "output_type": "stream",
     "text": [
      "distortion16 (Severity 2)\n"
     ]
    },
    {
     "data": {
      "application/vnd.jupyter.widget-view+json": {
       "model_id": "683a36ed15014558988ba6d3f309a2fe",
       "version_major": 2,
       "version_minor": 0
      },
      "text/plain": [
       "Evaluating distortion16 (Severity 3):   0%|          | 0/157 [00:00<?, ?it/s]"
      ]
     },
     "metadata": {},
     "output_type": "display_data"
    },
    {
     "name": "stdout",
     "output_type": "stream",
     "text": [
      "distortion16 (Severity 3)\n"
     ]
    },
    {
     "data": {
      "application/vnd.jupyter.widget-view+json": {
       "model_id": "c8b69878e3db4deb91da1095ab358aa2",
       "version_major": 2,
       "version_minor": 0
      },
      "text/plain": [
       "Evaluating distortion16 (Severity 4):   0%|          | 0/157 [00:00<?, ?it/s]"
      ]
     },
     "metadata": {},
     "output_type": "display_data"
    },
    {
     "name": "stdout",
     "output_type": "stream",
     "text": [
      "distortion16 (Severity 4)\n"
     ]
    },
    {
     "data": {
      "application/vnd.jupyter.widget-view+json": {
       "model_id": "41921e765e814ab1bdfd749994875589",
       "version_major": 2,
       "version_minor": 0
      },
      "text/plain": [
       "Evaluating distortion16 (Severity 5):   0%|          | 0/157 [00:00<?, ?it/s]"
      ]
     },
     "metadata": {},
     "output_type": "display_data"
    },
    {
     "name": "stdout",
     "output_type": "stream",
     "text": [
      "distortion16 (Severity 5)\n"
     ]
    },
    {
     "data": {
      "application/vnd.jupyter.widget-view+json": {
       "model_id": "a6fcb1c5a3c347c69cac45f7a4254415",
       "version_major": 2,
       "version_minor": 0
      },
      "text/plain": [
       "Evaluating distortion17 (Severity 1):   0%|          | 0/157 [00:00<?, ?it/s]"
      ]
     },
     "metadata": {},
     "output_type": "display_data"
    },
    {
     "name": "stdout",
     "output_type": "stream",
     "text": [
      "distortion17 (Severity 1)\n"
     ]
    },
    {
     "data": {
      "application/vnd.jupyter.widget-view+json": {
       "model_id": "b0e13e5ef1cf4ba6ba7e52dd8ef42ab1",
       "version_major": 2,
       "version_minor": 0
      },
      "text/plain": [
       "Evaluating distortion17 (Severity 2):   0%|          | 0/157 [00:00<?, ?it/s]"
      ]
     },
     "metadata": {},
     "output_type": "display_data"
    },
    {
     "name": "stdout",
     "output_type": "stream",
     "text": [
      "distortion17 (Severity 2)\n"
     ]
    },
    {
     "data": {
      "application/vnd.jupyter.widget-view+json": {
       "model_id": "3f71198ac14b4da9b1ab7c938d4a92b6",
       "version_major": 2,
       "version_minor": 0
      },
      "text/plain": [
       "Evaluating distortion17 (Severity 3):   0%|          | 0/157 [00:00<?, ?it/s]"
      ]
     },
     "metadata": {},
     "output_type": "display_data"
    },
    {
     "name": "stdout",
     "output_type": "stream",
     "text": [
      "distortion17 (Severity 3)\n"
     ]
    },
    {
     "data": {
      "application/vnd.jupyter.widget-view+json": {
       "model_id": "eb40da845c7c4f1496c75c4370fff050",
       "version_major": 2,
       "version_minor": 0
      },
      "text/plain": [
       "Evaluating distortion17 (Severity 4):   0%|          | 0/157 [00:00<?, ?it/s]"
      ]
     },
     "metadata": {},
     "output_type": "display_data"
    },
    {
     "name": "stdout",
     "output_type": "stream",
     "text": [
      "distortion17 (Severity 4)\n"
     ]
    },
    {
     "data": {
      "application/vnd.jupyter.widget-view+json": {
       "model_id": "6748dba4a4b14373804fbf0a7196cdb5",
       "version_major": 2,
       "version_minor": 0
      },
      "text/plain": [
       "Evaluating distortion17 (Severity 5):   0%|          | 0/157 [00:00<?, ?it/s]"
      ]
     },
     "metadata": {},
     "output_type": "display_data"
    },
    {
     "name": "stdout",
     "output_type": "stream",
     "text": [
      "distortion17 (Severity 5)\n"
     ]
    },
    {
     "data": {
      "application/vnd.jupyter.widget-view+json": {
       "model_id": "e4530c3378af4eb6a4ed059c101f03e4",
       "version_major": 2,
       "version_minor": 0
      },
      "text/plain": [
       "Evaluating distortion18 (Severity 1):   0%|          | 0/157 [00:00<?, ?it/s]"
      ]
     },
     "metadata": {},
     "output_type": "display_data"
    },
    {
     "name": "stdout",
     "output_type": "stream",
     "text": [
      "distortion18 (Severity 1)\n"
     ]
    },
    {
     "data": {
      "application/vnd.jupyter.widget-view+json": {
       "model_id": "a264785dfc9247ac8a95d1a9902a2c98",
       "version_major": 2,
       "version_minor": 0
      },
      "text/plain": [
       "Evaluating distortion18 (Severity 2):   0%|          | 0/157 [00:00<?, ?it/s]"
      ]
     },
     "metadata": {},
     "output_type": "display_data"
    },
    {
     "name": "stdout",
     "output_type": "stream",
     "text": [
      "distortion18 (Severity 2)\n"
     ]
    },
    {
     "data": {
      "application/vnd.jupyter.widget-view+json": {
       "model_id": "c3ffe167e1264639b2a814c7fb3bd68d",
       "version_major": 2,
       "version_minor": 0
      },
      "text/plain": [
       "Evaluating distortion18 (Severity 3):   0%|          | 0/157 [00:00<?, ?it/s]"
      ]
     },
     "metadata": {},
     "output_type": "display_data"
    },
    {
     "name": "stdout",
     "output_type": "stream",
     "text": [
      "distortion18 (Severity 3)\n"
     ]
    },
    {
     "data": {
      "application/vnd.jupyter.widget-view+json": {
       "model_id": "6fd580eec9cd45edb88193a7447bd626",
       "version_major": 2,
       "version_minor": 0
      },
      "text/plain": [
       "Evaluating distortion18 (Severity 4):   0%|          | 0/157 [00:00<?, ?it/s]"
      ]
     },
     "metadata": {},
     "output_type": "display_data"
    },
    {
     "name": "stdout",
     "output_type": "stream",
     "text": [
      "distortion18 (Severity 4)\n"
     ]
    },
    {
     "data": {
      "application/vnd.jupyter.widget-view+json": {
       "model_id": "ccde145457644792b0c4d24b95450fe7",
       "version_major": 2,
       "version_minor": 0
      },
      "text/plain": [
       "Evaluating distortion18 (Severity 5):   0%|          | 0/157 [00:00<?, ?it/s]"
      ]
     },
     "metadata": {},
     "output_type": "display_data"
    },
    {
     "name": "stdout",
     "output_type": "stream",
     "text": [
      "distortion18 (Severity 5)\n",
      "submission_ood_part3densenet_ep30.csv created successfully.\n"
     ]
    }
   ],
   "source": [
    "import torch\n",
    "import torch.nn as nn\n",
    "import torch.optim as optim\n",
    "import torchvision\n",
    "import torchvision.transforms as transforms\n",
    "from torchvision import models\n",
    "from tqdm.auto import tqdm\n",
    "import wandb\n",
    "import numpy as np\n",
    "import random\n",
    "import shutil\n",
    "\n",
    "# -----------------------------\n",
    "# Reproducibility\n",
    "# -----------------------------\n",
    "def set_seed(seed):\n",
    "    torch.manual_seed(seed)\n",
    "    np.random.seed(seed)\n",
    "    random.seed(seed)\n",
    "    if torch.cuda.is_available():\n",
    "        torch.cuda.manual_seed_all(seed)\n",
    "\n",
    "# -----------------------------\n",
    "# Training Function\n",
    "# -----------------------------\n",
    "def train(epoch, model, trainloader, optimizer, criterion, CONFIG):\n",
    "    device = CONFIG[\"device\"]\n",
    "    model.train()\n",
    "    running_loss, correct, total = 0.0, 0, 0\n",
    "    progress = tqdm(trainloader, desc=f\"Epoch {epoch+21}/30 [Train]\", leave=False)\n",
    "\n",
    "    for inputs, labels in progress:\n",
    "        inputs, labels = inputs.to(device), labels.to(device)\n",
    "\n",
    "        optimizer.zero_grad()\n",
    "        outputs = model(inputs)\n",
    "        loss = criterion(outputs, labels)\n",
    "        loss.backward()\n",
    "        optimizer.step()\n",
    "\n",
    "        running_loss += loss.item()\n",
    "        _, predicted = outputs.max(1)\n",
    "        total += labels.size(0)\n",
    "        correct += predicted.eq(labels).sum().item()\n",
    "\n",
    "        progress.set_postfix({\n",
    "            \"loss\": running_loss / (total / CONFIG[\"batch_size\"]),\n",
    "            \"acc\": 100. * correct / total\n",
    "        })\n",
    "\n",
    "    return running_loss / len(trainloader), 100. * correct / total\n",
    "\n",
    "# -----------------------------\n",
    "# Validation Function\n",
    "# -----------------------------\n",
    "def validate(model, valloader, criterion, CONFIG):\n",
    "    device = CONFIG[\"device\"]\n",
    "    model.eval()\n",
    "    running_loss, correct, total = 0.0, 0, 0\n",
    "\n",
    "    with torch.no_grad():\n",
    "        progress = tqdm(valloader, desc=\"[Validate]\", leave=False)\n",
    "        for inputs, labels in progress:\n",
    "            inputs, labels = inputs.to(device), labels.to(device)\n",
    "            outputs = model(inputs)\n",
    "            loss = criterion(outputs, labels)\n",
    "\n",
    "            running_loss += loss.item()\n",
    "            _, predicted = outputs.max(1)\n",
    "            total += labels.size(0)\n",
    "            correct += predicted.eq(labels).sum().item()\n",
    "\n",
    "            progress.set_postfix({\n",
    "                \"loss\": running_loss / (total / CONFIG[\"batch_size\"]),\n",
    "                \"acc\": 100. * correct / total\n",
    "            })\n",
    "\n",
    "    return running_loss / len(valloader), 100. * correct / total\n",
    "\n",
    "# -----------------------------\n",
    "# Main Function\n",
    "# -----------------------------\n",
    "def main():\n",
    "    CONFIG = {\n",
    "        \"model\": \"DenseNet121_Pretrained_FT\",\n",
    "        \"batch_size\": 64,\n",
    "        \"learning_rate\": 0.001,\n",
    "        \"epochs\": 10,\n",
    "        \"num_workers\": 0,\n",
    "        \"device\": \"cuda\" if torch.cuda.is_available() else \"cpu\",\n",
    "        \"data_dir\": \"./data\",\n",
    "        \"ood_dir\": \"./data/ood-test\",\n",
    "        \"wandb_project\": \"sp25-ds542-challenge\",\n",
    "        \"seed\": 42,\n",
    "    }\n",
    "\n",
    "    set_seed(CONFIG[\"seed\"])\n",
    "\n",
    "    # -----------------------------\n",
    "    # Data Transforms (Augmentation)\n",
    "    # -----------------------------\n",
    "    transform_train = transforms.Compose([\n",
    "        transforms.RandomCrop(32, padding=4),\n",
    "        transforms.RandomHorizontalFlip(),\n",
    "        transforms.ColorJitter(brightness=0.2, contrast=0.2, saturation=0.2),\n",
    "        transforms.RandomRotation(10),\n",
    "        transforms.ToTensor(),\n",
    "        transforms.Normalize((0.5071, 0.4865, 0.4409), (0.2673, 0.2564, 0.2762)),\n",
    "    ])\n",
    "    transform_test = transforms.Compose([\n",
    "        transforms.ToTensor(),\n",
    "        transforms.Normalize((0.5071, 0.4865, 0.4409), (0.2673, 0.2564, 0.2762)),\n",
    "    ])\n",
    "\n",
    "    # -----------------------------\n",
    "    # Load CIFAR-100 Dataset\n",
    "    # -----------------------------\n",
    "    trainset_full = torchvision.datasets.CIFAR100(root=CONFIG[\"data_dir\"], train=True, download=True, transform=transform_train)\n",
    "    train_size = int(0.8 * len(trainset_full))\n",
    "    val_size = len(trainset_full) - train_size\n",
    "    trainset, valset = torch.utils.data.random_split(trainset_full, [train_size, val_size])\n",
    "\n",
    "    trainloader = torch.utils.data.DataLoader(trainset, batch_size=CONFIG[\"batch_size\"], shuffle=True, num_workers=CONFIG[\"num_workers\"])\n",
    "    valloader = torch.utils.data.DataLoader(valset, batch_size=CONFIG[\"batch_size\"], shuffle=False, num_workers=CONFIG[\"num_workers\"])\n",
    "    testset = torchvision.datasets.CIFAR100(root=CONFIG[\"data_dir\"], train=False, download=True, transform=transform_test)\n",
    "    testloader = torch.utils.data.DataLoader(testset, batch_size=CONFIG[\"batch_size\"], shuffle=False, num_workers=CONFIG[\"num_workers\"])\n",
    "\n",
    "    # -----------------------------\n",
    "    # Define Model & Load Checkpoint\n",
    "    # -----------------------------\n",
    "    model = models.densenet121(weights=models.DenseNet121_Weights.IMAGENET1K_V1)\n",
    "    model.classifier = nn.Sequential(\n",
    "        nn.Dropout(0.5),\n",
    "        nn.Linear(model.classifier.in_features, 100)\n",
    "    )\n",
    "    model = model.to(CONFIG[\"device\"])\n",
    "\n",
    "    checkpoint_path = \"best_model_part3_densenet121_ep20.pth\"\n",
    "    model.load_state_dict(torch.load(checkpoint_path, map_location=CONFIG[\"device\"]))\n",
    "    print(f\"Loaded model weights from: {checkpoint_path}\")\n",
    "\n",
    "    # -----------------------------\n",
    "    # Re-Init Optimizer & Scheduler for Fine-tune Phase 3\n",
    "    # -----------------------------\n",
    "    criterion = nn.CrossEntropyLoss(label_smoothing=0.1)\n",
    "    optimizer = optim.AdamW(model.parameters(), lr=CONFIG[\"learning_rate\"], weight_decay=1e-4)\n",
    "    scheduler = optim.lr_scheduler.CosineAnnealingLR(optimizer, T_max=CONFIG[\"epochs\"])\n",
    "\n",
    "    # -----------------------------\n",
    "    # W&B New Fine-Tuning Run\n",
    "    # -----------------------------\n",
    "    wandb.init(project=CONFIG[\"wandb_project\"], config=CONFIG, name=\"DenseNet121 Ep30\")\n",
    "    wandb.watch(model)\n",
    "\n",
    "    best_val_acc = 0.0\n",
    "    for epoch in range(CONFIG[\"epochs\"]):\n",
    "        train_loss, train_acc = train(epoch, model, trainloader, optimizer, criterion, CONFIG)\n",
    "        val_loss, val_acc = validate(model, valloader, criterion, CONFIG)\n",
    "        scheduler.step()\n",
    "\n",
    "        wandb.log({\n",
    "            \"epoch\": epoch + 21,\n",
    "            \"train_loss\": train_loss,\n",
    "            \"train_acc\": train_acc,\n",
    "            \"val_loss\": val_loss,\n",
    "            \"val_acc\": val_acc,\n",
    "            \"lr\": optimizer.param_groups[0][\"lr\"]\n",
    "        })\n",
    "\n",
    "        if val_acc > best_val_acc:\n",
    "            best_val_acc = val_acc\n",
    "            torch.save(model.state_dict(), \"best_model_part3_densenet121_ep30.pth\")\n",
    "            wandb.save(\"best_model_part3_densenet121_ep30.pth\")\n",
    "\n",
    "    wandb.finish()\n",
    "\n",
    "    # -----------------------------\n",
    "    # Evaluation & Submission\n",
    "    # -----------------------------\n",
    "    import eval_cifar100\n",
    "    import eval_ood\n",
    "\n",
    "    shutil.copy(\"best_model_part3_densenet121_ep30.pth\", \"best_model.pth\")\n",
    "\n",
    "    predictions, clean_accuracy = eval_cifar100.evaluate_cifar100_test(model, testloader, CONFIG[\"device\"])\n",
    "    print(f\"Clean CIFAR-100 Test Accuracy: {clean_accuracy:.2f}%\")\n",
    "\n",
    "    all_predictions = eval_ood.evaluate_ood_test(model, CONFIG)\n",
    "    submission_df_ood = eval_ood.create_ood_df(all_predictions)\n",
    "    submission_df_ood.to_csv(\"submission_ood_part3densenet_ep30.csv\", index=False)\n",
    "    print(\"submission_ood_part3densenet_ep30.csv created successfully.\")\n",
    "\n",
    "if __name__ == '__main__':\n",
    "    main()\n"
   ]
  },
  {
   "cell_type": "markdown",
   "id": "64d6b43a-1405-4294-8c91-592cdac4277b",
   "metadata": {},
   "source": [
    "#### 40 Epochs (continued from pretrained DenseNet121 at Epoch 30)"
   ]
  },
  {
   "cell_type": "code",
   "execution_count": 4,
   "id": "896e05c2-ed1b-4530-92d3-837a057af043",
   "metadata": {},
   "outputs": [
    {
     "name": "stdout",
     "output_type": "stream",
     "text": [
      "Loaded model weights from: best_model_part3_densenet121_ep30.pth\n"
     ]
    },
    {
     "data": {
      "text/html": [
       "Tracking run with wandb version 0.19.8"
      ],
      "text/plain": [
       "<IPython.core.display.HTML object>"
      ]
     },
     "metadata": {},
     "output_type": "display_data"
    },
    {
     "data": {
      "text/html": [
       "Run data is saved locally in <code>/usr4/dl4ds/samritha/wandb/run-20250329_211336-yy7pxfim</code>"
      ],
      "text/plain": [
       "<IPython.core.display.HTML object>"
      ]
     },
     "metadata": {},
     "output_type": "display_data"
    },
    {
     "data": {
      "text/html": [
       "Syncing run <strong><a href='https://wandb.ai/samritha-boston-university/sp25-ds542-challenge/runs/yy7pxfim' target=\"_blank\">DenseNet121 Ep40</a></strong> to <a href='https://wandb.ai/samritha-boston-university/sp25-ds542-challenge' target=\"_blank\">Weights & Biases</a> (<a href='https://wandb.me/developer-guide' target=\"_blank\">docs</a>)<br>"
      ],
      "text/plain": [
       "<IPython.core.display.HTML object>"
      ]
     },
     "metadata": {},
     "output_type": "display_data"
    },
    {
     "data": {
      "text/html": [
       " View project at <a href='https://wandb.ai/samritha-boston-university/sp25-ds542-challenge' target=\"_blank\">https://wandb.ai/samritha-boston-university/sp25-ds542-challenge</a>"
      ],
      "text/plain": [
       "<IPython.core.display.HTML object>"
      ]
     },
     "metadata": {},
     "output_type": "display_data"
    },
    {
     "data": {
      "text/html": [
       " View run at <a href='https://wandb.ai/samritha-boston-university/sp25-ds542-challenge/runs/yy7pxfim' target=\"_blank\">https://wandb.ai/samritha-boston-university/sp25-ds542-challenge/runs/yy7pxfim</a>"
      ],
      "text/plain": [
       "<IPython.core.display.HTML object>"
      ]
     },
     "metadata": {},
     "output_type": "display_data"
    },
    {
     "data": {
      "application/vnd.jupyter.widget-view+json": {
       "model_id": "dec3d21d275843b49ba185cc069fe337",
       "version_major": 2,
       "version_minor": 0
      },
      "text/plain": [
       "Epoch 31/40 [Train]:   0%|          | 0/625 [00:00<?, ?it/s]"
      ]
     },
     "metadata": {},
     "output_type": "display_data"
    },
    {
     "data": {
      "application/vnd.jupyter.widget-view+json": {
       "model_id": "84c8f1a0c23f4b1c8d34b243d6ce6714",
       "version_major": 2,
       "version_minor": 0
      },
      "text/plain": [
       "[Validate]:   0%|          | 0/157 [00:00<?, ?it/s]"
      ]
     },
     "metadata": {},
     "output_type": "display_data"
    },
    {
     "data": {
      "application/vnd.jupyter.widget-view+json": {
       "model_id": "62b4c53041e443d8845bc9cfe58509e2",
       "version_major": 2,
       "version_minor": 0
      },
      "text/plain": [
       "Epoch 32/40 [Train]:   0%|          | 0/625 [00:00<?, ?it/s]"
      ]
     },
     "metadata": {},
     "output_type": "display_data"
    },
    {
     "data": {
      "application/vnd.jupyter.widget-view+json": {
       "model_id": "33f4a351a1574ace9e52f1a49c5375b2",
       "version_major": 2,
       "version_minor": 0
      },
      "text/plain": [
       "[Validate]:   0%|          | 0/157 [00:00<?, ?it/s]"
      ]
     },
     "metadata": {},
     "output_type": "display_data"
    },
    {
     "data": {
      "application/vnd.jupyter.widget-view+json": {
       "model_id": "2b25873270d24091831e3cda6ece8adb",
       "version_major": 2,
       "version_minor": 0
      },
      "text/plain": [
       "Epoch 33/40 [Train]:   0%|          | 0/625 [00:00<?, ?it/s]"
      ]
     },
     "metadata": {},
     "output_type": "display_data"
    },
    {
     "data": {
      "application/vnd.jupyter.widget-view+json": {
       "model_id": "d0ec853754a540d1833768358e3c1c3f",
       "version_major": 2,
       "version_minor": 0
      },
      "text/plain": [
       "[Validate]:   0%|          | 0/157 [00:00<?, ?it/s]"
      ]
     },
     "metadata": {},
     "output_type": "display_data"
    },
    {
     "data": {
      "application/vnd.jupyter.widget-view+json": {
       "model_id": "26a8260fae994e72857342bace253da7",
       "version_major": 2,
       "version_minor": 0
      },
      "text/plain": [
       "Epoch 34/40 [Train]:   0%|          | 0/625 [00:00<?, ?it/s]"
      ]
     },
     "metadata": {},
     "output_type": "display_data"
    },
    {
     "data": {
      "application/vnd.jupyter.widget-view+json": {
       "model_id": "963178dce1444be58ee36e989484d670",
       "version_major": 2,
       "version_minor": 0
      },
      "text/plain": [
       "[Validate]:   0%|          | 0/157 [00:00<?, ?it/s]"
      ]
     },
     "metadata": {},
     "output_type": "display_data"
    },
    {
     "data": {
      "application/vnd.jupyter.widget-view+json": {
       "model_id": "988b09b337e6448ab8296be0c7e1c3d3",
       "version_major": 2,
       "version_minor": 0
      },
      "text/plain": [
       "Epoch 35/40 [Train]:   0%|          | 0/625 [00:00<?, ?it/s]"
      ]
     },
     "metadata": {},
     "output_type": "display_data"
    },
    {
     "data": {
      "application/vnd.jupyter.widget-view+json": {
       "model_id": "1166991915c44765aab3b7048ec9fc78",
       "version_major": 2,
       "version_minor": 0
      },
      "text/plain": [
       "[Validate]:   0%|          | 0/157 [00:00<?, ?it/s]"
      ]
     },
     "metadata": {},
     "output_type": "display_data"
    },
    {
     "data": {
      "application/vnd.jupyter.widget-view+json": {
       "model_id": "d6a68956e01e42dab91eb3dcf5c60572",
       "version_major": 2,
       "version_minor": 0
      },
      "text/plain": [
       "Epoch 36/40 [Train]:   0%|          | 0/625 [00:00<?, ?it/s]"
      ]
     },
     "metadata": {},
     "output_type": "display_data"
    },
    {
     "data": {
      "application/vnd.jupyter.widget-view+json": {
       "model_id": "00d5d93db3b046028e90daf3d426958b",
       "version_major": 2,
       "version_minor": 0
      },
      "text/plain": [
       "[Validate]:   0%|          | 0/157 [00:00<?, ?it/s]"
      ]
     },
     "metadata": {},
     "output_type": "display_data"
    },
    {
     "data": {
      "application/vnd.jupyter.widget-view+json": {
       "model_id": "e98dbb9f488d47d4873d488efbc53cfb",
       "version_major": 2,
       "version_minor": 0
      },
      "text/plain": [
       "Epoch 37/40 [Train]:   0%|          | 0/625 [00:00<?, ?it/s]"
      ]
     },
     "metadata": {},
     "output_type": "display_data"
    },
    {
     "data": {
      "application/vnd.jupyter.widget-view+json": {
       "model_id": "1a9fc01abf3740dcb0eb9ed1ed2d7b19",
       "version_major": 2,
       "version_minor": 0
      },
      "text/plain": [
       "[Validate]:   0%|          | 0/157 [00:00<?, ?it/s]"
      ]
     },
     "metadata": {},
     "output_type": "display_data"
    },
    {
     "data": {
      "application/vnd.jupyter.widget-view+json": {
       "model_id": "90fd28a62e4944e0b089b07a70ade72f",
       "version_major": 2,
       "version_minor": 0
      },
      "text/plain": [
       "Epoch 38/40 [Train]:   0%|          | 0/625 [00:00<?, ?it/s]"
      ]
     },
     "metadata": {},
     "output_type": "display_data"
    },
    {
     "data": {
      "application/vnd.jupyter.widget-view+json": {
       "model_id": "6421a464eef2447d89020eec861c9d9c",
       "version_major": 2,
       "version_minor": 0
      },
      "text/plain": [
       "[Validate]:   0%|          | 0/157 [00:00<?, ?it/s]"
      ]
     },
     "metadata": {},
     "output_type": "display_data"
    },
    {
     "data": {
      "application/vnd.jupyter.widget-view+json": {
       "model_id": "22d87af4a29d43ca8a036e65a49abc54",
       "version_major": 2,
       "version_minor": 0
      },
      "text/plain": [
       "Epoch 39/40 [Train]:   0%|          | 0/625 [00:00<?, ?it/s]"
      ]
     },
     "metadata": {},
     "output_type": "display_data"
    },
    {
     "data": {
      "application/vnd.jupyter.widget-view+json": {
       "model_id": "549209a6507748738d2979f1d88498fd",
       "version_major": 2,
       "version_minor": 0
      },
      "text/plain": [
       "[Validate]:   0%|          | 0/157 [00:00<?, ?it/s]"
      ]
     },
     "metadata": {},
     "output_type": "display_data"
    },
    {
     "data": {
      "application/vnd.jupyter.widget-view+json": {
       "model_id": "29b82f7b225d478ea610ee6096ac2b16",
       "version_major": 2,
       "version_minor": 0
      },
      "text/plain": [
       "Epoch 40/40 [Train]:   0%|          | 0/625 [00:00<?, ?it/s]"
      ]
     },
     "metadata": {},
     "output_type": "display_data"
    },
    {
     "data": {
      "application/vnd.jupyter.widget-view+json": {
       "model_id": "c536a22fb2714fac938a0b6118e53b90",
       "version_major": 2,
       "version_minor": 0
      },
      "text/plain": [
       "[Validate]:   0%|          | 0/157 [00:00<?, ?it/s]"
      ]
     },
     "metadata": {},
     "output_type": "display_data"
    },
    {
     "data": {
      "text/html": [],
      "text/plain": [
       "<IPython.core.display.HTML object>"
      ]
     },
     "metadata": {},
     "output_type": "display_data"
    },
    {
     "data": {
      "text/html": [
       "<br>    <style><br>        .wandb-row {<br>            display: flex;<br>            flex-direction: row;<br>            flex-wrap: wrap;<br>            justify-content: flex-start;<br>            width: 100%;<br>        }<br>        .wandb-col {<br>            display: flex;<br>            flex-direction: column;<br>            flex-basis: 100%;<br>            flex: 1;<br>            padding: 10px;<br>        }<br>    </style><br><div class=\"wandb-row\"><div class=\"wandb-col\"><h3>Run history:</h3><br/><table class=\"wandb\"><tr><td>epoch</td><td>▁▂▃▃▄▅▆▆▇█</td></tr><tr><td>lr</td><td>█▇▇▆▅▃▂▂▁▁</td></tr><tr><td>train_acc</td><td>▅▆▅▂▂▁▅▇██</td></tr><tr><td>train_loss</td><td>▄▃▄▇▇█▃▂▁▁</td></tr><tr><td>val_acc</td><td>▃▆▃▁▅▄▇███</td></tr><tr><td>val_loss</td><td>▅▃▆█▄▅▂▁▁▁</td></tr></table><br/></div><div class=\"wandb-col\"><h3>Run summary:</h3><br/><table class=\"wandb\"><tr><td>epoch</td><td>40</td></tr><tr><td>lr</td><td>0</td></tr><tr><td>train_acc</td><td>55.895</td></tr><tr><td>train_loss</td><td>2.19031</td></tr><tr><td>val_acc</td><td>50.7</td></tr><tr><td>val_loss</td><td>2.3531</td></tr></table><br/></div></div>"
      ],
      "text/plain": [
       "<IPython.core.display.HTML object>"
      ]
     },
     "metadata": {},
     "output_type": "display_data"
    },
    {
     "data": {
      "text/html": [
       " View run <strong style=\"color:#cdcd00\">DenseNet121 Ep40</strong> at: <a href='https://wandb.ai/samritha-boston-university/sp25-ds542-challenge/runs/yy7pxfim' target=\"_blank\">https://wandb.ai/samritha-boston-university/sp25-ds542-challenge/runs/yy7pxfim</a><br> View project at: <a href='https://wandb.ai/samritha-boston-university/sp25-ds542-challenge' target=\"_blank\">https://wandb.ai/samritha-boston-university/sp25-ds542-challenge</a><br>Synced 5 W&B file(s), 0 media file(s), 0 artifact file(s) and 1 other file(s)"
      ],
      "text/plain": [
       "<IPython.core.display.HTML object>"
      ]
     },
     "metadata": {},
     "output_type": "display_data"
    },
    {
     "data": {
      "text/html": [
       "Find logs at: <code>./wandb/run-20250329_211336-yy7pxfim/logs</code>"
      ],
      "text/plain": [
       "<IPython.core.display.HTML object>"
      ]
     },
     "metadata": {},
     "output_type": "display_data"
    },
    {
     "data": {
      "application/vnd.jupyter.widget-view+json": {
       "model_id": "16f2e7e2939a4e28a608b14089ab4ea0",
       "version_major": 2,
       "version_minor": 0
      },
      "text/plain": [
       "Evaluating on Clean Test Set:   0%|          | 0/157 [00:00<?, ?it/s]"
      ]
     },
     "metadata": {},
     "output_type": "display_data"
    },
    {
     "name": "stdout",
     "output_type": "stream",
     "text": [
      "Clean CIFAR-100 Test Accuracy: 54.33%\n",
      "All files are already downloaded.\n"
     ]
    },
    {
     "data": {
      "application/vnd.jupyter.widget-view+json": {
       "model_id": "a5088413107c4456808bc99ec7567ec6",
       "version_major": 2,
       "version_minor": 0
      },
      "text/plain": [
       "Evaluating distortion00 (Severity 1):   0%|          | 0/157 [00:00<?, ?it/s]"
      ]
     },
     "metadata": {},
     "output_type": "display_data"
    },
    {
     "name": "stdout",
     "output_type": "stream",
     "text": [
      "distortion00 (Severity 1)\n"
     ]
    },
    {
     "data": {
      "application/vnd.jupyter.widget-view+json": {
       "model_id": "1d6197bf2d0547d49b79e33c34dc76c4",
       "version_major": 2,
       "version_minor": 0
      },
      "text/plain": [
       "Evaluating distortion00 (Severity 2):   0%|          | 0/157 [00:00<?, ?it/s]"
      ]
     },
     "metadata": {},
     "output_type": "display_data"
    },
    {
     "name": "stdout",
     "output_type": "stream",
     "text": [
      "distortion00 (Severity 2)\n"
     ]
    },
    {
     "data": {
      "application/vnd.jupyter.widget-view+json": {
       "model_id": "e0ee4d0724214a1e97e33555727e1882",
       "version_major": 2,
       "version_minor": 0
      },
      "text/plain": [
       "Evaluating distortion00 (Severity 3):   0%|          | 0/157 [00:00<?, ?it/s]"
      ]
     },
     "metadata": {},
     "output_type": "display_data"
    },
    {
     "name": "stdout",
     "output_type": "stream",
     "text": [
      "distortion00 (Severity 3)\n"
     ]
    },
    {
     "data": {
      "application/vnd.jupyter.widget-view+json": {
       "model_id": "8454efdf803b4ea29b73691fca4cbb03",
       "version_major": 2,
       "version_minor": 0
      },
      "text/plain": [
       "Evaluating distortion00 (Severity 4):   0%|          | 0/157 [00:00<?, ?it/s]"
      ]
     },
     "metadata": {},
     "output_type": "display_data"
    },
    {
     "name": "stdout",
     "output_type": "stream",
     "text": [
      "distortion00 (Severity 4)\n"
     ]
    },
    {
     "data": {
      "application/vnd.jupyter.widget-view+json": {
       "model_id": "7b19436911e84e1a860ec3491371282a",
       "version_major": 2,
       "version_minor": 0
      },
      "text/plain": [
       "Evaluating distortion00 (Severity 5):   0%|          | 0/157 [00:00<?, ?it/s]"
      ]
     },
     "metadata": {},
     "output_type": "display_data"
    },
    {
     "name": "stdout",
     "output_type": "stream",
     "text": [
      "distortion00 (Severity 5)\n"
     ]
    },
    {
     "data": {
      "application/vnd.jupyter.widget-view+json": {
       "model_id": "3d8334283cfa468f99c20f90f9da37c9",
       "version_major": 2,
       "version_minor": 0
      },
      "text/plain": [
       "Evaluating distortion01 (Severity 1):   0%|          | 0/157 [00:00<?, ?it/s]"
      ]
     },
     "metadata": {},
     "output_type": "display_data"
    },
    {
     "name": "stdout",
     "output_type": "stream",
     "text": [
      "distortion01 (Severity 1)\n"
     ]
    },
    {
     "data": {
      "application/vnd.jupyter.widget-view+json": {
       "model_id": "48ff9fb2f752445a8ec36482c2269b60",
       "version_major": 2,
       "version_minor": 0
      },
      "text/plain": [
       "Evaluating distortion01 (Severity 2):   0%|          | 0/157 [00:00<?, ?it/s]"
      ]
     },
     "metadata": {},
     "output_type": "display_data"
    },
    {
     "name": "stdout",
     "output_type": "stream",
     "text": [
      "distortion01 (Severity 2)\n"
     ]
    },
    {
     "data": {
      "application/vnd.jupyter.widget-view+json": {
       "model_id": "589bf91634a743cca2d18acf10ce32e9",
       "version_major": 2,
       "version_minor": 0
      },
      "text/plain": [
       "Evaluating distortion01 (Severity 3):   0%|          | 0/157 [00:00<?, ?it/s]"
      ]
     },
     "metadata": {},
     "output_type": "display_data"
    },
    {
     "name": "stdout",
     "output_type": "stream",
     "text": [
      "distortion01 (Severity 3)\n"
     ]
    },
    {
     "data": {
      "application/vnd.jupyter.widget-view+json": {
       "model_id": "3e1f7025b5ca405c9450fcd172c875d6",
       "version_major": 2,
       "version_minor": 0
      },
      "text/plain": [
       "Evaluating distortion01 (Severity 4):   0%|          | 0/157 [00:00<?, ?it/s]"
      ]
     },
     "metadata": {},
     "output_type": "display_data"
    },
    {
     "name": "stdout",
     "output_type": "stream",
     "text": [
      "distortion01 (Severity 4)\n"
     ]
    },
    {
     "data": {
      "application/vnd.jupyter.widget-view+json": {
       "model_id": "0cb1882db2cf40b19b204b4beed317f3",
       "version_major": 2,
       "version_minor": 0
      },
      "text/plain": [
       "Evaluating distortion01 (Severity 5):   0%|          | 0/157 [00:00<?, ?it/s]"
      ]
     },
     "metadata": {},
     "output_type": "display_data"
    },
    {
     "name": "stdout",
     "output_type": "stream",
     "text": [
      "distortion01 (Severity 5)\n"
     ]
    },
    {
     "data": {
      "application/vnd.jupyter.widget-view+json": {
       "model_id": "26cd75503f624f22a12e34ea13abc4e9",
       "version_major": 2,
       "version_minor": 0
      },
      "text/plain": [
       "Evaluating distortion02 (Severity 1):   0%|          | 0/157 [00:00<?, ?it/s]"
      ]
     },
     "metadata": {},
     "output_type": "display_data"
    },
    {
     "name": "stdout",
     "output_type": "stream",
     "text": [
      "distortion02 (Severity 1)\n"
     ]
    },
    {
     "data": {
      "application/vnd.jupyter.widget-view+json": {
       "model_id": "5d1de064a9cf421a9503887a69762ffa",
       "version_major": 2,
       "version_minor": 0
      },
      "text/plain": [
       "Evaluating distortion02 (Severity 2):   0%|          | 0/157 [00:00<?, ?it/s]"
      ]
     },
     "metadata": {},
     "output_type": "display_data"
    },
    {
     "name": "stdout",
     "output_type": "stream",
     "text": [
      "distortion02 (Severity 2)\n"
     ]
    },
    {
     "data": {
      "application/vnd.jupyter.widget-view+json": {
       "model_id": "550c6d94112c4a898ec1953e616afdd4",
       "version_major": 2,
       "version_minor": 0
      },
      "text/plain": [
       "Evaluating distortion02 (Severity 3):   0%|          | 0/157 [00:00<?, ?it/s]"
      ]
     },
     "metadata": {},
     "output_type": "display_data"
    },
    {
     "name": "stdout",
     "output_type": "stream",
     "text": [
      "distortion02 (Severity 3)\n"
     ]
    },
    {
     "data": {
      "application/vnd.jupyter.widget-view+json": {
       "model_id": "7a99116eec1641e6899979511663c680",
       "version_major": 2,
       "version_minor": 0
      },
      "text/plain": [
       "Evaluating distortion02 (Severity 4):   0%|          | 0/157 [00:00<?, ?it/s]"
      ]
     },
     "metadata": {},
     "output_type": "display_data"
    },
    {
     "name": "stdout",
     "output_type": "stream",
     "text": [
      "distortion02 (Severity 4)\n"
     ]
    },
    {
     "data": {
      "application/vnd.jupyter.widget-view+json": {
       "model_id": "fc382515dc1a420c82b17517c2f5fc00",
       "version_major": 2,
       "version_minor": 0
      },
      "text/plain": [
       "Evaluating distortion02 (Severity 5):   0%|          | 0/157 [00:00<?, ?it/s]"
      ]
     },
     "metadata": {},
     "output_type": "display_data"
    },
    {
     "name": "stdout",
     "output_type": "stream",
     "text": [
      "distortion02 (Severity 5)\n"
     ]
    },
    {
     "data": {
      "application/vnd.jupyter.widget-view+json": {
       "model_id": "bcf5b27205e34be583b7587b3d8bc64b",
       "version_major": 2,
       "version_minor": 0
      },
      "text/plain": [
       "Evaluating distortion03 (Severity 1):   0%|          | 0/157 [00:00<?, ?it/s]"
      ]
     },
     "metadata": {},
     "output_type": "display_data"
    },
    {
     "name": "stdout",
     "output_type": "stream",
     "text": [
      "distortion03 (Severity 1)\n"
     ]
    },
    {
     "data": {
      "application/vnd.jupyter.widget-view+json": {
       "model_id": "3e152e7edabc444bab8cea3b11b56f6b",
       "version_major": 2,
       "version_minor": 0
      },
      "text/plain": [
       "Evaluating distortion03 (Severity 2):   0%|          | 0/157 [00:00<?, ?it/s]"
      ]
     },
     "metadata": {},
     "output_type": "display_data"
    },
    {
     "name": "stdout",
     "output_type": "stream",
     "text": [
      "distortion03 (Severity 2)\n"
     ]
    },
    {
     "data": {
      "application/vnd.jupyter.widget-view+json": {
       "model_id": "714ed5950a46434ca25a8586e2ef97ae",
       "version_major": 2,
       "version_minor": 0
      },
      "text/plain": [
       "Evaluating distortion03 (Severity 3):   0%|          | 0/157 [00:00<?, ?it/s]"
      ]
     },
     "metadata": {},
     "output_type": "display_data"
    },
    {
     "name": "stdout",
     "output_type": "stream",
     "text": [
      "distortion03 (Severity 3)\n"
     ]
    },
    {
     "data": {
      "application/vnd.jupyter.widget-view+json": {
       "model_id": "e613fab1f6dc465e86124e6c66994062",
       "version_major": 2,
       "version_minor": 0
      },
      "text/plain": [
       "Evaluating distortion03 (Severity 4):   0%|          | 0/157 [00:00<?, ?it/s]"
      ]
     },
     "metadata": {},
     "output_type": "display_data"
    },
    {
     "name": "stdout",
     "output_type": "stream",
     "text": [
      "distortion03 (Severity 4)\n"
     ]
    },
    {
     "data": {
      "application/vnd.jupyter.widget-view+json": {
       "model_id": "2b06f6f3c31848a68263f29710e6a7b6",
       "version_major": 2,
       "version_minor": 0
      },
      "text/plain": [
       "Evaluating distortion03 (Severity 5):   0%|          | 0/157 [00:00<?, ?it/s]"
      ]
     },
     "metadata": {},
     "output_type": "display_data"
    },
    {
     "name": "stdout",
     "output_type": "stream",
     "text": [
      "distortion03 (Severity 5)\n"
     ]
    },
    {
     "data": {
      "application/vnd.jupyter.widget-view+json": {
       "model_id": "bb11fc76a0794c71b9fc6bf6be537943",
       "version_major": 2,
       "version_minor": 0
      },
      "text/plain": [
       "Evaluating distortion04 (Severity 1):   0%|          | 0/157 [00:00<?, ?it/s]"
      ]
     },
     "metadata": {},
     "output_type": "display_data"
    },
    {
     "name": "stdout",
     "output_type": "stream",
     "text": [
      "distortion04 (Severity 1)\n"
     ]
    },
    {
     "data": {
      "application/vnd.jupyter.widget-view+json": {
       "model_id": "f747a72b0465438192452be2d2817fa9",
       "version_major": 2,
       "version_minor": 0
      },
      "text/plain": [
       "Evaluating distortion04 (Severity 2):   0%|          | 0/157 [00:00<?, ?it/s]"
      ]
     },
     "metadata": {},
     "output_type": "display_data"
    },
    {
     "name": "stdout",
     "output_type": "stream",
     "text": [
      "distortion04 (Severity 2)\n"
     ]
    },
    {
     "data": {
      "application/vnd.jupyter.widget-view+json": {
       "model_id": "116c9ef21705465e9929648dbf16a383",
       "version_major": 2,
       "version_minor": 0
      },
      "text/plain": [
       "Evaluating distortion04 (Severity 3):   0%|          | 0/157 [00:00<?, ?it/s]"
      ]
     },
     "metadata": {},
     "output_type": "display_data"
    },
    {
     "name": "stdout",
     "output_type": "stream",
     "text": [
      "distortion04 (Severity 3)\n"
     ]
    },
    {
     "data": {
      "application/vnd.jupyter.widget-view+json": {
       "model_id": "89f77e3d7e0a4333847646948d0af066",
       "version_major": 2,
       "version_minor": 0
      },
      "text/plain": [
       "Evaluating distortion04 (Severity 4):   0%|          | 0/157 [00:00<?, ?it/s]"
      ]
     },
     "metadata": {},
     "output_type": "display_data"
    },
    {
     "name": "stdout",
     "output_type": "stream",
     "text": [
      "distortion04 (Severity 4)\n"
     ]
    },
    {
     "data": {
      "application/vnd.jupyter.widget-view+json": {
       "model_id": "60468cc7bb5f4ba88c1943e42e147f51",
       "version_major": 2,
       "version_minor": 0
      },
      "text/plain": [
       "Evaluating distortion04 (Severity 5):   0%|          | 0/157 [00:00<?, ?it/s]"
      ]
     },
     "metadata": {},
     "output_type": "display_data"
    },
    {
     "name": "stdout",
     "output_type": "stream",
     "text": [
      "distortion04 (Severity 5)\n"
     ]
    },
    {
     "data": {
      "application/vnd.jupyter.widget-view+json": {
       "model_id": "b81f3c95bc17417499818434cb982530",
       "version_major": 2,
       "version_minor": 0
      },
      "text/plain": [
       "Evaluating distortion05 (Severity 1):   0%|          | 0/157 [00:00<?, ?it/s]"
      ]
     },
     "metadata": {},
     "output_type": "display_data"
    },
    {
     "name": "stdout",
     "output_type": "stream",
     "text": [
      "distortion05 (Severity 1)\n"
     ]
    },
    {
     "data": {
      "application/vnd.jupyter.widget-view+json": {
       "model_id": "365fe7499a0043179bb82ab09ce0db1d",
       "version_major": 2,
       "version_minor": 0
      },
      "text/plain": [
       "Evaluating distortion05 (Severity 2):   0%|          | 0/157 [00:00<?, ?it/s]"
      ]
     },
     "metadata": {},
     "output_type": "display_data"
    },
    {
     "name": "stdout",
     "output_type": "stream",
     "text": [
      "distortion05 (Severity 2)\n"
     ]
    },
    {
     "data": {
      "application/vnd.jupyter.widget-view+json": {
       "model_id": "11ee7cd3cd3140a0abcf1456015ec4d7",
       "version_major": 2,
       "version_minor": 0
      },
      "text/plain": [
       "Evaluating distortion05 (Severity 3):   0%|          | 0/157 [00:00<?, ?it/s]"
      ]
     },
     "metadata": {},
     "output_type": "display_data"
    },
    {
     "name": "stdout",
     "output_type": "stream",
     "text": [
      "distortion05 (Severity 3)\n"
     ]
    },
    {
     "data": {
      "application/vnd.jupyter.widget-view+json": {
       "model_id": "b8be3d3cdc9544c5a5b2fa25b4be807e",
       "version_major": 2,
       "version_minor": 0
      },
      "text/plain": [
       "Evaluating distortion05 (Severity 4):   0%|          | 0/157 [00:00<?, ?it/s]"
      ]
     },
     "metadata": {},
     "output_type": "display_data"
    },
    {
     "name": "stdout",
     "output_type": "stream",
     "text": [
      "distortion05 (Severity 4)\n"
     ]
    },
    {
     "data": {
      "application/vnd.jupyter.widget-view+json": {
       "model_id": "dda34108535d4c1fbd6c2a92d5ef0a3a",
       "version_major": 2,
       "version_minor": 0
      },
      "text/plain": [
       "Evaluating distortion05 (Severity 5):   0%|          | 0/157 [00:00<?, ?it/s]"
      ]
     },
     "metadata": {},
     "output_type": "display_data"
    },
    {
     "name": "stdout",
     "output_type": "stream",
     "text": [
      "distortion05 (Severity 5)\n"
     ]
    },
    {
     "data": {
      "application/vnd.jupyter.widget-view+json": {
       "model_id": "6aecf158ebc4434a948a15ad10a64ee3",
       "version_major": 2,
       "version_minor": 0
      },
      "text/plain": [
       "Evaluating distortion06 (Severity 1):   0%|          | 0/157 [00:00<?, ?it/s]"
      ]
     },
     "metadata": {},
     "output_type": "display_data"
    },
    {
     "name": "stdout",
     "output_type": "stream",
     "text": [
      "distortion06 (Severity 1)\n"
     ]
    },
    {
     "data": {
      "application/vnd.jupyter.widget-view+json": {
       "model_id": "529d335ffa4a46a4a5b1771008f2b032",
       "version_major": 2,
       "version_minor": 0
      },
      "text/plain": [
       "Evaluating distortion06 (Severity 2):   0%|          | 0/157 [00:00<?, ?it/s]"
      ]
     },
     "metadata": {},
     "output_type": "display_data"
    },
    {
     "name": "stdout",
     "output_type": "stream",
     "text": [
      "distortion06 (Severity 2)\n"
     ]
    },
    {
     "data": {
      "application/vnd.jupyter.widget-view+json": {
       "model_id": "a6366306f2254323b3a28cb61b0f7a36",
       "version_major": 2,
       "version_minor": 0
      },
      "text/plain": [
       "Evaluating distortion06 (Severity 3):   0%|          | 0/157 [00:00<?, ?it/s]"
      ]
     },
     "metadata": {},
     "output_type": "display_data"
    },
    {
     "name": "stdout",
     "output_type": "stream",
     "text": [
      "distortion06 (Severity 3)\n"
     ]
    },
    {
     "data": {
      "application/vnd.jupyter.widget-view+json": {
       "model_id": "2709430d9492462aaff1545fefe42cd7",
       "version_major": 2,
       "version_minor": 0
      },
      "text/plain": [
       "Evaluating distortion06 (Severity 4):   0%|          | 0/157 [00:00<?, ?it/s]"
      ]
     },
     "metadata": {},
     "output_type": "display_data"
    },
    {
     "name": "stdout",
     "output_type": "stream",
     "text": [
      "distortion06 (Severity 4)\n"
     ]
    },
    {
     "data": {
      "application/vnd.jupyter.widget-view+json": {
       "model_id": "5f9144dab05b4fc2aa838a6eb0879724",
       "version_major": 2,
       "version_minor": 0
      },
      "text/plain": [
       "Evaluating distortion06 (Severity 5):   0%|          | 0/157 [00:00<?, ?it/s]"
      ]
     },
     "metadata": {},
     "output_type": "display_data"
    },
    {
     "name": "stdout",
     "output_type": "stream",
     "text": [
      "distortion06 (Severity 5)\n"
     ]
    },
    {
     "data": {
      "application/vnd.jupyter.widget-view+json": {
       "model_id": "5af7ab0b91ab4fdbbfa70b2046d279b7",
       "version_major": 2,
       "version_minor": 0
      },
      "text/plain": [
       "Evaluating distortion07 (Severity 1):   0%|          | 0/157 [00:00<?, ?it/s]"
      ]
     },
     "metadata": {},
     "output_type": "display_data"
    },
    {
     "name": "stdout",
     "output_type": "stream",
     "text": [
      "distortion07 (Severity 1)\n"
     ]
    },
    {
     "data": {
      "application/vnd.jupyter.widget-view+json": {
       "model_id": "afa86dba9b7949c2942123d53168c9f2",
       "version_major": 2,
       "version_minor": 0
      },
      "text/plain": [
       "Evaluating distortion07 (Severity 2):   0%|          | 0/157 [00:00<?, ?it/s]"
      ]
     },
     "metadata": {},
     "output_type": "display_data"
    },
    {
     "name": "stdout",
     "output_type": "stream",
     "text": [
      "distortion07 (Severity 2)\n"
     ]
    },
    {
     "data": {
      "application/vnd.jupyter.widget-view+json": {
       "model_id": "fed4b601a451420e9ef29fe1044cf98f",
       "version_major": 2,
       "version_minor": 0
      },
      "text/plain": [
       "Evaluating distortion07 (Severity 3):   0%|          | 0/157 [00:00<?, ?it/s]"
      ]
     },
     "metadata": {},
     "output_type": "display_data"
    },
    {
     "name": "stdout",
     "output_type": "stream",
     "text": [
      "distortion07 (Severity 3)\n"
     ]
    },
    {
     "data": {
      "application/vnd.jupyter.widget-view+json": {
       "model_id": "52d23849e23747719fa77c29de80c41c",
       "version_major": 2,
       "version_minor": 0
      },
      "text/plain": [
       "Evaluating distortion07 (Severity 4):   0%|          | 0/157 [00:00<?, ?it/s]"
      ]
     },
     "metadata": {},
     "output_type": "display_data"
    },
    {
     "name": "stdout",
     "output_type": "stream",
     "text": [
      "distortion07 (Severity 4)\n"
     ]
    },
    {
     "data": {
      "application/vnd.jupyter.widget-view+json": {
       "model_id": "358d95a325fc48d6a38c9624d9f11e52",
       "version_major": 2,
       "version_minor": 0
      },
      "text/plain": [
       "Evaluating distortion07 (Severity 5):   0%|          | 0/157 [00:00<?, ?it/s]"
      ]
     },
     "metadata": {},
     "output_type": "display_data"
    },
    {
     "name": "stdout",
     "output_type": "stream",
     "text": [
      "distortion07 (Severity 5)\n"
     ]
    },
    {
     "data": {
      "application/vnd.jupyter.widget-view+json": {
       "model_id": "5de706fd22d24b368321689c7bcdc4db",
       "version_major": 2,
       "version_minor": 0
      },
      "text/plain": [
       "Evaluating distortion08 (Severity 1):   0%|          | 0/157 [00:00<?, ?it/s]"
      ]
     },
     "metadata": {},
     "output_type": "display_data"
    },
    {
     "name": "stdout",
     "output_type": "stream",
     "text": [
      "distortion08 (Severity 1)\n"
     ]
    },
    {
     "data": {
      "application/vnd.jupyter.widget-view+json": {
       "model_id": "3186f81cdc2e48ba9a5016be9c2d888a",
       "version_major": 2,
       "version_minor": 0
      },
      "text/plain": [
       "Evaluating distortion08 (Severity 2):   0%|          | 0/157 [00:00<?, ?it/s]"
      ]
     },
     "metadata": {},
     "output_type": "display_data"
    },
    {
     "name": "stdout",
     "output_type": "stream",
     "text": [
      "distortion08 (Severity 2)\n"
     ]
    },
    {
     "data": {
      "application/vnd.jupyter.widget-view+json": {
       "model_id": "45ca9224204d42c2bde523510c3e5094",
       "version_major": 2,
       "version_minor": 0
      },
      "text/plain": [
       "Evaluating distortion08 (Severity 3):   0%|          | 0/157 [00:00<?, ?it/s]"
      ]
     },
     "metadata": {},
     "output_type": "display_data"
    },
    {
     "name": "stdout",
     "output_type": "stream",
     "text": [
      "distortion08 (Severity 3)\n"
     ]
    },
    {
     "data": {
      "application/vnd.jupyter.widget-view+json": {
       "model_id": "f3d0456a4a214710b69ff029763520a2",
       "version_major": 2,
       "version_minor": 0
      },
      "text/plain": [
       "Evaluating distortion08 (Severity 4):   0%|          | 0/157 [00:00<?, ?it/s]"
      ]
     },
     "metadata": {},
     "output_type": "display_data"
    },
    {
     "name": "stdout",
     "output_type": "stream",
     "text": [
      "distortion08 (Severity 4)\n"
     ]
    },
    {
     "data": {
      "application/vnd.jupyter.widget-view+json": {
       "model_id": "f15cf6b257324dfc818ac91538427528",
       "version_major": 2,
       "version_minor": 0
      },
      "text/plain": [
       "Evaluating distortion08 (Severity 5):   0%|          | 0/157 [00:00<?, ?it/s]"
      ]
     },
     "metadata": {},
     "output_type": "display_data"
    },
    {
     "name": "stdout",
     "output_type": "stream",
     "text": [
      "distortion08 (Severity 5)\n"
     ]
    },
    {
     "data": {
      "application/vnd.jupyter.widget-view+json": {
       "model_id": "568495456ae940bc9a24af37dd53ab37",
       "version_major": 2,
       "version_minor": 0
      },
      "text/plain": [
       "Evaluating distortion09 (Severity 1):   0%|          | 0/157 [00:00<?, ?it/s]"
      ]
     },
     "metadata": {},
     "output_type": "display_data"
    },
    {
     "name": "stdout",
     "output_type": "stream",
     "text": [
      "distortion09 (Severity 1)\n"
     ]
    },
    {
     "data": {
      "application/vnd.jupyter.widget-view+json": {
       "model_id": "e7b864554a1b46f29e77cbb1ad3473f5",
       "version_major": 2,
       "version_minor": 0
      },
      "text/plain": [
       "Evaluating distortion09 (Severity 2):   0%|          | 0/157 [00:00<?, ?it/s]"
      ]
     },
     "metadata": {},
     "output_type": "display_data"
    },
    {
     "name": "stdout",
     "output_type": "stream",
     "text": [
      "distortion09 (Severity 2)\n"
     ]
    },
    {
     "data": {
      "application/vnd.jupyter.widget-view+json": {
       "model_id": "fe2bfc16e402448a854dad7a62e7b73b",
       "version_major": 2,
       "version_minor": 0
      },
      "text/plain": [
       "Evaluating distortion09 (Severity 3):   0%|          | 0/157 [00:00<?, ?it/s]"
      ]
     },
     "metadata": {},
     "output_type": "display_data"
    },
    {
     "name": "stdout",
     "output_type": "stream",
     "text": [
      "distortion09 (Severity 3)\n"
     ]
    },
    {
     "data": {
      "application/vnd.jupyter.widget-view+json": {
       "model_id": "b1ea465d27bc4d7ba6ab371f6937ce53",
       "version_major": 2,
       "version_minor": 0
      },
      "text/plain": [
       "Evaluating distortion09 (Severity 4):   0%|          | 0/157 [00:00<?, ?it/s]"
      ]
     },
     "metadata": {},
     "output_type": "display_data"
    },
    {
     "name": "stdout",
     "output_type": "stream",
     "text": [
      "distortion09 (Severity 4)\n"
     ]
    },
    {
     "data": {
      "application/vnd.jupyter.widget-view+json": {
       "model_id": "f18040b6f3e74cfa889a0438279b6bdc",
       "version_major": 2,
       "version_minor": 0
      },
      "text/plain": [
       "Evaluating distortion09 (Severity 5):   0%|          | 0/157 [00:00<?, ?it/s]"
      ]
     },
     "metadata": {},
     "output_type": "display_data"
    },
    {
     "name": "stdout",
     "output_type": "stream",
     "text": [
      "distortion09 (Severity 5)\n"
     ]
    },
    {
     "data": {
      "application/vnd.jupyter.widget-view+json": {
       "model_id": "add5ebb96fcd48278b8ce17e2a99cb1f",
       "version_major": 2,
       "version_minor": 0
      },
      "text/plain": [
       "Evaluating distortion10 (Severity 1):   0%|          | 0/157 [00:00<?, ?it/s]"
      ]
     },
     "metadata": {},
     "output_type": "display_data"
    },
    {
     "name": "stdout",
     "output_type": "stream",
     "text": [
      "distortion10 (Severity 1)\n"
     ]
    },
    {
     "data": {
      "application/vnd.jupyter.widget-view+json": {
       "model_id": "98046f7e9cee407ab5978736f0ababb5",
       "version_major": 2,
       "version_minor": 0
      },
      "text/plain": [
       "Evaluating distortion10 (Severity 2):   0%|          | 0/157 [00:00<?, ?it/s]"
      ]
     },
     "metadata": {},
     "output_type": "display_data"
    },
    {
     "name": "stdout",
     "output_type": "stream",
     "text": [
      "distortion10 (Severity 2)\n"
     ]
    },
    {
     "data": {
      "application/vnd.jupyter.widget-view+json": {
       "model_id": "19f75ba6a87544afacf8e3bf0564c04a",
       "version_major": 2,
       "version_minor": 0
      },
      "text/plain": [
       "Evaluating distortion10 (Severity 3):   0%|          | 0/157 [00:00<?, ?it/s]"
      ]
     },
     "metadata": {},
     "output_type": "display_data"
    },
    {
     "name": "stdout",
     "output_type": "stream",
     "text": [
      "distortion10 (Severity 3)\n"
     ]
    },
    {
     "data": {
      "application/vnd.jupyter.widget-view+json": {
       "model_id": "62c0dd97131144649a281857766ac889",
       "version_major": 2,
       "version_minor": 0
      },
      "text/plain": [
       "Evaluating distortion10 (Severity 4):   0%|          | 0/157 [00:00<?, ?it/s]"
      ]
     },
     "metadata": {},
     "output_type": "display_data"
    },
    {
     "name": "stdout",
     "output_type": "stream",
     "text": [
      "distortion10 (Severity 4)\n"
     ]
    },
    {
     "data": {
      "application/vnd.jupyter.widget-view+json": {
       "model_id": "047b9eb542104345ad72c24b94507d0f",
       "version_major": 2,
       "version_minor": 0
      },
      "text/plain": [
       "Evaluating distortion10 (Severity 5):   0%|          | 0/157 [00:00<?, ?it/s]"
      ]
     },
     "metadata": {},
     "output_type": "display_data"
    },
    {
     "name": "stdout",
     "output_type": "stream",
     "text": [
      "distortion10 (Severity 5)\n"
     ]
    },
    {
     "data": {
      "application/vnd.jupyter.widget-view+json": {
       "model_id": "bc83570aeac940d0bd2686a8f2e840b7",
       "version_major": 2,
       "version_minor": 0
      },
      "text/plain": [
       "Evaluating distortion11 (Severity 1):   0%|          | 0/157 [00:00<?, ?it/s]"
      ]
     },
     "metadata": {},
     "output_type": "display_data"
    },
    {
     "name": "stdout",
     "output_type": "stream",
     "text": [
      "distortion11 (Severity 1)\n"
     ]
    },
    {
     "data": {
      "application/vnd.jupyter.widget-view+json": {
       "model_id": "73519b6571b34af8ab7ee826699cda89",
       "version_major": 2,
       "version_minor": 0
      },
      "text/plain": [
       "Evaluating distortion11 (Severity 2):   0%|          | 0/157 [00:00<?, ?it/s]"
      ]
     },
     "metadata": {},
     "output_type": "display_data"
    },
    {
     "name": "stdout",
     "output_type": "stream",
     "text": [
      "distortion11 (Severity 2)\n"
     ]
    },
    {
     "data": {
      "application/vnd.jupyter.widget-view+json": {
       "model_id": "b290b2ce380b44fa835f57900d6c90c0",
       "version_major": 2,
       "version_minor": 0
      },
      "text/plain": [
       "Evaluating distortion11 (Severity 3):   0%|          | 0/157 [00:00<?, ?it/s]"
      ]
     },
     "metadata": {},
     "output_type": "display_data"
    },
    {
     "name": "stdout",
     "output_type": "stream",
     "text": [
      "distortion11 (Severity 3)\n"
     ]
    },
    {
     "data": {
      "application/vnd.jupyter.widget-view+json": {
       "model_id": "2a8fa6a3122646efb1e0bf245767e427",
       "version_major": 2,
       "version_minor": 0
      },
      "text/plain": [
       "Evaluating distortion11 (Severity 4):   0%|          | 0/157 [00:00<?, ?it/s]"
      ]
     },
     "metadata": {},
     "output_type": "display_data"
    },
    {
     "name": "stdout",
     "output_type": "stream",
     "text": [
      "distortion11 (Severity 4)\n"
     ]
    },
    {
     "data": {
      "application/vnd.jupyter.widget-view+json": {
       "model_id": "20ffd22f5723415d993b33f7bad56724",
       "version_major": 2,
       "version_minor": 0
      },
      "text/plain": [
       "Evaluating distortion11 (Severity 5):   0%|          | 0/157 [00:00<?, ?it/s]"
      ]
     },
     "metadata": {},
     "output_type": "display_data"
    },
    {
     "name": "stdout",
     "output_type": "stream",
     "text": [
      "distortion11 (Severity 5)\n"
     ]
    },
    {
     "data": {
      "application/vnd.jupyter.widget-view+json": {
       "model_id": "8c75515c60cb4dcfa01191acf4e703fd",
       "version_major": 2,
       "version_minor": 0
      },
      "text/plain": [
       "Evaluating distortion12 (Severity 1):   0%|          | 0/157 [00:00<?, ?it/s]"
      ]
     },
     "metadata": {},
     "output_type": "display_data"
    },
    {
     "name": "stdout",
     "output_type": "stream",
     "text": [
      "distortion12 (Severity 1)\n"
     ]
    },
    {
     "data": {
      "application/vnd.jupyter.widget-view+json": {
       "model_id": "715a130a4cf947f784d228d727f3662b",
       "version_major": 2,
       "version_minor": 0
      },
      "text/plain": [
       "Evaluating distortion12 (Severity 2):   0%|          | 0/157 [00:00<?, ?it/s]"
      ]
     },
     "metadata": {},
     "output_type": "display_data"
    },
    {
     "name": "stdout",
     "output_type": "stream",
     "text": [
      "distortion12 (Severity 2)\n"
     ]
    },
    {
     "data": {
      "application/vnd.jupyter.widget-view+json": {
       "model_id": "df626bee87bd49ff90b483537a1c1322",
       "version_major": 2,
       "version_minor": 0
      },
      "text/plain": [
       "Evaluating distortion12 (Severity 3):   0%|          | 0/157 [00:00<?, ?it/s]"
      ]
     },
     "metadata": {},
     "output_type": "display_data"
    },
    {
     "name": "stdout",
     "output_type": "stream",
     "text": [
      "distortion12 (Severity 3)\n"
     ]
    },
    {
     "data": {
      "application/vnd.jupyter.widget-view+json": {
       "model_id": "15c5cdee2b5e45bb9c51a8fb5a02595f",
       "version_major": 2,
       "version_minor": 0
      },
      "text/plain": [
       "Evaluating distortion12 (Severity 4):   0%|          | 0/157 [00:00<?, ?it/s]"
      ]
     },
     "metadata": {},
     "output_type": "display_data"
    },
    {
     "name": "stdout",
     "output_type": "stream",
     "text": [
      "distortion12 (Severity 4)\n"
     ]
    },
    {
     "data": {
      "application/vnd.jupyter.widget-view+json": {
       "model_id": "9e89cb7fb58d4c7bbb07af664be1d0f3",
       "version_major": 2,
       "version_minor": 0
      },
      "text/plain": [
       "Evaluating distortion12 (Severity 5):   0%|          | 0/157 [00:00<?, ?it/s]"
      ]
     },
     "metadata": {},
     "output_type": "display_data"
    },
    {
     "name": "stdout",
     "output_type": "stream",
     "text": [
      "distortion12 (Severity 5)\n"
     ]
    },
    {
     "data": {
      "application/vnd.jupyter.widget-view+json": {
       "model_id": "f6d2b3a916e54c7e8e844c846a5f9bae",
       "version_major": 2,
       "version_minor": 0
      },
      "text/plain": [
       "Evaluating distortion13 (Severity 1):   0%|          | 0/157 [00:00<?, ?it/s]"
      ]
     },
     "metadata": {},
     "output_type": "display_data"
    },
    {
     "name": "stdout",
     "output_type": "stream",
     "text": [
      "distortion13 (Severity 1)\n"
     ]
    },
    {
     "data": {
      "application/vnd.jupyter.widget-view+json": {
       "model_id": "a126d85bc8714ba0a441d36171bf3bdc",
       "version_major": 2,
       "version_minor": 0
      },
      "text/plain": [
       "Evaluating distortion13 (Severity 2):   0%|          | 0/157 [00:00<?, ?it/s]"
      ]
     },
     "metadata": {},
     "output_type": "display_data"
    },
    {
     "name": "stdout",
     "output_type": "stream",
     "text": [
      "distortion13 (Severity 2)\n"
     ]
    },
    {
     "data": {
      "application/vnd.jupyter.widget-view+json": {
       "model_id": "bf0977cba6014fceb4a5e3664555a4db",
       "version_major": 2,
       "version_minor": 0
      },
      "text/plain": [
       "Evaluating distortion13 (Severity 3):   0%|          | 0/157 [00:00<?, ?it/s]"
      ]
     },
     "metadata": {},
     "output_type": "display_data"
    },
    {
     "name": "stdout",
     "output_type": "stream",
     "text": [
      "distortion13 (Severity 3)\n"
     ]
    },
    {
     "data": {
      "application/vnd.jupyter.widget-view+json": {
       "model_id": "652347a5787048e686da702769aede8b",
       "version_major": 2,
       "version_minor": 0
      },
      "text/plain": [
       "Evaluating distortion13 (Severity 4):   0%|          | 0/157 [00:00<?, ?it/s]"
      ]
     },
     "metadata": {},
     "output_type": "display_data"
    },
    {
     "name": "stdout",
     "output_type": "stream",
     "text": [
      "distortion13 (Severity 4)\n"
     ]
    },
    {
     "data": {
      "application/vnd.jupyter.widget-view+json": {
       "model_id": "a97d156ad005443a94e4bce5469cdccc",
       "version_major": 2,
       "version_minor": 0
      },
      "text/plain": [
       "Evaluating distortion13 (Severity 5):   0%|          | 0/157 [00:00<?, ?it/s]"
      ]
     },
     "metadata": {},
     "output_type": "display_data"
    },
    {
     "name": "stdout",
     "output_type": "stream",
     "text": [
      "distortion13 (Severity 5)\n"
     ]
    },
    {
     "data": {
      "application/vnd.jupyter.widget-view+json": {
       "model_id": "a2a39e634e974b4984b189c5b2a2e952",
       "version_major": 2,
       "version_minor": 0
      },
      "text/plain": [
       "Evaluating distortion14 (Severity 1):   0%|          | 0/157 [00:00<?, ?it/s]"
      ]
     },
     "metadata": {},
     "output_type": "display_data"
    },
    {
     "name": "stdout",
     "output_type": "stream",
     "text": [
      "distortion14 (Severity 1)\n"
     ]
    },
    {
     "data": {
      "application/vnd.jupyter.widget-view+json": {
       "model_id": "304f153fb5374136ab1786c644f525d9",
       "version_major": 2,
       "version_minor": 0
      },
      "text/plain": [
       "Evaluating distortion14 (Severity 2):   0%|          | 0/157 [00:00<?, ?it/s]"
      ]
     },
     "metadata": {},
     "output_type": "display_data"
    },
    {
     "name": "stdout",
     "output_type": "stream",
     "text": [
      "distortion14 (Severity 2)\n"
     ]
    },
    {
     "data": {
      "application/vnd.jupyter.widget-view+json": {
       "model_id": "bc4cd0dd73464e51b3d955770c6d8d97",
       "version_major": 2,
       "version_minor": 0
      },
      "text/plain": [
       "Evaluating distortion14 (Severity 3):   0%|          | 0/157 [00:00<?, ?it/s]"
      ]
     },
     "metadata": {},
     "output_type": "display_data"
    },
    {
     "name": "stdout",
     "output_type": "stream",
     "text": [
      "distortion14 (Severity 3)\n"
     ]
    },
    {
     "data": {
      "application/vnd.jupyter.widget-view+json": {
       "model_id": "baf40bf7c2914d70b7ec9d08d6aa2dbf",
       "version_major": 2,
       "version_minor": 0
      },
      "text/plain": [
       "Evaluating distortion14 (Severity 4):   0%|          | 0/157 [00:00<?, ?it/s]"
      ]
     },
     "metadata": {},
     "output_type": "display_data"
    },
    {
     "name": "stdout",
     "output_type": "stream",
     "text": [
      "distortion14 (Severity 4)\n"
     ]
    },
    {
     "data": {
      "application/vnd.jupyter.widget-view+json": {
       "model_id": "c8d33204297d4d5c83cf72ddd3b20b01",
       "version_major": 2,
       "version_minor": 0
      },
      "text/plain": [
       "Evaluating distortion14 (Severity 5):   0%|          | 0/157 [00:00<?, ?it/s]"
      ]
     },
     "metadata": {},
     "output_type": "display_data"
    },
    {
     "name": "stdout",
     "output_type": "stream",
     "text": [
      "distortion14 (Severity 5)\n"
     ]
    },
    {
     "data": {
      "application/vnd.jupyter.widget-view+json": {
       "model_id": "a888fa187f6643879cc7ee65f9bf413f",
       "version_major": 2,
       "version_minor": 0
      },
      "text/plain": [
       "Evaluating distortion15 (Severity 1):   0%|          | 0/157 [00:00<?, ?it/s]"
      ]
     },
     "metadata": {},
     "output_type": "display_data"
    },
    {
     "name": "stdout",
     "output_type": "stream",
     "text": [
      "distortion15 (Severity 1)\n"
     ]
    },
    {
     "data": {
      "application/vnd.jupyter.widget-view+json": {
       "model_id": "0231b28184b646b9919c9bd3f8104643",
       "version_major": 2,
       "version_minor": 0
      },
      "text/plain": [
       "Evaluating distortion15 (Severity 2):   0%|          | 0/157 [00:00<?, ?it/s]"
      ]
     },
     "metadata": {},
     "output_type": "display_data"
    },
    {
     "name": "stdout",
     "output_type": "stream",
     "text": [
      "distortion15 (Severity 2)\n"
     ]
    },
    {
     "data": {
      "application/vnd.jupyter.widget-view+json": {
       "model_id": "19814739157441e58be6bc1a7ed07d42",
       "version_major": 2,
       "version_minor": 0
      },
      "text/plain": [
       "Evaluating distortion15 (Severity 3):   0%|          | 0/157 [00:00<?, ?it/s]"
      ]
     },
     "metadata": {},
     "output_type": "display_data"
    },
    {
     "name": "stdout",
     "output_type": "stream",
     "text": [
      "distortion15 (Severity 3)\n"
     ]
    },
    {
     "data": {
      "application/vnd.jupyter.widget-view+json": {
       "model_id": "4a659ff066a04878a7b5baa9a1be2f96",
       "version_major": 2,
       "version_minor": 0
      },
      "text/plain": [
       "Evaluating distortion15 (Severity 4):   0%|          | 0/157 [00:00<?, ?it/s]"
      ]
     },
     "metadata": {},
     "output_type": "display_data"
    },
    {
     "name": "stdout",
     "output_type": "stream",
     "text": [
      "distortion15 (Severity 4)\n"
     ]
    },
    {
     "data": {
      "application/vnd.jupyter.widget-view+json": {
       "model_id": "8d82759159454516b9ef1ace8bd741e6",
       "version_major": 2,
       "version_minor": 0
      },
      "text/plain": [
       "Evaluating distortion15 (Severity 5):   0%|          | 0/157 [00:00<?, ?it/s]"
      ]
     },
     "metadata": {},
     "output_type": "display_data"
    },
    {
     "name": "stdout",
     "output_type": "stream",
     "text": [
      "distortion15 (Severity 5)\n"
     ]
    },
    {
     "data": {
      "application/vnd.jupyter.widget-view+json": {
       "model_id": "3ba7a93d7e05474bab01440eba5408fb",
       "version_major": 2,
       "version_minor": 0
      },
      "text/plain": [
       "Evaluating distortion16 (Severity 1):   0%|          | 0/157 [00:00<?, ?it/s]"
      ]
     },
     "metadata": {},
     "output_type": "display_data"
    },
    {
     "name": "stdout",
     "output_type": "stream",
     "text": [
      "distortion16 (Severity 1)\n"
     ]
    },
    {
     "data": {
      "application/vnd.jupyter.widget-view+json": {
       "model_id": "09a2267dc0d9486eb041ffc7d4a3391b",
       "version_major": 2,
       "version_minor": 0
      },
      "text/plain": [
       "Evaluating distortion16 (Severity 2):   0%|          | 0/157 [00:00<?, ?it/s]"
      ]
     },
     "metadata": {},
     "output_type": "display_data"
    },
    {
     "name": "stdout",
     "output_type": "stream",
     "text": [
      "distortion16 (Severity 2)\n"
     ]
    },
    {
     "data": {
      "application/vnd.jupyter.widget-view+json": {
       "model_id": "65ddf915b02c40478bfb5cd2b6594ada",
       "version_major": 2,
       "version_minor": 0
      },
      "text/plain": [
       "Evaluating distortion16 (Severity 3):   0%|          | 0/157 [00:00<?, ?it/s]"
      ]
     },
     "metadata": {},
     "output_type": "display_data"
    },
    {
     "name": "stdout",
     "output_type": "stream",
     "text": [
      "distortion16 (Severity 3)\n"
     ]
    },
    {
     "data": {
      "application/vnd.jupyter.widget-view+json": {
       "model_id": "cd699ed4e17c4c4b9818b63ad2bafca2",
       "version_major": 2,
       "version_minor": 0
      },
      "text/plain": [
       "Evaluating distortion16 (Severity 4):   0%|          | 0/157 [00:00<?, ?it/s]"
      ]
     },
     "metadata": {},
     "output_type": "display_data"
    },
    {
     "name": "stdout",
     "output_type": "stream",
     "text": [
      "distortion16 (Severity 4)\n"
     ]
    },
    {
     "data": {
      "application/vnd.jupyter.widget-view+json": {
       "model_id": "418e6deae47d4cc6bdee2f50faa7aa9c",
       "version_major": 2,
       "version_minor": 0
      },
      "text/plain": [
       "Evaluating distortion16 (Severity 5):   0%|          | 0/157 [00:00<?, ?it/s]"
      ]
     },
     "metadata": {},
     "output_type": "display_data"
    },
    {
     "name": "stdout",
     "output_type": "stream",
     "text": [
      "distortion16 (Severity 5)\n"
     ]
    },
    {
     "data": {
      "application/vnd.jupyter.widget-view+json": {
       "model_id": "8bec3c0bbb8a425bbf9cbb681c4c8027",
       "version_major": 2,
       "version_minor": 0
      },
      "text/plain": [
       "Evaluating distortion17 (Severity 1):   0%|          | 0/157 [00:00<?, ?it/s]"
      ]
     },
     "metadata": {},
     "output_type": "display_data"
    },
    {
     "name": "stdout",
     "output_type": "stream",
     "text": [
      "distortion17 (Severity 1)\n"
     ]
    },
    {
     "data": {
      "application/vnd.jupyter.widget-view+json": {
       "model_id": "4f47541884fb42e7a4aaa356a00fadc5",
       "version_major": 2,
       "version_minor": 0
      },
      "text/plain": [
       "Evaluating distortion17 (Severity 2):   0%|          | 0/157 [00:00<?, ?it/s]"
      ]
     },
     "metadata": {},
     "output_type": "display_data"
    },
    {
     "name": "stdout",
     "output_type": "stream",
     "text": [
      "distortion17 (Severity 2)\n"
     ]
    },
    {
     "data": {
      "application/vnd.jupyter.widget-view+json": {
       "model_id": "5c5096bca33340de82e0733e61f557f5",
       "version_major": 2,
       "version_minor": 0
      },
      "text/plain": [
       "Evaluating distortion17 (Severity 3):   0%|          | 0/157 [00:00<?, ?it/s]"
      ]
     },
     "metadata": {},
     "output_type": "display_data"
    },
    {
     "name": "stdout",
     "output_type": "stream",
     "text": [
      "distortion17 (Severity 3)\n"
     ]
    },
    {
     "data": {
      "application/vnd.jupyter.widget-view+json": {
       "model_id": "0a507bf2abb94507a34da0b9cc6e5bec",
       "version_major": 2,
       "version_minor": 0
      },
      "text/plain": [
       "Evaluating distortion17 (Severity 4):   0%|          | 0/157 [00:00<?, ?it/s]"
      ]
     },
     "metadata": {},
     "output_type": "display_data"
    },
    {
     "name": "stdout",
     "output_type": "stream",
     "text": [
      "distortion17 (Severity 4)\n"
     ]
    },
    {
     "data": {
      "application/vnd.jupyter.widget-view+json": {
       "model_id": "9cf49921e29c44c3bb2a1bef302effd5",
       "version_major": 2,
       "version_minor": 0
      },
      "text/plain": [
       "Evaluating distortion17 (Severity 5):   0%|          | 0/157 [00:00<?, ?it/s]"
      ]
     },
     "metadata": {},
     "output_type": "display_data"
    },
    {
     "name": "stdout",
     "output_type": "stream",
     "text": [
      "distortion17 (Severity 5)\n"
     ]
    },
    {
     "data": {
      "application/vnd.jupyter.widget-view+json": {
       "model_id": "9f805f6a429f4dd9b094a0a2e6dacacc",
       "version_major": 2,
       "version_minor": 0
      },
      "text/plain": [
       "Evaluating distortion18 (Severity 1):   0%|          | 0/157 [00:00<?, ?it/s]"
      ]
     },
     "metadata": {},
     "output_type": "display_data"
    },
    {
     "name": "stdout",
     "output_type": "stream",
     "text": [
      "distortion18 (Severity 1)\n"
     ]
    },
    {
     "data": {
      "application/vnd.jupyter.widget-view+json": {
       "model_id": "cf31b45997184e65bfca9d115ec05acf",
       "version_major": 2,
       "version_minor": 0
      },
      "text/plain": [
       "Evaluating distortion18 (Severity 2):   0%|          | 0/157 [00:00<?, ?it/s]"
      ]
     },
     "metadata": {},
     "output_type": "display_data"
    },
    {
     "name": "stdout",
     "output_type": "stream",
     "text": [
      "distortion18 (Severity 2)\n"
     ]
    },
    {
     "data": {
      "application/vnd.jupyter.widget-view+json": {
       "model_id": "b9691d31644844ad887d22ca66fededb",
       "version_major": 2,
       "version_minor": 0
      },
      "text/plain": [
       "Evaluating distortion18 (Severity 3):   0%|          | 0/157 [00:00<?, ?it/s]"
      ]
     },
     "metadata": {},
     "output_type": "display_data"
    },
    {
     "name": "stdout",
     "output_type": "stream",
     "text": [
      "distortion18 (Severity 3)\n"
     ]
    },
    {
     "data": {
      "application/vnd.jupyter.widget-view+json": {
       "model_id": "5c96bf11c48443b398bb324618ae5b9e",
       "version_major": 2,
       "version_minor": 0
      },
      "text/plain": [
       "Evaluating distortion18 (Severity 4):   0%|          | 0/157 [00:00<?, ?it/s]"
      ]
     },
     "metadata": {},
     "output_type": "display_data"
    },
    {
     "name": "stdout",
     "output_type": "stream",
     "text": [
      "distortion18 (Severity 4)\n"
     ]
    },
    {
     "data": {
      "application/vnd.jupyter.widget-view+json": {
       "model_id": "ec9b488dcc8c473b82a4b7a9d3623693",
       "version_major": 2,
       "version_minor": 0
      },
      "text/plain": [
       "Evaluating distortion18 (Severity 5):   0%|          | 0/157 [00:00<?, ?it/s]"
      ]
     },
     "metadata": {},
     "output_type": "display_data"
    },
    {
     "name": "stdout",
     "output_type": "stream",
     "text": [
      "distortion18 (Severity 5)\n",
      "submission_ood_part3densenet_ep40.csv created successfully.\n"
     ]
    }
   ],
   "source": [
    "import torch\n",
    "import torch.nn as nn\n",
    "import torch.optim as optim\n",
    "import torchvision\n",
    "import torchvision.transforms as transforms\n",
    "from torchvision import models\n",
    "from tqdm.auto import tqdm\n",
    "import wandb\n",
    "import numpy as np\n",
    "import random\n",
    "import shutil\n",
    "\n",
    "# -----------------------------\n",
    "# Reproducibility\n",
    "# -----------------------------\n",
    "def set_seed(seed):\n",
    "    torch.manual_seed(seed)\n",
    "    np.random.seed(seed)\n",
    "    random.seed(seed)\n",
    "    if torch.cuda.is_available():\n",
    "        torch.cuda.manual_seed_all(seed)\n",
    "\n",
    "# -----------------------------\n",
    "# Training Function\n",
    "# -----------------------------\n",
    "def train(epoch, model, trainloader, optimizer, criterion, CONFIG):\n",
    "    device = CONFIG[\"device\"]\n",
    "    model.train()\n",
    "    running_loss, correct, total = 0.0, 0, 0\n",
    "    progress = tqdm(trainloader, desc=f\"Epoch {epoch+31}/40 [Train]\", leave=False)\n",
    "\n",
    "    for inputs, labels in progress:\n",
    "        inputs, labels = inputs.to(device), labels.to(device)\n",
    "\n",
    "        optimizer.zero_grad()\n",
    "        outputs = model(inputs)\n",
    "        loss = criterion(outputs, labels)\n",
    "        loss.backward()\n",
    "        optimizer.step()\n",
    "\n",
    "        running_loss += loss.item()\n",
    "        _, predicted = outputs.max(1)\n",
    "        total += labels.size(0)\n",
    "        correct += predicted.eq(labels).sum().item()\n",
    "\n",
    "        progress.set_postfix({\n",
    "            \"loss\": running_loss / (total / CONFIG[\"batch_size\"]),\n",
    "            \"acc\": 100. * correct / total\n",
    "        })\n",
    "\n",
    "    return running_loss / len(trainloader), 100. * correct / total\n",
    "\n",
    "# -----------------------------\n",
    "# Validation Function\n",
    "# -----------------------------\n",
    "def validate(model, valloader, criterion, CONFIG):\n",
    "    device = CONFIG[\"device\"]\n",
    "    model.eval()\n",
    "    running_loss, correct, total = 0.0, 0, 0\n",
    "\n",
    "    with torch.no_grad():\n",
    "        progress = tqdm(valloader, desc=\"[Validate]\", leave=False)\n",
    "        for inputs, labels in progress:\n",
    "            inputs, labels = inputs.to(device), labels.to(device)\n",
    "            outputs = model(inputs)\n",
    "            loss = criterion(outputs, labels)\n",
    "\n",
    "            running_loss += loss.item()\n",
    "            _, predicted = outputs.max(1)\n",
    "            total += labels.size(0)\n",
    "            correct += predicted.eq(labels).sum().item()\n",
    "\n",
    "            progress.set_postfix({\n",
    "                \"loss\": running_loss / (total / CONFIG[\"batch_size\"]),\n",
    "                \"acc\": 100. * correct / total\n",
    "            })\n",
    "\n",
    "    return running_loss / len(valloader), 100. * correct / total\n",
    "\n",
    "# -----------------------------\n",
    "# Main Function\n",
    "# -----------------------------\n",
    "def main():\n",
    "    CONFIG = {\n",
    "        \"model\": \"DenseNet121_Pretrained_FT\",\n",
    "        \"batch_size\": 64,\n",
    "        \"learning_rate\": 0.001,\n",
    "        \"epochs\": 10,\n",
    "        \"num_workers\": 0,\n",
    "        \"device\": \"cuda\" if torch.cuda.is_available() else \"cpu\",\n",
    "        \"data_dir\": \"./data\",\n",
    "        \"ood_dir\": \"./data/ood-test\",\n",
    "        \"wandb_project\": \"sp25-ds542-challenge\",\n",
    "        \"seed\": 42,\n",
    "    }\n",
    "\n",
    "    set_seed(CONFIG[\"seed\"])\n",
    "\n",
    "    # -----------------------------\n",
    "    # Data Transforms (Augmentation)\n",
    "    # -----------------------------\n",
    "    transform_train = transforms.Compose([\n",
    "        transforms.RandomCrop(32, padding=4),\n",
    "        transforms.RandomHorizontalFlip(),\n",
    "        transforms.ColorJitter(brightness=0.2, contrast=0.2, saturation=0.2),\n",
    "        transforms.RandomRotation(10),\n",
    "        transforms.ToTensor(),\n",
    "        transforms.Normalize((0.5071, 0.4865, 0.4409), (0.2673, 0.2564, 0.2762)),\n",
    "    ])\n",
    "    transform_test = transforms.Compose([\n",
    "        transforms.ToTensor(),\n",
    "        transforms.Normalize((0.5071, 0.4865, 0.4409), (0.2673, 0.2564, 0.2762)),\n",
    "    ])\n",
    "\n",
    "    # -----------------------------\n",
    "    # Load CIFAR-100 Dataset\n",
    "    # -----------------------------\n",
    "    trainset_full = torchvision.datasets.CIFAR100(root=CONFIG[\"data_dir\"], train=True, download=True, transform=transform_train)\n",
    "    train_size = int(0.8 * len(trainset_full))\n",
    "    val_size = len(trainset_full) - train_size\n",
    "    trainset, valset = torch.utils.data.random_split(trainset_full, [train_size, val_size])\n",
    "\n",
    "    trainloader = torch.utils.data.DataLoader(trainset, batch_size=CONFIG[\"batch_size\"], shuffle=True, num_workers=CONFIG[\"num_workers\"])\n",
    "    valloader = torch.utils.data.DataLoader(valset, batch_size=CONFIG[\"batch_size\"], shuffle=False, num_workers=CONFIG[\"num_workers\"])\n",
    "    testset = torchvision.datasets.CIFAR100(root=CONFIG[\"data_dir\"], train=False, download=True, transform=transform_test)\n",
    "    testloader = torch.utils.data.DataLoader(testset, batch_size=CONFIG[\"batch_size\"], shuffle=False, num_workers=CONFIG[\"num_workers\"])\n",
    "\n",
    "    # -----------------------------\n",
    "    # Define Model & Load Checkpoint\n",
    "    # -----------------------------\n",
    "    model = models.densenet121(weights=models.DenseNet121_Weights.IMAGENET1K_V1)\n",
    "    model.classifier = nn.Sequential(\n",
    "        nn.Dropout(0.5),\n",
    "        nn.Linear(model.classifier.in_features, 100)\n",
    "    )\n",
    "    model = model.to(CONFIG[\"device\"])\n",
    "\n",
    "    checkpoint_path = \"best_model_part3_densenet121_ep30.pth\"\n",
    "    model.load_state_dict(torch.load(checkpoint_path, map_location=CONFIG[\"device\"]))\n",
    "    print(f\"Loaded model weights from: {checkpoint_path}\")\n",
    "\n",
    "    # -----------------------------\n",
    "    # Re-Init Optimizer & Scheduler for Fine-tune Phase 4\n",
    "    # -----------------------------\n",
    "    criterion = nn.CrossEntropyLoss(label_smoothing=0.1)\n",
    "    optimizer = optim.AdamW(model.parameters(), lr=CONFIG[\"learning_rate\"], weight_decay=1e-4)\n",
    "    scheduler = optim.lr_scheduler.CosineAnnealingLR(optimizer, T_max=CONFIG[\"epochs\"])\n",
    "\n",
    "    # -----------------------------\n",
    "    # W&B New Fine-Tuning Run\n",
    "    # -----------------------------\n",
    "    wandb.init(project=CONFIG[\"wandb_project\"], config=CONFIG, name=\"DenseNet121 Ep40\",)\n",
    "    wandb.watch(model)\n",
    "\n",
    "    best_val_acc = 0.0\n",
    "    for epoch in range(CONFIG[\"epochs\"]):\n",
    "        train_loss, train_acc = train(epoch, model, trainloader, optimizer, criterion, CONFIG)\n",
    "        val_loss, val_acc = validate(model, valloader, criterion, CONFIG)\n",
    "        scheduler.step()\n",
    "\n",
    "        wandb.log({\n",
    "            \"epoch\": epoch + 31,\n",
    "            \"train_loss\": train_loss,\n",
    "            \"train_acc\": train_acc,\n",
    "            \"val_loss\": val_loss,\n",
    "            \"val_acc\": val_acc,\n",
    "            \"lr\": optimizer.param_groups[0][\"lr\"]\n",
    "        })\n",
    "\n",
    "        if val_acc > best_val_acc:\n",
    "            best_val_acc = val_acc\n",
    "            torch.save(model.state_dict(), \"best_model_part3_densenet121_ep40.pth\")\n",
    "            wandb.save(\"best_model_part3_densenet121_ep40.pth\")\n",
    "\n",
    "    wandb.finish()\n",
    "\n",
    "    # -----------------------------\n",
    "    # Evaluation & Submission\n",
    "    # -----------------------------\n",
    "    import eval_cifar100\n",
    "    import eval_ood\n",
    "\n",
    "    shutil.copy(\"best_model_part3_densenet121_ep40.pth\", \"best_model.pth\")\n",
    "\n",
    "    predictions, clean_accuracy = eval_cifar100.evaluate_cifar100_test(model, testloader, CONFIG[\"device\"])\n",
    "    print(f\"Clean CIFAR-100 Test Accuracy: {clean_accuracy:.2f}%\")\n",
    "\n",
    "    all_predictions = eval_ood.evaluate_ood_test(model, CONFIG)\n",
    "    submission_df_ood = eval_ood.create_ood_df(all_predictions)\n",
    "    submission_df_ood.to_csv(\"submission_ood_part3densenet_ep40.csv\", index=False)\n",
    "    print(\"submission_ood_part3densenet_ep40.csv created successfully.\")\n",
    "\n",
    "if __name__ == '__main__':\n",
    "    main()\n"
   ]
  },
  {
   "cell_type": "markdown",
   "id": "cdfc40e1-edae-42bb-8f96-c4161728f4d8",
   "metadata": {},
   "source": [
    "#### 50 Epochs (continued from pretrained DenseNet121 at Epoch 40)"
   ]
  },
  {
   "cell_type": "code",
   "execution_count": 5,
   "id": "b1593c6b-4310-47a9-8668-6ef5879a0891",
   "metadata": {},
   "outputs": [
    {
     "name": "stdout",
     "output_type": "stream",
     "text": [
      "Loaded model weights from: best_model_part3_densenet121_ep40.pth\n"
     ]
    },
    {
     "data": {
      "text/html": [
       "Tracking run with wandb version 0.19.8"
      ],
      "text/plain": [
       "<IPython.core.display.HTML object>"
      ]
     },
     "metadata": {},
     "output_type": "display_data"
    },
    {
     "data": {
      "text/html": [
       "Run data is saved locally in <code>/usr4/dl4ds/samritha/wandb/run-20250329_212653-ggqa6wcw</code>"
      ],
      "text/plain": [
       "<IPython.core.display.HTML object>"
      ]
     },
     "metadata": {},
     "output_type": "display_data"
    },
    {
     "data": {
      "text/html": [
       "Syncing run <strong><a href='https://wandb.ai/samritha-boston-university/sp25-ds542-challenge/runs/ggqa6wcw' target=\"_blank\">DenseNet121 Ep50</a></strong> to <a href='https://wandb.ai/samritha-boston-university/sp25-ds542-challenge' target=\"_blank\">Weights & Biases</a> (<a href='https://wandb.me/developer-guide' target=\"_blank\">docs</a>)<br>"
      ],
      "text/plain": [
       "<IPython.core.display.HTML object>"
      ]
     },
     "metadata": {},
     "output_type": "display_data"
    },
    {
     "data": {
      "text/html": [
       " View project at <a href='https://wandb.ai/samritha-boston-university/sp25-ds542-challenge' target=\"_blank\">https://wandb.ai/samritha-boston-university/sp25-ds542-challenge</a>"
      ],
      "text/plain": [
       "<IPython.core.display.HTML object>"
      ]
     },
     "metadata": {},
     "output_type": "display_data"
    },
    {
     "data": {
      "text/html": [
       " View run at <a href='https://wandb.ai/samritha-boston-university/sp25-ds542-challenge/runs/ggqa6wcw' target=\"_blank\">https://wandb.ai/samritha-boston-university/sp25-ds542-challenge/runs/ggqa6wcw</a>"
      ],
      "text/plain": [
       "<IPython.core.display.HTML object>"
      ]
     },
     "metadata": {},
     "output_type": "display_data"
    },
    {
     "data": {
      "application/vnd.jupyter.widget-view+json": {
       "model_id": "acb44281470b4d7a9a4476af2c136654",
       "version_major": 2,
       "version_minor": 0
      },
      "text/plain": [
       "Epoch 41/50 [Train]:   0%|          | 0/625 [00:00<?, ?it/s]"
      ]
     },
     "metadata": {},
     "output_type": "display_data"
    },
    {
     "data": {
      "application/vnd.jupyter.widget-view+json": {
       "model_id": "502fba80bfde44c88a13d5efa3752240",
       "version_major": 2,
       "version_minor": 0
      },
      "text/plain": [
       "[Validate]:   0%|          | 0/157 [00:00<?, ?it/s]"
      ]
     },
     "metadata": {},
     "output_type": "display_data"
    },
    {
     "data": {
      "application/vnd.jupyter.widget-view+json": {
       "model_id": "4eb837df583e431a9b4a1dd2e4888cea",
       "version_major": 2,
       "version_minor": 0
      },
      "text/plain": [
       "Epoch 42/50 [Train]:   0%|          | 0/625 [00:00<?, ?it/s]"
      ]
     },
     "metadata": {},
     "output_type": "display_data"
    },
    {
     "data": {
      "application/vnd.jupyter.widget-view+json": {
       "model_id": "16e6ef648b684bca9e4c97867f6dca18",
       "version_major": 2,
       "version_minor": 0
      },
      "text/plain": [
       "[Validate]:   0%|          | 0/157 [00:00<?, ?it/s]"
      ]
     },
     "metadata": {},
     "output_type": "display_data"
    },
    {
     "data": {
      "application/vnd.jupyter.widget-view+json": {
       "model_id": "d2bd36b65d6f468eaebef7d0337061a8",
       "version_major": 2,
       "version_minor": 0
      },
      "text/plain": [
       "Epoch 43/50 [Train]:   0%|          | 0/625 [00:00<?, ?it/s]"
      ]
     },
     "metadata": {},
     "output_type": "display_data"
    },
    {
     "data": {
      "application/vnd.jupyter.widget-view+json": {
       "model_id": "12b812b856674bf798e6d4bdc30c09a5",
       "version_major": 2,
       "version_minor": 0
      },
      "text/plain": [
       "[Validate]:   0%|          | 0/157 [00:00<?, ?it/s]"
      ]
     },
     "metadata": {},
     "output_type": "display_data"
    },
    {
     "data": {
      "application/vnd.jupyter.widget-view+json": {
       "model_id": "2549f509d6de4eef863d125654622aa8",
       "version_major": 2,
       "version_minor": 0
      },
      "text/plain": [
       "Epoch 44/50 [Train]:   0%|          | 0/625 [00:00<?, ?it/s]"
      ]
     },
     "metadata": {},
     "output_type": "display_data"
    },
    {
     "data": {
      "application/vnd.jupyter.widget-view+json": {
       "model_id": "c07890b14fd84173b1b123d12dd4d2d7",
       "version_major": 2,
       "version_minor": 0
      },
      "text/plain": [
       "[Validate]:   0%|          | 0/157 [00:00<?, ?it/s]"
      ]
     },
     "metadata": {},
     "output_type": "display_data"
    },
    {
     "data": {
      "application/vnd.jupyter.widget-view+json": {
       "model_id": "3c88ec99e7cb4299897ab3ff9952e0d6",
       "version_major": 2,
       "version_minor": 0
      },
      "text/plain": [
       "Epoch 45/50 [Train]:   0%|          | 0/625 [00:00<?, ?it/s]"
      ]
     },
     "metadata": {},
     "output_type": "display_data"
    },
    {
     "data": {
      "application/vnd.jupyter.widget-view+json": {
       "model_id": "cab6417ac7f9442ca0b60b1e686bb760",
       "version_major": 2,
       "version_minor": 0
      },
      "text/plain": [
       "[Validate]:   0%|          | 0/157 [00:00<?, ?it/s]"
      ]
     },
     "metadata": {},
     "output_type": "display_data"
    },
    {
     "data": {
      "application/vnd.jupyter.widget-view+json": {
       "model_id": "f1e9eb62b3ba4d22b84550b4bc650231",
       "version_major": 2,
       "version_minor": 0
      },
      "text/plain": [
       "Epoch 46/50 [Train]:   0%|          | 0/625 [00:00<?, ?it/s]"
      ]
     },
     "metadata": {},
     "output_type": "display_data"
    },
    {
     "data": {
      "application/vnd.jupyter.widget-view+json": {
       "model_id": "bc84838514784410b71721e5bd876865",
       "version_major": 2,
       "version_minor": 0
      },
      "text/plain": [
       "[Validate]:   0%|          | 0/157 [00:00<?, ?it/s]"
      ]
     },
     "metadata": {},
     "output_type": "display_data"
    },
    {
     "data": {
      "application/vnd.jupyter.widget-view+json": {
       "model_id": "f05a3251c8b2414ca3426252e4ce990b",
       "version_major": 2,
       "version_minor": 0
      },
      "text/plain": [
       "Epoch 47/50 [Train]:   0%|          | 0/625 [00:00<?, ?it/s]"
      ]
     },
     "metadata": {},
     "output_type": "display_data"
    },
    {
     "data": {
      "application/vnd.jupyter.widget-view+json": {
       "model_id": "35eb2c1293cd4bda9d3b0a3d0b7f9a78",
       "version_major": 2,
       "version_minor": 0
      },
      "text/plain": [
       "[Validate]:   0%|          | 0/157 [00:00<?, ?it/s]"
      ]
     },
     "metadata": {},
     "output_type": "display_data"
    },
    {
     "data": {
      "application/vnd.jupyter.widget-view+json": {
       "model_id": "ebefc69281524aafbe0e620ca65127b4",
       "version_major": 2,
       "version_minor": 0
      },
      "text/plain": [
       "Epoch 48/50 [Train]:   0%|          | 0/625 [00:00<?, ?it/s]"
      ]
     },
     "metadata": {},
     "output_type": "display_data"
    },
    {
     "data": {
      "application/vnd.jupyter.widget-view+json": {
       "model_id": "b6bc430e21b643f79ad73a5548288931",
       "version_major": 2,
       "version_minor": 0
      },
      "text/plain": [
       "[Validate]:   0%|          | 0/157 [00:00<?, ?it/s]"
      ]
     },
     "metadata": {},
     "output_type": "display_data"
    },
    {
     "data": {
      "application/vnd.jupyter.widget-view+json": {
       "model_id": "65051555a69c4413a4c1dd4fa7221ee8",
       "version_major": 2,
       "version_minor": 0
      },
      "text/plain": [
       "Epoch 49/50 [Train]:   0%|          | 0/625 [00:00<?, ?it/s]"
      ]
     },
     "metadata": {},
     "output_type": "display_data"
    },
    {
     "data": {
      "application/vnd.jupyter.widget-view+json": {
       "model_id": "cce9666a015145cfabbbb0aa5e59285d",
       "version_major": 2,
       "version_minor": 0
      },
      "text/plain": [
       "[Validate]:   0%|          | 0/157 [00:00<?, ?it/s]"
      ]
     },
     "metadata": {},
     "output_type": "display_data"
    },
    {
     "data": {
      "application/vnd.jupyter.widget-view+json": {
       "model_id": "bd7fb1f21670469aa03f7839b232bc73",
       "version_major": 2,
       "version_minor": 0
      },
      "text/plain": [
       "Epoch 50/50 [Train]:   0%|          | 0/625 [00:00<?, ?it/s]"
      ]
     },
     "metadata": {},
     "output_type": "display_data"
    },
    {
     "data": {
      "application/vnd.jupyter.widget-view+json": {
       "model_id": "72f34a9c6ad74671b6184027ecac1ca7",
       "version_major": 2,
       "version_minor": 0
      },
      "text/plain": [
       "[Validate]:   0%|          | 0/157 [00:00<?, ?it/s]"
      ]
     },
     "metadata": {},
     "output_type": "display_data"
    },
    {
     "data": {
      "text/html": [],
      "text/plain": [
       "<IPython.core.display.HTML object>"
      ]
     },
     "metadata": {},
     "output_type": "display_data"
    },
    {
     "data": {
      "text/html": [
       "<br>    <style><br>        .wandb-row {<br>            display: flex;<br>            flex-direction: row;<br>            flex-wrap: wrap;<br>            justify-content: flex-start;<br>            width: 100%;<br>        }<br>        .wandb-col {<br>            display: flex;<br>            flex-direction: column;<br>            flex-basis: 100%;<br>            flex: 1;<br>            padding: 10px;<br>        }<br>    </style><br><div class=\"wandb-row\"><div class=\"wandb-col\"><h3>Run history:</h3><br/><table class=\"wandb\"><tr><td>epoch</td><td>▁▂▃▃▄▅▆▆▇█</td></tr><tr><td>lr</td><td>█▇▇▆▅▃▂▂▁▁</td></tr><tr><td>train_acc</td><td>▄▁▄▆▇▅▅▇██</td></tr><tr><td>train_loss</td><td>▅█▅▃▂▄▄▂▁▁</td></tr><tr><td>val_acc</td><td>▁▁▄▆▅▅▅▇██</td></tr><tr><td>val_loss</td><td>██▅▄▅▅▄▂▁▁</td></tr></table><br/></div><div class=\"wandb-col\"><h3>Run summary:</h3><br/><table class=\"wandb\"><tr><td>epoch</td><td>50</td></tr><tr><td>lr</td><td>0</td></tr><tr><td>train_acc</td><td>63.525</td></tr><tr><td>train_loss</td><td>1.95209</td></tr><tr><td>val_acc</td><td>54.77</td></tr><tr><td>val_loss</td><td>2.23584</td></tr></table><br/></div></div>"
      ],
      "text/plain": [
       "<IPython.core.display.HTML object>"
      ]
     },
     "metadata": {},
     "output_type": "display_data"
    },
    {
     "data": {
      "text/html": [
       " View run <strong style=\"color:#cdcd00\">DenseNet121 Ep50</strong> at: <a href='https://wandb.ai/samritha-boston-university/sp25-ds542-challenge/runs/ggqa6wcw' target=\"_blank\">https://wandb.ai/samritha-boston-university/sp25-ds542-challenge/runs/ggqa6wcw</a><br> View project at: <a href='https://wandb.ai/samritha-boston-university/sp25-ds542-challenge' target=\"_blank\">https://wandb.ai/samritha-boston-university/sp25-ds542-challenge</a><br>Synced 5 W&B file(s), 0 media file(s), 0 artifact file(s) and 1 other file(s)"
      ],
      "text/plain": [
       "<IPython.core.display.HTML object>"
      ]
     },
     "metadata": {},
     "output_type": "display_data"
    },
    {
     "data": {
      "text/html": [
       "Find logs at: <code>./wandb/run-20250329_212653-ggqa6wcw/logs</code>"
      ],
      "text/plain": [
       "<IPython.core.display.HTML object>"
      ]
     },
     "metadata": {},
     "output_type": "display_data"
    },
    {
     "data": {
      "application/vnd.jupyter.widget-view+json": {
       "model_id": "48ce0b1978fc4241877eef060d2cbd2d",
       "version_major": 2,
       "version_minor": 0
      },
      "text/plain": [
       "Evaluating on Clean Test Set:   0%|          | 0/157 [00:00<?, ?it/s]"
      ]
     },
     "metadata": {},
     "output_type": "display_data"
    },
    {
     "name": "stdout",
     "output_type": "stream",
     "text": [
      "Clean CIFAR-100 Test Accuracy: 57.83%\n",
      "All files are already downloaded.\n"
     ]
    },
    {
     "data": {
      "application/vnd.jupyter.widget-view+json": {
       "model_id": "c459003d41cd4dda8a84583c9c5fca3f",
       "version_major": 2,
       "version_minor": 0
      },
      "text/plain": [
       "Evaluating distortion00 (Severity 1):   0%|          | 0/157 [00:00<?, ?it/s]"
      ]
     },
     "metadata": {},
     "output_type": "display_data"
    },
    {
     "name": "stdout",
     "output_type": "stream",
     "text": [
      "distortion00 (Severity 1)\n"
     ]
    },
    {
     "data": {
      "application/vnd.jupyter.widget-view+json": {
       "model_id": "c85cca3a6d6647d885bfdd4e0c4b5b10",
       "version_major": 2,
       "version_minor": 0
      },
      "text/plain": [
       "Evaluating distortion00 (Severity 2):   0%|          | 0/157 [00:00<?, ?it/s]"
      ]
     },
     "metadata": {},
     "output_type": "display_data"
    },
    {
     "name": "stdout",
     "output_type": "stream",
     "text": [
      "distortion00 (Severity 2)\n"
     ]
    },
    {
     "data": {
      "application/vnd.jupyter.widget-view+json": {
       "model_id": "8cf9850797be4766ad594a68078d2675",
       "version_major": 2,
       "version_minor": 0
      },
      "text/plain": [
       "Evaluating distortion00 (Severity 3):   0%|          | 0/157 [00:00<?, ?it/s]"
      ]
     },
     "metadata": {},
     "output_type": "display_data"
    },
    {
     "name": "stdout",
     "output_type": "stream",
     "text": [
      "distortion00 (Severity 3)\n"
     ]
    },
    {
     "data": {
      "application/vnd.jupyter.widget-view+json": {
       "model_id": "3af1ac1232d54453b175ccc26a160660",
       "version_major": 2,
       "version_minor": 0
      },
      "text/plain": [
       "Evaluating distortion00 (Severity 4):   0%|          | 0/157 [00:00<?, ?it/s]"
      ]
     },
     "metadata": {},
     "output_type": "display_data"
    },
    {
     "name": "stdout",
     "output_type": "stream",
     "text": [
      "distortion00 (Severity 4)\n"
     ]
    },
    {
     "data": {
      "application/vnd.jupyter.widget-view+json": {
       "model_id": "366281599044462cb63725c9c31559c5",
       "version_major": 2,
       "version_minor": 0
      },
      "text/plain": [
       "Evaluating distortion00 (Severity 5):   0%|          | 0/157 [00:00<?, ?it/s]"
      ]
     },
     "metadata": {},
     "output_type": "display_data"
    },
    {
     "name": "stdout",
     "output_type": "stream",
     "text": [
      "distortion00 (Severity 5)\n"
     ]
    },
    {
     "data": {
      "application/vnd.jupyter.widget-view+json": {
       "model_id": "f170bd6bd9ae48538dfdaa750b3a0c24",
       "version_major": 2,
       "version_minor": 0
      },
      "text/plain": [
       "Evaluating distortion01 (Severity 1):   0%|          | 0/157 [00:00<?, ?it/s]"
      ]
     },
     "metadata": {},
     "output_type": "display_data"
    },
    {
     "name": "stdout",
     "output_type": "stream",
     "text": [
      "distortion01 (Severity 1)\n"
     ]
    },
    {
     "data": {
      "application/vnd.jupyter.widget-view+json": {
       "model_id": "d8518e22dd734827931d6eeea041eeb8",
       "version_major": 2,
       "version_minor": 0
      },
      "text/plain": [
       "Evaluating distortion01 (Severity 2):   0%|          | 0/157 [00:00<?, ?it/s]"
      ]
     },
     "metadata": {},
     "output_type": "display_data"
    },
    {
     "name": "stdout",
     "output_type": "stream",
     "text": [
      "distortion01 (Severity 2)\n"
     ]
    },
    {
     "data": {
      "application/vnd.jupyter.widget-view+json": {
       "model_id": "2ed64ae5d53d4f888b6209ec3710baaa",
       "version_major": 2,
       "version_minor": 0
      },
      "text/plain": [
       "Evaluating distortion01 (Severity 3):   0%|          | 0/157 [00:00<?, ?it/s]"
      ]
     },
     "metadata": {},
     "output_type": "display_data"
    },
    {
     "name": "stdout",
     "output_type": "stream",
     "text": [
      "distortion01 (Severity 3)\n"
     ]
    },
    {
     "data": {
      "application/vnd.jupyter.widget-view+json": {
       "model_id": "61b659ff73ac4d1791a7be9575fb0cca",
       "version_major": 2,
       "version_minor": 0
      },
      "text/plain": [
       "Evaluating distortion01 (Severity 4):   0%|          | 0/157 [00:00<?, ?it/s]"
      ]
     },
     "metadata": {},
     "output_type": "display_data"
    },
    {
     "name": "stdout",
     "output_type": "stream",
     "text": [
      "distortion01 (Severity 4)\n"
     ]
    },
    {
     "data": {
      "application/vnd.jupyter.widget-view+json": {
       "model_id": "76fed2de61594aeca28bdcb22dc7c2ee",
       "version_major": 2,
       "version_minor": 0
      },
      "text/plain": [
       "Evaluating distortion01 (Severity 5):   0%|          | 0/157 [00:00<?, ?it/s]"
      ]
     },
     "metadata": {},
     "output_type": "display_data"
    },
    {
     "name": "stdout",
     "output_type": "stream",
     "text": [
      "distortion01 (Severity 5)\n"
     ]
    },
    {
     "data": {
      "application/vnd.jupyter.widget-view+json": {
       "model_id": "6afafd7c54794c4199c029f5fa439e8b",
       "version_major": 2,
       "version_minor": 0
      },
      "text/plain": [
       "Evaluating distortion02 (Severity 1):   0%|          | 0/157 [00:00<?, ?it/s]"
      ]
     },
     "metadata": {},
     "output_type": "display_data"
    },
    {
     "name": "stdout",
     "output_type": "stream",
     "text": [
      "distortion02 (Severity 1)\n"
     ]
    },
    {
     "data": {
      "application/vnd.jupyter.widget-view+json": {
       "model_id": "9d67ed714a8247ff8104de89a2062fab",
       "version_major": 2,
       "version_minor": 0
      },
      "text/plain": [
       "Evaluating distortion02 (Severity 2):   0%|          | 0/157 [00:00<?, ?it/s]"
      ]
     },
     "metadata": {},
     "output_type": "display_data"
    },
    {
     "name": "stdout",
     "output_type": "stream",
     "text": [
      "distortion02 (Severity 2)\n"
     ]
    },
    {
     "data": {
      "application/vnd.jupyter.widget-view+json": {
       "model_id": "02d9382c76f2452fbe35ae3ab524fb49",
       "version_major": 2,
       "version_minor": 0
      },
      "text/plain": [
       "Evaluating distortion02 (Severity 3):   0%|          | 0/157 [00:00<?, ?it/s]"
      ]
     },
     "metadata": {},
     "output_type": "display_data"
    },
    {
     "name": "stdout",
     "output_type": "stream",
     "text": [
      "distortion02 (Severity 3)\n"
     ]
    },
    {
     "data": {
      "application/vnd.jupyter.widget-view+json": {
       "model_id": "e521d742370f415d8876442b7b3124dc",
       "version_major": 2,
       "version_minor": 0
      },
      "text/plain": [
       "Evaluating distortion02 (Severity 4):   0%|          | 0/157 [00:00<?, ?it/s]"
      ]
     },
     "metadata": {},
     "output_type": "display_data"
    },
    {
     "name": "stdout",
     "output_type": "stream",
     "text": [
      "distortion02 (Severity 4)\n"
     ]
    },
    {
     "data": {
      "application/vnd.jupyter.widget-view+json": {
       "model_id": "fa0c1b3bf1c948ecb641e24177936645",
       "version_major": 2,
       "version_minor": 0
      },
      "text/plain": [
       "Evaluating distortion02 (Severity 5):   0%|          | 0/157 [00:00<?, ?it/s]"
      ]
     },
     "metadata": {},
     "output_type": "display_data"
    },
    {
     "name": "stdout",
     "output_type": "stream",
     "text": [
      "distortion02 (Severity 5)\n"
     ]
    },
    {
     "data": {
      "application/vnd.jupyter.widget-view+json": {
       "model_id": "2d68027ad6da47d7af1a3765161f5588",
       "version_major": 2,
       "version_minor": 0
      },
      "text/plain": [
       "Evaluating distortion03 (Severity 1):   0%|          | 0/157 [00:00<?, ?it/s]"
      ]
     },
     "metadata": {},
     "output_type": "display_data"
    },
    {
     "name": "stdout",
     "output_type": "stream",
     "text": [
      "distortion03 (Severity 1)\n"
     ]
    },
    {
     "data": {
      "application/vnd.jupyter.widget-view+json": {
       "model_id": "9bd83c31f7444137a97fc3f1713cf2d3",
       "version_major": 2,
       "version_minor": 0
      },
      "text/plain": [
       "Evaluating distortion03 (Severity 2):   0%|          | 0/157 [00:00<?, ?it/s]"
      ]
     },
     "metadata": {},
     "output_type": "display_data"
    },
    {
     "name": "stdout",
     "output_type": "stream",
     "text": [
      "distortion03 (Severity 2)\n"
     ]
    },
    {
     "data": {
      "application/vnd.jupyter.widget-view+json": {
       "model_id": "44f3cc03d20642fdb0d4becca24a866d",
       "version_major": 2,
       "version_minor": 0
      },
      "text/plain": [
       "Evaluating distortion03 (Severity 3):   0%|          | 0/157 [00:00<?, ?it/s]"
      ]
     },
     "metadata": {},
     "output_type": "display_data"
    },
    {
     "name": "stdout",
     "output_type": "stream",
     "text": [
      "distortion03 (Severity 3)\n"
     ]
    },
    {
     "data": {
      "application/vnd.jupyter.widget-view+json": {
       "model_id": "94188a7bf4a84ae5a91c6d3db38d76e0",
       "version_major": 2,
       "version_minor": 0
      },
      "text/plain": [
       "Evaluating distortion03 (Severity 4):   0%|          | 0/157 [00:00<?, ?it/s]"
      ]
     },
     "metadata": {},
     "output_type": "display_data"
    },
    {
     "name": "stdout",
     "output_type": "stream",
     "text": [
      "distortion03 (Severity 4)\n"
     ]
    },
    {
     "data": {
      "application/vnd.jupyter.widget-view+json": {
       "model_id": "8950fc106e45456f946454ec8a2b26e7",
       "version_major": 2,
       "version_minor": 0
      },
      "text/plain": [
       "Evaluating distortion03 (Severity 5):   0%|          | 0/157 [00:00<?, ?it/s]"
      ]
     },
     "metadata": {},
     "output_type": "display_data"
    },
    {
     "name": "stdout",
     "output_type": "stream",
     "text": [
      "distortion03 (Severity 5)\n"
     ]
    },
    {
     "data": {
      "application/vnd.jupyter.widget-view+json": {
       "model_id": "b0851178a7ad429dbae318b8127517cb",
       "version_major": 2,
       "version_minor": 0
      },
      "text/plain": [
       "Evaluating distortion04 (Severity 1):   0%|          | 0/157 [00:00<?, ?it/s]"
      ]
     },
     "metadata": {},
     "output_type": "display_data"
    },
    {
     "name": "stdout",
     "output_type": "stream",
     "text": [
      "distortion04 (Severity 1)\n"
     ]
    },
    {
     "data": {
      "application/vnd.jupyter.widget-view+json": {
       "model_id": "a3152c22cfe84c8cab6329c7d4c842e3",
       "version_major": 2,
       "version_minor": 0
      },
      "text/plain": [
       "Evaluating distortion04 (Severity 2):   0%|          | 0/157 [00:00<?, ?it/s]"
      ]
     },
     "metadata": {},
     "output_type": "display_data"
    },
    {
     "name": "stdout",
     "output_type": "stream",
     "text": [
      "distortion04 (Severity 2)\n"
     ]
    },
    {
     "data": {
      "application/vnd.jupyter.widget-view+json": {
       "model_id": "9a2ae51ac2e34d81bbb1c0c05941e081",
       "version_major": 2,
       "version_minor": 0
      },
      "text/plain": [
       "Evaluating distortion04 (Severity 3):   0%|          | 0/157 [00:00<?, ?it/s]"
      ]
     },
     "metadata": {},
     "output_type": "display_data"
    },
    {
     "name": "stdout",
     "output_type": "stream",
     "text": [
      "distortion04 (Severity 3)\n"
     ]
    },
    {
     "data": {
      "application/vnd.jupyter.widget-view+json": {
       "model_id": "83c1490b65194553bede12ef959bbbe3",
       "version_major": 2,
       "version_minor": 0
      },
      "text/plain": [
       "Evaluating distortion04 (Severity 4):   0%|          | 0/157 [00:00<?, ?it/s]"
      ]
     },
     "metadata": {},
     "output_type": "display_data"
    },
    {
     "name": "stdout",
     "output_type": "stream",
     "text": [
      "distortion04 (Severity 4)\n"
     ]
    },
    {
     "data": {
      "application/vnd.jupyter.widget-view+json": {
       "model_id": "97ef53f6708f486daa4090604eb7082f",
       "version_major": 2,
       "version_minor": 0
      },
      "text/plain": [
       "Evaluating distortion04 (Severity 5):   0%|          | 0/157 [00:00<?, ?it/s]"
      ]
     },
     "metadata": {},
     "output_type": "display_data"
    },
    {
     "name": "stdout",
     "output_type": "stream",
     "text": [
      "distortion04 (Severity 5)\n"
     ]
    },
    {
     "data": {
      "application/vnd.jupyter.widget-view+json": {
       "model_id": "bdb381009ef447f18df40bd94a59bf1a",
       "version_major": 2,
       "version_minor": 0
      },
      "text/plain": [
       "Evaluating distortion05 (Severity 1):   0%|          | 0/157 [00:00<?, ?it/s]"
      ]
     },
     "metadata": {},
     "output_type": "display_data"
    },
    {
     "name": "stdout",
     "output_type": "stream",
     "text": [
      "distortion05 (Severity 1)\n"
     ]
    },
    {
     "data": {
      "application/vnd.jupyter.widget-view+json": {
       "model_id": "f70a192ebbf64339960b67fdbc1a3d97",
       "version_major": 2,
       "version_minor": 0
      },
      "text/plain": [
       "Evaluating distortion05 (Severity 2):   0%|          | 0/157 [00:00<?, ?it/s]"
      ]
     },
     "metadata": {},
     "output_type": "display_data"
    },
    {
     "name": "stdout",
     "output_type": "stream",
     "text": [
      "distortion05 (Severity 2)\n"
     ]
    },
    {
     "data": {
      "application/vnd.jupyter.widget-view+json": {
       "model_id": "6adcd896b05a440a9480fb6482fb1ee3",
       "version_major": 2,
       "version_minor": 0
      },
      "text/plain": [
       "Evaluating distortion05 (Severity 3):   0%|          | 0/157 [00:00<?, ?it/s]"
      ]
     },
     "metadata": {},
     "output_type": "display_data"
    },
    {
     "name": "stdout",
     "output_type": "stream",
     "text": [
      "distortion05 (Severity 3)\n"
     ]
    },
    {
     "data": {
      "application/vnd.jupyter.widget-view+json": {
       "model_id": "8a03ab4314884c6c8a5865ce073500ca",
       "version_major": 2,
       "version_minor": 0
      },
      "text/plain": [
       "Evaluating distortion05 (Severity 4):   0%|          | 0/157 [00:00<?, ?it/s]"
      ]
     },
     "metadata": {},
     "output_type": "display_data"
    },
    {
     "name": "stdout",
     "output_type": "stream",
     "text": [
      "distortion05 (Severity 4)\n"
     ]
    },
    {
     "data": {
      "application/vnd.jupyter.widget-view+json": {
       "model_id": "f0af0cc61f704ca5be5c6a9dbcf535c5",
       "version_major": 2,
       "version_minor": 0
      },
      "text/plain": [
       "Evaluating distortion05 (Severity 5):   0%|          | 0/157 [00:00<?, ?it/s]"
      ]
     },
     "metadata": {},
     "output_type": "display_data"
    },
    {
     "name": "stdout",
     "output_type": "stream",
     "text": [
      "distortion05 (Severity 5)\n"
     ]
    },
    {
     "data": {
      "application/vnd.jupyter.widget-view+json": {
       "model_id": "7caf97dbc7f14142a0cb0c43866eff15",
       "version_major": 2,
       "version_minor": 0
      },
      "text/plain": [
       "Evaluating distortion06 (Severity 1):   0%|          | 0/157 [00:00<?, ?it/s]"
      ]
     },
     "metadata": {},
     "output_type": "display_data"
    },
    {
     "name": "stdout",
     "output_type": "stream",
     "text": [
      "distortion06 (Severity 1)\n"
     ]
    },
    {
     "data": {
      "application/vnd.jupyter.widget-view+json": {
       "model_id": "6e1f707ddc074582a391dd8b3dd64fb3",
       "version_major": 2,
       "version_minor": 0
      },
      "text/plain": [
       "Evaluating distortion06 (Severity 2):   0%|          | 0/157 [00:00<?, ?it/s]"
      ]
     },
     "metadata": {},
     "output_type": "display_data"
    },
    {
     "name": "stdout",
     "output_type": "stream",
     "text": [
      "distortion06 (Severity 2)\n"
     ]
    },
    {
     "data": {
      "application/vnd.jupyter.widget-view+json": {
       "model_id": "3538ce32e26645e281ff220fb71c52d1",
       "version_major": 2,
       "version_minor": 0
      },
      "text/plain": [
       "Evaluating distortion06 (Severity 3):   0%|          | 0/157 [00:00<?, ?it/s]"
      ]
     },
     "metadata": {},
     "output_type": "display_data"
    },
    {
     "name": "stdout",
     "output_type": "stream",
     "text": [
      "distortion06 (Severity 3)\n"
     ]
    },
    {
     "data": {
      "application/vnd.jupyter.widget-view+json": {
       "model_id": "cf3d6277379d4c6691b87a1ed7d6a586",
       "version_major": 2,
       "version_minor": 0
      },
      "text/plain": [
       "Evaluating distortion06 (Severity 4):   0%|          | 0/157 [00:00<?, ?it/s]"
      ]
     },
     "metadata": {},
     "output_type": "display_data"
    },
    {
     "name": "stdout",
     "output_type": "stream",
     "text": [
      "distortion06 (Severity 4)\n"
     ]
    },
    {
     "data": {
      "application/vnd.jupyter.widget-view+json": {
       "model_id": "9f7d0c23f22147d2b121e05c4eb64463",
       "version_major": 2,
       "version_minor": 0
      },
      "text/plain": [
       "Evaluating distortion06 (Severity 5):   0%|          | 0/157 [00:00<?, ?it/s]"
      ]
     },
     "metadata": {},
     "output_type": "display_data"
    },
    {
     "name": "stdout",
     "output_type": "stream",
     "text": [
      "distortion06 (Severity 5)\n"
     ]
    },
    {
     "data": {
      "application/vnd.jupyter.widget-view+json": {
       "model_id": "f4ebebd229ae4e6f9d9e5ebc382a5ad7",
       "version_major": 2,
       "version_minor": 0
      },
      "text/plain": [
       "Evaluating distortion07 (Severity 1):   0%|          | 0/157 [00:00<?, ?it/s]"
      ]
     },
     "metadata": {},
     "output_type": "display_data"
    },
    {
     "name": "stdout",
     "output_type": "stream",
     "text": [
      "distortion07 (Severity 1)\n"
     ]
    },
    {
     "data": {
      "application/vnd.jupyter.widget-view+json": {
       "model_id": "f35796b3fba5443c8ad4f71e7a6dd3f7",
       "version_major": 2,
       "version_minor": 0
      },
      "text/plain": [
       "Evaluating distortion07 (Severity 2):   0%|          | 0/157 [00:00<?, ?it/s]"
      ]
     },
     "metadata": {},
     "output_type": "display_data"
    },
    {
     "name": "stdout",
     "output_type": "stream",
     "text": [
      "distortion07 (Severity 2)\n"
     ]
    },
    {
     "data": {
      "application/vnd.jupyter.widget-view+json": {
       "model_id": "437cf847fb9240aea0f3e6b936df81a8",
       "version_major": 2,
       "version_minor": 0
      },
      "text/plain": [
       "Evaluating distortion07 (Severity 3):   0%|          | 0/157 [00:00<?, ?it/s]"
      ]
     },
     "metadata": {},
     "output_type": "display_data"
    },
    {
     "name": "stdout",
     "output_type": "stream",
     "text": [
      "distortion07 (Severity 3)\n"
     ]
    },
    {
     "data": {
      "application/vnd.jupyter.widget-view+json": {
       "model_id": "76efbf16ab874a5da351d1ff37ab083c",
       "version_major": 2,
       "version_minor": 0
      },
      "text/plain": [
       "Evaluating distortion07 (Severity 4):   0%|          | 0/157 [00:00<?, ?it/s]"
      ]
     },
     "metadata": {},
     "output_type": "display_data"
    },
    {
     "name": "stdout",
     "output_type": "stream",
     "text": [
      "distortion07 (Severity 4)\n"
     ]
    },
    {
     "data": {
      "application/vnd.jupyter.widget-view+json": {
       "model_id": "ab5ec7bfa10241d4a77431858d43ac5e",
       "version_major": 2,
       "version_minor": 0
      },
      "text/plain": [
       "Evaluating distortion07 (Severity 5):   0%|          | 0/157 [00:00<?, ?it/s]"
      ]
     },
     "metadata": {},
     "output_type": "display_data"
    },
    {
     "name": "stdout",
     "output_type": "stream",
     "text": [
      "distortion07 (Severity 5)\n"
     ]
    },
    {
     "data": {
      "application/vnd.jupyter.widget-view+json": {
       "model_id": "fcc25ee9948148079ea76e30d988cac4",
       "version_major": 2,
       "version_minor": 0
      },
      "text/plain": [
       "Evaluating distortion08 (Severity 1):   0%|          | 0/157 [00:00<?, ?it/s]"
      ]
     },
     "metadata": {},
     "output_type": "display_data"
    },
    {
     "name": "stdout",
     "output_type": "stream",
     "text": [
      "distortion08 (Severity 1)\n"
     ]
    },
    {
     "data": {
      "application/vnd.jupyter.widget-view+json": {
       "model_id": "f3ffc9ac0ca04a1e8a76a980ddaedb0a",
       "version_major": 2,
       "version_minor": 0
      },
      "text/plain": [
       "Evaluating distortion08 (Severity 2):   0%|          | 0/157 [00:00<?, ?it/s]"
      ]
     },
     "metadata": {},
     "output_type": "display_data"
    },
    {
     "name": "stdout",
     "output_type": "stream",
     "text": [
      "distortion08 (Severity 2)\n"
     ]
    },
    {
     "data": {
      "application/vnd.jupyter.widget-view+json": {
       "model_id": "bd4931dbbf8344a4b0488aefc17f4123",
       "version_major": 2,
       "version_minor": 0
      },
      "text/plain": [
       "Evaluating distortion08 (Severity 3):   0%|          | 0/157 [00:00<?, ?it/s]"
      ]
     },
     "metadata": {},
     "output_type": "display_data"
    },
    {
     "name": "stdout",
     "output_type": "stream",
     "text": [
      "distortion08 (Severity 3)\n"
     ]
    },
    {
     "data": {
      "application/vnd.jupyter.widget-view+json": {
       "model_id": "53f88c7c9fd8420ba733ba8399fabc34",
       "version_major": 2,
       "version_minor": 0
      },
      "text/plain": [
       "Evaluating distortion08 (Severity 4):   0%|          | 0/157 [00:00<?, ?it/s]"
      ]
     },
     "metadata": {},
     "output_type": "display_data"
    },
    {
     "name": "stdout",
     "output_type": "stream",
     "text": [
      "distortion08 (Severity 4)\n"
     ]
    },
    {
     "data": {
      "application/vnd.jupyter.widget-view+json": {
       "model_id": "790e1d0776ae48cd86e0f7073ab1ed7d",
       "version_major": 2,
       "version_minor": 0
      },
      "text/plain": [
       "Evaluating distortion08 (Severity 5):   0%|          | 0/157 [00:00<?, ?it/s]"
      ]
     },
     "metadata": {},
     "output_type": "display_data"
    },
    {
     "name": "stdout",
     "output_type": "stream",
     "text": [
      "distortion08 (Severity 5)\n"
     ]
    },
    {
     "data": {
      "application/vnd.jupyter.widget-view+json": {
       "model_id": "4bb67736b31b492ba57d99ea7c904d8b",
       "version_major": 2,
       "version_minor": 0
      },
      "text/plain": [
       "Evaluating distortion09 (Severity 1):   0%|          | 0/157 [00:00<?, ?it/s]"
      ]
     },
     "metadata": {},
     "output_type": "display_data"
    },
    {
     "name": "stdout",
     "output_type": "stream",
     "text": [
      "distortion09 (Severity 1)\n"
     ]
    },
    {
     "data": {
      "application/vnd.jupyter.widget-view+json": {
       "model_id": "cfbf049c0b8d42e0923c8dcc013f6f30",
       "version_major": 2,
       "version_minor": 0
      },
      "text/plain": [
       "Evaluating distortion09 (Severity 2):   0%|          | 0/157 [00:00<?, ?it/s]"
      ]
     },
     "metadata": {},
     "output_type": "display_data"
    },
    {
     "name": "stdout",
     "output_type": "stream",
     "text": [
      "distortion09 (Severity 2)\n"
     ]
    },
    {
     "data": {
      "application/vnd.jupyter.widget-view+json": {
       "model_id": "c9ff3bc3d2034a4597711263f286090c",
       "version_major": 2,
       "version_minor": 0
      },
      "text/plain": [
       "Evaluating distortion09 (Severity 3):   0%|          | 0/157 [00:00<?, ?it/s]"
      ]
     },
     "metadata": {},
     "output_type": "display_data"
    },
    {
     "name": "stdout",
     "output_type": "stream",
     "text": [
      "distortion09 (Severity 3)\n"
     ]
    },
    {
     "data": {
      "application/vnd.jupyter.widget-view+json": {
       "model_id": "f167c3f3d69a451790fa5612c1f16368",
       "version_major": 2,
       "version_minor": 0
      },
      "text/plain": [
       "Evaluating distortion09 (Severity 4):   0%|          | 0/157 [00:00<?, ?it/s]"
      ]
     },
     "metadata": {},
     "output_type": "display_data"
    },
    {
     "name": "stdout",
     "output_type": "stream",
     "text": [
      "distortion09 (Severity 4)\n"
     ]
    },
    {
     "data": {
      "application/vnd.jupyter.widget-view+json": {
       "model_id": "05c8821b087c4faf9ef28fe92616c56c",
       "version_major": 2,
       "version_minor": 0
      },
      "text/plain": [
       "Evaluating distortion09 (Severity 5):   0%|          | 0/157 [00:00<?, ?it/s]"
      ]
     },
     "metadata": {},
     "output_type": "display_data"
    },
    {
     "name": "stdout",
     "output_type": "stream",
     "text": [
      "distortion09 (Severity 5)\n"
     ]
    },
    {
     "data": {
      "application/vnd.jupyter.widget-view+json": {
       "model_id": "b916576dd5974765a99d884e029fb29c",
       "version_major": 2,
       "version_minor": 0
      },
      "text/plain": [
       "Evaluating distortion10 (Severity 1):   0%|          | 0/157 [00:00<?, ?it/s]"
      ]
     },
     "metadata": {},
     "output_type": "display_data"
    },
    {
     "name": "stdout",
     "output_type": "stream",
     "text": [
      "distortion10 (Severity 1)\n"
     ]
    },
    {
     "data": {
      "application/vnd.jupyter.widget-view+json": {
       "model_id": "8759a53eeafb4d08b1ae0826ee2a9875",
       "version_major": 2,
       "version_minor": 0
      },
      "text/plain": [
       "Evaluating distortion10 (Severity 2):   0%|          | 0/157 [00:00<?, ?it/s]"
      ]
     },
     "metadata": {},
     "output_type": "display_data"
    },
    {
     "name": "stdout",
     "output_type": "stream",
     "text": [
      "distortion10 (Severity 2)\n"
     ]
    },
    {
     "data": {
      "application/vnd.jupyter.widget-view+json": {
       "model_id": "f6443c9a94ff463ebdee7bf86087e00f",
       "version_major": 2,
       "version_minor": 0
      },
      "text/plain": [
       "Evaluating distortion10 (Severity 3):   0%|          | 0/157 [00:00<?, ?it/s]"
      ]
     },
     "metadata": {},
     "output_type": "display_data"
    },
    {
     "name": "stdout",
     "output_type": "stream",
     "text": [
      "distortion10 (Severity 3)\n"
     ]
    },
    {
     "data": {
      "application/vnd.jupyter.widget-view+json": {
       "model_id": "ddd04347f5bd4439a73816607c69ec7a",
       "version_major": 2,
       "version_minor": 0
      },
      "text/plain": [
       "Evaluating distortion10 (Severity 4):   0%|          | 0/157 [00:00<?, ?it/s]"
      ]
     },
     "metadata": {},
     "output_type": "display_data"
    },
    {
     "name": "stdout",
     "output_type": "stream",
     "text": [
      "distortion10 (Severity 4)\n"
     ]
    },
    {
     "data": {
      "application/vnd.jupyter.widget-view+json": {
       "model_id": "7ef851ede35d418a90319ce01685f106",
       "version_major": 2,
       "version_minor": 0
      },
      "text/plain": [
       "Evaluating distortion10 (Severity 5):   0%|          | 0/157 [00:00<?, ?it/s]"
      ]
     },
     "metadata": {},
     "output_type": "display_data"
    },
    {
     "name": "stdout",
     "output_type": "stream",
     "text": [
      "distortion10 (Severity 5)\n"
     ]
    },
    {
     "data": {
      "application/vnd.jupyter.widget-view+json": {
       "model_id": "c35ec1180cfd47fdba9b80f8c1f6378d",
       "version_major": 2,
       "version_minor": 0
      },
      "text/plain": [
       "Evaluating distortion11 (Severity 1):   0%|          | 0/157 [00:00<?, ?it/s]"
      ]
     },
     "metadata": {},
     "output_type": "display_data"
    },
    {
     "name": "stdout",
     "output_type": "stream",
     "text": [
      "distortion11 (Severity 1)\n"
     ]
    },
    {
     "data": {
      "application/vnd.jupyter.widget-view+json": {
       "model_id": "9d02229f93f546ad9a2887a8f3616537",
       "version_major": 2,
       "version_minor": 0
      },
      "text/plain": [
       "Evaluating distortion11 (Severity 2):   0%|          | 0/157 [00:00<?, ?it/s]"
      ]
     },
     "metadata": {},
     "output_type": "display_data"
    },
    {
     "name": "stdout",
     "output_type": "stream",
     "text": [
      "distortion11 (Severity 2)\n"
     ]
    },
    {
     "data": {
      "application/vnd.jupyter.widget-view+json": {
       "model_id": "87966002f17a4360ba873f196a338864",
       "version_major": 2,
       "version_minor": 0
      },
      "text/plain": [
       "Evaluating distortion11 (Severity 3):   0%|          | 0/157 [00:00<?, ?it/s]"
      ]
     },
     "metadata": {},
     "output_type": "display_data"
    },
    {
     "name": "stdout",
     "output_type": "stream",
     "text": [
      "distortion11 (Severity 3)\n"
     ]
    },
    {
     "data": {
      "application/vnd.jupyter.widget-view+json": {
       "model_id": "113ec5ce5f05441ba6ad0c8fe26549dd",
       "version_major": 2,
       "version_minor": 0
      },
      "text/plain": [
       "Evaluating distortion11 (Severity 4):   0%|          | 0/157 [00:00<?, ?it/s]"
      ]
     },
     "metadata": {},
     "output_type": "display_data"
    },
    {
     "name": "stdout",
     "output_type": "stream",
     "text": [
      "distortion11 (Severity 4)\n"
     ]
    },
    {
     "data": {
      "application/vnd.jupyter.widget-view+json": {
       "model_id": "b5aed02e1e2741ab88ae4bc4886461c7",
       "version_major": 2,
       "version_minor": 0
      },
      "text/plain": [
       "Evaluating distortion11 (Severity 5):   0%|          | 0/157 [00:00<?, ?it/s]"
      ]
     },
     "metadata": {},
     "output_type": "display_data"
    },
    {
     "name": "stdout",
     "output_type": "stream",
     "text": [
      "distortion11 (Severity 5)\n"
     ]
    },
    {
     "data": {
      "application/vnd.jupyter.widget-view+json": {
       "model_id": "21c0da928e694718b9d286619300fd19",
       "version_major": 2,
       "version_minor": 0
      },
      "text/plain": [
       "Evaluating distortion12 (Severity 1):   0%|          | 0/157 [00:00<?, ?it/s]"
      ]
     },
     "metadata": {},
     "output_type": "display_data"
    },
    {
     "name": "stdout",
     "output_type": "stream",
     "text": [
      "distortion12 (Severity 1)\n"
     ]
    },
    {
     "data": {
      "application/vnd.jupyter.widget-view+json": {
       "model_id": "3def99fd5a2045258e6db4e2db40e6ed",
       "version_major": 2,
       "version_minor": 0
      },
      "text/plain": [
       "Evaluating distortion12 (Severity 2):   0%|          | 0/157 [00:00<?, ?it/s]"
      ]
     },
     "metadata": {},
     "output_type": "display_data"
    },
    {
     "name": "stdout",
     "output_type": "stream",
     "text": [
      "distortion12 (Severity 2)\n"
     ]
    },
    {
     "data": {
      "application/vnd.jupyter.widget-view+json": {
       "model_id": "3b2361f4b8174b37be01a411e3b3f3eb",
       "version_major": 2,
       "version_minor": 0
      },
      "text/plain": [
       "Evaluating distortion12 (Severity 3):   0%|          | 0/157 [00:00<?, ?it/s]"
      ]
     },
     "metadata": {},
     "output_type": "display_data"
    },
    {
     "name": "stdout",
     "output_type": "stream",
     "text": [
      "distortion12 (Severity 3)\n"
     ]
    },
    {
     "data": {
      "application/vnd.jupyter.widget-view+json": {
       "model_id": "b552d8d32b7f419abd7ee482900f337e",
       "version_major": 2,
       "version_minor": 0
      },
      "text/plain": [
       "Evaluating distortion12 (Severity 4):   0%|          | 0/157 [00:00<?, ?it/s]"
      ]
     },
     "metadata": {},
     "output_type": "display_data"
    },
    {
     "name": "stdout",
     "output_type": "stream",
     "text": [
      "distortion12 (Severity 4)\n"
     ]
    },
    {
     "data": {
      "application/vnd.jupyter.widget-view+json": {
       "model_id": "82338e66b67847dd8972855d7a22838f",
       "version_major": 2,
       "version_minor": 0
      },
      "text/plain": [
       "Evaluating distortion12 (Severity 5):   0%|          | 0/157 [00:00<?, ?it/s]"
      ]
     },
     "metadata": {},
     "output_type": "display_data"
    },
    {
     "name": "stdout",
     "output_type": "stream",
     "text": [
      "distortion12 (Severity 5)\n"
     ]
    },
    {
     "data": {
      "application/vnd.jupyter.widget-view+json": {
       "model_id": "7cf49ebded2544a88be4a6f1bcf076fd",
       "version_major": 2,
       "version_minor": 0
      },
      "text/plain": [
       "Evaluating distortion13 (Severity 1):   0%|          | 0/157 [00:00<?, ?it/s]"
      ]
     },
     "metadata": {},
     "output_type": "display_data"
    },
    {
     "name": "stdout",
     "output_type": "stream",
     "text": [
      "distortion13 (Severity 1)\n"
     ]
    },
    {
     "data": {
      "application/vnd.jupyter.widget-view+json": {
       "model_id": "008db6f2937c42a29683131de368c413",
       "version_major": 2,
       "version_minor": 0
      },
      "text/plain": [
       "Evaluating distortion13 (Severity 2):   0%|          | 0/157 [00:00<?, ?it/s]"
      ]
     },
     "metadata": {},
     "output_type": "display_data"
    },
    {
     "name": "stdout",
     "output_type": "stream",
     "text": [
      "distortion13 (Severity 2)\n"
     ]
    },
    {
     "data": {
      "application/vnd.jupyter.widget-view+json": {
       "model_id": "9020cc5b7e50442c95f39f40dd6072b9",
       "version_major": 2,
       "version_minor": 0
      },
      "text/plain": [
       "Evaluating distortion13 (Severity 3):   0%|          | 0/157 [00:00<?, ?it/s]"
      ]
     },
     "metadata": {},
     "output_type": "display_data"
    },
    {
     "name": "stdout",
     "output_type": "stream",
     "text": [
      "distortion13 (Severity 3)\n"
     ]
    },
    {
     "data": {
      "application/vnd.jupyter.widget-view+json": {
       "model_id": "78cf2ed418394fb092453cd712995d9d",
       "version_major": 2,
       "version_minor": 0
      },
      "text/plain": [
       "Evaluating distortion13 (Severity 4):   0%|          | 0/157 [00:00<?, ?it/s]"
      ]
     },
     "metadata": {},
     "output_type": "display_data"
    },
    {
     "name": "stdout",
     "output_type": "stream",
     "text": [
      "distortion13 (Severity 4)\n"
     ]
    },
    {
     "data": {
      "application/vnd.jupyter.widget-view+json": {
       "model_id": "ac5e252987bf423cbd9c979199f2fc2f",
       "version_major": 2,
       "version_minor": 0
      },
      "text/plain": [
       "Evaluating distortion13 (Severity 5):   0%|          | 0/157 [00:00<?, ?it/s]"
      ]
     },
     "metadata": {},
     "output_type": "display_data"
    },
    {
     "name": "stdout",
     "output_type": "stream",
     "text": [
      "distortion13 (Severity 5)\n"
     ]
    },
    {
     "data": {
      "application/vnd.jupyter.widget-view+json": {
       "model_id": "bbfdc1bf4fd5483f9af3e4f523c89ba1",
       "version_major": 2,
       "version_minor": 0
      },
      "text/plain": [
       "Evaluating distortion14 (Severity 1):   0%|          | 0/157 [00:00<?, ?it/s]"
      ]
     },
     "metadata": {},
     "output_type": "display_data"
    },
    {
     "name": "stdout",
     "output_type": "stream",
     "text": [
      "distortion14 (Severity 1)\n"
     ]
    },
    {
     "data": {
      "application/vnd.jupyter.widget-view+json": {
       "model_id": "8e5915e47c034ddc861e13a758205b2f",
       "version_major": 2,
       "version_minor": 0
      },
      "text/plain": [
       "Evaluating distortion14 (Severity 2):   0%|          | 0/157 [00:00<?, ?it/s]"
      ]
     },
     "metadata": {},
     "output_type": "display_data"
    },
    {
     "name": "stdout",
     "output_type": "stream",
     "text": [
      "distortion14 (Severity 2)\n"
     ]
    },
    {
     "data": {
      "application/vnd.jupyter.widget-view+json": {
       "model_id": "0c236a63491c4998936f7994d6540f80",
       "version_major": 2,
       "version_minor": 0
      },
      "text/plain": [
       "Evaluating distortion14 (Severity 3):   0%|          | 0/157 [00:00<?, ?it/s]"
      ]
     },
     "metadata": {},
     "output_type": "display_data"
    },
    {
     "name": "stdout",
     "output_type": "stream",
     "text": [
      "distortion14 (Severity 3)\n"
     ]
    },
    {
     "data": {
      "application/vnd.jupyter.widget-view+json": {
       "model_id": "14a7441ef2ed46f38bd39c7b489ad611",
       "version_major": 2,
       "version_minor": 0
      },
      "text/plain": [
       "Evaluating distortion14 (Severity 4):   0%|          | 0/157 [00:00<?, ?it/s]"
      ]
     },
     "metadata": {},
     "output_type": "display_data"
    },
    {
     "name": "stdout",
     "output_type": "stream",
     "text": [
      "distortion14 (Severity 4)\n"
     ]
    },
    {
     "data": {
      "application/vnd.jupyter.widget-view+json": {
       "model_id": "dff81ba94a374b99a5adb5fe70d722d0",
       "version_major": 2,
       "version_minor": 0
      },
      "text/plain": [
       "Evaluating distortion14 (Severity 5):   0%|          | 0/157 [00:00<?, ?it/s]"
      ]
     },
     "metadata": {},
     "output_type": "display_data"
    },
    {
     "name": "stdout",
     "output_type": "stream",
     "text": [
      "distortion14 (Severity 5)\n"
     ]
    },
    {
     "data": {
      "application/vnd.jupyter.widget-view+json": {
       "model_id": "9a7467efe738459b9488bba2862e6cae",
       "version_major": 2,
       "version_minor": 0
      },
      "text/plain": [
       "Evaluating distortion15 (Severity 1):   0%|          | 0/157 [00:00<?, ?it/s]"
      ]
     },
     "metadata": {},
     "output_type": "display_data"
    },
    {
     "name": "stdout",
     "output_type": "stream",
     "text": [
      "distortion15 (Severity 1)\n"
     ]
    },
    {
     "data": {
      "application/vnd.jupyter.widget-view+json": {
       "model_id": "025f232b509d493aa169aa212aa6b06d",
       "version_major": 2,
       "version_minor": 0
      },
      "text/plain": [
       "Evaluating distortion15 (Severity 2):   0%|          | 0/157 [00:00<?, ?it/s]"
      ]
     },
     "metadata": {},
     "output_type": "display_data"
    },
    {
     "name": "stdout",
     "output_type": "stream",
     "text": [
      "distortion15 (Severity 2)\n"
     ]
    },
    {
     "data": {
      "application/vnd.jupyter.widget-view+json": {
       "model_id": "cc13446a31c745d1a11117bab3df6317",
       "version_major": 2,
       "version_minor": 0
      },
      "text/plain": [
       "Evaluating distortion15 (Severity 3):   0%|          | 0/157 [00:00<?, ?it/s]"
      ]
     },
     "metadata": {},
     "output_type": "display_data"
    },
    {
     "name": "stdout",
     "output_type": "stream",
     "text": [
      "distortion15 (Severity 3)\n"
     ]
    },
    {
     "data": {
      "application/vnd.jupyter.widget-view+json": {
       "model_id": "84f35bef9d85423a8957cd5a10b3591b",
       "version_major": 2,
       "version_minor": 0
      },
      "text/plain": [
       "Evaluating distortion15 (Severity 4):   0%|          | 0/157 [00:00<?, ?it/s]"
      ]
     },
     "metadata": {},
     "output_type": "display_data"
    },
    {
     "name": "stdout",
     "output_type": "stream",
     "text": [
      "distortion15 (Severity 4)\n"
     ]
    },
    {
     "data": {
      "application/vnd.jupyter.widget-view+json": {
       "model_id": "bbab7892891f4494b0a79bd49db51c67",
       "version_major": 2,
       "version_minor": 0
      },
      "text/plain": [
       "Evaluating distortion15 (Severity 5):   0%|          | 0/157 [00:00<?, ?it/s]"
      ]
     },
     "metadata": {},
     "output_type": "display_data"
    },
    {
     "name": "stdout",
     "output_type": "stream",
     "text": [
      "distortion15 (Severity 5)\n"
     ]
    },
    {
     "data": {
      "application/vnd.jupyter.widget-view+json": {
       "model_id": "90b0cffc0bb64aa4a57f84932898fe20",
       "version_major": 2,
       "version_minor": 0
      },
      "text/plain": [
       "Evaluating distortion16 (Severity 1):   0%|          | 0/157 [00:00<?, ?it/s]"
      ]
     },
     "metadata": {},
     "output_type": "display_data"
    },
    {
     "name": "stdout",
     "output_type": "stream",
     "text": [
      "distortion16 (Severity 1)\n"
     ]
    },
    {
     "data": {
      "application/vnd.jupyter.widget-view+json": {
       "model_id": "344e094f5aea4b24a2a674ccdd6c2980",
       "version_major": 2,
       "version_minor": 0
      },
      "text/plain": [
       "Evaluating distortion16 (Severity 2):   0%|          | 0/157 [00:00<?, ?it/s]"
      ]
     },
     "metadata": {},
     "output_type": "display_data"
    },
    {
     "name": "stdout",
     "output_type": "stream",
     "text": [
      "distortion16 (Severity 2)\n"
     ]
    },
    {
     "data": {
      "application/vnd.jupyter.widget-view+json": {
       "model_id": "4e1ee5f9990b45f09b25d9dc7c46cc1f",
       "version_major": 2,
       "version_minor": 0
      },
      "text/plain": [
       "Evaluating distortion16 (Severity 3):   0%|          | 0/157 [00:00<?, ?it/s]"
      ]
     },
     "metadata": {},
     "output_type": "display_data"
    },
    {
     "name": "stdout",
     "output_type": "stream",
     "text": [
      "distortion16 (Severity 3)\n"
     ]
    },
    {
     "data": {
      "application/vnd.jupyter.widget-view+json": {
       "model_id": "cabf47acd5844cf296bb96cb5f6a2587",
       "version_major": 2,
       "version_minor": 0
      },
      "text/plain": [
       "Evaluating distortion16 (Severity 4):   0%|          | 0/157 [00:00<?, ?it/s]"
      ]
     },
     "metadata": {},
     "output_type": "display_data"
    },
    {
     "name": "stdout",
     "output_type": "stream",
     "text": [
      "distortion16 (Severity 4)\n"
     ]
    },
    {
     "data": {
      "application/vnd.jupyter.widget-view+json": {
       "model_id": "69c52c601d314881844d5a828cf7ca8a",
       "version_major": 2,
       "version_minor": 0
      },
      "text/plain": [
       "Evaluating distortion16 (Severity 5):   0%|          | 0/157 [00:00<?, ?it/s]"
      ]
     },
     "metadata": {},
     "output_type": "display_data"
    },
    {
     "name": "stdout",
     "output_type": "stream",
     "text": [
      "distortion16 (Severity 5)\n"
     ]
    },
    {
     "data": {
      "application/vnd.jupyter.widget-view+json": {
       "model_id": "d6322b4be828467e9af22a15d3566198",
       "version_major": 2,
       "version_minor": 0
      },
      "text/plain": [
       "Evaluating distortion17 (Severity 1):   0%|          | 0/157 [00:00<?, ?it/s]"
      ]
     },
     "metadata": {},
     "output_type": "display_data"
    },
    {
     "name": "stdout",
     "output_type": "stream",
     "text": [
      "distortion17 (Severity 1)\n"
     ]
    },
    {
     "data": {
      "application/vnd.jupyter.widget-view+json": {
       "model_id": "3575be4225b94fa58fcce483f9809993",
       "version_major": 2,
       "version_minor": 0
      },
      "text/plain": [
       "Evaluating distortion17 (Severity 2):   0%|          | 0/157 [00:00<?, ?it/s]"
      ]
     },
     "metadata": {},
     "output_type": "display_data"
    },
    {
     "name": "stdout",
     "output_type": "stream",
     "text": [
      "distortion17 (Severity 2)\n"
     ]
    },
    {
     "data": {
      "application/vnd.jupyter.widget-view+json": {
       "model_id": "982ea47ead81402d8eb8948fa252d950",
       "version_major": 2,
       "version_minor": 0
      },
      "text/plain": [
       "Evaluating distortion17 (Severity 3):   0%|          | 0/157 [00:00<?, ?it/s]"
      ]
     },
     "metadata": {},
     "output_type": "display_data"
    },
    {
     "name": "stdout",
     "output_type": "stream",
     "text": [
      "distortion17 (Severity 3)\n"
     ]
    },
    {
     "data": {
      "application/vnd.jupyter.widget-view+json": {
       "model_id": "2ad247c37e3e47aba10b36af162474af",
       "version_major": 2,
       "version_minor": 0
      },
      "text/plain": [
       "Evaluating distortion17 (Severity 4):   0%|          | 0/157 [00:00<?, ?it/s]"
      ]
     },
     "metadata": {},
     "output_type": "display_data"
    },
    {
     "name": "stdout",
     "output_type": "stream",
     "text": [
      "distortion17 (Severity 4)\n"
     ]
    },
    {
     "data": {
      "application/vnd.jupyter.widget-view+json": {
       "model_id": "60a472de730c4ceb8c485bb213bd30e7",
       "version_major": 2,
       "version_minor": 0
      },
      "text/plain": [
       "Evaluating distortion17 (Severity 5):   0%|          | 0/157 [00:00<?, ?it/s]"
      ]
     },
     "metadata": {},
     "output_type": "display_data"
    },
    {
     "name": "stdout",
     "output_type": "stream",
     "text": [
      "distortion17 (Severity 5)\n"
     ]
    },
    {
     "data": {
      "application/vnd.jupyter.widget-view+json": {
       "model_id": "3222d080fbe44d64920a1881ca11217e",
       "version_major": 2,
       "version_minor": 0
      },
      "text/plain": [
       "Evaluating distortion18 (Severity 1):   0%|          | 0/157 [00:00<?, ?it/s]"
      ]
     },
     "metadata": {},
     "output_type": "display_data"
    },
    {
     "name": "stdout",
     "output_type": "stream",
     "text": [
      "distortion18 (Severity 1)\n"
     ]
    },
    {
     "data": {
      "application/vnd.jupyter.widget-view+json": {
       "model_id": "7e8049fc00da48e7ba232974a4450647",
       "version_major": 2,
       "version_minor": 0
      },
      "text/plain": [
       "Evaluating distortion18 (Severity 2):   0%|          | 0/157 [00:00<?, ?it/s]"
      ]
     },
     "metadata": {},
     "output_type": "display_data"
    },
    {
     "name": "stdout",
     "output_type": "stream",
     "text": [
      "distortion18 (Severity 2)\n"
     ]
    },
    {
     "data": {
      "application/vnd.jupyter.widget-view+json": {
       "model_id": "727aa1f243634d04ae6a687544ad8e31",
       "version_major": 2,
       "version_minor": 0
      },
      "text/plain": [
       "Evaluating distortion18 (Severity 3):   0%|          | 0/157 [00:00<?, ?it/s]"
      ]
     },
     "metadata": {},
     "output_type": "display_data"
    },
    {
     "name": "stdout",
     "output_type": "stream",
     "text": [
      "distortion18 (Severity 3)\n"
     ]
    },
    {
     "data": {
      "application/vnd.jupyter.widget-view+json": {
       "model_id": "3b012557d06645b88ba6143f8ac76890",
       "version_major": 2,
       "version_minor": 0
      },
      "text/plain": [
       "Evaluating distortion18 (Severity 4):   0%|          | 0/157 [00:00<?, ?it/s]"
      ]
     },
     "metadata": {},
     "output_type": "display_data"
    },
    {
     "name": "stdout",
     "output_type": "stream",
     "text": [
      "distortion18 (Severity 4)\n"
     ]
    },
    {
     "data": {
      "application/vnd.jupyter.widget-view+json": {
       "model_id": "ff2f31bd29954f41959e347f6a76ac51",
       "version_major": 2,
       "version_minor": 0
      },
      "text/plain": [
       "Evaluating distortion18 (Severity 5):   0%|          | 0/157 [00:00<?, ?it/s]"
      ]
     },
     "metadata": {},
     "output_type": "display_data"
    },
    {
     "name": "stdout",
     "output_type": "stream",
     "text": [
      "distortion18 (Severity 5)\n",
      "submission_ood_part3densenet_ep50.csv created successfully.\n"
     ]
    }
   ],
   "source": [
    "import torch\n",
    "import torch.nn as nn\n",
    "import torch.optim as optim\n",
    "import torchvision\n",
    "import torchvision.transforms as transforms\n",
    "from torchvision import models\n",
    "from tqdm.auto import tqdm\n",
    "import wandb\n",
    "import numpy as np\n",
    "import random\n",
    "import shutil\n",
    "\n",
    "# -----------------------------\n",
    "# Reproducibility\n",
    "# -----------------------------\n",
    "def set_seed(seed):\n",
    "    torch.manual_seed(seed)\n",
    "    np.random.seed(seed)\n",
    "    random.seed(seed)\n",
    "    if torch.cuda.is_available():\n",
    "        torch.cuda.manual_seed_all(seed)\n",
    "\n",
    "# -----------------------------\n",
    "# Training Function\n",
    "# -----------------------------\n",
    "def train(epoch, model, trainloader, optimizer, criterion, CONFIG):\n",
    "    device = CONFIG[\"device\"]\n",
    "    model.train()\n",
    "    running_loss, correct, total = 0.0, 0, 0\n",
    "    progress = tqdm(trainloader, desc=f\"Epoch {epoch+41}/50 [Train]\", leave=False)\n",
    "\n",
    "    for inputs, labels in progress:\n",
    "        inputs, labels = inputs.to(device), labels.to(device)\n",
    "\n",
    "        optimizer.zero_grad()\n",
    "        outputs = model(inputs)\n",
    "        loss = criterion(outputs, labels)\n",
    "        loss.backward()\n",
    "        optimizer.step()\n",
    "\n",
    "        running_loss += loss.item()\n",
    "        _, predicted = outputs.max(1)\n",
    "        total += labels.size(0)\n",
    "        correct += predicted.eq(labels).sum().item()\n",
    "\n",
    "        progress.set_postfix({\n",
    "            \"loss\": running_loss / (total / CONFIG[\"batch_size\"]),\n",
    "            \"acc\": 100. * correct / total\n",
    "        })\n",
    "\n",
    "    return running_loss / len(trainloader), 100. * correct / total\n",
    "\n",
    "# -----------------------------\n",
    "# Validation Function\n",
    "# -----------------------------\n",
    "def validate(model, valloader, criterion, CONFIG):\n",
    "    device = CONFIG[\"device\"]\n",
    "    model.eval()\n",
    "    running_loss, correct, total = 0.0, 0, 0\n",
    "\n",
    "    with torch.no_grad():\n",
    "        progress = tqdm(valloader, desc=\"[Validate]\", leave=False)\n",
    "        for inputs, labels in progress:\n",
    "            inputs, labels = inputs.to(device), labels.to(device)\n",
    "            outputs = model(inputs)\n",
    "            loss = criterion(outputs, labels)\n",
    "\n",
    "            running_loss += loss.item()\n",
    "            _, predicted = outputs.max(1)\n",
    "            total += labels.size(0)\n",
    "            correct += predicted.eq(labels).sum().item()\n",
    "\n",
    "            progress.set_postfix({\n",
    "                \"loss\": running_loss / (total / CONFIG[\"batch_size\"]),\n",
    "                \"acc\": 100. * correct / total\n",
    "            })\n",
    "\n",
    "    return running_loss / len(valloader), 100. * correct / total\n",
    "\n",
    "# -----------------------------\n",
    "# Main Function\n",
    "# -----------------------------\n",
    "def main():\n",
    "    CONFIG = {\n",
    "        \"model\": \"DenseNet121_Pretrained_FT\",\n",
    "        \"batch_size\": 64,\n",
    "        \"learning_rate\": 0.001,\n",
    "        \"epochs\": 10,\n",
    "        \"num_workers\": 0,\n",
    "        \"device\": \"cuda\" if torch.cuda.is_available() else \"cpu\",\n",
    "        \"data_dir\": \"./data\",\n",
    "        \"ood_dir\": \"./data/ood-test\",\n",
    "        \"wandb_project\": \"sp25-ds542-challenge\",\n",
    "        \"seed\": 42,\n",
    "    }\n",
    "\n",
    "    set_seed(CONFIG[\"seed\"])\n",
    "\n",
    "    # -----------------------------\n",
    "    # Data Transforms (Augmentation)\n",
    "    # -----------------------------\n",
    "    transform_train = transforms.Compose([\n",
    "        transforms.RandomCrop(32, padding=4),\n",
    "        transforms.RandomHorizontalFlip(),\n",
    "        transforms.ColorJitter(brightness=0.2, contrast=0.2, saturation=0.2),\n",
    "        transforms.RandomRotation(10),\n",
    "        transforms.ToTensor(),\n",
    "        transforms.Normalize((0.5071, 0.4865, 0.4409), (0.2673, 0.2564, 0.2762)),\n",
    "    ])\n",
    "    transform_test = transforms.Compose([\n",
    "        transforms.ToTensor(),\n",
    "        transforms.Normalize((0.5071, 0.4865, 0.4409), (0.2673, 0.2564, 0.2762)),\n",
    "    ])\n",
    "\n",
    "    # -----------------------------\n",
    "    # Load CIFAR-100 Dataset\n",
    "    # -----------------------------\n",
    "    trainset_full = torchvision.datasets.CIFAR100(root=CONFIG[\"data_dir\"], train=True, download=True, transform=transform_train)\n",
    "    train_size = int(0.8 * len(trainset_full))\n",
    "    val_size = len(trainset_full) - train_size\n",
    "    trainset, valset = torch.utils.data.random_split(trainset_full, [train_size, val_size])\n",
    "\n",
    "    trainloader = torch.utils.data.DataLoader(trainset, batch_size=CONFIG[\"batch_size\"], shuffle=True, num_workers=CONFIG[\"num_workers\"])\n",
    "    valloader = torch.utils.data.DataLoader(valset, batch_size=CONFIG[\"batch_size\"], shuffle=False, num_workers=CONFIG[\"num_workers\"])\n",
    "    testset = torchvision.datasets.CIFAR100(root=CONFIG[\"data_dir\"], train=False, download=True, transform=transform_test)\n",
    "    testloader = torch.utils.data.DataLoader(testset, batch_size=CONFIG[\"batch_size\"], shuffle=False, num_workers=CONFIG[\"num_workers\"])\n",
    "\n",
    "    # -----------------------------\n",
    "    # Define Model & Load Checkpoint\n",
    "    # -----------------------------\n",
    "    model = models.densenet121(weights=models.DenseNet121_Weights.IMAGENET1K_V1)\n",
    "    model.classifier = nn.Sequential(\n",
    "        nn.Dropout(0.5),\n",
    "        nn.Linear(model.classifier.in_features, 100)\n",
    "    )\n",
    "    model = model.to(CONFIG[\"device\"])\n",
    "\n",
    "    checkpoint_path = \"best_model_part3_densenet121_ep40.pth\"\n",
    "    model.load_state_dict(torch.load(checkpoint_path, map_location=CONFIG[\"device\"]))\n",
    "    print(f\"Loaded model weights from: {checkpoint_path}\")\n",
    "\n",
    "    # -----------------------------\n",
    "    # Re-Init Optimizer & Scheduler for Fine-tune Phase 5\n",
    "    # -----------------------------\n",
    "    criterion = nn.CrossEntropyLoss(label_smoothing=0.1)\n",
    "    optimizer = optim.AdamW(model.parameters(), lr=CONFIG[\"learning_rate\"], weight_decay=1e-4)\n",
    "    scheduler = optim.lr_scheduler.CosineAnnealingLR(optimizer, T_max=CONFIG[\"epochs\"])\n",
    "\n",
    "    # -----------------------------\n",
    "    # W&B New Fine-Tuning Run\n",
    "    # -----------------------------\n",
    "    wandb.init(project=CONFIG[\"wandb_project\"], config=CONFIG, name=\"DenseNet121 Ep50\")\n",
    "    wandb.watch(model)\n",
    "\n",
    "    best_val_acc = 0.0\n",
    "    for epoch in range(CONFIG[\"epochs\"]):\n",
    "        train_loss, train_acc = train(epoch, model, trainloader, optimizer, criterion, CONFIG)\n",
    "        val_loss, val_acc = validate(model, valloader, criterion, CONFIG)\n",
    "        scheduler.step()\n",
    "\n",
    "        wandb.log({\n",
    "            \"epoch\": epoch + 41,\n",
    "            \"train_loss\": train_loss,\n",
    "            \"train_acc\": train_acc,\n",
    "            \"val_loss\": val_loss,\n",
    "            \"val_acc\": val_acc,\n",
    "            \"lr\": optimizer.param_groups[0][\"lr\"]\n",
    "        })\n",
    "\n",
    "        if val_acc > best_val_acc:\n",
    "            best_val_acc = val_acc\n",
    "            torch.save(model.state_dict(), \"best_model_part3_densenet121_ep50.pth\")\n",
    "            wandb.save(\"best_model_part3_densenet121_ep50.pth\")\n",
    "\n",
    "    wandb.finish()\n",
    "\n",
    "    # -----------------------------\n",
    "    # Evaluation & Submission\n",
    "    # -----------------------------\n",
    "    import eval_cifar100\n",
    "    import eval_ood\n",
    "\n",
    "    shutil.copy(\"best_model_part3_densenet121_ep50.pth\", \"best_model.pth\")\n",
    "\n",
    "    predictions, clean_accuracy = eval_cifar100.evaluate_cifar100_test(model, testloader, CONFIG[\"device\"])\n",
    "    print(f\"Clean CIFAR-100 Test Accuracy: {clean_accuracy:.2f}%\")\n",
    "\n",
    "    all_predictions = eval_ood.evaluate_ood_test(model, CONFIG)\n",
    "    submission_df_ood = eval_ood.create_ood_df(all_predictions)\n",
    "    submission_df_ood.to_csv(\"submission_ood_part3densenet_ep50.csv\", index=False)\n",
    "    print(\"submission_ood_part3densenet_ep50.csv created successfully.\")\n",
    "\n",
    "if __name__ == '__main__':\n",
    "    main()\n"
   ]
  },
  {
   "cell_type": "markdown",
   "id": "e781be67-0d6e-4a5d-aaa6-c2d2592209f1",
   "metadata": {},
   "source": [
    "### Transfer Learning – ConvNeXt_Tiny (Pretrained)"
   ]
  },
  {
   "cell_type": "markdown",
   "id": "57ababff-703d-4495-ab18-3639ef14b7cc",
   "metadata": {},
   "source": [
    "#### 30 Epochs"
   ]
  },
  {
   "cell_type": "code",
   "execution_count": 6,
   "id": "c08f9c1f-adcf-47ba-ac58-b39e0ed43383",
   "metadata": {},
   "outputs": [
    {
     "data": {
      "text/html": [
       "Tracking run with wandb version 0.19.8"
      ],
      "text/plain": [
       "<IPython.core.display.HTML object>"
      ]
     },
     "metadata": {},
     "output_type": "display_data"
    },
    {
     "data": {
      "text/html": [
       "Run data is saved locally in <code>/usr4/dl4ds/samritha/wandb/run-20250329_213955-gorhg0k3</code>"
      ],
      "text/plain": [
       "<IPython.core.display.HTML object>"
      ]
     },
     "metadata": {},
     "output_type": "display_data"
    },
    {
     "data": {
      "text/html": [
       "Syncing run <strong><a href='https://wandb.ai/samritha-boston-university/sp25-ds542-challenge/runs/gorhg0k3' target=\"_blank\">ConvNeXtTiny Ep30</a></strong> to <a href='https://wandb.ai/samritha-boston-university/sp25-ds542-challenge' target=\"_blank\">Weights & Biases</a> (<a href='https://wandb.me/developer-guide' target=\"_blank\">docs</a>)<br>"
      ],
      "text/plain": [
       "<IPython.core.display.HTML object>"
      ]
     },
     "metadata": {},
     "output_type": "display_data"
    },
    {
     "data": {
      "text/html": [
       " View project at <a href='https://wandb.ai/samritha-boston-university/sp25-ds542-challenge' target=\"_blank\">https://wandb.ai/samritha-boston-university/sp25-ds542-challenge</a>"
      ],
      "text/plain": [
       "<IPython.core.display.HTML object>"
      ]
     },
     "metadata": {},
     "output_type": "display_data"
    },
    {
     "data": {
      "text/html": [
       " View run at <a href='https://wandb.ai/samritha-boston-university/sp25-ds542-challenge/runs/gorhg0k3' target=\"_blank\">https://wandb.ai/samritha-boston-university/sp25-ds542-challenge/runs/gorhg0k3</a>"
      ],
      "text/plain": [
       "<IPython.core.display.HTML object>"
      ]
     },
     "metadata": {},
     "output_type": "display_data"
    },
    {
     "data": {
      "application/vnd.jupyter.widget-view+json": {
       "model_id": "c5d6d26b21fa42bbbad2d9a38947b886",
       "version_major": 2,
       "version_minor": 0
      },
      "text/plain": [
       "Epoch 1/30 [Train]:   0%|          | 0/625 [00:00<?, ?it/s]"
      ]
     },
     "metadata": {},
     "output_type": "display_data"
    },
    {
     "data": {
      "application/vnd.jupyter.widget-view+json": {
       "model_id": "31050032105a491fb589039e47f131f9",
       "version_major": 2,
       "version_minor": 0
      },
      "text/plain": [
       "[Validate]:   0%|          | 0/157 [00:00<?, ?it/s]"
      ]
     },
     "metadata": {},
     "output_type": "display_data"
    },
    {
     "data": {
      "application/vnd.jupyter.widget-view+json": {
       "model_id": "8e52b08e93ed4e65a7efecec66820c29",
       "version_major": 2,
       "version_minor": 0
      },
      "text/plain": [
       "Epoch 2/30 [Train]:   0%|          | 0/625 [00:00<?, ?it/s]"
      ]
     },
     "metadata": {},
     "output_type": "display_data"
    },
    {
     "data": {
      "application/vnd.jupyter.widget-view+json": {
       "model_id": "4a778ddec7ea4022a1a8e9e030f783f5",
       "version_major": 2,
       "version_minor": 0
      },
      "text/plain": [
       "[Validate]:   0%|          | 0/157 [00:00<?, ?it/s]"
      ]
     },
     "metadata": {},
     "output_type": "display_data"
    },
    {
     "data": {
      "application/vnd.jupyter.widget-view+json": {
       "model_id": "d421cce6752f49edb8f1babca73cec67",
       "version_major": 2,
       "version_minor": 0
      },
      "text/plain": [
       "Epoch 3/30 [Train]:   0%|          | 0/625 [00:00<?, ?it/s]"
      ]
     },
     "metadata": {},
     "output_type": "display_data"
    },
    {
     "data": {
      "application/vnd.jupyter.widget-view+json": {
       "model_id": "6b9c4eb0b7a3419a9ee097905b180721",
       "version_major": 2,
       "version_minor": 0
      },
      "text/plain": [
       "[Validate]:   0%|          | 0/157 [00:00<?, ?it/s]"
      ]
     },
     "metadata": {},
     "output_type": "display_data"
    },
    {
     "data": {
      "application/vnd.jupyter.widget-view+json": {
       "model_id": "58f20f16484844a19135f899b509c120",
       "version_major": 2,
       "version_minor": 0
      },
      "text/plain": [
       "Epoch 4/30 [Train]:   0%|          | 0/625 [00:00<?, ?it/s]"
      ]
     },
     "metadata": {},
     "output_type": "display_data"
    },
    {
     "data": {
      "application/vnd.jupyter.widget-view+json": {
       "model_id": "01d409e9960a479d83fe54b92929ee09",
       "version_major": 2,
       "version_minor": 0
      },
      "text/plain": [
       "[Validate]:   0%|          | 0/157 [00:00<?, ?it/s]"
      ]
     },
     "metadata": {},
     "output_type": "display_data"
    },
    {
     "data": {
      "application/vnd.jupyter.widget-view+json": {
       "model_id": "07e4560f0bbf4abaac623dda42a845bc",
       "version_major": 2,
       "version_minor": 0
      },
      "text/plain": [
       "Epoch 5/30 [Train]:   0%|          | 0/625 [00:00<?, ?it/s]"
      ]
     },
     "metadata": {},
     "output_type": "display_data"
    },
    {
     "data": {
      "application/vnd.jupyter.widget-view+json": {
       "model_id": "0968010144d84cbc844c3994d9e66c6b",
       "version_major": 2,
       "version_minor": 0
      },
      "text/plain": [
       "[Validate]:   0%|          | 0/157 [00:00<?, ?it/s]"
      ]
     },
     "metadata": {},
     "output_type": "display_data"
    },
    {
     "data": {
      "application/vnd.jupyter.widget-view+json": {
       "model_id": "a198ee0e84574216ae7951f2124f39d9",
       "version_major": 2,
       "version_minor": 0
      },
      "text/plain": [
       "Epoch 6/30 [Train]:   0%|          | 0/625 [00:00<?, ?it/s]"
      ]
     },
     "metadata": {},
     "output_type": "display_data"
    },
    {
     "data": {
      "application/vnd.jupyter.widget-view+json": {
       "model_id": "1c03997c9fa14ceca07ddd75fdad2d13",
       "version_major": 2,
       "version_minor": 0
      },
      "text/plain": [
       "[Validate]:   0%|          | 0/157 [00:00<?, ?it/s]"
      ]
     },
     "metadata": {},
     "output_type": "display_data"
    },
    {
     "data": {
      "application/vnd.jupyter.widget-view+json": {
       "model_id": "b04800833b9f4f909010af2a7153ea96",
       "version_major": 2,
       "version_minor": 0
      },
      "text/plain": [
       "Epoch 7/30 [Train]:   0%|          | 0/625 [00:00<?, ?it/s]"
      ]
     },
     "metadata": {},
     "output_type": "display_data"
    },
    {
     "data": {
      "application/vnd.jupyter.widget-view+json": {
       "model_id": "a3718211e6714968af00c6cf4db1e566",
       "version_major": 2,
       "version_minor": 0
      },
      "text/plain": [
       "[Validate]:   0%|          | 0/157 [00:00<?, ?it/s]"
      ]
     },
     "metadata": {},
     "output_type": "display_data"
    },
    {
     "data": {
      "application/vnd.jupyter.widget-view+json": {
       "model_id": "a03da2a6f6b84585861583767b868a06",
       "version_major": 2,
       "version_minor": 0
      },
      "text/plain": [
       "Epoch 8/30 [Train]:   0%|          | 0/625 [00:00<?, ?it/s]"
      ]
     },
     "metadata": {},
     "output_type": "display_data"
    },
    {
     "data": {
      "application/vnd.jupyter.widget-view+json": {
       "model_id": "719bd5aa760d47a494f3f390dcc7400e",
       "version_major": 2,
       "version_minor": 0
      },
      "text/plain": [
       "[Validate]:   0%|          | 0/157 [00:00<?, ?it/s]"
      ]
     },
     "metadata": {},
     "output_type": "display_data"
    },
    {
     "data": {
      "application/vnd.jupyter.widget-view+json": {
       "model_id": "1174fb78549846c4846e84cc66644f97",
       "version_major": 2,
       "version_minor": 0
      },
      "text/plain": [
       "Epoch 9/30 [Train]:   0%|          | 0/625 [00:00<?, ?it/s]"
      ]
     },
     "metadata": {},
     "output_type": "display_data"
    },
    {
     "data": {
      "application/vnd.jupyter.widget-view+json": {
       "model_id": "5c34ffedbef54554aea86f92aa8a85c2",
       "version_major": 2,
       "version_minor": 0
      },
      "text/plain": [
       "[Validate]:   0%|          | 0/157 [00:00<?, ?it/s]"
      ]
     },
     "metadata": {},
     "output_type": "display_data"
    },
    {
     "data": {
      "application/vnd.jupyter.widget-view+json": {
       "model_id": "cbab1644e31f44be9805e70d6023bedd",
       "version_major": 2,
       "version_minor": 0
      },
      "text/plain": [
       "Epoch 10/30 [Train]:   0%|          | 0/625 [00:00<?, ?it/s]"
      ]
     },
     "metadata": {},
     "output_type": "display_data"
    },
    {
     "data": {
      "application/vnd.jupyter.widget-view+json": {
       "model_id": "287dba45a2a348d2938745246b3b4fcb",
       "version_major": 2,
       "version_minor": 0
      },
      "text/plain": [
       "[Validate]:   0%|          | 0/157 [00:00<?, ?it/s]"
      ]
     },
     "metadata": {},
     "output_type": "display_data"
    },
    {
     "data": {
      "application/vnd.jupyter.widget-view+json": {
       "model_id": "9a950c38a4c24d569fec949791136d71",
       "version_major": 2,
       "version_minor": 0
      },
      "text/plain": [
       "Epoch 11/30 [Train]:   0%|          | 0/625 [00:00<?, ?it/s]"
      ]
     },
     "metadata": {},
     "output_type": "display_data"
    },
    {
     "data": {
      "application/vnd.jupyter.widget-view+json": {
       "model_id": "2a4f9b4c8f1f4a74ac231794d0a88286",
       "version_major": 2,
       "version_minor": 0
      },
      "text/plain": [
       "[Validate]:   0%|          | 0/157 [00:00<?, ?it/s]"
      ]
     },
     "metadata": {},
     "output_type": "display_data"
    },
    {
     "data": {
      "application/vnd.jupyter.widget-view+json": {
       "model_id": "167a8d1c56d54964a398df4b9984f78c",
       "version_major": 2,
       "version_minor": 0
      },
      "text/plain": [
       "Epoch 12/30 [Train]:   0%|          | 0/625 [00:00<?, ?it/s]"
      ]
     },
     "metadata": {},
     "output_type": "display_data"
    },
    {
     "data": {
      "application/vnd.jupyter.widget-view+json": {
       "model_id": "f3c804b9951749b49c17dd34f18b64d5",
       "version_major": 2,
       "version_minor": 0
      },
      "text/plain": [
       "[Validate]:   0%|          | 0/157 [00:00<?, ?it/s]"
      ]
     },
     "metadata": {},
     "output_type": "display_data"
    },
    {
     "data": {
      "application/vnd.jupyter.widget-view+json": {
       "model_id": "f759941d849c41f4ad76adb46b3fefb0",
       "version_major": 2,
       "version_minor": 0
      },
      "text/plain": [
       "Epoch 13/30 [Train]:   0%|          | 0/625 [00:00<?, ?it/s]"
      ]
     },
     "metadata": {},
     "output_type": "display_data"
    },
    {
     "data": {
      "application/vnd.jupyter.widget-view+json": {
       "model_id": "f16672aad3d148c086388fa27aedf7a9",
       "version_major": 2,
       "version_minor": 0
      },
      "text/plain": [
       "[Validate]:   0%|          | 0/157 [00:00<?, ?it/s]"
      ]
     },
     "metadata": {},
     "output_type": "display_data"
    },
    {
     "data": {
      "application/vnd.jupyter.widget-view+json": {
       "model_id": "0b19a374e45347a09967d3020c32a2df",
       "version_major": 2,
       "version_minor": 0
      },
      "text/plain": [
       "Epoch 14/30 [Train]:   0%|          | 0/625 [00:00<?, ?it/s]"
      ]
     },
     "metadata": {},
     "output_type": "display_data"
    },
    {
     "data": {
      "application/vnd.jupyter.widget-view+json": {
       "model_id": "1e249e36852d483398b4d6b5216b2c3f",
       "version_major": 2,
       "version_minor": 0
      },
      "text/plain": [
       "[Validate]:   0%|          | 0/157 [00:00<?, ?it/s]"
      ]
     },
     "metadata": {},
     "output_type": "display_data"
    },
    {
     "data": {
      "application/vnd.jupyter.widget-view+json": {
       "model_id": "89198cb3dced45f6aa837f64c96e4677",
       "version_major": 2,
       "version_minor": 0
      },
      "text/plain": [
       "Epoch 15/30 [Train]:   0%|          | 0/625 [00:00<?, ?it/s]"
      ]
     },
     "metadata": {},
     "output_type": "display_data"
    },
    {
     "data": {
      "application/vnd.jupyter.widget-view+json": {
       "model_id": "afe5a07265a84e1c83ddbbfaa6481179",
       "version_major": 2,
       "version_minor": 0
      },
      "text/plain": [
       "[Validate]:   0%|          | 0/157 [00:00<?, ?it/s]"
      ]
     },
     "metadata": {},
     "output_type": "display_data"
    },
    {
     "data": {
      "application/vnd.jupyter.widget-view+json": {
       "model_id": "56ea0f72c83d412ca87e23c147835e74",
       "version_major": 2,
       "version_minor": 0
      },
      "text/plain": [
       "Epoch 16/30 [Train]:   0%|          | 0/625 [00:00<?, ?it/s]"
      ]
     },
     "metadata": {},
     "output_type": "display_data"
    },
    {
     "data": {
      "application/vnd.jupyter.widget-view+json": {
       "model_id": "a8d9c2f589834eab829755705fb086e4",
       "version_major": 2,
       "version_minor": 0
      },
      "text/plain": [
       "[Validate]:   0%|          | 0/157 [00:00<?, ?it/s]"
      ]
     },
     "metadata": {},
     "output_type": "display_data"
    },
    {
     "data": {
      "application/vnd.jupyter.widget-view+json": {
       "model_id": "4d9e63e7291142b08911b4beae7e90d1",
       "version_major": 2,
       "version_minor": 0
      },
      "text/plain": [
       "Epoch 17/30 [Train]:   0%|          | 0/625 [00:00<?, ?it/s]"
      ]
     },
     "metadata": {},
     "output_type": "display_data"
    },
    {
     "data": {
      "application/vnd.jupyter.widget-view+json": {
       "model_id": "195c357cb3044c3c9e07da8364605b4e",
       "version_major": 2,
       "version_minor": 0
      },
      "text/plain": [
       "[Validate]:   0%|          | 0/157 [00:00<?, ?it/s]"
      ]
     },
     "metadata": {},
     "output_type": "display_data"
    },
    {
     "data": {
      "application/vnd.jupyter.widget-view+json": {
       "model_id": "8b23263ac2bb4eceb443bfed891856a6",
       "version_major": 2,
       "version_minor": 0
      },
      "text/plain": [
       "Epoch 18/30 [Train]:   0%|          | 0/625 [00:00<?, ?it/s]"
      ]
     },
     "metadata": {},
     "output_type": "display_data"
    },
    {
     "data": {
      "application/vnd.jupyter.widget-view+json": {
       "model_id": "8fa57c1279044443a35284ee093f32d7",
       "version_major": 2,
       "version_minor": 0
      },
      "text/plain": [
       "[Validate]:   0%|          | 0/157 [00:00<?, ?it/s]"
      ]
     },
     "metadata": {},
     "output_type": "display_data"
    },
    {
     "data": {
      "application/vnd.jupyter.widget-view+json": {
       "model_id": "fd248a4b6deb48878f6341db02867cd8",
       "version_major": 2,
       "version_minor": 0
      },
      "text/plain": [
       "Epoch 19/30 [Train]:   0%|          | 0/625 [00:00<?, ?it/s]"
      ]
     },
     "metadata": {},
     "output_type": "display_data"
    },
    {
     "data": {
      "application/vnd.jupyter.widget-view+json": {
       "model_id": "aee878562b114e95a78f2b95f2186be8",
       "version_major": 2,
       "version_minor": 0
      },
      "text/plain": [
       "[Validate]:   0%|          | 0/157 [00:00<?, ?it/s]"
      ]
     },
     "metadata": {},
     "output_type": "display_data"
    },
    {
     "data": {
      "application/vnd.jupyter.widget-view+json": {
       "model_id": "4906998451374f7bad9f8352a759fc70",
       "version_major": 2,
       "version_minor": 0
      },
      "text/plain": [
       "Epoch 20/30 [Train]:   0%|          | 0/625 [00:00<?, ?it/s]"
      ]
     },
     "metadata": {},
     "output_type": "display_data"
    },
    {
     "data": {
      "application/vnd.jupyter.widget-view+json": {
       "model_id": "04385271bf1a4144a870b0ec03f4c5cb",
       "version_major": 2,
       "version_minor": 0
      },
      "text/plain": [
       "[Validate]:   0%|          | 0/157 [00:00<?, ?it/s]"
      ]
     },
     "metadata": {},
     "output_type": "display_data"
    },
    {
     "data": {
      "application/vnd.jupyter.widget-view+json": {
       "model_id": "23c74ebc4dfd47fabe1cc196bd8d901a",
       "version_major": 2,
       "version_minor": 0
      },
      "text/plain": [
       "Epoch 21/30 [Train]:   0%|          | 0/625 [00:00<?, ?it/s]"
      ]
     },
     "metadata": {},
     "output_type": "display_data"
    },
    {
     "data": {
      "application/vnd.jupyter.widget-view+json": {
       "model_id": "bc234aa15afd4d018f9e40bfe7ff85be",
       "version_major": 2,
       "version_minor": 0
      },
      "text/plain": [
       "[Validate]:   0%|          | 0/157 [00:00<?, ?it/s]"
      ]
     },
     "metadata": {},
     "output_type": "display_data"
    },
    {
     "data": {
      "application/vnd.jupyter.widget-view+json": {
       "model_id": "3720f5bd30014ef299625883e7515ac9",
       "version_major": 2,
       "version_minor": 0
      },
      "text/plain": [
       "Epoch 22/30 [Train]:   0%|          | 0/625 [00:00<?, ?it/s]"
      ]
     },
     "metadata": {},
     "output_type": "display_data"
    },
    {
     "data": {
      "application/vnd.jupyter.widget-view+json": {
       "model_id": "ffe3ebfebd3e4ec283fa67eba02c9a31",
       "version_major": 2,
       "version_minor": 0
      },
      "text/plain": [
       "[Validate]:   0%|          | 0/157 [00:00<?, ?it/s]"
      ]
     },
     "metadata": {},
     "output_type": "display_data"
    },
    {
     "data": {
      "application/vnd.jupyter.widget-view+json": {
       "model_id": "5b61296157394f62b97fa1bdf894ae1d",
       "version_major": 2,
       "version_minor": 0
      },
      "text/plain": [
       "Epoch 23/30 [Train]:   0%|          | 0/625 [00:00<?, ?it/s]"
      ]
     },
     "metadata": {},
     "output_type": "display_data"
    },
    {
     "data": {
      "application/vnd.jupyter.widget-view+json": {
       "model_id": "ae3105bd822b42ec87f96f1c07b7d4cb",
       "version_major": 2,
       "version_minor": 0
      },
      "text/plain": [
       "[Validate]:   0%|          | 0/157 [00:00<?, ?it/s]"
      ]
     },
     "metadata": {},
     "output_type": "display_data"
    },
    {
     "data": {
      "application/vnd.jupyter.widget-view+json": {
       "model_id": "ba97dbb0f9f7452fb673b8c3d99707a3",
       "version_major": 2,
       "version_minor": 0
      },
      "text/plain": [
       "Epoch 24/30 [Train]:   0%|          | 0/625 [00:00<?, ?it/s]"
      ]
     },
     "metadata": {},
     "output_type": "display_data"
    },
    {
     "data": {
      "application/vnd.jupyter.widget-view+json": {
       "model_id": "bc6c75e244b64dc2975814147d24c35f",
       "version_major": 2,
       "version_minor": 0
      },
      "text/plain": [
       "[Validate]:   0%|          | 0/157 [00:00<?, ?it/s]"
      ]
     },
     "metadata": {},
     "output_type": "display_data"
    },
    {
     "data": {
      "application/vnd.jupyter.widget-view+json": {
       "model_id": "de63038ae1c64f128e12dad139eae39e",
       "version_major": 2,
       "version_minor": 0
      },
      "text/plain": [
       "Epoch 25/30 [Train]:   0%|          | 0/625 [00:00<?, ?it/s]"
      ]
     },
     "metadata": {},
     "output_type": "display_data"
    },
    {
     "data": {
      "application/vnd.jupyter.widget-view+json": {
       "model_id": "56c07aea4e434ea8aadf5639af641f49",
       "version_major": 2,
       "version_minor": 0
      },
      "text/plain": [
       "[Validate]:   0%|          | 0/157 [00:00<?, ?it/s]"
      ]
     },
     "metadata": {},
     "output_type": "display_data"
    },
    {
     "data": {
      "application/vnd.jupyter.widget-view+json": {
       "model_id": "48fa5d0776f143c29516467e33dcc661",
       "version_major": 2,
       "version_minor": 0
      },
      "text/plain": [
       "Epoch 26/30 [Train]:   0%|          | 0/625 [00:00<?, ?it/s]"
      ]
     },
     "metadata": {},
     "output_type": "display_data"
    },
    {
     "data": {
      "application/vnd.jupyter.widget-view+json": {
       "model_id": "edf827e07dd74ad98aa0b6bd9e9a2eb7",
       "version_major": 2,
       "version_minor": 0
      },
      "text/plain": [
       "[Validate]:   0%|          | 0/157 [00:00<?, ?it/s]"
      ]
     },
     "metadata": {},
     "output_type": "display_data"
    },
    {
     "data": {
      "application/vnd.jupyter.widget-view+json": {
       "model_id": "bb777497fa044cbe9c27bbc0a912f8a2",
       "version_major": 2,
       "version_minor": 0
      },
      "text/plain": [
       "Epoch 27/30 [Train]:   0%|          | 0/625 [00:00<?, ?it/s]"
      ]
     },
     "metadata": {},
     "output_type": "display_data"
    },
    {
     "data": {
      "application/vnd.jupyter.widget-view+json": {
       "model_id": "7c5f624ae53145d3a872f4f1fb845df0",
       "version_major": 2,
       "version_minor": 0
      },
      "text/plain": [
       "[Validate]:   0%|          | 0/157 [00:00<?, ?it/s]"
      ]
     },
     "metadata": {},
     "output_type": "display_data"
    },
    {
     "data": {
      "application/vnd.jupyter.widget-view+json": {
       "model_id": "9ea5eb8a5246407ab41b97e63c625409",
       "version_major": 2,
       "version_minor": 0
      },
      "text/plain": [
       "Epoch 28/30 [Train]:   0%|          | 0/625 [00:00<?, ?it/s]"
      ]
     },
     "metadata": {},
     "output_type": "display_data"
    },
    {
     "data": {
      "application/vnd.jupyter.widget-view+json": {
       "model_id": "518b0c5a26f54c7eb18388e64a87451a",
       "version_major": 2,
       "version_minor": 0
      },
      "text/plain": [
       "[Validate]:   0%|          | 0/157 [00:00<?, ?it/s]"
      ]
     },
     "metadata": {},
     "output_type": "display_data"
    },
    {
     "data": {
      "application/vnd.jupyter.widget-view+json": {
       "model_id": "0a25cc0cf3f448f4ad204cf21910ba81",
       "version_major": 2,
       "version_minor": 0
      },
      "text/plain": [
       "Epoch 29/30 [Train]:   0%|          | 0/625 [00:00<?, ?it/s]"
      ]
     },
     "metadata": {},
     "output_type": "display_data"
    },
    {
     "data": {
      "application/vnd.jupyter.widget-view+json": {
       "model_id": "b4471a211d094c7a903fded4575768c6",
       "version_major": 2,
       "version_minor": 0
      },
      "text/plain": [
       "[Validate]:   0%|          | 0/157 [00:00<?, ?it/s]"
      ]
     },
     "metadata": {},
     "output_type": "display_data"
    },
    {
     "data": {
      "application/vnd.jupyter.widget-view+json": {
       "model_id": "e035a7571f7149368a41f16ac50ecdf5",
       "version_major": 2,
       "version_minor": 0
      },
      "text/plain": [
       "Epoch 30/30 [Train]:   0%|          | 0/625 [00:00<?, ?it/s]"
      ]
     },
     "metadata": {},
     "output_type": "display_data"
    },
    {
     "data": {
      "application/vnd.jupyter.widget-view+json": {
       "model_id": "53efd4c71c8b4074810a0ee920d0cfc9",
       "version_major": 2,
       "version_minor": 0
      },
      "text/plain": [
       "[Validate]:   0%|          | 0/157 [00:00<?, ?it/s]"
      ]
     },
     "metadata": {},
     "output_type": "display_data"
    },
    {
     "data": {
      "text/html": [],
      "text/plain": [
       "<IPython.core.display.HTML object>"
      ]
     },
     "metadata": {},
     "output_type": "display_data"
    },
    {
     "data": {
      "text/html": [
       "<br>    <style><br>        .wandb-row {<br>            display: flex;<br>            flex-direction: row;<br>            flex-wrap: wrap;<br>            justify-content: flex-start;<br>            width: 100%;<br>        }<br>        .wandb-col {<br>            display: flex;<br>            flex-direction: column;<br>            flex-basis: 100%;<br>            flex: 1;<br>            padding: 10px;<br>        }<br>    </style><br><div class=\"wandb-row\"><div class=\"wandb-col\"><h3>Run history:</h3><br/><table class=\"wandb\"><tr><td>epoch</td><td>▁▁▁▂▂▂▂▃▃▃▃▄▄▄▄▅▅▅▅▆▆▆▆▇▇▇▇███</td></tr><tr><td>lr</td><td>█████▇▇▇▇▆▆▆▅▅▅▄▄▃▃▃▂▂▂▂▁▁▁▁▁▁</td></tr><tr><td>train_acc</td><td>▁▃▃▃▄▄▄▅▅▅▆▆▆▇▇▇▇▇████████████</td></tr><tr><td>train_loss</td><td>█▆▆▅▅▅▄▄▄▃▃▃▂▂▂▂▂▂▁▁▁▁▁▁▁▁▁▁▁▁</td></tr><tr><td>val_acc</td><td>▁▃▃▄▅▅▅▅▆▆▆▆▆▆▆▆▇▇▇▇▇▇▇███▇███</td></tr><tr><td>val_loss</td><td>█▅▄▃▃▂▂▁▁▁▂▂▂▂▂▃▃▃▄▃▄▄▃▃▃▃▄▃▃▃</td></tr></table><br/></div><div class=\"wandb-col\"><h3>Run summary:</h3><br/><table class=\"wandb\"><tr><td>epoch</td><td>30</td></tr><tr><td>lr</td><td>0</td></tr><tr><td>train_acc</td><td>99.025</td></tr><tr><td>train_loss</td><td>0.8167</td></tr><tr><td>val_acc</td><td>64.86</td></tr><tr><td>val_loss</td><td>2.25149</td></tr></table><br/></div></div>"
      ],
      "text/plain": [
       "<IPython.core.display.HTML object>"
      ]
     },
     "metadata": {},
     "output_type": "display_data"
    },
    {
     "data": {
      "text/html": [
       " View run <strong style=\"color:#cdcd00\">ConvNeXtTiny Ep30</strong> at: <a href='https://wandb.ai/samritha-boston-university/sp25-ds542-challenge/runs/gorhg0k3' target=\"_blank\">https://wandb.ai/samritha-boston-university/sp25-ds542-challenge/runs/gorhg0k3</a><br> View project at: <a href='https://wandb.ai/samritha-boston-university/sp25-ds542-challenge' target=\"_blank\">https://wandb.ai/samritha-boston-university/sp25-ds542-challenge</a><br>Synced 5 W&B file(s), 0 media file(s), 0 artifact file(s) and 1 other file(s)"
      ],
      "text/plain": [
       "<IPython.core.display.HTML object>"
      ]
     },
     "metadata": {},
     "output_type": "display_data"
    },
    {
     "data": {
      "text/html": [
       "Find logs at: <code>./wandb/run-20250329_213955-gorhg0k3/logs</code>"
      ],
      "text/plain": [
       "<IPython.core.display.HTML object>"
      ]
     },
     "metadata": {},
     "output_type": "display_data"
    },
    {
     "data": {
      "application/vnd.jupyter.widget-view+json": {
       "model_id": "97584b81b1c04595a1b617079903438d",
       "version_major": 2,
       "version_minor": 0
      },
      "text/plain": [
       "Evaluating on Clean Test Set:   0%|          | 0/157 [00:00<?, ?it/s]"
      ]
     },
     "metadata": {},
     "output_type": "display_data"
    },
    {
     "name": "stdout",
     "output_type": "stream",
     "text": [
      "Clean CIFAR-100 Test Accuracy (MC Dropout + T=1.5): 67.43%\n",
      "All files are already downloaded.\n"
     ]
    },
    {
     "data": {
      "application/vnd.jupyter.widget-view+json": {
       "model_id": "0c937128f072436ba99813a7f9aaf9f2",
       "version_major": 2,
       "version_minor": 0
      },
      "text/plain": [
       "Evaluating distortion00 (Severity 1):   0%|          | 0/157 [00:00<?, ?it/s]"
      ]
     },
     "metadata": {},
     "output_type": "display_data"
    },
    {
     "name": "stdout",
     "output_type": "stream",
     "text": [
      "distortion00 (Severity 1)\n"
     ]
    },
    {
     "data": {
      "application/vnd.jupyter.widget-view+json": {
       "model_id": "6c97065b41e1464697c73c88d939cd03",
       "version_major": 2,
       "version_minor": 0
      },
      "text/plain": [
       "Evaluating distortion00 (Severity 2):   0%|          | 0/157 [00:00<?, ?it/s]"
      ]
     },
     "metadata": {},
     "output_type": "display_data"
    },
    {
     "name": "stdout",
     "output_type": "stream",
     "text": [
      "distortion00 (Severity 2)\n"
     ]
    },
    {
     "data": {
      "application/vnd.jupyter.widget-view+json": {
       "model_id": "ecc13e3bcbbe49de945f3664dcf1f661",
       "version_major": 2,
       "version_minor": 0
      },
      "text/plain": [
       "Evaluating distortion00 (Severity 3):   0%|          | 0/157 [00:00<?, ?it/s]"
      ]
     },
     "metadata": {},
     "output_type": "display_data"
    },
    {
     "name": "stdout",
     "output_type": "stream",
     "text": [
      "distortion00 (Severity 3)\n"
     ]
    },
    {
     "data": {
      "application/vnd.jupyter.widget-view+json": {
       "model_id": "95233511fc8047e6b83f6c0da49cfbc1",
       "version_major": 2,
       "version_minor": 0
      },
      "text/plain": [
       "Evaluating distortion00 (Severity 4):   0%|          | 0/157 [00:00<?, ?it/s]"
      ]
     },
     "metadata": {},
     "output_type": "display_data"
    },
    {
     "name": "stdout",
     "output_type": "stream",
     "text": [
      "distortion00 (Severity 4)\n"
     ]
    },
    {
     "data": {
      "application/vnd.jupyter.widget-view+json": {
       "model_id": "3126d1c359b14953958fa0639d0f1b9e",
       "version_major": 2,
       "version_minor": 0
      },
      "text/plain": [
       "Evaluating distortion00 (Severity 5):   0%|          | 0/157 [00:00<?, ?it/s]"
      ]
     },
     "metadata": {},
     "output_type": "display_data"
    },
    {
     "name": "stdout",
     "output_type": "stream",
     "text": [
      "distortion00 (Severity 5)\n"
     ]
    },
    {
     "data": {
      "application/vnd.jupyter.widget-view+json": {
       "model_id": "6c3e86e37fa84565b4835127577c78bb",
       "version_major": 2,
       "version_minor": 0
      },
      "text/plain": [
       "Evaluating distortion01 (Severity 1):   0%|          | 0/157 [00:00<?, ?it/s]"
      ]
     },
     "metadata": {},
     "output_type": "display_data"
    },
    {
     "name": "stdout",
     "output_type": "stream",
     "text": [
      "distortion01 (Severity 1)\n"
     ]
    },
    {
     "data": {
      "application/vnd.jupyter.widget-view+json": {
       "model_id": "af4481a1b8cf47c9ae2fc28ff408b85f",
       "version_major": 2,
       "version_minor": 0
      },
      "text/plain": [
       "Evaluating distortion01 (Severity 2):   0%|          | 0/157 [00:00<?, ?it/s]"
      ]
     },
     "metadata": {},
     "output_type": "display_data"
    },
    {
     "name": "stdout",
     "output_type": "stream",
     "text": [
      "distortion01 (Severity 2)\n"
     ]
    },
    {
     "data": {
      "application/vnd.jupyter.widget-view+json": {
       "model_id": "e2525fc49a0244faaae84e90037443f7",
       "version_major": 2,
       "version_minor": 0
      },
      "text/plain": [
       "Evaluating distortion01 (Severity 3):   0%|          | 0/157 [00:00<?, ?it/s]"
      ]
     },
     "metadata": {},
     "output_type": "display_data"
    },
    {
     "name": "stdout",
     "output_type": "stream",
     "text": [
      "distortion01 (Severity 3)\n"
     ]
    },
    {
     "data": {
      "application/vnd.jupyter.widget-view+json": {
       "model_id": "fe8374f6aa094a0b83209bbf21273993",
       "version_major": 2,
       "version_minor": 0
      },
      "text/plain": [
       "Evaluating distortion01 (Severity 4):   0%|          | 0/157 [00:00<?, ?it/s]"
      ]
     },
     "metadata": {},
     "output_type": "display_data"
    },
    {
     "name": "stdout",
     "output_type": "stream",
     "text": [
      "distortion01 (Severity 4)\n"
     ]
    },
    {
     "data": {
      "application/vnd.jupyter.widget-view+json": {
       "model_id": "25d39296067e4043a9166fdad3cbd90b",
       "version_major": 2,
       "version_minor": 0
      },
      "text/plain": [
       "Evaluating distortion01 (Severity 5):   0%|          | 0/157 [00:00<?, ?it/s]"
      ]
     },
     "metadata": {},
     "output_type": "display_data"
    },
    {
     "name": "stdout",
     "output_type": "stream",
     "text": [
      "distortion01 (Severity 5)\n"
     ]
    },
    {
     "data": {
      "application/vnd.jupyter.widget-view+json": {
       "model_id": "a0abd6c397f045e2a1c4e8d5dcb1df73",
       "version_major": 2,
       "version_minor": 0
      },
      "text/plain": [
       "Evaluating distortion02 (Severity 1):   0%|          | 0/157 [00:00<?, ?it/s]"
      ]
     },
     "metadata": {},
     "output_type": "display_data"
    },
    {
     "name": "stdout",
     "output_type": "stream",
     "text": [
      "distortion02 (Severity 1)\n"
     ]
    },
    {
     "data": {
      "application/vnd.jupyter.widget-view+json": {
       "model_id": "b093df592a904cd79ee5729ce86ef2de",
       "version_major": 2,
       "version_minor": 0
      },
      "text/plain": [
       "Evaluating distortion02 (Severity 2):   0%|          | 0/157 [00:00<?, ?it/s]"
      ]
     },
     "metadata": {},
     "output_type": "display_data"
    },
    {
     "name": "stdout",
     "output_type": "stream",
     "text": [
      "distortion02 (Severity 2)\n"
     ]
    },
    {
     "data": {
      "application/vnd.jupyter.widget-view+json": {
       "model_id": "f75acd7c308440c0b11c3bf7d542f6ea",
       "version_major": 2,
       "version_minor": 0
      },
      "text/plain": [
       "Evaluating distortion02 (Severity 3):   0%|          | 0/157 [00:00<?, ?it/s]"
      ]
     },
     "metadata": {},
     "output_type": "display_data"
    },
    {
     "name": "stdout",
     "output_type": "stream",
     "text": [
      "distortion02 (Severity 3)\n"
     ]
    },
    {
     "data": {
      "application/vnd.jupyter.widget-view+json": {
       "model_id": "6c64210bd56d4c2aa92e3aeb773ebe2b",
       "version_major": 2,
       "version_minor": 0
      },
      "text/plain": [
       "Evaluating distortion02 (Severity 4):   0%|          | 0/157 [00:00<?, ?it/s]"
      ]
     },
     "metadata": {},
     "output_type": "display_data"
    },
    {
     "name": "stdout",
     "output_type": "stream",
     "text": [
      "distortion02 (Severity 4)\n"
     ]
    },
    {
     "data": {
      "application/vnd.jupyter.widget-view+json": {
       "model_id": "e71b7810196f41e49a7130ce44eda0d6",
       "version_major": 2,
       "version_minor": 0
      },
      "text/plain": [
       "Evaluating distortion02 (Severity 5):   0%|          | 0/157 [00:00<?, ?it/s]"
      ]
     },
     "metadata": {},
     "output_type": "display_data"
    },
    {
     "name": "stdout",
     "output_type": "stream",
     "text": [
      "distortion02 (Severity 5)\n"
     ]
    },
    {
     "data": {
      "application/vnd.jupyter.widget-view+json": {
       "model_id": "01c7bbe39a744383adf0cc2b0de56b1e",
       "version_major": 2,
       "version_minor": 0
      },
      "text/plain": [
       "Evaluating distortion03 (Severity 1):   0%|          | 0/157 [00:00<?, ?it/s]"
      ]
     },
     "metadata": {},
     "output_type": "display_data"
    },
    {
     "name": "stdout",
     "output_type": "stream",
     "text": [
      "distortion03 (Severity 1)\n"
     ]
    },
    {
     "data": {
      "application/vnd.jupyter.widget-view+json": {
       "model_id": "8c1aa992e84f4d908efde0a6efb091d8",
       "version_major": 2,
       "version_minor": 0
      },
      "text/plain": [
       "Evaluating distortion03 (Severity 2):   0%|          | 0/157 [00:00<?, ?it/s]"
      ]
     },
     "metadata": {},
     "output_type": "display_data"
    },
    {
     "name": "stdout",
     "output_type": "stream",
     "text": [
      "distortion03 (Severity 2)\n"
     ]
    },
    {
     "data": {
      "application/vnd.jupyter.widget-view+json": {
       "model_id": "d772e57a3c064bf3a1dc81cbbacb2c7d",
       "version_major": 2,
       "version_minor": 0
      },
      "text/plain": [
       "Evaluating distortion03 (Severity 3):   0%|          | 0/157 [00:00<?, ?it/s]"
      ]
     },
     "metadata": {},
     "output_type": "display_data"
    },
    {
     "name": "stdout",
     "output_type": "stream",
     "text": [
      "distortion03 (Severity 3)\n"
     ]
    },
    {
     "data": {
      "application/vnd.jupyter.widget-view+json": {
       "model_id": "f348ad5a3328420f964906e22cedacec",
       "version_major": 2,
       "version_minor": 0
      },
      "text/plain": [
       "Evaluating distortion03 (Severity 4):   0%|          | 0/157 [00:00<?, ?it/s]"
      ]
     },
     "metadata": {},
     "output_type": "display_data"
    },
    {
     "name": "stdout",
     "output_type": "stream",
     "text": [
      "distortion03 (Severity 4)\n"
     ]
    },
    {
     "data": {
      "application/vnd.jupyter.widget-view+json": {
       "model_id": "778f8d1e3d104cae99d9105eac32b997",
       "version_major": 2,
       "version_minor": 0
      },
      "text/plain": [
       "Evaluating distortion03 (Severity 5):   0%|          | 0/157 [00:00<?, ?it/s]"
      ]
     },
     "metadata": {},
     "output_type": "display_data"
    },
    {
     "name": "stdout",
     "output_type": "stream",
     "text": [
      "distortion03 (Severity 5)\n"
     ]
    },
    {
     "data": {
      "application/vnd.jupyter.widget-view+json": {
       "model_id": "e3a9d57c762943968e76ae5f006fef86",
       "version_major": 2,
       "version_minor": 0
      },
      "text/plain": [
       "Evaluating distortion04 (Severity 1):   0%|          | 0/157 [00:00<?, ?it/s]"
      ]
     },
     "metadata": {},
     "output_type": "display_data"
    },
    {
     "name": "stdout",
     "output_type": "stream",
     "text": [
      "distortion04 (Severity 1)\n"
     ]
    },
    {
     "data": {
      "application/vnd.jupyter.widget-view+json": {
       "model_id": "3a1076cb72984794b7a85a586dbb8856",
       "version_major": 2,
       "version_minor": 0
      },
      "text/plain": [
       "Evaluating distortion04 (Severity 2):   0%|          | 0/157 [00:00<?, ?it/s]"
      ]
     },
     "metadata": {},
     "output_type": "display_data"
    },
    {
     "name": "stdout",
     "output_type": "stream",
     "text": [
      "distortion04 (Severity 2)\n"
     ]
    },
    {
     "data": {
      "application/vnd.jupyter.widget-view+json": {
       "model_id": "d8a5cb209c3748398c8ed6511108a7a6",
       "version_major": 2,
       "version_minor": 0
      },
      "text/plain": [
       "Evaluating distortion04 (Severity 3):   0%|          | 0/157 [00:00<?, ?it/s]"
      ]
     },
     "metadata": {},
     "output_type": "display_data"
    },
    {
     "name": "stdout",
     "output_type": "stream",
     "text": [
      "distortion04 (Severity 3)\n"
     ]
    },
    {
     "data": {
      "application/vnd.jupyter.widget-view+json": {
       "model_id": "2c41e2eb95204c93a9da03e08dec03c0",
       "version_major": 2,
       "version_minor": 0
      },
      "text/plain": [
       "Evaluating distortion04 (Severity 4):   0%|          | 0/157 [00:00<?, ?it/s]"
      ]
     },
     "metadata": {},
     "output_type": "display_data"
    },
    {
     "name": "stdout",
     "output_type": "stream",
     "text": [
      "distortion04 (Severity 4)\n"
     ]
    },
    {
     "data": {
      "application/vnd.jupyter.widget-view+json": {
       "model_id": "320198fdbd994b9bacc9a12032203ad3",
       "version_major": 2,
       "version_minor": 0
      },
      "text/plain": [
       "Evaluating distortion04 (Severity 5):   0%|          | 0/157 [00:00<?, ?it/s]"
      ]
     },
     "metadata": {},
     "output_type": "display_data"
    },
    {
     "name": "stdout",
     "output_type": "stream",
     "text": [
      "distortion04 (Severity 5)\n"
     ]
    },
    {
     "data": {
      "application/vnd.jupyter.widget-view+json": {
       "model_id": "cce4282fb6ab40c694c9a37c963247a7",
       "version_major": 2,
       "version_minor": 0
      },
      "text/plain": [
       "Evaluating distortion05 (Severity 1):   0%|          | 0/157 [00:00<?, ?it/s]"
      ]
     },
     "metadata": {},
     "output_type": "display_data"
    },
    {
     "name": "stdout",
     "output_type": "stream",
     "text": [
      "distortion05 (Severity 1)\n"
     ]
    },
    {
     "data": {
      "application/vnd.jupyter.widget-view+json": {
       "model_id": "f2d6326ad7cf4daeb76f466c565ea12b",
       "version_major": 2,
       "version_minor": 0
      },
      "text/plain": [
       "Evaluating distortion05 (Severity 2):   0%|          | 0/157 [00:00<?, ?it/s]"
      ]
     },
     "metadata": {},
     "output_type": "display_data"
    },
    {
     "name": "stdout",
     "output_type": "stream",
     "text": [
      "distortion05 (Severity 2)\n"
     ]
    },
    {
     "data": {
      "application/vnd.jupyter.widget-view+json": {
       "model_id": "1cf6b9c3deac40d886bec5188ef2825d",
       "version_major": 2,
       "version_minor": 0
      },
      "text/plain": [
       "Evaluating distortion05 (Severity 3):   0%|          | 0/157 [00:00<?, ?it/s]"
      ]
     },
     "metadata": {},
     "output_type": "display_data"
    },
    {
     "name": "stdout",
     "output_type": "stream",
     "text": [
      "distortion05 (Severity 3)\n"
     ]
    },
    {
     "data": {
      "application/vnd.jupyter.widget-view+json": {
       "model_id": "2cfe7680c5d84be0bf44e608a44ee642",
       "version_major": 2,
       "version_minor": 0
      },
      "text/plain": [
       "Evaluating distortion05 (Severity 4):   0%|          | 0/157 [00:00<?, ?it/s]"
      ]
     },
     "metadata": {},
     "output_type": "display_data"
    },
    {
     "name": "stdout",
     "output_type": "stream",
     "text": [
      "distortion05 (Severity 4)\n"
     ]
    },
    {
     "data": {
      "application/vnd.jupyter.widget-view+json": {
       "model_id": "e948d0c660cd4e20a19b466136ec2196",
       "version_major": 2,
       "version_minor": 0
      },
      "text/plain": [
       "Evaluating distortion05 (Severity 5):   0%|          | 0/157 [00:00<?, ?it/s]"
      ]
     },
     "metadata": {},
     "output_type": "display_data"
    },
    {
     "name": "stdout",
     "output_type": "stream",
     "text": [
      "distortion05 (Severity 5)\n"
     ]
    },
    {
     "data": {
      "application/vnd.jupyter.widget-view+json": {
       "model_id": "73585373c18442f89cebfc916b558930",
       "version_major": 2,
       "version_minor": 0
      },
      "text/plain": [
       "Evaluating distortion06 (Severity 1):   0%|          | 0/157 [00:00<?, ?it/s]"
      ]
     },
     "metadata": {},
     "output_type": "display_data"
    },
    {
     "name": "stdout",
     "output_type": "stream",
     "text": [
      "distortion06 (Severity 1)\n"
     ]
    },
    {
     "data": {
      "application/vnd.jupyter.widget-view+json": {
       "model_id": "e7a960b404654850860ed3c683786b4f",
       "version_major": 2,
       "version_minor": 0
      },
      "text/plain": [
       "Evaluating distortion06 (Severity 2):   0%|          | 0/157 [00:00<?, ?it/s]"
      ]
     },
     "metadata": {},
     "output_type": "display_data"
    },
    {
     "name": "stdout",
     "output_type": "stream",
     "text": [
      "distortion06 (Severity 2)\n"
     ]
    },
    {
     "data": {
      "application/vnd.jupyter.widget-view+json": {
       "model_id": "c9815ee04caa4cfc97ca8ab2aa234963",
       "version_major": 2,
       "version_minor": 0
      },
      "text/plain": [
       "Evaluating distortion06 (Severity 3):   0%|          | 0/157 [00:00<?, ?it/s]"
      ]
     },
     "metadata": {},
     "output_type": "display_data"
    },
    {
     "name": "stdout",
     "output_type": "stream",
     "text": [
      "distortion06 (Severity 3)\n"
     ]
    },
    {
     "data": {
      "application/vnd.jupyter.widget-view+json": {
       "model_id": "e9abf7fc57084b798128eab131195730",
       "version_major": 2,
       "version_minor": 0
      },
      "text/plain": [
       "Evaluating distortion06 (Severity 4):   0%|          | 0/157 [00:00<?, ?it/s]"
      ]
     },
     "metadata": {},
     "output_type": "display_data"
    },
    {
     "name": "stdout",
     "output_type": "stream",
     "text": [
      "distortion06 (Severity 4)\n"
     ]
    },
    {
     "data": {
      "application/vnd.jupyter.widget-view+json": {
       "model_id": "10bb2d4295bc4577955cf5d13830d89f",
       "version_major": 2,
       "version_minor": 0
      },
      "text/plain": [
       "Evaluating distortion06 (Severity 5):   0%|          | 0/157 [00:00<?, ?it/s]"
      ]
     },
     "metadata": {},
     "output_type": "display_data"
    },
    {
     "name": "stdout",
     "output_type": "stream",
     "text": [
      "distortion06 (Severity 5)\n"
     ]
    },
    {
     "data": {
      "application/vnd.jupyter.widget-view+json": {
       "model_id": "40879d328f6d448d9e64b1288aacea2f",
       "version_major": 2,
       "version_minor": 0
      },
      "text/plain": [
       "Evaluating distortion07 (Severity 1):   0%|          | 0/157 [00:00<?, ?it/s]"
      ]
     },
     "metadata": {},
     "output_type": "display_data"
    },
    {
     "name": "stdout",
     "output_type": "stream",
     "text": [
      "distortion07 (Severity 1)\n"
     ]
    },
    {
     "data": {
      "application/vnd.jupyter.widget-view+json": {
       "model_id": "7d1beddf050342448ded76eb6511668d",
       "version_major": 2,
       "version_minor": 0
      },
      "text/plain": [
       "Evaluating distortion07 (Severity 2):   0%|          | 0/157 [00:00<?, ?it/s]"
      ]
     },
     "metadata": {},
     "output_type": "display_data"
    },
    {
     "name": "stdout",
     "output_type": "stream",
     "text": [
      "distortion07 (Severity 2)\n"
     ]
    },
    {
     "data": {
      "application/vnd.jupyter.widget-view+json": {
       "model_id": "8c402cd5eb344b578fdba0675736b5e2",
       "version_major": 2,
       "version_minor": 0
      },
      "text/plain": [
       "Evaluating distortion07 (Severity 3):   0%|          | 0/157 [00:00<?, ?it/s]"
      ]
     },
     "metadata": {},
     "output_type": "display_data"
    },
    {
     "name": "stdout",
     "output_type": "stream",
     "text": [
      "distortion07 (Severity 3)\n"
     ]
    },
    {
     "data": {
      "application/vnd.jupyter.widget-view+json": {
       "model_id": "dd75af599ef14cdd8150164b06e18d23",
       "version_major": 2,
       "version_minor": 0
      },
      "text/plain": [
       "Evaluating distortion07 (Severity 4):   0%|          | 0/157 [00:00<?, ?it/s]"
      ]
     },
     "metadata": {},
     "output_type": "display_data"
    },
    {
     "name": "stdout",
     "output_type": "stream",
     "text": [
      "distortion07 (Severity 4)\n"
     ]
    },
    {
     "data": {
      "application/vnd.jupyter.widget-view+json": {
       "model_id": "ccad4913aae04aa0a4471098565ddc58",
       "version_major": 2,
       "version_minor": 0
      },
      "text/plain": [
       "Evaluating distortion07 (Severity 5):   0%|          | 0/157 [00:00<?, ?it/s]"
      ]
     },
     "metadata": {},
     "output_type": "display_data"
    },
    {
     "name": "stdout",
     "output_type": "stream",
     "text": [
      "distortion07 (Severity 5)\n"
     ]
    },
    {
     "data": {
      "application/vnd.jupyter.widget-view+json": {
       "model_id": "efc573b2e1a94991862625e96ead31ba",
       "version_major": 2,
       "version_minor": 0
      },
      "text/plain": [
       "Evaluating distortion08 (Severity 1):   0%|          | 0/157 [00:00<?, ?it/s]"
      ]
     },
     "metadata": {},
     "output_type": "display_data"
    },
    {
     "name": "stdout",
     "output_type": "stream",
     "text": [
      "distortion08 (Severity 1)\n"
     ]
    },
    {
     "data": {
      "application/vnd.jupyter.widget-view+json": {
       "model_id": "2b80697557cb42ae9c78e605548bf548",
       "version_major": 2,
       "version_minor": 0
      },
      "text/plain": [
       "Evaluating distortion08 (Severity 2):   0%|          | 0/157 [00:00<?, ?it/s]"
      ]
     },
     "metadata": {},
     "output_type": "display_data"
    },
    {
     "name": "stdout",
     "output_type": "stream",
     "text": [
      "distortion08 (Severity 2)\n"
     ]
    },
    {
     "data": {
      "application/vnd.jupyter.widget-view+json": {
       "model_id": "3de47f7ebfd343d8a8d54eee3ecb5854",
       "version_major": 2,
       "version_minor": 0
      },
      "text/plain": [
       "Evaluating distortion08 (Severity 3):   0%|          | 0/157 [00:00<?, ?it/s]"
      ]
     },
     "metadata": {},
     "output_type": "display_data"
    },
    {
     "name": "stdout",
     "output_type": "stream",
     "text": [
      "distortion08 (Severity 3)\n"
     ]
    },
    {
     "data": {
      "application/vnd.jupyter.widget-view+json": {
       "model_id": "779ad32094074efea49e2b3d89ab2704",
       "version_major": 2,
       "version_minor": 0
      },
      "text/plain": [
       "Evaluating distortion08 (Severity 4):   0%|          | 0/157 [00:00<?, ?it/s]"
      ]
     },
     "metadata": {},
     "output_type": "display_data"
    },
    {
     "name": "stdout",
     "output_type": "stream",
     "text": [
      "distortion08 (Severity 4)\n"
     ]
    },
    {
     "data": {
      "application/vnd.jupyter.widget-view+json": {
       "model_id": "f7fce076b5dd46879f5b39dc4277a540",
       "version_major": 2,
       "version_minor": 0
      },
      "text/plain": [
       "Evaluating distortion08 (Severity 5):   0%|          | 0/157 [00:00<?, ?it/s]"
      ]
     },
     "metadata": {},
     "output_type": "display_data"
    },
    {
     "name": "stdout",
     "output_type": "stream",
     "text": [
      "distortion08 (Severity 5)\n"
     ]
    },
    {
     "data": {
      "application/vnd.jupyter.widget-view+json": {
       "model_id": "cb8cb11fc1434f99b9d77a6596b300ee",
       "version_major": 2,
       "version_minor": 0
      },
      "text/plain": [
       "Evaluating distortion09 (Severity 1):   0%|          | 0/157 [00:00<?, ?it/s]"
      ]
     },
     "metadata": {},
     "output_type": "display_data"
    },
    {
     "name": "stdout",
     "output_type": "stream",
     "text": [
      "distortion09 (Severity 1)\n"
     ]
    },
    {
     "data": {
      "application/vnd.jupyter.widget-view+json": {
       "model_id": "c29182ec86724eb08a12a6a700bf2d04",
       "version_major": 2,
       "version_minor": 0
      },
      "text/plain": [
       "Evaluating distortion09 (Severity 2):   0%|          | 0/157 [00:00<?, ?it/s]"
      ]
     },
     "metadata": {},
     "output_type": "display_data"
    },
    {
     "name": "stdout",
     "output_type": "stream",
     "text": [
      "distortion09 (Severity 2)\n"
     ]
    },
    {
     "data": {
      "application/vnd.jupyter.widget-view+json": {
       "model_id": "e3ca146420f84a99a1240d20bd765873",
       "version_major": 2,
       "version_minor": 0
      },
      "text/plain": [
       "Evaluating distortion09 (Severity 3):   0%|          | 0/157 [00:00<?, ?it/s]"
      ]
     },
     "metadata": {},
     "output_type": "display_data"
    },
    {
     "name": "stdout",
     "output_type": "stream",
     "text": [
      "distortion09 (Severity 3)\n"
     ]
    },
    {
     "data": {
      "application/vnd.jupyter.widget-view+json": {
       "model_id": "e96e38da27cd43b8877a8f0ec0e98c3f",
       "version_major": 2,
       "version_minor": 0
      },
      "text/plain": [
       "Evaluating distortion09 (Severity 4):   0%|          | 0/157 [00:00<?, ?it/s]"
      ]
     },
     "metadata": {},
     "output_type": "display_data"
    },
    {
     "name": "stdout",
     "output_type": "stream",
     "text": [
      "distortion09 (Severity 4)\n"
     ]
    },
    {
     "data": {
      "application/vnd.jupyter.widget-view+json": {
       "model_id": "e342cd7581444180b8d21772f99fa7e4",
       "version_major": 2,
       "version_minor": 0
      },
      "text/plain": [
       "Evaluating distortion09 (Severity 5):   0%|          | 0/157 [00:00<?, ?it/s]"
      ]
     },
     "metadata": {},
     "output_type": "display_data"
    },
    {
     "name": "stdout",
     "output_type": "stream",
     "text": [
      "distortion09 (Severity 5)\n"
     ]
    },
    {
     "data": {
      "application/vnd.jupyter.widget-view+json": {
       "model_id": "27af725b111647e5a2637a95654cd3ed",
       "version_major": 2,
       "version_minor": 0
      },
      "text/plain": [
       "Evaluating distortion10 (Severity 1):   0%|          | 0/157 [00:00<?, ?it/s]"
      ]
     },
     "metadata": {},
     "output_type": "display_data"
    },
    {
     "name": "stdout",
     "output_type": "stream",
     "text": [
      "distortion10 (Severity 1)\n"
     ]
    },
    {
     "data": {
      "application/vnd.jupyter.widget-view+json": {
       "model_id": "f3289c6790334293b5ae55a27825cfe5",
       "version_major": 2,
       "version_minor": 0
      },
      "text/plain": [
       "Evaluating distortion10 (Severity 2):   0%|          | 0/157 [00:00<?, ?it/s]"
      ]
     },
     "metadata": {},
     "output_type": "display_data"
    },
    {
     "name": "stdout",
     "output_type": "stream",
     "text": [
      "distortion10 (Severity 2)\n"
     ]
    },
    {
     "data": {
      "application/vnd.jupyter.widget-view+json": {
       "model_id": "d80d4d7b82284a71be80b41ff67187ff",
       "version_major": 2,
       "version_minor": 0
      },
      "text/plain": [
       "Evaluating distortion10 (Severity 3):   0%|          | 0/157 [00:00<?, ?it/s]"
      ]
     },
     "metadata": {},
     "output_type": "display_data"
    },
    {
     "name": "stdout",
     "output_type": "stream",
     "text": [
      "distortion10 (Severity 3)\n"
     ]
    },
    {
     "data": {
      "application/vnd.jupyter.widget-view+json": {
       "model_id": "c61e35bb6c15462e845d2cb5449cea19",
       "version_major": 2,
       "version_minor": 0
      },
      "text/plain": [
       "Evaluating distortion10 (Severity 4):   0%|          | 0/157 [00:00<?, ?it/s]"
      ]
     },
     "metadata": {},
     "output_type": "display_data"
    },
    {
     "name": "stdout",
     "output_type": "stream",
     "text": [
      "distortion10 (Severity 4)\n"
     ]
    },
    {
     "data": {
      "application/vnd.jupyter.widget-view+json": {
       "model_id": "7eb69e695ac445d7a1df3b9edd306195",
       "version_major": 2,
       "version_minor": 0
      },
      "text/plain": [
       "Evaluating distortion10 (Severity 5):   0%|          | 0/157 [00:00<?, ?it/s]"
      ]
     },
     "metadata": {},
     "output_type": "display_data"
    },
    {
     "name": "stdout",
     "output_type": "stream",
     "text": [
      "distortion10 (Severity 5)\n"
     ]
    },
    {
     "data": {
      "application/vnd.jupyter.widget-view+json": {
       "model_id": "3bc878ce1fbf4ba883133acfa0aa77ea",
       "version_major": 2,
       "version_minor": 0
      },
      "text/plain": [
       "Evaluating distortion11 (Severity 1):   0%|          | 0/157 [00:00<?, ?it/s]"
      ]
     },
     "metadata": {},
     "output_type": "display_data"
    },
    {
     "name": "stdout",
     "output_type": "stream",
     "text": [
      "distortion11 (Severity 1)\n"
     ]
    },
    {
     "data": {
      "application/vnd.jupyter.widget-view+json": {
       "model_id": "b75c4e7084044c75a6442106c390c948",
       "version_major": 2,
       "version_minor": 0
      },
      "text/plain": [
       "Evaluating distortion11 (Severity 2):   0%|          | 0/157 [00:00<?, ?it/s]"
      ]
     },
     "metadata": {},
     "output_type": "display_data"
    },
    {
     "name": "stdout",
     "output_type": "stream",
     "text": [
      "distortion11 (Severity 2)\n"
     ]
    },
    {
     "data": {
      "application/vnd.jupyter.widget-view+json": {
       "model_id": "9b9b022edf3342dd9168c8061631195c",
       "version_major": 2,
       "version_minor": 0
      },
      "text/plain": [
       "Evaluating distortion11 (Severity 3):   0%|          | 0/157 [00:00<?, ?it/s]"
      ]
     },
     "metadata": {},
     "output_type": "display_data"
    },
    {
     "name": "stdout",
     "output_type": "stream",
     "text": [
      "distortion11 (Severity 3)\n"
     ]
    },
    {
     "data": {
      "application/vnd.jupyter.widget-view+json": {
       "model_id": "bc23a06c761a40fbb4d262402d787d64",
       "version_major": 2,
       "version_minor": 0
      },
      "text/plain": [
       "Evaluating distortion11 (Severity 4):   0%|          | 0/157 [00:00<?, ?it/s]"
      ]
     },
     "metadata": {},
     "output_type": "display_data"
    },
    {
     "name": "stdout",
     "output_type": "stream",
     "text": [
      "distortion11 (Severity 4)\n"
     ]
    },
    {
     "data": {
      "application/vnd.jupyter.widget-view+json": {
       "model_id": "0b4d88aa2fae47b99b28c9198e8c4284",
       "version_major": 2,
       "version_minor": 0
      },
      "text/plain": [
       "Evaluating distortion11 (Severity 5):   0%|          | 0/157 [00:00<?, ?it/s]"
      ]
     },
     "metadata": {},
     "output_type": "display_data"
    },
    {
     "name": "stdout",
     "output_type": "stream",
     "text": [
      "distortion11 (Severity 5)\n"
     ]
    },
    {
     "data": {
      "application/vnd.jupyter.widget-view+json": {
       "model_id": "b0a3316b25e9472e9e1f1d18e33dfb22",
       "version_major": 2,
       "version_minor": 0
      },
      "text/plain": [
       "Evaluating distortion12 (Severity 1):   0%|          | 0/157 [00:00<?, ?it/s]"
      ]
     },
     "metadata": {},
     "output_type": "display_data"
    },
    {
     "name": "stdout",
     "output_type": "stream",
     "text": [
      "distortion12 (Severity 1)\n"
     ]
    },
    {
     "data": {
      "application/vnd.jupyter.widget-view+json": {
       "model_id": "1d43b919a09442e4b585864a64730f0e",
       "version_major": 2,
       "version_minor": 0
      },
      "text/plain": [
       "Evaluating distortion12 (Severity 2):   0%|          | 0/157 [00:00<?, ?it/s]"
      ]
     },
     "metadata": {},
     "output_type": "display_data"
    },
    {
     "name": "stdout",
     "output_type": "stream",
     "text": [
      "distortion12 (Severity 2)\n"
     ]
    },
    {
     "data": {
      "application/vnd.jupyter.widget-view+json": {
       "model_id": "ce03eed909284e37ab1350dbe4471d3e",
       "version_major": 2,
       "version_minor": 0
      },
      "text/plain": [
       "Evaluating distortion12 (Severity 3):   0%|          | 0/157 [00:00<?, ?it/s]"
      ]
     },
     "metadata": {},
     "output_type": "display_data"
    },
    {
     "name": "stdout",
     "output_type": "stream",
     "text": [
      "distortion12 (Severity 3)\n"
     ]
    },
    {
     "data": {
      "application/vnd.jupyter.widget-view+json": {
       "model_id": "d96e80fdba7d4998b8f570bfb6c40037",
       "version_major": 2,
       "version_minor": 0
      },
      "text/plain": [
       "Evaluating distortion12 (Severity 4):   0%|          | 0/157 [00:00<?, ?it/s]"
      ]
     },
     "metadata": {},
     "output_type": "display_data"
    },
    {
     "name": "stdout",
     "output_type": "stream",
     "text": [
      "distortion12 (Severity 4)\n"
     ]
    },
    {
     "data": {
      "application/vnd.jupyter.widget-view+json": {
       "model_id": "0a9d2b1717ec45e3931953d9530ed996",
       "version_major": 2,
       "version_minor": 0
      },
      "text/plain": [
       "Evaluating distortion12 (Severity 5):   0%|          | 0/157 [00:00<?, ?it/s]"
      ]
     },
     "metadata": {},
     "output_type": "display_data"
    },
    {
     "name": "stdout",
     "output_type": "stream",
     "text": [
      "distortion12 (Severity 5)\n"
     ]
    },
    {
     "data": {
      "application/vnd.jupyter.widget-view+json": {
       "model_id": "a37ded053c014c51bce06d19f617c692",
       "version_major": 2,
       "version_minor": 0
      },
      "text/plain": [
       "Evaluating distortion13 (Severity 1):   0%|          | 0/157 [00:00<?, ?it/s]"
      ]
     },
     "metadata": {},
     "output_type": "display_data"
    },
    {
     "name": "stdout",
     "output_type": "stream",
     "text": [
      "distortion13 (Severity 1)\n"
     ]
    },
    {
     "data": {
      "application/vnd.jupyter.widget-view+json": {
       "model_id": "22a84ad3dc0e46d59abf144764653b74",
       "version_major": 2,
       "version_minor": 0
      },
      "text/plain": [
       "Evaluating distortion13 (Severity 2):   0%|          | 0/157 [00:00<?, ?it/s]"
      ]
     },
     "metadata": {},
     "output_type": "display_data"
    },
    {
     "name": "stdout",
     "output_type": "stream",
     "text": [
      "distortion13 (Severity 2)\n"
     ]
    },
    {
     "data": {
      "application/vnd.jupyter.widget-view+json": {
       "model_id": "7d4f19876d8d4dad99cf516324ab3a17",
       "version_major": 2,
       "version_minor": 0
      },
      "text/plain": [
       "Evaluating distortion13 (Severity 3):   0%|          | 0/157 [00:00<?, ?it/s]"
      ]
     },
     "metadata": {},
     "output_type": "display_data"
    },
    {
     "name": "stdout",
     "output_type": "stream",
     "text": [
      "distortion13 (Severity 3)\n"
     ]
    },
    {
     "data": {
      "application/vnd.jupyter.widget-view+json": {
       "model_id": "b9530ae7700d4c72b41bf2ef8530caec",
       "version_major": 2,
       "version_minor": 0
      },
      "text/plain": [
       "Evaluating distortion13 (Severity 4):   0%|          | 0/157 [00:00<?, ?it/s]"
      ]
     },
     "metadata": {},
     "output_type": "display_data"
    },
    {
     "name": "stdout",
     "output_type": "stream",
     "text": [
      "distortion13 (Severity 4)\n"
     ]
    },
    {
     "data": {
      "application/vnd.jupyter.widget-view+json": {
       "model_id": "b2b49bafde69416e8098c63bb7e51522",
       "version_major": 2,
       "version_minor": 0
      },
      "text/plain": [
       "Evaluating distortion13 (Severity 5):   0%|          | 0/157 [00:00<?, ?it/s]"
      ]
     },
     "metadata": {},
     "output_type": "display_data"
    },
    {
     "name": "stdout",
     "output_type": "stream",
     "text": [
      "distortion13 (Severity 5)\n"
     ]
    },
    {
     "data": {
      "application/vnd.jupyter.widget-view+json": {
       "model_id": "6d1fb6721b1944c48c4b968a9444ee80",
       "version_major": 2,
       "version_minor": 0
      },
      "text/plain": [
       "Evaluating distortion14 (Severity 1):   0%|          | 0/157 [00:00<?, ?it/s]"
      ]
     },
     "metadata": {},
     "output_type": "display_data"
    },
    {
     "name": "stdout",
     "output_type": "stream",
     "text": [
      "distortion14 (Severity 1)\n"
     ]
    },
    {
     "data": {
      "application/vnd.jupyter.widget-view+json": {
       "model_id": "8b4d6e6f2c824ea09acd80fef816bee0",
       "version_major": 2,
       "version_minor": 0
      },
      "text/plain": [
       "Evaluating distortion14 (Severity 2):   0%|          | 0/157 [00:00<?, ?it/s]"
      ]
     },
     "metadata": {},
     "output_type": "display_data"
    },
    {
     "name": "stdout",
     "output_type": "stream",
     "text": [
      "distortion14 (Severity 2)\n"
     ]
    },
    {
     "data": {
      "application/vnd.jupyter.widget-view+json": {
       "model_id": "7078b0647e784b15ac37353a64d8b231",
       "version_major": 2,
       "version_minor": 0
      },
      "text/plain": [
       "Evaluating distortion14 (Severity 3):   0%|          | 0/157 [00:00<?, ?it/s]"
      ]
     },
     "metadata": {},
     "output_type": "display_data"
    },
    {
     "name": "stdout",
     "output_type": "stream",
     "text": [
      "distortion14 (Severity 3)\n"
     ]
    },
    {
     "data": {
      "application/vnd.jupyter.widget-view+json": {
       "model_id": "dcc1959c19ef4b478672b4c95cc8fdbb",
       "version_major": 2,
       "version_minor": 0
      },
      "text/plain": [
       "Evaluating distortion14 (Severity 4):   0%|          | 0/157 [00:00<?, ?it/s]"
      ]
     },
     "metadata": {},
     "output_type": "display_data"
    },
    {
     "name": "stdout",
     "output_type": "stream",
     "text": [
      "distortion14 (Severity 4)\n"
     ]
    },
    {
     "data": {
      "application/vnd.jupyter.widget-view+json": {
       "model_id": "d66cb1a482a74eabbe0b1466d6e0a258",
       "version_major": 2,
       "version_minor": 0
      },
      "text/plain": [
       "Evaluating distortion14 (Severity 5):   0%|          | 0/157 [00:00<?, ?it/s]"
      ]
     },
     "metadata": {},
     "output_type": "display_data"
    },
    {
     "name": "stdout",
     "output_type": "stream",
     "text": [
      "distortion14 (Severity 5)\n"
     ]
    },
    {
     "data": {
      "application/vnd.jupyter.widget-view+json": {
       "model_id": "59448f3bed3a4562853cf5c50518ae07",
       "version_major": 2,
       "version_minor": 0
      },
      "text/plain": [
       "Evaluating distortion15 (Severity 1):   0%|          | 0/157 [00:00<?, ?it/s]"
      ]
     },
     "metadata": {},
     "output_type": "display_data"
    },
    {
     "name": "stdout",
     "output_type": "stream",
     "text": [
      "distortion15 (Severity 1)\n"
     ]
    },
    {
     "data": {
      "application/vnd.jupyter.widget-view+json": {
       "model_id": "734121b19f83480b83d23d1fe5d400a4",
       "version_major": 2,
       "version_minor": 0
      },
      "text/plain": [
       "Evaluating distortion15 (Severity 2):   0%|          | 0/157 [00:00<?, ?it/s]"
      ]
     },
     "metadata": {},
     "output_type": "display_data"
    },
    {
     "name": "stdout",
     "output_type": "stream",
     "text": [
      "distortion15 (Severity 2)\n"
     ]
    },
    {
     "data": {
      "application/vnd.jupyter.widget-view+json": {
       "model_id": "62462bf270954e1d8638124177b52af9",
       "version_major": 2,
       "version_minor": 0
      },
      "text/plain": [
       "Evaluating distortion15 (Severity 3):   0%|          | 0/157 [00:00<?, ?it/s]"
      ]
     },
     "metadata": {},
     "output_type": "display_data"
    },
    {
     "name": "stdout",
     "output_type": "stream",
     "text": [
      "distortion15 (Severity 3)\n"
     ]
    },
    {
     "data": {
      "application/vnd.jupyter.widget-view+json": {
       "model_id": "448beb470ed04318ac6e5bedf8922ffe",
       "version_major": 2,
       "version_minor": 0
      },
      "text/plain": [
       "Evaluating distortion15 (Severity 4):   0%|          | 0/157 [00:00<?, ?it/s]"
      ]
     },
     "metadata": {},
     "output_type": "display_data"
    },
    {
     "name": "stdout",
     "output_type": "stream",
     "text": [
      "distortion15 (Severity 4)\n"
     ]
    },
    {
     "data": {
      "application/vnd.jupyter.widget-view+json": {
       "model_id": "052372330a624fceaac7bfbd5d287499",
       "version_major": 2,
       "version_minor": 0
      },
      "text/plain": [
       "Evaluating distortion15 (Severity 5):   0%|          | 0/157 [00:00<?, ?it/s]"
      ]
     },
     "metadata": {},
     "output_type": "display_data"
    },
    {
     "name": "stdout",
     "output_type": "stream",
     "text": [
      "distortion15 (Severity 5)\n"
     ]
    },
    {
     "data": {
      "application/vnd.jupyter.widget-view+json": {
       "model_id": "51c590f8e97f45fc8d3bef8f00dfc0e8",
       "version_major": 2,
       "version_minor": 0
      },
      "text/plain": [
       "Evaluating distortion16 (Severity 1):   0%|          | 0/157 [00:00<?, ?it/s]"
      ]
     },
     "metadata": {},
     "output_type": "display_data"
    },
    {
     "name": "stdout",
     "output_type": "stream",
     "text": [
      "distortion16 (Severity 1)\n"
     ]
    },
    {
     "data": {
      "application/vnd.jupyter.widget-view+json": {
       "model_id": "72bc21116ef64dfd9bf7c2241905e0b5",
       "version_major": 2,
       "version_minor": 0
      },
      "text/plain": [
       "Evaluating distortion16 (Severity 2):   0%|          | 0/157 [00:00<?, ?it/s]"
      ]
     },
     "metadata": {},
     "output_type": "display_data"
    },
    {
     "name": "stdout",
     "output_type": "stream",
     "text": [
      "distortion16 (Severity 2)\n"
     ]
    },
    {
     "data": {
      "application/vnd.jupyter.widget-view+json": {
       "model_id": "52c92f0c85a241b0991db535e1823c44",
       "version_major": 2,
       "version_minor": 0
      },
      "text/plain": [
       "Evaluating distortion16 (Severity 3):   0%|          | 0/157 [00:00<?, ?it/s]"
      ]
     },
     "metadata": {},
     "output_type": "display_data"
    },
    {
     "name": "stdout",
     "output_type": "stream",
     "text": [
      "distortion16 (Severity 3)\n"
     ]
    },
    {
     "data": {
      "application/vnd.jupyter.widget-view+json": {
       "model_id": "57d3b3244a1b42958bb4ff5b6fe89102",
       "version_major": 2,
       "version_minor": 0
      },
      "text/plain": [
       "Evaluating distortion16 (Severity 4):   0%|          | 0/157 [00:00<?, ?it/s]"
      ]
     },
     "metadata": {},
     "output_type": "display_data"
    },
    {
     "name": "stdout",
     "output_type": "stream",
     "text": [
      "distortion16 (Severity 4)\n"
     ]
    },
    {
     "data": {
      "application/vnd.jupyter.widget-view+json": {
       "model_id": "3152b456abef4df59556026d227e13ee",
       "version_major": 2,
       "version_minor": 0
      },
      "text/plain": [
       "Evaluating distortion16 (Severity 5):   0%|          | 0/157 [00:00<?, ?it/s]"
      ]
     },
     "metadata": {},
     "output_type": "display_data"
    },
    {
     "name": "stdout",
     "output_type": "stream",
     "text": [
      "distortion16 (Severity 5)\n"
     ]
    },
    {
     "data": {
      "application/vnd.jupyter.widget-view+json": {
       "model_id": "211d923fbbd24708a5db04dae6b647cb",
       "version_major": 2,
       "version_minor": 0
      },
      "text/plain": [
       "Evaluating distortion17 (Severity 1):   0%|          | 0/157 [00:00<?, ?it/s]"
      ]
     },
     "metadata": {},
     "output_type": "display_data"
    },
    {
     "name": "stdout",
     "output_type": "stream",
     "text": [
      "distortion17 (Severity 1)\n"
     ]
    },
    {
     "data": {
      "application/vnd.jupyter.widget-view+json": {
       "model_id": "ff038cabcac14d20aaca530653ab67c1",
       "version_major": 2,
       "version_minor": 0
      },
      "text/plain": [
       "Evaluating distortion17 (Severity 2):   0%|          | 0/157 [00:00<?, ?it/s]"
      ]
     },
     "metadata": {},
     "output_type": "display_data"
    },
    {
     "name": "stdout",
     "output_type": "stream",
     "text": [
      "distortion17 (Severity 2)\n"
     ]
    },
    {
     "data": {
      "application/vnd.jupyter.widget-view+json": {
       "model_id": "d7ffeb34655a41b6bdbf2ac1fae39729",
       "version_major": 2,
       "version_minor": 0
      },
      "text/plain": [
       "Evaluating distortion17 (Severity 3):   0%|          | 0/157 [00:00<?, ?it/s]"
      ]
     },
     "metadata": {},
     "output_type": "display_data"
    },
    {
     "name": "stdout",
     "output_type": "stream",
     "text": [
      "distortion17 (Severity 3)\n"
     ]
    },
    {
     "data": {
      "application/vnd.jupyter.widget-view+json": {
       "model_id": "74445373eec94ca583f26032ebfcc509",
       "version_major": 2,
       "version_minor": 0
      },
      "text/plain": [
       "Evaluating distortion17 (Severity 4):   0%|          | 0/157 [00:00<?, ?it/s]"
      ]
     },
     "metadata": {},
     "output_type": "display_data"
    },
    {
     "name": "stdout",
     "output_type": "stream",
     "text": [
      "distortion17 (Severity 4)\n"
     ]
    },
    {
     "data": {
      "application/vnd.jupyter.widget-view+json": {
       "model_id": "ffe804202d114030b501e9f76d322551",
       "version_major": 2,
       "version_minor": 0
      },
      "text/plain": [
       "Evaluating distortion17 (Severity 5):   0%|          | 0/157 [00:00<?, ?it/s]"
      ]
     },
     "metadata": {},
     "output_type": "display_data"
    },
    {
     "name": "stdout",
     "output_type": "stream",
     "text": [
      "distortion17 (Severity 5)\n"
     ]
    },
    {
     "data": {
      "application/vnd.jupyter.widget-view+json": {
       "model_id": "38c08c0a33a84ee792c2047efdf60ecc",
       "version_major": 2,
       "version_minor": 0
      },
      "text/plain": [
       "Evaluating distortion18 (Severity 1):   0%|          | 0/157 [00:00<?, ?it/s]"
      ]
     },
     "metadata": {},
     "output_type": "display_data"
    },
    {
     "name": "stdout",
     "output_type": "stream",
     "text": [
      "distortion18 (Severity 1)\n"
     ]
    },
    {
     "data": {
      "application/vnd.jupyter.widget-view+json": {
       "model_id": "f60690b6fcc9411eb109612d837535e4",
       "version_major": 2,
       "version_minor": 0
      },
      "text/plain": [
       "Evaluating distortion18 (Severity 2):   0%|          | 0/157 [00:00<?, ?it/s]"
      ]
     },
     "metadata": {},
     "output_type": "display_data"
    },
    {
     "name": "stdout",
     "output_type": "stream",
     "text": [
      "distortion18 (Severity 2)\n"
     ]
    },
    {
     "data": {
      "application/vnd.jupyter.widget-view+json": {
       "model_id": "54eded3c6e42460fa09e40122cdebe11",
       "version_major": 2,
       "version_minor": 0
      },
      "text/plain": [
       "Evaluating distortion18 (Severity 3):   0%|          | 0/157 [00:00<?, ?it/s]"
      ]
     },
     "metadata": {},
     "output_type": "display_data"
    },
    {
     "name": "stdout",
     "output_type": "stream",
     "text": [
      "distortion18 (Severity 3)\n"
     ]
    },
    {
     "data": {
      "application/vnd.jupyter.widget-view+json": {
       "model_id": "96a5fd3eb22f4ad8bd7f5a5f6def3f57",
       "version_major": 2,
       "version_minor": 0
      },
      "text/plain": [
       "Evaluating distortion18 (Severity 4):   0%|          | 0/157 [00:00<?, ?it/s]"
      ]
     },
     "metadata": {},
     "output_type": "display_data"
    },
    {
     "name": "stdout",
     "output_type": "stream",
     "text": [
      "distortion18 (Severity 4)\n"
     ]
    },
    {
     "data": {
      "application/vnd.jupyter.widget-view+json": {
       "model_id": "63e6853120774bae85269b84c1aa4c8e",
       "version_major": 2,
       "version_minor": 0
      },
      "text/plain": [
       "Evaluating distortion18 (Severity 5):   0%|          | 0/157 [00:00<?, ?it/s]"
      ]
     },
     "metadata": {},
     "output_type": "display_data"
    },
    {
     "name": "stdout",
     "output_type": "stream",
     "text": [
      "distortion18 (Severity 5)\n",
      "submission_ood_part3convnext_ep30.csv created successfully.\n"
     ]
    }
   ],
   "source": [
    "import torch\n",
    "import torch.nn as nn\n",
    "import torch.optim as optim\n",
    "import torchvision\n",
    "import torchvision.transforms as transforms\n",
    "from torchvision import models\n",
    "from tqdm.auto import tqdm\n",
    "import wandb\n",
    "import numpy as np\n",
    "import random\n",
    "import shutil\n",
    "import os\n",
    "\n",
    "# -----------------------------\n",
    "# Reproducibility\n",
    "# -----------------------------\n",
    "def set_seed(seed):\n",
    "    torch.manual_seed(seed)\n",
    "    np.random.seed(seed)\n",
    "    random.seed(seed)\n",
    "    if torch.cuda.is_available():\n",
    "        torch.cuda.manual_seed_all(seed)\n",
    "\n",
    "# -----------------------------\n",
    "# MC Dropout Prediction\n",
    "# -----------------------------\n",
    "def predict_with_mc_dropout(model, dataloader, CONFIG, T=1.5, num_passes=5):\n",
    "    model.train()  # Enable dropout during inference\n",
    "    all_probs = []\n",
    "\n",
    "    with torch.no_grad():\n",
    "        for _ in range(num_passes):\n",
    "            probs = []\n",
    "            for inputs, _ in dataloader:\n",
    "                inputs = inputs.to(CONFIG[\"device\"])\n",
    "                outputs = model(inputs) / T\n",
    "                probs.append(torch.softmax(outputs, dim=1).cpu())\n",
    "            all_probs.append(torch.cat(probs, dim=0))\n",
    "\n",
    "    mean_probs = torch.stack(all_probs).mean(0)\n",
    "    return mean_probs\n",
    "\n",
    "# -----------------------------\n",
    "# Training Function\n",
    "# -----------------------------\n",
    "def train(epoch, model, trainloader, optimizer, criterion, CONFIG):\n",
    "    device = CONFIG[\"device\"]\n",
    "    model.train()\n",
    "    running_loss, correct, total = 0.0, 0, 0\n",
    "    progress = tqdm(trainloader, desc=f\"Epoch {epoch+1}/{CONFIG['epochs']} [Train]\", leave=False)\n",
    "\n",
    "    for inputs, labels in progress:\n",
    "        inputs, labels = inputs.to(device), labels.to(device)\n",
    "\n",
    "        optimizer.zero_grad()\n",
    "        outputs = model(inputs)\n",
    "        loss = criterion(outputs, labels)\n",
    "        loss.backward()\n",
    "        optimizer.step()\n",
    "\n",
    "        running_loss += loss.item()\n",
    "        _, predicted = outputs.max(1)\n",
    "        total += labels.size(0)\n",
    "        correct += predicted.eq(labels).sum().item()\n",
    "\n",
    "        progress.set_postfix({\n",
    "            \"loss\": running_loss / (total / CONFIG[\"batch_size\"]),\n",
    "            \"acc\": 100. * correct / total\n",
    "        })\n",
    "\n",
    "    return running_loss / len(trainloader), 100. * correct / total\n",
    "\n",
    "# -----------------------------\n",
    "# Validation Function\n",
    "# -----------------------------\n",
    "def validate(model, valloader, criterion, CONFIG):\n",
    "    device = CONFIG[\"device\"]\n",
    "    model.eval()\n",
    "    running_loss, correct, total = 0.0, 0, 0\n",
    "\n",
    "    with torch.no_grad():\n",
    "        progress = tqdm(valloader, desc=\"[Validate]\", leave=False)\n",
    "        for inputs, labels in progress:\n",
    "            inputs, labels = inputs.to(device), labels.to(device)\n",
    "            outputs = model(inputs)\n",
    "            loss = criterion(outputs, labels)\n",
    "\n",
    "            running_loss += loss.item()\n",
    "            _, predicted = outputs.max(1)\n",
    "            total += labels.size(0)\n",
    "            correct += predicted.eq(labels).sum().item()\n",
    "\n",
    "            progress.set_postfix({\n",
    "                \"loss\": running_loss / (total / CONFIG[\"batch_size\"]),\n",
    "                \"acc\": 100. * correct / total\n",
    "            })\n",
    "\n",
    "    return running_loss / len(valloader), 100. * correct / total\n",
    "\n",
    "# -----------------------------\n",
    "# Main Function\n",
    "# -----------------------------\n",
    "def main():\n",
    "    CONFIG = {\n",
    "        \"model\": \"ConvNeXt_Tiny_Pretrained_FT\",\n",
    "        \"batch_size\": 64,\n",
    "        \"learning_rate\": 0.001,\n",
    "        \"epochs\": 30,\n",
    "        \"num_workers\": 0,\n",
    "        \"device\": \"cuda\" if torch.cuda.is_available() else \"cpu\",\n",
    "        \"data_dir\": \"./data\",\n",
    "        \"ood_dir\": \"./data/ood-test\",\n",
    "        \"wandb_project\": \"sp25-ds542-challenge\",\n",
    "        \"seed\": 42,\n",
    "        \"temperature\": 1.5,\n",
    "        \"mc_passes\": 5,\n",
    "    }\n",
    "\n",
    "    set_seed(CONFIG[\"seed\"])\n",
    "\n",
    "    # -----------------------------\n",
    "    # Data Transforms (Augmentation)\n",
    "    # -----------------------------\n",
    "    transform_train = transforms.Compose([\n",
    "        transforms.RandomCrop(32, padding=4),\n",
    "        transforms.RandomHorizontalFlip(),\n",
    "        transforms.ColorJitter(0.2, 0.2, 0.2),\n",
    "        transforms.RandomRotation(10),\n",
    "        transforms.ToTensor(),\n",
    "        transforms.Normalize((0.5071, 0.4865, 0.4409), (0.2673, 0.2564, 0.2762)),\n",
    "    ])\n",
    "    transform_test = transforms.Compose([\n",
    "        transforms.ToTensor(),\n",
    "        transforms.Normalize((0.5071, 0.4865, 0.4409), (0.2673, 0.2564, 0.2762)),\n",
    "    ])\n",
    "\n",
    "    # -----------------------------\n",
    "    # Load CIFAR-100 Dataset\n",
    "    # -----------------------------    \n",
    "    trainset_full = torchvision.datasets.CIFAR100(root=CONFIG[\"data_dir\"], train=True, download=True, transform=transform_train)\n",
    "    train_size = int(0.8 * len(trainset_full))\n",
    "    val_size = len(trainset_full) - train_size\n",
    "    trainset, valset = torch.utils.data.random_split(trainset_full, [train_size, val_size])\n",
    "\n",
    "    trainloader = torch.utils.data.DataLoader(trainset, batch_size=CONFIG[\"batch_size\"], shuffle=True, num_workers=CONFIG[\"num_workers\"])\n",
    "    valloader = torch.utils.data.DataLoader(valset, batch_size=CONFIG[\"batch_size\"], shuffle=False, num_workers=CONFIG[\"num_workers\"])\n",
    "    testset = torchvision.datasets.CIFAR100(root=CONFIG[\"data_dir\"], train=False, download=True, transform=transform_test)\n",
    "    testloader = torch.utils.data.DataLoader(testset, batch_size=CONFIG[\"batch_size\"], shuffle=False, num_workers=CONFIG[\"num_workers\"])\n",
    "\n",
    "    # -----------------------------\n",
    "    # Define Model & Load Checkpoint\n",
    "    # -----------------------------\n",
    "    model = models.convnext_tiny(weights=models.ConvNeXt_Tiny_Weights.IMAGENET1K_V1)\n",
    "    model.classifier[2] = nn.Linear(model.classifier[2].in_features, 100)\n",
    "    model = model.to(CONFIG[\"device\"])\n",
    "\n",
    "    # -----------------------------\n",
    "    # Loss, Optimizer, Scheduler\n",
    "    # -----------------------------\n",
    "    criterion = nn.CrossEntropyLoss(label_smoothing=0.1)\n",
    "    optimizer = optim.AdamW(model.parameters(), lr=CONFIG[\"learning_rate\"], weight_decay=1e-4)\n",
    "    scheduler = optim.lr_scheduler.CosineAnnealingLR(optimizer, T_max=CONFIG[\"epochs\"])\n",
    "\n",
    "    # -----------------------------\n",
    "    # W&B Setup\n",
    "    # -----------------------------\n",
    "    wandb.init(project=CONFIG[\"wandb_project\"], config=CONFIG, name=\"ConvNeXtTiny Ep30\")\n",
    "    wandb.watch(model)\n",
    "\n",
    "    best_val_acc = 0.0\n",
    "    for epoch in range(CONFIG[\"epochs\"]):\n",
    "        train_loss, train_acc = train(epoch, model, trainloader, optimizer, criterion, CONFIG)\n",
    "        val_loss, val_acc = validate(model, valloader, criterion, CONFIG)\n",
    "        scheduler.step()\n",
    "\n",
    "        wandb.log({\n",
    "            \"epoch\": epoch + 1,\n",
    "            \"train_loss\": train_loss,\n",
    "            \"train_acc\": train_acc,\n",
    "            \"val_loss\": val_loss,\n",
    "            \"val_acc\": val_acc,\n",
    "            \"lr\": optimizer.param_groups[0][\"lr\"]\n",
    "        })\n",
    "        \n",
    "        if val_acc > best_val_acc:\n",
    "            best_val_acc = val_acc\n",
    "            torch.save(model.state_dict(), \"best_model_part3_convnext_ep30.pth\")\n",
    "            wandb.save(\"best_model_part3_convnext_ep30.pth\")\n",
    "\n",
    "    wandb.finish()\n",
    "\n",
    "    # -----------------------------\n",
    "    # Evaluation & Submission\n",
    "    # -----------------------------\n",
    "    import eval_cifar100\n",
    "    import eval_ood\n",
    "\n",
    "    shutil.copy(\"best_model_part3_convnext_ep30.pth\", \"best_model.pth\")\n",
    "\n",
    "    predictions, clean_accuracy = eval_cifar100.evaluate_cifar100_test(model, testloader, CONFIG[\"device\"])\n",
    "    print(f\"Clean CIFAR-100 Test Accuracy (MC Dropout + T={CONFIG['temperature']}): {clean_accuracy:.2f}%\")\n",
    "\n",
    "    all_predictions = eval_ood.evaluate_ood_test(model, CONFIG)\n",
    "    submission_df_ood = eval_ood.create_ood_df(all_predictions)\n",
    "    submission_df_ood.to_csv(\"submission_ood_part3convnext_ep30.csv\", index=False)\n",
    "    print(\"submission_ood_part3convnext_ep30.csv created successfully.\")\n",
    "\n",
    "if __name__ == '__main__':\n",
    "    main()\n"
   ]
  },
  {
   "cell_type": "markdown",
   "id": "8d34a72c-c20d-4613-8088-5bc1f32ee022",
   "metadata": {},
   "source": [
    "#### 50 Epochs (continued from pretrained ConvNeXt_Tiny at Epoch 30)"
   ]
  },
  {
   "cell_type": "code",
   "execution_count": 7,
   "id": "90afceed-72f5-4f06-92d1-5a454c2925be",
   "metadata": {},
   "outputs": [
    {
     "name": "stdout",
     "output_type": "stream",
     "text": [
      "Loaded model weights from: best_model_part3_convnext_ep30.pth\n"
     ]
    },
    {
     "data": {
      "text/html": [
       "Tracking run with wandb version 0.19.8"
      ],
      "text/plain": [
       "<IPython.core.display.HTML object>"
      ]
     },
     "metadata": {},
     "output_type": "display_data"
    },
    {
     "data": {
      "text/html": [
       "Run data is saved locally in <code>/usr4/dl4ds/samritha/wandb/run-20250329_220349-lkmgq7t4</code>"
      ],
      "text/plain": [
       "<IPython.core.display.HTML object>"
      ]
     },
     "metadata": {},
     "output_type": "display_data"
    },
    {
     "data": {
      "text/html": [
       "Syncing run <strong><a href='https://wandb.ai/samritha-boston-university/sp25-ds542-challenge/runs/lkmgq7t4' target=\"_blank\">ConvNeXtTiny Ep50</a></strong> to <a href='https://wandb.ai/samritha-boston-university/sp25-ds542-challenge' target=\"_blank\">Weights & Biases</a> (<a href='https://wandb.me/developer-guide' target=\"_blank\">docs</a>)<br>"
      ],
      "text/plain": [
       "<IPython.core.display.HTML object>"
      ]
     },
     "metadata": {},
     "output_type": "display_data"
    },
    {
     "data": {
      "text/html": [
       " View project at <a href='https://wandb.ai/samritha-boston-university/sp25-ds542-challenge' target=\"_blank\">https://wandb.ai/samritha-boston-university/sp25-ds542-challenge</a>"
      ],
      "text/plain": [
       "<IPython.core.display.HTML object>"
      ]
     },
     "metadata": {},
     "output_type": "display_data"
    },
    {
     "data": {
      "text/html": [
       " View run at <a href='https://wandb.ai/samritha-boston-university/sp25-ds542-challenge/runs/lkmgq7t4' target=\"_blank\">https://wandb.ai/samritha-boston-university/sp25-ds542-challenge/runs/lkmgq7t4</a>"
      ],
      "text/plain": [
       "<IPython.core.display.HTML object>"
      ]
     },
     "metadata": {},
     "output_type": "display_data"
    },
    {
     "data": {
      "application/vnd.jupyter.widget-view+json": {
       "model_id": "1057ced997ca43469528ad0b0ac0808e",
       "version_major": 2,
       "version_minor": 0
      },
      "text/plain": [
       "Epoch 31/50 [Train]:   0%|          | 0/625 [00:00<?, ?it/s]"
      ]
     },
     "metadata": {},
     "output_type": "display_data"
    },
    {
     "data": {
      "application/vnd.jupyter.widget-view+json": {
       "model_id": "b377aec6ba9b49f08a33ff4b22512727",
       "version_major": 2,
       "version_minor": 0
      },
      "text/plain": [
       "[Validate]:   0%|          | 0/157 [00:00<?, ?it/s]"
      ]
     },
     "metadata": {},
     "output_type": "display_data"
    },
    {
     "data": {
      "application/vnd.jupyter.widget-view+json": {
       "model_id": "69859a17328a48a8962ed88d2ec3bb6c",
       "version_major": 2,
       "version_minor": 0
      },
      "text/plain": [
       "Epoch 32/50 [Train]:   0%|          | 0/625 [00:00<?, ?it/s]"
      ]
     },
     "metadata": {},
     "output_type": "display_data"
    },
    {
     "data": {
      "application/vnd.jupyter.widget-view+json": {
       "model_id": "aa895f7576544264828f5cf5973e9857",
       "version_major": 2,
       "version_minor": 0
      },
      "text/plain": [
       "[Validate]:   0%|          | 0/157 [00:00<?, ?it/s]"
      ]
     },
     "metadata": {},
     "output_type": "display_data"
    },
    {
     "data": {
      "application/vnd.jupyter.widget-view+json": {
       "model_id": "e4f8231e3d1242fca018beb4d9c1217a",
       "version_major": 2,
       "version_minor": 0
      },
      "text/plain": [
       "Epoch 33/50 [Train]:   0%|          | 0/625 [00:00<?, ?it/s]"
      ]
     },
     "metadata": {},
     "output_type": "display_data"
    },
    {
     "data": {
      "application/vnd.jupyter.widget-view+json": {
       "model_id": "687cbd477fb045e593263e005ed54bf5",
       "version_major": 2,
       "version_minor": 0
      },
      "text/plain": [
       "[Validate]:   0%|          | 0/157 [00:00<?, ?it/s]"
      ]
     },
     "metadata": {},
     "output_type": "display_data"
    },
    {
     "data": {
      "application/vnd.jupyter.widget-view+json": {
       "model_id": "4fffef2918ac4633945b1401df959a94",
       "version_major": 2,
       "version_minor": 0
      },
      "text/plain": [
       "Epoch 34/50 [Train]:   0%|          | 0/625 [00:00<?, ?it/s]"
      ]
     },
     "metadata": {},
     "output_type": "display_data"
    },
    {
     "data": {
      "application/vnd.jupyter.widget-view+json": {
       "model_id": "dca8d9d21e11464eabae9b0c6411621e",
       "version_major": 2,
       "version_minor": 0
      },
      "text/plain": [
       "[Validate]:   0%|          | 0/157 [00:00<?, ?it/s]"
      ]
     },
     "metadata": {},
     "output_type": "display_data"
    },
    {
     "data": {
      "application/vnd.jupyter.widget-view+json": {
       "model_id": "89785d122dc4485cb73094ebd6ecb8e8",
       "version_major": 2,
       "version_minor": 0
      },
      "text/plain": [
       "Epoch 35/50 [Train]:   0%|          | 0/625 [00:00<?, ?it/s]"
      ]
     },
     "metadata": {},
     "output_type": "display_data"
    },
    {
     "data": {
      "application/vnd.jupyter.widget-view+json": {
       "model_id": "4c57832ae79a43408eb0f35205d3a0c4",
       "version_major": 2,
       "version_minor": 0
      },
      "text/plain": [
       "[Validate]:   0%|          | 0/157 [00:00<?, ?it/s]"
      ]
     },
     "metadata": {},
     "output_type": "display_data"
    },
    {
     "data": {
      "application/vnd.jupyter.widget-view+json": {
       "model_id": "17715b94fe6c4e5fa03353da43aac755",
       "version_major": 2,
       "version_minor": 0
      },
      "text/plain": [
       "Epoch 36/50 [Train]:   0%|          | 0/625 [00:00<?, ?it/s]"
      ]
     },
     "metadata": {},
     "output_type": "display_data"
    },
    {
     "data": {
      "application/vnd.jupyter.widget-view+json": {
       "model_id": "ee58bdaa814840bb824ca1633926c7f8",
       "version_major": 2,
       "version_minor": 0
      },
      "text/plain": [
       "[Validate]:   0%|          | 0/157 [00:00<?, ?it/s]"
      ]
     },
     "metadata": {},
     "output_type": "display_data"
    },
    {
     "data": {
      "application/vnd.jupyter.widget-view+json": {
       "model_id": "4a252fd704404ef6855cc298af4494f5",
       "version_major": 2,
       "version_minor": 0
      },
      "text/plain": [
       "Epoch 37/50 [Train]:   0%|          | 0/625 [00:00<?, ?it/s]"
      ]
     },
     "metadata": {},
     "output_type": "display_data"
    },
    {
     "data": {
      "application/vnd.jupyter.widget-view+json": {
       "model_id": "854bbe701d89473197d3d471278524c1",
       "version_major": 2,
       "version_minor": 0
      },
      "text/plain": [
       "[Validate]:   0%|          | 0/157 [00:00<?, ?it/s]"
      ]
     },
     "metadata": {},
     "output_type": "display_data"
    },
    {
     "data": {
      "application/vnd.jupyter.widget-view+json": {
       "model_id": "9aa706013a0c4a09a1df714b3139fa1a",
       "version_major": 2,
       "version_minor": 0
      },
      "text/plain": [
       "Epoch 38/50 [Train]:   0%|          | 0/625 [00:00<?, ?it/s]"
      ]
     },
     "metadata": {},
     "output_type": "display_data"
    },
    {
     "data": {
      "application/vnd.jupyter.widget-view+json": {
       "model_id": "d19e3b39e0234c2aad9f96fd63a909a5",
       "version_major": 2,
       "version_minor": 0
      },
      "text/plain": [
       "[Validate]:   0%|          | 0/157 [00:00<?, ?it/s]"
      ]
     },
     "metadata": {},
     "output_type": "display_data"
    },
    {
     "data": {
      "application/vnd.jupyter.widget-view+json": {
       "model_id": "f36e856d94094b578dcd98a0e748e5d7",
       "version_major": 2,
       "version_minor": 0
      },
      "text/plain": [
       "Epoch 39/50 [Train]:   0%|          | 0/625 [00:00<?, ?it/s]"
      ]
     },
     "metadata": {},
     "output_type": "display_data"
    },
    {
     "data": {
      "application/vnd.jupyter.widget-view+json": {
       "model_id": "9a463a7e01b04ebfb13e7de8c611de2e",
       "version_major": 2,
       "version_minor": 0
      },
      "text/plain": [
       "[Validate]:   0%|          | 0/157 [00:00<?, ?it/s]"
      ]
     },
     "metadata": {},
     "output_type": "display_data"
    },
    {
     "data": {
      "application/vnd.jupyter.widget-view+json": {
       "model_id": "99160b29ae6a43d1aa516e2e31bff36f",
       "version_major": 2,
       "version_minor": 0
      },
      "text/plain": [
       "Epoch 40/50 [Train]:   0%|          | 0/625 [00:00<?, ?it/s]"
      ]
     },
     "metadata": {},
     "output_type": "display_data"
    },
    {
     "data": {
      "application/vnd.jupyter.widget-view+json": {
       "model_id": "9a927d10a27041b0a1caa52595ab319b",
       "version_major": 2,
       "version_minor": 0
      },
      "text/plain": [
       "[Validate]:   0%|          | 0/157 [00:00<?, ?it/s]"
      ]
     },
     "metadata": {},
     "output_type": "display_data"
    },
    {
     "data": {
      "application/vnd.jupyter.widget-view+json": {
       "model_id": "fb16dda87ade43c2b98d684b4ed7a152",
       "version_major": 2,
       "version_minor": 0
      },
      "text/plain": [
       "Epoch 41/50 [Train]:   0%|          | 0/625 [00:00<?, ?it/s]"
      ]
     },
     "metadata": {},
     "output_type": "display_data"
    },
    {
     "data": {
      "application/vnd.jupyter.widget-view+json": {
       "model_id": "19a483fa795e457aa74dad4cb35a60e9",
       "version_major": 2,
       "version_minor": 0
      },
      "text/plain": [
       "[Validate]:   0%|          | 0/157 [00:00<?, ?it/s]"
      ]
     },
     "metadata": {},
     "output_type": "display_data"
    },
    {
     "data": {
      "application/vnd.jupyter.widget-view+json": {
       "model_id": "90952c50637942408aeb5f2c96e0d9ff",
       "version_major": 2,
       "version_minor": 0
      },
      "text/plain": [
       "Epoch 42/50 [Train]:   0%|          | 0/625 [00:00<?, ?it/s]"
      ]
     },
     "metadata": {},
     "output_type": "display_data"
    },
    {
     "data": {
      "application/vnd.jupyter.widget-view+json": {
       "model_id": "29710bd2711b4618ab71e9036b56d875",
       "version_major": 2,
       "version_minor": 0
      },
      "text/plain": [
       "[Validate]:   0%|          | 0/157 [00:00<?, ?it/s]"
      ]
     },
     "metadata": {},
     "output_type": "display_data"
    },
    {
     "data": {
      "application/vnd.jupyter.widget-view+json": {
       "model_id": "29e111c49d834fc3b79e2f9981b03497",
       "version_major": 2,
       "version_minor": 0
      },
      "text/plain": [
       "Epoch 43/50 [Train]:   0%|          | 0/625 [00:00<?, ?it/s]"
      ]
     },
     "metadata": {},
     "output_type": "display_data"
    },
    {
     "data": {
      "application/vnd.jupyter.widget-view+json": {
       "model_id": "5ef4660571944c1991decdc2e4aa8257",
       "version_major": 2,
       "version_minor": 0
      },
      "text/plain": [
       "[Validate]:   0%|          | 0/157 [00:00<?, ?it/s]"
      ]
     },
     "metadata": {},
     "output_type": "display_data"
    },
    {
     "data": {
      "application/vnd.jupyter.widget-view+json": {
       "model_id": "61340d15c36a401e99c491bddee7afd8",
       "version_major": 2,
       "version_minor": 0
      },
      "text/plain": [
       "Epoch 44/50 [Train]:   0%|          | 0/625 [00:00<?, ?it/s]"
      ]
     },
     "metadata": {},
     "output_type": "display_data"
    },
    {
     "data": {
      "application/vnd.jupyter.widget-view+json": {
       "model_id": "37e3fbf100404e9a8b04a4c83e4fae88",
       "version_major": 2,
       "version_minor": 0
      },
      "text/plain": [
       "[Validate]:   0%|          | 0/157 [00:00<?, ?it/s]"
      ]
     },
     "metadata": {},
     "output_type": "display_data"
    },
    {
     "data": {
      "application/vnd.jupyter.widget-view+json": {
       "model_id": "33106e6ecd2c41809cfc6a38fc6ca898",
       "version_major": 2,
       "version_minor": 0
      },
      "text/plain": [
       "Epoch 45/50 [Train]:   0%|          | 0/625 [00:00<?, ?it/s]"
      ]
     },
     "metadata": {},
     "output_type": "display_data"
    },
    {
     "data": {
      "application/vnd.jupyter.widget-view+json": {
       "model_id": "d250d30fc01044fb803f03e8850b5a17",
       "version_major": 2,
       "version_minor": 0
      },
      "text/plain": [
       "[Validate]:   0%|          | 0/157 [00:00<?, ?it/s]"
      ]
     },
     "metadata": {},
     "output_type": "display_data"
    },
    {
     "data": {
      "application/vnd.jupyter.widget-view+json": {
       "model_id": "592b516c959e47bfa41f5f9f86280509",
       "version_major": 2,
       "version_minor": 0
      },
      "text/plain": [
       "Epoch 46/50 [Train]:   0%|          | 0/625 [00:00<?, ?it/s]"
      ]
     },
     "metadata": {},
     "output_type": "display_data"
    },
    {
     "data": {
      "application/vnd.jupyter.widget-view+json": {
       "model_id": "e82f99dd01134bd0b12c1814d7814a17",
       "version_major": 2,
       "version_minor": 0
      },
      "text/plain": [
       "[Validate]:   0%|          | 0/157 [00:00<?, ?it/s]"
      ]
     },
     "metadata": {},
     "output_type": "display_data"
    },
    {
     "data": {
      "application/vnd.jupyter.widget-view+json": {
       "model_id": "3a9bc0ea6c5c42889d89919c997d13f4",
       "version_major": 2,
       "version_minor": 0
      },
      "text/plain": [
       "Epoch 47/50 [Train]:   0%|          | 0/625 [00:00<?, ?it/s]"
      ]
     },
     "metadata": {},
     "output_type": "display_data"
    },
    {
     "data": {
      "application/vnd.jupyter.widget-view+json": {
       "model_id": "4584876011c540a3b5a3989da5af6680",
       "version_major": 2,
       "version_minor": 0
      },
      "text/plain": [
       "[Validate]:   0%|          | 0/157 [00:00<?, ?it/s]"
      ]
     },
     "metadata": {},
     "output_type": "display_data"
    },
    {
     "data": {
      "application/vnd.jupyter.widget-view+json": {
       "model_id": "55fef15fed3b4ae2a7747f43cfe2241a",
       "version_major": 2,
       "version_minor": 0
      },
      "text/plain": [
       "Epoch 48/50 [Train]:   0%|          | 0/625 [00:00<?, ?it/s]"
      ]
     },
     "metadata": {},
     "output_type": "display_data"
    },
    {
     "data": {
      "application/vnd.jupyter.widget-view+json": {
       "model_id": "3484b3e926894df997ba27d4e8f8f2e9",
       "version_major": 2,
       "version_minor": 0
      },
      "text/plain": [
       "[Validate]:   0%|          | 0/157 [00:00<?, ?it/s]"
      ]
     },
     "metadata": {},
     "output_type": "display_data"
    },
    {
     "data": {
      "application/vnd.jupyter.widget-view+json": {
       "model_id": "ec43ff4c736c4b9988ad071a8e7c1744",
       "version_major": 2,
       "version_minor": 0
      },
      "text/plain": [
       "Epoch 49/50 [Train]:   0%|          | 0/625 [00:00<?, ?it/s]"
      ]
     },
     "metadata": {},
     "output_type": "display_data"
    },
    {
     "data": {
      "application/vnd.jupyter.widget-view+json": {
       "model_id": "b95fc1b40e584771b056191fa1fb5f12",
       "version_major": 2,
       "version_minor": 0
      },
      "text/plain": [
       "[Validate]:   0%|          | 0/157 [00:00<?, ?it/s]"
      ]
     },
     "metadata": {},
     "output_type": "display_data"
    },
    {
     "data": {
      "application/vnd.jupyter.widget-view+json": {
       "model_id": "fa477a7b0cab4fa48cae2e56370d8060",
       "version_major": 2,
       "version_minor": 0
      },
      "text/plain": [
       "Epoch 50/50 [Train]:   0%|          | 0/625 [00:00<?, ?it/s]"
      ]
     },
     "metadata": {},
     "output_type": "display_data"
    },
    {
     "data": {
      "application/vnd.jupyter.widget-view+json": {
       "model_id": "afa6aebc6be64a43ab851ff14e9189b1",
       "version_major": 2,
       "version_minor": 0
      },
      "text/plain": [
       "[Validate]:   0%|          | 0/157 [00:00<?, ?it/s]"
      ]
     },
     "metadata": {},
     "output_type": "display_data"
    },
    {
     "data": {
      "text/html": [],
      "text/plain": [
       "<IPython.core.display.HTML object>"
      ]
     },
     "metadata": {},
     "output_type": "display_data"
    },
    {
     "data": {
      "text/html": [
       "<br>    <style><br>        .wandb-row {<br>            display: flex;<br>            flex-direction: row;<br>            flex-wrap: wrap;<br>            justify-content: flex-start;<br>            width: 100%;<br>        }<br>        .wandb-col {<br>            display: flex;<br>            flex-direction: column;<br>            flex-basis: 100%;<br>            flex: 1;<br>            padding: 10px;<br>        }<br>    </style><br><div class=\"wandb-row\"><div class=\"wandb-col\"><h3>Run history:</h3><br/><table class=\"wandb\"><tr><td>epoch</td><td>▁▁▂▂▂▃▃▄▄▄▅▅▅▆▆▇▇▇██</td></tr><tr><td>lr</td><td>███▇▇▇▆▆▅▅▄▃▃▂▂▂▁▁▁▁</td></tr><tr><td>train_acc</td><td>▁▂▂▄▄▄▅▅▆▇▆▇▇▇▇█████</td></tr><tr><td>train_loss</td><td>█▇▇▆▆▅▄▄▃▃▂▂▂▂▂▁▁▁▁▁</td></tr><tr><td>val_acc</td><td>▁▁▂▄▁▁▂▄▃▄▇▅▇▆▅▆▂█▄▇</td></tr><tr><td>val_loss</td><td>▁▃▂▅▃▃█▅▅▁▄▅▅▅▆▅█▄▆▆</td></tr></table><br/></div><div class=\"wandb-col\"><h3>Run summary:</h3><br/><table class=\"wandb\"><tr><td>epoch</td><td>50</td></tr><tr><td>lr</td><td>0</td></tr><tr><td>train_acc</td><td>99.89</td></tr><tr><td>train_loss</td><td>0.78729</td></tr><tr><td>val_acc</td><td>64.84</td></tr><tr><td>val_loss</td><td>2.32938</td></tr></table><br/></div></div>"
      ],
      "text/plain": [
       "<IPython.core.display.HTML object>"
      ]
     },
     "metadata": {},
     "output_type": "display_data"
    },
    {
     "data": {
      "text/html": [
       " View run <strong style=\"color:#cdcd00\">ConvNeXtTiny Ep50</strong> at: <a href='https://wandb.ai/samritha-boston-university/sp25-ds542-challenge/runs/lkmgq7t4' target=\"_blank\">https://wandb.ai/samritha-boston-university/sp25-ds542-challenge/runs/lkmgq7t4</a><br> View project at: <a href='https://wandb.ai/samritha-boston-university/sp25-ds542-challenge' target=\"_blank\">https://wandb.ai/samritha-boston-university/sp25-ds542-challenge</a><br>Synced 5 W&B file(s), 0 media file(s), 0 artifact file(s) and 1 other file(s)"
      ],
      "text/plain": [
       "<IPython.core.display.HTML object>"
      ]
     },
     "metadata": {},
     "output_type": "display_data"
    },
    {
     "data": {
      "text/html": [
       "Find logs at: <code>./wandb/run-20250329_220349-lkmgq7t4/logs</code>"
      ],
      "text/plain": [
       "<IPython.core.display.HTML object>"
      ]
     },
     "metadata": {},
     "output_type": "display_data"
    },
    {
     "data": {
      "application/vnd.jupyter.widget-view+json": {
       "model_id": "8638d0b46e9d4bc49bbac8255f624eb9",
       "version_major": 2,
       "version_minor": 0
      },
      "text/plain": [
       "Evaluating on Clean Test Set:   0%|          | 0/157 [00:00<?, ?it/s]"
      ]
     },
     "metadata": {},
     "output_type": "display_data"
    },
    {
     "name": "stdout",
     "output_type": "stream",
     "text": [
      "Clean CIFAR-100 Test Accuracy (MC Dropout + T=1.5): 67.89%\n",
      "All files are already downloaded.\n"
     ]
    },
    {
     "data": {
      "application/vnd.jupyter.widget-view+json": {
       "model_id": "84d6d064bf5944daaed242681672835d",
       "version_major": 2,
       "version_minor": 0
      },
      "text/plain": [
       "Evaluating distortion00 (Severity 1):   0%|          | 0/157 [00:00<?, ?it/s]"
      ]
     },
     "metadata": {},
     "output_type": "display_data"
    },
    {
     "name": "stdout",
     "output_type": "stream",
     "text": [
      "distortion00 (Severity 1)\n"
     ]
    },
    {
     "data": {
      "application/vnd.jupyter.widget-view+json": {
       "model_id": "f0e5ef4f80544aed93a4362f24b8e620",
       "version_major": 2,
       "version_minor": 0
      },
      "text/plain": [
       "Evaluating distortion00 (Severity 2):   0%|          | 0/157 [00:00<?, ?it/s]"
      ]
     },
     "metadata": {},
     "output_type": "display_data"
    },
    {
     "name": "stdout",
     "output_type": "stream",
     "text": [
      "distortion00 (Severity 2)\n"
     ]
    },
    {
     "data": {
      "application/vnd.jupyter.widget-view+json": {
       "model_id": "0e98e6ebb3254caba2d3fc47a04ab119",
       "version_major": 2,
       "version_minor": 0
      },
      "text/plain": [
       "Evaluating distortion00 (Severity 3):   0%|          | 0/157 [00:00<?, ?it/s]"
      ]
     },
     "metadata": {},
     "output_type": "display_data"
    },
    {
     "name": "stdout",
     "output_type": "stream",
     "text": [
      "distortion00 (Severity 3)\n"
     ]
    },
    {
     "data": {
      "application/vnd.jupyter.widget-view+json": {
       "model_id": "7e4ace3b0e8c484e8575d47e9fd092af",
       "version_major": 2,
       "version_minor": 0
      },
      "text/plain": [
       "Evaluating distortion00 (Severity 4):   0%|          | 0/157 [00:00<?, ?it/s]"
      ]
     },
     "metadata": {},
     "output_type": "display_data"
    },
    {
     "name": "stdout",
     "output_type": "stream",
     "text": [
      "distortion00 (Severity 4)\n"
     ]
    },
    {
     "data": {
      "application/vnd.jupyter.widget-view+json": {
       "model_id": "0f573aed727e46d888e42b8329a779ac",
       "version_major": 2,
       "version_minor": 0
      },
      "text/plain": [
       "Evaluating distortion00 (Severity 5):   0%|          | 0/157 [00:00<?, ?it/s]"
      ]
     },
     "metadata": {},
     "output_type": "display_data"
    },
    {
     "name": "stdout",
     "output_type": "stream",
     "text": [
      "distortion00 (Severity 5)\n"
     ]
    },
    {
     "data": {
      "application/vnd.jupyter.widget-view+json": {
       "model_id": "9fd091eebcb8484991c95dd183a32e22",
       "version_major": 2,
       "version_minor": 0
      },
      "text/plain": [
       "Evaluating distortion01 (Severity 1):   0%|          | 0/157 [00:00<?, ?it/s]"
      ]
     },
     "metadata": {},
     "output_type": "display_data"
    },
    {
     "name": "stdout",
     "output_type": "stream",
     "text": [
      "distortion01 (Severity 1)\n"
     ]
    },
    {
     "data": {
      "application/vnd.jupyter.widget-view+json": {
       "model_id": "48f173e96b014478bfbf05531896011a",
       "version_major": 2,
       "version_minor": 0
      },
      "text/plain": [
       "Evaluating distortion01 (Severity 2):   0%|          | 0/157 [00:00<?, ?it/s]"
      ]
     },
     "metadata": {},
     "output_type": "display_data"
    },
    {
     "name": "stdout",
     "output_type": "stream",
     "text": [
      "distortion01 (Severity 2)\n"
     ]
    },
    {
     "data": {
      "application/vnd.jupyter.widget-view+json": {
       "model_id": "10ff2f32e0e24e3dad580a394ffb9135",
       "version_major": 2,
       "version_minor": 0
      },
      "text/plain": [
       "Evaluating distortion01 (Severity 3):   0%|          | 0/157 [00:00<?, ?it/s]"
      ]
     },
     "metadata": {},
     "output_type": "display_data"
    },
    {
     "name": "stdout",
     "output_type": "stream",
     "text": [
      "distortion01 (Severity 3)\n"
     ]
    },
    {
     "data": {
      "application/vnd.jupyter.widget-view+json": {
       "model_id": "369329484e174a30a891788df556dd10",
       "version_major": 2,
       "version_minor": 0
      },
      "text/plain": [
       "Evaluating distortion01 (Severity 4):   0%|          | 0/157 [00:00<?, ?it/s]"
      ]
     },
     "metadata": {},
     "output_type": "display_data"
    },
    {
     "name": "stdout",
     "output_type": "stream",
     "text": [
      "distortion01 (Severity 4)\n"
     ]
    },
    {
     "data": {
      "application/vnd.jupyter.widget-view+json": {
       "model_id": "0bf931e198204e8caef61152ed046021",
       "version_major": 2,
       "version_minor": 0
      },
      "text/plain": [
       "Evaluating distortion01 (Severity 5):   0%|          | 0/157 [00:00<?, ?it/s]"
      ]
     },
     "metadata": {},
     "output_type": "display_data"
    },
    {
     "name": "stdout",
     "output_type": "stream",
     "text": [
      "distortion01 (Severity 5)\n"
     ]
    },
    {
     "data": {
      "application/vnd.jupyter.widget-view+json": {
       "model_id": "94c0074c548141db93ab8dfd21b91614",
       "version_major": 2,
       "version_minor": 0
      },
      "text/plain": [
       "Evaluating distortion02 (Severity 1):   0%|          | 0/157 [00:00<?, ?it/s]"
      ]
     },
     "metadata": {},
     "output_type": "display_data"
    },
    {
     "name": "stdout",
     "output_type": "stream",
     "text": [
      "distortion02 (Severity 1)\n"
     ]
    },
    {
     "data": {
      "application/vnd.jupyter.widget-view+json": {
       "model_id": "97d84ea6003349299e6a775aa0c990d4",
       "version_major": 2,
       "version_minor": 0
      },
      "text/plain": [
       "Evaluating distortion02 (Severity 2):   0%|          | 0/157 [00:00<?, ?it/s]"
      ]
     },
     "metadata": {},
     "output_type": "display_data"
    },
    {
     "name": "stdout",
     "output_type": "stream",
     "text": [
      "distortion02 (Severity 2)\n"
     ]
    },
    {
     "data": {
      "application/vnd.jupyter.widget-view+json": {
       "model_id": "b09b58a762564f44b5ed10199bca4055",
       "version_major": 2,
       "version_minor": 0
      },
      "text/plain": [
       "Evaluating distortion02 (Severity 3):   0%|          | 0/157 [00:00<?, ?it/s]"
      ]
     },
     "metadata": {},
     "output_type": "display_data"
    },
    {
     "name": "stdout",
     "output_type": "stream",
     "text": [
      "distortion02 (Severity 3)\n"
     ]
    },
    {
     "data": {
      "application/vnd.jupyter.widget-view+json": {
       "model_id": "dd2b69edcb1540f3826db44b897517fa",
       "version_major": 2,
       "version_minor": 0
      },
      "text/plain": [
       "Evaluating distortion02 (Severity 4):   0%|          | 0/157 [00:00<?, ?it/s]"
      ]
     },
     "metadata": {},
     "output_type": "display_data"
    },
    {
     "name": "stdout",
     "output_type": "stream",
     "text": [
      "distortion02 (Severity 4)\n"
     ]
    },
    {
     "data": {
      "application/vnd.jupyter.widget-view+json": {
       "model_id": "5be4de11f77d4d46973b5adc5e73256d",
       "version_major": 2,
       "version_minor": 0
      },
      "text/plain": [
       "Evaluating distortion02 (Severity 5):   0%|          | 0/157 [00:00<?, ?it/s]"
      ]
     },
     "metadata": {},
     "output_type": "display_data"
    },
    {
     "name": "stdout",
     "output_type": "stream",
     "text": [
      "distortion02 (Severity 5)\n"
     ]
    },
    {
     "data": {
      "application/vnd.jupyter.widget-view+json": {
       "model_id": "f30e4c616fe847ceb77e441c6205b945",
       "version_major": 2,
       "version_minor": 0
      },
      "text/plain": [
       "Evaluating distortion03 (Severity 1):   0%|          | 0/157 [00:00<?, ?it/s]"
      ]
     },
     "metadata": {},
     "output_type": "display_data"
    },
    {
     "name": "stdout",
     "output_type": "stream",
     "text": [
      "distortion03 (Severity 1)\n"
     ]
    },
    {
     "data": {
      "application/vnd.jupyter.widget-view+json": {
       "model_id": "873a66b6f64b4ef692c1c36be539b9f6",
       "version_major": 2,
       "version_minor": 0
      },
      "text/plain": [
       "Evaluating distortion03 (Severity 2):   0%|          | 0/157 [00:00<?, ?it/s]"
      ]
     },
     "metadata": {},
     "output_type": "display_data"
    },
    {
     "name": "stdout",
     "output_type": "stream",
     "text": [
      "distortion03 (Severity 2)\n"
     ]
    },
    {
     "data": {
      "application/vnd.jupyter.widget-view+json": {
       "model_id": "d84b55b7fdb24b3ba71ef8bdf4b18781",
       "version_major": 2,
       "version_minor": 0
      },
      "text/plain": [
       "Evaluating distortion03 (Severity 3):   0%|          | 0/157 [00:00<?, ?it/s]"
      ]
     },
     "metadata": {},
     "output_type": "display_data"
    },
    {
     "name": "stdout",
     "output_type": "stream",
     "text": [
      "distortion03 (Severity 3)\n"
     ]
    },
    {
     "data": {
      "application/vnd.jupyter.widget-view+json": {
       "model_id": "9a423a3f006e41fdb67b04f20f2b0c13",
       "version_major": 2,
       "version_minor": 0
      },
      "text/plain": [
       "Evaluating distortion03 (Severity 4):   0%|          | 0/157 [00:00<?, ?it/s]"
      ]
     },
     "metadata": {},
     "output_type": "display_data"
    },
    {
     "name": "stdout",
     "output_type": "stream",
     "text": [
      "distortion03 (Severity 4)\n"
     ]
    },
    {
     "data": {
      "application/vnd.jupyter.widget-view+json": {
       "model_id": "d9cfd5f0b1cc470cbdcf32412655be1b",
       "version_major": 2,
       "version_minor": 0
      },
      "text/plain": [
       "Evaluating distortion03 (Severity 5):   0%|          | 0/157 [00:00<?, ?it/s]"
      ]
     },
     "metadata": {},
     "output_type": "display_data"
    },
    {
     "name": "stdout",
     "output_type": "stream",
     "text": [
      "distortion03 (Severity 5)\n"
     ]
    },
    {
     "data": {
      "application/vnd.jupyter.widget-view+json": {
       "model_id": "addcc52dd41b414a81c0e9c9bc6b40c8",
       "version_major": 2,
       "version_minor": 0
      },
      "text/plain": [
       "Evaluating distortion04 (Severity 1):   0%|          | 0/157 [00:00<?, ?it/s]"
      ]
     },
     "metadata": {},
     "output_type": "display_data"
    },
    {
     "name": "stdout",
     "output_type": "stream",
     "text": [
      "distortion04 (Severity 1)\n"
     ]
    },
    {
     "data": {
      "application/vnd.jupyter.widget-view+json": {
       "model_id": "3eeb62b622c14556be9ae4563b356ff6",
       "version_major": 2,
       "version_minor": 0
      },
      "text/plain": [
       "Evaluating distortion04 (Severity 2):   0%|          | 0/157 [00:00<?, ?it/s]"
      ]
     },
     "metadata": {},
     "output_type": "display_data"
    },
    {
     "name": "stdout",
     "output_type": "stream",
     "text": [
      "distortion04 (Severity 2)\n"
     ]
    },
    {
     "data": {
      "application/vnd.jupyter.widget-view+json": {
       "model_id": "ade391d6d1ad495081da5a82059bf8e7",
       "version_major": 2,
       "version_minor": 0
      },
      "text/plain": [
       "Evaluating distortion04 (Severity 3):   0%|          | 0/157 [00:00<?, ?it/s]"
      ]
     },
     "metadata": {},
     "output_type": "display_data"
    },
    {
     "name": "stdout",
     "output_type": "stream",
     "text": [
      "distortion04 (Severity 3)\n"
     ]
    },
    {
     "data": {
      "application/vnd.jupyter.widget-view+json": {
       "model_id": "6b7bd133ba854163bf843e12bb819d44",
       "version_major": 2,
       "version_minor": 0
      },
      "text/plain": [
       "Evaluating distortion04 (Severity 4):   0%|          | 0/157 [00:00<?, ?it/s]"
      ]
     },
     "metadata": {},
     "output_type": "display_data"
    },
    {
     "name": "stdout",
     "output_type": "stream",
     "text": [
      "distortion04 (Severity 4)\n"
     ]
    },
    {
     "data": {
      "application/vnd.jupyter.widget-view+json": {
       "model_id": "0feb03270d394002a002dce34a7c46fd",
       "version_major": 2,
       "version_minor": 0
      },
      "text/plain": [
       "Evaluating distortion04 (Severity 5):   0%|          | 0/157 [00:00<?, ?it/s]"
      ]
     },
     "metadata": {},
     "output_type": "display_data"
    },
    {
     "name": "stdout",
     "output_type": "stream",
     "text": [
      "distortion04 (Severity 5)\n"
     ]
    },
    {
     "data": {
      "application/vnd.jupyter.widget-view+json": {
       "model_id": "3a104a3abf994a61976da6ca653c102f",
       "version_major": 2,
       "version_minor": 0
      },
      "text/plain": [
       "Evaluating distortion05 (Severity 1):   0%|          | 0/157 [00:00<?, ?it/s]"
      ]
     },
     "metadata": {},
     "output_type": "display_data"
    },
    {
     "name": "stdout",
     "output_type": "stream",
     "text": [
      "distortion05 (Severity 1)\n"
     ]
    },
    {
     "data": {
      "application/vnd.jupyter.widget-view+json": {
       "model_id": "13896b4c4a8e4c189b8c531cd2a17385",
       "version_major": 2,
       "version_minor": 0
      },
      "text/plain": [
       "Evaluating distortion05 (Severity 2):   0%|          | 0/157 [00:00<?, ?it/s]"
      ]
     },
     "metadata": {},
     "output_type": "display_data"
    },
    {
     "name": "stdout",
     "output_type": "stream",
     "text": [
      "distortion05 (Severity 2)\n"
     ]
    },
    {
     "data": {
      "application/vnd.jupyter.widget-view+json": {
       "model_id": "6de8004806164f1fa53320727cd30485",
       "version_major": 2,
       "version_minor": 0
      },
      "text/plain": [
       "Evaluating distortion05 (Severity 3):   0%|          | 0/157 [00:00<?, ?it/s]"
      ]
     },
     "metadata": {},
     "output_type": "display_data"
    },
    {
     "name": "stdout",
     "output_type": "stream",
     "text": [
      "distortion05 (Severity 3)\n"
     ]
    },
    {
     "data": {
      "application/vnd.jupyter.widget-view+json": {
       "model_id": "f5f2cefb2e5547e08404999c01b6307d",
       "version_major": 2,
       "version_minor": 0
      },
      "text/plain": [
       "Evaluating distortion05 (Severity 4):   0%|          | 0/157 [00:00<?, ?it/s]"
      ]
     },
     "metadata": {},
     "output_type": "display_data"
    },
    {
     "name": "stdout",
     "output_type": "stream",
     "text": [
      "distortion05 (Severity 4)\n"
     ]
    },
    {
     "data": {
      "application/vnd.jupyter.widget-view+json": {
       "model_id": "431112bc321f43f0a13f5b4272665837",
       "version_major": 2,
       "version_minor": 0
      },
      "text/plain": [
       "Evaluating distortion05 (Severity 5):   0%|          | 0/157 [00:00<?, ?it/s]"
      ]
     },
     "metadata": {},
     "output_type": "display_data"
    },
    {
     "name": "stdout",
     "output_type": "stream",
     "text": [
      "distortion05 (Severity 5)\n"
     ]
    },
    {
     "data": {
      "application/vnd.jupyter.widget-view+json": {
       "model_id": "9b6727337ab346938aaed7ec1ae739f4",
       "version_major": 2,
       "version_minor": 0
      },
      "text/plain": [
       "Evaluating distortion06 (Severity 1):   0%|          | 0/157 [00:00<?, ?it/s]"
      ]
     },
     "metadata": {},
     "output_type": "display_data"
    },
    {
     "name": "stdout",
     "output_type": "stream",
     "text": [
      "distortion06 (Severity 1)\n"
     ]
    },
    {
     "data": {
      "application/vnd.jupyter.widget-view+json": {
       "model_id": "7b81fdff69f64ec2bbde987e0130d583",
       "version_major": 2,
       "version_minor": 0
      },
      "text/plain": [
       "Evaluating distortion06 (Severity 2):   0%|          | 0/157 [00:00<?, ?it/s]"
      ]
     },
     "metadata": {},
     "output_type": "display_data"
    },
    {
     "name": "stdout",
     "output_type": "stream",
     "text": [
      "distortion06 (Severity 2)\n"
     ]
    },
    {
     "data": {
      "application/vnd.jupyter.widget-view+json": {
       "model_id": "9051337bb4154c0b823689efa546db22",
       "version_major": 2,
       "version_minor": 0
      },
      "text/plain": [
       "Evaluating distortion06 (Severity 3):   0%|          | 0/157 [00:00<?, ?it/s]"
      ]
     },
     "metadata": {},
     "output_type": "display_data"
    },
    {
     "name": "stdout",
     "output_type": "stream",
     "text": [
      "distortion06 (Severity 3)\n"
     ]
    },
    {
     "data": {
      "application/vnd.jupyter.widget-view+json": {
       "model_id": "a61eb869baf745b7b6e821f5d1135e13",
       "version_major": 2,
       "version_minor": 0
      },
      "text/plain": [
       "Evaluating distortion06 (Severity 4):   0%|          | 0/157 [00:00<?, ?it/s]"
      ]
     },
     "metadata": {},
     "output_type": "display_data"
    },
    {
     "name": "stdout",
     "output_type": "stream",
     "text": [
      "distortion06 (Severity 4)\n"
     ]
    },
    {
     "data": {
      "application/vnd.jupyter.widget-view+json": {
       "model_id": "04ea5922aa0c4e98bc9581536345c98f",
       "version_major": 2,
       "version_minor": 0
      },
      "text/plain": [
       "Evaluating distortion06 (Severity 5):   0%|          | 0/157 [00:00<?, ?it/s]"
      ]
     },
     "metadata": {},
     "output_type": "display_data"
    },
    {
     "name": "stdout",
     "output_type": "stream",
     "text": [
      "distortion06 (Severity 5)\n"
     ]
    },
    {
     "data": {
      "application/vnd.jupyter.widget-view+json": {
       "model_id": "14e92035210d488ab93a3671322ae172",
       "version_major": 2,
       "version_minor": 0
      },
      "text/plain": [
       "Evaluating distortion07 (Severity 1):   0%|          | 0/157 [00:00<?, ?it/s]"
      ]
     },
     "metadata": {},
     "output_type": "display_data"
    },
    {
     "name": "stdout",
     "output_type": "stream",
     "text": [
      "distortion07 (Severity 1)\n"
     ]
    },
    {
     "data": {
      "application/vnd.jupyter.widget-view+json": {
       "model_id": "51ad663f005f44c5aae45cb031f6ce25",
       "version_major": 2,
       "version_minor": 0
      },
      "text/plain": [
       "Evaluating distortion07 (Severity 2):   0%|          | 0/157 [00:00<?, ?it/s]"
      ]
     },
     "metadata": {},
     "output_type": "display_data"
    },
    {
     "name": "stdout",
     "output_type": "stream",
     "text": [
      "distortion07 (Severity 2)\n"
     ]
    },
    {
     "data": {
      "application/vnd.jupyter.widget-view+json": {
       "model_id": "bc7ca9fe2abe44b3bae95b239d2e827e",
       "version_major": 2,
       "version_minor": 0
      },
      "text/plain": [
       "Evaluating distortion07 (Severity 3):   0%|          | 0/157 [00:00<?, ?it/s]"
      ]
     },
     "metadata": {},
     "output_type": "display_data"
    },
    {
     "name": "stdout",
     "output_type": "stream",
     "text": [
      "distortion07 (Severity 3)\n"
     ]
    },
    {
     "data": {
      "application/vnd.jupyter.widget-view+json": {
       "model_id": "c5dd42dee4d34ce787cdac389e0501f3",
       "version_major": 2,
       "version_minor": 0
      },
      "text/plain": [
       "Evaluating distortion07 (Severity 4):   0%|          | 0/157 [00:00<?, ?it/s]"
      ]
     },
     "metadata": {},
     "output_type": "display_data"
    },
    {
     "name": "stdout",
     "output_type": "stream",
     "text": [
      "distortion07 (Severity 4)\n"
     ]
    },
    {
     "data": {
      "application/vnd.jupyter.widget-view+json": {
       "model_id": "d031f70126bc4b57bd48070c0b34f645",
       "version_major": 2,
       "version_minor": 0
      },
      "text/plain": [
       "Evaluating distortion07 (Severity 5):   0%|          | 0/157 [00:00<?, ?it/s]"
      ]
     },
     "metadata": {},
     "output_type": "display_data"
    },
    {
     "name": "stdout",
     "output_type": "stream",
     "text": [
      "distortion07 (Severity 5)\n"
     ]
    },
    {
     "data": {
      "application/vnd.jupyter.widget-view+json": {
       "model_id": "509e2913f9b94df5b8fa7a6f24964738",
       "version_major": 2,
       "version_minor": 0
      },
      "text/plain": [
       "Evaluating distortion08 (Severity 1):   0%|          | 0/157 [00:00<?, ?it/s]"
      ]
     },
     "metadata": {},
     "output_type": "display_data"
    },
    {
     "name": "stdout",
     "output_type": "stream",
     "text": [
      "distortion08 (Severity 1)\n"
     ]
    },
    {
     "data": {
      "application/vnd.jupyter.widget-view+json": {
       "model_id": "c38eadc4f0a04b07bf9cce0445868c00",
       "version_major": 2,
       "version_minor": 0
      },
      "text/plain": [
       "Evaluating distortion08 (Severity 2):   0%|          | 0/157 [00:00<?, ?it/s]"
      ]
     },
     "metadata": {},
     "output_type": "display_data"
    },
    {
     "name": "stdout",
     "output_type": "stream",
     "text": [
      "distortion08 (Severity 2)\n"
     ]
    },
    {
     "data": {
      "application/vnd.jupyter.widget-view+json": {
       "model_id": "bd07e26488d64f22a6b3025e62bb7ac7",
       "version_major": 2,
       "version_minor": 0
      },
      "text/plain": [
       "Evaluating distortion08 (Severity 3):   0%|          | 0/157 [00:00<?, ?it/s]"
      ]
     },
     "metadata": {},
     "output_type": "display_data"
    },
    {
     "name": "stdout",
     "output_type": "stream",
     "text": [
      "distortion08 (Severity 3)\n"
     ]
    },
    {
     "data": {
      "application/vnd.jupyter.widget-view+json": {
       "model_id": "9be674b543e046499c219e14ff204974",
       "version_major": 2,
       "version_minor": 0
      },
      "text/plain": [
       "Evaluating distortion08 (Severity 4):   0%|          | 0/157 [00:00<?, ?it/s]"
      ]
     },
     "metadata": {},
     "output_type": "display_data"
    },
    {
     "name": "stdout",
     "output_type": "stream",
     "text": [
      "distortion08 (Severity 4)\n"
     ]
    },
    {
     "data": {
      "application/vnd.jupyter.widget-view+json": {
       "model_id": "1b92cd41a7a54ccd9c05612a27c332fd",
       "version_major": 2,
       "version_minor": 0
      },
      "text/plain": [
       "Evaluating distortion08 (Severity 5):   0%|          | 0/157 [00:00<?, ?it/s]"
      ]
     },
     "metadata": {},
     "output_type": "display_data"
    },
    {
     "name": "stdout",
     "output_type": "stream",
     "text": [
      "distortion08 (Severity 5)\n"
     ]
    },
    {
     "data": {
      "application/vnd.jupyter.widget-view+json": {
       "model_id": "e5f30dbb57a5453eb6f59350e4d0046b",
       "version_major": 2,
       "version_minor": 0
      },
      "text/plain": [
       "Evaluating distortion09 (Severity 1):   0%|          | 0/157 [00:00<?, ?it/s]"
      ]
     },
     "metadata": {},
     "output_type": "display_data"
    },
    {
     "name": "stdout",
     "output_type": "stream",
     "text": [
      "distortion09 (Severity 1)\n"
     ]
    },
    {
     "data": {
      "application/vnd.jupyter.widget-view+json": {
       "model_id": "313ab49784b840b2b7d61f13a5f7f18d",
       "version_major": 2,
       "version_minor": 0
      },
      "text/plain": [
       "Evaluating distortion09 (Severity 2):   0%|          | 0/157 [00:00<?, ?it/s]"
      ]
     },
     "metadata": {},
     "output_type": "display_data"
    },
    {
     "name": "stdout",
     "output_type": "stream",
     "text": [
      "distortion09 (Severity 2)\n"
     ]
    },
    {
     "data": {
      "application/vnd.jupyter.widget-view+json": {
       "model_id": "6ea410978b41406f9f8e04ee65185a6a",
       "version_major": 2,
       "version_minor": 0
      },
      "text/plain": [
       "Evaluating distortion09 (Severity 3):   0%|          | 0/157 [00:00<?, ?it/s]"
      ]
     },
     "metadata": {},
     "output_type": "display_data"
    },
    {
     "name": "stdout",
     "output_type": "stream",
     "text": [
      "distortion09 (Severity 3)\n"
     ]
    },
    {
     "data": {
      "application/vnd.jupyter.widget-view+json": {
       "model_id": "2776eb4debbe4392b6eb1307878eb656",
       "version_major": 2,
       "version_minor": 0
      },
      "text/plain": [
       "Evaluating distortion09 (Severity 4):   0%|          | 0/157 [00:00<?, ?it/s]"
      ]
     },
     "metadata": {},
     "output_type": "display_data"
    },
    {
     "name": "stdout",
     "output_type": "stream",
     "text": [
      "distortion09 (Severity 4)\n"
     ]
    },
    {
     "data": {
      "application/vnd.jupyter.widget-view+json": {
       "model_id": "0212ea9e61c845bd8bb872bbf62b86d0",
       "version_major": 2,
       "version_minor": 0
      },
      "text/plain": [
       "Evaluating distortion09 (Severity 5):   0%|          | 0/157 [00:00<?, ?it/s]"
      ]
     },
     "metadata": {},
     "output_type": "display_data"
    },
    {
     "name": "stdout",
     "output_type": "stream",
     "text": [
      "distortion09 (Severity 5)\n"
     ]
    },
    {
     "data": {
      "application/vnd.jupyter.widget-view+json": {
       "model_id": "f3673985d5804ec0b872a04d3e12daf6",
       "version_major": 2,
       "version_minor": 0
      },
      "text/plain": [
       "Evaluating distortion10 (Severity 1):   0%|          | 0/157 [00:00<?, ?it/s]"
      ]
     },
     "metadata": {},
     "output_type": "display_data"
    },
    {
     "name": "stdout",
     "output_type": "stream",
     "text": [
      "distortion10 (Severity 1)\n"
     ]
    },
    {
     "data": {
      "application/vnd.jupyter.widget-view+json": {
       "model_id": "de2912f9634941798b6bd1f2011266b9",
       "version_major": 2,
       "version_minor": 0
      },
      "text/plain": [
       "Evaluating distortion10 (Severity 2):   0%|          | 0/157 [00:00<?, ?it/s]"
      ]
     },
     "metadata": {},
     "output_type": "display_data"
    },
    {
     "name": "stdout",
     "output_type": "stream",
     "text": [
      "distortion10 (Severity 2)\n"
     ]
    },
    {
     "data": {
      "application/vnd.jupyter.widget-view+json": {
       "model_id": "178a357d84fe4356adb929ba30bddb0c",
       "version_major": 2,
       "version_minor": 0
      },
      "text/plain": [
       "Evaluating distortion10 (Severity 3):   0%|          | 0/157 [00:00<?, ?it/s]"
      ]
     },
     "metadata": {},
     "output_type": "display_data"
    },
    {
     "name": "stdout",
     "output_type": "stream",
     "text": [
      "distortion10 (Severity 3)\n"
     ]
    },
    {
     "data": {
      "application/vnd.jupyter.widget-view+json": {
       "model_id": "38ad778314e743269345afe6cfbd1a58",
       "version_major": 2,
       "version_minor": 0
      },
      "text/plain": [
       "Evaluating distortion10 (Severity 4):   0%|          | 0/157 [00:00<?, ?it/s]"
      ]
     },
     "metadata": {},
     "output_type": "display_data"
    },
    {
     "name": "stdout",
     "output_type": "stream",
     "text": [
      "distortion10 (Severity 4)\n"
     ]
    },
    {
     "data": {
      "application/vnd.jupyter.widget-view+json": {
       "model_id": "7bdf6a68238b4579b78fba7e0ea70877",
       "version_major": 2,
       "version_minor": 0
      },
      "text/plain": [
       "Evaluating distortion10 (Severity 5):   0%|          | 0/157 [00:00<?, ?it/s]"
      ]
     },
     "metadata": {},
     "output_type": "display_data"
    },
    {
     "name": "stdout",
     "output_type": "stream",
     "text": [
      "distortion10 (Severity 5)\n"
     ]
    },
    {
     "data": {
      "application/vnd.jupyter.widget-view+json": {
       "model_id": "0c5e93a93fad408d8ade8b4b4029d453",
       "version_major": 2,
       "version_minor": 0
      },
      "text/plain": [
       "Evaluating distortion11 (Severity 1):   0%|          | 0/157 [00:00<?, ?it/s]"
      ]
     },
     "metadata": {},
     "output_type": "display_data"
    },
    {
     "name": "stdout",
     "output_type": "stream",
     "text": [
      "distortion11 (Severity 1)\n"
     ]
    },
    {
     "data": {
      "application/vnd.jupyter.widget-view+json": {
       "model_id": "8e02bb99431542818bd50dbebde59dec",
       "version_major": 2,
       "version_minor": 0
      },
      "text/plain": [
       "Evaluating distortion11 (Severity 2):   0%|          | 0/157 [00:00<?, ?it/s]"
      ]
     },
     "metadata": {},
     "output_type": "display_data"
    },
    {
     "name": "stdout",
     "output_type": "stream",
     "text": [
      "distortion11 (Severity 2)\n"
     ]
    },
    {
     "data": {
      "application/vnd.jupyter.widget-view+json": {
       "model_id": "59f9295735cb47f3982b34bf66da379e",
       "version_major": 2,
       "version_minor": 0
      },
      "text/plain": [
       "Evaluating distortion11 (Severity 3):   0%|          | 0/157 [00:00<?, ?it/s]"
      ]
     },
     "metadata": {},
     "output_type": "display_data"
    },
    {
     "name": "stdout",
     "output_type": "stream",
     "text": [
      "distortion11 (Severity 3)\n"
     ]
    },
    {
     "data": {
      "application/vnd.jupyter.widget-view+json": {
       "model_id": "a20d346cc5624302bb24549b46ac2cb9",
       "version_major": 2,
       "version_minor": 0
      },
      "text/plain": [
       "Evaluating distortion11 (Severity 4):   0%|          | 0/157 [00:00<?, ?it/s]"
      ]
     },
     "metadata": {},
     "output_type": "display_data"
    },
    {
     "name": "stdout",
     "output_type": "stream",
     "text": [
      "distortion11 (Severity 4)\n"
     ]
    },
    {
     "data": {
      "application/vnd.jupyter.widget-view+json": {
       "model_id": "ef4a6844c79749a0b84561e7731cc151",
       "version_major": 2,
       "version_minor": 0
      },
      "text/plain": [
       "Evaluating distortion11 (Severity 5):   0%|          | 0/157 [00:00<?, ?it/s]"
      ]
     },
     "metadata": {},
     "output_type": "display_data"
    },
    {
     "name": "stdout",
     "output_type": "stream",
     "text": [
      "distortion11 (Severity 5)\n"
     ]
    },
    {
     "data": {
      "application/vnd.jupyter.widget-view+json": {
       "model_id": "152282c3f7d34e77bafb361686a7f5b3",
       "version_major": 2,
       "version_minor": 0
      },
      "text/plain": [
       "Evaluating distortion12 (Severity 1):   0%|          | 0/157 [00:00<?, ?it/s]"
      ]
     },
     "metadata": {},
     "output_type": "display_data"
    },
    {
     "name": "stdout",
     "output_type": "stream",
     "text": [
      "distortion12 (Severity 1)\n"
     ]
    },
    {
     "data": {
      "application/vnd.jupyter.widget-view+json": {
       "model_id": "cb7f6d1ab3a84374bd918c7f4337e81b",
       "version_major": 2,
       "version_minor": 0
      },
      "text/plain": [
       "Evaluating distortion12 (Severity 2):   0%|          | 0/157 [00:00<?, ?it/s]"
      ]
     },
     "metadata": {},
     "output_type": "display_data"
    },
    {
     "name": "stdout",
     "output_type": "stream",
     "text": [
      "distortion12 (Severity 2)\n"
     ]
    },
    {
     "data": {
      "application/vnd.jupyter.widget-view+json": {
       "model_id": "fe01a5b5d0ac4081b49c1731ff8b47e7",
       "version_major": 2,
       "version_minor": 0
      },
      "text/plain": [
       "Evaluating distortion12 (Severity 3):   0%|          | 0/157 [00:00<?, ?it/s]"
      ]
     },
     "metadata": {},
     "output_type": "display_data"
    },
    {
     "name": "stdout",
     "output_type": "stream",
     "text": [
      "distortion12 (Severity 3)\n"
     ]
    },
    {
     "data": {
      "application/vnd.jupyter.widget-view+json": {
       "model_id": "31d384bfca144ea6adf24202662b5c3b",
       "version_major": 2,
       "version_minor": 0
      },
      "text/plain": [
       "Evaluating distortion12 (Severity 4):   0%|          | 0/157 [00:00<?, ?it/s]"
      ]
     },
     "metadata": {},
     "output_type": "display_data"
    },
    {
     "name": "stdout",
     "output_type": "stream",
     "text": [
      "distortion12 (Severity 4)\n"
     ]
    },
    {
     "data": {
      "application/vnd.jupyter.widget-view+json": {
       "model_id": "62dbe70177d5420f9b3a2e5d481f27a8",
       "version_major": 2,
       "version_minor": 0
      },
      "text/plain": [
       "Evaluating distortion12 (Severity 5):   0%|          | 0/157 [00:00<?, ?it/s]"
      ]
     },
     "metadata": {},
     "output_type": "display_data"
    },
    {
     "name": "stdout",
     "output_type": "stream",
     "text": [
      "distortion12 (Severity 5)\n"
     ]
    },
    {
     "data": {
      "application/vnd.jupyter.widget-view+json": {
       "model_id": "5acfa78dc4fa4e60b3ffe99cc20d9dbe",
       "version_major": 2,
       "version_minor": 0
      },
      "text/plain": [
       "Evaluating distortion13 (Severity 1):   0%|          | 0/157 [00:00<?, ?it/s]"
      ]
     },
     "metadata": {},
     "output_type": "display_data"
    },
    {
     "name": "stdout",
     "output_type": "stream",
     "text": [
      "distortion13 (Severity 1)\n"
     ]
    },
    {
     "data": {
      "application/vnd.jupyter.widget-view+json": {
       "model_id": "eb76834e43b640fcb83b0d23b09c15d6",
       "version_major": 2,
       "version_minor": 0
      },
      "text/plain": [
       "Evaluating distortion13 (Severity 2):   0%|          | 0/157 [00:00<?, ?it/s]"
      ]
     },
     "metadata": {},
     "output_type": "display_data"
    },
    {
     "name": "stdout",
     "output_type": "stream",
     "text": [
      "distortion13 (Severity 2)\n"
     ]
    },
    {
     "data": {
      "application/vnd.jupyter.widget-view+json": {
       "model_id": "c6f47a0328e84a4bb65a060dca514aa3",
       "version_major": 2,
       "version_minor": 0
      },
      "text/plain": [
       "Evaluating distortion13 (Severity 3):   0%|          | 0/157 [00:00<?, ?it/s]"
      ]
     },
     "metadata": {},
     "output_type": "display_data"
    },
    {
     "name": "stdout",
     "output_type": "stream",
     "text": [
      "distortion13 (Severity 3)\n"
     ]
    },
    {
     "data": {
      "application/vnd.jupyter.widget-view+json": {
       "model_id": "b6f8b25904c74ede874c9db2748e7f0b",
       "version_major": 2,
       "version_minor": 0
      },
      "text/plain": [
       "Evaluating distortion13 (Severity 4):   0%|          | 0/157 [00:00<?, ?it/s]"
      ]
     },
     "metadata": {},
     "output_type": "display_data"
    },
    {
     "name": "stdout",
     "output_type": "stream",
     "text": [
      "distortion13 (Severity 4)\n"
     ]
    },
    {
     "data": {
      "application/vnd.jupyter.widget-view+json": {
       "model_id": "d59ee801f22045f4865160a33c92a15e",
       "version_major": 2,
       "version_minor": 0
      },
      "text/plain": [
       "Evaluating distortion13 (Severity 5):   0%|          | 0/157 [00:00<?, ?it/s]"
      ]
     },
     "metadata": {},
     "output_type": "display_data"
    },
    {
     "name": "stdout",
     "output_type": "stream",
     "text": [
      "distortion13 (Severity 5)\n"
     ]
    },
    {
     "data": {
      "application/vnd.jupyter.widget-view+json": {
       "model_id": "d53a7f64078f4f5c8e590283fc215d61",
       "version_major": 2,
       "version_minor": 0
      },
      "text/plain": [
       "Evaluating distortion14 (Severity 1):   0%|          | 0/157 [00:00<?, ?it/s]"
      ]
     },
     "metadata": {},
     "output_type": "display_data"
    },
    {
     "name": "stdout",
     "output_type": "stream",
     "text": [
      "distortion14 (Severity 1)\n"
     ]
    },
    {
     "data": {
      "application/vnd.jupyter.widget-view+json": {
       "model_id": "65f2cd68cdde44409bc5b88c1295cd60",
       "version_major": 2,
       "version_minor": 0
      },
      "text/plain": [
       "Evaluating distortion14 (Severity 2):   0%|          | 0/157 [00:00<?, ?it/s]"
      ]
     },
     "metadata": {},
     "output_type": "display_data"
    },
    {
     "name": "stdout",
     "output_type": "stream",
     "text": [
      "distortion14 (Severity 2)\n"
     ]
    },
    {
     "data": {
      "application/vnd.jupyter.widget-view+json": {
       "model_id": "419a4381ed9546fabd1787f9f593129f",
       "version_major": 2,
       "version_minor": 0
      },
      "text/plain": [
       "Evaluating distortion14 (Severity 3):   0%|          | 0/157 [00:00<?, ?it/s]"
      ]
     },
     "metadata": {},
     "output_type": "display_data"
    },
    {
     "name": "stdout",
     "output_type": "stream",
     "text": [
      "distortion14 (Severity 3)\n"
     ]
    },
    {
     "data": {
      "application/vnd.jupyter.widget-view+json": {
       "model_id": "2c5aea50cf5048aeb9b6cb3db0f533a9",
       "version_major": 2,
       "version_minor": 0
      },
      "text/plain": [
       "Evaluating distortion14 (Severity 4):   0%|          | 0/157 [00:00<?, ?it/s]"
      ]
     },
     "metadata": {},
     "output_type": "display_data"
    },
    {
     "name": "stdout",
     "output_type": "stream",
     "text": [
      "distortion14 (Severity 4)\n"
     ]
    },
    {
     "data": {
      "application/vnd.jupyter.widget-view+json": {
       "model_id": "bed57a924fa94389966dbfe3ac30bbe5",
       "version_major": 2,
       "version_minor": 0
      },
      "text/plain": [
       "Evaluating distortion14 (Severity 5):   0%|          | 0/157 [00:00<?, ?it/s]"
      ]
     },
     "metadata": {},
     "output_type": "display_data"
    },
    {
     "name": "stdout",
     "output_type": "stream",
     "text": [
      "distortion14 (Severity 5)\n"
     ]
    },
    {
     "data": {
      "application/vnd.jupyter.widget-view+json": {
       "model_id": "7bc54a3dedb6447e96a46285c02815d2",
       "version_major": 2,
       "version_minor": 0
      },
      "text/plain": [
       "Evaluating distortion15 (Severity 1):   0%|          | 0/157 [00:00<?, ?it/s]"
      ]
     },
     "metadata": {},
     "output_type": "display_data"
    },
    {
     "name": "stdout",
     "output_type": "stream",
     "text": [
      "distortion15 (Severity 1)\n"
     ]
    },
    {
     "data": {
      "application/vnd.jupyter.widget-view+json": {
       "model_id": "5ad724f4466047c1b1316984af130d2e",
       "version_major": 2,
       "version_minor": 0
      },
      "text/plain": [
       "Evaluating distortion15 (Severity 2):   0%|          | 0/157 [00:00<?, ?it/s]"
      ]
     },
     "metadata": {},
     "output_type": "display_data"
    },
    {
     "name": "stdout",
     "output_type": "stream",
     "text": [
      "distortion15 (Severity 2)\n"
     ]
    },
    {
     "data": {
      "application/vnd.jupyter.widget-view+json": {
       "model_id": "4bfa95f5e8364dbaa557f6ad50e0bc14",
       "version_major": 2,
       "version_minor": 0
      },
      "text/plain": [
       "Evaluating distortion15 (Severity 3):   0%|          | 0/157 [00:00<?, ?it/s]"
      ]
     },
     "metadata": {},
     "output_type": "display_data"
    },
    {
     "name": "stdout",
     "output_type": "stream",
     "text": [
      "distortion15 (Severity 3)\n"
     ]
    },
    {
     "data": {
      "application/vnd.jupyter.widget-view+json": {
       "model_id": "889e8035456b435ca90ac197baef197b",
       "version_major": 2,
       "version_minor": 0
      },
      "text/plain": [
       "Evaluating distortion15 (Severity 4):   0%|          | 0/157 [00:00<?, ?it/s]"
      ]
     },
     "metadata": {},
     "output_type": "display_data"
    },
    {
     "name": "stdout",
     "output_type": "stream",
     "text": [
      "distortion15 (Severity 4)\n"
     ]
    },
    {
     "data": {
      "application/vnd.jupyter.widget-view+json": {
       "model_id": "95f88f2d42ee4142a0321c6f54e1ac10",
       "version_major": 2,
       "version_minor": 0
      },
      "text/plain": [
       "Evaluating distortion15 (Severity 5):   0%|          | 0/157 [00:00<?, ?it/s]"
      ]
     },
     "metadata": {},
     "output_type": "display_data"
    },
    {
     "name": "stdout",
     "output_type": "stream",
     "text": [
      "distortion15 (Severity 5)\n"
     ]
    },
    {
     "data": {
      "application/vnd.jupyter.widget-view+json": {
       "model_id": "60b14101ab56487f9e2ed549a382c114",
       "version_major": 2,
       "version_minor": 0
      },
      "text/plain": [
       "Evaluating distortion16 (Severity 1):   0%|          | 0/157 [00:00<?, ?it/s]"
      ]
     },
     "metadata": {},
     "output_type": "display_data"
    },
    {
     "name": "stdout",
     "output_type": "stream",
     "text": [
      "distortion16 (Severity 1)\n"
     ]
    },
    {
     "data": {
      "application/vnd.jupyter.widget-view+json": {
       "model_id": "a953bc076add4c09acca0899f7c83c8b",
       "version_major": 2,
       "version_minor": 0
      },
      "text/plain": [
       "Evaluating distortion16 (Severity 2):   0%|          | 0/157 [00:00<?, ?it/s]"
      ]
     },
     "metadata": {},
     "output_type": "display_data"
    },
    {
     "name": "stdout",
     "output_type": "stream",
     "text": [
      "distortion16 (Severity 2)\n"
     ]
    },
    {
     "data": {
      "application/vnd.jupyter.widget-view+json": {
       "model_id": "6cfd1a8d0e2f4b3787bde3dc17fbb063",
       "version_major": 2,
       "version_minor": 0
      },
      "text/plain": [
       "Evaluating distortion16 (Severity 3):   0%|          | 0/157 [00:00<?, ?it/s]"
      ]
     },
     "metadata": {},
     "output_type": "display_data"
    },
    {
     "name": "stdout",
     "output_type": "stream",
     "text": [
      "distortion16 (Severity 3)\n"
     ]
    },
    {
     "data": {
      "application/vnd.jupyter.widget-view+json": {
       "model_id": "3330d7a9acb74ef094719d5dcc7d6b75",
       "version_major": 2,
       "version_minor": 0
      },
      "text/plain": [
       "Evaluating distortion16 (Severity 4):   0%|          | 0/157 [00:00<?, ?it/s]"
      ]
     },
     "metadata": {},
     "output_type": "display_data"
    },
    {
     "name": "stdout",
     "output_type": "stream",
     "text": [
      "distortion16 (Severity 4)\n"
     ]
    },
    {
     "data": {
      "application/vnd.jupyter.widget-view+json": {
       "model_id": "f6847ae732f34f39be62c31c4fd56a36",
       "version_major": 2,
       "version_minor": 0
      },
      "text/plain": [
       "Evaluating distortion16 (Severity 5):   0%|          | 0/157 [00:00<?, ?it/s]"
      ]
     },
     "metadata": {},
     "output_type": "display_data"
    },
    {
     "name": "stdout",
     "output_type": "stream",
     "text": [
      "distortion16 (Severity 5)\n"
     ]
    },
    {
     "data": {
      "application/vnd.jupyter.widget-view+json": {
       "model_id": "c09ec295608d4d95beaa7915fbb45dfa",
       "version_major": 2,
       "version_minor": 0
      },
      "text/plain": [
       "Evaluating distortion17 (Severity 1):   0%|          | 0/157 [00:00<?, ?it/s]"
      ]
     },
     "metadata": {},
     "output_type": "display_data"
    },
    {
     "name": "stdout",
     "output_type": "stream",
     "text": [
      "distortion17 (Severity 1)\n"
     ]
    },
    {
     "data": {
      "application/vnd.jupyter.widget-view+json": {
       "model_id": "1281e9eea89044ccab75f6cd20605372",
       "version_major": 2,
       "version_minor": 0
      },
      "text/plain": [
       "Evaluating distortion17 (Severity 2):   0%|          | 0/157 [00:00<?, ?it/s]"
      ]
     },
     "metadata": {},
     "output_type": "display_data"
    },
    {
     "name": "stdout",
     "output_type": "stream",
     "text": [
      "distortion17 (Severity 2)\n"
     ]
    },
    {
     "data": {
      "application/vnd.jupyter.widget-view+json": {
       "model_id": "28bf6caa47ee4badb67e43ba3ca1caf8",
       "version_major": 2,
       "version_minor": 0
      },
      "text/plain": [
       "Evaluating distortion17 (Severity 3):   0%|          | 0/157 [00:00<?, ?it/s]"
      ]
     },
     "metadata": {},
     "output_type": "display_data"
    },
    {
     "name": "stdout",
     "output_type": "stream",
     "text": [
      "distortion17 (Severity 3)\n"
     ]
    },
    {
     "data": {
      "application/vnd.jupyter.widget-view+json": {
       "model_id": "123482376f344668a68fb48839cc5e34",
       "version_major": 2,
       "version_minor": 0
      },
      "text/plain": [
       "Evaluating distortion17 (Severity 4):   0%|          | 0/157 [00:00<?, ?it/s]"
      ]
     },
     "metadata": {},
     "output_type": "display_data"
    },
    {
     "name": "stdout",
     "output_type": "stream",
     "text": [
      "distortion17 (Severity 4)\n"
     ]
    },
    {
     "data": {
      "application/vnd.jupyter.widget-view+json": {
       "model_id": "a05cdf21c1df45049896719fb1e24d4b",
       "version_major": 2,
       "version_minor": 0
      },
      "text/plain": [
       "Evaluating distortion17 (Severity 5):   0%|          | 0/157 [00:00<?, ?it/s]"
      ]
     },
     "metadata": {},
     "output_type": "display_data"
    },
    {
     "name": "stdout",
     "output_type": "stream",
     "text": [
      "distortion17 (Severity 5)\n"
     ]
    },
    {
     "data": {
      "application/vnd.jupyter.widget-view+json": {
       "model_id": "8223240a7c584630bf94a3b2f8ae5437",
       "version_major": 2,
       "version_minor": 0
      },
      "text/plain": [
       "Evaluating distortion18 (Severity 1):   0%|          | 0/157 [00:00<?, ?it/s]"
      ]
     },
     "metadata": {},
     "output_type": "display_data"
    },
    {
     "name": "stdout",
     "output_type": "stream",
     "text": [
      "distortion18 (Severity 1)\n"
     ]
    },
    {
     "data": {
      "application/vnd.jupyter.widget-view+json": {
       "model_id": "285abe96b1024e3990be5571698e918e",
       "version_major": 2,
       "version_minor": 0
      },
      "text/plain": [
       "Evaluating distortion18 (Severity 2):   0%|          | 0/157 [00:00<?, ?it/s]"
      ]
     },
     "metadata": {},
     "output_type": "display_data"
    },
    {
     "name": "stdout",
     "output_type": "stream",
     "text": [
      "distortion18 (Severity 2)\n"
     ]
    },
    {
     "data": {
      "application/vnd.jupyter.widget-view+json": {
       "model_id": "6864deca5ad44e6f889f63d4556a9e1b",
       "version_major": 2,
       "version_minor": 0
      },
      "text/plain": [
       "Evaluating distortion18 (Severity 3):   0%|          | 0/157 [00:00<?, ?it/s]"
      ]
     },
     "metadata": {},
     "output_type": "display_data"
    },
    {
     "name": "stdout",
     "output_type": "stream",
     "text": [
      "distortion18 (Severity 3)\n"
     ]
    },
    {
     "data": {
      "application/vnd.jupyter.widget-view+json": {
       "model_id": "2b2f2d663f3d43beb3b27b86ac39dc28",
       "version_major": 2,
       "version_minor": 0
      },
      "text/plain": [
       "Evaluating distortion18 (Severity 4):   0%|          | 0/157 [00:00<?, ?it/s]"
      ]
     },
     "metadata": {},
     "output_type": "display_data"
    },
    {
     "name": "stdout",
     "output_type": "stream",
     "text": [
      "distortion18 (Severity 4)\n"
     ]
    },
    {
     "data": {
      "application/vnd.jupyter.widget-view+json": {
       "model_id": "de59987f397941c39f549eed89563c88",
       "version_major": 2,
       "version_minor": 0
      },
      "text/plain": [
       "Evaluating distortion18 (Severity 5):   0%|          | 0/157 [00:00<?, ?it/s]"
      ]
     },
     "metadata": {},
     "output_type": "display_data"
    },
    {
     "name": "stdout",
     "output_type": "stream",
     "text": [
      "distortion18 (Severity 5)\n",
      "submission_ood_part3convnext_ep50.csv created successfully.\n"
     ]
    }
   ],
   "source": [
    "import torch\n",
    "import torch.nn as nn\n",
    "import torch.optim as optim\n",
    "import torchvision\n",
    "import torchvision.transforms as transforms\n",
    "from torchvision import models\n",
    "from tqdm.auto import tqdm\n",
    "import wandb\n",
    "import numpy as np\n",
    "import random\n",
    "import shutil\n",
    "import os\n",
    "\n",
    "# -----------------------------\n",
    "# Reproducibility\n",
    "# -----------------------------\n",
    "def set_seed(seed):\n",
    "    torch.manual_seed(seed)\n",
    "    np.random.seed(seed)\n",
    "    random.seed(seed)\n",
    "    if torch.cuda.is_available():\n",
    "        torch.cuda.manual_seed_all(seed)\n",
    "\n",
    "# -----------------------------\n",
    "# MC Dropout Prediction\n",
    "# -----------------------------\n",
    "def predict_with_mc_dropout(model, dataloader, CONFIG, T=1.5, num_passes=5):\n",
    "    model.train()  # Enable dropout during inference\n",
    "    all_probs = []\n",
    "    with torch.no_grad():\n",
    "        for _ in range(num_passes):\n",
    "            probs = []\n",
    "            for inputs, _ in dataloader:\n",
    "                inputs = inputs.to(CONFIG[\"device\"])\n",
    "                outputs = model(inputs) / T\n",
    "                probs.append(torch.softmax(outputs, dim=1).cpu())\n",
    "            all_probs.append(torch.cat(probs, dim=0))\n",
    "    return torch.stack(all_probs).mean(0)\n",
    "\n",
    "# -----------------------------\n",
    "# Training Function\n",
    "# -----------------------------\n",
    "def train(epoch, model, trainloader, optimizer, criterion, CONFIG):\n",
    "    device = CONFIG[\"device\"]\n",
    "    model.train()\n",
    "    running_loss, correct, total = 0.0, 0, 0\n",
    "    progress = tqdm(trainloader, desc=f\"Epoch {epoch+31}/50 [Train]\", leave=False)\n",
    "\n",
    "    for inputs, labels in progress:\n",
    "        inputs, labels = inputs.to(device), labels.to(device)\n",
    "\n",
    "        optimizer.zero_grad()\n",
    "        outputs = model(inputs)\n",
    "        loss = criterion(outputs, labels)\n",
    "        loss.backward()\n",
    "        optimizer.step()\n",
    "\n",
    "        running_loss += loss.item()\n",
    "        _, predicted = outputs.max(1)\n",
    "        total += labels.size(0)\n",
    "        correct += predicted.eq(labels).sum().item()\n",
    "\n",
    "        progress.set_postfix({\n",
    "            \"loss\": running_loss / (total / CONFIG[\"batch_size\"]),\n",
    "            \"acc\": 100. * correct / total\n",
    "        })\n",
    "\n",
    "    return running_loss / len(trainloader), 100. * correct / total\n",
    "\n",
    "# -----------------------------\n",
    "# Validation Function\n",
    "# -----------------------------\n",
    "def validate(model, valloader, criterion, CONFIG):\n",
    "    device = CONFIG[\"device\"]\n",
    "    model.eval()\n",
    "    running_loss, correct, total = 0.0, 0, 0\n",
    "\n",
    "    with torch.no_grad():\n",
    "        progress = tqdm(valloader, desc=\"[Validate]\", leave=False)\n",
    "        for inputs, labels in progress:\n",
    "            inputs, labels = inputs.to(device), labels.to(device)\n",
    "            outputs = model(inputs)\n",
    "            loss = criterion(outputs, labels)\n",
    "\n",
    "            running_loss += loss.item()\n",
    "            _, predicted = outputs.max(1)\n",
    "            total += labels.size(0)\n",
    "            correct += predicted.eq(labels).sum().item()\n",
    "\n",
    "            progress.set_postfix({\n",
    "                \"loss\": running_loss / (total / CONFIG[\"batch_size\"]),\n",
    "                \"acc\": 100. * correct / total\n",
    "            })\n",
    "\n",
    "    return running_loss / len(valloader), 100. * correct / total\n",
    "\n",
    "# -----------------------------\n",
    "# Main Function\n",
    "# -----------------------------\n",
    "def main():\n",
    "    CONFIG = {\n",
    "        \"model\": \"ConvNeXt_Tiny_Pretrained_FT\",\n",
    "        \"batch_size\": 64,\n",
    "        \"learning_rate\": 5e-5,\n",
    "        \"epochs\": 20,\n",
    "        \"num_workers\": 0,\n",
    "        \"device\": \"cuda\" if torch.cuda.is_available() else \"cpu\",\n",
    "        \"data_dir\": \"./data\",\n",
    "        \"ood_dir\": \"./data/ood-test\",\n",
    "        \"wandb_project\": \"sp25-ds542-challenge\",\n",
    "        \"seed\": 42,\n",
    "        \"temperature\": 1.5,\n",
    "        \"mc_passes\": 5,\n",
    "    }\n",
    "\n",
    "    set_seed(CONFIG[\"seed\"])\n",
    "\n",
    "    # -----------------------------\n",
    "    # Data Transforms (Augmentation)\n",
    "    # -----------------------------\n",
    "    transform_train = transforms.Compose([\n",
    "        transforms.RandomCrop(32, padding=4),\n",
    "        transforms.RandomHorizontalFlip(),\n",
    "        transforms.ColorJitter(0.2, 0.2, 0.2),\n",
    "        transforms.RandomRotation(10),\n",
    "        transforms.ToTensor(),\n",
    "        transforms.Normalize((0.5071, 0.4865, 0.4409), (0.2673, 0.2564, 0.2762)),\n",
    "    ])\n",
    "    transform_test = transforms.Compose([\n",
    "        transforms.ToTensor(),\n",
    "        transforms.Normalize((0.5071, 0.4865, 0.4409), (0.2673, 0.2564, 0.2762)),\n",
    "    ])\n",
    "\n",
    "    # -----------------------------\n",
    "    # Load CIFAR-100 Dataset\n",
    "    # -----------------------------\n",
    "    trainset_full = torchvision.datasets.CIFAR100(root=CONFIG[\"data_dir\"], train=True, download=True, transform=transform_train)\n",
    "    train_size = int(0.8 * len(trainset_full))\n",
    "    val_size = len(trainset_full) - train_size\n",
    "    trainset, valset = torch.utils.data.random_split(trainset_full, [train_size, val_size])\n",
    "\n",
    "    trainloader = torch.utils.data.DataLoader(trainset, batch_size=CONFIG[\"batch_size\"], shuffle=True, num_workers=CONFIG[\"num_workers\"])\n",
    "    valloader = torch.utils.data.DataLoader(valset, batch_size=CONFIG[\"batch_size\"], shuffle=False, num_workers=CONFIG[\"num_workers\"])\n",
    "    testset = torchvision.datasets.CIFAR100(root=CONFIG[\"data_dir\"], train=False, download=True, transform=transform_test)\n",
    "    testloader = torch.utils.data.DataLoader(testset, batch_size=CONFIG[\"batch_size\"], shuffle=False, num_workers=CONFIG[\"num_workers\"])\n",
    "\n",
    "    # -----------------------------\n",
    "    # Define Model & Load Checkpoint\n",
    "    # -----------------------------\n",
    "    model = models.convnext_tiny(weights=models.ConvNeXt_Tiny_Weights.IMAGENET1K_V1)\n",
    "    model.classifier[2] = nn.Linear(model.classifier[2].in_features, 100)\n",
    "    model = model.to(CONFIG[\"device\"])\n",
    "    \n",
    "    checkpoint_path = \"best_model_part3_convnext_ep30.pth\"\n",
    "    model.load_state_dict(torch.load(checkpoint_path, map_location=CONFIG[\"device\"]))\n",
    "    print(f\"Loaded model weights from: {checkpoint_path}\")\n",
    "\n",
    "\n",
    "    criterion = nn.CrossEntropyLoss(label_smoothing=0.1)\n",
    "    optimizer = optim.AdamW(model.parameters(), lr=CONFIG[\"learning_rate\"], weight_decay=1e-4)\n",
    "    scheduler = optim.lr_scheduler.CosineAnnealingLR(optimizer, T_max=CONFIG[\"epochs\"])\n",
    "\n",
    "    # -----------------------------\n",
    "    # W&B Setup\n",
    "    # -----------------------------\n",
    "    wandb.init(project=CONFIG[\"wandb_project\"], config=CONFIG, name=\"ConvNeXtTiny Ep50\")\n",
    "    wandb.watch(model)\n",
    "\n",
    "    best_val_acc = 0.0\n",
    "    for epoch in range(CONFIG[\"epochs\"]):\n",
    "        train_loss, train_acc = train(epoch, model, trainloader, optimizer, criterion, CONFIG)\n",
    "        val_loss, val_acc = validate(model, valloader, criterion, CONFIG)\n",
    "        scheduler.step()\n",
    "\n",
    "        wandb.log({\n",
    "            \"epoch\": epoch + 31,\n",
    "            \"train_loss\": train_loss,\n",
    "            \"train_acc\": train_acc,\n",
    "            \"val_loss\": val_loss,\n",
    "            \"val_acc\": val_acc,\n",
    "            \"lr\": optimizer.param_groups[0][\"lr\"]\n",
    "        })\n",
    "\n",
    "        if val_acc > best_val_acc:\n",
    "            best_val_acc = val_acc\n",
    "            torch.save(model.state_dict(), \"best_model_part3_convnext_ep50.pth\")\n",
    "            wandb.save(\"best_model_part3_convnext_ep50.pth\")\n",
    "\n",
    "    wandb.finish()\n",
    "\n",
    "    # -----------------------------\n",
    "    # Evaluation & Submission\n",
    "    # -----------------------------\n",
    "    import eval_cifar100\n",
    "    import eval_ood\n",
    "\n",
    "    shutil.copy(\"best_model_part3_convnext_ep50.pth\", \"best_model.pth\")\n",
    "\n",
    "    predictions, clean_accuracy = eval_cifar100.evaluate_cifar100_test(model, testloader, CONFIG[\"device\"])\n",
    "    print(f\"Clean CIFAR-100 Test Accuracy (MC Dropout + T={CONFIG['temperature']}): {clean_accuracy:.2f}%\")\n",
    "\n",
    "    all_predictions = eval_ood.evaluate_ood_test(model, CONFIG)\n",
    "    submission_df_ood = eval_ood.create_ood_df(all_predictions)\n",
    "    submission_df_ood.to_csv(\"submission_ood_part3convnext_ep50.csv\", index=False)\n",
    "    print(\"submission_ood_part3convnext_ep50.csv created successfully.\")\n",
    "\n",
    "if __name__ == '__main__':\n",
    "    main()\n"
   ]
  },
  {
   "cell_type": "code",
   "execution_count": null,
   "id": "c1707207-cd37-484b-a01d-b0a76c3f07d7",
   "metadata": {},
   "outputs": [],
   "source": []
  }
 ],
 "metadata": {
  "kernelspec": {
   "display_name": "Python 3 (ipykernel)",
   "language": "python",
   "name": "python3"
  },
  "language_info": {
   "codemirror_mode": {
    "name": "ipython",
    "version": 3
   },
   "file_extension": ".py",
   "mimetype": "text/x-python",
   "name": "python",
   "nbconvert_exporter": "python",
   "pygments_lexer": "ipython3",
   "version": "3.10.12"
  }
 },
 "nbformat": 4,
 "nbformat_minor": 5
}
